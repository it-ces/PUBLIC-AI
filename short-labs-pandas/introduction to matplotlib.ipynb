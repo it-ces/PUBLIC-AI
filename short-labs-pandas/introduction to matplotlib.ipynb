{
 "cells": [
  {
   "cell_type": "markdown",
   "metadata": {},
   "source": [
    "# Basic python plotting using matplotlib\n",
    "\n",
    "### Iván andrés trujillo abella\n",
    "\n",
    "Data Visualization play a important role to teach  stastical concepts, to inform about a epidemiological trend, to track the share in market, or even to share economical theories, and here appear Python again but joint matplotlib. \n",
    "Thera are other libraries as **seaborn** that are quite good, but by simplicity and not load much libraries, we only see matplotlib.\n",
    "\n",
    "**Matplolib** it is open source library, designed to 2D and 3D graphs.  It is a powerful tool but due the expansion we can find a lot of not convergence documentation since the library have several ways of get the same graph and for this reason, sometimes this turn out confusing to new users. However, once time that you are familiar with some examples this will very easy and intuitive.\n",
    "\n",
    "To start we are going to  import the library  in the following way:\n",
    "```python\n",
    "import matplotlib.pyplot as plt\n",
    "```\n",
    "However, to work with data we need more libraries, in this case we add up only two; **pandas** and **os**.\n"
   ]
  },
  {
   "cell_type": "code",
   "execution_count": 2,
   "metadata": {},
   "outputs": [],
   "source": [
    "# Working with data\n",
    "import os\n",
    "import pandas as pd\n",
    "import numpy as np\n",
    "import matplotlib.pyplot as plt"
   ]
  },
  {
   "cell_type": "markdown",
   "metadata": {},
   "source": [
    "Now we will se how make the plots directly in a pandas Data Frame.\n",
    "If you do not know still how load your data see this article [click](https://medium.com/@ivanandrestrujillo/minimal-guideline-to-get-descriptive-statistics-using-python-8ede26a7146d)"
   ]
  },
  {
   "cell_type": "code",
   "execution_count": 3,
   "metadata": {},
   "outputs": [
    {
     "name": "stdout",
     "output_type": "stream",
     "text": [
      "   x  y\n",
      "0  1  2\n",
      "1  2  4\n",
      "2  3  6\n",
      "3  4  8\n"
     ]
    }
   ],
   "source": [
    "data=[[1,2],[2,4],[3,6],[4,8]]\n",
    "df=pd.DataFrame(data, columns=['x','y'])\n",
    "print(df)"
   ]
  },
  {
   "cell_type": "markdown",
   "metadata": {},
   "source": [
    "### Plotting lines\n",
    "**plt.plot([x],y, 'string_format')**, where *x* and *y* must be *iterable objects* or *scalars*, and *format* allow us spcecify color, and styles of plots.\n",
    "\n",
    "In this case we are interested in plot the variable *x* and *y* that are .series and therefore are iterable objects."
   ]
  },
  {
   "cell_type": "code",
   "execution_count": 4,
   "metadata": {},
   "outputs": [
    {
     "data": {
      "text/plain": [
       "[<matplotlib.lines.Line2D at 0x7f21bcdd8610>]"
      ]
     },
     "execution_count": 4,
     "metadata": {},
     "output_type": "execute_result"
    },
    {
     "data": {
      "image/png": "[encoded data removed]",
      "text/plain": [
       "<Figure size 432x288 with 1 Axes>"
      ]
     },
     "metadata": {
      "needs_background": "light"
     },
     "output_type": "display_data"
    }
   ],
   "source": [
    "plt.plot(df[\"x\"], df[\"y\"])"
   ]
  },
  {
   "cell_type": "markdown",
   "metadata": {},
   "source": [
    "Note that definition of the function **plt.plot** we have the first array as optional $([x])$ because of  when you do not pass the x array then it assumes that is a sequence of natural numbers  or that x = 0,1,2,3......n. and therefore it is produce the same graph.\n",
    "\n",
    "\n"
   ]
  },
  {
   "cell_type": "markdown",
   "metadata": {
    "scrolled": true
   },
   "source": [
    "``` python\n",
    "plt.plot(df[\"y\"])\n",
    "``` "
   ]
  },
  {
   "cell_type": "markdown",
   "metadata": {},
   "source": [
    "**plt.plot()** also call the variables using the following syntax:\n",
    "```python\n",
    "plt.plot('x','y', data=df)\n",
    "```\n",
    "In sometimes this definition could be very useful, to do it the same graph across several time units.\n",
    "\n",
    "### 'string_formart' \n",
    "This option allow us customize the graph. We can change the color of line or the marker. This string format have two parameters color and style: 'color marker_style'"
   ]
  },
  {
   "cell_type": "code",
   "execution_count": 5,
   "metadata": {},
   "outputs": [
    {
     "data": {
      "text/plain": [
       "[<matplotlib.lines.Line2D at 0x7f21bcd7f160>]"
      ]
     },
     "execution_count": 5,
     "metadata": {},
     "output_type": "execute_result"
    },
    {
     "data": {
      "image/png": "[encoded data removed]",
      "text/plain": [
       "<Figure size 432x288 with 1 Axes>"
      ]
     },
     "metadata": {
      "needs_background": "light"
     },
     "output_type": "display_data"
    }
   ],
   "source": [
    "plt.plot(df[\"y\"],'r-.')"
   ]
  },
  {
   "cell_type": "markdown",
   "metadata": {},
   "source": [
    "There are different combinatios of style that you can see in the official page of matplotllib:\n",
    "\n",
    "#### Colors:\n",
    "* r Red\n",
    "* c Cyan\n",
    "* b Blue\n",
    "* g Green\n",
    "\n",
    "#### Markers:\n",
    "* *\n",
    "* ^ \n",
    "* s\n",
    "* -.\n",
    "* .-\n",
    "* --\n"
   ]
  },
  {
   "cell_type": "markdown",
   "metadata": {},
   "source": [
    "You can plot two trend or variables in a only one diagram and also you can specify different pairs x,y, x,z.... and so on.\n"
   ]
  },
  {
   "cell_type": "code",
   "execution_count": 6,
   "metadata": {},
   "outputs": [
    {
     "name": "stdout",
     "output_type": "stream",
     "text": [
      "   x  y\n",
      "0  1  2\n",
      "1  2  4\n",
      "2  3  6\n",
      "3  4  8\n"
     ]
    }
   ],
   "source": [
    "print(df)   # We are going to create a thir variable "
   ]
  },
  {
   "cell_type": "code",
   "execution_count": 7,
   "metadata": {},
   "outputs": [
    {
     "name": "stdout",
     "output_type": "stream",
     "text": [
      "   x  y   z\n",
      "0  1  2   1\n",
      "1  2  4   4\n",
      "2  3  6   9\n",
      "3  4  8  16\n"
     ]
    }
   ],
   "source": [
    "df[\"z\"] = df[\"x\"] **2\n",
    "\n",
    "print(df)"
   ]
  },
  {
   "cell_type": "code",
   "execution_count": 8,
   "metadata": {},
   "outputs": [
    {
     "data": {
      "text/plain": [
       "[<matplotlib.lines.Line2D at 0x7f21b8c44670>,\n",
       " <matplotlib.lines.Line2D at 0x7f21b8c446d0>]"
      ]
     },
     "execution_count": 8,
     "metadata": {},
     "output_type": "execute_result"
    },
    {
     "data": {
      "image/png": "[encoded data removed]",
      "text/plain": [
       "<Figure size 432x288 with 1 Axes>"
      ]
     },
     "metadata": {
      "needs_background": "light"
     },
     "output_type": "display_data"
    }
   ],
   "source": [
    "plt.plot(df[\"x\"], df[\"y\"], 'r--', df[\"x\"],df[\"z\"] ,'b-.')"
   ]
  },
  {
   "cell_type": "markdown",
   "metadata": {},
   "source": [
    "the following snippet of code used **np.arange()** and list comprehension if you dont know still that this means, dont care, soon we will talk about them."
   ]
  },
  {
   "cell_type": "code",
   "execution_count": 9,
   "metadata": {},
   "outputs": [
    {
     "data": {
      "text/plain": [
       "[<matplotlib.lines.Line2D at 0x7f21b8c302b0>,\n",
       " <matplotlib.lines.Line2D at 0x7f21b8c302e0>]"
      ]
     },
     "execution_count": 9,
     "metadata": {},
     "output_type": "execute_result"
    },
    {
     "data": {
      "image/png": "[encoded data removed]",
      "text/plain": [
       "<Figure size 432x288 with 1 Axes>"
      ]
     },
     "metadata": {
      "needs_background": "light"
     },
     "output_type": "display_data"
    }
   ],
   "source": [
    "import numpy as np\n",
    "x=np.arange(1,12,1)\n",
    "exp=[2.14**x for x in range(1,12)]\n",
    "log=[np.log(x) for x in range(1,12)]\n",
    "plt.plot(x,exp, 'rs', x,log, 'b^')"
   ]
  },
  {
   "cell_type": "markdown",
   "metadata": {},
   "source": [
    " **np.arange(start, end, delta)** it is used to create array of numbers thar beginning in **start** and end up in **end** with increments of **delta**."
   ]
  },
  {
   "cell_type": "code",
   "execution_count": 10,
   "metadata": {},
   "outputs": [
    {
     "name": "stdout",
     "output_type": "stream",
     "text": [
      "[1 2 3 4 5 6 7 8 9]\n"
     ]
    }
   ],
   "source": [
    "x=np.arange(1,10,1)\n",
    "print(x) # Increments of one in one."
   ]
  },
  {
   "cell_type": "code",
   "execution_count": 11,
   "metadata": {},
   "outputs": [
    {
     "name": "stdout",
     "output_type": "stream",
     "text": [
      "[1 3 5 7 9]\n",
      "<class 'numpy.ndarray'>\n"
     ]
    }
   ],
   "source": [
    "x2=np.arange(1,10,2)\n",
    "print(x2) # Increments of two in two.\n",
    "print(type(x2))  #Note that the object created it is a ndarray."
   ]
  },
  {
   "cell_type": "markdown",
   "metadata": {},
   "source": [
    "A list comprehension it is fasst way to create lists, you can see a detailed explanation in  a [click](https://realpython.com/list-comprehension-python/). Nonethenless, we try to explain (to new users) with some examples:\n",
    "we are going to create a list with five consecutive numbers:\n"
   ]
  },
  {
   "cell_type": "code",
   "execution_count": 12,
   "metadata": {},
   "outputs": [],
   "source": [
    "list1=[1,2,3,4,5]"
   ]
  },
  {
   "cell_type": "markdown",
   "metadata": {},
   "source": [
    "However we can create the same list using list comprehension."
   ]
  },
  {
   "cell_type": "code",
   "execution_count": 13,
   "metadata": {
    "scrolled": true
   },
   "outputs": [
    {
     "name": "stdout",
     "output_type": "stream",
     "text": [
      "[1, 4, 9, 16, 25]\n"
     ]
    }
   ],
   "source": [
    "list2=[x**2 for x in range(1,6)]\n",
    "print(list2)"
   ]
  },
  {
   "cell_type": "markdown",
   "metadata": {},
   "source": [
    "Note that this could save us a lot of time if we need create a long list of consecutive numbers.\n",
    "But the powerful of a list comprenhesion is it we create n-arrays with some features or conditions in one single line statement for instance:"
   ]
  },
  {
   "cell_type": "code",
   "execution_count": 14,
   "metadata": {},
   "outputs": [
    {
     "name": "stdout",
     "output_type": "stream",
     "text": [
      "[0, 1, 4, 9, 16]\n"
     ]
    }
   ],
   "source": [
    "list3=[x**2 for x in range(5)]\n",
    "print(list3)\n"
   ]
  },
  {
   "cell_type": "markdown",
   "metadata": {},
   "source": [
    "We created a list that contained the sequence of numbers from 0 to 4 at squared, part of its  general form is \n",
    " ```python\n",
    " [exp(x) for x in range(#)]\n",
    " ```\n",
    "where **exp(x)** it is a expression that rely on in x, for instance; $x^n$ o $log(x)$ also is important mentioned that this coluld be a n-array for instance we can create a list whose elements  are list  also.  for this case we will create a list of \n",
    "$ f(x) = \\frac{log(x)}{1+x}$ evaluating the numbers from 1 to 10.\n",
    "\n",
    "```python\n",
    "fx=[np.log(x)/(1+x) for x in range(1,10)]\n",
    "```\n",
    "Now we can interest in only plot the graph of $f(x)$ in even numbers, the we need sum up structures to the sintax.\n",
    "\n",
    "```python\n",
    "  [exp(x) in range(#) if cond(x)]\n",
    "```\n",
    "to see how this work, first we can create a list of even numbers of 1,10."
   ]
  },
  {
   "cell_type": "code",
   "execution_count": 15,
   "metadata": {
    "scrolled": true
   },
   "outputs": [
    {
     "name": "stdout",
     "output_type": "stream",
     "text": [
      "[2, 4, 6, 8, 10]\n"
     ]
    }
   ],
   "source": [
    "evens=[x for x in range(1,11) if x%2==0]\n",
    "print(evens)"
   ]
  },
  {
   "cell_type": "markdown",
   "metadata": {},
   "source": [
    "We are using three built-in funciton if still dont have working with them, then could read this article lambda, map and zip.\n"
   ]
  },
  {
   "cell_type": "code",
   "execution_count": 16,
   "metadata": {},
   "outputs": [
    {
     "data": {
      "text/plain": [
       "[<matplotlib.lines.Line2D at 0x7f21b8b807f0>]"
      ]
     },
     "execution_count": 16,
     "metadata": {},
     "output_type": "execute_result"
    },
    {
     "data": {
      "image/png": "[encoded data removed]",
      "text/plain": [
       "<Figure size 432x288 with 1 Axes>"
      ]
     },
     "metadata": {
      "needs_background": "light"
     },
     "output_type": "display_data"
    }
   ],
   "source": [
    "graph=[(x,x**5) for x in range(2,40) if x%2==0]\n",
    "plt.plot(*zip(*graph))"
   ]
  },
  {
   "cell_type": "markdown",
   "metadata": {},
   "source": [
    "Now will be intercheagle the objects to make plots since a list, or series that the type of the columns or variables in a pandas dataframe since they are iterable objects."
   ]
  },
  {
   "cell_type": "markdown",
   "metadata": {},
   "source": [
    "## Histogram\n",
    "\n",
    "A histogram it is used to see the distribution of the values of the variables.\n",
    "for this we can used **plt.hist()**.\n",
    "the function **numpy.random.randn()** it is a function that return ramdon samples of a uniform distribution [0,1]. \n",
    "We are going to create a variable for the base and denominated as $fx$, indicating that this is a floating point number."
   ]
  },
  {
   "cell_type": "code",
   "execution_count": 17,
   "metadata": {},
   "outputs": [],
   "source": [
    "### Histogram\n",
    "df2=pd.DataFrame()  # Creating a empty dataframe\n",
    "df2[\"fx\"]=np.random.randn(20)\n"
   ]
  },
  {
   "cell_type": "code",
   "execution_count": 18,
   "metadata": {},
   "outputs": [
    {
     "data": {
      "text/plain": [
       "(array([1., 5., 1., 3., 1., 1., 2., 3., 2., 1.]),\n",
       " array([-1.46566828, -1.1882009 , -0.91073352, -0.63326614, -0.35579876,\n",
       "        -0.07833138,  0.199136  ,  0.47660338,  0.75407076,  1.03153814,\n",
       "         1.30900552]),\n",
       " <a list of 10 Patch objects>)"
      ]
     },
     "execution_count": 18,
     "metadata": {},
     "output_type": "execute_result"
    },
    {
     "data": {
      "image/png": "[encoded data removed]",
      "text/plain": [
       "<Figure size 432x288 with 1 Axes>"
      ]
     },
     "metadata": {
      "needs_background": "light"
     },
     "output_type": "display_data"
    }
   ],
   "source": [
    "plt.hist(df2[\"fx\"])"
   ]
  },
  {
   "cell_type": "markdown",
   "metadata": {},
   "source": [
    "We now include the parameter bin=# to establish the number of rectangles that will been drawn.\n",
    "\n",
    "* bins\n",
    "* density()\n",
    "* color\n",
    "* label \n"
   ]
  },
  {
   "cell_type": "code",
   "execution_count": 19,
   "metadata": {},
   "outputs": [
    {
     "data": {
      "text/plain": [
       "(array([0.06810835, 0.1362167 , 0.40865009, 0.47675843, 0.20432504]),\n",
       " array([-2.15161487, -1.37885234, -0.60608981,  0.16667272,  0.93943524,\n",
       "         1.71219777]),\n",
       " <a list of 5 Patch objects>)"
      ]
     },
     "execution_count": 19,
     "metadata": {},
     "output_type": "execute_result"
    },
    {
     "data": {
      "image/png": "[encoded data removed]",
      "text/plain": [
       "<Figure size 432x288 with 1 Axes>"
      ]
     },
     "metadata": {
      "needs_background": "light"
     },
     "output_type": "display_data"
    }
   ],
   "source": [
    "import matplotlib.pyplot as plt\n",
    "import numpy as np\n",
    "y=np.random.randn(19)\n",
    "plt.hist(y, bins=5 , density=True , color='green')  # By default bins=10 "
   ]
  },
  {
   "cell_type": "markdown",
   "metadata": {},
   "source": [
    "## Bar chart\n",
    "The bar chart is used to represent."
   ]
  },
  {
   "cell_type": "code",
   "execution_count": 20,
   "metadata": {},
   "outputs": [
    {
     "data": {
      "text/plain": [
       "<BarContainer object of 10 artists>"
      ]
     },
     "execution_count": 20,
     "metadata": {},
     "output_type": "execute_result"
    },
    {
     "data": {
      "image/png": "[encoded data removed]",
      "text/plain": [
       "<Figure size 432x288 with 1 Axes>"
      ]
     },
     "metadata": {
      "needs_background": "light"
     },
     "output_type": "display_data"
    }
   ],
   "source": [
    "##BAR CHART\n",
    "plt.bar([x for x in range(10)],[x**2 for x in range(10)])"
   ]
  },
  {
   "cell_type": "markdown",
   "metadata": {},
   "source": [
    "We can modify the value of the parameter width=.8 by default.\n",
    "color.\n"
   ]
  },
  {
   "cell_type": "markdown",
   "metadata": {},
   "source": [
    "## Scatter plot\n",
    "A scatter plot belong to the kind of plot that allow us used to see relationship among the variables.\n"
   ]
  },
  {
   "cell_type": "code",
   "execution_count": 21,
   "metadata": {},
   "outputs": [
    {
     "data": {
      "text/plain": [
       "<matplotlib.collections.PathCollection at 0x7f21b8a19fd0>"
      ]
     },
     "execution_count": 21,
     "metadata": {},
     "output_type": "execute_result"
    },
    {
     "data": {
      "image/png": "[encoded data removed]",
      "text/plain": [
       "<Figure size 432x288 with 1 Axes>"
      ]
     },
     "metadata": {
      "needs_background": "light"
     },
     "output_type": "display_data"
    }
   ],
   "source": [
    "## Scatter plot\n",
    "#A scatter plot it is usually used to display if there is a recognized pattern between two variables\n",
    "l=lambda x: x*np.random.rand()\n",
    "plt.scatter([x for x in range(30)],[l(x) for x in range(30)])"
   ]
  },
  {
   "cell_type": "markdown",
   "metadata": {},
   "source": [
    "so far, we can define different kind of plots now we can define the range with axis(xmin,xman,ymin,ymax) and the title of these charts.\n"
   ]
  },
  {
   "cell_type": "markdown",
   "metadata": {},
   "source": [
    "\n"
   ]
  },
  {
   "cell_type": "markdown",
   "metadata": {},
   "source": [
    "## Boxplot\n",
    "The boxplot it is very useful when you graph measures of relative position, quantirles ( 25, 75), in research boxplot is used to compare the distribution of the variable among two groups."
   ]
  },
  {
   "cell_type": "code",
   "execution_count": 46,
   "metadata": {
    "scrolled": false
   },
   "outputs": [
    {
     "data": {
      "text/plain": [
       "{'whiskers': [<matplotlib.lines.Line2D at 0x7f21b7b10370>,\n",
       "  <matplotlib.lines.Line2D at 0x7f21b7b10940>,\n",
       "  <matplotlib.lines.Line2D at 0x7f21b89bd3d0>,\n",
       "  <matplotlib.lines.Line2D at 0x7f21b89cc8b0>],\n",
       " 'caps': [<matplotlib.lines.Line2D at 0x7f21b7a99640>,\n",
       "  <matplotlib.lines.Line2D at 0x7f21b7a99940>,\n",
       "  <matplotlib.lines.Line2D at 0x7f21b88367c0>,\n",
       "  <matplotlib.lines.Line2D at 0x7f21b7a337c0>],\n",
       " 'boxes': [<matplotlib.lines.Line2D at 0x7f21b7b26370>,\n",
       "  <matplotlib.lines.Line2D at 0x7f21b7b49910>],\n",
       " 'medians': [<matplotlib.lines.Line2D at 0x7f21b8478640>,\n",
       "  <matplotlib.lines.Line2D at 0x7f21b7a331f0>],\n",
       " 'fliers': [<matplotlib.lines.Line2D at 0x7f21b7b0c5e0>,\n",
       "  <matplotlib.lines.Line2D at 0x7f21b8511e80>],\n",
       " 'means': []}"
      ]
     },
     "execution_count": 46,
     "metadata": {},
     "output_type": "execute_result"
    },
    {
     "data": {
      "image/png": "[encoded data removed]",
      "text/plain": [
       "<Figure size 432x288 with 1 Axes>"
      ]
     },
     "metadata": {
      "needs_background": "light"
     },
     "output_type": "display_data"
    }
   ],
   "source": [
    "t=[np.random.rand() + 0.3 for z in range(40)]\n",
    "nt=[np.random.rand()  for z in range(40)]\n",
    "data=[t,nt]\n",
    "plt.boxplot(data)\n"
   ]
  },
  {
   "cell_type": "markdown",
   "metadata": {},
   "source": [
    "in spite of the easily way, maybe sometimes the data looks like thus: is better plot directly of the pandas functionality, as we will see in a while:\n"
   ]
  },
  {
   "cell_type": "code",
   "execution_count": 114,
   "metadata": {},
   "outputs": [
    {
     "name": "stdout",
     "output_type": "stream",
     "text": [
      "   treatment       BMI\n",
      "0          1  0.358080\n",
      "1          0  0.465317\n",
      "2          0  0.433269\n",
      "3          1  0.773061\n",
      "4          1  0.581204\n"
     ]
    },
    {
     "data": {
      "text/plain": [
       "matplotlib.axes._subplots.AxesSubplot"
      ]
     },
     "execution_count": 114,
     "metadata": {},
     "output_type": "execute_result"
    },
    {
     "data": {
      "image/png": "[encoded data removed]",
      "text/plain": [
       "<Figure size 432x288 with 1 Axes>"
      ]
     },
     "metadata": {
      "needs_background": "light"
     },
     "output_type": "display_data"
    }
   ],
   "source": [
    "# Create a datasaet to import see how compare using boxplot.\n",
    "base=[[np.random.randint(0,2),np.random.rand()] for x in range(40)]\n",
    "df=pd.DataFrame(base, columns=[\"treatment\",\"BMI\"])\n",
    "print(df.head())\n",
    "a=df.boxplot(\"BMI\", by=\"treatment\", grid=False)"
   ]
  },
  {
   "cell_type": "code",
   "execution_count": null,
   "metadata": {},
   "outputs": [],
   "source": [
    "z= y=[np.random.rand() + 2 for z in range(40)]\n"
   ]
  },
  {
   "cell_type": "markdown",
   "metadata": {},
   "source": [
    "# Features and another things\n",
    "kwargs, are default values  _matplotlib.pyplot.plot(*args, *kwargs)_ \n",
    "you can try line width: label, marker, gid, animated.\n",
    "\n",
    "\n",
    "### subplot()\n",
    "The arguments supported by subplot(a,b,c) a how many columns b how many rows and c what is the current subplot.\n",
    "in the folllowing picture you will see that subplot it is indicating tha the following graph occupy a space in a diagram, of a columns and b rows and actually this is the c plot.\n"
   ]
  },
  {
   "cell_type": "code",
   "execution_count": 127,
   "metadata": {
    "scrolled": true
   },
   "outputs": [
    {
     "name": "stderr",
     "output_type": "stream",
     "text": [
      "<ipython-input-127-120b80b5c609>:3: RuntimeWarning: divide by zero encountered in log\n",
      "  log=list(map(np.log,x))\n"
     ]
    },
    {
     "data": {
      "text/plain": [
       "[<matplotlib.lines.Line2D at 0x7f21b71f6280>]"
      ]
     },
     "execution_count": 127,
     "metadata": {},
     "output_type": "execute_result"
    },
    {
     "data": {
      "image/png": "[encoded data removed]",
      "text/plain": [
       "<Figure size 432x288 with 2 Axes>"
      ]
     },
     "metadata": {
      "needs_background": "light"
     },
     "output_type": "display_data"
    }
   ],
   "source": [
    "x=[x for x in range(100)]\n",
    "exp=list(map(lambda t: t**2 , x))\n",
    "log=list(map(np.log,x))\n",
    "plt.subplot(2,1,1)\n",
    "plt.plot(x,exp,'g-.')\n",
    "plt.subplot(2,1,2)\n",
    "plt.plot(x,log, 'r--')\n",
    "plt.show()"
   ]
  },
  {
   "cell_type": "markdown",
   "metadata": {},
   "source": [
    "the function *xlabel()* and *ylabel()* allow us put more information about the graph\n"
   ]
  },
  {
   "cell_type": "code",
   "execution_count": 128,
   "metadata": {},
   "outputs": [
    {
     "data": {
      "text/plain": [
       "Text(0, 0.5, 'Logarithm function')"
      ]
     },
     "execution_count": 128,
     "metadata": {},
     "output_type": "execute_result"
    },
    {
     "data": {
      "image/png": "[encoded data removed]",
      "text/plain": [
       "<Figure size 432x288 with 2 Axes>"
      ]
     },
     "metadata": {
      "needs_background": "light"
     },
     "output_type": "display_data"
    }
   ],
   "source": [
    "plt.suptitle(\"Inverse relation\")\n",
    "plt.subplot(2,1,1)\n",
    "plt.plot(x,exp,'g-.')\n",
    "plt.ylabel(\"Exponential function\")\n",
    "plt.subplot(2,1,2)\n",
    "plt.plot(x,log, 'r--')\n",
    "plt.xlabel(\"X-axis\")\n",
    "plt.ylabel(\"Logarithm function\" fontsize=20))\n",
    "plt.show()"
   ]
  },
  {
   "cell_type": "markdown",
   "metadata": {},
   "source": [
    "thera are some paremter supported by string in this options, as **fontsize,fontname,color**  we can add fontzie"
   ]
  },
  {
   "cell_type": "markdown",
   "metadata": {},
   "source": [
    "Sometimes we need add text in a specfic part of the graph in this case we can use the function **text(x-coordente,y-coordenate, \"string to add\")**\n",
    "\n"
   ]
  },
  {
   "cell_type": "markdown",
   "metadata": {},
   "source": [
    "to put mathematical equations in latex only enclosed the words in this format in $$.\n",
    "and to the string expression preced the r(raw data). the alpha put as conky the level of transparency."
   ]
  },
  {
   "cell_type": "markdown",
   "metadata": {},
   "source": [
    "we could change the size of figure using figsize whose parameter are heitgh and weight.\n",
    "the units are inches."
   ]
  },
  {
   "cell_type": "code",
   "execution_count": 135,
   "metadata": {},
   "outputs": [
    {
     "data": {
      "image/png": "[encoded data removed]",
      "text/plain": [
       "<Figure size 576x432 with 1 Axes>"
      ]
     },
     "metadata": {
      "needs_background": "light"
     },
     "output_type": "display_data"
    },
    {
     "data": {
      "text/plain": [
       "<Figure size 432x288 with 0 Axes>"
      ]
     },
     "metadata": {},
     "output_type": "display_data"
    }
   ],
   "source": [
    "### Save and equilibrium in economics growth\n",
    "x=np.arange(30)\n",
    "A=6\n",
    "y=list(map(lambda z: A*(z**(1/2)),x))\n",
    "save=0.7\n",
    "sy = np.array(y) * save\n",
    "plt.figure(figsize=(8,6))\n",
    "plt.text(17,17,\"* Eqilibrium Point\")\n",
    "plt.text(2,22,r\"$y= \\sqrt{x}$ \", fontsize=25 ,bbox={'alpha':0})\n",
    "plt.axis([0,25, 0,30])\n",
    "eq=plt.plot(x,y,x,x,x,sy)\n",
    "plt.xlabel(\"Capital\", fontsize=15)\n",
    "plt.ylabel(\"Ouput level\", fontsize=15)\n",
    "plt.legend(['Production','Savings'],loc=4)\n",
    "plt.title(\"Cobb-Douglas Production Function \", fontsize=20)\n",
    "#%save cobb_douglas.py 124\n",
    "plt.show()\n",
    "plt.savefig(\"image.png\")\n"
   ]
  },
  {
   "cell_type": "markdown",
   "metadata": {},
   "source": [
    "#How can save the charts?\n",
    "We can save the image in HTML. \n"
   ]
  },
  {
   "cell_type": "code",
   "execution_count": null,
   "metadata": {},
   "outputs": [],
   "source": [
    "## fig, ax\n",
    "when you are calling the os.chdir(in windows you must antepose r.) to avoid special charactes."
   ]
  },
  {
   "cell_type": "markdown",
   "metadata": {},
   "source": [
    "Really there are three differente ways of using matplotlib\n",
    "* pyplot\n",
    "* pylab\n",
    "* Object -Oriented way(OO)\n",
    "\n",
    "**OO** is the most complex way of write to matplotlib.\n",
    "\n",
    "A figure is composed of three obejcts: \n",
    "* figure canvas  (Class of figure)\n",
    "* figure         (container for axes)\n",
    "* axes (Rectangular areas in figure)\n",
    "\n",
    "plt.figure() serve to make the instance of figure.\n",
    "we can add axes.\n",
    "add_subplot(rows,columns)"
   ]
  },
  {
   "cell_type": "code",
   "execution_count": 136,
   "metadata": {},
   "outputs": [
    {
     "data": {
      "image/png": "[encoded data removed]",
      "text/plain": [
       "<Figure size 432x288 with 2 Axes>"
      ]
     },
     "metadata": {
      "needs_background": "light"
     },
     "output_type": "display_data"
    }
   ],
   "source": [
    "# Note that the differences increase with X.\n",
    "fig=plt.figure()\n",
    "ax0=fig.add_subplot(121)\n",
    "ax0.plot([x for x in range(10)],[x**2 for x in range(10)],'r')\n",
    "ax2=fig.add_subplot(122)\n",
    "ax0.plot([x for x in range(10)],[-(x**2) for x in range(10)],'b')\n",
    "ax2.plot([x for x in range(10)],[x for x in range(10)], 'bo')\n",
    "ax2.plot([x for x in range(10)],[-x for x in range(10)], 'ro')\n",
    "plt.show()"
   ]
  },
  {
   "cell_type": "markdown",
   "metadata": {},
   "source": [
    "research in matplotlib.\n",
    "what it is rcParams?\n",
    "\n",
    "## Why it is important, this is very important due to analytics we need to focus in share a good data representation and with combinatorial matematics and other point of view we can plot this.\n",
    "\n",
    "Think that this library is **OO** and therefore \n",
    "\n",
    "\n",
    "#words\n",
    "laying out=tendido, exponer, trazar.\n",
    "wrapper=envoltura,bata\n",
    "common layouts=diseños comunes.\n",
    "grid=cuadricula\n",
    "\n",
    "\n",
    "\n",
    "\n",
    "Axes is the plotting area, \n",
    "suplot it is special cases of AXES. \n",
    "add_axes([left, bottom, width, height])\n",
    "\n",
    "According to the documentation subplots() return a figure and single Axes.\n",
    "what they are?\n",
    "\n",
    "First we must know that a chart or graphic it is composed of different parts. \n",
    "and figure it is the container to all this properties.\n",
    "And axes (class) contain a lot of attributes from the \"rectangle\" namely in the plot area as title() and the line to plot.\n",
    "\n",
    "therefore if we want create two lines we need to axes.\n",
    "\n",
    "\n",
    "\n",
    "\n",
    "Axes contain axis, Line2D, text, and other features in a graph.\n",
    "this are the kwargs (values by default):\n",
    "* alpha\n",
    "* facecolor\n",
    "* grid\n",
    "* label\n",
    "* set_title\n",
    "* xlabel\n",
    "* xlim\n",
    "* ylabel\n",
    "* ylim\n",
    " \n",
    "and others\n",
    "\n",
    "\n",
    "\n"
   ]
  },
  {
   "cell_type": "code",
   "execution_count": null,
   "metadata": {},
   "outputs": [],
   "source": [
    "# A example\n",
    "import matplotlib.pyplot as plt\n",
    "import numpy as np\n",
    "fig, ax = plt.subplots()\n",
    "x=np.arange(8,35)\n",
    "y=list(map(np.log,x))\n",
    "ax.plot(x,y, 'go')\n",
    "ax.grid(False)  # False by default.\n",
    "ax.set_title(\"$y=ln(x)$\", fontsize=18)\n",
    "#You can think in severals axes if there are differetns plots!\n",
    "\n"
   ]
  },
  {
   "cell_type": "markdown",
   "metadata": {},
   "source": [
    "When create a subplot with n*m dimensions then ax contain the numbers that we can access to each one, where n means rows and and m columns.\n",
    "\n",
    "Take in account that fig also has attributes and some importants as \n",
    "fig.suptitle('Vertically stacked subplots')\n",
    "\n"
   ]
  },
  {
   "cell_type": "code",
   "execution_count": 138,
   "metadata": {
    "scrolled": true
   },
   "outputs": [
    {
     "data": {
      "text/plain": [
       "[]"
      ]
     },
     "execution_count": 138,
     "metadata": {},
     "output_type": "execute_result"
    },
    {
     "data": {
      "image/png": "[encoded data removed]",
      "text/plain": [
       "<Figure size 432x288 with 2 Axes>"
      ]
     },
     "metadata": {
      "needs_background": "light"
     },
     "output_type": "display_data"
    }
   ],
   "source": [
    "import matplotlib.pyplot as plt\n",
    "import numpy as np\n",
    "x=[x for x in range(90)]\n",
    "y=list(map(np.sqrt,x))\n",
    "fig, ax= plt.subplots(2)\n",
    "ax[0].plot(x,y)\n",
    "ax[1].plot(x,x)\n",
    "plt.plot()\n"
   ]
  },
  {
   "cell_type": "markdown",
   "metadata": {},
   "source": [
    "now if we wan create more that one column we need  acces ax[row, columns].\n"
   ]
  },
  {
   "cell_type": "code",
   "execution_count": 137,
   "metadata": {},
   "outputs": [
    {
     "data": {
      "text/plain": [
       "[]"
      ]
     },
     "execution_count": 137,
     "metadata": {},
     "output_type": "execute_result"
    },
    {
     "data": {
      "image/png": "[encoded data removed]",
      "text/plain": [
       "<Figure size 720x720 with 2 Axes>"
      ]
     },
     "metadata": {
      "needs_background": "light"
     },
     "output_type": "display_data"
    }
   ],
   "source": [
    "import matplotlib.pyplot as plt\n",
    "import numpy as np\n",
    "x=[x for x in range(1,600)]\n",
    "y=list(map(np.sqrt,x))\n",
    "y2=list(map(np.log,x))\n",
    "d=list(map(lambda x,y: x-y , x,y))\n",
    "fig=plt.figure(figsize=(10, 10))\n",
    "ax=fig.add_subplot(2,2,1)\n",
    "ax2=fig.add_subplot(2,2,2)\n",
    "ax.plot(x,y)\n",
    "ax.plot(x,y2)\n",
    "ax2.plot(x,d)\n",
    "plt.plot()\n"
   ]
  },
  {
   "cell_type": "code",
   "execution_count": 133,
   "metadata": {
    "scrolled": false
   },
   "outputs": [
    {
     "data": {
      "image/png": "[encoded data removed]",
      "text/plain": [
       "<Figure size 720x720 with 4 Axes>"
      ]
     },
     "metadata": {
      "needs_background": "light"
     },
     "output_type": "display_data"
    }
   ],
   "source": [
    "#In some cases the code could be written in the following way:\n",
    "import matplotlib.pyplot as plt\n",
    "import numpy as np\n",
    "cols=2\n",
    "rows=2\n",
    "fig, ax = plt.subplots(rows, cols, figsize=(10,10))\n",
    "### We can recorrer each one?\n",
    "for j in range(0,cols):\n",
    "    for k in range(0,rows):\n",
    "        if j>0 and k>=0:\n",
    "            ax[k,j].plot([(x**2 + np.random.rand()) for x in range(30)],'ro')\n",
    "        else:\n",
    "            ax[k,j].plot([(x**2 + np.random.rand()) for x in range(30)],'bo')\n",
    "\n",
    "#fig.set_uptitle(\"Graphs\")\n"
   ]
  },
  {
   "cell_type": "markdown",
   "metadata": {},
   "source": [
    "# Documentation to read again and again\n",
    "https://matplotlib.org/tutorials/intermediate/artists.html\n",
    "\n",
    "\n",
    "https://matplotlib.org/3.1.0/gallery/subplots_axes_and_figures/subplots_demo.html\n"
   ]
  }
 ],
 "metadata": {
  "kernelspec": {
   "display_name": "Python 3 (ipykernel)",
   "language": "python",
   "name": "python3"
  },
  "language_info": {
   "codemirror_mode": {
    "name": "ipython",
    "version": 3
   },
   "file_extension": ".py",
   "mimetype": "text/x-python",
   "name": "python",
   "nbconvert_exporter": "python",
   "pygments_lexer": "ipython3",
   "version": "3.10.6"
  }
 },
 "nbformat": 4,
 "nbformat_minor": 4
}
