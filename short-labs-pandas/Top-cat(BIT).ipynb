{
 "cells": [
  {
   "cell_type": "code",
   "execution_count": null,
   "id": "4c4cf33e-f812-430b-9ccc-741f4cedc9eb",
   "metadata": {},
   "outputs": [],
   "source": [
    "##Iván Andrés Trujillo Abella\n",
    "## ivantrujillo1229@gmail.com"
   ]
  },
  {
   "cell_type": "code",
   "execution_count": 1,
   "id": "95b328e0-7a69-44d3-b82a-0b949cf662a9",
   "metadata": {},
   "outputs": [],
   "source": [
    "def top_cat(k, cat, df):\n",
    "    otro = []\n",
    "    cat_relative_dict =  df[cat].value_counts(normalize=True).to_dict()\n",
    "    for cat in cat_relative_dict:\n",
    "        if cat_relative_dict[cat]<=k:\n",
    "            otro.append(cat)\n",
    "    return otro"
   ]
  }
 ],
 "metadata": {
  "kernelspec": {
   "display_name": "Python 3 (ipykernel)",
   "language": "python",
   "name": "python3"
  },
  "language_info": {
   "codemirror_mode": {
    "name": "ipython",
    "version": 3
   },
   "file_extension": ".py",
   "mimetype": "text/x-python",
   "name": "python",
   "nbconvert_exporter": "python",
   "pygments_lexer": "ipython3",
   "version": "3.11.4"
  }
 },
 "nbformat": 4,
 "nbformat_minor": 5
}
