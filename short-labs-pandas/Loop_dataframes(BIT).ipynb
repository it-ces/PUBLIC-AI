{
 "cells": [
  {
   "cell_type": "code",
   "execution_count": 1,
   "metadata": {
    "id": "vOM_ZINeZGXn"
   },
   "outputs": [],
   "source": [
    "## Iván Andrés Trujillo Abella (last modification: 7/17/2023)\n",
    "## ivantrujillo1229@gmail.com"
   ]
  },
  {
   "cell_type": "code",
   "execution_count": 2,
   "metadata": {
    "id": "7uMjhgeUIAsY"
   },
   "outputs": [],
   "source": [
    "import pandas as pd"
   ]
  },
  {
   "cell_type": "code",
   "execution_count": 3,
   "metadata": {
    "id": "90sP0Es-LX4i"
   },
   "outputs": [],
   "source": [
    "# The dataframes contain one key that is identification..."
   ]
  },
  {
   "cell_type": "code",
   "execution_count": 4,
   "metadata": {
    "id": "PCIblyodmSR4"
   },
   "outputs": [],
   "source": [
    "store = {}\n",
    "for x in range(1,10):\n",
    "  store['var'+str(x)] = x**0.5"
   ]
  },
  {
   "cell_type": "code",
   "execution_count": 5,
   "metadata": {
    "id": "bN82ywn0meGb"
   },
   "outputs": [],
   "source": [
    "## Open several datasets"
   ]
  },
  {
   "cell_type": "code",
   "execution_count": 6,
   "metadata": {
    "colab": {
     "base_uri": "https://localhost:8080/"
    },
    "id": "2yzILO7YmpXs",
    "outputId": "c4319a92-26da-450c-b141-a7b8aede0c20"
   },
   "outputs": [
    {
     "name": "stdout",
     "output_type": "stream",
     "text": [
      "Writing data2010.csv\n"
     ]
    }
   ],
   "source": [
    "%%writefile data2010.csv\n",
    "NIT, var1, var2, var3, year\n",
    "1, 'A', 'B', 'C', 2010\n",
    "2, 10, '12', '12', 2010"
   ]
  },
  {
   "cell_type": "code",
   "execution_count": 7,
   "metadata": {
    "colab": {
     "base_uri": "https://localhost:8080/"
    },
    "id": "eEmcyT0KoFuP",
    "outputId": "f72b54f6-1cc7-4442-abd4-25bbdc9fe0de"
   },
   "outputs": [
    {
     "name": "stdout",
     "output_type": "stream",
     "text": [
      "Writing data2011.csv\n"
     ]
    }
   ],
   "source": [
    "%%writefile data2011.csv\n",
    "NIT, var1, var2, var3, year, indicator\n",
    "1, 'A', 'B', 'C', 2011\n",
    "2, 10, '12', '12', 2011\n",
    "3, tres,'tres',10 , 2011, new"
   ]
  },
  {
   "cell_type": "code",
   "execution_count": 8,
   "metadata": {
    "colab": {
     "base_uri": "https://localhost:8080/"
    },
    "id": "pBpsNFEyoYAj",
    "outputId": "b2d1eaea-505c-4375-cddc-c61de1e9e86f"
   },
   "outputs": [
    {
     "name": "stdout",
     "output_type": "stream",
     "text": [
      "Writing data2012.csv\n"
     ]
    }
   ],
   "source": [
    "%%writefile data2012.csv\n",
    "NIT, var1, var2, var3, year, indicator, cuatro\n",
    "1, 'A', 'B', 'C', 2012, old\n",
    "2, 10, '12', '12', 2012, old\n",
    "3, tres,'tres',10 , 2012, old\n",
    "4, 'cuatro', 'cuatro', 'cuatro', 2012 , new, yes"
   ]
  },
  {
   "cell_type": "code",
   "execution_count": 9,
   "metadata": {
    "id": "Lz0mRR8icXHj"
   },
   "outputs": [],
   "source": [
    "def new_firms(year, lastYear):\n",
    "  if year < lastYear:\n",
    "    news = set(dfs['df'+str(year+1)]['NIT'].unique()) - set(dfs['df'+str(year)]['NIT'].unique())\n",
    "    firms =  dfs['df'+str(year+1)]['NIT'].isin(news)\n",
    "    return dfs['df'+str(year+1)][firms]"
   ]
  },
  {
   "cell_type": "code",
   "execution_count": 10,
   "metadata": {
    "id": "ZSby0aHNo67c"
   },
   "outputs": [],
   "source": [
    "dfs = {}\n",
    "for year in [2010, 2011, 2012]:\n",
    "  dfs['df'+str(year)] = pd.read_csv('data'+str(year)+'.csv')"
   ]
  },
  {
   "cell_type": "code",
   "execution_count": 11,
   "metadata": {
    "colab": {
     "base_uri": "https://localhost:8080/",
     "height": 81
    },
    "id": "vavUNS9gRGtH",
    "outputId": "ad29585d-37da-4fb8-fed3-f72a216905c0"
   },
   "outputs": [
    {
     "data": {
      "text/html": [
       "<div>\n",
       "<style scoped>\n",
       "    .dataframe tbody tr th:only-of-type {\n",
       "        vertical-align: middle;\n",
       "    }\n",
       "\n",
       "    .dataframe tbody tr th {\n",
       "        vertical-align: top;\n",
       "    }\n",
       "\n",
       "    .dataframe thead th {\n",
       "        text-align: right;\n",
       "    }\n",
       "</style>\n",
       "<table border=\"1\" class=\"dataframe\">\n",
       "  <thead>\n",
       "    <tr style=\"text-align: right;\">\n",
       "      <th></th>\n",
       "      <th>NIT</th>\n",
       "      <th>var1</th>\n",
       "      <th>var2</th>\n",
       "      <th>var3</th>\n",
       "      <th>year</th>\n",
       "      <th>indicator</th>\n",
       "    </tr>\n",
       "  </thead>\n",
       "  <tbody>\n",
       "    <tr>\n",
       "      <th>2</th>\n",
       "      <td>3</td>\n",
       "      <td>tres</td>\n",
       "      <td>'tres'</td>\n",
       "      <td>10</td>\n",
       "      <td>2011</td>\n",
       "      <td>new</td>\n",
       "    </tr>\n",
       "  </tbody>\n",
       "</table>\n",
       "</div>"
      ],
      "text/plain": [
       "   NIT   var1    var2  var3   year  indicator\n",
       "2    3   tres  'tres'   10    2011        new"
      ]
     },
     "execution_count": 11,
     "metadata": {},
     "output_type": "execute_result"
    }
   ],
   "source": [
    "new_firms(2010,2012)"
   ]
  },
  {
   "cell_type": "code",
   "execution_count": 12,
   "metadata": {
    "id": "zV2x_3wxm3y2"
   },
   "outputs": [],
   "source": [
    "full = dfs['df2010'].copy()\n",
    "for year in [2010,2011,2012]:\n",
    "  full = full.merge(dfs['df'+str(year)], on='NIT', how='inner', suffixes=(None, 'to_remove'))\n",
    "  duplicated  = [var for var in full.columns if 'to_remove' in var ]\n",
    "  full.drop(columns=duplicated, inplace=True)\n",
    "  full = pd.concat([full,new_firms(year, 2012)])"
   ]
  },
  {
   "cell_type": "code",
   "execution_count": 13,
   "metadata": {
    "colab": {
     "base_uri": "https://localhost:8080/",
     "height": 175
    },
    "id": "KTtknsMGZ9YP",
    "outputId": "eb63b412-919e-4d8a-d3b9-dcaeb9be596e"
   },
   "outputs": [
    {
     "data": {
      "text/html": [
       "<div>\n",
       "<style scoped>\n",
       "    .dataframe tbody tr th:only-of-type {\n",
       "        vertical-align: middle;\n",
       "    }\n",
       "\n",
       "    .dataframe tbody tr th {\n",
       "        vertical-align: top;\n",
       "    }\n",
       "\n",
       "    .dataframe thead th {\n",
       "        text-align: right;\n",
       "    }\n",
       "</style>\n",
       "<table border=\"1\" class=\"dataframe\">\n",
       "  <thead>\n",
       "    <tr style=\"text-align: right;\">\n",
       "      <th></th>\n",
       "      <th>NIT</th>\n",
       "      <th>var1</th>\n",
       "      <th>var2</th>\n",
       "      <th>var3</th>\n",
       "      <th>year</th>\n",
       "      <th>indicator</th>\n",
       "      <th>cuatro</th>\n",
       "    </tr>\n",
       "  </thead>\n",
       "  <tbody>\n",
       "    <tr>\n",
       "      <th>0</th>\n",
       "      <td>1</td>\n",
       "      <td>'A'</td>\n",
       "      <td>'B'</td>\n",
       "      <td>'C'</td>\n",
       "      <td>2010</td>\n",
       "      <td>NaN</td>\n",
       "      <td>NaN</td>\n",
       "    </tr>\n",
       "    <tr>\n",
       "      <th>1</th>\n",
       "      <td>2</td>\n",
       "      <td>10</td>\n",
       "      <td>'12'</td>\n",
       "      <td>'12'</td>\n",
       "      <td>2010</td>\n",
       "      <td>NaN</td>\n",
       "      <td>NaN</td>\n",
       "    </tr>\n",
       "    <tr>\n",
       "      <th>2</th>\n",
       "      <td>3</td>\n",
       "      <td>tres</td>\n",
       "      <td>'tres'</td>\n",
       "      <td>10</td>\n",
       "      <td>2011</td>\n",
       "      <td>new</td>\n",
       "      <td>NaN</td>\n",
       "    </tr>\n",
       "    <tr>\n",
       "      <th>3</th>\n",
       "      <td>4</td>\n",
       "      <td>'cuatro'</td>\n",
       "      <td>'cuatro'</td>\n",
       "      <td>'cuatro'</td>\n",
       "      <td>2012</td>\n",
       "      <td>new</td>\n",
       "      <td>yes</td>\n",
       "    </tr>\n",
       "  </tbody>\n",
       "</table>\n",
       "</div>"
      ],
      "text/plain": [
       "   NIT       var1       var2       var3   year  indicator  cuatro\n",
       "0    1        'A'        'B'        'C'   2010        NaN     NaN\n",
       "1    2         10       '12'       '12'   2010        NaN     NaN\n",
       "2    3       tres     'tres'        10    2011        new     NaN\n",
       "3    4   'cuatro'   'cuatro'   'cuatro'   2012        new     yes"
      ]
     },
     "execution_count": 13,
     "metadata": {},
     "output_type": "execute_result"
    }
   ],
   "source": [
    "full"
   ]
  },
  {
   "cell_type": "code",
   "execution_count": 14,
   "metadata": {
    "colab": {
     "base_uri": "https://localhost:8080/",
     "height": 112
    },
    "id": "NjyxuVkkXHhH",
    "outputId": "4fff4661-b661-43ed-9ee6-9c2dd9b05116"
   },
   "outputs": [
    {
     "data": {
      "text/html": [
       "<div>\n",
       "<style scoped>\n",
       "    .dataframe tbody tr th:only-of-type {\n",
       "        vertical-align: middle;\n",
       "    }\n",
       "\n",
       "    .dataframe tbody tr th {\n",
       "        vertical-align: top;\n",
       "    }\n",
       "\n",
       "    .dataframe thead th {\n",
       "        text-align: right;\n",
       "    }\n",
       "</style>\n",
       "<table border=\"1\" class=\"dataframe\">\n",
       "  <thead>\n",
       "    <tr style=\"text-align: right;\">\n",
       "      <th></th>\n",
       "      <th>NIT</th>\n",
       "      <th>var1</th>\n",
       "      <th>var2</th>\n",
       "      <th>var3</th>\n",
       "      <th>year</th>\n",
       "    </tr>\n",
       "  </thead>\n",
       "  <tbody>\n",
       "    <tr>\n",
       "      <th>0</th>\n",
       "      <td>1</td>\n",
       "      <td>'A'</td>\n",
       "      <td>'B'</td>\n",
       "      <td>'C'</td>\n",
       "      <td>2010</td>\n",
       "    </tr>\n",
       "    <tr>\n",
       "      <th>1</th>\n",
       "      <td>2</td>\n",
       "      <td>10</td>\n",
       "      <td>'12'</td>\n",
       "      <td>'12'</td>\n",
       "      <td>2010</td>\n",
       "    </tr>\n",
       "  </tbody>\n",
       "</table>\n",
       "</div>"
      ],
      "text/plain": [
       "   NIT  var1   var2   var3   year\n",
       "0    1   'A'    'B'    'C'   2010\n",
       "1    2    10   '12'   '12'   2010"
      ]
     },
     "execution_count": 14,
     "metadata": {},
     "output_type": "execute_result"
    }
   ],
   "source": [
    "dfs['df2010']"
   ]
  },
  {
   "cell_type": "code",
   "execution_count": 15,
   "metadata": {
    "colab": {
     "base_uri": "https://localhost:8080/",
     "height": 143
    },
    "id": "pDGsvrgmXJR6",
    "outputId": "71ba7e22-0516-4f8f-839b-6370bb36db6e"
   },
   "outputs": [
    {
     "data": {
      "text/html": [
       "<div>\n",
       "<style scoped>\n",
       "    .dataframe tbody tr th:only-of-type {\n",
       "        vertical-align: middle;\n",
       "    }\n",
       "\n",
       "    .dataframe tbody tr th {\n",
       "        vertical-align: top;\n",
       "    }\n",
       "\n",
       "    .dataframe thead th {\n",
       "        text-align: right;\n",
       "    }\n",
       "</style>\n",
       "<table border=\"1\" class=\"dataframe\">\n",
       "  <thead>\n",
       "    <tr style=\"text-align: right;\">\n",
       "      <th></th>\n",
       "      <th>NIT</th>\n",
       "      <th>var1</th>\n",
       "      <th>var2</th>\n",
       "      <th>var3</th>\n",
       "      <th>year</th>\n",
       "      <th>indicator</th>\n",
       "    </tr>\n",
       "  </thead>\n",
       "  <tbody>\n",
       "    <tr>\n",
       "      <th>0</th>\n",
       "      <td>1</td>\n",
       "      <td>'A'</td>\n",
       "      <td>'B'</td>\n",
       "      <td>'C'</td>\n",
       "      <td>2011</td>\n",
       "      <td>NaN</td>\n",
       "    </tr>\n",
       "    <tr>\n",
       "      <th>1</th>\n",
       "      <td>2</td>\n",
       "      <td>10</td>\n",
       "      <td>'12'</td>\n",
       "      <td>'12'</td>\n",
       "      <td>2011</td>\n",
       "      <td>NaN</td>\n",
       "    </tr>\n",
       "    <tr>\n",
       "      <th>2</th>\n",
       "      <td>3</td>\n",
       "      <td>tres</td>\n",
       "      <td>'tres'</td>\n",
       "      <td>10</td>\n",
       "      <td>2011</td>\n",
       "      <td>new</td>\n",
       "    </tr>\n",
       "  </tbody>\n",
       "</table>\n",
       "</div>"
      ],
      "text/plain": [
       "   NIT   var1    var2   var3   year  indicator\n",
       "0    1    'A'     'B'    'C'   2011        NaN\n",
       "1    2     10    '12'   '12'   2011        NaN\n",
       "2    3   tres  'tres'    10    2011        new"
      ]
     },
     "execution_count": 15,
     "metadata": {},
     "output_type": "execute_result"
    }
   ],
   "source": [
    "dfs['df2011']"
   ]
  },
  {
   "cell_type": "code",
   "execution_count": 16,
   "metadata": {
    "colab": {
     "base_uri": "https://localhost:8080/",
     "height": 112
    },
    "id": "yZvR6lh2XLjz",
    "outputId": "d96507d8-d389-44fe-c4fd-e9456eca8e56"
   },
   "outputs": [
    {
     "data": {
      "text/html": [
       "<div>\n",
       "<style scoped>\n",
       "    .dataframe tbody tr th:only-of-type {\n",
       "        vertical-align: middle;\n",
       "    }\n",
       "\n",
       "    .dataframe tbody tr th {\n",
       "        vertical-align: top;\n",
       "    }\n",
       "\n",
       "    .dataframe thead th {\n",
       "        text-align: right;\n",
       "    }\n",
       "</style>\n",
       "<table border=\"1\" class=\"dataframe\">\n",
       "  <thead>\n",
       "    <tr style=\"text-align: right;\">\n",
       "      <th></th>\n",
       "      <th>NIT</th>\n",
       "      <th>var1_x</th>\n",
       "      <th>var2_x</th>\n",
       "      <th>var3_x</th>\n",
       "      <th>year_x</th>\n",
       "      <th>var1_y</th>\n",
       "      <th>var2_y</th>\n",
       "      <th>var3_y</th>\n",
       "      <th>year_y</th>\n",
       "      <th>indicator</th>\n",
       "    </tr>\n",
       "  </thead>\n",
       "  <tbody>\n",
       "    <tr>\n",
       "      <th>0</th>\n",
       "      <td>1</td>\n",
       "      <td>'A'</td>\n",
       "      <td>'B'</td>\n",
       "      <td>'C'</td>\n",
       "      <td>2010</td>\n",
       "      <td>'A'</td>\n",
       "      <td>'B'</td>\n",
       "      <td>'C'</td>\n",
       "      <td>2011</td>\n",
       "      <td>NaN</td>\n",
       "    </tr>\n",
       "    <tr>\n",
       "      <th>1</th>\n",
       "      <td>2</td>\n",
       "      <td>10</td>\n",
       "      <td>'12'</td>\n",
       "      <td>'12'</td>\n",
       "      <td>2010</td>\n",
       "      <td>10</td>\n",
       "      <td>'12'</td>\n",
       "      <td>'12'</td>\n",
       "      <td>2011</td>\n",
       "      <td>NaN</td>\n",
       "    </tr>\n",
       "  </tbody>\n",
       "</table>\n",
       "</div>"
      ],
      "text/plain": [
       "   NIT  var1_x  var2_x  var3_x   year_x  var1_y  var2_y  var3_y   year_y  \\\n",
       "0    1     'A'     'B'     'C'     2010     'A'     'B'     'C'     2011   \n",
       "1    2      10    '12'    '12'     2010      10    '12'    '12'     2011   \n",
       "\n",
       "   indicator  \n",
       "0        NaN  \n",
       "1        NaN  "
      ]
     },
     "execution_count": 16,
     "metadata": {},
     "output_type": "execute_result"
    }
   ],
   "source": [
    "dfs['df2010'].merge(dfs['df2011'], on='NIT', how='inner')"
   ]
  },
  {
   "cell_type": "code",
   "execution_count": 17,
   "metadata": {
    "id": "18eOu7rbpTS5"
   },
   "outputs": [],
   "source": [
    "## all is ok?"
   ]
  },
  {
   "cell_type": "code",
   "execution_count": 18,
   "metadata": {
    "colab": {
     "base_uri": "https://localhost:8080/"
    },
    "id": "FSIahAFLpUYz",
    "outputId": "41bc2abd-31cf-43f3-b545-01e1ede24f40"
   },
   "outputs": [
    {
     "name": "stdout",
     "output_type": "stream",
     "text": [
      "Overwriting data2010.csv\n"
     ]
    }
   ],
   "source": [
    "%%writefile data2010.csv\n",
    "NIT, var1, var2, var3, year\n",
    "1, 'A', 'B', 'C', 2010\n",
    "2, 10, '12', '12', 2010"
   ]
  },
  {
   "cell_type": "code",
   "execution_count": 19,
   "metadata": {
    "colab": {
     "base_uri": "https://localhost:8080/"
    },
    "id": "xfC0qkKcpf2m",
    "outputId": "c403a0f9-2692-426b-81c9-df152d451ed0"
   },
   "outputs": [
    {
     "name": "stdout",
     "output_type": "stream",
     "text": [
      "Overwriting data2011.csv\n"
     ]
    }
   ],
   "source": [
    "%%writefile data2011.csv\n",
    "NIT, var1, var2, var3, year, indicator\n",
    "1, 'A', 'B', 'C', 2011\n",
    "3, tres,'tres',10 , 2011, new"
   ]
  },
  {
   "cell_type": "code",
   "execution_count": 20,
   "metadata": {
    "colab": {
     "base_uri": "https://localhost:8080/"
    },
    "id": "K4fVApyYp0Mx",
    "outputId": "feef018b-4db4-411d-91a5-e7479f1562ee"
   },
   "outputs": [
    {
     "name": "stdout",
     "output_type": "stream",
     "text": [
      "Overwriting data2012.csv\n"
     ]
    }
   ],
   "source": [
    "%%writefile data2012.csv\n",
    "NIT, var1, var2, var3, year, indicator, cuatro\n",
    "1, 'A', 'B', 'C', 2012, old\n",
    "3, tres,'tres',10 , 2012, old\n",
    "4, 'cuatro', 'cuatro', 'cuatro', 2012 , new, yes"
   ]
  },
  {
   "cell_type": "code",
   "execution_count": 21,
   "metadata": {
    "id": "yJNLr0K6pl0J"
   },
   "outputs": [],
   "source": [
    "dfs = {}\n",
    "for year in [2010, 2011, 2012]:\n",
    "  dfs['df'+str(year)] = pd.read_csv('data'+str(year)+'.csv')"
   ]
  },
  {
   "cell_type": "code",
   "execution_count": 22,
   "metadata": {
    "id": "axYw9THrppd6"
   },
   "outputs": [],
   "source": [
    "full = dfs['df2010'].copy()\n",
    "for year in [2010,2011,2012]:\n",
    "  full = full.merge(dfs['df'+str(year)], on='NIT', how='inner', suffixes=(None, 'to_remove'))\n",
    "  duplicated  = [var for var in full.columns if 'to_remove' in var ]\n",
    "  full.drop(columns=duplicated, inplace=True)\n",
    "  full = pd.concat([full,new_firms(year, 2012)])"
   ]
  },
  {
   "cell_type": "code",
   "execution_count": 23,
   "metadata": {
    "colab": {
     "base_uri": "https://localhost:8080/",
     "height": 143
    },
    "id": "DwwVMrfypsUR",
    "outputId": "d678077f-be38-4a8d-e3d0-2e44f0141ad4"
   },
   "outputs": [
    {
     "data": {
      "text/html": [
       "<div>\n",
       "<style scoped>\n",
       "    .dataframe tbody tr th:only-of-type {\n",
       "        vertical-align: middle;\n",
       "    }\n",
       "\n",
       "    .dataframe tbody tr th {\n",
       "        vertical-align: top;\n",
       "    }\n",
       "\n",
       "    .dataframe thead th {\n",
       "        text-align: right;\n",
       "    }\n",
       "</style>\n",
       "<table border=\"1\" class=\"dataframe\">\n",
       "  <thead>\n",
       "    <tr style=\"text-align: right;\">\n",
       "      <th></th>\n",
       "      <th>NIT</th>\n",
       "      <th>var1</th>\n",
       "      <th>var2</th>\n",
       "      <th>var3</th>\n",
       "      <th>year</th>\n",
       "      <th>indicator</th>\n",
       "      <th>cuatro</th>\n",
       "    </tr>\n",
       "  </thead>\n",
       "  <tbody>\n",
       "    <tr>\n",
       "      <th>0</th>\n",
       "      <td>1</td>\n",
       "      <td>'A'</td>\n",
       "      <td>'B'</td>\n",
       "      <td>'C'</td>\n",
       "      <td>2010</td>\n",
       "      <td>NaN</td>\n",
       "      <td>NaN</td>\n",
       "    </tr>\n",
       "    <tr>\n",
       "      <th>1</th>\n",
       "      <td>3</td>\n",
       "      <td>tres</td>\n",
       "      <td>'tres'</td>\n",
       "      <td>10</td>\n",
       "      <td>2011</td>\n",
       "      <td>new</td>\n",
       "      <td>NaN</td>\n",
       "    </tr>\n",
       "    <tr>\n",
       "      <th>2</th>\n",
       "      <td>4</td>\n",
       "      <td>'cuatro'</td>\n",
       "      <td>'cuatro'</td>\n",
       "      <td>'cuatro'</td>\n",
       "      <td>2012</td>\n",
       "      <td>new</td>\n",
       "      <td>yes</td>\n",
       "    </tr>\n",
       "  </tbody>\n",
       "</table>\n",
       "</div>"
      ],
      "text/plain": [
       "   NIT       var1       var2       var3   year  indicator  cuatro\n",
       "0    1        'A'        'B'        'C'   2010        NaN     NaN\n",
       "1    3       tres     'tres'        10    2011        new     NaN\n",
       "2    4   'cuatro'   'cuatro'   'cuatro'   2012        new     yes"
      ]
     },
     "execution_count": 23,
     "metadata": {},
     "output_type": "execute_result"
    }
   ],
   "source": [
    "full # What happend?? where is two??"
   ]
  },
  {
   "cell_type": "code",
   "execution_count": 24,
   "metadata": {
    "id": "ZPxyOB2Fp7Z4"
   },
   "outputs": [],
   "source": [
    "def new_firms(current_df, next_df, key):\n",
    "  firm_first =  set(current_df[key].unique()) -  set(next_df[key].unique())\n",
    "  firm_second =  set(next_df[key].unique()) -  set(current_df[key].unique())\n",
    "  return pd.concat([current_df[current_df[key].isin(firm_first)] , next_df[next_df[key].isin(firm_second)]])"
   ]
  },
  {
   "cell_type": "code",
   "execution_count": 25,
   "metadata": {
    "id": "NfAY1YOv2SS7"
   },
   "outputs": [],
   "source": [
    "full = dfs['df2010'].copy()\n",
    "firms = new_firms(full, dfs['df2011'], 'NIT') # Drawn new firms in both datasets..\n",
    "full = full.merge(dfs['df2011'], on='NIT', how='inner', suffixes=(None, 'to_remove'))\n",
    "duplicated  = [var for var in full.columns if 'to_remove' in var ]\n",
    "full.drop(columns=duplicated, inplace=True)\n",
    "full = pd.concat([full, firms])"
   ]
  },
  {
   "cell_type": "code",
   "execution_count": 26,
   "metadata": {
    "colab": {
     "base_uri": "https://localhost:8080/",
     "height": 143
    },
    "id": "AlfMA-Yt8IPZ",
    "outputId": "af14838d-a47e-4226-b01d-c87fa7825935"
   },
   "outputs": [
    {
     "data": {
      "text/html": [
       "<div>\n",
       "<style scoped>\n",
       "    .dataframe tbody tr th:only-of-type {\n",
       "        vertical-align: middle;\n",
       "    }\n",
       "\n",
       "    .dataframe tbody tr th {\n",
       "        vertical-align: top;\n",
       "    }\n",
       "\n",
       "    .dataframe thead th {\n",
       "        text-align: right;\n",
       "    }\n",
       "</style>\n",
       "<table border=\"1\" class=\"dataframe\">\n",
       "  <thead>\n",
       "    <tr style=\"text-align: right;\">\n",
       "      <th></th>\n",
       "      <th>NIT</th>\n",
       "      <th>var1</th>\n",
       "      <th>var2</th>\n",
       "      <th>var3</th>\n",
       "      <th>year</th>\n",
       "      <th>indicator</th>\n",
       "    </tr>\n",
       "  </thead>\n",
       "  <tbody>\n",
       "    <tr>\n",
       "      <th>0</th>\n",
       "      <td>1</td>\n",
       "      <td>'A'</td>\n",
       "      <td>'B'</td>\n",
       "      <td>'C'</td>\n",
       "      <td>2010</td>\n",
       "      <td>NaN</td>\n",
       "    </tr>\n",
       "    <tr>\n",
       "      <th>1</th>\n",
       "      <td>2</td>\n",
       "      <td>10</td>\n",
       "      <td>'12'</td>\n",
       "      <td>'12'</td>\n",
       "      <td>2010</td>\n",
       "      <td>NaN</td>\n",
       "    </tr>\n",
       "    <tr>\n",
       "      <th>1</th>\n",
       "      <td>3</td>\n",
       "      <td>tres</td>\n",
       "      <td>'tres'</td>\n",
       "      <td>10</td>\n",
       "      <td>2011</td>\n",
       "      <td>new</td>\n",
       "    </tr>\n",
       "  </tbody>\n",
       "</table>\n",
       "</div>"
      ],
      "text/plain": [
       "   NIT   var1    var2   var3   year  indicator\n",
       "0    1    'A'     'B'    'C'   2010        NaN\n",
       "1    2     10    '12'   '12'   2010        NaN\n",
       "1    3   tres  'tres'    10    2011        new"
      ]
     },
     "execution_count": 26,
     "metadata": {},
     "output_type": "execute_result"
    }
   ],
   "source": [
    "full"
   ]
  },
  {
   "cell_type": "code",
   "execution_count": 27,
   "metadata": {
    "id": "UfKLt5u2wilP"
   },
   "outputs": [],
   "source": [
    "### Test loops\n",
    "full = dfs['df2010'].copy()\n",
    "for year in [2011,2012]:\n",
    "  firms =  new_firms(full, dfs['df'+str(year)], 'NIT')\n",
    "  full = full.merge(dfs['df'+str(year)], on='NIT', how='inner', suffixes=(None, 'to_remove'))\n",
    "  duplicated  = [var for var in full.columns if 'to_remove' in var ]\n",
    "  full.drop(columns=duplicated, inplace=True)\n",
    "  full = pd.concat([full, firms])"
   ]
  },
  {
   "cell_type": "code",
   "execution_count": 28,
   "metadata": {
    "colab": {
     "base_uri": "https://localhost:8080/",
     "height": 175
    },
    "id": "VjW-bnFAyRGZ",
    "outputId": "35ddf1d0-c204-4541-f537-619cdc4971c2"
   },
   "outputs": [
    {
     "data": {
      "text/html": [
       "<div>\n",
       "<style scoped>\n",
       "    .dataframe tbody tr th:only-of-type {\n",
       "        vertical-align: middle;\n",
       "    }\n",
       "\n",
       "    .dataframe tbody tr th {\n",
       "        vertical-align: top;\n",
       "    }\n",
       "\n",
       "    .dataframe thead th {\n",
       "        text-align: right;\n",
       "    }\n",
       "</style>\n",
       "<table border=\"1\" class=\"dataframe\">\n",
       "  <thead>\n",
       "    <tr style=\"text-align: right;\">\n",
       "      <th></th>\n",
       "      <th>NIT</th>\n",
       "      <th>var1</th>\n",
       "      <th>var2</th>\n",
       "      <th>var3</th>\n",
       "      <th>year</th>\n",
       "      <th>indicator</th>\n",
       "      <th>cuatro</th>\n",
       "    </tr>\n",
       "  </thead>\n",
       "  <tbody>\n",
       "    <tr>\n",
       "      <th>0</th>\n",
       "      <td>1</td>\n",
       "      <td>'A'</td>\n",
       "      <td>'B'</td>\n",
       "      <td>'C'</td>\n",
       "      <td>2010</td>\n",
       "      <td>NaN</td>\n",
       "      <td>NaN</td>\n",
       "    </tr>\n",
       "    <tr>\n",
       "      <th>1</th>\n",
       "      <td>3</td>\n",
       "      <td>tres</td>\n",
       "      <td>'tres'</td>\n",
       "      <td>10</td>\n",
       "      <td>2011</td>\n",
       "      <td>new</td>\n",
       "      <td>NaN</td>\n",
       "    </tr>\n",
       "    <tr>\n",
       "      <th>1</th>\n",
       "      <td>2</td>\n",
       "      <td>10</td>\n",
       "      <td>'12'</td>\n",
       "      <td>'12'</td>\n",
       "      <td>2010</td>\n",
       "      <td>NaN</td>\n",
       "      <td>NaN</td>\n",
       "    </tr>\n",
       "    <tr>\n",
       "      <th>2</th>\n",
       "      <td>4</td>\n",
       "      <td>'cuatro'</td>\n",
       "      <td>'cuatro'</td>\n",
       "      <td>'cuatro'</td>\n",
       "      <td>2012</td>\n",
       "      <td>new</td>\n",
       "      <td>yes</td>\n",
       "    </tr>\n",
       "  </tbody>\n",
       "</table>\n",
       "</div>"
      ],
      "text/plain": [
       "   NIT       var1       var2       var3   year  indicator  cuatro\n",
       "0    1        'A'        'B'        'C'   2010        NaN     NaN\n",
       "1    3       tres     'tres'        10    2011        new     NaN\n",
       "1    2         10       '12'       '12'   2010        NaN     NaN\n",
       "2    4   'cuatro'   'cuatro'   'cuatro'   2012        new     yes"
      ]
     },
     "execution_count": 28,
     "metadata": {},
     "output_type": "execute_result"
    }
   ],
   "source": [
    "full"
   ]
  },
  {
   "cell_type": "code",
   "execution_count": 29,
   "metadata": {
    "colab": {
     "base_uri": "https://localhost:8080/"
    },
    "id": "6WNrfM36e2TH",
    "outputId": "80ac4663-4503-49ea-c575-65f73f9a30b2"
   },
   "outputs": [
    {
     "name": "stdout",
     "output_type": "stream",
     "text": [
      "Writing clientes-month1.csv\n"
     ]
    }
   ],
   "source": [
    "%%writefile clientes-month1.csv\n",
    "cedula,feature1, feature2\n",
    "1,  a,  10\n",
    "2,  b,  12\n",
    "3,  c,  20\n",
    "5,  d,  13"
   ]
  },
  {
   "cell_type": "code",
   "execution_count": 30,
   "metadata": {
    "colab": {
     "base_uri": "https://localhost:8080/"
    },
    "id": "WUz_51_2fHmS",
    "outputId": "08e713af-9c1c-467e-d24e-7b6e8f66f9e9"
   },
   "outputs": [
    {
     "name": "stdout",
     "output_type": "stream",
     "text": [
      "Writing clientes-month2.csv\n"
     ]
    }
   ],
   "source": [
    "%%writefile clientes-month2.csv\n",
    "cedula, feature1, feature2\n",
    "1, a, 16\n",
    "2, b, 17\n",
    "3, c, 19\n",
    "10, h, 0"
   ]
  },
  {
   "cell_type": "code",
   "execution_count": 31,
   "metadata": {
    "colab": {
     "base_uri": "https://localhost:8080/"
    },
    "id": "B-n2KPalgAK0",
    "outputId": "44785dbd-4c36-4b1c-afa6-b5fbaad72ba0"
   },
   "outputs": [
    {
     "name": "stdout",
     "output_type": "stream",
     "text": [
      "Writing clientes-month3.csv\n"
     ]
    }
   ],
   "source": [
    "%%writefile clientes-month3.csv\n",
    "cedula, feature1, feature2\n",
    "1,  a,  0\n",
    "3,  c,  1\n",
    "11, j,  0"
   ]
  },
  {
   "cell_type": "code",
   "execution_count": 32,
   "metadata": {
    "id": "l5W7GDuHg6jL"
   },
   "outputs": [],
   "source": [
    "to_load = ['clientes-month'+str(i) for i in range(1,4)]"
   ]
  },
  {
   "cell_type": "code",
   "execution_count": 33,
   "metadata": {
    "id": "s-psMI71ivTx"
   },
   "outputs": [],
   "source": [
    "df  = pd.read_csv('clientes-month3.csv')"
   ]
  },
  {
   "cell_type": "code",
   "execution_count": 34,
   "metadata": {
    "colab": {
     "base_uri": "https://localhost:8080/",
     "height": 143
    },
    "id": "6LSH9jD1pyIJ",
    "outputId": "fe6a94ff-1e5b-4c02-c3b6-8e18dcf137af"
   },
   "outputs": [
    {
     "data": {
      "text/html": [
       "<div>\n",
       "<style scoped>\n",
       "    .dataframe tbody tr th:only-of-type {\n",
       "        vertical-align: middle;\n",
       "    }\n",
       "\n",
       "    .dataframe tbody tr th {\n",
       "        vertical-align: top;\n",
       "    }\n",
       "\n",
       "    .dataframe thead th {\n",
       "        text-align: right;\n",
       "    }\n",
       "</style>\n",
       "<table border=\"1\" class=\"dataframe\">\n",
       "  <thead>\n",
       "    <tr style=\"text-align: right;\">\n",
       "      <th></th>\n",
       "      <th>cedula</th>\n",
       "      <th>feature1</th>\n",
       "      <th>feature2</th>\n",
       "    </tr>\n",
       "  </thead>\n",
       "  <tbody>\n",
       "    <tr>\n",
       "      <th>0</th>\n",
       "      <td>1</td>\n",
       "      <td>a</td>\n",
       "      <td>0</td>\n",
       "    </tr>\n",
       "    <tr>\n",
       "      <th>1</th>\n",
       "      <td>3</td>\n",
       "      <td>c</td>\n",
       "      <td>1</td>\n",
       "    </tr>\n",
       "    <tr>\n",
       "      <th>2</th>\n",
       "      <td>11</td>\n",
       "      <td>j</td>\n",
       "      <td>0</td>\n",
       "    </tr>\n",
       "  </tbody>\n",
       "</table>\n",
       "</div>"
      ],
      "text/plain": [
       "   cedula  feature1   feature2\n",
       "0       1         a          0\n",
       "1       3         c          1\n",
       "2      11         j          0"
      ]
     },
     "execution_count": 34,
     "metadata": {},
     "output_type": "execute_result"
    }
   ],
   "source": [
    "df.rename(columns={'feature2':'he'})"
   ]
  },
  {
   "cell_type": "code",
   "execution_count": 35,
   "metadata": {
    "colab": {
     "base_uri": "https://localhost:8080/"
    },
    "id": "3vFCNTpJq5iK",
    "outputId": "bb58d8a2-e60c-4c58-9fe9-ec3edc16f711"
   },
   "outputs": [
    {
     "data": {
      "text/plain": [
       "Index(['cedula', ' feature1', ' feature2'], dtype='object')"
      ]
     },
     "execution_count": 35,
     "metadata": {},
     "output_type": "execute_result"
    }
   ],
   "source": [
    "df.columns"
   ]
  },
  {
   "cell_type": "code",
   "execution_count": 36,
   "metadata": {
    "id": "Te3T1ECTdu8S"
   },
   "outputs": [],
   "source": [
    "df.columns = [var.replace(\" \",\"\") for var in df.columns]"
   ]
  },
  {
   "cell_type": "code",
   "execution_count": 37,
   "metadata": {
    "colab": {
     "base_uri": "https://localhost:8080/"
    },
    "id": "ZMsaQOwQd1tV",
    "outputId": "175ca14c-929d-456e-b94f-dead6c316167"
   },
   "outputs": [
    {
     "data": {
      "text/plain": [
       "Index(['cedula', 'feature1', 'feature2'], dtype='object')"
      ]
     },
     "execution_count": 37,
     "metadata": {},
     "output_type": "execute_result"
    }
   ],
   "source": [
    "df.columns"
   ]
  },
  {
   "cell_type": "code",
   "execution_count": null,
   "metadata": {
    "id": "RmL4Mct3ZqVZ"
   },
   "outputs": [],
   "source": []
  },
  {
   "cell_type": "code",
   "execution_count": 38,
   "metadata": {
    "id": "uoqoKjv0ZuzB"
   },
   "outputs": [],
   "source": [
    "dfs = {}\n",
    "for i in range(1,4):\n",
    "  dfs['month'+str(i)] = pd.read_csv('clientes-month'+str(i)+'.csv')\n",
    "  dfs['month'+str(i)].columns = [var.replace(\" \",\"\") for var in dfs['month'+str(i)].columns]\n",
    "  dfs['month'+str(i)].rename(columns={'feature2':'feature-2'+str(i)}, inplace=True)"
   ]
  },
  {
   "cell_type": "code",
   "execution_count": 39,
   "metadata": {
    "colab": {
     "base_uri": "https://localhost:8080/"
    },
    "id": "0vodmP-Xa8qX",
    "outputId": "8c02d95b-cfc3-4fb3-c870-74039a7b4f9f"
   },
   "outputs": [
    {
     "data": {
      "text/plain": [
       "{'month1':    cedula feature1  feature-21\n",
       " 0       1        a          10\n",
       " 1       2        b          12\n",
       " 2       3        c          20\n",
       " 3       5        d          13,\n",
       " 'month2':    cedula feature1  feature-22\n",
       " 0       1        a          16\n",
       " 1       2        b          17\n",
       " 2       3        c          19\n",
       " 3      10        h           0,\n",
       " 'month3':    cedula feature1  feature-23\n",
       " 0       1        a           0\n",
       " 1       3        c           1\n",
       " 2      11        j           0}"
      ]
     },
     "execution_count": 39,
     "metadata": {},
     "output_type": "execute_result"
    }
   ],
   "source": [
    "dfs"
   ]
  },
  {
   "cell_type": "code",
   "execution_count": 40,
   "metadata": {
    "id": "gbkxQ-DlfbLO"
   },
   "outputs": [],
   "source": [
    "## Merge the dataset\n",
    "full = dfs['month1'].copy()"
   ]
  },
  {
   "cell_type": "code",
   "execution_count": 41,
   "metadata": {
    "id": "fAW3t0YzPYIO"
   },
   "outputs": [],
   "source": [
    "for i in range(2,4):\n",
    "  clients= new_firms(full,dfs['month'+str(i)], 'cedula')\n",
    "  full = full.merge(dfs['month'+str(i)], on='cedula', how='inner', suffixes=(None, 'to_remove'))\n",
    "  duplicated = [x for x in full.columns if 'to_remove' in x]\n",
    "  full.drop(columns=duplicated, inplace=True)\n",
    "  full = pd.concat([full, clients])"
   ]
  },
  {
   "cell_type": "code",
   "execution_count": 42,
   "metadata": {
    "colab": {
     "base_uri": "https://localhost:8080/",
     "height": 237
    },
    "id": "PtERHtPXV2Oj",
    "outputId": "fd5126b8-33a7-4d8f-a2f9-40f9b5ce004c"
   },
   "outputs": [
    {
     "data": {
      "text/html": [
       "<div>\n",
       "<style scoped>\n",
       "    .dataframe tbody tr th:only-of-type {\n",
       "        vertical-align: middle;\n",
       "    }\n",
       "\n",
       "    .dataframe tbody tr th {\n",
       "        vertical-align: top;\n",
       "    }\n",
       "\n",
       "    .dataframe thead th {\n",
       "        text-align: right;\n",
       "    }\n",
       "</style>\n",
       "<table border=\"1\" class=\"dataframe\">\n",
       "  <thead>\n",
       "    <tr style=\"text-align: right;\">\n",
       "      <th></th>\n",
       "      <th>cedula</th>\n",
       "      <th>feature1</th>\n",
       "      <th>feature-21</th>\n",
       "      <th>feature-22</th>\n",
       "      <th>feature-23</th>\n",
       "    </tr>\n",
       "  </thead>\n",
       "  <tbody>\n",
       "    <tr>\n",
       "      <th>0</th>\n",
       "      <td>1</td>\n",
       "      <td>a</td>\n",
       "      <td>10.0</td>\n",
       "      <td>16.0</td>\n",
       "      <td>0.0</td>\n",
       "    </tr>\n",
       "    <tr>\n",
       "      <th>1</th>\n",
       "      <td>3</td>\n",
       "      <td>c</td>\n",
       "      <td>20.0</td>\n",
       "      <td>19.0</td>\n",
       "      <td>1.0</td>\n",
       "    </tr>\n",
       "    <tr>\n",
       "      <th>1</th>\n",
       "      <td>2</td>\n",
       "      <td>b</td>\n",
       "      <td>12.0</td>\n",
       "      <td>17.0</td>\n",
       "      <td>NaN</td>\n",
       "    </tr>\n",
       "    <tr>\n",
       "      <th>3</th>\n",
       "      <td>5</td>\n",
       "      <td>d</td>\n",
       "      <td>13.0</td>\n",
       "      <td>NaN</td>\n",
       "      <td>NaN</td>\n",
       "    </tr>\n",
       "    <tr>\n",
       "      <th>3</th>\n",
       "      <td>10</td>\n",
       "      <td>h</td>\n",
       "      <td>NaN</td>\n",
       "      <td>0.0</td>\n",
       "      <td>NaN</td>\n",
       "    </tr>\n",
       "    <tr>\n",
       "      <th>2</th>\n",
       "      <td>11</td>\n",
       "      <td>j</td>\n",
       "      <td>NaN</td>\n",
       "      <td>NaN</td>\n",
       "      <td>0.0</td>\n",
       "    </tr>\n",
       "  </tbody>\n",
       "</table>\n",
       "</div>"
      ],
      "text/plain": [
       "   cedula feature1  feature-21  feature-22  feature-23\n",
       "0       1        a        10.0        16.0         0.0\n",
       "1       3        c        20.0        19.0         1.0\n",
       "1       2        b        12.0        17.0         NaN\n",
       "3       5        d        13.0         NaN         NaN\n",
       "3      10        h         NaN         0.0         NaN\n",
       "2      11        j         NaN         NaN         0.0"
      ]
     },
     "execution_count": 42,
     "metadata": {},
     "output_type": "execute_result"
    }
   ],
   "source": [
    "full"
   ]
  },
  {
   "cell_type": "code",
   "execution_count": 43,
   "metadata": {
    "id": "qzw_cJGfptnV"
   },
   "outputs": [],
   "source": [
    "## BONUS\n",
    "## Select a variable according to the time of presence of a event..."
   ]
  },
  {
   "cell_type": "code",
   "execution_count": 44,
   "metadata": {
    "colab": {
     "base_uri": "https://localhost:8080/"
    },
    "id": "srxO4nuuZ6vz",
    "outputId": "1aaa6338-1383-401c-f1f8-0278a169b1f4"
   },
   "outputs": [
    {
     "name": "stdout",
     "output_type": "stream",
     "text": [
      "Writing predict.csv\n"
     ]
    }
   ],
   "source": [
    "%%writefile predict.csv\n",
    "nit,var-month-1,var-month-2,var-month-3,var-month-4,event\n",
    "1,nan,10,2,0.1,4\n",
    "2,3,0.4,nan,nan,2\n",
    "3,8.5,6.7,0.2,nan,3\n",
    "4,4.7,nan,nan,nan,1\n",
    "5,5.6,0.1,nan,nan,2\n",
    "6,nan,nan,3.1,0.23,4\n",
    "7,nan,2.3, 0.01,nan,3\n",
    "8,1,2,1.8,0.234, 4"
   ]
  },
  {
   "cell_type": "code",
   "execution_count": 45,
   "metadata": {
    "id": "TzJCGhpFuZiC"
   },
   "outputs": [],
   "source": [
    "df  = pd.read_csv('predict.csv')"
   ]
  },
  {
   "cell_type": "code",
   "execution_count": 46,
   "metadata": {
    "colab": {
     "base_uri": "https://localhost:8080/"
    },
    "id": "Ec-nhltAzoju",
    "outputId": "d493d170-5b79-440c-a2df-d937a6aec9ee"
   },
   "outputs": [
    {
     "data": {
      "text/plain": [
       "Index(['nit', 'var-month-1', 'var-month-2', 'var-month-3', 'var-month-4',\n",
       "       'event'],\n",
       "      dtype='object')"
      ]
     },
     "execution_count": 46,
     "metadata": {},
     "output_type": "execute_result"
    }
   ],
   "source": [
    "df.columns"
   ]
  },
  {
   "cell_type": "code",
   "execution_count": 51,
   "metadata": {
    "id": "RRK7Kd8Kwks3"
   },
   "outputs": [],
   "source": [
    "import numpy as np\n",
    "lag = 3\n",
    "time_base = 1\n",
    "prefix = 'var-month-'\n",
    "df['var*'] = np.nan\n",
    "for firm in df.index:\n",
    "  time_ocurrence = df.loc[firm, 'event']\n",
    "  if time_ocurrence - lag >= time_base:\n",
    "    df.loc[firm, 'var*'] = df.loc[firm, prefix + str(time_ocurrence-lag)]"
   ]
  },
  {
   "cell_type": "code",
   "execution_count": 52,
   "metadata": {
    "colab": {
     "base_uri": "https://localhost:8080/",
     "height": 300
    },
    "id": "YzmvTJHR0Obs",
    "outputId": "42b4b244-1000-42db-f65a-2249cfa4cf69"
   },
   "outputs": [
    {
     "data": {
      "text/html": [
       "<div>\n",
       "<style scoped>\n",
       "    .dataframe tbody tr th:only-of-type {\n",
       "        vertical-align: middle;\n",
       "    }\n",
       "\n",
       "    .dataframe tbody tr th {\n",
       "        vertical-align: top;\n",
       "    }\n",
       "\n",
       "    .dataframe thead th {\n",
       "        text-align: right;\n",
       "    }\n",
       "</style>\n",
       "<table border=\"1\" class=\"dataframe\">\n",
       "  <thead>\n",
       "    <tr style=\"text-align: right;\">\n",
       "      <th></th>\n",
       "      <th>nit</th>\n",
       "      <th>var-month-1</th>\n",
       "      <th>var-month-2</th>\n",
       "      <th>var-month-3</th>\n",
       "      <th>var-month-4</th>\n",
       "      <th>event</th>\n",
       "      <th>var*</th>\n",
       "    </tr>\n",
       "  </thead>\n",
       "  <tbody>\n",
       "    <tr>\n",
       "      <th>0</th>\n",
       "      <td>1</td>\n",
       "      <td>NaN</td>\n",
       "      <td>10.0</td>\n",
       "      <td>2.00</td>\n",
       "      <td>0.100</td>\n",
       "      <td>4</td>\n",
       "      <td>NaN</td>\n",
       "    </tr>\n",
       "    <tr>\n",
       "      <th>1</th>\n",
       "      <td>2</td>\n",
       "      <td>3.0</td>\n",
       "      <td>0.4</td>\n",
       "      <td>NaN</td>\n",
       "      <td>NaN</td>\n",
       "      <td>2</td>\n",
       "      <td>NaN</td>\n",
       "    </tr>\n",
       "    <tr>\n",
       "      <th>2</th>\n",
       "      <td>3</td>\n",
       "      <td>8.5</td>\n",
       "      <td>6.7</td>\n",
       "      <td>0.20</td>\n",
       "      <td>NaN</td>\n",
       "      <td>3</td>\n",
       "      <td>NaN</td>\n",
       "    </tr>\n",
       "    <tr>\n",
       "      <th>3</th>\n",
       "      <td>4</td>\n",
       "      <td>4.7</td>\n",
       "      <td>NaN</td>\n",
       "      <td>NaN</td>\n",
       "      <td>NaN</td>\n",
       "      <td>1</td>\n",
       "      <td>NaN</td>\n",
       "    </tr>\n",
       "    <tr>\n",
       "      <th>4</th>\n",
       "      <td>5</td>\n",
       "      <td>5.6</td>\n",
       "      <td>0.1</td>\n",
       "      <td>NaN</td>\n",
       "      <td>NaN</td>\n",
       "      <td>2</td>\n",
       "      <td>NaN</td>\n",
       "    </tr>\n",
       "    <tr>\n",
       "      <th>5</th>\n",
       "      <td>6</td>\n",
       "      <td>NaN</td>\n",
       "      <td>NaN</td>\n",
       "      <td>3.10</td>\n",
       "      <td>0.230</td>\n",
       "      <td>4</td>\n",
       "      <td>NaN</td>\n",
       "    </tr>\n",
       "    <tr>\n",
       "      <th>6</th>\n",
       "      <td>7</td>\n",
       "      <td>NaN</td>\n",
       "      <td>2.3</td>\n",
       "      <td>0.01</td>\n",
       "      <td>NaN</td>\n",
       "      <td>3</td>\n",
       "      <td>NaN</td>\n",
       "    </tr>\n",
       "    <tr>\n",
       "      <th>7</th>\n",
       "      <td>8</td>\n",
       "      <td>1.0</td>\n",
       "      <td>2.0</td>\n",
       "      <td>1.80</td>\n",
       "      <td>0.234</td>\n",
       "      <td>4</td>\n",
       "      <td>1.0</td>\n",
       "    </tr>\n",
       "  </tbody>\n",
       "</table>\n",
       "</div>"
      ],
      "text/plain": [
       "   nit  var-month-1  var-month-2  var-month-3  var-month-4  event  var*\n",
       "0    1          NaN         10.0         2.00        0.100      4   NaN\n",
       "1    2          3.0          0.4          NaN          NaN      2   NaN\n",
       "2    3          8.5          6.7         0.20          NaN      3   NaN\n",
       "3    4          4.7          NaN          NaN          NaN      1   NaN\n",
       "4    5          5.6          0.1          NaN          NaN      2   NaN\n",
       "5    6          NaN          NaN         3.10        0.230      4   NaN\n",
       "6    7          NaN          2.3         0.01          NaN      3   NaN\n",
       "7    8          1.0          2.0         1.80        0.234      4   1.0"
      ]
     },
     "execution_count": 52,
     "metadata": {},
     "output_type": "execute_result"
    }
   ],
   "source": [
    "df"
   ]
  },
  {
   "cell_type": "code",
   "execution_count": 49,
   "metadata": {
    "id": "Oraa9Aaxx6XI"
   },
   "outputs": [],
   "source": [
    "# A function\n",
    "def varInEvent(time_base, prefix, var_time_event, df_, lag=1):\n",
    "  df = df_.copy()\n",
    "  df['var*'] = np.nan\n",
    "  for firm in df.index:\n",
    "    time_ocurrence = df.loc[firm, var_time_event]\n",
    "    if time_ocurrence - lag >= time_base:\n",
    "      df.loc[firm, 'var*'] = df.loc[firm, prefix + str(time_ocurrence-lag)]\n",
    "  return df['var*']"
   ]
  },
  {
   "cell_type": "code",
   "execution_count": 50,
   "metadata": {
    "colab": {
     "base_uri": "https://localhost:8080/"
    },
    "id": "wT4I6zJRBdAA",
    "outputId": "10077a88-5af9-403a-b93f-4667c3ae4096"
   },
   "outputs": [
    {
     "data": {
      "text/plain": [
       "0    NaN\n",
       "1    NaN\n",
       "2    NaN\n",
       "3    NaN\n",
       "4    NaN\n",
       "5    NaN\n",
       "6    NaN\n",
       "7    1.0\n",
       "Name: var*, dtype: float64"
      ]
     },
     "execution_count": 50,
     "metadata": {},
     "output_type": "execute_result"
    }
   ],
   "source": [
    "varInEvent(time_base=1, prefix='var-month-', var_time_event='event', df_=df, lag=3)"
   ]
  }
 ],
 "metadata": {
  "colab": {
   "provenance": []
  },
  "kernelspec": {
   "display_name": "Python 3 (ipykernel)",
   "language": "python",
   "name": "python3"
  },
  "language_info": {
   "codemirror_mode": {
    "name": "ipython",
    "version": 3
   },
   "file_extension": ".py",
   "mimetype": "text/x-python",
   "name": "python",
   "nbconvert_exporter": "python",
   "pygments_lexer": "ipython3",
   "version": "3.11.4"
  }
 },
 "nbformat": 4,
 "nbformat_minor": 4
}
