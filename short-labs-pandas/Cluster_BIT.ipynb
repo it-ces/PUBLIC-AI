{
  "nbformat": 4,
  "nbformat_minor": 0,
  "metadata": {
    "colab": {
      "provenance": []
    },
    "kernelspec": {
      "name": "python3",
      "display_name": "Python 3"
    },
    "language_info": {
      "name": "python"
    }
  },
  "cells": [
    {
      "cell_type": "code",
      "source": [
        "###\n",
        "import matplotlib.pyplot as plt\n",
        "from sklearn.cluster import KMeans\n",
        "from sklearn.datasets import make_blobs\n",
        "X,y = make_blobs(n_samples = 700, n_features=2, centers=2, cluster_std=0.1, shuffle=True, random_state=4)\n",
        "plt.scatter(X[:,0], X[:,1], s=10, marker='o')\n",
        "km = KMeans(n_clusters = 3, init='random', n_init=5, max_iter=300, tol = 1e-04, random_state=0)\n",
        "y_km = km.fit_predict(X)"
      ],
      "metadata": {
        "id": "QiK87PADi2Lh",
        "colab": {
          "base_uri": "https://localhost:8080/",
          "height": 265
        },
        "outputId": "d315e05c-94da-43da-e837-df261e3e1450"
      },
      "execution_count": null,
      "outputs": [
        {
          "output_type": "display_data",
          "data": {
            "text/plain": [
              "<Figure size 432x288 with 1 Axes>"
            ],
            "image/png": "[encoded data removed]"
          },
          "metadata": {
            "needs_background": "light"
          }
        }
      ]
    },
    {
      "cell_type": "markdown",
      "source": [
        "# Description about\n",
        "n_clusters = 3, the number of centroids\n",
        "n_init the number of times that run the algorithm\n",
        "remember with different random centroids with the objective of\n",
        "minimize SSE.\n",
        "# max iter---the number of maximun iterations\n",
        "in each only ejecution..\n",
        "\n",
        "\n",
        "\n",
        "\n",
        "## A problem in K-means is one centroid could be let empty...\n",
        "this is soluted with C-fuzzy means..\n",
        "\n",
        "this is stopped if reach the convergence before of reach the number\n",
        "of maximun iterations..\n"
      ],
      "metadata": {
        "id": "BnMy1FpewAhb"
      }
    },
    {
      "cell_type": "code",
      "source": [
        "plt.scatter(X[y_km==0,0], X[y_km==0,1], s=40, c='lightgreen', marker='s', edgecolors='black', label = 'cluster1')\n",
        "plt.scatter(X[y_km==1,0], X[y_km==1,1], s=40, c='orange', marker='o', edgecolor='black', label='cluster2')\n",
        "plt.scatter(X[y_km==2,0], X[y_km==2,1], s=40, c='lightblue', marker='o', edgecolor='black', label='acluster3')\n",
        "plt.scatter(km.cluster_centers_[:,0], km.cluster_centers_[:,1], s=100, marker='*', c='red', edgecolor='black', label='centroids')\n",
        "plt.legend(scatterpoints=1)\n"
      ],
      "metadata": {
        "colab": {
          "base_uri": "https://localhost:8080/",
          "height": 282
        },
        "id": "XstQ1h0A11wl",
        "outputId": "b5f5e627-af9c-4b26-8452-d6e35a8dc2de"
      },
      "execution_count": null,
      "outputs": [
        {
          "output_type": "execute_result",
          "data": {
            "text/plain": [
              "<matplotlib.legend.Legend at 0x7f5ecbeac2d0>"
            ]
          },
          "metadata": {},
          "execution_count": 34
        },
        {
          "output_type": "display_data",
          "data": {
            "text/plain": [
              "<Figure size 432x288 with 1 Axes>"
            ],
            "image/png": "[encoded data removed]"
          },
          "metadata": {
            "needs_background": "light"
          }
        }
      ]
    },
    {
      "cell_type": "code",
      "source": [
        "# K-means ++\n",
        "#How initialize the centroids...\n",
        "## initialize with init='k-means++'"
      ],
      "metadata": {
        "id": "bQMg06dp3OcE"
      },
      "execution_count": null,
      "outputs": []
    },
    {
      "cell_type": "code",
      "source": [
        "# Elbow method...\n",
        "# We can uses SSE to measure\n",
        "# we can get SSE with km.inertia_"
      ],
      "metadata": {
        "id": "A1Suno946y7r"
      },
      "execution_count": null,
      "outputs": []
    },
    {
      "cell_type": "code",
      "source": [
        "km.inertia_"
      ],
      "metadata": {
        "colab": {
          "base_uri": "https://localhost:8080/"
        },
        "id": "ilEjSE097zCV",
        "outputId": "c4c306dc-c370-4dcb-ad33-6003bf5a8f96"
      },
      "execution_count": null,
      "outputs": [
        {
          "output_type": "execute_result",
          "data": {
            "text/plain": [
              "48.23520512521979"
            ]
          },
          "metadata": {},
          "execution_count": 5
        }
      ]
    },
    {
      "cell_type": "code",
      "source": [
        "## How we can choose k.\n",
        "# if K increase the distortion reduced\n",
        "# due centroids are nearest of points..\n",
        "# the insight behind elbow method  is that choose the value of K where distortion increase more fast"
      ],
      "metadata": {
        "id": "YaZw2_xV74Rv"
      },
      "execution_count": null,
      "outputs": []
    },
    {
      "cell_type": "code",
      "source": [
        "distortions = []\n",
        "for i in range(1,11):\n",
        "  km = KMeans(n_clusters=i, init='k-means++', n_init=10, max_iter=300, random_state=0)\n",
        "  km.fit(X)\n",
        "  distortions.append(km.inertia_)\n",
        "plt.plot(range(1,11), distortions, marker='o')"
      ],
      "metadata": {
        "colab": {
          "base_uri": "https://localhost:8080/",
          "height": 282
        },
        "id": "Lzh-G-rFGe5n",
        "outputId": "56ade0d0-5236-4b7a-a799-88fe9bee89db"
      },
      "execution_count": null,
      "outputs": [
        {
          "output_type": "execute_result",
          "data": {
            "text/plain": [
              "[<matplotlib.lines.Line2D at 0x7f5ecbf707d0>]"
            ]
          },
          "metadata": {},
          "execution_count": 32
        },
        {
          "output_type": "display_data",
          "data": {
            "text/plain": [
              "<Figure size 432x288 with 1 Axes>"
            ],
            "image/png": "[encoded data removed]"
          },
          "metadata": {
            "needs_background": "light"
          }
        }
      ]
    },
    {
      "cell_type": "code",
      "source": [
        "## Calidad del agrupamiento....\n",
        "# una representación gŕafica de como están agrupadas las muestras en los grupos...\n",
        "\n",
        "# Cohesión del grupo a(i)  la distancia media entre una muestra y el restante de muestras en el mismo grupo\n",
        "# separación del grupo b(i) a partil del grupo  mas cercano como la distancia entre una muestra\n",
        "# y todas las muestras del grupo mas cercano.\n"
      ],
      "metadata": {
        "id": "bej1WboNISR-"
      },
      "execution_count": null,
      "outputs": []
    },
    {
      "cell_type": "code",
      "source": [
        "km = KMeans(n_clusters=3, init='k-means++', n_init=10, max_iter=300)\n",
        "y_km = km.fit_predict(X)"
      ],
      "metadata": {
        "id": "HUG1tvVoKwfP"
      },
      "execution_count": null,
      "outputs": []
    },
    {
      "cell_type": "code",
      "source": [
        "import numpy as np\n",
        "from matplotlib import cm\n",
        "from sklearn.metrics import silhouette_samples\n",
        "cluster_labels = np.unique(y_km)\n",
        "n_clusters = cluster_labels.shape[0]\n",
        "silhouette_vals = silhouette_samples(X,y_km, metric='euclidean')\n",
        "y_ax_lower, y_ax_upper = 0,0\n",
        "yticks = []\n",
        "for i,c in enumerate(cluster_labels):\n",
        "  c_silhouette_vals = silhouette_vals[y_km==c]\n",
        "  c_silhouette_vals.sort()\n",
        "  y_ax_upper += len(c_silhouette_vals)\n",
        "  color = cm.jet(float(i)/n_clusters)\n",
        "  plt.barh(range(y_ax_lower, y_ax_upper),c_silhouette_vals, height=1.0, edgecolor='none', color = color)\n",
        "  yticks.append((y_ax_lower + y_ax_upper)/2.)\n",
        "  y_ax_lower += len(c_silhouette_vals)\n",
        "  silhouette_avg = np.mean(silhouette_vals)\n",
        "  plt.axvline(silhouette_avg, color='red')\n",
        "  plt.yticks(yticks, cluster_labels+1)\n",
        "  plt.ylabel('Cluster')\n",
        "  plt.xlabel('silhouette coefficient')"
      ],
      "metadata": {
        "colab": {
          "base_uri": "https://localhost:8080/",
          "height": 279
        },
        "id": "qsTgsljYYqmu",
        "outputId": "ab1003cf-3202-45c0-8048-9ee7003736af"
      },
      "execution_count": null,
      "outputs": [
        {
          "output_type": "display_data",
          "data": {
            "text/plain": [
              "<Figure size 432x288 with 1 Axes>"
            ],
            "image/png": "[encoded data removed]"
          },
          "metadata": {
            "needs_background": "light"
          }
        }
      ]
    },
    {
      "cell_type": "code",
      "source": [
        "# Hierarchical clustering\n",
        "# Advantage no is neccesary define k apriori ....\n",
        "\n",
        "#Example using complete linkage...\n",
        "##### remeber algorithm --->\n",
        "# Calculate the distance matrix..\n",
        "# combine the two groups more closest in more inequality distances\n",
        "# update matrix\n",
        "# repeat until there are one cluster"
      ],
      "metadata": {
        "id": "r2oCXKFldikM"
      },
      "execution_count": null,
      "outputs": []
    },
    {
      "cell_type": "code",
      "source": [
        "import pandas as pd\n",
        "import numpy as np\n",
        "vars = ['income', 'consumption', 'visits']\n",
        "labels = ['one', 'two', 'three', 'four', 'five']\n",
        "X = np.random.random_sample([5,3])*10\n",
        "df = pd.DataFrame(X, columns=vars)"
      ],
      "metadata": {
        "id": "pwmLMfvtgUUB"
      },
      "execution_count": null,
      "outputs": []
    },
    {
      "cell_type": "code",
      "source": [
        "from scipy.spatial.distance import pdist, squareform\n",
        "row_dist = pd.DataFrame(squareform(pdist(df, metric='euclidean')),columns=labels, index=labels)"
      ],
      "metadata": {
        "id": "C0T5PLd_hVn-"
      },
      "execution_count": null,
      "outputs": []
    },
    {
      "cell_type": "code",
      "source": [
        "row_dist"
      ],
      "metadata": {
        "colab": {
          "base_uri": "https://localhost:8080/",
          "height": 206
        },
        "id": "okmnAigNhwth",
        "outputId": "7b220cb0-86b9-4226-e5e4-b6ed39f742db"
      },
      "execution_count": null,
      "outputs": [
        {
          "output_type": "execute_result",
          "data": {
            "text/plain": [
              "             one       two     three       four       five\n",
              "one     0.000000  8.306044  6.484029   8.453478  11.411176\n",
              "two     8.306044  0.000000  5.063397   2.260569   9.135266\n",
              "three   6.484029  5.063397  0.000000   6.725847   8.941085\n",
              "four    8.453478  2.260569  6.725847   0.000000  10.847696\n",
              "five   11.411176  9.135266  8.941085  10.847696   0.000000"
            ],
            "text/html": [
              "\n",
              "  <div id=\"df-2bc6a685-5e67-46fb-ba7f-5a18f1923f33\">\n",
              "    <div class=\"colab-df-container\">\n",
              "      <div>\n",
              "<style scoped>\n",
              "    .dataframe tbody tr th:only-of-type {\n",
              "        vertical-align: middle;\n",
              "    }\n",
              "\n",
              "    .dataframe tbody tr th {\n",
              "        vertical-align: top;\n",
              "    }\n",
              "\n",
              "    .dataframe thead th {\n",
              "        text-align: right;\n",
              "    }\n",
              "</style>\n",
              "<table border=\"1\" class=\"dataframe\">\n",
              "  <thead>\n",
              "    <tr style=\"text-align: right;\">\n",
              "      <th></th>\n",
              "      <th>one</th>\n",
              "      <th>two</th>\n",
              "      <th>three</th>\n",
              "      <th>four</th>\n",
              "      <th>five</th>\n",
              "    </tr>\n",
              "  </thead>\n",
              "  <tbody>\n",
              "    <tr>\n",
              "      <th>one</th>\n",
              "      <td>0.000000</td>\n",
              "      <td>8.306044</td>\n",
              "      <td>6.484029</td>\n",
              "      <td>8.453478</td>\n",
              "      <td>11.411176</td>\n",
              "    </tr>\n",
              "    <tr>\n",
              "      <th>two</th>\n",
              "      <td>8.306044</td>\n",
              "      <td>0.000000</td>\n",
              "      <td>5.063397</td>\n",
              "      <td>2.260569</td>\n",
              "      <td>9.135266</td>\n",
              "    </tr>\n",
              "    <tr>\n",
              "      <th>three</th>\n",
              "      <td>6.484029</td>\n",
              "      <td>5.063397</td>\n",
              "      <td>0.000000</td>\n",
              "      <td>6.725847</td>\n",
              "      <td>8.941085</td>\n",
              "    </tr>\n",
              "    <tr>\n",
              "      <th>four</th>\n",
              "      <td>8.453478</td>\n",
              "      <td>2.260569</td>\n",
              "      <td>6.725847</td>\n",
              "      <td>0.000000</td>\n",
              "      <td>10.847696</td>\n",
              "    </tr>\n",
              "    <tr>\n",
              "      <th>five</th>\n",
              "      <td>11.411176</td>\n",
              "      <td>9.135266</td>\n",
              "      <td>8.941085</td>\n",
              "      <td>10.847696</td>\n",
              "      <td>0.000000</td>\n",
              "    </tr>\n",
              "  </tbody>\n",
              "</table>\n",
              "</div>\n",
              "      <button class=\"colab-df-convert\" onclick=\"convertToInteractive('df-2bc6a685-5e67-46fb-ba7f-5a18f1923f33')\"\n",
              "              title=\"Convert this dataframe to an interactive table.\"\n",
              "              style=\"display:none;\">\n",
              "        \n",
              "  <svg xmlns=\"http://www.w3.org/2000/svg\" height=\"24px\"viewBox=\"0 0 24 24\"\n",
              "       width=\"24px\">\n",
              "    <path d=\"M0 0h24v24H0V0z\" fill=\"none\"/>\n",
              "    <path d=\"M18.56 5.44l.94 2.06.94-2.06 2.06-.94-2.06-.94-.94-2.06-.94 2.06-2.06.94zm-11 1L8.5 8.5l.94-2.06 2.06-.94-2.06-.94L8.5 2.5l-.94 2.06-2.06.94zm10 10l.94 2.06.94-2.06 2.06-.94-2.06-.94-.94-2.06-.94 2.06-2.06.94z\"/><path d=\"M17.41 7.96l-1.37-1.37c-.4-.4-.92-.59-1.43-.59-.52 0-1.04.2-1.43.59L10.3 9.45l-7.72 7.72c-.78.78-.78 2.05 0 2.83L4 21.41c.39.39.9.59 1.41.59.51 0 1.02-.2 1.41-.59l7.78-7.78 2.81-2.81c.8-.78.8-2.07 0-2.86zM5.41 20L4 18.59l7.72-7.72 1.47 1.35L5.41 20z\"/>\n",
              "  </svg>\n",
              "      </button>\n",
              "      \n",
              "  <style>\n",
              "    .colab-df-container {\n",
              "      display:flex;\n",
              "      flex-wrap:wrap;\n",
              "      gap: 12px;\n",
              "    }\n",
              "\n",
              "    .colab-df-convert {\n",
              "      background-color: #E8F0FE;\n",
              "      border: none;\n",
              "      border-radius: 50%;\n",
              "      cursor: pointer;\n",
              "      display: none;\n",
              "      fill: #1967D2;\n",
              "      height: 32px;\n",
              "      padding: 0 0 0 0;\n",
              "      width: 32px;\n",
              "    }\n",
              "\n",
              "    .colab-df-convert:hover {\n",
              "      background-color: #E2EBFA;\n",
              "      box-shadow: 0px 1px 2px rgba(60, 64, 67, 0.3), 0px 1px 3px 1px rgba(60, 64, 67, 0.15);\n",
              "      fill: #174EA6;\n",
              "    }\n",
              "\n",
              "    [theme=dark] .colab-df-convert {\n",
              "      background-color: #3B4455;\n",
              "      fill: #D2E3FC;\n",
              "    }\n",
              "\n",
              "    [theme=dark] .colab-df-convert:hover {\n",
              "      background-color: #434B5C;\n",
              "      box-shadow: 0px 1px 3px 1px rgba(0, 0, 0, 0.15);\n",
              "      filter: drop-shadow(0px 1px 2px rgba(0, 0, 0, 0.3));\n",
              "      fill: #FFFFFF;\n",
              "    }\n",
              "  </style>\n",
              "\n",
              "      <script>\n",
              "        const buttonEl =\n",
              "          document.querySelector('#df-2bc6a685-5e67-46fb-ba7f-5a18f1923f33 button.colab-df-convert');\n",
              "        buttonEl.style.display =\n",
              "          google.colab.kernel.accessAllowed ? 'block' : 'none';\n",
              "\n",
              "        async function convertToInteractive(key) {\n",
              "          const element = document.querySelector('#df-2bc6a685-5e67-46fb-ba7f-5a18f1923f33');\n",
              "          const dataTable =\n",
              "            await google.colab.kernel.invokeFunction('convertToInteractive',\n",
              "                                                     [key], {});\n",
              "          if (!dataTable) return;\n",
              "\n",
              "          const docLinkHtml = 'Like what you see? Visit the ' +\n",
              "            '<a target=\"_blank\" href=https://colab.research.google.com/notebooks/data_table.ipynb>data table notebook</a>'\n",
              "            + ' to learn more about interactive tables.';\n",
              "          element.innerHTML = '';\n",
              "          dataTable['output_type'] = 'display_data';\n",
              "          await google.colab.output.renderOutput(dataTable, element);\n",
              "          const docLink = document.createElement('div');\n",
              "          docLink.innerHTML = docLinkHtml;\n",
              "          element.appendChild(docLink);\n",
              "        }\n",
              "      </script>\n",
              "    </div>\n",
              "  </div>\n",
              "  "
            ]
          },
          "metadata": {},
          "execution_count": 23
        }
      ]
    },
    {
      "cell_type": "code",
      "source": [
        "from  scipy.cluster.hierarchy import linkage"
      ],
      "metadata": {
        "id": "0Fdh6H0dik6J"
      },
      "execution_count": null,
      "outputs": []
    },
    {
      "cell_type": "code",
      "source": [
        "row_clusters = linkage(df.values, method='complete', metric='euclidean')"
      ],
      "metadata": {
        "id": "LpOIcWSOjG8Z"
      },
      "execution_count": null,
      "outputs": []
    },
    {
      "cell_type": "code",
      "source": [
        "pd.DataFrame(row_clusters, columns=['label1', 'label2', 'distance', 'number of items']\n",
        "             , index=['cluster %d' %(i+1) for i in range(row_clusters.shape[0])])\n"
      ],
      "metadata": {
        "colab": {
          "base_uri": "https://localhost:8080/",
          "height": 175
        },
        "id": "tWzSxn_Hj0wL",
        "outputId": "d6179e70-2592-47b4-991c-93860900152a"
      },
      "execution_count": null,
      "outputs": [
        {
          "output_type": "execute_result",
          "data": {
            "text/plain": [
              "           label1  label2   distance  number of items\n",
              "cluster 1     1.0     3.0   2.260569              2.0\n",
              "cluster 2     0.0     2.0   6.484029              2.0\n",
              "cluster 3     5.0     6.0   8.453478              4.0\n",
              "cluster 4     4.0     7.0  11.411176              5.0"
            ],
            "text/html": [
              "\n",
              "  <div id=\"df-972dc862-0bdd-46d5-8be9-2c684fb89039\">\n",
              "    <div class=\"colab-df-container\">\n",
              "      <div>\n",
              "<style scoped>\n",
              "    .dataframe tbody tr th:only-of-type {\n",
              "        vertical-align: middle;\n",
              "    }\n",
              "\n",
              "    .dataframe tbody tr th {\n",
              "        vertical-align: top;\n",
              "    }\n",
              "\n",
              "    .dataframe thead th {\n",
              "        text-align: right;\n",
              "    }\n",
              "</style>\n",
              "<table border=\"1\" class=\"dataframe\">\n",
              "  <thead>\n",
              "    <tr style=\"text-align: right;\">\n",
              "      <th></th>\n",
              "      <th>label1</th>\n",
              "      <th>label2</th>\n",
              "      <th>distance</th>\n",
              "      <th>number of items</th>\n",
              "    </tr>\n",
              "  </thead>\n",
              "  <tbody>\n",
              "    <tr>\n",
              "      <th>cluster 1</th>\n",
              "      <td>1.0</td>\n",
              "      <td>3.0</td>\n",
              "      <td>2.260569</td>\n",
              "      <td>2.0</td>\n",
              "    </tr>\n",
              "    <tr>\n",
              "      <th>cluster 2</th>\n",
              "      <td>0.0</td>\n",
              "      <td>2.0</td>\n",
              "      <td>6.484029</td>\n",
              "      <td>2.0</td>\n",
              "    </tr>\n",
              "    <tr>\n",
              "      <th>cluster 3</th>\n",
              "      <td>5.0</td>\n",
              "      <td>6.0</td>\n",
              "      <td>8.453478</td>\n",
              "      <td>4.0</td>\n",
              "    </tr>\n",
              "    <tr>\n",
              "      <th>cluster 4</th>\n",
              "      <td>4.0</td>\n",
              "      <td>7.0</td>\n",
              "      <td>11.411176</td>\n",
              "      <td>5.0</td>\n",
              "    </tr>\n",
              "  </tbody>\n",
              "</table>\n",
              "</div>\n",
              "      <button class=\"colab-df-convert\" onclick=\"convertToInteractive('df-972dc862-0bdd-46d5-8be9-2c684fb89039')\"\n",
              "              title=\"Convert this dataframe to an interactive table.\"\n",
              "              style=\"display:none;\">\n",
              "        \n",
              "  <svg xmlns=\"http://www.w3.org/2000/svg\" height=\"24px\"viewBox=\"0 0 24 24\"\n",
              "       width=\"24px\">\n",
              "    <path d=\"M0 0h24v24H0V0z\" fill=\"none\"/>\n",
              "    <path d=\"M18.56 5.44l.94 2.06.94-2.06 2.06-.94-2.06-.94-.94-2.06-.94 2.06-2.06.94zm-11 1L8.5 8.5l.94-2.06 2.06-.94-2.06-.94L8.5 2.5l-.94 2.06-2.06.94zm10 10l.94 2.06.94-2.06 2.06-.94-2.06-.94-.94-2.06-.94 2.06-2.06.94z\"/><path d=\"M17.41 7.96l-1.37-1.37c-.4-.4-.92-.59-1.43-.59-.52 0-1.04.2-1.43.59L10.3 9.45l-7.72 7.72c-.78.78-.78 2.05 0 2.83L4 21.41c.39.39.9.59 1.41.59.51 0 1.02-.2 1.41-.59l7.78-7.78 2.81-2.81c.8-.78.8-2.07 0-2.86zM5.41 20L4 18.59l7.72-7.72 1.47 1.35L5.41 20z\"/>\n",
              "  </svg>\n",
              "      </button>\n",
              "      \n",
              "  <style>\n",
              "    .colab-df-container {\n",
              "      display:flex;\n",
              "      flex-wrap:wrap;\n",
              "      gap: 12px;\n",
              "    }\n",
              "\n",
              "    .colab-df-convert {\n",
              "      background-color: #E8F0FE;\n",
              "      border: none;\n",
              "      border-radius: 50%;\n",
              "      cursor: pointer;\n",
              "      display: none;\n",
              "      fill: #1967D2;\n",
              "      height: 32px;\n",
              "      padding: 0 0 0 0;\n",
              "      width: 32px;\n",
              "    }\n",
              "\n",
              "    .colab-df-convert:hover {\n",
              "      background-color: #E2EBFA;\n",
              "      box-shadow: 0px 1px 2px rgba(60, 64, 67, 0.3), 0px 1px 3px 1px rgba(60, 64, 67, 0.15);\n",
              "      fill: #174EA6;\n",
              "    }\n",
              "\n",
              "    [theme=dark] .colab-df-convert {\n",
              "      background-color: #3B4455;\n",
              "      fill: #D2E3FC;\n",
              "    }\n",
              "\n",
              "    [theme=dark] .colab-df-convert:hover {\n",
              "      background-color: #434B5C;\n",
              "      box-shadow: 0px 1px 3px 1px rgba(0, 0, 0, 0.15);\n",
              "      filter: drop-shadow(0px 1px 2px rgba(0, 0, 0, 0.3));\n",
              "      fill: #FFFFFF;\n",
              "    }\n",
              "  </style>\n",
              "\n",
              "      <script>\n",
              "        const buttonEl =\n",
              "          document.querySelector('#df-972dc862-0bdd-46d5-8be9-2c684fb89039 button.colab-df-convert');\n",
              "        buttonEl.style.display =\n",
              "          google.colab.kernel.accessAllowed ? 'block' : 'none';\n",
              "\n",
              "        async function convertToInteractive(key) {\n",
              "          const element = document.querySelector('#df-972dc862-0bdd-46d5-8be9-2c684fb89039');\n",
              "          const dataTable =\n",
              "            await google.colab.kernel.invokeFunction('convertToInteractive',\n",
              "                                                     [key], {});\n",
              "          if (!dataTable) return;\n",
              "\n",
              "          const docLinkHtml = 'Like what you see? Visit the ' +\n",
              "            '<a target=\"_blank\" href=https://colab.research.google.com/notebooks/data_table.ipynb>data table notebook</a>'\n",
              "            + ' to learn more about interactive tables.';\n",
              "          element.innerHTML = '';\n",
              "          dataTable['output_type'] = 'display_data';\n",
              "          await google.colab.output.renderOutput(dataTable, element);\n",
              "          const docLink = document.createElement('div');\n",
              "          docLink.innerHTML = docLinkHtml;\n",
              "          element.appendChild(docLink);\n",
              "        }\n",
              "      </script>\n",
              "    </div>\n",
              "  </div>\n",
              "  "
            ]
          },
          "metadata": {},
          "execution_count": 26
        }
      ]
    },
    {
      "cell_type": "code",
      "source": [
        "from scipy.cluster.hierarchy import dendrogram\n",
        "row_dendr = dendrogram(row_clusters, labels =labels)\n",
        "plt.ylabel('l2 norma')"
      ],
      "metadata": {
        "colab": {
          "base_uri": "https://localhost:8080/",
          "height": 285
        },
        "id": "GO9DmRXVmu6x",
        "outputId": "68900ccc-08e2-4283-fe4c-2ab564d4cae4"
      },
      "execution_count": null,
      "outputs": [
        {
          "output_type": "execute_result",
          "data": {
            "text/plain": [
              "Text(0, 0.5, 'l2 norma')"
            ]
          },
          "metadata": {},
          "execution_count": 27
        },
        {
          "output_type": "display_data",
          "data": {
            "text/plain": [
              "<Figure size 432x288 with 1 Axes>"
            ],
            "image/png": "[encoded data removed]"
          },
          "metadata": {
            "needs_background": "light"
          }
        }
      ]
    },
    {
      "cell_type": "markdown",
      "source": [],
      "metadata": {
        "id": "Yy4Xdlj7Kw8n"
      }
    }
  ]
}