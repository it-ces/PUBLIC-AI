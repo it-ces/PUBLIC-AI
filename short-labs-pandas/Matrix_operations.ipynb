{
  "nbformat": 4,
  "nbformat_minor": 0,
  "metadata": {
    "colab": {
      "provenance": []
    },
    "kernelspec": {
      "name": "python3",
      "display_name": "Python 3"
    }
  },
  "cells": [
    {
      "cell_type": "code",
      "metadata": {
        "id": "XJ5bqAgxgNn1"
      },
      "source": [
        "#Iván Andrés trujillo abella\n",
        "#ivantrujillo1229@gmail.com\n",
        "matrix = [[1,2,3],[10,11,12],[18,19,29]]\n",
        "def transpose(matx):\n",
        "  transpose_mat=[]\n",
        "  for h in range(0,len(matx[0])):\n",
        "    row =[]\n",
        "    for j in matx:\n",
        "      row.append(j[h])\n",
        "    transpose_mat.append(row)\n",
        "  return transpose_mat\n",
        "\n",
        "def nrow(size,row_n):\n",
        "    row = []\n",
        "    for j in range(0,size):\n",
        "      if j == row_n-1:\n",
        "        row.append(1)\n",
        "      else:\n",
        "        row.append(0)\n",
        "    return row\n",
        "\n",
        "def indentity(matrix):     # we also could take min ( column, row) and return a square of these size\n",
        "  # check if square\n",
        "  check = len(matrix)\n",
        "  for j in matrix:\n",
        "    if len(j)!= check:\n",
        "      raise Exception(\"Not is a square MATRIX\")\n",
        "  mat=[]\n",
        "  for j in range(1,check+1):\n",
        "    mat.append(nrow(check,j))\n",
        "  return mat\n",
        "\n",
        "def sum_matrix(matA, matB):\n",
        "  rows = len(matA)\n",
        "  column =len(matA[0])\n",
        "  if len(matA) != len(matB):\n",
        "    raise Exception('Dont have the same number of rows')  # using transpose we can check the number of columns!\n",
        "  sum_mat = []\n",
        "  for i in range(0,rows):\n",
        "    row =[]\n",
        "    for j in range(0,column):\n",
        "      row.append(matA[i][j]+matB[i][j])\n",
        "    sum_mat.append(row)\n",
        "  return sum_mat\n",
        "\n",
        "def inner(vectorA,vectorB):\n",
        "  if len(vectorA) != len(vectorB):\n",
        "    raise Exception('overcome dimensionality')\n",
        "  column = len(vectorA)\n",
        "  addedVector = []\n",
        "  for j in range(0,column):\n",
        "    if type(vectorB[j])==list:\n",
        "      addedVector.append(vectorA[j] * vectorB[j][0])\n",
        "    if type(vectorB[j])!=list:\n",
        "      addedVector.append(vectorA[j] * vectorB[j])\n",
        "  return sum(addedVector)\n",
        "\n",
        "def prod(matA, matB):\n",
        " row = len(matA)\n",
        " col = len(transpose(matB))\n",
        " resultado = []\n",
        " for j in range(0,row):\n",
        "   row =[]\n",
        "   for i in range(0,col):\n",
        "    row.append(inner(matA[j],transpose(matB)[i]))\n",
        "   resultado.append(row)\n",
        " return resultado\n"
      ],
      "execution_count": null,
      "outputs": []
    },
    {
      "cell_type": "markdown",
      "metadata": {
        "id": "Pn65odmGbIsk"
      },
      "source": [
        "# Functions to our program\n",
        "* transpose\n",
        "* identity\n",
        "* sum_matrix\n",
        "* prod"
      ]
    }
  ]
}