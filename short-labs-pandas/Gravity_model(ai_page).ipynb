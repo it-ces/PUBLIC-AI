{
  "cells": [
    {
      "cell_type": "code",
      "source": [
        "# Iván Andrés Trujillo Abella\n",
        "# ivantrujillo1229@gmail.com"
      ],
      "metadata": {
        "id": "rFhWkmwYVmC4"
      },
      "execution_count": null,
      "outputs": []
    },
    {
      "cell_type": "code",
      "execution_count": null,
      "metadata": {
        "colab": {
          "background_save": true,
          "base_uri": "https://localhost:8080/"
        },
        "id": "s3Dzszxgg0NQ",
        "outputId": "332c9623-55aa-435a-95e8-c3d6311f2e9e"
      },
      "outputs": [
        {
          "name": "stdout",
          "output_type": "stream",
          "text": [
            "Requirement already satisfied: thefuzz in /usr/local/lib/python3.10/dist-packages (0.22.1)\n",
            "Requirement already satisfied: rapidfuzz<4.0.0,>=3.0.0 in /usr/local/lib/python3.10/dist-packages (from thefuzz) (3.9.7)\n"
          ]
        }
      ],
      "source": [
        "!pip install thefuzz"
      ]
    },
    {
      "cell_type": "code",
      "execution_count": null,
      "metadata": {
        "colab": {
          "background_save": true
        },
        "id": "Yi_rsCYvkhIn"
      },
      "outputs": [],
      "source": [
        "import pandas as pd\n",
        "import numpy as np\n",
        "from thefuzz import fuzz\n",
        "import re"
      ]
    },
    {
      "cell_type": "code",
      "execution_count": null,
      "metadata": {
        "colab": {
          "background_save": true
        },
        "id": "QuYdQyM2uEGm"
      },
      "outputs": [],
      "source": [
        "def clean_text(text):\n",
        "  text = text.strip().upper().replace(\" \",\"\")\n",
        "  text = text.replace('Á','A')\n",
        "  text = text.replace('É', 'E')\n",
        "  text = text.replace('Í', 'I')\n",
        "  text = text.replace('Ó', 'O')\n",
        "  text = text.replace('Ú','U')\n",
        "  return text\n",
        "\n",
        "def drop_col(df_, threshold):\n",
        "  df  = df_.copy()\n",
        "  to_drop = []\n",
        "  for col in df.columns:\n",
        "    if (df[col].isnull().sum()/df.shape[0]) >= threshold:\n",
        "      to_drop.append(col)\n",
        "  return to_drop\n",
        "\n",
        "\n",
        "def fix_cols(columns_name):\n",
        "  new = []\n",
        "  capture_year = ''\n",
        "  for token in columns_name:\n",
        "    if bool(len((re.findall('\\d{4}', token)))):\n",
        "      capture_year = ''.join(re.findall('\\d{4}', token))\n",
        "    new.append(str(capture_year) +  str(token) )\n",
        "  return new\n",
        "\n",
        "def capturing(string):\n",
        "  if bool(re.search(r\"(^\\d{4}).+(Dólares|Pesos).+(FOB|CIF)\", string)):\n",
        "    result = re.search(r\"(^\\d{4}).+(Dólares|Pesos).+(FOB|CIF)\", string)\n",
        "    return '-'.join(result.groups())\n",
        "  else:\n",
        "    return string\n",
        "\n",
        "\n",
        "def fuzzy_match(target, sample):\n",
        "  book = {}\n",
        "  book[target] = {}\n",
        "  for element in sample:\n",
        "    if fuzz.ratio(target, element) > 50 and len(\"\".join(set(element) & set(target)))/len(min(element, target)) > 0.43:\n",
        "      book[target][element] =  fuzz.ratio(target, element)\n",
        "  array = sorted(book[target].items(), key=lambda item: int(item[1]), reverse=True)\n",
        "  if len(array)>= 1:\n",
        "    return sorted(book[target].items(), key=lambda item: int(item[1]), reverse=True)[0][0]\n",
        "  else:\n",
        "    return 'unknown'"
      ]
    },
    {
      "cell_type": "code",
      "execution_count": null,
      "metadata": {
        "colab": {
          "background_save": true
        },
        "id": "4U2dUve8za4z"
      },
      "outputs": [],
      "source": [
        "url_names = 'https://raw.githubusercontent.com/it-ces/Datasets/main/world.csv'\n",
        "names = pd.read_csv(url_names)\n",
        "names.drop(index=names[names['es'].duplicated(keep='first')].index,inplace=True)\n",
        "names['en'] = names['en'].apply(lambda x : clean_text(str(x)))\n",
        "names['es'] = names['es'].apply(lambda x : clean_text(str(x)))\n",
        "book = names[['en', 'es']].set_index('es').to_dict()['en']"
      ]
    },
    {
      "cell_type": "code",
      "execution_count": null,
      "metadata": {
        "colab": {
          "background_save": true
        },
        "id": "gFjNeu9fkvVc"
      },
      "outputs": [],
      "source": [
        "url_loc = 'https://raw.githubusercontent.com/it-ces/Datasets/main/Countries-location(google).csv'\n",
        "url_imp = 'https://raw.githubusercontent.com/it-ces/Datasets/main/dane-importaciones.csv'\n",
        "url_exp = 'https://raw.githubusercontent.com/it-ces/Datasets/main/dane-exportaciones.csv'\n",
        "url_pib = 'https://raw.githubusercontent.com/it-ces/Datasets/main/wbdata-gdp-lifeExp-time-series.csv'"
      ]
    },
    {
      "cell_type": "code",
      "execution_count": null,
      "metadata": {
        "colab": {
          "background_save": true
        },
        "id": "48SnbH1Jk0dR"
      },
      "outputs": [],
      "source": [
        "info = {}\n",
        "info['location']  = pd.read_csv(url_loc)\n",
        "info['import'] = pd.read_csv(url_imp, header=[0,1])\n",
        "info['export']  = pd.read_csv(url_exp, header=[0,1])\n",
        "info['gdp'] = pd.read_csv(url_pib)\n",
        "#info['url_names'] = pd.read_csv(url_names)"
      ]
    },
    {
      "cell_type": "code",
      "execution_count": null,
      "metadata": {
        "colab": {
          "background_save": true
        },
        "id": "8qpOonhloC9x"
      },
      "outputs": [],
      "source": [
        "info['import'].drop(index=info['import'][info['import']['País']['Unnamed: 1_level_1'].duplicated(keep=False)].index, inplace=True)"
      ]
    },
    {
      "cell_type": "code",
      "execution_count": null,
      "metadata": {
        "colab": {
          "background_save": true
        },
        "id": "MlikJBAXoVG0",
        "outputId": "2526580e-9914-446a-8d0f-58e481a1be21"
      },
      "outputs": [
        {
          "data": {
            "application/vnd.google.colaboratory.intrinsic+json": {
              "type": "dataframe"
            },
            "text/html": [
              "\n",
              "  <div id=\"df-65adc7a0-bee4-4336-abb7-43588917fbef\" class=\"colab-df-container\">\n",
              "    <div>\n",
              "<style scoped>\n",
              "    .dataframe tbody tr th:only-of-type {\n",
              "        vertical-align: middle;\n",
              "    }\n",
              "\n",
              "    .dataframe tbody tr th {\n",
              "        vertical-align: top;\n",
              "    }\n",
              "\n",
              "    .dataframe thead tr th {\n",
              "        text-align: left;\n",
              "    }\n",
              "</style>\n",
              "<table border=\"1\" class=\"dataframe\">\n",
              "  <thead>\n",
              "    <tr>\n",
              "      <th></th>\n",
              "      <th>Código</th>\n",
              "      <th>País</th>\n",
              "      <th>1970</th>\n",
              "      <th>Unnamed: 3_level_0</th>\n",
              "      <th>Unnamed: 4_level_0</th>\n",
              "      <th>Unnamed: 5_level_0</th>\n",
              "      <th>1971</th>\n",
              "      <th>Unnamed: 7_level_0</th>\n",
              "      <th>Unnamed: 8_level_0</th>\n",
              "      <th>Unnamed: 9_level_0</th>\n",
              "      <th>...</th>\n",
              "      <th>2022</th>\n",
              "      <th>Unnamed: 211_level_0</th>\n",
              "      <th>Unnamed: 212_level_0</th>\n",
              "      <th>Unnamed: 213_level_0</th>\n",
              "      <th>2023</th>\n",
              "      <th>Unnamed: 215_level_0</th>\n",
              "      <th>Unnamed: 216_level_0</th>\n",
              "      <th>2024*</th>\n",
              "      <th>Unnamed: 218_level_0</th>\n",
              "      <th>Unnamed: 219_level_0</th>\n",
              "    </tr>\n",
              "    <tr>\n",
              "      <th></th>\n",
              "      <th>Unnamed: 0_level_1</th>\n",
              "      <th>Unnamed: 1_level_1</th>\n",
              "      <th>Kilos Netos</th>\n",
              "      <th>Dólares FOB</th>\n",
              "      <th>Pesos FOB</th>\n",
              "      <th>Unnamed: 5_level_1</th>\n",
              "      <th>Kilos Netos</th>\n",
              "      <th>Dólares FOB</th>\n",
              "      <th>Pesos FOB</th>\n",
              "      <th>Unnamed: 9_level_1</th>\n",
              "      <th>...</th>\n",
              "      <th>Kilos Netos</th>\n",
              "      <th>Dólares FOB</th>\n",
              "      <th>Pesos FOB</th>\n",
              "      <th>Unnamed: 213_level_1</th>\n",
              "      <th>Kilos Netos</th>\n",
              "      <th>Dólares FOB</th>\n",
              "      <th>Pesos FOB</th>\n",
              "      <th>Kilos Netos</th>\n",
              "      <th>Dólares FOB</th>\n",
              "      <th>Pesos FOB</th>\n",
              "    </tr>\n",
              "  </thead>\n",
              "  <tbody>\n",
              "  </tbody>\n",
              "</table>\n",
              "<p>0 rows × 220 columns</p>\n",
              "</div>\n",
              "    <div class=\"colab-df-buttons\">\n",
              "\n",
              "  <div class=\"colab-df-container\">\n",
              "    <button class=\"colab-df-convert\" onclick=\"convertToInteractive('df-65adc7a0-bee4-4336-abb7-43588917fbef')\"\n",
              "            title=\"Convert this dataframe to an interactive table.\"\n",
              "            style=\"display:none;\">\n",
              "\n",
              "  <svg xmlns=\"http://www.w3.org/2000/svg\" height=\"24px\" viewBox=\"0 -960 960 960\">\n",
              "    <path d=\"M120-120v-720h720v720H120Zm60-500h600v-160H180v160Zm220 220h160v-160H400v160Zm0 220h160v-160H400v160ZM180-400h160v-160H180v160Zm440 0h160v-160H620v160ZM180-180h160v-160H180v160Zm440 0h160v-160H620v160Z\"/>\n",
              "  </svg>\n",
              "    </button>\n",
              "\n",
              "  <style>\n",
              "    .colab-df-container {\n",
              "      display:flex;\n",
              "      gap: 12px;\n",
              "    }\n",
              "\n",
              "    .colab-df-convert {\n",
              "      background-color: #E8F0FE;\n",
              "      border: none;\n",
              "      border-radius: 50%;\n",
              "      cursor: pointer;\n",
              "      display: none;\n",
              "      fill: #1967D2;\n",
              "      height: 32px;\n",
              "      padding: 0 0 0 0;\n",
              "      width: 32px;\n",
              "    }\n",
              "\n",
              "    .colab-df-convert:hover {\n",
              "      background-color: #E2EBFA;\n",
              "      box-shadow: 0px 1px 2px rgba(60, 64, 67, 0.3), 0px 1px 3px 1px rgba(60, 64, 67, 0.15);\n",
              "      fill: #174EA6;\n",
              "    }\n",
              "\n",
              "    .colab-df-buttons div {\n",
              "      margin-bottom: 4px;\n",
              "    }\n",
              "\n",
              "    [theme=dark] .colab-df-convert {\n",
              "      background-color: #3B4455;\n",
              "      fill: #D2E3FC;\n",
              "    }\n",
              "\n",
              "    [theme=dark] .colab-df-convert:hover {\n",
              "      background-color: #434B5C;\n",
              "      box-shadow: 0px 1px 3px 1px rgba(0, 0, 0, 0.15);\n",
              "      filter: drop-shadow(0px 1px 2px rgba(0, 0, 0, 0.3));\n",
              "      fill: #FFFFFF;\n",
              "    }\n",
              "  </style>\n",
              "\n",
              "    <script>\n",
              "      const buttonEl =\n",
              "        document.querySelector('#df-65adc7a0-bee4-4336-abb7-43588917fbef button.colab-df-convert');\n",
              "      buttonEl.style.display =\n",
              "        google.colab.kernel.accessAllowed ? 'block' : 'none';\n",
              "\n",
              "      async function convertToInteractive(key) {\n",
              "        const element = document.querySelector('#df-65adc7a0-bee4-4336-abb7-43588917fbef');\n",
              "        const dataTable =\n",
              "          await google.colab.kernel.invokeFunction('convertToInteractive',\n",
              "                                                    [key], {});\n",
              "        if (!dataTable) return;\n",
              "\n",
              "        const docLinkHtml = 'Like what you see? Visit the ' +\n",
              "          '<a target=\"_blank\" href=https://colab.research.google.com/notebooks/data_table.ipynb>data table notebook</a>'\n",
              "          + ' to learn more about interactive tables.';\n",
              "        element.innerHTML = '';\n",
              "        dataTable['output_type'] = 'display_data';\n",
              "        await google.colab.output.renderOutput(dataTable, element);\n",
              "        const docLink = document.createElement('div');\n",
              "        docLink.innerHTML = docLinkHtml;\n",
              "        element.appendChild(docLink);\n",
              "      }\n",
              "    </script>\n",
              "  </div>\n",
              "\n",
              "\n",
              "    </div>\n",
              "  </div>\n"
            ],
            "text/plain": [
              "Empty DataFrame\n",
              "Columns: [(Código, Unnamed: 0_level_1), (País, Unnamed: 1_level_1), (1970, Kilos Netos), (Unnamed: 3_level_0, Dólares FOB), (Unnamed: 4_level_0, Pesos FOB), (Unnamed: 5_level_0, Unnamed: 5_level_1), (1971, Kilos Netos), (Unnamed: 7_level_0, Dólares FOB), (Unnamed: 8_level_0, Pesos FOB), (Unnamed: 9_level_0, Unnamed: 9_level_1), (1972, Kilos Netos), (Unnamed: 11_level_0, Dólares FOB), (Unnamed: 12_level_0, Pesos FOB), (Unnamed: 13_level_0, Unnamed: 13_level_1), (1973, Kilos Netos), (Unnamed: 15_level_0, Dólares FOB), (Unnamed: 16_level_0, Pesos FOB), (Unnamed: 17_level_0, Unnamed: 17_level_1), (1974, Kilos Netos), (Unnamed: 19_level_0, Dólares FOB), (Unnamed: 20_level_0, Pesos FOB), (Unnamed: 21_level_0, Unnamed: 21_level_1), (1975, Kilos Netos), (Unnamed: 23_level_0, Dólares FOB), (Unnamed: 24_level_0, Pesos FOB), (Unnamed: 25_level_0, Unnamed: 25_level_1), (1976, Kilos Netos), (Unnamed: 27_level_0, Dólares FOB), (Unnamed: 28_level_0, Pesos FOB), (Unnamed: 29_level_0, Unnamed: 29_level_1), (1977, Kilos Netos), (Unnamed: 31_level_0, Dólares FOB), (Unnamed: 32_level_0, Pesos FOB), (Unnamed: 33_level_0, Unnamed: 33_level_1), (1978, Kilos Netos), (Unnamed: 35_level_0, Dólares FOB), (Unnamed: 36_level_0, Pesos FOB), (Unnamed: 37_level_0, Unnamed: 37_level_1), (1979, Kilos Netos), (Unnamed: 39_level_0, Dólares FOB), (Unnamed: 40_level_0, Pesos FOB), (Unnamed: 41_level_0, Unnamed: 41_level_1), (1980, Kilos Netos), (Unnamed: 43_level_0, Dólares FOB), (Unnamed: 44_level_0, Pesos FOB), (Unnamed: 45_level_0, Unnamed: 45_level_1), (1981, Kilos Netos), (Unnamed: 47_level_0, Dólares FOB), (Unnamed: 48_level_0, Pesos FOB), (Unnamed: 49_level_0, Unnamed: 49_level_1), (1982, Kilos Netos), (Unnamed: 51_level_0, Dólares FOB), (Unnamed: 52_level_0, Pesos FOB), (Unnamed: 53_level_0, Unnamed: 53_level_1), (1983, Kilos Netos), (Unnamed: 55_level_0, Dólares FOB), (Unnamed: 56_level_0, Pesos FOB), (Unnamed: 57_level_0, Unnamed: 57_level_1), (1984, Kilos Netos), (Unnamed: 59_level_0, Dólares FOB), (Unnamed: 60_level_0, Pesos FOB), (Unnamed: 61_level_0, Unnamed: 61_level_1), (1985, Kilos Netos), (Unnamed: 63_level_0, Dólares FOB), (Unnamed: 64_level_0, Pesos FOB), (Unnamed: 65_level_0, Unnamed: 65_level_1), (1986, Kilos Netos), (Unnamed: 67_level_0, Dólares FOB), (Unnamed: 68_level_0, Pesos FOB), (Unnamed: 69_level_0, Unnamed: 69_level_1), (1987, Kilos Netos), (Unnamed: 71_level_0, Dólares FOB), (Unnamed: 72_level_0, Pesos FOB), (Unnamed: 73_level_0, Unnamed: 73_level_1), (1988, Kilos Netos), (Unnamed: 75_level_0, Dólares FOB), (Unnamed: 76_level_0, Pesos FOB), (Unnamed: 77_level_0, Unnamed: 77_level_1), (1989, Kilos Netos), (Unnamed: 79_level_0, Dólares FOB), (Unnamed: 80_level_0, Pesos FOB), (Unnamed: 81_level_0, Unnamed: 81_level_1), (1990, Kilos Netos), (Unnamed: 83_level_0, Dólares FOB), (Unnamed: 84_level_0, Pesos FOB), (Unnamed: 85_level_0, Unnamed: 85_level_1), (1991, Kilos Netos), (Unnamed: 87_level_0, Dólares FOB), (Unnamed: 88_level_0, Pesos FOB), (Unnamed: 89_level_0, Unnamed: 89_level_1), (1992, Kilos Netos), (Unnamed: 91_level_0, Dólares FOB), (Unnamed: 92_level_0, Pesos FOB), (Unnamed: 93_level_0, Unnamed: 93_level_1), (1993, Kilos Netos), (Unnamed: 95_level_0, Dólares FOB), (Unnamed: 96_level_0, Pesos FOB), (Unnamed: 97_level_0, Unnamed: 97_level_1), (1994, Kilos Netos), (Unnamed: 99_level_0, Dólares FOB), ...]\n",
              "Index: []\n",
              "\n",
              "[0 rows x 220 columns]"
            ]
          },
          "execution_count": 8,
          "metadata": {},
          "output_type": "execute_result"
        }
      ],
      "source": [
        "info['export'][info['export']['País']['Unnamed: 1_level_1'].duplicated(keep=False)]"
      ]
    },
    {
      "cell_type": "code",
      "execution_count": null,
      "metadata": {
        "colab": {
          "background_save": true
        },
        "id": "F3E5ZzzF9dV1"
      },
      "outputs": [],
      "source": [
        "info['export'].drop(columns= drop_col(info['export'], 0.95), inplace=True)\n",
        "info['export'].columns = [col[0] + re.sub(r'Unnamed:.+', '',col[1]) for col in info['export'].columns]\n",
        "info['export'].columns = fix_cols(info['export'].columns)\n",
        "info['export'].columns = [capturing(name) for name in  info['export'].columns]\n",
        "features_ = list(info['export'].columns[0:2]) + [ col for col in info['export'].columns if bool(len(re.findall(r'FOB',col)))]\n",
        "info['export'] = info['export'][features_]"
      ]
    },
    {
      "cell_type": "code",
      "execution_count": null,
      "metadata": {
        "colab": {
          "background_save": true
        },
        "id": "ldkdG80Z9V6s"
      },
      "outputs": [],
      "source": [
        "info['import'].drop(columns= drop_col(info['import'], 0.99), inplace=True)\n",
        "info['import'].columns = [col[0] + re.sub(r'Unnamed:.+','',col[1]) for col in info['import'].columns]\n",
        "info['import'].columns = fix_cols(info['import'].columns)\n",
        "info['import'].columns = [capturing(name) for name in  info['import'].columns]\n",
        "# capture FOBS\n",
        "features_ = list(info['import'].columns[0:2]) + [ col for col in info['import'].columns if bool(len(re.findall(r'FOB',col)))]\n",
        "info['import'] = info['import'][features_]"
      ]
    },
    {
      "cell_type": "markdown",
      "metadata": {
        "id": "_a9MnNkV9C5h"
      },
      "source": []
    },
    {
      "cell_type": "code",
      "execution_count": null,
      "metadata": {
        "colab": {
          "background_save": true
        },
        "id": "KndxHwAblsgJ"
      },
      "outputs": [],
      "source": [
        "keys = {}\n",
        "keys['location']  = 'name'\n",
        "keys['import'] = 'País'\n",
        "keys['export'] = 'País'\n",
        "keys['gdp']  =  'value'"
      ]
    },
    {
      "cell_type": "code",
      "execution_count": null,
      "metadata": {
        "colab": {
          "background_save": true
        },
        "id": "3mXljDRVmW4j",
        "outputId": "e1d3e850-5775-4610-8691-06494af3918e"
      },
      "outputs": [
        {
          "name": "stdout",
          "output_type": "stream",
          "text": [
            "location\n",
            "import\n",
            "export\n",
            "gdp\n"
          ]
        }
      ],
      "source": [
        "for base in info:\n",
        "  print(base)\n",
        "  info[base].rename(columns={keys[base]:'id_key'}, inplace=True)\n",
        "  info[base]['id_key'] = info[base]['id_key'].apply(lambda x : clean_text(str(x)))\n",
        "  info[base]['id_key'] = info[base]['id_key'].replace(book)"
      ]
    },
    {
      "cell_type": "code",
      "execution_count": null,
      "metadata": {
        "colab": {
          "background_save": true
        },
        "id": "7B4DQJNsm44n",
        "outputId": "5c1566da-9d8c-441c-b6cb-8af62a19ffbc"
      },
      "outputs": [
        {
          "name": "stdout",
          "output_type": "stream",
          "text": [
            "1243\n",
            "486\n"
          ]
        }
      ],
      "source": [
        "all = []\n",
        "for base in info:\n",
        "  all = all + list(info[base]['id_key'].unique())\n",
        "print(len(all))\n",
        "print(len(set(all)))\n",
        "\n",
        "gdpset = set(info['gdp']['id_key'].unique())\n",
        "A = set(info['import']['id_key'].unique())\n",
        "B = set(info['export']['id_key'].unique())\n",
        "intersect = (A & B & gdpset)\n",
        "\n",
        "to_keep = {}\n",
        "for elemento in A - intersect:\n",
        "  if fuzzy_match(elemento, gdpset-intersect) != 'unknown':\n",
        "    if fuzzy_match(elemento, gdpset-intersect) not in to_keep.values():\n",
        "      to_keep[elemento] =  fuzzy_match(elemento, gdpset-intersect)"
      ]
    },
    {
      "cell_type": "code",
      "execution_count": null,
      "metadata": {
        "colab": {
          "background_save": true
        },
        "id": "cZ6gwVmBuLyy",
        "outputId": "3d96486e-7f42-487c-e3ef-abe18f43753f"
      },
      "outputs": [
        {
          "data": {
            "text/plain": [
              "{'CONGO,REPUBLICADEMOCRATICADEL': 'CONGO,DEM.REP.',\n",
              " 'SIRIA,REPUBLICAARABE': 'SYRIANARABREPUBLIC',\n",
              " 'BOUVET,ISLA': 'FAROEISLANDS',\n",
              " \"CÔTED'IVOIRE\": \"COTED'IVOIRE\",\n",
              " 'UNITEDSTATESOFAMERICA': 'UNITEDSTATES',\n",
              " 'SLOVAKIA': 'SLOVAKREPUBLIC',\n",
              " 'VENEZUELA,BOLIVARIANREPUBLICOF': 'CENTRALAFRICANREPUBLIC',\n",
              " 'HEARDYMCDONALD,ISLAS': 'CAYMANISLANDS',\n",
              " 'MACEDONIA': 'NORTHMACEDONIA',\n",
              " 'MARIANASDELNORTE,ISLAS': 'NORTHERNMARIANAISLANDS',\n",
              " 'NUEVAZELANDIA': 'NEWZEALAND',\n",
              " 'ANTILLASHOLANDESAS': 'CHANNELISLANDS',\n",
              " 'EGYPT': 'EGYPT,ARABREP.',\n",
              " 'BAHREIN': 'BAHRAIN',\n",
              " 'YEMEN': 'YEMEN,REP.',\n",
              " 'TIMORDELESTE': 'TIMOR-LESTE',\n",
              " 'ZFPSURCOLOMBIANA': 'SOLOMONISLANDS',\n",
              " 'SANMARTIN(PARTEHOLANDESA)': 'ST.MARTIN(FRENCHPART)',\n",
              " 'SAINTLUCIA': 'ST.LUCIA',\n",
              " 'RUSIA,FEDERACIONDE': 'RUSSIANFEDERATION',\n",
              " 'HONGKONG': 'HONGKONGSAR,CHINA',\n",
              " 'GAMBIA': 'GAMBIA,THE',\n",
              " 'IRAN,REPUBLICAISLAMICADE': 'IRAN,ISLAMICREP.',\n",
              " 'KAZAJSTAN': 'KAZAKHSTAN',\n",
              " 'TURCASYCAICOS,ISLAS': 'TURKSANDCAICOSISLANDS',\n",
              " 'BELARUSIA': 'BELARUS',\n",
              " 'TANZANIA,REPUBLICAUNIDADE': 'TANZANIA,UNITEDREPUBLICOF',\n",
              " 'MACAO': 'MACAOSAR,CHINA',\n",
              " 'CONGO': 'CONGO,REP.',\n",
              " 'MARSHALL,ISLAS': 'MARSHALLISLANDS',\n",
              " 'COREA': 'KOREA,REP.',\n",
              " 'SAINTKITTSANDNEVIS': 'ST.KITTSANDNEVIS',\n",
              " 'BAHAMAS': 'BAHAMAS,THE',\n",
              " 'MARTINIQUE': 'ESWATINI',\n",
              " 'TÜRKIYE': 'TURKIYE',\n",
              " 'MICRONESIA,ESTADOSFEDERADOSDE': 'MICRONESIA,FED.STS.',\n",
              " 'CURAZAO,ISLA': 'CURACAO'}"
            ]
          },
          "execution_count": 14,
          "metadata": {},
          "output_type": "execute_result"
        }
      ],
      "source": [
        "to_keep"
      ]
    },
    {
      "cell_type": "code",
      "execution_count": null,
      "metadata": {
        "colab": {
          "background_save": true
        },
        "id": "eFSoffv1eOoH"
      },
      "outputs": [],
      "source": [
        "banned = ['ZFPESANVICENTEDEPAUL', 'ESCOCIA',\n",
        " 'SWAZILANDIA',\n",
        "'BOUVET,ISLA',\n",
        " 'SVALBARDYJANMAYEN,ISLAS',\n",
        " 'VENEZUELA,BOLIVARIANREPUBLICOF',\n",
        " 'ANTILLASHOLANDESAS',\n",
        " 'COOK,ISLAS',\n",
        " 'SAHARAOCCIDENTAL',\n",
        " 'MAN,ISLA',\n",
        " 'MARTINIQUE',\n",
        " 'CEILAN',\n",
        " 'ANGLONORMANDAS,ISLAS',\n",
        "  'MOLDAVIA,REPUBLICADE',\n",
        " 'ALAND,ISLAS',\n",
        " 'TOKELAU',\n",
        " 'ZFPEPROTISA',\n",
        " 'ZFPEAGROSOLERA',\n",
        " 'ZFPSURCOLOMBIANA',\n",
        " 'ALEMANIA,REPUBLICADEMOCRATICA',\n",
        " 'MIDWAY,ISLAS',\n",
        "  'SANMARTIN(PARTEHOLANDESA)',\n",
        " 'HEARDYMCDONALD,ISLAS',\n",
        " 'BONAIRE,ISLA',\n",
        " 'NORFOLK,ISLAS', ]\n",
        "\n",
        "new = {}\n",
        "for unity in to_keep:\n",
        "  if unity not in  banned:\n",
        "    new[unity] = to_keep[unity]"
      ]
    },
    {
      "cell_type": "code",
      "execution_count": null,
      "metadata": {
        "colab": {
          "background_save": true
        },
        "id": "TrXkXfASjMVh",
        "outputId": "abcbafff-271e-4ea1-ac66-705733661086"
      },
      "outputs": [
        {
          "data": {
            "text/plain": [
              "{'CONGO,REPUBLICADEMOCRATICADEL': 'CONGO,DEM.REP.',\n",
              " 'SIRIA,REPUBLICAARABE': 'SYRIANARABREPUBLIC',\n",
              " \"CÔTED'IVOIRE\": \"COTED'IVOIRE\",\n",
              " 'UNITEDSTATESOFAMERICA': 'UNITEDSTATES',\n",
              " 'SLOVAKIA': 'SLOVAKREPUBLIC',\n",
              " 'MACEDONIA': 'NORTHMACEDONIA',\n",
              " 'MARIANASDELNORTE,ISLAS': 'NORTHERNMARIANAISLANDS',\n",
              " 'NUEVAZELANDIA': 'NEWZEALAND',\n",
              " 'EGYPT': 'EGYPT,ARABREP.',\n",
              " 'BAHREIN': 'BAHRAIN',\n",
              " 'YEMEN': 'YEMEN,REP.',\n",
              " 'TIMORDELESTE': 'TIMOR-LESTE',\n",
              " 'SAINTLUCIA': 'ST.LUCIA',\n",
              " 'RUSIA,FEDERACIONDE': 'RUSSIANFEDERATION',\n",
              " 'HONGKONG': 'HONGKONGSAR,CHINA',\n",
              " 'GAMBIA': 'GAMBIA,THE',\n",
              " 'IRAN,REPUBLICAISLAMICADE': 'IRAN,ISLAMICREP.',\n",
              " 'KAZAJSTAN': 'KAZAKHSTAN',\n",
              " 'TURCASYCAICOS,ISLAS': 'TURKSANDCAICOSISLANDS',\n",
              " 'BELARUSIA': 'BELARUS',\n",
              " 'TANZANIA,REPUBLICAUNIDADE': 'TANZANIA,UNITEDREPUBLICOF',\n",
              " 'MACAO': 'MACAOSAR,CHINA',\n",
              " 'CONGO': 'CONGO,REP.',\n",
              " 'MARSHALL,ISLAS': 'MARSHALLISLANDS',\n",
              " 'COREA': 'KOREA,REP.',\n",
              " 'SAINTKITTSANDNEVIS': 'ST.KITTSANDNEVIS',\n",
              " 'BAHAMAS': 'BAHAMAS,THE',\n",
              " 'TÜRKIYE': 'TURKIYE',\n",
              " 'MICRONESIA,ESTADOSFEDERADOSDE': 'MICRONESIA,FED.STS.',\n",
              " 'CURAZAO,ISLA': 'CURACAO'}"
            ]
          },
          "execution_count": 16,
          "metadata": {},
          "output_type": "execute_result"
        }
      ],
      "source": [
        "new"
      ]
    },
    {
      "cell_type": "code",
      "execution_count": null,
      "metadata": {
        "colab": {
          "background_save": true
        },
        "id": "Jnm_P2aIgk_3"
      },
      "outputs": [],
      "source": [
        "for base in info:\n",
        "  info[base]['id_key'] = info[base]['id_key'].replace(new)"
      ]
    },
    {
      "cell_type": "code",
      "execution_count": null,
      "metadata": {
        "colab": {
          "background_save": true
        },
        "id": "hDbpALEKihA_",
        "outputId": "37970379-54e5-468f-bf52-839155ce0948"
      },
      "outputs": [
        {
          "data": {
            "text/plain": [
              "197"
            ]
          },
          "execution_count": 18,
          "metadata": {},
          "output_type": "execute_result"
        }
      ],
      "source": [
        "len(gdpset & set(info['import']['id_key'].unique()) & set(info['export']['id_key'].unique()))"
      ]
    },
    {
      "cell_type": "code",
      "execution_count": null,
      "metadata": {
        "colab": {
          "background_save": true
        },
        "id": "GL2CyX9AZpY2"
      },
      "outputs": [],
      "source": [
        "info['gdp_wide'] = info['gdp'].set_index(['id_key', 'year']).unstack(level=-1)"
      ]
    },
    {
      "cell_type": "code",
      "execution_count": null,
      "metadata": {
        "colab": {
          "background_save": true
        },
        "id": "wYXSRxJbaTTj"
      },
      "outputs": [],
      "source": [
        "info['gdp_wide'].columns = [col[0] + str(col[1]) for col in info['gdp_wide'].columns]"
      ]
    },
    {
      "cell_type": "code",
      "execution_count": null,
      "metadata": {
        "colab": {
          "background_save": true
        },
        "id": "ve9QTBmoakcK"
      },
      "outputs": [],
      "source": [
        "info['gdp_wide'].reset_index(inplace=True)"
      ]
    },
    {
      "cell_type": "code",
      "execution_count": null,
      "metadata": {
        "colab": {
          "background_save": true
        },
        "id": "PqNf-j7qky10"
      },
      "outputs": [],
      "source": [
        "# Fixing id_key's\n",
        "book = {'COREA,REPUBLICADEMOCRATICA':\"KOREA,DEM.PEOPLE'SREP.\",\n",
        "        'UNITEDKINGDOMOFGREATBRITAINANDNORTHERNIRELAND':'UNITEDKINGDOM',\n",
        "        'VENEZUELA,BOLIVARIANREPUBLICOF':'VENEZUELA,RB',\n",
        "        'VIRGENES(BRITANICAS),ISLAS':'BRITISHVIRGINISLANDS',\n",
        "        'VIRGENES(DELOSESTADOSUNIDOS),ISLAS':'VIRGINISLANDS(U.S.)',\n",
        "        'SAINTVINCENTANDTHEGRENADINES':'ST.VINCENTANDTHEGRENADINES',\n",
        "        'SWAZILANDIA':'ESWATINI',\n",
        "        'MAN,ISLA':'ISLEOFMAN',\n",
        "        'LAOS,REPUBLICAPOPULARDEMOCRATICA':'LAOPDR',\n",
        "        'CAIMAN,ISLAS':'CAYMANISLANDS',\n",
        "        'CENTROAFRICANA,REPUBLICA':'CENTRALAFRICANREPUBLIC',\n",
        "        'MARIANASDELNORTE,ISLAS':'NORTHERNMARIANAISLANDS',\n",
        "        'SLOVAKIA':'SLOVAKREPUBLIC',\n",
        "        'SANMARTIN(PARTEHOLANDESA)':'SINTMAARTEN(DUTCHPART)'}\n",
        "\n",
        "info['export'].replace(book, inplace=True)\n",
        "info['import'].replace(book, inplace=True)"
      ]
    },
    {
      "cell_type": "code",
      "execution_count": null,
      "metadata": {
        "colab": {
          "background_save": true
        },
        "id": "ayM7J3YKY_-e"
      },
      "outputs": [],
      "source": [
        "full =info['gdp_wide'].merge(info['export'],\n",
        "                       on='id_key',)"
      ]
    },
    {
      "cell_type": "code",
      "execution_count": null,
      "metadata": {
        "colab": {
          "background_save": true
        },
        "id": "ad0FEIrRerbY"
      },
      "outputs": [],
      "source": [
        "full = full.merge(info['import'], on='id_key')"
      ]
    },
    {
      "cell_type": "code",
      "execution_count": null,
      "metadata": {
        "colab": {
          "background_save": true
        },
        "id": "1TYr3rP20N50"
      },
      "outputs": [],
      "source": [
        "def format_coordinate(coor):\n",
        "  coor = re.sub(r\"\\.\", \"_\" ,coor, count=1)\n",
        "  coor = re.sub(r\"\\.\", \"\", coor)\n",
        "  coor = re.sub(r'_', '.', coor)\n",
        "  return float(coor)"
      ]
    },
    {
      "cell_type": "code",
      "execution_count": null,
      "metadata": {
        "colab": {
          "background_save": true
        },
        "id": "W1uwoCIv0oxA"
      },
      "outputs": [],
      "source": [
        "info['location']['latitude'] = info['location']['latitude'].apply(lambda x: format_coordinate(str(x)))\n",
        "info['location']['longitude'] = info['location']['longitude'].apply(lambda x: format_coordinate(str(x)))"
      ]
    },
    {
      "cell_type": "code",
      "execution_count": null,
      "metadata": {
        "colab": {
          "background_save": true
        },
        "id": "bif9EcJh06ku"
      },
      "outputs": [],
      "source": [
        "def distance(longitudei, latitudei, longitudej, latitudej):\n",
        "  return ((longitudei - longitudej)**2 + (latitudei - latitudej)**2)**0.5"
      ]
    },
    {
      "cell_type": "code",
      "execution_count": null,
      "metadata": {
        "colab": {
          "background_save": true
        },
        "id": "gWcpR8XB1S6J"
      },
      "outputs": [],
      "source": [
        "col_latitude = 4.570868\n",
        "col_longitude =  -74.297333"
      ]
    },
    {
      "cell_type": "code",
      "execution_count": null,
      "metadata": {
        "colab": {
          "background_save": true
        },
        "id": "74qh1_Ig2Ze3",
        "outputId": "e7e5afa1-36e5-40bd-d641-6d405c7dfb0c"
      },
      "outputs": [
        {
          "data": {
            "text/plain": [
              "0.0"
            ]
          },
          "execution_count": 29,
          "metadata": {},
          "output_type": "execute_result"
        }
      ],
      "source": [
        "distance(col_longitude, col_latitude, col_longitude, col_latitude)"
      ]
    },
    {
      "cell_type": "code",
      "execution_count": null,
      "metadata": {
        "colab": {
          "background_save": true
        },
        "id": "c7SzWJcfw52z"
      },
      "outputs": [],
      "source": [
        "info['location']['distance'] = info['location'].apply(lambda col:  distance(col_longitude, col_latitude,  col['longitude'], col['latitude']), axis=1)"
      ]
    },
    {
      "cell_type": "code",
      "execution_count": null,
      "metadata": {
        "colab": {
          "background_save": true
        },
        "id": "gGBMK34p4Eyh"
      },
      "outputs": [],
      "source": [
        "book = {'COREA,REPUBLICADEMOCRATICA':\"KOREA,DEM.PEOPLE'SREP.\",\n",
        "        'UNITEDKINGDOMOFGREATBRITAINANDNORTHERNIRELAND':'UNITEDKINGDOM',\n",
        "        'VENEZUELA,BOLIVARIANREPUBLICOF':'VENEZUELA,RB',\n",
        "        'VIRGENES(BRITANICAS),ISLAS':'BRITISHVIRGINISLANDS',\n",
        "        'VIRGENES(DELOSESTADOSUNIDOS),ISLAS':'VIRGINISLANDS(U.S.)',\n",
        "        'SAINTVINCENTANDTHEGRENADINES':'ST.VINCENTANDTHEGRENADINES',\n",
        "        'SWAZILANDIA':'ESWATINI',\n",
        "        'MAN,ISLA':'ISLEOFMAN',\n",
        "        'LAOS,REPUBLICAPOPULARDEMOCRATICA':'LAOPDR',\n",
        "        'CAIMAN,ISLAS':'CAYMANISLANDS',\n",
        "        'CENTROAFRICANA,REPUBLICA':'CENTRALAFRICANREPUBLIC',\n",
        "        'MARIANASDELNORTE,ISLAS':'NORTHERNMARIANAISLANDS',\n",
        "        'SLOVAKIA':'SLOVAKREPUBLIC',\n",
        "        'SANMARTIN(PARTEHOLANDESA)':'SINTMAARTEN(DUTCHPART)'}"
      ]
    },
    {
      "cell_type": "code",
      "execution_count": null,
      "metadata": {
        "colab": {
          "background_save": true
        },
        "id": "3DHQvT68rN7z"
      },
      "outputs": [],
      "source": [
        "info['location'].replace(book, inplace=True)"
      ]
    },
    {
      "cell_type": "code",
      "execution_count": null,
      "metadata": {
        "colab": {
          "background_save": true
        },
        "id": "CAheEsrb3ipD"
      },
      "outputs": [],
      "source": [
        "full =full.merge(info['location'], on='id_key', how = 'outer', indicator=True)"
      ]
    },
    {
      "cell_type": "code",
      "execution_count": null,
      "metadata": {
        "colab": {
          "background_save": true
        },
        "id": "9g2Vzb394XPM",
        "outputId": "8d74a7b5-76c5-4305-bb68-dc50230611dd"
      },
      "outputs": [
        {
          "data": {
            "text/plain": [
              "array(['CABOVERDE', 'CONGO,DEM.REP.', 'CONGO,REP.', 'CURACAO', 'CZECHIA',\n",
              "       'ESWATINI', 'IRAN,ISLAMICREP.', \"KOREA,DEM.PEOPLE'SREP.\",\n",
              "       'KOREA,REP.', 'LAOPDR', 'MACAOSAR,CHINA', 'MICRONESIA,FED.STS.',\n",
              "       'MYANMAR', 'NORTHMACEDONIA', 'RUSSIANFEDERATION',\n",
              "       'SAOTOMEANDPRINCIPE', 'SINTMAARTEN(DUTCHPART)', 'SOUTHSUDAN',\n",
              "       'SYRIANARABREPUBLIC', 'TURKIYE', 'VIRGINISLANDS(U.S.)'],\n",
              "      dtype=object)"
            ]
          },
          "execution_count": 34,
          "metadata": {},
          "output_type": "execute_result"
        }
      ],
      "source": [
        "full[full['_merge']=='left_only']['id_key'].unique()"
      ]
    },
    {
      "cell_type": "code",
      "execution_count": null,
      "metadata": {
        "colab": {
          "background_save": true
        },
        "id": "KuoGBveF4GLl",
        "outputId": "1fa9df13-ada1-42f7-9a20-4a835038641f"
      },
      "outputs": [
        {
          "data": {
            "text/plain": [
              "array(['ANGUILLA', 'NETHERLANDSANTILLES', 'ANTARCTICA', 'BOUVETISLAND',\n",
              "       'COCOS[KEELING]ISLANDS', 'CONGO[DRC]', 'CONGO[REPUBLIC]',\n",
              "       'COOKISLANDS', 'CAPEVERDE', 'CHRISTMASISLAND', 'CZECHREPUBLIC',\n",
              "       'WESTERNSAHARA', 'FALKLANDISLANDS[ISLASMALVINAS]',\n",
              "       'MICRONESIA,FEDERATEDSTATESOF', 'FAROEISLANDS', 'FRENCHGUIANA',\n",
              "       'GUERNSEY', 'GUADELOUPE', 'SOUTHGEORGIAANDTHESOUTHSANDWICHISLANDS',\n",
              "       'GAZASTRIP', 'HEARDISLANDANDMCDONALDISLANDS',\n",
              "       'BRITISHINDIANOCEANTERRITORY', 'IRAN,ISLAMICREPUBLICOF', 'JERSEY',\n",
              "       'KYRGYZSTAN', 'NORTHKOREA', 'SOUTHKOREA',\n",
              "       \"LAOPEOPLE'SDEMOCRATICREPUBLIC\", 'MOLDOVA', 'MACEDONIA[FYROM]',\n",
              "       'MYANMAR[BURMA]', 'MACAU', 'MARTINIQUE', 'MONTSERRAT',\n",
              "       'NORFOLKISLAND', 'NIUE', 'SAINTPIERREANDMIQUELON',\n",
              "       'PITCAIRNISLANDS', 'PALESTINIANTERRITORIES', 'REUNION', 'RUSSIA',\n",
              "       'SOLOMONISLANDS', 'SAINTHELENA', 'SVALBARDANDJANMAYEN',\n",
              "       'SÃOTOMEANDPRINCIPE', 'SYRIA', 'SWAZILAND',\n",
              "       'FRENCHSOUTHERNTERRITORIES', 'TOKELAU', 'TURKEY', 'TAIWAN',\n",
              "       'U.S.MINOROUTLYINGISLANDS', 'VATICANCITY', 'U.S.VIRGINISLANDS',\n",
              "       'WALLISANDFUTUNA', 'KOSOVO', 'MAYOTTE'], dtype=object)"
            ]
          },
          "execution_count": 35,
          "metadata": {},
          "output_type": "execute_result"
        }
      ],
      "source": [
        "full[full['_merge']=='right_only']['id_key'].unique()"
      ]
    },
    {
      "cell_type": "code",
      "execution_count": null,
      "metadata": {
        "colab": {
          "background_save": true
        },
        "id": "IlH4u1U5ptts",
        "outputId": "3f057713-2b7f-4384-9b3e-5c35b99a570c"
      },
      "outputs": [
        {
          "data": {
            "text/html": [
              "<div>\n",
              "<style scoped>\n",
              "    .dataframe tbody tr th:only-of-type {\n",
              "        vertical-align: middle;\n",
              "    }\n",
              "\n",
              "    .dataframe tbody tr th {\n",
              "        vertical-align: top;\n",
              "    }\n",
              "\n",
              "    .dataframe thead th {\n",
              "        text-align: right;\n",
              "    }\n",
              "</style>\n",
              "<table border=\"1\" class=\"dataframe\">\n",
              "  <thead>\n",
              "    <tr style=\"text-align: right;\">\n",
              "      <th></th>\n",
              "      <th>count</th>\n",
              "    </tr>\n",
              "    <tr>\n",
              "      <th>_merge</th>\n",
              "      <th></th>\n",
              "    </tr>\n",
              "  </thead>\n",
              "  <tbody>\n",
              "    <tr>\n",
              "      <th>both</th>\n",
              "      <td>188</td>\n",
              "    </tr>\n",
              "    <tr>\n",
              "      <th>right_only</th>\n",
              "      <td>57</td>\n",
              "    </tr>\n",
              "    <tr>\n",
              "      <th>left_only</th>\n",
              "      <td>21</td>\n",
              "    </tr>\n",
              "  </tbody>\n",
              "</table>\n",
              "</div><br><label><b>dtype:</b> int64</label>"
            ],
            "text/plain": [
              "_merge\n",
              "both          188\n",
              "right_only     57\n",
              "left_only      21\n",
              "Name: count, dtype: int64"
            ]
          },
          "execution_count": 36,
          "metadata": {},
          "output_type": "execute_result"
        }
      ],
      "source": [
        "full['_merge'].value_counts()"
      ]
    },
    {
      "cell_type": "code",
      "execution_count": null,
      "metadata": {
        "colab": {
          "background_save": true
        },
        "id": "RrGnXF1xqUhB",
        "outputId": "e068c39f-a4db-4453-b68d-c18a08a14bf2"
      },
      "outputs": [
        {
          "data": {
            "text/plain": [
              "Index(['id_key', 'incomeLevel1960', 'incomeLevel1961', 'incomeLevel1962',\n",
              "       'incomeLevel1963', 'incomeLevel1964', 'incomeLevel1965',\n",
              "       'incomeLevel1966', 'incomeLevel1967', 'incomeLevel1968',\n",
              "       ...\n",
              "       '2020-Dólares-FOB_y', '2021-Dólares-FOB_y', '2022-Dólares-FOB_y',\n",
              "       '2023-Dólares-FOB_y', '2024-Dólares-FOB_y', 'country', 'latitude',\n",
              "       'longitude', 'distance', '_merge'],\n",
              "      dtype='object', length=391)"
            ]
          },
          "execution_count": 37,
          "metadata": {},
          "output_type": "execute_result"
        }
      ],
      "source": [
        "full.columns"
      ]
    },
    {
      "cell_type": "code",
      "execution_count": null,
      "metadata": {
        "colab": {
          "background_save": true
        },
        "id": "eGHsSTNpp76q"
      },
      "outputs": [],
      "source": [
        "test = full[['id_key', '2020-Dólares-FOB_y', '2020-Dólares-FOB_x', 'Gdp2020', 'distance']]"
      ]
    },
    {
      "cell_type": "code",
      "execution_count": null,
      "metadata": {
        "colab": {
          "background_save": true
        },
        "id": "ic96aN7-qfwJ",
        "outputId": "f24f635c-e069-42aa-dc33-01cb0dae261f"
      },
      "outputs": [
        {
          "data": {
            "text/html": [
              "<div>\n",
              "<style scoped>\n",
              "    .dataframe tbody tr th:only-of-type {\n",
              "        vertical-align: middle;\n",
              "    }\n",
              "\n",
              "    .dataframe tbody tr th {\n",
              "        vertical-align: top;\n",
              "    }\n",
              "\n",
              "    .dataframe thead th {\n",
              "        text-align: right;\n",
              "    }\n",
              "</style>\n",
              "<table border=\"1\" class=\"dataframe\">\n",
              "  <thead>\n",
              "    <tr style=\"text-align: right;\">\n",
              "      <th></th>\n",
              "      <th>0</th>\n",
              "    </tr>\n",
              "  </thead>\n",
              "  <tbody>\n",
              "    <tr>\n",
              "      <th>id_key</th>\n",
              "      <td>0</td>\n",
              "    </tr>\n",
              "    <tr>\n",
              "      <th>2020-Dólares-FOB_y</th>\n",
              "      <td>57</td>\n",
              "    </tr>\n",
              "    <tr>\n",
              "      <th>2020-Dólares-FOB_x</th>\n",
              "      <td>57</td>\n",
              "    </tr>\n",
              "    <tr>\n",
              "      <th>Gdp2020</th>\n",
              "      <td>77</td>\n",
              "    </tr>\n",
              "    <tr>\n",
              "      <th>distance</th>\n",
              "      <td>22</td>\n",
              "    </tr>\n",
              "  </tbody>\n",
              "</table>\n",
              "</div><br><label><b>dtype:</b> int64</label>"
            ],
            "text/plain": [
              "id_key                 0\n",
              "2020-Dólares-FOB_y    57\n",
              "2020-Dólares-FOB_x    57\n",
              "Gdp2020               77\n",
              "distance              22\n",
              "dtype: int64"
            ]
          },
          "execution_count": 39,
          "metadata": {},
          "output_type": "execute_result"
        }
      ],
      "source": [
        "test.isnull().sum()"
      ]
    }
  ],
  "metadata": {
    "colab": {
      "provenance": []
    },
    "kernelspec": {
      "display_name": "Python 3",
      "name": "python3"
    },
    "language_info": {
      "name": "python"
    }
  },
  "nbformat": 4,
  "nbformat_minor": 0
}