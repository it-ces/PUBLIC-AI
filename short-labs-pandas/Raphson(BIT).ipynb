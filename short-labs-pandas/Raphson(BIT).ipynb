{
  "nbformat": 4,
  "nbformat_minor": 0,
  "metadata": {
    "colab": {
      "provenance": []
    },
    "kernelspec": {
      "name": "python3",
      "display_name": "Python 3"
    },
    "language_info": {
      "name": "python"
    }
  },
  "cells": [
    {
      "cell_type": "code",
      "execution_count": 1,
      "metadata": {
        "colab": {
          "base_uri": "https://localhost:8080/"
        },
        "id": "fejVbSVHDZzC",
        "outputId": "a4cce4a9-95ed-4f5f-9bd3-b9bb182acdbc"
      },
      "outputs": [
        {
          "output_type": "execute_result",
          "data": {
            "text/plain": [
              "[(49.506188118811885, 100, 50.493811881188115, 1),\n",
              " (24.26546878066841, 49.506188118811885, 25.240719338143474, 2),\n",
              " (11.6574717108813, 24.26546878066841, 12.60799706978711, 3),\n",
              " (5.378113805024587, 11.6574717108813, 6.279357905856712, 4),\n",
              " (2.287048255301834, 5.378113805024587, 3.0910655497227535, 5),\n",
              " (0.8336643237955608, 2.287048255301834, 1.453383931506273, 6),\n",
              " (0.25767971610349916, 0.8336643237955608, 0.5759846076920616, 7),\n",
              " (0.12578672933973847, 0.25767971610349916, 0.13189298676376068, 8),\n",
              " (0.11806068340932145, 0.12578672933973847, 0.007726045930417022, 9),\n",
              " (0.11803398906857382, 0.11806068340932145, 2.6694340747632217e-05, 10),\n",
              " (0.11803398874989486, 0.11803398906857382, 3.1867895822212944e-10, 11)]"
            ]
          },
          "metadata": {},
          "execution_count": 1
        }
      ],
      "source": [
        "def quadratic(a,b,c, x):\n",
        "      return a*x**2 + b*x + c\n",
        "def dfQuadratic(a,b,x):\n",
        "  return a*x*2 + b\n",
        "a,b,c ,x0  = 4,8,-1,100\n",
        "def raphsonQuadratic(a,b,c,x0, error_max=0.0000015, iteration_max=100000):\n",
        "  xi = x0\n",
        "  iter, error = 0, 100\n",
        "  data = []\n",
        "  while (iter < iteration_max) and (error > error_max):\n",
        "    xj = xi - quadratic(a,b,c,xi)  / dfQuadratic(a,b,xi)\n",
        "    error = abs(xj - xi)\n",
        "    iter += 1\n",
        "    data.append((xj,xi,error,iter))\n",
        "    xi = xj\n",
        "  return data\n",
        "raphsonQuadratic(a,b,c,x0)"
      ]
    }
  ]
}