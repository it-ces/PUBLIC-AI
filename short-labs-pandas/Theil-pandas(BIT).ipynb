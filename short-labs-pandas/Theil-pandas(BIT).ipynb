{
  "cells": [
    {
      "cell_type": "code",
      "execution_count": null,
      "id": "93d9340e",
      "metadata": {
        "id": "93d9340e"
      },
      "outputs": [],
      "source": [
        "import pandas as pd\n",
        "import numpy as np"
      ]
    },
    {
      "cell_type": "code",
      "execution_count": null,
      "id": "af259154",
      "metadata": {
        "id": "af259154"
      },
      "outputs": [],
      "source": [
        "df = pd.DataFrame({'income1':[500000, 700000, 890000,1000000, 4300000],\n",
        "                   'income2':[500000, 100000, 390000,1000000, 1300000],\n",
        "                   'income3':[50000, 10000, 330000,1000000, 300000]})"
      ]
    },
    {
      "cell_type": "code",
      "execution_count": null,
      "id": "796e197f",
      "metadata": {
        "id": "796e197f"
      },
      "outputs": [],
      "source": [
        "def theil(column, df):\n",
        "    n = df.shape[0]\n",
        "    df['share'+column] = df[column]/df[column].sum()\n",
        "    return (df['share'+column]*np.log(df['share'+column]*n)).sum()"
      ]
    },
    {
      "cell_type": "code",
      "execution_count": null,
      "id": "b6d52422",
      "metadata": {
        "id": "b6d52422",
        "outputId": "8f74c686-df56-4c0d-defb-8f663b5c16af"
      },
      "outputs": [
        {
          "data": {
            "text/plain": [
              "0.3633133506949696"
            ]
          },
          "execution_count": 33,
          "metadata": {},
          "output_type": "execute_result"
        }
      ],
      "source": [
        "theils =[]\n",
        "theil('income1',df)"
      ]
    },
    {
      "cell_type": "code",
      "execution_count": null,
      "id": "a0001082",
      "metadata": {
        "id": "a0001082"
      },
      "outputs": [],
      "source": [
        "theils_index = []\n",
        "for year in range(1,4):\n",
        "    theils_index.append(theil('income'+str(year),df))"
      ]
    },
    {
      "cell_type": "code",
      "execution_count": null,
      "id": "14b432e9",
      "metadata": {
        "id": "14b432e9"
      },
      "outputs": [],
      "source": [
        "import matplotlib.pyplot as plt"
      ]
    },
    {
      "cell_type": "code",
      "execution_count": null,
      "id": "154c4599",
      "metadata": {
        "id": "154c4599",
        "outputId": "cdbe5a44-653e-41f9-8cb1-055f2278d11c"
      },
      "outputs": [
        {
          "data": {
            "text/plain": [
              "[<matplotlib.lines.Line2D at 0x7f5415d36980>]"
            ]
          },
          "execution_count": 41,
          "metadata": {},
          "output_type": "execute_result"
        },
        {
          "data": {
            "image/png": "[encoded data removed]",
            "text/plain": [
              "<Figure size 432x288 with 1 Axes>"
            ]
          },
          "metadata": {
            "needs_background": "light"
          },
          "output_type": "display_data"
        }
      ],
      "source": [
        "plt.plot([2021,2022,2023],theils_index)"
      ]
    }
  ],
  "metadata": {
    "kernelspec": {
      "display_name": "Python 3 (ipykernel)",
      "language": "python",
      "name": "python3"
    },
    "language_info": {
      "codemirror_mode": {
        "name": "ipython",
        "version": 3
      },
      "file_extension": ".py",
      "mimetype": "text/x-python",
      "name": "python",
      "nbconvert_exporter": "python",
      "pygments_lexer": "ipython3",
      "version": "3.10.6"
    },
    "colab": {
      "provenance": []
    }
  },
  "nbformat": 4,
  "nbformat_minor": 5
}