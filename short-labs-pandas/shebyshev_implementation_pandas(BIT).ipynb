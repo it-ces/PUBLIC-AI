{
  "nbformat": 4,
  "nbformat_minor": 0,
  "metadata": {
    "colab": {
      "provenance": []
    },
    "kernelspec": {
      "name": "python3",
      "display_name": "Python 3"
    },
    "language_info": {
      "name": "python"
    }
  },
  "cells": [
    {
      "cell_type": "code",
      "metadata": {
        "id": "lxRn-txK6UFL"
      },
      "source": [
        "import pandas as pd\n",
        "import numpy as np\n",
        "import random\n"
      ],
      "execution_count": null,
      "outputs": []
    },
    {
      "cell_type": "code",
      "metadata": {
        "id": "DMkpCYsa7Xch"
      },
      "source": [
        "a = ['disease','no disease']\n",
        "b = ['Female', 'male']\n",
        "N = 100\n",
        "var1= [random.choice(a) for x in range(N)]\n",
        "var2= [random.choice(b) for x in range(N)]\n",
        "var3 = [ np.random.weibull(1, N)]\n",
        "var4 = [np.random.randint(24,60) for x in range(N)]\n",
        "df = pd.DataFrame({'var1':var1, 'var2':var2, 'var3':var3[0], 'var4':var4}, )\n"
      ],
      "execution_count": null,
      "outputs": []
    },
    {
      "cell_type": "code",
      "metadata": {
        "id": "H_8sig0WMJ2R"
      },
      "source": [
        " def fsheby(k):\n",
        "  return 1 - (1/k**2)\n",
        "def out(df, k=1):\n",
        "  print('drop out whose probability is lesser than' ,fsheby(k))\n",
        "  full = []\n",
        "  for var in df.columns:\n",
        "    if df[var].dtypes.name=='float64':\n",
        "      full.append(var)\n",
        "  #estandarizar\n",
        "  for x in full:\n",
        "    df['Z'+x]  =  (df[x] - np.mean(df[x]))  / np.std(df[x])\n",
        "    df['Out'+x] = np.where(df['Z'+x]>k,1,0)\n",
        "  return df"
      ],
      "execution_count": null,
      "outputs": []
    }
  ]
}