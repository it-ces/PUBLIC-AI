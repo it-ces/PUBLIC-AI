{
  "cells": [
    {
      "cell_type": "markdown",
      "metadata": {
        "id": "0GPy3m14hvWV"
      },
      "source": [
        "# B1\n",
        "$$\\beta _{1}  = \\frac{cov(x,y)}{var(x)}  = \\frac{\\sum(x-\\mu_{x})(y-\\mu_{y})}{\\sum(x-\\mu_{x})^{2}}$$\n",
        "\n",
        "$$ \\beta_{0} = \\bar{y} - \\hat{\\beta_{0}} \\bar{x} $$\n",
        "\n"
      ]
    },
    {
      "cell_type": "code",
      "execution_count": null,
      "metadata": {
        "colab": {
          "base_uri": "https://localhost:8080/"
        },
        "id": "1CeEqkj7hufO",
        "outputId": "38ee6361-d040-4189-e8ca-47e1538f26ad"
      },
      "outputs": [
        {
          "output_type": "stream",
          "name": "stdout",
          "text": [
            "3.4\n",
            "20.00000000000003\n",
            "                            OLS Regression Results                            \n",
            "==============================================================================\n",
            "Dep. Variable:                      y   R-squared:                       1.000\n",
            "Model:                            OLS   Adj. R-squared:                  1.000\n",
            "Method:                 Least Squares   F-statistic:                 4.045e+32\n",
            "Date:                Fri, 03 Jun 2022   Prob (F-statistic):               0.00\n",
            "Time:                        03:11:58   Log-Likelihood:                 2924.2\n",
            "No. Observations:                 100   AIC:                            -5844.\n",
            "Df Residuals:                      98   BIC:                            -5839.\n",
            "Df Model:                           1                                         \n",
            "Covariance Type:            nonrobust                                         \n",
            "==============================================================================\n",
            "                 coef    std err          t      P>|t|      [0.025      0.975]\n",
            "------------------------------------------------------------------------------\n",
            "const         20.0000   9.69e-15   2.06e+15      0.000      20.000      20.000\n",
            "x              3.4000   1.69e-16   2.01e+16      0.000       3.400       3.400\n",
            "==============================================================================\n",
            "Omnibus:                       15.322   Durbin-Watson:                   0.345\n",
            "Prob(Omnibus):                  0.000   Jarque-Bera (JB):               17.997\n",
            "Skew:                          -1.035   Prob(JB):                     0.000124\n",
            "Kurtosis:                       3.175   Cond. No.                         114.\n",
            "==============================================================================\n",
            "\n",
            "Warnings:\n",
            "[1] Standard Errors assume that the covariance matrix of the errors is correctly specified.\n"
          ]
        },
        {
          "output_type": "stream",
          "name": "stderr",
          "text": [
            "/usr/local/lib/python3.7/dist-packages/statsmodels/tsa/tsatools.py:117: FutureWarning: In a future version of pandas all arguments of concat except for the argument 'objs' will be keyword-only\n",
            "  x = pd.concat(x[::order], 1)\n"
          ]
        }
      ],
      "source": [
        "import numpy as np\n",
        "import matplotlib.pyplot as plt\n",
        "import pandas as pd\n",
        "def lineal(x, m, b):\n",
        "    y = m * x + b\n",
        "    return y\n",
        "\n",
        "dom = list(range(100))\n",
        "dlineal = [lineal(x, 3.4, 20) for x in dom]\n",
        "\n",
        "def covarianza(x,y):\n",
        "  acum = 0\n",
        "  ux = np.mean(x)\n",
        "  uy  = np.mean(y)\n",
        "  for val_x, val_y in zip(x,y):\n",
        "    prod = (val_x - ux) * (val_y - uy)\n",
        "    acum = acum + prod\n",
        "  return acum\n",
        "\n",
        "def var(x):\n",
        "  ux = np.mean(x)\n",
        "  acum = 0\n",
        "  for e in x:\n",
        "    acum = acum + (e-ux)**2\n",
        "  return acum\n",
        "\n",
        "def b1(x,y):\n",
        "  return covarianza(x,y) / var(x)\n",
        "\n",
        "def b0(x,y):\n",
        "  return np.mean(y) -  b1(x,y) * np.mean(x)\n",
        "\n",
        "print(b1(dom,dlineal))\n",
        "\n",
        "print(b0(dom,dlineal))\n",
        "\n",
        "import statsmodels.api as sm\n",
        "import pandas as pd\n",
        "df = pd.DataFrame({'x':dom, 'y':dlineal})\n",
        "y = df['y']\n",
        "X = sm.add_constant(df[['x']])\n",
        "# Fit and summarize OLS model\n",
        "mod = sm.OLS(y, X)\n",
        "results = mod.fit()\n",
        "print(results.summary())"
      ]
    },
    {
      "cell_type": "code",
      "execution_count": null,
      "metadata": {
        "colab": {
          "base_uri": "https://localhost:8080/"
        },
        "id": "Dc6az9F8_oM5",
        "outputId": "587712a2-8661-466d-f210-3d88e96ac10f"
      },
      "outputs": [
        {
          "output_type": "execute_result",
          "data": {
            "text/plain": [
              "(nan, nan)"
            ]
          },
          "metadata": {},
          "execution_count": 45
        }
      ],
      "source": [
        "import numpy as np\n",
        "import matplotlib.pyplot as plt\n",
        "\n",
        "def linearEQ(b0,b1,x):\n",
        "  return b0 + b1*x\n",
        "\n",
        "# Linear Equation\n",
        "data = []\n",
        "for x,y in zip(dom, dlineal):\n",
        "  data.append([x,y])\n",
        "\n",
        "\n",
        "# Partial derivate b0\n",
        "def partial_b0(b0,b1,data):\n",
        "  N = float(len(data))\n",
        "  dpb0 = 0\n",
        "  for point in data:\n",
        "    dpb0 += (-2)*(point[1] - linearEQ(b0,b1,point[0]))\n",
        "  return dpb0\n",
        "\n",
        "# Partial derivate b1\n",
        "def partial_b1(b0,b1,data):\n",
        "  N = float(len(data))\n",
        "  dpb1 = 0\n",
        "  for point in data:\n",
        "    dpb1 += ( (-2) * point[0])*(point[1] - linearEQ(b0,b1,point[0]))\n",
        "  return dpb1\n",
        "\n",
        "\n",
        "def linearGD(initial_b0, initial_b1, data, learning_rate=0.001,  max_iterations=100):\n",
        "  iterations = 0\n",
        "  b0,b1 = initial_b0, initial_b1\n",
        "  while iterations < max_iterations:\n",
        "    b0 = b0 - partial_b0(b0,b1,data) * learning_rate\n",
        "    b1 = b1 - partial_b1(b0,b1,data) * learning_rate\n",
        "    iterations +=1\n",
        "  return b0,b1\n",
        "\n",
        "\n",
        "GDS_linearEQ(11,22, data,learning_rate=0.00001, max_iterations=1200)"
      ]
    },
    {
      "cell_type": "markdown",
      "metadata": {
        "id": "TLF8zmwOAVRV"
      },
      "source": []
    },
    {
      "cell_type": "code",
      "execution_count": null,
      "metadata": {
        "colab": {
          "base_uri": "https://localhost:8080/"
        },
        "id": "AelnY2csKV8q",
        "outputId": "7861612d-763c-47c9-d458-5b745dd71c40"
      },
      "outputs": [
        {
          "output_type": "stream",
          "name": "stdout",
          "text": [
            "3.5088654941678032 12.779146874605228\n"
          ]
        }
      ],
      "source": [
        "from sklearn.linear_model import LinearRegression\n",
        "df = pd.DataFrame({'x':dom, 'y':dlineal})\n",
        "\n",
        "X = df.iloc[:, 0]\n",
        "Y = df.iloc[:, 1]\n",
        "\n",
        "m = 3\n",
        "c = 12\n",
        "\n",
        "L = 0.0001 # The learning Rate\n",
        "epochs = 2000  # The number of iterations to perform gradient descent\n",
        "\n",
        "n = float(len(X)) # Number of elements in X\n",
        "\n",
        "# Performing Gradient Descent\n",
        "for i in range(epochs):\n",
        "    Y_pred = m*X + c  # The current predicted value of Y\n",
        "    D_m = (-2/n) * sum(X * (Y - Y_pred))  # Derivative wrt m\n",
        "    D_c = (-2/n) * sum(Y - Y_pred)  # Derivative wrt c\n",
        "    m = m - L * D_m  # Update m\n",
        "    c = c - L * D_c  # Update c\n",
        "\n",
        "print (m, c)"
      ]
    },
    {
      "cell_type": "markdown",
      "metadata": {
        "id": "2g0pR0_dAZtF"
      },
      "source": []
    }
  ],
  "metadata": {
    "colab": {
      "provenance": []
    },
    "kernelspec": {
      "display_name": "Python 3",
      "name": "python3"
    },
    "language_info": {
      "name": "python"
    }
  },
  "nbformat": 4,
  "nbformat_minor": 0
}