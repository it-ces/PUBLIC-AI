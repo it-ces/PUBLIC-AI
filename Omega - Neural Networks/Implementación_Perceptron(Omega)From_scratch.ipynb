{
  "nbformat": 4,
  "nbformat_minor": 0,
  "metadata": {
    "colab": {
      "provenance": []
    },
    "kernelspec": {
      "name": "python3",
      "display_name": "Python 3"
    },
    "language_info": {
      "name": "python"
    }
  },
  "cells": [
    {
      "cell_type": "markdown",
      "source": [
        "# Perceptron from scratch"
      ],
      "metadata": {
        "id": "-rT3ux_bxSed"
      }
    },
    {
      "cell_type": "code",
      "source": [
        "# Iván Andrés Trujillo Abella\n",
        "# ivantrujillo1229@gmail.com"
      ],
      "metadata": {
        "id": "B82ET8WOxPw1"
      },
      "execution_count": 84,
      "outputs": []
    },
    {
      "cell_type": "code",
      "source": [
        "import numpy as np\n",
        "import matplotlib.pyplot as plt"
      ],
      "metadata": {
        "id": "bI0Z3pHTnq3a"
      },
      "execution_count": 85,
      "outputs": []
    },
    {
      "cell_type": "code",
      "source": [
        "def Z(W,x):\n",
        "  size = len(W)\n",
        "  acum = 0\n",
        "  for index in range(1,size):\n",
        "    acum = acum + (W[index] * x[index-1])\n",
        "  return acum + W[0]"
      ],
      "metadata": {
        "id": "PKqmYa096U_j"
      },
      "execution_count": 86,
      "outputs": []
    },
    {
      "cell_type": "code",
      "source": [
        "Z([1,0,1,1,0], [1,1,1,1])"
      ],
      "metadata": {
        "colab": {
          "base_uri": "https://localhost:8080/"
        },
        "id": "eOBZ0xrU6xXw",
        "outputId": "8d30b914-c6b8-45c1-e374-7b7dbc5c1b83"
      },
      "execution_count": 87,
      "outputs": [
        {
          "output_type": "execute_result",
          "data": {
            "text/plain": [
              "3"
            ]
          },
          "metadata": {},
          "execution_count": 87
        }
      ]
    },
    {
      "cell_type": "code",
      "source": [
        "def activation(Z):\n",
        "  if Z >= 0:\n",
        "    return 1\n",
        "  else:\n",
        "    return -1"
      ],
      "metadata": {
        "id": "UnMzf06EYGXs"
      },
      "execution_count": 88,
      "outputs": []
    },
    {
      "cell_type": "code",
      "source": [
        "def deltaW(yi, yi_hat):\n",
        "  return yi - yi_hat"
      ],
      "metadata": {
        "id": "y1RThbu4gZjp"
      },
      "execution_count": 89,
      "outputs": []
    },
    {
      "cell_type": "code",
      "source": [
        "def updateW(W_, learning_rate, yi, yi_hat, xi):\n",
        "  W  = W_.copy()\n",
        "  for index in range(1, len(W)):\n",
        "    W[index] = W[index] +  (learning_rate * deltaW(yi,yi_hat)  * xi[index-1])\n",
        "  W[0] = W[0] + (learning_rate * deltaW(yi, yi_hat))\n",
        "  return W\n",
        "\n",
        "def Cost(y, preds):\n",
        "  acum = 0\n",
        "  for yi, yi_hat in zip(y, preds):\n",
        "    acum = acum + max([-yi * yi_hat, 0])\n",
        "  return acum"
      ],
      "metadata": {
        "id": "242pWfNlhE1n"
      },
      "execution_count": 90,
      "outputs": []
    },
    {
      "cell_type": "code",
      "source": [
        "w_= np.random.RandomState(9).normal(size = 3)   #que  hacemos?\n",
        "X =[[3,2],[4,6],[10,0], [3,1]]\n",
        "y = [1,-1,1, 1]\n",
        "learning_rate = 0.01\n",
        "errors = []\n",
        "EPOCHS = 20\n",
        "for epochs in range(EPOCHS):\n",
        "  preds = []\n",
        "  for xi, yi in zip(X,y):\n",
        "    yi_hat = activation(Z(w_,xi))\n",
        "    preds.append(yi_hat)\n",
        "    w_= updateW(w_, learning_rate, yi, yi_hat, xi)\n",
        "  errors.append(Cost(y, preds))"
      ],
      "metadata": {
        "id": "aRazUEyx9T5f"
      },
      "execution_count": 91,
      "outputs": []
    },
    {
      "cell_type": "code",
      "source": [
        "##  Here we go to apply from scratch...\n",
        "len(errors)"
      ],
      "metadata": {
        "colab": {
          "base_uri": "https://localhost:8080/"
        },
        "id": "eHqmHHQGzxvg",
        "outputId": "491780fc-af1f-49f7-ac4d-636644f9aad4"
      },
      "execution_count": 92,
      "outputs": [
        {
          "output_type": "execute_result",
          "data": {
            "text/plain": [
              "20"
            ]
          },
          "metadata": {},
          "execution_count": 92
        }
      ]
    },
    {
      "cell_type": "code",
      "source": [
        "plt.plot(range(EPOCHS), errors)"
      ],
      "metadata": {
        "colab": {
          "base_uri": "https://localhost:8080/",
          "height": 448
        },
        "id": "RJwEC2yd-Aam",
        "outputId": "af86876d-f82e-405b-d24a-6aab3acf49a2"
      },
      "execution_count": 93,
      "outputs": [
        {
          "output_type": "execute_result",
          "data": {
            "text/plain": [
              "[<matplotlib.lines.Line2D at 0x7c4dd94155a0>]"
            ]
          },
          "metadata": {},
          "execution_count": 93
        },
        {
          "output_type": "display_data",
          "data": {
            "text/plain": [
              "<Figure size 640x480 with 1 Axes>"
            ],
            "image/png": "[encoded data removed]"
          },
          "metadata": {}
        }
      ]
    }
  ]
}