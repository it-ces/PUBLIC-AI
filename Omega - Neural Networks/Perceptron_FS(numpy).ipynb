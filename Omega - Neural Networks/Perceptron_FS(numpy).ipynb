{
  "nbformat": 4,
  "nbformat_minor": 0,
  "metadata": {
    "colab": {
      "provenance": []
    },
    "kernelspec": {
      "name": "python3",
      "display_name": "Python 3"
    },
    "language_info": {
      "name": "python"
    }
  },
  "cells": [
    {
      "cell_type": "markdown",
      "metadata": {
        "id": "epqmbeblsKaX"
      },
      "source": [
        " # Perceptron from scratch using numpy"
      ]
    },
    {
      "cell_type": "code",
      "metadata": {
        "colab": {
          "base_uri": "https://localhost:8080/"
        },
        "id": "lK2mWRxhsWbz",
        "outputId": "98b8b6dc-48c6-447b-b8de-7483be01b0fc"
      },
      "source": [
        "import numpy as np\n",
        "import matplotlib.pyplot as plt\n",
        "np.random.RandomState(1).normal(0,1)  # replicamos"
      ],
      "execution_count": 1,
      "outputs": [
        {
          "output_type": "execute_result",
          "data": {
            "text/plain": [
              "1.6243453636632417"
            ]
          },
          "metadata": {},
          "execution_count": 1
        }
      ]
    },
    {
      "cell_type": "markdown",
      "metadata": {
        "id": "HZQjOuVW1zHe"
      },
      "source": [
        "If we run the above cell some times, then we will have the same output ( a seed is requiered).\n",
        "\n",
        "np.random.normal() extract samples from a gaussian distribution.\n",
        "\n",
        "the parameters loc and scale are mean and standard deviation respectively. size return the number of samples."
      ]
    },
    {
      "cell_type": "code",
      "metadata": {
        "colab": {
          "base_uri": "https://localhost:8080/"
        },
        "id": "f1Srl08C1uoX",
        "outputId": "d49369e3-ddbd-4ee6-e198-0c847d3d7405"
      },
      "source": [
        "np.random.normal(loc = 0, scale=1, size=5)"
      ],
      "execution_count": 2,
      "outputs": [
        {
          "output_type": "execute_result",
          "data": {
            "text/plain": [
              "array([ 1.05577503, -2.66708015,  0.68866064,  0.5283283 , -0.64877004])"
            ]
          },
          "metadata": {},
          "execution_count": 2
        }
      ]
    },
    {
      "cell_type": "markdown",
      "metadata": {
        "id": "sU-clr-eAcw9"
      },
      "source": [
        "*Zip*  is a built in function that return tuples with the shortest iterable objects, the * is the unzip operator.\n",
        "\n"
      ]
    },
    {
      "cell_type": "code",
      "metadata": {
        "colab": {
          "base_uri": "https://localhost:8080/"
        },
        "id": "paZt_ZfLAg86",
        "outputId": "6b0638d7-f22b-4ec0-e087-293a3fe5d0f5"
      },
      "source": [
        "color = ['black','green', 'blue']\n",
        "code = [1,2]\n",
        "joint = list(zip(color,code))\n",
        "a,b = zip(*joint) # Unzip operator\n",
        "print(a,b)"
      ],
      "execution_count": 3,
      "outputs": [
        {
          "output_type": "stream",
          "name": "stdout",
          "text": [
            "('black', 'green') (1, 2)\n"
          ]
        }
      ]
    },
    {
      "cell_type": "code",
      "source": [
        "bool(1)"
      ],
      "metadata": {
        "colab": {
          "base_uri": "https://localhost:8080/"
        },
        "id": "3l8uBTPY0Izf",
        "outputId": "5c9fa809-41b4-4782-9373-b8fcfd2fc370"
      },
      "execution_count": 4,
      "outputs": [
        {
          "output_type": "execute_result",
          "data": {
            "text/plain": [
              "True"
            ]
          },
          "metadata": {},
          "execution_count": 4
        }
      ]
    },
    {
      "cell_type": "markdown",
      "metadata": {
        "id": "vGimR3NEHxwk"
      },
      "source": [
        "Boolean True 1 and False 0\n",
        "int(True)  is equal to one and int(False) equal to zero."
      ]
    },
    {
      "cell_type": "markdown",
      "metadata": {
        "id": "bZBC6KeuIyG1"
      },
      "source": [
        "The dot product of two vectors in a analytical way take sense when you think in a coordinate system then\n",
        "$\\vec{x}.\\vec{y} = \\sum x_{i} y_{i}$\n",
        "the i-th element of each vector is added."
      ]
    },
    {
      "cell_type": "code",
      "metadata": {
        "colab": {
          "base_uri": "https://localhost:8080/"
        },
        "id": "6xvk3guUIxYi",
        "outputId": "af54f96f-eb65-4fe3-f1fe-ee9fb973b0fc"
      },
      "source": [
        "x=[1,2,3,4,5]\n",
        "y=[1,2,3,4,5]\n",
        "np.dot(x,y)"
      ],
      "execution_count": 5,
      "outputs": [
        {
          "output_type": "execute_result",
          "data": {
            "text/plain": [
              "55"
            ]
          },
          "metadata": {},
          "execution_count": 5
        }
      ]
    },
    {
      "cell_type": "markdown",
      "metadata": {
        "id": "o_vGngwSbV6x"
      },
      "source": [
        "# A linear classifier\n",
        "\n",
        "\\begin{equation}\n",
        "f(x) = w^{t} \\mathbf{x} = w_{0} + w_{1}x_{1} + ... + w_{n}x_{n}\n",
        "\\end{equation}\n",
        "\n",
        "```pyton\n",
        "np.dot(w[1:], x)+ w[0]\n",
        "```"
      ]
    },
    {
      "cell_type": "markdown",
      "metadata": {
        "id": "-b8FhVs-ctce"
      },
      "source": [
        "# Treshold\n",
        "np.where( condition(z) , 1 ,-1)\n",
        "z is n-array and return 1 when the condition () is satisfied and -1 in otherwise."
      ]
    },
    {
      "cell_type": "code",
      "metadata": {
        "colab": {
          "base_uri": "https://localhost:8080/"
        },
        "id": "5Toft8twdEy_",
        "outputId": "bb185238-faff-41b3-f866-ef500b123154"
      },
      "source": [
        "a = np.array((1,3,3,4))\n",
        "np.where(a>1,'99','0')"
      ],
      "execution_count": 6,
      "outputs": [
        {
          "output_type": "execute_result",
          "data": {
            "text/plain": [
              "array(['0', '99', '99', '99'], dtype='<U2')"
            ]
          },
          "metadata": {},
          "execution_count": 6
        }
      ]
    },
    {
      "cell_type": "code",
      "metadata": {
        "id": "MetFWAlrdRCB"
      },
      "source": [
        "def net_input(X,w_):\n",
        "  return np.dot(X,w_[1:]) + w_[0]"
      ],
      "execution_count": 7,
      "outputs": []
    },
    {
      "cell_type": "code",
      "metadata": {
        "id": "UrEAKH0remTs"
      },
      "source": [
        "def predict(X, w_):\n",
        "  return np.where(net_input(X, w_) >= 0,1,-1)  # This is the activation function."
      ],
      "execution_count": 8,
      "outputs": []
    },
    {
      "cell_type": "code",
      "metadata": {
        "id": "Rw-9kPAP0-kU",
        "colab": {
          "base_uri": "https://localhost:8080/",
          "height": 466
        },
        "outputId": "cd355e65-477b-4a20-ce69-a30d1bef06bb"
      },
      "source": [
        "# data = [[1,2,3,4],[10,11,12,5],[11,23,44,22],[11,12,34,44],[1,1,1,0],[10,5,3,1]]\n",
        "data = [[1,2,3,4],[10,11,12,5],[11,23,44,22],[88,12,34,44],[1,1,1,0]]\n",
        "y = np.array((1,-1,1,1,-1))\n",
        "X = np.array(data)\n",
        "w_= np.random.RandomState(9).normal(size=X.shape[1]+1)   #que  hacemos?\n",
        "epochs = 10\n",
        "def fit(X, y, eta=1,epochs=epochs):\n",
        "  errores =[]\n",
        "  for _ in range(epochs):\n",
        "    bias = 0\n",
        "    for xi, cat in zip(X,y):\n",
        "      update = eta * (cat - predict(xi, w_)) #if macth then update is equall to zero\n",
        "      w_[1:] +=  update * xi   #equal to w_[1:] = w_[1:] + update*xi\n",
        "      w_[0] += update\n",
        "      bias += int(update!=0.0)\n",
        "    errores.append(bias)\n",
        "  return errores\n",
        "e=fit(X,y)\n",
        "print(e)\n",
        "plt.plot(range(0,epochs),e)"
      ],
      "execution_count": 9,
      "outputs": [
        {
          "output_type": "stream",
          "name": "stdout",
          "text": [
            "[4, 2, 3, 2, 2, 1, 3, 2, 1, 0]\n"
          ]
        },
        {
          "output_type": "execute_result",
          "data": {
            "text/plain": [
              "[<matplotlib.lines.Line2D at 0x7a80c4118820>]"
            ]
          },
          "metadata": {},
          "execution_count": 9
        },
        {
          "output_type": "display_data",
          "data": {
            "text/plain": [
              "<Figure size 640x480 with 1 Axes>"
            ],
            "image/png": "[encoded data removed]"
          },
          "metadata": {}
        }
      ]
    },
    {
      "cell_type": "markdown",
      "metadata": {
        "id": "oU6I2HyB76io"
      },
      "source": [
        "think that each xi correspond to a vector of features, for the i-th sample.\n"
      ]
    },
    {
      "cell_type": "code",
      "metadata": {
        "id": "t98PAnB45qrb",
        "colab": {
          "base_uri": "https://localhost:8080/"
        },
        "outputId": "f3fc5e86-56cd-4bb7-bf80-7912dfb253a8"
      },
      "source": [
        "import pandas as pd\n",
        "url = 'https://archive.ics.uci.edu/ml/machine-learning-databases/iris/iris.data'\n",
        "df = pd.read_csv(url , header=None)\n",
        "print(df.head())\n",
        "print(df.shape)\n",
        "y = df[4].values\n",
        "y = np.where(y=='Iris-setosa',-1,1)\n",
        "X = df.iloc[:,[1,2]].values\n",
        "# now using sklearn implement a perceptron ( see the slide j-th )"
      ],
      "execution_count": 10,
      "outputs": [
        {
          "output_type": "stream",
          "name": "stdout",
          "text": [
            "     0    1    2    3            4\n",
            "0  5.1  3.5  1.4  0.2  Iris-setosa\n",
            "1  4.9  3.0  1.4  0.2  Iris-setosa\n",
            "2  4.7  3.2  1.3  0.2  Iris-setosa\n",
            "3  4.6  3.1  1.5  0.2  Iris-setosa\n",
            "4  5.0  3.6  1.4  0.2  Iris-setosa\n",
            "(150, 5)\n"
          ]
        }
      ]
    },
    {
      "cell_type": "code",
      "metadata": {
        "colab": {
          "base_uri": "https://localhost:8080/"
        },
        "id": "8iTuVpkrNeKM",
        "outputId": "c5cd5fd3-68aa-48f6-b3d6-991a74915d2a"
      },
      "source": [
        "from sklearn.linear_model import Perceptron\n",
        "model = Perceptron(penalty=None , max_iter=1000, eta0=0.4, random_state=1)\n",
        "model.fit(X,y)\n",
        "print(model.score(X,y)) # Print the number of matches\n",
        "from sklearn.metrics import confusion_matrix\n",
        "# confusion_matrix(y, model.predict(X))\n",
        "print(model.coef_)"
      ],
      "execution_count": 11,
      "outputs": [
        {
          "output_type": "stream",
          "name": "stdout",
          "text": [
            "1.0\n",
            "[[-2.24  2.32]]\n"
          ]
        }
      ]
    }
  ]
}