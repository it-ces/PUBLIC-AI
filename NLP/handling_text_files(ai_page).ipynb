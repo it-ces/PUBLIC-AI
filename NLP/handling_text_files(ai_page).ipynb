{
  "nbformat": 4,
  "nbformat_minor": 0,
  "metadata": {
    "colab": {
      "provenance": []
    },
    "kernelspec": {
      "name": "python3",
      "display_name": "Python 3"
    },
    "language_info": {
      "name": "python"
    }
  },
  "cells": [
    {
      "cell_type": "code",
      "source": [
        "# Iván Andrés Trujillo Abella\n",
        "# ivantrujillo1229@gmail.com"
      ],
      "metadata": {
        "id": "7Yds0H4rJTD6"
      },
      "execution_count": null,
      "outputs": []
    },
    {
      "cell_type": "code",
      "execution_count": null,
      "metadata": {
        "colab": {
          "base_uri": "https://localhost:8080/"
        },
        "id": "Ogpc88tLEihx",
        "outputId": "6b4f2678-be57-4724-8695-3609d5fdd41c"
      },
      "outputs": [
        {
          "output_type": "stream",
          "name": "stdout",
          "text": [
            "Overwriting poem.txt\n"
          ]
        }
      ],
      "source": [
        "%%writefile poem.txt\n",
        "Once upon a midnight dreary,\n",
        "while i pondered weak and weary,\n",
        "over many a quaint and courios volume of forgotten lore,\n",
        "rapping, rapping at my cheamber door.....\n",
        "distincly i rembemer the bleak december\n",
        "eagly,...\n",
        "from my books..."
      ]
    },
    {
      "cell_type": "code",
      "source": [
        "text  = open(\"poem.txt\", 'r')"
      ],
      "metadata": {
        "id": "BR6e5WEtH-_d"
      },
      "execution_count": null,
      "outputs": []
    },
    {
      "cell_type": "code",
      "source": [
        "text.readline()"
      ],
      "metadata": {
        "colab": {
          "base_uri": "https://localhost:8080/",
          "height": 35
        },
        "id": "gdXxjWyOJFyV",
        "outputId": "ed597d53-863f-447e-a76b-509f95fc54f0"
      },
      "execution_count": null,
      "outputs": [
        {
          "output_type": "execute_result",
          "data": {
            "text/plain": [
              "'Once upon a midnight dreary,\\n'"
            ],
            "application/vnd.google.colaboratory.intrinsic+json": {
              "type": "string"
            }
          },
          "metadata": {},
          "execution_count": 81
        }
      ]
    },
    {
      "cell_type": "code",
      "source": [
        "text_read = text.read()"
      ],
      "metadata": {
        "id": "ABBn1E7MJSZy"
      },
      "execution_count": null,
      "outputs": []
    },
    {
      "cell_type": "code",
      "source": [
        "text_read"
      ],
      "metadata": {
        "colab": {
          "base_uri": "https://localhost:8080/",
          "height": 70
        },
        "id": "ncUynbAwNkr5",
        "outputId": "b143551a-355d-42b1-f28f-f488b6f578e6"
      },
      "execution_count": null,
      "outputs": [
        {
          "output_type": "execute_result",
          "data": {
            "text/plain": [
              "'while i pondered weak and weary,\\nover many a quaint and courios volume of forgotten lore,\\nrapping, rapping at my cheamber door.....\\ndistincly i rembemer the bleak december\\neagly,...\\nfrom my books...\\n'"
            ],
            "application/vnd.google.colaboratory.intrinsic+json": {
              "type": "string"
            }
          },
          "metadata": {},
          "execution_count": 83
        }
      ]
    },
    {
      "cell_type": "code",
      "source": [
        "text_read.splitlines()"
      ],
      "metadata": {
        "colab": {
          "base_uri": "https://localhost:8080/"
        },
        "id": "z691z_mfNbNL",
        "outputId": "885f7041-6be9-41c1-a8ed-a8bb4cdd98e9"
      },
      "execution_count": null,
      "outputs": [
        {
          "output_type": "execute_result",
          "data": {
            "text/plain": [
              "['while i pondered weak and weary,',\n",
              " 'over many a quaint and courios volume of forgotten lore,',\n",
              " 'rapping, rapping at my cheamber door.....',\n",
              " 'distincly i rembemer the bleak december',\n",
              " 'eagly,...',\n",
              " 'from my books...']"
            ]
          },
          "metadata": {},
          "execution_count": 84
        }
      ]
    },
    {
      "cell_type": "code",
      "source": [
        "import csv\n",
        "df = open(\"poem.txt\")\n",
        "reader = csv.reader(df, delimiter='\\n')\n",
        "text_=[]\n",
        "for row in reader:\n",
        "  print(row)\n",
        "  text_.append(row)"
      ],
      "metadata": {
        "colab": {
          "base_uri": "https://localhost:8080/"
        },
        "id": "xItMxg4XNyn-",
        "outputId": "4c7f4abe-476c-44fb-95d3-8023604a2fcc"
      },
      "execution_count": null,
      "outputs": [
        {
          "output_type": "stream",
          "name": "stdout",
          "text": [
            "['Once upon a midnight dreary,']\n",
            "['while i pondered weak and weary,']\n",
            "['over many a quaint and courios volume of forgotten lore,']\n",
            "['rapping, rapping at my cheamber door.....']\n",
            "['distincly i rembemer the bleak december']\n",
            "['eagly,...']\n",
            "['from my books...']\n"
          ]
        }
      ]
    },
    {
      "cell_type": "code",
      "source": [],
      "metadata": {
        "id": "192C3E0dQVsO"
      },
      "execution_count": null,
      "outputs": []
    }
  ]
}