{
  "nbformat": 4,
  "nbformat_minor": 0,
  "metadata": {
    "colab": {
      "provenance": [],
      "include_colab_link": true
    },
    "kernelspec": {
      "name": "python3",
      "display_name": "Python 3"
    },
    "language_info": {
      "name": "python"
    }
  },
  "cells": [
    {
      "cell_type": "markdown",
      "metadata": {
        "id": "view-in-github",
        "colab_type": "text"
      },
      "source": [
        "<a href=\"https://colab.research.google.com/github/it-ces/PUBLIC-AI/blob/main/NLP/MultinomialBayes_classifier(ai_page)last_update.ipynb\" target=\"_parent\"><img src=\"https://colab.research.google.com/assets/colab-badge.svg\" alt=\"Open In Colab\"/></a>"
      ]
    },
    {
      "cell_type": "code",
      "source": [
        "# Iván Andrés Trujillo Abella\n",
        "# ivantrujillo1229@gmail.com"
      ],
      "metadata": {
        "id": "fHS41A-S4qsg"
      },
      "execution_count": null,
      "outputs": []
    },
    {
      "cell_type": "code",
      "source": [
        "# In this notebook we are going to build a spam detector app."
      ],
      "metadata": {
        "id": "1NLfJdf66zJ2"
      },
      "execution_count": null,
      "outputs": []
    },
    {
      "cell_type": "code",
      "execution_count": null,
      "metadata": {
        "id": "fQtRkc2mVA9C"
      },
      "outputs": [],
      "source": [
        "url = \"https://raw.githubusercontent.com/it-ces/Datasets/main/spam-ham.csv\""
      ]
    },
    {
      "cell_type": "code",
      "source": [
        "import pandas as pd\n",
        "df = pd.read_csv(url)"
      ],
      "metadata": {
        "id": "Xocfy6_8ZolV"
      },
      "execution_count": null,
      "outputs": []
    },
    {
      "cell_type": "code",
      "source": [
        "df['Label'].value_counts()"
      ],
      "metadata": {
        "colab": {
          "base_uri": "https://localhost:8080/",
          "height": 178
        },
        "id": "uISgBVAM8CFb",
        "outputId": "f2a99edb-f819-42d7-f997-d3c1773969d6"
      },
      "execution_count": null,
      "outputs": [
        {
          "output_type": "execute_result",
          "data": {
            "text/plain": [
              "Label\n",
              "ham     29\n",
              "spam    24\n",
              "Name: count, dtype: int64"
            ],
            "text/html": [
              "<div>\n",
              "<style scoped>\n",
              "    .dataframe tbody tr th:only-of-type {\n",
              "        vertical-align: middle;\n",
              "    }\n",
              "\n",
              "    .dataframe tbody tr th {\n",
              "        vertical-align: top;\n",
              "    }\n",
              "\n",
              "    .dataframe thead th {\n",
              "        text-align: right;\n",
              "    }\n",
              "</style>\n",
              "<table border=\"1\" class=\"dataframe\">\n",
              "  <thead>\n",
              "    <tr style=\"text-align: right;\">\n",
              "      <th></th>\n",
              "      <th>count</th>\n",
              "    </tr>\n",
              "    <tr>\n",
              "      <th>Label</th>\n",
              "      <th></th>\n",
              "    </tr>\n",
              "  </thead>\n",
              "  <tbody>\n",
              "    <tr>\n",
              "      <th>ham</th>\n",
              "      <td>29</td>\n",
              "    </tr>\n",
              "    <tr>\n",
              "      <th>spam</th>\n",
              "      <td>24</td>\n",
              "    </tr>\n",
              "  </tbody>\n",
              "</table>\n",
              "</div><br><label><b>dtype:</b> int64</label>"
            ]
          },
          "metadata": {},
          "execution_count": 170
        }
      ]
    },
    {
      "cell_type": "code",
      "source": [
        "# This is multinomial\n",
        "#dear, friend, lunch, money\n",
        "textos = [[\"dear money\", \"spam\"],\n",
        "          [\"dear money\", \"spam\"],\n",
        "          [\"friend money\", \"spam\"],\n",
        "          [\"money\", \"spam\"],\n",
        "          [\"dear friend lunch\", \"ham\"],\n",
        "          [\"dear friend lunch\", \"ham\"],\n",
        "          [\"dear friend lunch\", \"ham\"],\n",
        "          [\"dear friend money\", \"ham\"],\n",
        "          [\"dear\", \"ham\"],\n",
        "          [\"dear\", \"ham\"],\n",
        "          [\"dear\", \"ham\"],\n",
        "          [\"dear friend\",\"ham\"]]"
      ],
      "metadata": {
        "id": "qS3q3S_t2HEi"
      },
      "execution_count": null,
      "outputs": []
    },
    {
      "cell_type": "code",
      "source": [
        "def words_text(text):\n",
        "  return text.split()"
      ],
      "metadata": {
        "id": "xHWA2tT_4yFF"
      },
      "execution_count": null,
      "outputs": []
    },
    {
      "cell_type": "code",
      "source": [
        "# vocabulary....\n",
        "book = []\n",
        "for text in textos:\n",
        "  for word in words_text(text[0]):\n",
        "    if word not in book:\n",
        "      book.append(word)\n",
        "\n",
        "# Priors\n",
        "priors = {}\n",
        "for text in textos:\n",
        "  if text[1] not in priors:\n",
        "    priors[text[1]] = 1  # The first time that appear!\n",
        "  else:\n",
        "    priors[text[1]] +=1\n",
        "\n",
        "\n",
        "# Used to create Words_by_category and calculate priors.\n",
        "N = len(textos)\n",
        "for prior in priors:\n",
        "  priors[prior] = priors[prior] /N\n",
        "\n",
        "\n",
        "# Words by category\n",
        "words_by_category ={}\n",
        "for category in priors:\n",
        "  words_by_category[category] = 0\n",
        "for text in textos:\n",
        "  words_by_category[text[1]] += len(words_text(text[0]))"
      ],
      "metadata": {
        "id": "fWTC8knqTAkg"
      },
      "execution_count": null,
      "outputs": []
    },
    {
      "cell_type": "code",
      "source": [
        "# How many times each word appear in each category\n",
        "# We could name this as likelihoods?\n",
        "counter = {}\n",
        "for word in book:\n",
        "  counter[word] ={}\n",
        "  for category in priors:\n",
        "    counter[word][category] = 0 # Here we can add smooth (SMOOTH)\n",
        "\n",
        "for text in textos:\n",
        "  for word in words_text(text[0]):\n",
        "    counter[word][text[1]] +=1"
      ],
      "metadata": {
        "id": "M24q6m9T-UpB"
      },
      "execution_count": null,
      "outputs": []
    },
    {
      "cell_type": "code",
      "source": [
        "counter"
      ],
      "metadata": {
        "colab": {
          "base_uri": "https://localhost:8080/"
        },
        "id": "kifW5ffuRvlV",
        "outputId": "30ab8807-6460-4c4a-c8ae-0d210fb059ee"
      },
      "execution_count": null,
      "outputs": [
        {
          "output_type": "execute_result",
          "data": {
            "text/plain": [
              "{'dear': {'spam': 2, 'ham': 8},\n",
              " 'money': {'spam': 4, 'ham': 1},\n",
              " 'friend': {'spam': 1, 'ham': 5},\n",
              " 'lunch': {'spam': 0, 'ham': 3}}"
            ]
          },
          "metadata": {},
          "execution_count": 175
        }
      ]
    },
    {
      "cell_type": "code",
      "source": [
        "likelihood = {}\n",
        "for word in counter:\n",
        "  likelihood[word] = {}\n",
        "  for category in words_by_category:\n",
        "    likelihood[word][category] = counter[word][category] / words_by_category[category]"
      ],
      "metadata": {
        "id": "ASNma0PA78CZ"
      },
      "execution_count": null,
      "outputs": []
    },
    {
      "cell_type": "code",
      "source": [
        "likelihood"
      ],
      "metadata": {
        "id": "jiQ4qW9U8oa4",
        "colab": {
          "base_uri": "https://localhost:8080/"
        },
        "outputId": "2e55370e-bcf6-49cd-da85-28bc3bb9c093"
      },
      "execution_count": null,
      "outputs": [
        {
          "output_type": "execute_result",
          "data": {
            "text/plain": [
              "{'dear': {'spam': 0.2857142857142857, 'ham': 0.47058823529411764},\n",
              " 'money': {'spam': 0.5714285714285714, 'ham': 0.058823529411764705},\n",
              " 'friend': {'spam': 0.14285714285714285, 'ham': 0.29411764705882354},\n",
              " 'lunch': {'spam': 0.0, 'ham': 0.17647058823529413}}"
            ]
          },
          "metadata": {},
          "execution_count": 177
        }
      ]
    },
    {
      "cell_type": "code",
      "source": [
        "# Total probability\n",
        "totals ={}\n",
        "for category in priors:\n",
        "  prob = priors[category]\n",
        "  for word in likelihood:\n",
        "    prob = prob * likelihood[word][category]\n",
        "  totals[category] = prob"
      ],
      "metadata": {
        "id": "DBTNV6ZE9GrT"
      },
      "execution_count": null,
      "outputs": []
    },
    {
      "cell_type": "code",
      "source": [
        "# Take a decison\n",
        "\n",
        "ratio = totals['spam']/(totals['spam']+ totals['ham'])\n",
        "if ratio >0.5:\n",
        "  print('spam!')\n",
        "else:\n",
        "  print('ham!')"
      ],
      "metadata": {
        "colab": {
          "base_uri": "https://localhost:8080/"
        },
        "id": "1kxALa2vQxvG",
        "outputId": "3fe36df4-aeb9-4607-e2ef-0c182ea58f13"
      },
      "execution_count": null,
      "outputs": [
        {
          "output_type": "stream",
          "name": "stdout",
          "text": [
            "ham!\n"
          ]
        }
      ]
    }
  ]
}