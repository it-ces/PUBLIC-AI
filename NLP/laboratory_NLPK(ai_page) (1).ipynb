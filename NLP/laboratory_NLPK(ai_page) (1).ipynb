{
  "nbformat": 4,
  "nbformat_minor": 0,
  "metadata": {
    "colab": {
      "provenance": [],
      "collapsed_sections": [
        "ZRmBdH_WbNwL",
        "eTzsuiLybsEQ",
        "pL6qu6WAFBRP",
        "GPynKlPcJ-5Q"
      ]
    },
    "kernelspec": {
      "name": "python3",
      "display_name": "Python 3"
    },
    "language_info": {
      "name": "python"
    }
  },
  "cells": [
    {
      "cell_type": "code",
      "source": [
        "# Iván Andrés Trujillo Abela\n",
        "# ivantrujillo1229@gmail.com"
      ],
      "metadata": {
        "id": "-9o2tHGvlWdS"
      },
      "execution_count": null,
      "outputs": []
    },
    {
      "cell_type": "markdown",
      "source": [
        "# Laboratory\n",
        "\n",
        "this laboratory is constructed based upon the Michigan Course..."
      ],
      "metadata": {
        "id": "zDd_qIDSpMsw"
      }
    },
    {
      "cell_type": "code",
      "execution_count": null,
      "metadata": {
        "id": "WAYbRxPworGE"
      },
      "outputs": [],
      "source": [
        "textA='Data allow us constract economics hypothesis'"
      ]
    },
    {
      "cell_type": "code",
      "source": [
        "words  = textA.split() #by default sep = \" \""
      ],
      "metadata": {
        "id": "ksks4lZZpSYq"
      },
      "execution_count": null,
      "outputs": []
    },
    {
      "cell_type": "code",
      "source": [
        "# Number of characters and number of wors....."
      ],
      "metadata": {
        "id": "rl4d8Hxupd7x"
      },
      "execution_count": null,
      "outputs": []
    },
    {
      "cell_type": "code",
      "source": [
        "# Find capitalize letter\n",
        "[word for word in words if word.istitle() ]"
      ],
      "metadata": {
        "colab": {
          "base_uri": "https://localhost:8080/"
        },
        "id": "uV7yHE7oXgmE",
        "outputId": "d8ba2195-501b-42b8-b6ae-0761fb3f3d16"
      },
      "execution_count": null,
      "outputs": [
        {
          "output_type": "execute_result",
          "data": {
            "text/plain": [
              "['Data']"
            ]
          },
          "metadata": {},
          "execution_count": 6
        }
      ]
    },
    {
      "cell_type": "code",
      "source": [
        "#istitle check if the first character is capatilized and others  not."
      ],
      "metadata": {
        "id": "x9enIMxkYgRL"
      },
      "execution_count": null,
      "outputs": []
    },
    {
      "cell_type": "code",
      "source": [
        "[word for word in words if word.endswith('s')] # Words that finish with 's'"
      ],
      "metadata": {
        "colab": {
          "base_uri": "https://localhost:8080/"
        },
        "id": "FdSurSJiZKWC",
        "outputId": "d77332dc-dc90-4e66-9dca-9114ab3dca50"
      },
      "execution_count": null,
      "outputs": [
        {
          "output_type": "execute_result",
          "data": {
            "text/plain": [
              "['us', 'economics', 'hypothesis']"
            ]
          },
          "metadata": {},
          "execution_count": 8
        }
      ]
    },
    {
      "cell_type": "code",
      "source": [
        "set(['a', 'b', 'b', 'c'])  #unique word or letters"
      ],
      "metadata": {
        "colab": {
          "base_uri": "https://localhost:8080/"
        },
        "id": "hhk_wt6-Zxf0",
        "outputId": "4e405254-05f2-434f-b171-510c5fac3d0c"
      },
      "execution_count": null,
      "outputs": [
        {
          "output_type": "execute_result",
          "data": {
            "text/plain": [
              "{'a', 'b', 'c'}"
            ]
          },
          "metadata": {},
          "execution_count": 9
        }
      ]
    },
    {
      "cell_type": "code",
      "source": [
        "# Rember how we can homogenie\n",
        "[word.lower() for word in words]"
      ],
      "metadata": {
        "colab": {
          "base_uri": "https://localhost:8080/"
        },
        "id": "U21Vnnvla21C",
        "outputId": "3aee04c1-0c1a-456e-f15e-0fde897c4f20"
      },
      "execution_count": null,
      "outputs": [
        {
          "output_type": "execute_result",
          "data": {
            "text/plain": [
              "['data', 'allow', 'us', 'constract', 'economics', 'hypothesis']"
            ]
          },
          "metadata": {},
          "execution_count": 10
        }
      ]
    },
    {
      "cell_type": "code",
      "source": [
        "[word.upper() for word in words]"
      ],
      "metadata": {
        "colab": {
          "base_uri": "https://localhost:8080/"
        },
        "id": "j823oR4tbAHf",
        "outputId": "ce76bd69-f487-4d14-abd8-7b469524225c"
      },
      "execution_count": null,
      "outputs": [
        {
          "output_type": "execute_result",
          "data": {
            "text/plain": [
              "['DATA', 'ALLOW', 'US', 'CONSTRACT', 'ECONOMICS', 'HYPOTHESIS']"
            ]
          },
          "metadata": {},
          "execution_count": 11
        }
      ]
    },
    {
      "cell_type": "code",
      "source": [],
      "metadata": {
        "id": "N1ReDZEFbDfO"
      },
      "execution_count": null,
      "outputs": []
    },
    {
      "cell_type": "markdown",
      "source": [
        "# Functions\n",
        "* string.startswith(\"letter\")\n",
        "* string.endswith(\"letter)\n",
        "* substring in string\n"
      ],
      "metadata": {
        "id": "ZRmBdH_WbNwL"
      }
    },
    {
      "cell_type": "code",
      "source": [
        "'carr' in 'carro'"
      ],
      "metadata": {
        "colab": {
          "base_uri": "https://localhost:8080/"
        },
        "id": "ki_VVsICbcz7",
        "outputId": "857c4225-297d-4172-aa97-55fbf0944b87"
      },
      "execution_count": null,
      "outputs": [
        {
          "output_type": "execute_result",
          "data": {
            "text/plain": [
              "True"
            ]
          },
          "metadata": {},
          "execution_count": 12
        }
      ]
    },
    {
      "cell_type": "markdown",
      "source": [
        "# another are\n",
        "* string.isupper()\n",
        "* string.islower()\n",
        "* string.istitle() # capitalized\n",
        "* string.isalpha() #check if is alphabets\n",
        "* string.isdigit() # to check if a digit\n",
        "* string.splitlines() # split with \\n\n",
        "* string.join()\n",
        "* string.strip()\n",
        "* string.rstrip()\n",
        "* string.find() # the first ocurrence\n",
        "* string.rfind()  # the last ocurrence\n",
        "* string.replace(\"old value\", \"new value\")\n",
        "\n",
        "\n"
      ],
      "metadata": {
        "id": "eTzsuiLybsEQ"
      }
    },
    {
      "cell_type": "code",
      "source": [
        "#how works join()?\n",
        "''.join(['h','e','l','l','o',' ','w','o','r','l','d'])"
      ],
      "metadata": {
        "colab": {
          "base_uri": "https://localhost:8080/",
          "height": 283
        },
        "id": "N9iX4PEDbhPI",
        "outputId": "757eb7a5-01ae-4031-dc7e-92fd8e9fc229"
      },
      "execution_count": null,
      "outputs": [
        {
          "output_type": "execute_result",
          "data": {
            "text/plain": [
              "'hello world'"
            ],
            "application/vnd.google.colaboratory.intrinsic+json": {
              "type": "string"
            }
          },
          "metadata": {},
          "execution_count": 13
        }
      ]
    },
    {
      "cell_type": "code",
      "source": [
        "# Maybe useful\n",
        "list('hello')"
      ],
      "metadata": {
        "colab": {
          "base_uri": "https://localhost:8080/"
        },
        "id": "2GACJmRADdoL",
        "outputId": "e0f0dbb1-5370-4e89-c6b9-65c9bed1a0de"
      },
      "execution_count": null,
      "outputs": [
        {
          "output_type": "execute_result",
          "data": {
            "text/plain": [
              "['h', 'e', 'l', 'l', 'o']"
            ]
          },
          "metadata": {},
          "execution_count": 14
        }
      ]
    },
    {
      "cell_type": "code",
      "source": [
        "#strip could be useful\n",
        "text = '  Ds is a good profession . '"
      ],
      "metadata": {
        "id": "gg7MBv36EGlh"
      },
      "execution_count": null,
      "outputs": []
    },
    {
      "cell_type": "code",
      "source": [
        "text.strip() # Preserve the space among words is very important.."
      ],
      "metadata": {
        "colab": {
          "base_uri": "https://localhost:8080/",
          "height": 512
        },
        "id": "4smYT2qoEOFY",
        "outputId": "f864f8b7-5516-4f85-b75e-41eb3ba9515c"
      },
      "execution_count": null,
      "outputs": [
        {
          "output_type": "execute_result",
          "data": {
            "text/plain": [
              "'Ds is a good profession .'"
            ],
            "application/vnd.google.colaboratory.intrinsic+json": {
              "type": "string"
            }
          },
          "metadata": {},
          "execution_count": 16
        }
      ]
    },
    {
      "cell_type": "markdown",
      "source": [
        "## Handling large texts..\n",
        "\n",
        "How read files line by line?\n",
        "\n",
        "```python\n",
        "f = open(\"file.txt\", 'r')\n",
        "f.readline() # to read the first line\n",
        "```\n"
      ],
      "metadata": {
        "id": "pL6qu6WAFBRP"
      }
    },
    {
      "cell_type": "code",
      "source": [
        "%%writefile file.txt\n",
        "when the nigth is come\n",
        "and the land is dark\n",
        "and the moond\n",
        "is the only light we see"
      ],
      "metadata": {
        "colab": {
          "base_uri": "https://localhost:8080/"
        },
        "id": "oFJ0wcdvEXZD",
        "outputId": "86c4d087-19a6-4f08-eb7a-05825260e70c"
      },
      "execution_count": null,
      "outputs": [
        {
          "output_type": "stream",
          "name": "stdout",
          "text": [
            "Writing file.txt\n"
          ]
        }
      ]
    },
    {
      "cell_type": "code",
      "source": [
        "f = open(\"file.txt\", 'r')\n",
        "f.readline()"
      ],
      "metadata": {
        "colab": {
          "base_uri": "https://localhost:8080/",
          "height": 530
        },
        "id": "Gry2Y3cAGxLq",
        "outputId": "51d0ec5c-4746-4e9c-a342-c458e69f72b7"
      },
      "execution_count": null,
      "outputs": [
        {
          "output_type": "execute_result",
          "data": {
            "text/plain": [
              "'when the nigth is come \\n'"
            ],
            "application/vnd.google.colaboratory.intrinsic+json": {
              "type": "string"
            }
          },
          "metadata": {},
          "execution_count": 18
        }
      ]
    },
    {
      "cell_type": "code",
      "source": [
        "f.seek(0) # i open previously(as next())\n",
        "full = f.read()"
      ],
      "metadata": {
        "id": "5TgJv42nHBXi"
      },
      "execution_count": null,
      "outputs": []
    },
    {
      "cell_type": "code",
      "source": [
        "full"
      ],
      "metadata": {
        "colab": {
          "base_uri": "https://localhost:8080/",
          "height": 1000
        },
        "id": "ssAnnF6qIf4S",
        "outputId": "e8ad002f-f5aa-4d55-db00-1cc4a555b3e3"
      },
      "execution_count": null,
      "outputs": [
        {
          "output_type": "execute_result",
          "data": {
            "text/plain": [
              "'when the nigth is come \\nand the land is dark \\nand the moond \\nis the only light we see\\n'"
            ],
            "application/vnd.google.colaboratory.intrinsic+json": {
              "type": "string"
            }
          },
          "metadata": {},
          "execution_count": 20
        }
      ]
    },
    {
      "cell_type": "code",
      "source": [
        "len(full)"
      ],
      "metadata": {
        "colab": {
          "base_uri": "https://localhost:8080/"
        },
        "id": "5wxrH59sInSI",
        "outputId": "9977d2d8-2a63-4841-b44e-0767458a7774"
      },
      "execution_count": null,
      "outputs": [
        {
          "output_type": "execute_result",
          "data": {
            "text/plain": [
              "86"
            ]
          },
          "metadata": {},
          "execution_count": 21
        }
      ]
    },
    {
      "cell_type": "code",
      "source": [
        "full_ = full.splitlines()"
      ],
      "metadata": {
        "id": "-fXZVS-lIqtm"
      },
      "execution_count": null,
      "outputs": []
    },
    {
      "cell_type": "code",
      "source": [
        "full_"
      ],
      "metadata": {
        "colab": {
          "base_uri": "https://localhost:8080/"
        },
        "id": "56lKw2XvJTDM",
        "outputId": "e896d7ac-4735-4fd0-d3ae-271a3a812dc3"
      },
      "execution_count": null,
      "outputs": [
        {
          "output_type": "execute_result",
          "data": {
            "text/plain": [
              "['when the nigth is come ',\n",
              " 'and the land is dark ',\n",
              " 'and the moond ',\n",
              " 'is the only light we see']"
            ]
          },
          "metadata": {},
          "execution_count": 23
        }
      ]
    },
    {
      "cell_type": "markdown",
      "source": [
        "# File operations?\n",
        "\n",
        "```python\n",
        "f = open(\"file.txt\", mode)\n",
        "```\n",
        "for mode could be :\n",
        "\n",
        "* read (\"r\")\n",
        "* write (\"w\")\n",
        "\n",
        "and the methods for f,\n",
        "* f.readline()\n",
        "* f.read(n) # by default all, but n indicates the number of characters..\n"
      ],
      "metadata": {
        "id": "GPynKlPcJ-5Q"
      }
    },
    {
      "cell_type": "code",
      "source": [
        "f = open(\"file.txt\", 'r')\n",
        "d = []\n",
        "for row in f:\n",
        "  d.append(row)"
      ],
      "metadata": {
        "id": "M_XzIiPIKg_6"
      },
      "execution_count": null,
      "outputs": []
    },
    {
      "cell_type": "code",
      "source": [
        "f.seek(0) # The poiter...\n",
        "d_  = [row.rstrip() for row in f]  # Removing blank characters to the end /n\n",
        "d_"
      ],
      "metadata": {
        "colab": {
          "base_uri": "https://localhost:8080/"
        },
        "id": "_uR9nwPRLgvp",
        "outputId": "f7754fdc-7efd-4195-c588-e9fbb44bdcad"
      },
      "execution_count": null,
      "outputs": [
        {
          "output_type": "execute_result",
          "data": {
            "text/plain": [
              "['when the nigth is come',\n",
              " 'and the land is dark',\n",
              " 'and the moond',\n",
              " 'is the only light we see']"
            ]
          },
          "metadata": {},
          "execution_count": 25
        }
      ]
    },
    {
      "cell_type": "markdown",
      "source": [
        "# regex"
      ],
      "metadata": {
        "id": "E4ArtfTqOlCN"
      }
    },
    {
      "cell_type": "code",
      "source": [
        "# extracting call outs in a tweet using regex\n",
        "import re\n",
        "tweet = '@MIT and @Michigan are popular universities'\n",
        "tweet_ = tweet.split()\n",
        "[word for word in tweet_ if re.findall('@[a-zA-Z]+', word)] #findall vs"
      ],
      "metadata": {
        "colab": {
          "base_uri": "https://localhost:8080/"
        },
        "id": "LgqahMOdLYLc",
        "outputId": "2a356623-05e8-4f65-ee57-12cfbb9e8f30"
      },
      "execution_count": null,
      "outputs": [
        {
          "output_type": "execute_result",
          "data": {
            "text/plain": [
              "['@MIT', '@Michigan']"
            ]
          },
          "metadata": {},
          "execution_count": 26
        }
      ]
    },
    {
      "cell_type": "code",
      "source": [
        "re.findall('@[a-zA-Z]+','@michigan')"
      ],
      "metadata": {
        "colab": {
          "base_uri": "https://localhost:8080/"
        },
        "id": "9OLs2RM-fQMA",
        "outputId": "902a3d70-283f-4c76-c5ed-b8178946bd0a"
      },
      "execution_count": null,
      "outputs": [
        {
          "output_type": "execute_result",
          "data": {
            "text/plain": [
              "['@michigan']"
            ]
          },
          "metadata": {},
          "execution_count": 27
        }
      ]
    },
    {
      "cell_type": "code",
      "source": [
        "# Remeber that + is one or more times...\n",
        "# Remember that . is any character single.."
      ],
      "metadata": {
        "id": "_nLnf73xh9m3"
      },
      "execution_count": null,
      "outputs": []
    },
    {
      "cell_type": "code",
      "source": [
        "# find some  vowels...\n",
        "string  = 'hello world'\n",
        "re.findall(r'[aeiou]',string)\n",
        "# Not is vowel\n",
        "re.findall(r'[^aeiou]',string)"
      ],
      "metadata": {
        "colab": {
          "base_uri": "https://localhost:8080/"
        },
        "id": "1Zo8leCchzdV",
        "outputId": "fd29d375-2368-472a-cee7-20a871cb6095"
      },
      "execution_count": null,
      "outputs": [
        {
          "output_type": "execute_result",
          "data": {
            "text/plain": [
              "['h', 'l', 'l', ' ', 'w', 'r', 'l', 'd']"
            ]
          },
          "metadata": {},
          "execution_count": 29
        }
      ]
    },
    {
      "cell_type": "code",
      "source": [
        "# Regular expressions for date"
      ],
      "metadata": {
        "id": "9bjVUNhMwMEM"
      },
      "execution_count": null,
      "outputs": []
    },
    {
      "cell_type": "code",
      "source": [
        "dates = [\n",
        "    '29-12-1994', '06-05-2015',\n",
        "    'octubr,2015,3', '1995,oct,03'\n",
        "    '20-12-94'\n",
        "    ]"
      ],
      "metadata": {
        "id": "tobeFNmH3H_3"
      },
      "execution_count": null,
      "outputs": []
    },
    {
      "cell_type": "code",
      "source": [
        "[date for date in dates if re.search('\\d{2}[/-]\\d{2}[/-]\\d{4}',date )]"
      ],
      "metadata": {
        "colab": {
          "base_uri": "https://localhost:8080/"
        },
        "id": "a2gjvjh_3Pho",
        "outputId": "d527e2fd-22f2-40a7-cf92-f4000025912b"
      },
      "execution_count": null,
      "outputs": [
        {
          "output_type": "execute_result",
          "data": {
            "text/plain": [
              "['29-12-1994', '06-05-2015']"
            ]
          },
          "metadata": {},
          "execution_count": 32
        }
      ]
    },
    {
      "cell_type": "code",
      "source": [
        "[date for date in dates if re.search('\\d{2}[/-]\\d{2}[/-]\\d{2,4}',date )]"
      ],
      "metadata": {
        "colab": {
          "base_uri": "https://localhost:8080/"
        },
        "id": "jV2LlweD35KJ",
        "outputId": "5d788d44-3667-461b-c409-572a90e08c51"
      },
      "execution_count": null,
      "outputs": [
        {
          "output_type": "execute_result",
          "data": {
            "text/plain": [
              "['29-12-1994', '06-05-2015', '1995,oct,0320-12-94']"
            ]
          },
          "metadata": {},
          "execution_count": 33
        }
      ]
    },
    {
      "cell_type": "code",
      "source": [
        "# Make a regular for:\n",
        "# take care tiwh () scoping.\n",
        "'12-feb-2012'\n",
        "'01-jan-2013'"
      ],
      "metadata": {
        "colab": {
          "base_uri": "https://localhost:8080/",
          "height": 35
        },
        "id": "9XU4nSH5EBxM",
        "outputId": "43f27140-95dd-4b7d-eb80-9c2fd2fbf909"
      },
      "execution_count": null,
      "outputs": [
        {
          "output_type": "execute_result",
          "data": {
            "text/plain": [
              "'01-jan-2013'"
            ],
            "application/vnd.google.colaboratory.intrinsic+json": {
              "type": "string"
            }
          },
          "metadata": {},
          "execution_count": 34
        }
      ]
    },
    {
      "cell_type": "code",
      "source": [
        "dates = [\n",
        "    \"12 oct 189\",\n",
        "    \"23 feb 1994\"\n",
        "]"
      ],
      "metadata": {
        "id": "Vhsb-DmTEYbK"
      },
      "execution_count": null,
      "outputs": []
    },
    {
      "cell_type": "code",
      "source": [
        "[re.findall(r'\\d{2} (feb|oct|jan|nov|dec) \\d{2,4}',date ) for date in dates]"
      ],
      "metadata": {
        "colab": {
          "base_uri": "https://localhost:8080/"
        },
        "id": "SHBzHiqlHdkq",
        "outputId": "d3bf55fa-78ce-44cd-e168-c50c9e8cec90"
      },
      "execution_count": null,
      "outputs": [
        {
          "output_type": "execute_result",
          "data": {
            "text/plain": [
              "[['oct'], ['feb']]"
            ]
          },
          "metadata": {},
          "execution_count": 36
        }
      ]
    },
    {
      "cell_type": "code",
      "source": [
        "# Scoping\n",
        "dates =  \"12 oct 1893, 23 feb 1994\"\n",
        "re.findall('\\d{2} (feb|oct|jan|nov|dec) \\d{2,4}',dates)\n",
        "# Notice, that () allow us scoping or extract the part of the math that interested us."
      ],
      "metadata": {
        "colab": {
          "base_uri": "https://localhost:8080/"
        },
        "id": "bLdlYi7RJAky",
        "outputId": "51f56343-0303-4f75-a08f-707da2497f37"
      },
      "execution_count": null,
      "outputs": [
        {
          "output_type": "execute_result",
          "data": {
            "text/plain": [
              "['oct', 'feb']"
            ]
          },
          "metadata": {},
          "execution_count": 37
        }
      ]
    },
    {
      "cell_type": "code",
      "source": [
        "re.findall('\\d{2} (?:feb|oct|jan|nov|dec) \\d{2,4}',dates)\n",
        "# drop the before behavior"
      ],
      "metadata": {
        "colab": {
          "base_uri": "https://localhost:8080/"
        },
        "id": "X75z6LpMKco4",
        "outputId": "d5c00c27-2458-4521-dab8-d239404b9632"
      },
      "execution_count": null,
      "outputs": [
        {
          "output_type": "execute_result",
          "data": {
            "text/plain": [
              "['12 oct 1893', '23 feb 1994']"
            ]
          },
          "metadata": {},
          "execution_count": 38
        }
      ]
    },
    {
      "cell_type": "code",
      "source": [
        "dates =  \"12 oct 1893, 23 feb 1994, 10 january 1923\""
      ],
      "metadata": {
        "id": "NI9Fqu9DRqbc"
      },
      "execution_count": null,
      "outputs": []
    },
    {
      "cell_type": "code",
      "source": [
        "re.findall('\\d{2} (?:feb|oct|jan|nov|dec)[a-z]* \\d{2,4}',dates)"
      ],
      "metadata": {
        "colab": {
          "base_uri": "https://localhost:8080/"
        },
        "id": "t2B8OX58TIz8",
        "outputId": "0751d80d-4ca9-469b-e900-dd4353ca5a0b"
      },
      "execution_count": null,
      "outputs": [
        {
          "output_type": "execute_result",
          "data": {
            "text/plain": [
              "['12 oct 1893', '23 feb 1994', '10 january 1923']"
            ]
          },
          "metadata": {},
          "execution_count": 40
        }
      ]
    },
    {
      "cell_type": "markdown",
      "source": [
        "# Regex with pandas\n"
      ],
      "metadata": {
        "id": "O9rDSqC4UVMO"
      }
    },
    {
      "cell_type": "code",
      "source": [
        "import pandas as pd"
      ],
      "metadata": {
        "id": "ltOeAD2mTNKf"
      },
      "execution_count": null,
      "outputs": []
    },
    {
      "cell_type": "code",
      "source": [
        "# Capturing Emails?\n",
        "sentences = [\n",
        "    \"In the senteces could appeaar emails user@gmail.com\",\n",
        "    \"Log: Not is valid the mail user1995@yahoo.es\",\n",
        "    \"Users_123@gmail.com\", 'Dont talk about anything'\n",
        "]\n",
        "df = pd.DataFrame(sentences, columns=['var1'])"
      ],
      "metadata": {
        "id": "JkCGozOfg4fR"
      },
      "execution_count": null,
      "outputs": []
    },
    {
      "cell_type": "code",
      "source": [
        "df['var1'].str.len()"
      ],
      "metadata": {
        "colab": {
          "base_uri": "https://localhost:8080/"
        },
        "id": "lHtEsVFclR_p",
        "outputId": "edd25f0c-0b51-4d2e-e5e2-3f2086b28e8c"
      },
      "execution_count": null,
      "outputs": [
        {
          "output_type": "execute_result",
          "data": {
            "text/plain": [
              "0    51\n",
              "1    44\n",
              "2    19\n",
              "3    24\n",
              "Name: var1, dtype: int64"
            ]
          },
          "metadata": {},
          "execution_count": 43
        }
      ]
    },
    {
      "cell_type": "code",
      "source": [
        "df['var1'].str.split()"
      ],
      "metadata": {
        "colab": {
          "base_uri": "https://localhost:8080/"
        },
        "id": "n08LyodJnP-z",
        "outputId": "707c2b62-2b6c-4ceb-f3a6-e8f71bc29d40"
      },
      "execution_count": null,
      "outputs": [
        {
          "output_type": "execute_result",
          "data": {
            "text/plain": [
              "0    [In, the, senteces, could, appeaar, emails, us...\n",
              "1    [Log:, Not, is, valid, the, mail, user1995@yah...\n",
              "2                                [Users_123@gmail.com]\n",
              "3                        [Dont, talk, about, anything]\n",
              "Name: var1, dtype: object"
            ]
          },
          "metadata": {},
          "execution_count": 44
        }
      ]
    },
    {
      "cell_type": "code",
      "source": [
        "df['var1'].str.split().str.len()"
      ],
      "metadata": {
        "colab": {
          "base_uri": "https://localhost:8080/"
        },
        "id": "tG8Yueb8nYj1",
        "outputId": "0019f101-515c-48f7-ffb8-dd57879f6fc7"
      },
      "execution_count": null,
      "outputs": [
        {
          "output_type": "execute_result",
          "data": {
            "text/plain": [
              "0    7\n",
              "1    7\n",
              "2    1\n",
              "3    4\n",
              "Name: var1, dtype: int64"
            ]
          },
          "metadata": {},
          "execution_count": 45
        }
      ]
    },
    {
      "cell_type": "code",
      "source": [
        "df['var1'].str.contains('Log') # if contain the word 'LOG"
      ],
      "metadata": {
        "colab": {
          "base_uri": "https://localhost:8080/"
        },
        "id": "gOLowfeanfDP",
        "outputId": "3c51c8b1-4f8c-496b-fd64-af1b08e92dab"
      },
      "execution_count": null,
      "outputs": [
        {
          "output_type": "execute_result",
          "data": {
            "text/plain": [
              "0    False\n",
              "1     True\n",
              "2    False\n",
              "3    False\n",
              "Name: var1, dtype: bool"
            ]
          },
          "metadata": {},
          "execution_count": 46
        }
      ]
    },
    {
      "cell_type": "code",
      "source": [
        "# The times that appear or a pattern"
      ],
      "metadata": {
        "id": "ZDpc43lanxvN"
      },
      "execution_count": null,
      "outputs": []
    },
    {
      "cell_type": "code",
      "source": [
        "df['var1'].str.count(r'\\@') # there is not a email in the last message"
      ],
      "metadata": {
        "colab": {
          "base_uri": "https://localhost:8080/"
        },
        "id": "rndUV6Dxn1zI",
        "outputId": "229e8474-7788-485a-894a-93b7ce49443e"
      },
      "execution_count": null,
      "outputs": [
        {
          "output_type": "execute_result",
          "data": {
            "text/plain": [
              "0    1\n",
              "1    1\n",
              "2    1\n",
              "3    0\n",
              "Name: var1, dtype: int64"
            ]
          },
          "metadata": {},
          "execution_count": 48
        }
      ]
    },
    {
      "cell_type": "code",
      "source": [
        "df = [\n",
        "  \"The avarage wage of economist is higher than another 1.4 times\",\n",
        "  \"The 12.2 pounds over mean\",\n",
        "  \"is more efficient three(3) times\", 'Quantum computational shift x the current power'\n",
        "]\n",
        "df  = pd.DataFrame(df, columns =['col'] )\n",
        "df['col'].str.findall(r\"\\d*\\.?\\d+\")"
      ],
      "metadata": {
        "colab": {
          "base_uri": "https://localhost:8080/"
        },
        "id": "DlKk-AE9oFFu",
        "outputId": "16165235-4f26-447e-fe50-2b4b8449b9af"
      },
      "execution_count": null,
      "outputs": [
        {
          "output_type": "execute_result",
          "data": {
            "text/plain": [
              "0     [1.4]\n",
              "1    [12.2]\n",
              "2       [3]\n",
              "3        []\n",
              "Name: col, dtype: object"
            ]
          },
          "metadata": {},
          "execution_count": 49
        }
      ]
    },
    {
      "cell_type": "code",
      "source": [
        "# We can uses scoping to return groups!!\n",
        "#User and system update day\n",
        "texts = ['verify the password user@gmail.com Date: 01/11/2022 ',\n",
        "         'Error changing the password of user2@yahoo.es 04/12/2021',\n",
        "         'This password user_bug@hotmail.com is old the new was modified 06/03/2022']\n",
        "df = pd.DataFrame(texts, columns=['info'])"
      ],
      "metadata": {
        "id": "EAvQYZ5woloC"
      },
      "execution_count": null,
      "outputs": []
    },
    {
      "cell_type": "code",
      "source": [
        "df['info'].str.findall(r'(\\d{2})(/\\d{2}/\\d{4})') # Group the day"
      ],
      "metadata": {
        "colab": {
          "base_uri": "https://localhost:8080/"
        },
        "id": "aGfahcdZoL78",
        "outputId": "32954e4f-e05a-4a43-d64b-43098f731405"
      },
      "execution_count": null,
      "outputs": [
        {
          "output_type": "execute_result",
          "data": {
            "text/plain": [
              "0    [(01, /11/2022)]\n",
              "1    [(04, /12/2021)]\n",
              "2    [(06, /03/2022)]\n",
              "Name: info, dtype: object"
            ]
          },
          "metadata": {},
          "execution_count": 80
        }
      ]
    },
    {
      "cell_type": "code",
      "source": [
        "## We can replace text mails with ???\n",
        "## Anonimizing\n",
        "df['info'].str.replace(\"\\w*@\\w*\\.\\w{2,3}\",\"xxx\")"
      ],
      "metadata": {
        "colab": {
          "base_uri": "https://localhost:8080/"
        },
        "id": "ZgDeVf8Q-BjG",
        "outputId": "11beacde-a4fc-4e32-ccb9-41ad533af835"
      },
      "execution_count": null,
      "outputs": [
        {
          "output_type": "stream",
          "name": "stderr",
          "text": [
            "<ipython-input-106-8c83db6ec1ab>:2: FutureWarning: The default value of regex will change from True to False in a future version.\n",
            "  df['info'].str.replace(\"\\w*@\\w*\\.\\w{2,3}\",\"xxx\")\n"
          ]
        },
        {
          "output_type": "execute_result",
          "data": {
            "text/plain": [
              "0            verify the password xxx Date: 01/11/2022 \n",
              "1        Error changing the password of xxx 04/12/2021\n",
              "2    This password xxx is old the new was modified ...\n",
              "Name: info, dtype: object"
            ]
          },
          "metadata": {},
          "execution_count": 106
        }
      ]
    },
    {
      "cell_type": "code",
      "source": [
        "# We can use regex with lambda and group...\n",
        "df['info'].str.replace(r'(\\w*@\\w*\\.\\w{2,3})', lambda x: x.groups()[0][:5]) # replacing in this way could be very useful"
      ],
      "metadata": {
        "colab": {
          "base_uri": "https://localhost:8080/"
        },
        "id": "y8K7VtUyBS0G",
        "outputId": "d06d67f5-d0a9-4162-ed0c-49482e7ee6a2"
      },
      "execution_count": null,
      "outputs": [
        {
          "output_type": "stream",
          "name": "stderr",
          "text": [
            "<ipython-input-113-446db7e0cd42>:2: FutureWarning: The default value of regex will change from True to False in a future version.\n",
            "  df['info'].str.replace(r'(\\w*@\\w*\\.\\w{2,3})', lambda x: x.groups()[0][:5]) # replacing in this way could be very useful\n"
          ]
        },
        {
          "output_type": "execute_result",
          "data": {
            "text/plain": [
              "0          verify the password user@ Date: 01/11/2022 \n",
              "1      Error changing the password of user2 04/12/2021\n",
              "2    This password user_ is old the new was modifie...\n",
              "Name: info, dtype: object"
            ]
          },
          "metadata": {},
          "execution_count": 113
        }
      ]
    },
    {
      "cell_type": "code",
      "source": [
        "# we can extract information\n",
        "# The following method only extract the first group\n",
        "df['info'].str.extract(r'(\\w*@\\w*\\.\\w{2,3})') #this is very important!!!\n",
        "#if you want extract all uses:\n",
        "#str.extractall()"
      ],
      "metadata": {
        "colab": {
          "base_uri": "https://localhost:8080/",
          "height": 143
        },
        "id": "R-NaJH4dDLGV",
        "outputId": "2c9069ea-a251-4915-a6db-1960bcbbd57b"
      },
      "execution_count": null,
      "outputs": [
        {
          "output_type": "execute_result",
          "data": {
            "text/plain": [
              "                      0\n",
              "0        user@gmail.com\n",
              "1        user2@yahoo.es\n",
              "2  user_bug@hotmail.com"
            ],
            "text/html": [
              "\n",
              "  <div id=\"df-4227f154-a992-4e2f-bd07-ddaf6704b529\">\n",
              "    <div class=\"colab-df-container\">\n",
              "      <div>\n",
              "<style scoped>\n",
              "    .dataframe tbody tr th:only-of-type {\n",
              "        vertical-align: middle;\n",
              "    }\n",
              "\n",
              "    .dataframe tbody tr th {\n",
              "        vertical-align: top;\n",
              "    }\n",
              "\n",
              "    .dataframe thead th {\n",
              "        text-align: right;\n",
              "    }\n",
              "</style>\n",
              "<table border=\"1\" class=\"dataframe\">\n",
              "  <thead>\n",
              "    <tr style=\"text-align: right;\">\n",
              "      <th></th>\n",
              "      <th>0</th>\n",
              "    </tr>\n",
              "  </thead>\n",
              "  <tbody>\n",
              "    <tr>\n",
              "      <th>0</th>\n",
              "      <td>user@gmail.com</td>\n",
              "    </tr>\n",
              "    <tr>\n",
              "      <th>1</th>\n",
              "      <td>user2@yahoo.es</td>\n",
              "    </tr>\n",
              "    <tr>\n",
              "      <th>2</th>\n",
              "      <td>user_bug@hotmail.com</td>\n",
              "    </tr>\n",
              "  </tbody>\n",
              "</table>\n",
              "</div>\n",
              "      <button class=\"colab-df-convert\" onclick=\"convertToInteractive('df-4227f154-a992-4e2f-bd07-ddaf6704b529')\"\n",
              "              title=\"Convert this dataframe to an interactive table.\"\n",
              "              style=\"display:none;\">\n",
              "        \n",
              "  <svg xmlns=\"http://www.w3.org/2000/svg\" height=\"24px\"viewBox=\"0 0 24 24\"\n",
              "       width=\"24px\">\n",
              "    <path d=\"M0 0h24v24H0V0z\" fill=\"none\"/>\n",
              "    <path d=\"M18.56 5.44l.94 2.06.94-2.06 2.06-.94-2.06-.94-.94-2.06-.94 2.06-2.06.94zm-11 1L8.5 8.5l.94-2.06 2.06-.94-2.06-.94L8.5 2.5l-.94 2.06-2.06.94zm10 10l.94 2.06.94-2.06 2.06-.94-2.06-.94-.94-2.06-.94 2.06-2.06.94z\"/><path d=\"M17.41 7.96l-1.37-1.37c-.4-.4-.92-.59-1.43-.59-.52 0-1.04.2-1.43.59L10.3 9.45l-7.72 7.72c-.78.78-.78 2.05 0 2.83L4 21.41c.39.39.9.59 1.41.59.51 0 1.02-.2 1.41-.59l7.78-7.78 2.81-2.81c.8-.78.8-2.07 0-2.86zM5.41 20L4 18.59l7.72-7.72 1.47 1.35L5.41 20z\"/>\n",
              "  </svg>\n",
              "      </button>\n",
              "      \n",
              "  <style>\n",
              "    .colab-df-container {\n",
              "      display:flex;\n",
              "      flex-wrap:wrap;\n",
              "      gap: 12px;\n",
              "    }\n",
              "\n",
              "    .colab-df-convert {\n",
              "      background-color: #E8F0FE;\n",
              "      border: none;\n",
              "      border-radius: 50%;\n",
              "      cursor: pointer;\n",
              "      display: none;\n",
              "      fill: #1967D2;\n",
              "      height: 32px;\n",
              "      padding: 0 0 0 0;\n",
              "      width: 32px;\n",
              "    }\n",
              "\n",
              "    .colab-df-convert:hover {\n",
              "      background-color: #E2EBFA;\n",
              "      box-shadow: 0px 1px 2px rgba(60, 64, 67, 0.3), 0px 1px 3px 1px rgba(60, 64, 67, 0.15);\n",
              "      fill: #174EA6;\n",
              "    }\n",
              "\n",
              "    [theme=dark] .colab-df-convert {\n",
              "      background-color: #3B4455;\n",
              "      fill: #D2E3FC;\n",
              "    }\n",
              "\n",
              "    [theme=dark] .colab-df-convert:hover {\n",
              "      background-color: #434B5C;\n",
              "      box-shadow: 0px 1px 3px 1px rgba(0, 0, 0, 0.15);\n",
              "      filter: drop-shadow(0px 1px 2px rgba(0, 0, 0, 0.3));\n",
              "      fill: #FFFFFF;\n",
              "    }\n",
              "  </style>\n",
              "\n",
              "      <script>\n",
              "        const buttonEl =\n",
              "          document.querySelector('#df-4227f154-a992-4e2f-bd07-ddaf6704b529 button.colab-df-convert');\n",
              "        buttonEl.style.display =\n",
              "          google.colab.kernel.accessAllowed ? 'block' : 'none';\n",
              "\n",
              "        async function convertToInteractive(key) {\n",
              "          const element = document.querySelector('#df-4227f154-a992-4e2f-bd07-ddaf6704b529');\n",
              "          const dataTable =\n",
              "            await google.colab.kernel.invokeFunction('convertToInteractive',\n",
              "                                                     [key], {});\n",
              "          if (!dataTable) return;\n",
              "\n",
              "          const docLinkHtml = 'Like what you see? Visit the ' +\n",
              "            '<a target=\"_blank\" href=https://colab.research.google.com/notebooks/data_table.ipynb>data table notebook</a>'\n",
              "            + ' to learn more about interactive tables.';\n",
              "          element.innerHTML = '';\n",
              "          dataTable['output_type'] = 'display_data';\n",
              "          await google.colab.output.renderOutput(dataTable, element);\n",
              "          const docLink = document.createElement('div');\n",
              "          docLink.innerHTML = docLinkHtml;\n",
              "          element.appendChild(docLink);\n",
              "        }\n",
              "      </script>\n",
              "    </div>\n",
              "  </div>\n",
              "  "
            ]
          },
          "metadata": {},
          "execution_count": 118
        }
      ]
    },
    {
      "cell_type": "code",
      "source": [
        "df['info'].str.extract(r'(?P<emails>\\w*@\\w*\\.\\w{2,3})') #this is very important!!!\n",
        "# we can add a title using ?P<emails>"
      ],
      "metadata": {
        "colab": {
          "base_uri": "https://localhost:8080/",
          "height": 143
        },
        "id": "k_pt60XpGVhR",
        "outputId": "211b3991-da5b-40e1-ee31-d7fc87117b5b"
      },
      "execution_count": null,
      "outputs": [
        {
          "output_type": "execute_result",
          "data": {
            "text/plain": [
              "                 emails\n",
              "0        user@gmail.com\n",
              "1        user2@yahoo.es\n",
              "2  user_bug@hotmail.com"
            ],
            "text/html": [
              "\n",
              "  <div id=\"df-bc6048ad-ba31-4fc0-b160-e5b6a6700fa9\">\n",
              "    <div class=\"colab-df-container\">\n",
              "      <div>\n",
              "<style scoped>\n",
              "    .dataframe tbody tr th:only-of-type {\n",
              "        vertical-align: middle;\n",
              "    }\n",
              "\n",
              "    .dataframe tbody tr th {\n",
              "        vertical-align: top;\n",
              "    }\n",
              "\n",
              "    .dataframe thead th {\n",
              "        text-align: right;\n",
              "    }\n",
              "</style>\n",
              "<table border=\"1\" class=\"dataframe\">\n",
              "  <thead>\n",
              "    <tr style=\"text-align: right;\">\n",
              "      <th></th>\n",
              "      <th>emails</th>\n",
              "    </tr>\n",
              "  </thead>\n",
              "  <tbody>\n",
              "    <tr>\n",
              "      <th>0</th>\n",
              "      <td>user@gmail.com</td>\n",
              "    </tr>\n",
              "    <tr>\n",
              "      <th>1</th>\n",
              "      <td>user2@yahoo.es</td>\n",
              "    </tr>\n",
              "    <tr>\n",
              "      <th>2</th>\n",
              "      <td>user_bug@hotmail.com</td>\n",
              "    </tr>\n",
              "  </tbody>\n",
              "</table>\n",
              "</div>\n",
              "      <button class=\"colab-df-convert\" onclick=\"convertToInteractive('df-bc6048ad-ba31-4fc0-b160-e5b6a6700fa9')\"\n",
              "              title=\"Convert this dataframe to an interactive table.\"\n",
              "              style=\"display:none;\">\n",
              "        \n",
              "  <svg xmlns=\"http://www.w3.org/2000/svg\" height=\"24px\"viewBox=\"0 0 24 24\"\n",
              "       width=\"24px\">\n",
              "    <path d=\"M0 0h24v24H0V0z\" fill=\"none\"/>\n",
              "    <path d=\"M18.56 5.44l.94 2.06.94-2.06 2.06-.94-2.06-.94-.94-2.06-.94 2.06-2.06.94zm-11 1L8.5 8.5l.94-2.06 2.06-.94-2.06-.94L8.5 2.5l-.94 2.06-2.06.94zm10 10l.94 2.06.94-2.06 2.06-.94-2.06-.94-.94-2.06-.94 2.06-2.06.94z\"/><path d=\"M17.41 7.96l-1.37-1.37c-.4-.4-.92-.59-1.43-.59-.52 0-1.04.2-1.43.59L10.3 9.45l-7.72 7.72c-.78.78-.78 2.05 0 2.83L4 21.41c.39.39.9.59 1.41.59.51 0 1.02-.2 1.41-.59l7.78-7.78 2.81-2.81c.8-.78.8-2.07 0-2.86zM5.41 20L4 18.59l7.72-7.72 1.47 1.35L5.41 20z\"/>\n",
              "  </svg>\n",
              "      </button>\n",
              "      \n",
              "  <style>\n",
              "    .colab-df-container {\n",
              "      display:flex;\n",
              "      flex-wrap:wrap;\n",
              "      gap: 12px;\n",
              "    }\n",
              "\n",
              "    .colab-df-convert {\n",
              "      background-color: #E8F0FE;\n",
              "      border: none;\n",
              "      border-radius: 50%;\n",
              "      cursor: pointer;\n",
              "      display: none;\n",
              "      fill: #1967D2;\n",
              "      height: 32px;\n",
              "      padding: 0 0 0 0;\n",
              "      width: 32px;\n",
              "    }\n",
              "\n",
              "    .colab-df-convert:hover {\n",
              "      background-color: #E2EBFA;\n",
              "      box-shadow: 0px 1px 2px rgba(60, 64, 67, 0.3), 0px 1px 3px 1px rgba(60, 64, 67, 0.15);\n",
              "      fill: #174EA6;\n",
              "    }\n",
              "\n",
              "    [theme=dark] .colab-df-convert {\n",
              "      background-color: #3B4455;\n",
              "      fill: #D2E3FC;\n",
              "    }\n",
              "\n",
              "    [theme=dark] .colab-df-convert:hover {\n",
              "      background-color: #434B5C;\n",
              "      box-shadow: 0px 1px 3px 1px rgba(0, 0, 0, 0.15);\n",
              "      filter: drop-shadow(0px 1px 2px rgba(0, 0, 0, 0.3));\n",
              "      fill: #FFFFFF;\n",
              "    }\n",
              "  </style>\n",
              "\n",
              "      <script>\n",
              "        const buttonEl =\n",
              "          document.querySelector('#df-bc6048ad-ba31-4fc0-b160-e5b6a6700fa9 button.colab-df-convert');\n",
              "        buttonEl.style.display =\n",
              "          google.colab.kernel.accessAllowed ? 'block' : 'none';\n",
              "\n",
              "        async function convertToInteractive(key) {\n",
              "          const element = document.querySelector('#df-bc6048ad-ba31-4fc0-b160-e5b6a6700fa9');\n",
              "          const dataTable =\n",
              "            await google.colab.kernel.invokeFunction('convertToInteractive',\n",
              "                                                     [key], {});\n",
              "          if (!dataTable) return;\n",
              "\n",
              "          const docLinkHtml = 'Like what you see? Visit the ' +\n",
              "            '<a target=\"_blank\" href=https://colab.research.google.com/notebooks/data_table.ipynb>data table notebook</a>'\n",
              "            + ' to learn more about interactive tables.';\n",
              "          element.innerHTML = '';\n",
              "          dataTable['output_type'] = 'display_data';\n",
              "          await google.colab.output.renderOutput(dataTable, element);\n",
              "          const docLink = document.createElement('div');\n",
              "          docLink.innerHTML = docLinkHtml;\n",
              "          element.appendChild(docLink);\n",
              "        }\n",
              "      </script>\n",
              "    </div>\n",
              "  </div>\n",
              "  "
            ]
          },
          "metadata": {},
          "execution_count": 120
        }
      ]
    }
  ]
}