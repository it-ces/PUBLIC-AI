{
  "nbformat": 4,
  "nbformat_minor": 0,
  "metadata": {
    "colab": {
      "provenance": []
    },
    "kernelspec": {
      "name": "python3",
      "display_name": "Python 3"
    },
    "language_info": {
      "name": "python"
    }
  },
  "cells": [
    {
      "cell_type": "code",
      "source": [
        "# Iván Andrés Trujillo Abella\n",
        "# ivantrujillo1229@gmail.com"
      ],
      "metadata": {
        "id": "Jb20h6Ev7gbH"
      },
      "execution_count": null,
      "outputs": []
    },
    {
      "cell_type": "code",
      "execution_count": null,
      "metadata": {
        "id": "0f5QyqeeGDX1"
      },
      "outputs": [],
      "source": [
        "import re"
      ]
    },
    {
      "cell_type": "code",
      "source": [
        "sample = [\"behavior\", \"behaviour\", \"behave\", \"behalf\"]"
      ],
      "metadata": {
        "id": "xBKgNZJ5m8z6"
      },
      "execution_count": null,
      "outputs": []
    },
    {
      "cell_type": "code",
      "source": [
        "for word in sample:\n",
        "  print(re.findall(r\"behaviou?r\", word))"
      ],
      "metadata": {
        "colab": {
          "base_uri": "https://localhost:8080/"
        },
        "id": "NKxIxE_qnAXe",
        "outputId": "0bf59223-c86f-490e-c5e8-fa0d030a4ba5"
      },
      "execution_count": null,
      "outputs": [
        {
          "output_type": "stream",
          "name": "stdout",
          "text": [
            "['behavior']\n",
            "['behaviour']\n",
            "[]\n",
            "[]\n"
          ]
        }
      ]
    },
    {
      "cell_type": "code",
      "source": [
        "re.sub(\"behavior\", 'behavior','find')"
      ],
      "metadata": {
        "colab": {
          "base_uri": "https://localhost:8080/",
          "height": 35
        },
        "id": "UmGas0sJnsH0",
        "outputId": "4e14e6a2-205e-48ac-9a67-481d52e34e71"
      },
      "execution_count": null,
      "outputs": [
        {
          "output_type": "execute_result",
          "data": {
            "text/plain": [
              "'find'"
            ],
            "application/vnd.google.colaboratory.intrinsic+json": {
              "type": "string"
            }
          },
          "metadata": {},
          "execution_count": 259
        }
      ]
    },
    {
      "cell_type": "code",
      "source": [
        "# positive look around\n",
        "# Match any word followed by a pattern..\n",
        "sample = \"financial risk are related by statistical models with health risk\""
      ],
      "metadata": {
        "id": "Yq47ig1poswX"
      },
      "execution_count": null,
      "outputs": []
    },
    {
      "cell_type": "code",
      "source": [
        "re.findall(r'\\w+(?= risk)', sample) #any word that is before of risk"
      ],
      "metadata": {
        "colab": {
          "base_uri": "https://localhost:8080/"
        },
        "id": "bgeCiKnh4HTH",
        "outputId": "b7483fff-d11a-4939-87b3-61547a394300"
      },
      "execution_count": null,
      "outputs": [
        {
          "output_type": "execute_result",
          "data": {
            "text/plain": [
              "['financial', 'health']"
            ]
          },
          "metadata": {},
          "execution_count": 261
        }
      ]
    },
    {
      "cell_type": "code",
      "source": [
        "import re\n",
        "\n",
        "string = \"The quick brown fox jumps over the lazy dog\"\n",
        "pattern = re.compile(r\"\\w+(?! fox)\")\n",
        "\n",
        "matches = pattern.findall(string)\n",
        "print(matches)"
      ],
      "metadata": {
        "colab": {
          "base_uri": "https://localhost:8080/"
        },
        "id": "b6jmsAxsBIC6",
        "outputId": "f6182718-8540-4d6d-df1f-5416f8a56fed"
      },
      "execution_count": null,
      "outputs": [
        {
          "output_type": "stream",
          "name": "stdout",
          "text": [
            "['The', 'quick', 'brow', 'fox', 'jumps', 'over', 'the', 'lazy', 'dog']\n"
          ]
        }
      ]
    },
    {
      "cell_type": "code",
      "source": [
        "# negative look around\n",
        "sample_= \"international economics game theory information economics health economics\" # any word that is not followed by international\n",
        "re.findall(r\"\\b\\w+\\b(?!\\seconomics)\", sample_)"
      ],
      "metadata": {
        "colab": {
          "base_uri": "https://localhost:8080/"
        },
        "id": "2BJcEEJ85YZ8",
        "outputId": "296c221b-be4d-4948-918b-36be4a3bb18c"
      },
      "execution_count": null,
      "outputs": [
        {
          "output_type": "execute_result",
          "data": {
            "text/plain": [
              "['economics', 'game', 'theory', 'economics', 'economics']"
            ]
          },
          "metadata": {},
          "execution_count": 263
        }
      ]
    },
    {
      "cell_type": "code",
      "source": [
        "#. positive lookbehind\n",
        "# match  (posterior) to the pattern\n",
        "string = \"game theory is a field of math and economics, otherwise cool a computer game lives\"\n",
        "pattern = r\"(?<=game )\\w+\"\n",
        "re.findall(pattern, string)"
      ],
      "metadata": {
        "colab": {
          "base_uri": "https://localhost:8080/"
        },
        "id": "_TY0IhbNCVwr",
        "outputId": "d49cf8f1-4ec5-47cf-ec5c-166b512b1bf8"
      },
      "execution_count": null,
      "outputs": [
        {
          "output_type": "execute_result",
          "data": {
            "text/plain": [
              "['theory', 'lives']"
            ]
          },
          "metadata": {},
          "execution_count": 290
        }
      ]
    },
    {
      "cell_type": "code",
      "source": [
        "# negative lookbehind\n",
        "# match a pattern if not is preceded by another"
      ],
      "metadata": {
        "id": "wQYxbjMnEcfX"
      },
      "execution_count": null,
      "outputs": []
    },
    {
      "cell_type": "code",
      "source": [
        "import re\n",
        "string = \"hola este no pero este hola tampoco\"\n",
        "pattern = r\"(?<!hola )\\b\\w+\\b\" # drop the following to hola\n",
        "re.findall(pattern, string)"
      ],
      "metadata": {
        "colab": {
          "base_uri": "https://localhost:8080/"
        },
        "id": "faHQBOSbG-G4",
        "outputId": "ce321656-5511-4b74-cf07-311e37ae8e2f"
      },
      "execution_count": null,
      "outputs": [
        {
          "output_type": "execute_result",
          "data": {
            "text/plain": [
              "['hola', 'no', 'pero', 'este', 'hola']"
            ]
          },
          "metadata": {},
          "execution_count": 304
        }
      ]
    },
    {
      "cell_type": "code",
      "source": [
        "# research about word boundaries"
      ],
      "metadata": {
        "id": "CKvTNO84Iaqz"
      },
      "execution_count": null,
      "outputs": []
    },
    {
      "cell_type": "markdown",
      "source": [
        "Thus look like a boundarie\n",
        "\n",
        "$$|word|$$\n",
        "\n",
        "$$|hello| |world|$$\n",
        "\n",
        "\\b test in regex101...\n"
      ],
      "metadata": {
        "id": "Rug1iwxH6iFc"
      }
    },
    {
      "cell_type": "code",
      "source": [
        "sample = \"cat and catdog \""
      ],
      "metadata": {
        "id": "RVMv1Yd4IfTt"
      },
      "execution_count": null,
      "outputs": []
    }
  ]
}