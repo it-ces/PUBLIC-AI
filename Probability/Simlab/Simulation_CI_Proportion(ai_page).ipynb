{
  "nbformat": 4,
  "nbformat_minor": 0,
  "metadata": {
    "colab": {
      "provenance": [],
      "include_colab_link": true
    },
    "kernelspec": {
      "name": "python3",
      "display_name": "Python 3"
    },
    "language_info": {
      "name": "python"
    }
  },
  "cells": [
    {
      "cell_type": "markdown",
      "metadata": {
        "id": "view-in-github",
        "colab_type": "text"
      },
      "source": [
        "<a href=\"https://colab.research.google.com/github/it-ces/PUBLIC-AI/blob/main/Probability/Simlab/Simulation_CI_Proportion(ai_page).ipynb\" target=\"_parent\"><img src=\"https://colab.research.google.com/assets/colab-badge.svg\" alt=\"Open In Colab\"/></a>"
      ]
    },
    {
      "cell_type": "code",
      "execution_count": null,
      "metadata": {
        "id": "0mknBRjZpQCh"
      },
      "outputs": [],
      "source": [
        "import numpy as np\n",
        "import pandas as pd\n",
        "import matplotlib.pyplot as plt"
      ]
    },
    {
      "cell_type": "code",
      "source": [
        "# We have a population where p is 0.37\n",
        "P = 0.37\n",
        "pop = np.random.choice([1,0], 653, p =[P, 1-P])\n",
        "pd.DataFrame(pop).value_counts(normalize=True)"
      ],
      "metadata": {
        "colab": {
          "base_uri": "https://localhost:8080/"
        },
        "id": "r2GI-wn82xP9",
        "outputId": "d963cfbf-49ac-4821-9e24-f4dde1043cfd"
      },
      "execution_count": null,
      "outputs": [
        {
          "output_type": "execute_result",
          "data": {
            "text/plain": [
              "0    0.632466\n",
              "1    0.367534\n",
              "dtype: float64"
            ]
          },
          "metadata": {},
          "execution_count": 12
        }
      ]
    },
    {
      "cell_type": "code",
      "source": [
        "sample = [1,0,1,1,0,1]"
      ],
      "metadata": {
        "id": "bEqBtYJB3ZkZ"
      },
      "execution_count": null,
      "outputs": []
    },
    {
      "cell_type": "code",
      "source": [
        "def ci(sample,z):\n",
        "  n = len(sample)\n",
        "  p_hat = sum(sample) / n\n",
        "  se = np.sqrt(p_hat*(1-p_hat)/ n)\n",
        "  lower_bound = p_hat - (z * se)\n",
        "  upper_bound = p_hat + (z * se)\n",
        "  return lower_bound, upper_bound"
      ],
      "metadata": {
        "id": "wiK8-d1N21j3"
      },
      "execution_count": null,
      "outputs": []
    },
    {
      "cell_type": "code",
      "source": [
        "trials = 2500\n",
        "size , z = 57, 1.96\n",
        "counter = 0\n",
        "for _ in range(trials):\n",
        "  sample = np.random.choice(pop, size, replace=False)\n",
        "  interval = ci(sample, z)\n",
        "  if P>= interval[0] and P<= interval[1]:\n",
        "    counter+=1\n",
        "print(counter/trials)"
      ],
      "metadata": {
        "colab": {
          "base_uri": "https://localhost:8080/"
        },
        "id": "4upyAm805ZKS",
        "outputId": "47ee5c63-cca7-4141-96f7-03573946eb38"
      },
      "execution_count": null,
      "outputs": [
        {
          "output_type": "stream",
          "name": "stdout",
          "text": [
            "0.95\n"
          ]
        }
      ]
    },
    {
      "cell_type": "code",
      "source": [
        "sample =  np.random.choice(pop, size, replace=False)\n",
        "print(sum(sample), size)\n",
        "ci(sample, z)"
      ],
      "metadata": {
        "colab": {
          "base_uri": "https://localhost:8080/"
        },
        "id": "lggijRKv_NU3",
        "outputId": "23b5a801-073a-43a9-8d13-c0a3b3e3fc1f"
      },
      "execution_count": null,
      "outputs": [
        {
          "output_type": "stream",
          "name": "stdout",
          "text": [
            "22 57\n"
          ]
        },
        {
          "output_type": "execute_result",
          "data": {
            "text/plain": [
              "(0.25958176960687573, 0.5123480549545277)"
            ]
          },
          "metadata": {},
          "execution_count": 16
        }
      ]
    },
    {
      "cell_type": "code",
      "source": [
        "### We could plot a histogram\n",
        "games = 500\n",
        "percentages = []\n",
        "for _ in range(games):\n",
        "  counter = 0\n",
        "  for _ in range(trials):\n",
        "    sample = np.random.choice(pop, size, replace=False)\n",
        "    interval = ci(sample, z)\n",
        "    if P>= interval[0] and P<= interval[1]:\n",
        "      counter+=1\n",
        "  percentages.append(counter/trials)"
      ],
      "metadata": {
        "id": "634JjFqu8Jzp"
      },
      "execution_count": null,
      "outputs": []
    },
    {
      "cell_type": "code",
      "source": [
        "plt.hist(percentages)"
      ],
      "metadata": {
        "colab": {
          "base_uri": "https://localhost:8080/",
          "height": 499
        },
        "id": "IpZyoXir9HvK",
        "outputId": "46007fdb-9b95-4385-8b40-b21206b86205"
      },
      "execution_count": null,
      "outputs": [
        {
          "output_type": "execute_result",
          "data": {
            "text/plain": [
              "(array([  7.,   9.,  39.,  69., 107., 108.,  89.,  42.,  22.,   8.]),\n",
              " array([0.8948 , 0.89796, 0.90112, 0.90428, 0.90744, 0.9106 , 0.91376,\n",
              "        0.91692, 0.92008, 0.92324, 0.9264 ]),\n",
              " <BarContainer object of 10 artists>)"
            ]
          },
          "metadata": {},
          "execution_count": 9
        },
        {
          "output_type": "display_data",
          "data": {
            "text/plain": [
              "<Figure size 640x480 with 1 Axes>"
            ],
            "image/png": "[encoded data removed]"
          },
          "metadata": {}
        }
      ]
    },
    {
      "cell_type": "code",
      "source": [
        "# Excersice BINOMIAL EXACT CALCULATION"
      ],
      "metadata": {
        "id": "Tdsw8KzQAKcR"
      },
      "execution_count": null,
      "outputs": []
    }
  ]
}