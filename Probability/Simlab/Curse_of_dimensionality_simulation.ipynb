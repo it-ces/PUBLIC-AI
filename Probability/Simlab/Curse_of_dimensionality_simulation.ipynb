{
  "nbformat": 4,
  "nbformat_minor": 0,
  "metadata": {
    "colab": {
      "provenance": [],
      "include_colab_link": true
    },
    "kernelspec": {
      "name": "python3",
      "display_name": "Python 3"
    },
    "language_info": {
      "name": "python"
    }
  },
  "cells": [
    {
      "cell_type": "markdown",
      "metadata": {
        "id": "view-in-github",
        "colab_type": "text"
      },
      "source": [
        "<a href=\"https://colab.research.google.com/github/it-ces/PUBLIC-AI/blob/main/Probability/Simlab/Curse_of_dimensionality_simulation.ipynb\" target=\"_parent\"><img src=\"https://colab.research.google.com/assets/colab-badge.svg\" alt=\"Open In Colab\"/></a>"
      ]
    },
    {
      "cell_type": "code",
      "source": [
        "# Iván Andrés Trujillo Abella\n",
        "# ivantrujillo1229@gmail.com"
      ],
      "metadata": {
        "id": "rp76R-kRZe1R"
      },
      "execution_count": 1,
      "outputs": []
    },
    {
      "cell_type": "code",
      "execution_count": 2,
      "metadata": {
        "colab": {
          "base_uri": "https://localhost:8080/",
          "height": 448
        },
        "id": "Jib8pvJLmN6Q",
        "outputId": "a77ee753-63c5-469f-9489-5a75d64f357d"
      },
      "outputs": [
        {
          "output_type": "execute_result",
          "data": {
            "text/plain": [
              "[<matplotlib.lines.Line2D at 0x7b1809777490>]"
            ]
          },
          "metadata": {},
          "execution_count": 2
        },
        {
          "output_type": "display_data",
          "data": {
            "text/plain": [
              "<Figure size 640x480 with 1 Axes>"
            ],
            "image/png": "[encoded data removed]"
          },
          "metadata": {}
        }
      ],
      "source": [
        "import math\n",
        "import random\n",
        "import matplotlib.pyplot as plt\n",
        "#math.dist(iterableA, iterableB) allow us calculate the distance among two vectors of N components\n",
        "#random.uniform(lower, upper)\n",
        "#size 500 points....\n",
        "# dimension\n",
        "def ratio(distances, log=False):\n",
        "  if log == False:\n",
        "    return max(distances)/min(distances)\n",
        "  else:\n",
        "    return math.log(max(distances)/min(distances))\n",
        "def process( size, dimension, lower, upper):\n",
        "  \"\"\"\n",
        "  This function generate \"size\" points with \"dimension\" features\n",
        "  in the intevarl (lower,upper)\n",
        "  \"\"\"\n",
        "  dataset, dist = [],[]\n",
        "  for _ in range(size):\n",
        "    Point = [random.uniform(lower,upper) for _ in range(dimension)]\n",
        "    dataset.append(Point)\n",
        "  for i in range(len(dataset)):\n",
        "    for j in range(i+1,len(dataset)):\n",
        "      dist.append(math.dist(dataset[i], dataset[j]))\n",
        "  return ratio(dist, log=True)\n",
        "lower = 6\n",
        "upper = 500\n",
        "size = 300\n",
        "N_dimensions = 70\n",
        "results = [process(size, dimension, lower, upper) for dimension in range(1,N_dimensions)]\n",
        "plt.plot([x for x in range(1,N_dimensions)], results)"
      ]
    },
    {
      "cell_type": "markdown",
      "source": [],
      "metadata": {
        "id": "T1CvYl8zpB74"
      }
    }
  ]
}