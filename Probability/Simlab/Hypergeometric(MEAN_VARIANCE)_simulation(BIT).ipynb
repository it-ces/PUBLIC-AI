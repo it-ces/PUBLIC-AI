{
  "nbformat": 4,
  "nbformat_minor": 0,
  "metadata": {
    "colab": {
      "provenance": []
    },
    "kernelspec": {
      "name": "python3",
      "display_name": "Python 3"
    },
    "language_info": {
      "name": "python"
    }
  },
  "cells": [
    {
      "cell_type": "code",
      "source": [
        "# Iván Andrés Trujillo Abella\n",
        "# ivantrujillo1229@gmail.com"
      ],
      "metadata": {
        "id": "NHtU5UwsJLVd"
      },
      "execution_count": 12,
      "outputs": []
    },
    {
      "cell_type": "code",
      "execution_count": 13,
      "metadata": {
        "id": "QRJRhy2u-mSj"
      },
      "outputs": [],
      "source": [
        "import random\n",
        "import numpy as np\n",
        "import matplotlib.pyplot as plt"
      ]
    },
    {
      "cell_type": "code",
      "source": [
        "def Sample(N, blacks):\n",
        "  sample = []\n",
        "  for i in range(1,N+1):\n",
        "    if i>blacks:\n",
        "      sample.append(0)\n",
        "    else:\n",
        "      sample.append(1)\n",
        "  return sample"
      ],
      "metadata": {
        "id": "b136BSX--ujd"
      },
      "execution_count": 14,
      "outputs": []
    },
    {
      "cell_type": "code",
      "source": [
        "Sample(14, 3) # A population with N balls of which 3 are black"
      ],
      "metadata": {
        "colab": {
          "base_uri": "https://localhost:8080/"
        },
        "id": "P687oX5xBKLh",
        "outputId": "aebcca5a-25f6-4139-a44d-db59858b306c"
      },
      "execution_count": 15,
      "outputs": [
        {
          "output_type": "execute_result",
          "data": {
            "text/plain": [
              "[1, 1, 1, 0, 0, 0, 0, 0, 0, 0, 0, 0, 0, 0]"
            ]
          },
          "metadata": {},
          "execution_count": 15
        }
      ]
    },
    {
      "cell_type": "code",
      "source": [
        "Trials = 99999\n",
        "N = 60\n",
        "blacks = 12\n",
        "sample = 6\n",
        "results = [sum(np.random.choice(Sample(N, blacks),sample, replace=False)) for i in range(Trials)]\n",
        "plt.hist(results)"
      ],
      "metadata": {
        "colab": {
          "base_uri": "https://localhost:8080/",
          "height": 502
        },
        "id": "Xx_VmLKfIF-X",
        "outputId": "daf37105-66e5-46d2-bee0-14b473771a0e"
      },
      "execution_count": 16,
      "outputs": [
        {
          "output_type": "execute_result",
          "data": {
            "text/plain": [
              "(array([2.4508e+04, 4.0832e+04, 0.0000e+00, 2.5678e+04, 0.0000e+00,\n",
              "        7.7600e+03, 1.1490e+03, 0.0000e+00, 7.1000e+01, 1.0000e+00]),\n",
              " array([0. , 0.6, 1.2, 1.8, 2.4, 3. , 3.6, 4.2, 4.8, 5.4, 6. ]),\n",
              " <BarContainer object of 10 artists>)"
            ]
          },
          "metadata": {},
          "execution_count": 16
        },
        {
          "output_type": "display_data",
          "data": {
            "text/plain": [
              "<Figure size 640x480 with 1 Axes>"
            ],
            "image/png": "[encoded data removed]"
          },
          "metadata": {}
        }
      ]
    },
    {
      "cell_type": "code",
      "source": [
        "##\n",
        "def moment1(j,m,N):\n",
        "  return j*(m/N)\n",
        "\n",
        "def moment2(j,m,N):\n",
        "  return (j*m/N) * ((N-m)/N) * ((N-j)/(N-1))\n",
        "\n",
        "\n",
        "def eMean(results):\n",
        "  return sum(results)/len(results)\n",
        "\n",
        "def eVariance(results):\n",
        "  mean = eMean(results)\n",
        "  return sum([(xi - mean)**2 for xi in results]) / (len(results)-1)"
      ],
      "metadata": {
        "id": "vDCV9XPVPNcu"
      },
      "execution_count": 17,
      "outputs": []
    },
    {
      "cell_type": "code",
      "source": [
        "print(moment1(sample, blacks, N))\n",
        "print(eMean(results))"
      ],
      "metadata": {
        "colab": {
          "base_uri": "https://localhost:8080/"
        },
        "id": "eXdalk5NRvmq",
        "outputId": "7b6782e7-0ce0-44c1-cd7d-5ee75c5e1e5d"
      },
      "execution_count": 18,
      "outputs": [
        {
          "output_type": "stream",
          "name": "stdout",
          "text": [
            "1.2000000000000002\n",
            "1.2042620426204262\n"
          ]
        }
      ]
    },
    {
      "cell_type": "code",
      "source": [
        "print(moment2(sample, blacks, N))\n",
        "print(eVariance(results))"
      ],
      "metadata": {
        "colab": {
          "base_uri": "https://localhost:8080/"
        },
        "id": "IidTw6fV9D5P",
        "outputId": "df10230d-ce5a-42cb-f129-e944b555ab8f"
      },
      "execution_count": 19,
      "outputs": [
        {
          "output_type": "stream",
          "name": "stdout",
          "text": [
            "0.8786440677966102\n",
            "0.8855751466778349\n"
          ]
        }
      ]
    },
    {
      "cell_type": "code",
      "source": [
        "from scipy.stats import hypergeom\n",
        "print(hypergeom.mean(M = N, n=blacks, N=sample))\n",
        "print(hypergeom.var(M=N, n=blacks, N=sample))"
      ],
      "metadata": {
        "colab": {
          "base_uri": "https://localhost:8080/"
        },
        "id": "1KmG1ucXCQEj",
        "outputId": "89eee283-02f7-4407-8c81-8cbd70f7a2e3"
      },
      "execution_count": 23,
      "outputs": [
        {
          "output_type": "stream",
          "name": "stdout",
          "text": [
            "1.2\n",
            "0.8786440677966102\n"
          ]
        }
      ]
    }
  ]
}