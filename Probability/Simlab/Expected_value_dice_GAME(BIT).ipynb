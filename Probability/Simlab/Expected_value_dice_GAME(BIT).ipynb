{
  "nbformat": 4,
  "nbformat_minor": 0,
  "metadata": {
    "colab": {
      "provenance": []
    },
    "kernelspec": {
      "name": "python3",
      "display_name": "Python 3"
    },
    "language_info": {
      "name": "python"
    }
  },
  "cells": [
    {
      "cell_type": "code",
      "source": [
        "# Iván Andrés Trujillo Abella\n",
        "# ivantrujillo1229@gmail.com"
      ],
      "metadata": {
        "id": "WymhILa2Rqjn"
      },
      "execution_count": 3,
      "outputs": []
    },
    {
      "cell_type": "markdown",
      "source": [
        "# Game description\n",
        "\n",
        "Rolling two dice if the sum of each outcome is equal to seven or five, the you will gain 5, in otherwise you pay 1.\n",
        "\n",
        "Wich will be your profit playing a lot of times (long run)?\n"
      ],
      "metadata": {
        "id": "BT4ZAE40VZZl"
      }
    },
    {
      "cell_type": "code",
      "source": [
        "import numpy as np\n",
        "np.random.choice([1,2,3,4,5,6],2) # We are rolling two dices"
      ],
      "metadata": {
        "colab": {
          "base_uri": "https://localhost:8080/"
        },
        "id": "GnPJfj7AOPUH",
        "outputId": "81975d40-3856-40e5-85df-47af0b72be4d"
      },
      "execution_count": 4,
      "outputs": [
        {
          "output_type": "execute_result",
          "data": {
            "text/plain": [
              "array([1, 3])"
            ]
          },
          "metadata": {},
          "execution_count": 4
        }
      ]
    },
    {
      "cell_type": "code",
      "execution_count": 5,
      "metadata": {
        "id": "MKCVDffEN1uT"
      },
      "outputs": [],
      "source": [
        "def payoff(result):\n",
        "  if sum(result)==7 or sum(result)==5:\n",
        "    return 5\n",
        "  else:\n",
        "    return -1"
      ]
    },
    {
      "cell_type": "code",
      "source": [
        "Trials = 99999\n",
        "results = [payoff(np.random.choice([1,2,3,4,5,6],2)) for _ in range(Trials)]\n",
        "sum(results)"
      ],
      "metadata": {
        "colab": {
          "base_uri": "https://localhost:8080/"
        },
        "id": "UPaglXlIRyUq",
        "outputId": "9b1d420a-892b-4915-876a-311153f8b8a8"
      },
      "execution_count": 6,
      "outputs": [
        {
          "output_type": "execute_result",
          "data": {
            "text/plain": [
              "66009"
            ]
          },
          "metadata": {},
          "execution_count": 6
        }
      ]
    },
    {
      "cell_type": "code",
      "source": [
        "import numpy as np\n",
        "np.random.choice([1,2,3,4,5,6],2) # We are rolling two dices"
      ],
      "metadata": {
        "colab": {
          "base_uri": "https://localhost:8080/"
        },
        "id": "kG4EZFZlSw5M",
        "outputId": "bbabef27-94cf-4e2e-c429-683e5eeed688"
      },
      "execution_count": 7,
      "outputs": [
        {
          "output_type": "execute_result",
          "data": {
            "text/plain": [
              "array([4, 5])"
            ]
          },
          "metadata": {},
          "execution_count": 7
        }
      ]
    },
    {
      "cell_type": "code",
      "source": [
        "import pandas as pd\n",
        "pd.DataFrame(results).value_counts(normalize=True)"
      ],
      "metadata": {
        "colab": {
          "base_uri": "https://localhost:8080/"
        },
        "id": "nX5JI9zzSDBO",
        "outputId": "1a81d687-42b7-4d84-f491-13a39f387c6c"
      },
      "execution_count": 8,
      "outputs": [
        {
          "output_type": "execute_result",
          "data": {
            "text/plain": [
              "-1    0.723317\n",
              " 5    0.276683\n",
              "dtype: float64"
            ]
          },
          "metadata": {},
          "execution_count": 8
        }
      ]
    },
    {
      "cell_type": "code",
      "source": [
        "print(\"The expected profit or loss is : \", sum(results)/Trials)"
      ],
      "metadata": {
        "colab": {
          "base_uri": "https://localhost:8080/"
        },
        "id": "nxlsQJhNSsn7",
        "outputId": "4b116c09-f22c-4b40-be6c-cb15e1df58ac"
      },
      "execution_count": 9,
      "outputs": [
        {
          "output_type": "stream",
          "name": "stdout",
          "text": [
            "The expected profit or loss is :  0.6600966009660096\n"
          ]
        }
      ]
    },
    {
      "cell_type": "markdown",
      "source": [
        "Distribution of the events (sample space)\n",
        "\n",
        "| **6** |  _7_  |  _8_  |  _9_  |  _10_ |  _11_ |  _12_ |\n",
        "|:-----:|:-----:|:-----:|:-----:|:-----:|:-----:|:-----:|\n",
        "| **5** |  _6_  |  _7_  |  _8_  |  _9_  |  _10_ |  _11_ |\n",
        "| **4** |  _5_  |  _6_  |  _7_  |  _8_  |  _9_  |  _10_ |\n",
        "| **3** |  _4_  |  _5_  |  _6_  |  _7_  |  _8_  |  _9_  |\n",
        "| **2** |  _3_  |  _4_  |  _5_  |  _6_  |  _7_  |  _8_  |\n",
        "| **1** |  _2_  |  _3_  |  _4_  |  _5_  |  _6_  |  _7_  |\n",
        "|       | **1** | **2** | **3** | **4** | **5** | **6** |\n",
        "\n",
        "\n",
        "According to this the following table is generated:\n",
        "\n",
        "The PMF is :\n",
        "\n",
        "| $x$    | 2              | 3              | 4              | 5              | 6              | 7              | 8              | 9              | 10             | 11             | 12             |\n",
        "|--------|----------------|----------------|----------------|----------------|----------------|----------------|----------------|----------------|----------------|----------------|----------------|\n",
        "| $f(X)$ | $\\frac{1}{36}$ | $\\frac{2}{36}$ | $\\frac{3}{36}$ | $\\frac{4}{36}$ | $\\frac{5}{36}$ | $\\frac{6}{36}$ | $\\frac{5}{36}$ | $\\frac{4}{36}$ | $\\frac{3}{36}$ | $\\frac{2}{36}$ | $\\frac{1}{36}$ |\n",
        "\n",
        "\n",
        "Therefore the expected value will be:\n",
        "\n",
        "\\begin{equation}\n",
        "E(X)  = \\sum_{x} f(x)x\n",
        "\\end{equation}\n",
        "\n",
        "using the PMF information we have:\n",
        "\n",
        "\\begin{equation}\n",
        "E(X)  = 5 \\left( \\frac{10}{36} \\right) - 1 \\left( \\frac{26}{36} \\right)\n",
        "\\end{equation}\n"
      ],
      "metadata": {
        "id": "w2ek1C7jJLrX"
      }
    },
    {
      "cell_type": "code",
      "source": [
        "print(\"Expected value  is  =\", 5*(10/36) - 1*(26/36))"
      ],
      "metadata": {
        "colab": {
          "base_uri": "https://localhost:8080/"
        },
        "id": "n3zq6ka1eowO",
        "outputId": "c1fb19b7-dbdd-4a14-f8bf-7ce2de77339e"
      },
      "execution_count": 15,
      "outputs": [
        {
          "output_type": "stream",
          "name": "stdout",
          "text": [
            "Expected value  is  = 0.6666666666666666\n"
          ]
        }
      ]
    }
  ]
}