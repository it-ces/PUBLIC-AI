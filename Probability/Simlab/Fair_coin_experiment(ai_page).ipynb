{
  "nbformat": 4,
  "nbformat_minor": 0,
  "metadata": {
    "colab": {
      "provenance": [],
      "include_colab_link": true
    },
    "kernelspec": {
      "name": "python3",
      "display_name": "Python 3"
    },
    "language_info": {
      "name": "python"
    }
  },
  "cells": [
    {
      "cell_type": "markdown",
      "metadata": {
        "id": "view-in-github",
        "colab_type": "text"
      },
      "source": [
        "<a href=\"https://colab.research.google.com/github/it-ces/PUBLIC-AI/blob/main/Probability/Simlab/Fair_coin_experiment(ai_page).ipynb\" target=\"_parent\"><img src=\"https://colab.research.google.com/assets/colab-badge.svg\" alt=\"Open In Colab\"/></a>"
      ]
    },
    {
      "cell_type": "code",
      "execution_count": null,
      "metadata": {
        "id": "cxu-Yi3vAxn8"
      },
      "outputs": [],
      "source": [
        "import numpy as np"
      ]
    },
    {
      "cell_type": "code",
      "source": [
        "P1, P2, P3 = 0.5, 0.67, 0.72\n",
        "trials1, trials2, trials3 = 50,50,50\n",
        "succeses1  = sum(np.random.choice([1,0], p=[P1, 1-P1], size=trials1))\n",
        "succeses2  = sum(np.random.choice([1,0], p=[P2, 1-P2], size=trials2))\n",
        "succeses3  = sum(np.random.choice([1,0], p=[P3, 1-P3], size=trials2))"
      ],
      "metadata": {
        "id": "9lf8yfGUBBou"
      },
      "execution_count": null,
      "outputs": []
    },
    {
      "cell_type": "code",
      "source": [
        "succeses1, succeses2, succeses3"
      ],
      "metadata": {
        "colab": {
          "base_uri": "https://localhost:8080/"
        },
        "id": "ZdXxigV_DGAa",
        "outputId": "6d8c741c-c196-404b-d40a-b0e1ff2ebbc9"
      },
      "execution_count": null,
      "outputs": [
        {
          "output_type": "execute_result",
          "data": {
            "text/plain": [
              "(24, 34, 38)"
            ]
          },
          "metadata": {},
          "execution_count": 32
        }
      ]
    },
    {
      "cell_type": "code",
      "source": [
        "from scipy.stats import binom"
      ],
      "metadata": {
        "id": "8cgVyi6kEHbT"
      },
      "execution_count": null,
      "outputs": []
    },
    {
      "cell_type": "code",
      "source": [
        "pval1 = 1 - binom.cdf(succeses1, n=trials1, p =  0.5 )\n",
        "pval2 = 1 - binom.cdf(succeses2, n=trials2, p =  0.5)\n",
        "pval3 = 1 - binom.cdf(succeses3, n=trials3, p =  0.5 )"
      ],
      "metadata": {
        "id": "GXUEAoGDENzj"
      },
      "execution_count": null,
      "outputs": []
    },
    {
      "cell_type": "code",
      "source": [
        "print(pval1, pval2, pval3)"
      ],
      "metadata": {
        "colab": {
          "base_uri": "https://localhost:8080/"
        },
        "id": "LOV886wfJ2XR",
        "outputId": "41fe7461-18e1-4553-8450-160a2e00b901"
      },
      "execution_count": null,
      "outputs": [
        {
          "output_type": "stream",
          "name": "stdout",
          "text": [
            "0.5561375863296085 0.003300223983405459 4.5107450535653015e-05\n"
          ]
        }
      ]
    },
    {
      "cell_type": "code",
      "source": [
        "alpha = 0.10\n",
        "count1 = 0\n",
        "trials = 10000\n",
        "for _ in range(trials):\n",
        "  succeses1  = sum(np.random.choice([1,0], p=[P1, 1-P1], size=trials1))\n",
        "  pval1 = 1 - binom.cdf(succeses1, n=trials1, p =  0.5 )\n",
        "  if pval1<alpha:\n",
        "    count1 +=1\n",
        "count1/trials"
      ],
      "metadata": {
        "colab": {
          "base_uri": "https://localhost:8080/"
        },
        "id": "CAB3e1ybkMFn",
        "outputId": "97e4c7aa-38bd-4767-f084-cee07e69adf4"
      },
      "execution_count": null,
      "outputs": [
        {
          "output_type": "execute_result",
          "data": {
            "text/plain": [
              "0.0961"
            ]
          },
          "metadata": {},
          "execution_count": 64
        }
      ]
    }
  ]
}