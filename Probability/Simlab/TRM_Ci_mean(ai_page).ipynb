{
  "nbformat": 4,
  "nbformat_minor": 0,
  "metadata": {
    "colab": {
      "provenance": [],
      "include_colab_link": true
    },
    "kernelspec": {
      "name": "python3",
      "display_name": "Python 3"
    },
    "language_info": {
      "name": "python"
    }
  },
  "cells": [
    {
      "cell_type": "markdown",
      "metadata": {
        "id": "view-in-github",
        "colab_type": "text"
      },
      "source": [
        "<a href=\"https://colab.research.google.com/github/it-ces/PUBLIC-AI/blob/main/Probability/Simlab/TRM_Ci_mean(ai_page).ipynb\" target=\"_parent\"><img src=\"https://colab.research.google.com/assets/colab-badge.svg\" alt=\"Open In Colab\"/></a>"
      ]
    },
    {
      "cell_type": "code",
      "source": [
        "import pandas as pd\n",
        "from scipy.stats import norm\n",
        "from scipy.stats import t"
      ],
      "metadata": {
        "id": "9Eqru8EYQItl"
      },
      "execution_count": null,
      "outputs": []
    },
    {
      "cell_type": "code",
      "execution_count": null,
      "metadata": {
        "id": "uHWzKBGJt9gQ"
      },
      "outputs": [],
      "source": [
        "URL = \"https://raw.githubusercontent.com/it-ces/Datasets/main/TMR.csv\"\n",
        "df  = pd.read_csv(URL, decimal=',')"
      ]
    },
    {
      "cell_type": "code",
      "source": [
        "# Analizing  2023\n",
        "df = df[df['Año']==2023]"
      ],
      "metadata": {
        "id": "Oat7XIUcu7-U"
      },
      "execution_count": null,
      "outputs": []
    },
    {
      "cell_type": "code",
      "source": [
        "df['TRM'].describe()"
      ],
      "metadata": {
        "colab": {
          "base_uri": "https://localhost:8080/"
        },
        "id": "lkTaAAgwu8Zv",
        "outputId": "cbc00553-b1ca-428c-abcf-0205a6247b4c"
      },
      "execution_count": null,
      "outputs": [
        {
          "output_type": "execute_result",
          "data": {
            "text/plain": [
              "count     365.000000\n",
              "mean     4325.050137\n",
              "std       319.663752\n",
              "min      3822.050000\n",
              "25%      4053.760000\n",
              "50%      4193.590000\n",
              "75%      4627.270000\n",
              "max      4989.580000\n",
              "Name: TRM, dtype: float64"
            ]
          },
          "metadata": {},
          "execution_count": 24
        }
      ]
    },
    {
      "cell_type": "code",
      "source": [
        "df['Mes'].value_counts()"
      ],
      "metadata": {
        "colab": {
          "base_uri": "https://localhost:8080/"
        },
        "id": "4l0lyI-TvTsI",
        "outputId": "902a3234-e6bb-4e61-b763-4594614d7bc7"
      },
      "execution_count": null,
      "outputs": [
        {
          "output_type": "execute_result",
          "data": {
            "text/plain": [
              "Diciembre     31\n",
              "Octubre       31\n",
              "Agosto        31\n",
              "Julio         31\n",
              "Mayo          31\n",
              "Marzo         31\n",
              "Enero         31\n",
              "Noviembre     30\n",
              "Septiembre    30\n",
              "Junio         30\n",
              "Abril         30\n",
              "Febrero       28\n",
              "Name: Mes, dtype: int64"
            ]
          },
          "metadata": {},
          "execution_count": 25
        }
      ]
    },
    {
      "cell_type": "code",
      "source": [
        "n = df['TRM'].shape[0]\n",
        "mean = df['TRM'].mean()\n",
        "std = df['TRM'].std(ddof=1)\n",
        "error = std/n**0.5\n",
        "alpha = 0.05\n",
        "z = norm.ppf(1 - (alpha/2))\n",
        "lower = mean - z*error\n",
        "upper = mean + z*error\n",
        "print(lower,upper)"
      ],
      "metadata": {
        "colab": {
          "base_uri": "https://localhost:8080/"
        },
        "id": "s9qgljoLAaBl",
        "outputId": "d18baa86-6b4e-479f-d030-f7c52229859a"
      },
      "execution_count": null,
      "outputs": [
        {
          "output_type": "stream",
          "name": "stdout",
          "text": [
            "4292.2560872375 4357.844186735103\n"
          ]
        }
      ]
    },
    {
      "cell_type": "code",
      "source": [
        "import numpy as np\n",
        "#define sample data\n",
        "#create 95% confidence interval for population mean weight\n",
        "norm.interval(confidence=0.95, loc=mean, scale=std/n**0.5)"
      ],
      "metadata": {
        "colab": {
          "base_uri": "https://localhost:8080/"
        },
        "id": "Ad-SkKpPG9tx",
        "outputId": "7c3a6882-49c9-4a6f-8701-4771f1d068c6"
      },
      "execution_count": null,
      "outputs": [
        {
          "output_type": "execute_result",
          "data": {
            "text/plain": [
              "(4292.2560872375, 4357.844186735103)"
            ]
          },
          "metadata": {},
          "execution_count": 27
        }
      ]
    },
    {
      "cell_type": "code",
      "source": [
        "# 28 days...\n",
        "df  = df[df['Mes'] =='Febrero']\n",
        "n = df['TRM'].shape[0]\n",
        "mean  = df['TRM'].mean()\n",
        "std = df['TRM'].std(ddof=1)\n",
        "error = std/n**0.5"
      ],
      "metadata": {
        "id": "HgaHHrsuSHmG"
      },
      "execution_count": null,
      "outputs": []
    },
    {
      "cell_type": "code",
      "source": [
        "alpha = 0.05\n",
        "td = t.ppf(q=  1 - (alpha/2), df=n-1)\n",
        "lower = mean -  td*error\n",
        "upper = mean + td*error\n",
        "print(lower,upper)"
      ],
      "metadata": {
        "colab": {
          "base_uri": "https://localhost:8080/"
        },
        "id": "Xkx4gRu2NNjo",
        "outputId": "2a89a885-59ca-42cb-c938-98874c0e7d45"
      },
      "execution_count": null,
      "outputs": [
        {
          "output_type": "stream",
          "name": "stdout",
          "text": [
            "4762.762633568718 4843.462366431282\n"
          ]
        }
      ]
    },
    {
      "cell_type": "code",
      "source": [
        "# Febrero\n",
        "t.interval(confidence=0.95, df=n-1, loc=mean, scale=std/n**0.5)"
      ],
      "metadata": {
        "colab": {
          "base_uri": "https://localhost:8080/"
        },
        "id": "PJmsCw4AQYLb",
        "outputId": "69b0d20b-aad7-43fa-ce7c-ead950eb1d41"
      },
      "execution_count": null,
      "outputs": [
        {
          "output_type": "execute_result",
          "data": {
            "text/plain": [
              "(4762.762633568718, 4843.462366431282)"
            ]
          },
          "metadata": {},
          "execution_count": 30
        }
      ]
    }
  ]
}