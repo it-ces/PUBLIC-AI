{
  "nbformat": 4,
  "nbformat_minor": 0,
  "metadata": {
    "colab": {
      "provenance": [],
      "include_colab_link": true
    },
    "kernelspec": {
      "name": "python3",
      "display_name": "Python 3"
    },
    "language_info": {
      "name": "python"
    }
  },
  "cells": [
    {
      "cell_type": "markdown",
      "metadata": {
        "id": "view-in-github",
        "colab_type": "text"
      },
      "source": [
        "<a href=\"https://colab.research.google.com/github/it-ces/PUBLIC-AI/blob/main/Probability/Simlab/Testing_ProportionDifference(ai_page).ipynb\" target=\"_parent\"><img src=\"https://colab.research.google.com/assets/colab-badge.svg\" alt=\"Open In Colab\"/></a>"
      ]
    },
    {
      "cell_type": "code",
      "source": [
        "# Iván Andrés Trujillo Abella\n",
        "# ivantrujillo1229@gmail.com"
      ],
      "metadata": {
        "id": "PSjmqNzjBQCt"
      },
      "execution_count": null,
      "outputs": []
    },
    {
      "cell_type": "code",
      "execution_count": null,
      "metadata": {
        "id": "AgXOx50oXoCJ"
      },
      "outputs": [],
      "source": [
        "from scipy.stats import norm"
      ]
    },
    {
      "cell_type": "markdown",
      "source": [
        "#### The following is difference in  proportions two no paired populations (A and B)\n",
        "\n",
        "\\begin{equation}    \n",
        "        H_{0}: P_{1}  - P_{2} =  0 \\\\\n",
        "        H_{1}: P_{1} - P_{2} \\neq 0\n",
        "\\end{equation}\n",
        "\n",
        "###### Test statistics\n",
        "\n",
        "\\begin{equation}\n",
        "test = \\frac{(P2 - P1) - 0}{SE(P2 - P1)}\n",
        "\\end{equation}\n",
        "\n",
        "given that $P_{i}$ is unknown then reeplace with\n",
        "$\\hat{P}_{i} \\quad i = A,B$  and SE by ESE."
      ],
      "metadata": {
        "id": "YosIbAINAwTi"
      }
    },
    {
      "cell_type": "code",
      "source": [
        "# Information\n",
        "na = 450\n",
        "nb = 700\n",
        "xa = 31 # The number of yes'es in A\n",
        "xb = 46 # the number of yes's in B"
      ],
      "metadata": {
        "id": "qRfb-4THjfYn"
      },
      "execution_count": null,
      "outputs": []
    },
    {
      "cell_type": "code",
      "source": [
        "## Common proportion\n",
        "p  = (xa + xb) / (na + nb)"
      ],
      "metadata": {
        "id": "9S-ae0Yb7Qgu"
      },
      "execution_count": null,
      "outputs": []
    },
    {
      "cell_type": "code",
      "source": [
        "print(p *na)\n",
        "print(p * nb)\n",
        "print((1-p) * na)\n",
        "print((1-p)*nb)\n",
        "# All are at least 10"
      ],
      "metadata": {
        "colab": {
          "base_uri": "https://localhost:8080/"
        },
        "id": "4kmtZ1CD8vPX",
        "outputId": "5c8e9882-24b6-4541-c321-9b9ff44f63d3"
      },
      "execution_count": null,
      "outputs": [
        {
          "output_type": "stream",
          "name": "stdout",
          "text": [
            "30.130434782608692\n",
            "46.8695652173913\n",
            "419.8695652173913\n",
            "653.1304347826086\n"
          ]
        }
      ]
    },
    {
      "cell_type": "code",
      "source": [
        "pa = xa/na\n",
        "pb = xb/nb"
      ],
      "metadata": {
        "id": "d0cf48q48wJP"
      },
      "execution_count": null,
      "outputs": []
    },
    {
      "cell_type": "code",
      "source": [
        "## The difference\n",
        "pa-pb"
      ],
      "metadata": {
        "colab": {
          "base_uri": "https://localhost:8080/"
        },
        "id": "Db5tdJNx_5BU",
        "outputId": "ac6491c1-b3e9-4a6f-f275-6c3d30bf8853"
      },
      "execution_count": null,
      "outputs": [
        {
          "output_type": "execute_result",
          "data": {
            "text/plain": [
              "0.003174603174603177"
            ]
          },
          "metadata": {},
          "execution_count": 23
        }
      ]
    },
    {
      "cell_type": "code",
      "source": [
        "ESE  =  (p * (1 -p ) * ((1/na) + (1/nb)))**0.5\n",
        "test = (pa-pb)/ESE\n",
        "## P-value\n",
        "alpha  = 0.05\n",
        "pval  = norm.cdf(-abs(test))*2\n",
        "print(pval)\n",
        "if pval < alpha:\n",
        "  print(\"Reject H0\")\n",
        "else:\n",
        "  print(\"Fail to reject H0\")"
      ],
      "metadata": {
        "colab": {
          "base_uri": "https://localhost:8080/"
        },
        "id": "Nge0hXmUHcF8",
        "outputId": "6926241e-664e-4bac-8597-3aaaa79536de"
      },
      "execution_count": null,
      "outputs": [
        {
          "output_type": "stream",
          "name": "stdout",
          "text": [
            "0.8335056458986027\n",
            "Fail to reject H0\n"
          ]
        }
      ]
    }
  ]
}