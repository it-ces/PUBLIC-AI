{
  "nbformat": 4,
  "nbformat_minor": 0,
  "metadata": {
    "colab": {
      "provenance": [],
      "include_colab_link": true
    },
    "kernelspec": {
      "name": "python3",
      "display_name": "Python 3"
    },
    "language_info": {
      "name": "python"
    }
  },
  "cells": [
    {
      "cell_type": "markdown",
      "metadata": {
        "id": "view-in-github",
        "colab_type": "text"
      },
      "source": [
        "<a href=\"https://colab.research.google.com/github/it-ces/PUBLIC-AI/blob/main/Probability/Simlab/Simulation_CI_mean(ai_page).ipynb\" target=\"_parent\"><img src=\"https://colab.research.google.com/assets/colab-badge.svg\" alt=\"Open In Colab\"/></a>"
      ]
    },
    {
      "cell_type": "markdown",
      "source": [
        "# CI (confidence interval)\n",
        "\n",
        "In this notebook we are going to trace up two boundaries around the expected value of a population and we are going to count the number of times that the interval capture the parameter..."
      ],
      "metadata": {
        "id": "-vI2ss6SfCxi"
      }
    },
    {
      "cell_type": "markdown",
      "source": [
        "There a lot of misconceptions about inferential statistics in the first courses of undergraduates, therefore this notebooks try to desmistify this concepts simulation some of them"
      ],
      "metadata": {
        "id": "qjGo_oNJez2U"
      }
    },
    {
      "cell_type": "code",
      "source": [
        "import random\n",
        "import statistics as sts\n",
        "import matplotlib.pyplot as plt\n",
        "import pandas as pd\n",
        "import numpy as np"
      ],
      "metadata": {
        "id": "Lmd9sqHwviiB"
      },
      "execution_count": null,
      "outputs": []
    },
    {
      "cell_type": "code",
      "source": [
        "population = [\n",
        "    10,1,2,4,4,12,11.8,51,4,3,1,2,\n",
        "    4,5,9,81,3,4,1,2,93,1,3,31,22\n",
        "    ,12,134,21,21,34,3,10,33,4,3,1\n",
        "    ,3,55,2.3,12,2,44,21,44,12.3,\n",
        "    12,22,12,3 ,11.3,11,23,12,1,4]"
      ],
      "metadata": {
        "id": "p-FM2QDAvQ9_"
      },
      "execution_count": null,
      "outputs": []
    },
    {
      "cell_type": "code",
      "source": [
        "np.mean(population)"
      ],
      "metadata": {
        "colab": {
          "base_uri": "https://localhost:8080/"
        },
        "id": "Lp7yOPyEo6QM",
        "outputId": "3b59ca70-fdff-4842-e29e-9b51c917e9b0"
      },
      "execution_count": null,
      "outputs": [
        {
          "output_type": "execute_result",
          "data": {
            "text/plain": [
              "17.23090909090909"
            ]
          },
          "metadata": {},
          "execution_count": 7
        }
      ]
    },
    {
      "cell_type": "code",
      "source": [
        "def ci(array, z, population):\n",
        "  mean = sts.mean(array)\n",
        "  error = z * sts.pstdev(population) / (len(array))**0.5  # Note that population it is important\n",
        "  low =   mean - error\n",
        "  upper = mean + error\n",
        "  return low, upper\n",
        "print('mean:', sts.mean(population), ci(population,1.96, population))"
      ],
      "metadata": {
        "id": "6ue44S5hveqK",
        "colab": {
          "base_uri": "https://localhost:8080/"
        },
        "outputId": "464e1254-98a1-40e0-f393-3b3d67aafc81"
      },
      "execution_count": null,
      "outputs": [
        {
          "output_type": "stream",
          "name": "stdout",
          "text": [
            "mean: 17.23090909090909 (10.63367800959236, 23.828140172225822)\n"
          ]
        }
      ]
    },
    {
      "cell_type": "code",
      "source": [
        "def inside( array, population):\n",
        "  low, upper = ci(array, 1.96, population)\n",
        "  mean = sts.mean(population)\n",
        "  if (mean >= low and mean <= upper):\n",
        "    return True\n",
        "  else:\n",
        "    return False"
      ],
      "metadata": {
        "id": "fkfKqSFRv91w"
      },
      "execution_count": null,
      "outputs": []
    },
    {
      "cell_type": "code",
      "source": [
        "trials = 6000\n",
        "size = 10\n",
        "catch, means = [], []\n",
        "for _ in range(trials):\n",
        "  sample = [population[random.randint(0, len(population)-1)] for _ in range(size)]\n",
        "  catch.append(inside(sample, population))\n",
        "  means.append(sts.mean(sample))\n",
        "pro_catch = sum(catch)/trials\n",
        "pro_fail = 1 - pro_catch\n",
        "print('The number of times that  the interval catch the Population parameter mean :', pro_catch)\n",
        "# At least!!"
      ],
      "metadata": {
        "colab": {
          "base_uri": "https://localhost:8080/"
        },
        "id": "BssIGks73EsL",
        "outputId": "51a8cb2c-7278-4d3a-fb02-7733b59ace0f"
      },
      "execution_count": null,
      "outputs": [
        {
          "output_type": "stream",
          "name": "stdout",
          "text": [
            "The number of times that  the interval catch the Population parameter mean : 0.9533333333333334\n"
          ]
        }
      ]
    },
    {
      "cell_type": "code",
      "source": [
        "catch = []\n",
        "for _ in range(trials):\n",
        "  sample = np.random.choice(population, size=size, replace=True)\n",
        "  catch.append(inside(sample, population))\n",
        "pro_catch = sum(catch)/trials\n",
        "pro_fail = 1 - pro_catch\n",
        "print('The number of times that  the interval catch the Population parameter mean :', pro_catch)"
      ],
      "metadata": {
        "colab": {
          "base_uri": "https://localhost:8080/"
        },
        "id": "5xNYgNVV77Q1",
        "outputId": "5793e1e1-a3dd-4ad3-ee22-9dd1b8d0e8e3"
      },
      "execution_count": null,
      "outputs": [
        {
          "output_type": "stream",
          "name": "stdout",
          "text": [
            "The number of times that  the interval catch the Population parameter mean : 0.9595\n"
          ]
        }
      ]
    }
  ]
}