{
  "nbformat": 4,
  "nbformat_minor": 0,
  "metadata": {
    "colab": {
      "provenance": [],
      "include_colab_link": true
    },
    "kernelspec": {
      "name": "python3",
      "display_name": "Python 3"
    },
    "language_info": {
      "name": "python"
    }
  },
  "cells": [
    {
      "cell_type": "markdown",
      "metadata": {
        "id": "view-in-github",
        "colab_type": "text"
      },
      "source": [
        "<a href=\"https://colab.research.google.com/github/it-ces/PUBLIC-AI/blob/main/Probability/Simlab/Hypergeometric(Probability)(BIT).ipynb\" target=\"_parent\"><img src=\"https://colab.research.google.com/assets/colab-badge.svg\" alt=\"Open In Colab\"/></a>"
      ]
    },
    {
      "cell_type": "code",
      "execution_count": 4,
      "metadata": {
        "id": "RsZzD89ONonx"
      },
      "outputs": [],
      "source": [
        "# Iván Andrés Trujillo Abella\n",
        "# ivantrujillo1229@gmail.com"
      ]
    },
    {
      "cell_type": "code",
      "source": [
        "import random\n",
        "import numpy as np\n",
        "import matplotlib.pyplot as plt\n",
        "from scipy.stats import hypergeom\n",
        "\n",
        "def Sample(N, blacks):\n",
        "  sample = []\n",
        "  for i in range(1,N+1):\n",
        "    if i>blacks:\n",
        "      sample.append(0)\n",
        "    else:\n",
        "      sample.append(1)\n",
        "  return sample\n",
        "\n",
        "def probability(trials, i, sample, blacks, N ):\n",
        "    population = Sample(N, blacks)\n",
        "    results = [sum(np.random.choice(population, sample, replace=False)) for i in range(trials)]\n",
        "    favorable = sum([True for x in results if x==i])\n",
        "    return favorable/trials"
      ],
      "metadata": {
        "id": "IU1TuOUsOGES"
      },
      "execution_count": 5,
      "outputs": []
    },
    {
      "cell_type": "code",
      "source": [
        "trials = 99999\n",
        "i = 5\n",
        "sample = 10\n",
        "blacks = 5\n",
        "N = 20\n",
        "print(probability(trials, i, sample, blacks, N))\n",
        "k = i\n",
        "M = N\n",
        "n = blacks\n",
        "N = sample\n",
        "hypergeom.pmf(k, M, n , N)"
      ],
      "metadata": {
        "colab": {
          "base_uri": "https://localhost:8080/"
        },
        "id": "qkYjUyEpkpdT",
        "outputId": "0d42670f-fd66-4b60-b483-54f1e9b3376b"
      },
      "execution_count": 6,
      "outputs": [
        {
          "output_type": "stream",
          "name": "stdout",
          "text": [
            "0.016020160201602015\n"
          ]
        },
        {
          "output_type": "execute_result",
          "data": {
            "text/plain": [
              "0.016253869969040248"
            ]
          },
          "metadata": {},
          "execution_count": 6
        }
      ]
    },
    {
      "cell_type": "markdown",
      "source": [
        "in scipy:\n",
        "\n",
        "\\begin{equation}\n",
        "p(k,M,n,N) = \\frac{\\binom{n}{k}  \\binom{M-n}{N-k}}{\\binom{M}{N}}  =  \\frac{ \\binom{blacks}{i} \\binom{N-blacks}{sample-i}}{\\binom{M}{sample}}\n",
        "\\end{equation}\n",
        "\n"
      ],
      "metadata": {
        "id": "o2ogJTvphLgv"
      }
    }
  ]
}