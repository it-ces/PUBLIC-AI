{
  "nbformat": 4,
  "nbformat_minor": 0,
  "metadata": {
    "colab": {
      "provenance": [],
      "include_colab_link": true
    },
    "kernelspec": {
      "name": "python3",
      "display_name": "Python 3"
    },
    "language_info": {
      "name": "python"
    }
  },
  "cells": [
    {
      "cell_type": "markdown",
      "metadata": {
        "id": "view-in-github",
        "colab_type": "text"
      },
      "source": [
        "<a href=\"https://colab.research.google.com/github/it-ces/PUBLIC-AI/blob/main/Probability/Simlab/varaince_meanLinearity(ai_page).ipynb\" target=\"_parent\"><img src=\"https://colab.research.google.com/assets/colab-badge.svg\" alt=\"Open In Colab\"/></a>"
      ]
    },
    {
      "cell_type": "code",
      "execution_count": null,
      "metadata": {
        "id": "dCVLGUqP1yr6"
      },
      "outputs": [],
      "source": [
        "import numpy as np\n",
        "import matplotlib.pyplot as plt"
      ]
    },
    {
      "cell_type": "code",
      "source": [
        "mu, sigma =  100, 25\n",
        "data = np.random.normal(loc = mu, scale = sigma ,size=9999)"
      ],
      "metadata": {
        "id": "3I0K07V616ii"
      },
      "execution_count": null,
      "outputs": []
    },
    {
      "cell_type": "code",
      "source": [
        "sample_size =  30\n",
        "trials  = 99999\n",
        "means = []\n",
        "for _ in range(trials):\n",
        "  means.append(np.random.choice(data, sample_size).mean())"
      ],
      "metadata": {
        "id": "DzY9AghZ2Aky"
      },
      "execution_count": null,
      "outputs": []
    },
    {
      "cell_type": "code",
      "source": [
        "plt.hist(means)"
      ],
      "metadata": {
        "colab": {
          "base_uri": "https://localhost:8080/",
          "height": 537
        },
        "id": "3D5KodXx2pmR",
        "outputId": "395f2edb-9a98-4ee3-dee0-680925642c8c"
      },
      "execution_count": null,
      "outputs": [
        {
          "output_type": "execute_result",
          "data": {
            "text/plain": [
              "(array([1.4000e+01, 2.7700e+02, 2.5870e+03, 1.2242e+04, 2.8818e+04,\n",
              "        3.2693e+04, 1.7818e+04, 4.8950e+03, 6.2000e+02, 3.5000e+01]),\n",
              " array([ 79.42747615,  83.46222683,  87.49697751,  91.53172819,\n",
              "         95.56647888,  99.60122956, 103.63598024, 107.67073092,\n",
              "        111.7054816 , 115.74023228, 119.77498296]),\n",
              " <BarContainer object of 10 artists>)"
            ]
          },
          "metadata": {},
          "execution_count": 4
        },
        {
          "output_type": "display_data",
          "data": {
            "text/plain": [
              "<Figure size 640x480 with 1 Axes>"
            ],
            "image/png": "[encoded data removed]"
          },
          "metadata": {}
        }
      ]
    },
    {
      "cell_type": "code",
      "source": [
        "print(\" mean : \", np.array(means).mean())\n",
        "print(\"std : \", np.array(means).std())\n",
        "print(\"expeceted std :\", sigma/(sample_size**0.5))"
      ],
      "metadata": {
        "colab": {
          "base_uri": "https://localhost:8080/"
        },
        "id": "Slf5W-Xf3trR",
        "outputId": "7c6c861e-2a81-449d-9847-ad3befb5347e"
      },
      "execution_count": null,
      "outputs": [
        {
          "output_type": "stream",
          "name": "stdout",
          "text": [
            " mean :  100.29790249032297\n",
            "std :  4.601000613500906\n",
            "expeceted std : 4.564354645876384\n"
          ]
        }
      ]
    }
  ]
}