{
  "nbformat": 4,
  "nbformat_minor": 0,
  "metadata": {
    "colab": {
      "provenance": [],
      "include_colab_link": true
    },
    "kernelspec": {
      "name": "python3",
      "display_name": "Python 3"
    },
    "language_info": {
      "name": "python"
    }
  },
  "cells": [
    {
      "cell_type": "markdown",
      "metadata": {
        "id": "view-in-github",
        "colab_type": "text"
      },
      "source": [
        "<a href=\"https://colab.research.google.com/github/it-ces/PUBLIC-AI/blob/main/Probability/Simlab/Lincoln-chapman.ipynb\" target=\"_parent\"><img src=\"https://colab.research.google.com/assets/colab-badge.svg\" alt=\"Open In Colab\"/></a>"
      ]
    },
    {
      "cell_type": "code",
      "source": [
        "# Iván Andrés Trujillo Abella\n",
        "# ivantrujillo1229@gmail.com"
      ],
      "metadata": {
        "id": "fD4KMWB6TXea"
      },
      "execution_count": null,
      "outputs": []
    },
    {
      "cell_type": "markdown",
      "source": [
        "\\begin{equation}\n",
        "\\frac{n}{N} = \\frac{counter}{k}\n",
        "\\end{equation}\n",
        "\n",
        "\n",
        "\\begin{equation}\n",
        "N = \\frac{k * n}{counter}\n",
        "\\end{equation}\n",
        "\n",
        "where $counter$ is individuales recaptured that has been captured previously.\n",
        "$n$ are the captured, and $k$ the recaptured.\n",
        "the estimation of $N$ is therefore\n",
        "\n"
      ],
      "metadata": {
        "id": "jNbKLooHJ_a2"
      }
    },
    {
      "cell_type": "code",
      "source": [
        "import numpy as np\n",
        "# n capturaed\n",
        "# k recaptured\n",
        "def N_estimation(n,k):\n",
        "  # N inside  = 1000\n",
        "  N = 1239\n",
        "  population = [x for x in range(N)]\n",
        "  sample_size = n\n",
        "  captured = np.random.choice(population, size = n)\n",
        "  recaptured = np.random.choice(population, size = k)\n",
        "  counter = 0\n",
        "  for x in recaptured:\n",
        "    if x in captured:\n",
        "      counter +=1\n",
        "  N_hat = (n*k) / counter\n",
        "  return N_hat"
      ],
      "metadata": {
        "id": "YL1wo8nYe-Gv"
      },
      "execution_count": 1,
      "outputs": []
    },
    {
      "cell_type": "code",
      "source": [
        "print('real N = ',1239)\n",
        "N_estimation(250,250)"
      ],
      "metadata": {
        "colab": {
          "base_uri": "https://localhost:8080/"
        },
        "id": "eJ6KvX4JHQdj",
        "outputId": "330f9ac9-17a1-4d87-dcf6-2e302adf4ffa"
      },
      "execution_count": 3,
      "outputs": [
        {
          "output_type": "stream",
          "name": "stdout",
          "text": [
            "real N =  1239\n"
          ]
        },
        {
          "output_type": "execute_result",
          "data": {
            "text/plain": [
              "1250.0"
            ]
          },
          "metadata": {},
          "execution_count": 3
        }
      ]
    },
    {
      "cell_type": "markdown",
      "source": [
        "\\begin{equation}\n",
        "\\hat{N} = \\frac{\n",
        "( primera visita * segunda visita ) }{ capturados en la primera visita que volvieron a ser capturados en la segunda}\n",
        "\\end{equation}"
      ],
      "metadata": {
        "id": "m6e_zaskKl4r"
      }
    },
    {
      "cell_type": "code",
      "source": [
        "N_samples = [N_estimation(120,100) for _ in range(8000)]"
      ],
      "metadata": {
        "id": "NqHjZDjeeysZ"
      },
      "execution_count": null,
      "outputs": []
    },
    {
      "cell_type": "code",
      "source": [
        "N_estimation(120,120)"
      ],
      "metadata": {
        "colab": {
          "base_uri": "https://localhost:8080/"
        },
        "id": "pth9UQbgcbs-",
        "outputId": "9d83a053-d4db-417c-a83c-11b2245ecbf8"
      },
      "execution_count": null,
      "outputs": [
        {
          "output_type": "execute_result",
          "data": {
            "text/plain": [
              "1028.5714285714287"
            ]
          },
          "metadata": {},
          "execution_count": 49
        }
      ]
    },
    {
      "cell_type": "code",
      "source": [
        "import matplotlib.pyplot as plt"
      ],
      "metadata": {
        "id": "6d8MRmZ_e9ol"
      },
      "execution_count": null,
      "outputs": []
    },
    {
      "cell_type": "code",
      "source": [
        "plt.hist(N_samples)\n",
        "sum(N_samples)/len(N_samples)"
      ],
      "metadata": {
        "colab": {
          "base_uri": "https://localhost:8080/",
          "height": 452
        },
        "id": "XzhIHR9mfMSJ",
        "outputId": "c2870294-b7e2-4bd2-d37f-c0203d74e41f"
      },
      "execution_count": null,
      "outputs": [
        {
          "output_type": "execute_result",
          "data": {
            "text/plain": [
              "1462.9037588249982"
            ]
          },
          "metadata": {},
          "execution_count": 51
        },
        {
          "output_type": "display_data",
          "data": {
            "text/plain": [
              "<Figure size 640x480 with 1 Axes>"
            ],
            "image/png": "[encoded data removed]"
          },
          "metadata": {}
        }
      ]
    },
    {
      "cell_type": "code",
      "source": [
        "# What is the variance of this estimator?\n",
        "\n",
        "def eMean(results):\n",
        "  return sum(results)/len(results)\n",
        "\n",
        "def eVariance(results):\n",
        "  mean = eMean(results)\n",
        "  return sum([(xi - mean)**2 for xi in results]) / (len(results)-1)"
      ],
      "metadata": {
        "id": "09NHvEAjfg85"
      },
      "execution_count": null,
      "outputs": []
    },
    {
      "cell_type": "code",
      "source": [
        "results = [N_estimation(200,400) for _ in range(9999)]\n",
        "eMean(results)"
      ],
      "metadata": {
        "id": "FPIpk3aqDX9G",
        "colab": {
          "base_uri": "https://localhost:8080/"
        },
        "outputId": "f0f4bad9-1e4a-4147-8f6b-a757ba7fc94b"
      },
      "execution_count": null,
      "outputs": [
        {
          "output_type": "execute_result",
          "data": {
            "text/plain": [
              "1363.404987976485"
            ]
          },
          "metadata": {},
          "execution_count": 53
        }
      ]
    },
    {
      "cell_type": "code",
      "source": [
        "def variance(n,k,counter):\n",
        "  return n*k * (n-counter) * (k-counter)"
      ],
      "metadata": {
        "id": "LcBiqeTDfZNe"
      },
      "execution_count": null,
      "outputs": []
    },
    {
      "cell_type": "code",
      "source": [
        "# Useful lectures..\n",
        "# https://rushinglab.github.io/WILD3810/articles/Lecture2/lecture2.html#82"
      ],
      "metadata": {
        "id": "QuHtVrzCh4Up"
      },
      "execution_count": null,
      "outputs": []
    },
    {
      "cell_type": "code",
      "source": [
        "def N_estimation(n,k, method='chapman'):\n",
        "  # N inside  = 1000\n",
        "  N = 1239\n",
        "  population = [x for x in range(N)]\n",
        "  sample_size = n\n",
        "  captured = np.random.choice(population, size = n)\n",
        "  recaptured = np.random.choice(population, size = k)\n",
        "  counter = 0\n",
        "  for x in recaptured:\n",
        "    if x in captured:\n",
        "      counter +=1\n",
        "  if method=='chapman':\n",
        "    return (((n + 1) * (k+1))/ (counter+1)) -1\n",
        "  else:\n",
        "    return  (n*k) / counter"
      ],
      "metadata": {
        "id": "lrFLwyRYsn0K"
      },
      "execution_count": null,
      "outputs": []
    },
    {
      "cell_type": "code",
      "source": [
        "Results = [N_estimation(120,100) for _ in range(8000)]"
      ],
      "metadata": {
        "id": "F315BotKtTuE"
      },
      "execution_count": null,
      "outputs": []
    },
    {
      "cell_type": "code",
      "source": [
        "eMean(Results)"
      ],
      "metadata": {
        "colab": {
          "base_uri": "https://localhost:8080/"
        },
        "id": "PyplglGPtbKR",
        "outputId": "12497ce9-09db-4aa7-af57-d84b502e8cbd"
      },
      "execution_count": null,
      "outputs": [
        {
          "output_type": "execute_result",
          "data": {
            "text/plain": [
              "1314.1528617302367"
            ]
          },
          "metadata": {},
          "execution_count": 58
        }
      ]
    }
  ]
}