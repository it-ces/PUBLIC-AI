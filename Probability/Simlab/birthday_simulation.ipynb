{
  "nbformat": 4,
  "nbformat_minor": 0,
  "metadata": {
    "colab": {
      "provenance": [],
      "include_colab_link": true
    },
    "kernelspec": {
      "name": "python3",
      "display_name": "Python 3"
    },
    "language_info": {
      "name": "python"
    }
  },
  "cells": [
    {
      "cell_type": "markdown",
      "metadata": {
        "id": "view-in-github",
        "colab_type": "text"
      },
      "source": [
        "<a href=\"https://colab.research.google.com/github/it-ces/PUBLIC-AI/blob/main/Probability/Simlab/birthday_simulation.ipynb\" target=\"_parent\"><img src=\"https://colab.research.google.com/assets/colab-badge.svg\" alt=\"Open In Colab\"/></a>"
      ]
    },
    {
      "cell_type": "code",
      "execution_count": null,
      "metadata": {
        "id": "NsFgJFO2P3wr"
      },
      "outputs": [],
      "source": [
        "import random"
      ]
    },
    {
      "cell_type": "code",
      "source": [
        "import random\n",
        "def match(k,num_matchs,days):\n",
        "  acum_array =[0]*days\n",
        "  for _ in range(k):\n",
        "    day = random.choice(range(days))\n",
        "    acum_array[day] +=1\n",
        "  return max(acum_array)>= num_matchs\n",
        "def game(k,days, trials, num_matchs):\n",
        "  counter = 0\n",
        "  for _ in range(trials):\n",
        "    counter = counter +  int(match(k,num_matchs,days))\n",
        "  return counter/trials"
      ],
      "metadata": {
        "id": "AvSRT0Rg_RM3"
      },
      "execution_count": null,
      "outputs": []
    },
    {
      "cell_type": "code",
      "source": [
        "game(k= 38, days= 360, trials = 999999,  num_matchs=2)"
      ],
      "metadata": {
        "colab": {
          "base_uri": "https://localhost:8080/"
        },
        "id": "tR-vfyGJLmYP",
        "outputId": "85477c54-56ba-4345-e933-cffc8e6ff561"
      },
      "execution_count": null,
      "outputs": [
        {
          "output_type": "execute_result",
          "data": {
            "text/plain": [
              "0.8681048681048681"
            ]
          },
          "metadata": {},
          "execution_count": 46
        }
      ]
    },
    {
      "cell_type": "code",
      "source": [
        "def factorial(n):\n",
        "  acum = n\n",
        "  for x in range(1,n):\n",
        "    acum = acum * x\n",
        "  return acum\n",
        "factorial(5)\n",
        "def permutacion(n,k):\n",
        "  return factorial(n)/factorial(n-k)\n",
        "def birthday_paradox(n,k):\n",
        "  return 1 - (permutacion(n,k)/ n**k)"
      ],
      "metadata": {
        "id": "kGXT7igUETfb"
      },
      "execution_count": null,
      "outputs": []
    },
    {
      "cell_type": "code",
      "source": [
        "birthday_paradox(360, 38)"
      ],
      "metadata": {
        "colab": {
          "base_uri": "https://localhost:8080/"
        },
        "id": "TUSdibOg6mcn",
        "outputId": "300c4be1-b191-4dea-d42b-65296ae5fdc4"
      },
      "execution_count": null,
      "outputs": [
        {
          "output_type": "execute_result",
          "data": {
            "text/plain": [
              "0.8679204138975101"
            ]
          },
          "metadata": {},
          "execution_count": 48
        }
      ]
    }
  ]
}