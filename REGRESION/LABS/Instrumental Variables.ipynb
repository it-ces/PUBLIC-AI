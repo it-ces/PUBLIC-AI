{
 "cells": [
  {
   "cell_type": "markdown",
   "id": "0937357f",
   "metadata": {},
   "source": [
    "# Introduction to instrumental variables (IV)\n",
    "### Iván andrés Trujillo\n",
    "\n",
    "The main reference for this session is the Wooldridge(2015)."
   ]
  },
  {
   "cell_type": "markdown",
   "id": "02defda5",
   "metadata": {},
   "source": [
    "# Endogenity \n",
    "The independet variables are related with error term.\n",
    "\n",
    "## Sources of endogenity \n",
    "\n",
    "\n",
    "### Bias by omited variable:\n",
    "Confounding variable that affects $y$ and $X$ explicative vector.\n",
    "### Simultaneous especification ( $x$ cause $y$ and $y$ cause $x$)\n",
    "Think in prices and quantities.\n",
    "### Measurement error\n",
    "We can not observed the variable $x_{i}$ directly, therefore we can uses $x_{i} + n_{i}$.  where $n$ is the noise.\n",
    "\n",
    "\n",
    "All this problems lead to biased estimatiors.\n",
    "\n",
    "\n",
    "\n",
    "# Instrumental variables \n",
    "Design to tackle endogenity.\n",
    "\n",
    "\n",
    "\n",
    "## Example \n",
    "We can estimate the consumption of a product in function its prices.\n",
    "\\begin{equation}\n",
    "q = f(p)\\\\\n",
    "p = f^{-1}(q)\n",
    "\\end{equation}\n"
   ]
  },
  {
   "cell_type": "markdown",
   "id": "efc3ffba",
   "metadata": {},
   "source": [
    "\n",
    "\n",
    "# Biased $\\bf{\\beta}$\n",
    "\n",
    "If we omitted confounders variables then the estimation by OLS could produce biased and inconsistent $\\bf{\\beta}$.\n",
    "\n",
    "\\begin{equation}\n",
    "y = \\beta_{0} + \\beta_{1}x + \\beta_{2} z + u \n",
    "\\end{equation}\n",
    "\n",
    "\n",
    "\n",
    "## Two least squares (2SLS) \n",
    "\n",
    "In a simplified diagram we have:\n",
    "\\begin{equation}\n",
    "y = \\beta x +  u \n",
    "\\end{equation}\n",
    "\n",
    "but $x$ is endogenous, then we can uses a (z) as a IV variable and estimate:\n",
    "\\begin{equation}\n",
    "\\hat{x} = \\beta z + v \\\\\n",
    "y = \\beta \\hat{x} + u \n",
    "\\end{equation}\n",
    "\n",
    "\n",
    "In general terms we can said that we uses instrumental varaibles to estimate the endogenous predictors, and after uses the estimated predictors in the original model.\n",
    "\n",
    "\n",
    "\n",
    "\n",
    "\n",
    "## $z$ could be a instrumental variable?\n",
    "A instrumental variable must be satisfy the following:\n",
    "\\begin{equation}\n",
    "corr(z,x) \\neq 0 \\\\\n",
    "corr(z,u) = 0\n",
    "\\end{equation}\n",
    "\n",
    "\n",
    "In the example of predict the demand of a article, then we have a clear problem of endogenity, we could uses a instrumental variable as prices of another products.\n",
    "\n",
    "\n",
    "\n",
    "## Validity of the instrument\n",
    "First we can check $corr(x,z)$. Now we can estimate the following model:\n",
    "\n",
    "\\begin{equation}\n",
    "x = \\alpha_{0} + \\alpha_{1} z + v\n",
    "\\end{equation}\n",
    "\n",
    "And now we can perform a statistical test: $H_{0} : \\alpha_{1} = 0$ and reject or not the hypothesis if we accept  $H_{0}$ then the instrument is weak.\n",
    "\n",
    "\n",
    "\n",
    "## How we can test if 2LSL is neccesary\n",
    "The Hausman test, could give us the answer comparing OLS and 2SLS estimations , given that if all variables are exogenous then both techniques give us consistent estimations.\n"
   ]
  },
  {
   "cell_type": "markdown",
   "id": "298fdf4d",
   "metadata": {},
   "source": [
    "# Important things \n",
    "\n",
    "There is a package in r Called wooldridge "
   ]
  },
  {
   "cell_type": "code",
   "execution_count": 1,
   "id": "e10255d7",
   "metadata": {},
   "outputs": [],
   "source": [
    "%load_ext rpy2.ipython"
   ]
  },
  {
   "cell_type": "code",
   "execution_count": 2,
   "id": "f3e5214e",
   "metadata": {},
   "outputs": [],
   "source": [
    "%%R\n",
    "#install.packages(\"wooldridge\")\n",
    "library(wooldridge)\n",
    "data(\"mroz\")\n",
    "write.csv(mroz,\"mroz.csv\", row.names = FALSE) # There are a way of pass data.frame to pandas class."
   ]
  },
  {
   "cell_type": "code",
   "execution_count": 3,
   "id": "ee9dcc2c",
   "metadata": {},
   "outputs": [],
   "source": [
    "# Now we can pass this data.frame to a dataframe in pandas"
   ]
  },
  {
   "cell_type": "code",
   "execution_count": 4,
   "id": "00a9fab5",
   "metadata": {},
   "outputs": [],
   "source": [
    "import pandas as pd\n",
    "mroz = pd.read_csv(\"mroz.csv\")"
   ]
  },
  {
   "cell_type": "code",
   "execution_count": 5,
   "id": "cbb4e098",
   "metadata": {
    "scrolled": true
   },
   "outputs": [
    {
     "data": {
      "text/plain": [
       "Index(['inlf', 'hours', 'kidslt6', 'kidsge6', 'age', 'educ', 'wage', 'repwage',\n",
       "       'hushrs', 'husage', 'huseduc', 'huswage', 'faminc', 'mtr', 'motheduc',\n",
       "       'fatheduc', 'unem', 'city', 'exper', 'nwifeinc', 'lwage', 'expersq'],\n",
       "      dtype='object')"
      ]
     },
     "execution_count": 5,
     "metadata": {},
     "output_type": "execute_result"
    }
   ],
   "source": [
    "mroz.columns"
   ]
  },
  {
   "cell_type": "markdown",
   "id": "614d837e",
   "metadata": {},
   "source": [
    "# Return to education for working woman\n",
    "### Example 15.5\n",
    "\\begin{equation}\n",
    "\\hat{log(wage)} = \\beta_{0} + \\beta_{1} educ + \\beta_{2} exper + \\beta_{3} exper^{2}\n",
    "\\end{equation}\n",
    "\n",
    "#### Modeling software model\n",
    "```{python}\n",
    "formula = 'y ~ 1 + Exogenous1 + Exogenous2  + ... + [endogenous ~ instrument]'\n",
    "\n",
    "model= IV2SLS.from_formula(formula, data)\n",
    "\n",
    "model.fit().summary\n",
    "```\n",
    "(1) means for constant "
   ]
  },
  {
   "cell_type": "code",
   "execution_count": 6,
   "id": "4fb2ab84",
   "metadata": {},
   "outputs": [],
   "source": [
    "# Perform OLS\n",
    "from statsmodels.regression.linear_model import OLS"
   ]
  },
  {
   "cell_type": "code",
   "execution_count": 7,
   "id": "f0a7b132",
   "metadata": {},
   "outputs": [],
   "source": [
    "from linearmodels.iv import IV2SLS\n",
    "import numpy as np"
   ]
  },
  {
   "cell_type": "code",
   "execution_count": 8,
   "id": "74e9a7c2",
   "metadata": {},
   "outputs": [],
   "source": [
    "mroz[\"exper2\"] = mroz[\"exper\"]**2"
   ]
  },
  {
   "cell_type": "code",
   "execution_count": 9,
   "id": "67bd598f",
   "metadata": {},
   "outputs": [
    {
     "data": {
      "text/html": [
       "<table class=\"simpletable\">\n",
       "<caption>OLS Regression Results</caption>\n",
       "<tr>\n",
       "  <th>Dep. Variable:</th>          <td>educ</td>       <th>  R-squared:         </th> <td>   0.262</td>\n",
       "</tr>\n",
       "<tr>\n",
       "  <th>Model:</th>                   <td>OLS</td>       <th>  Adj. R-squared:    </th> <td>   0.258</td>\n",
       "</tr>\n",
       "<tr>\n",
       "  <th>Method:</th>             <td>Least Squares</td>  <th>  F-statistic:       </th> <td>   66.52</td>\n",
       "</tr>\n",
       "<tr>\n",
       "  <th>Date:</th>             <td>lun, 19 sep 2022</td> <th>  Prob (F-statistic):</th> <td>3.67e-48</td>\n",
       "</tr>\n",
       "<tr>\n",
       "  <th>Time:</th>                 <td>20:40:34</td>     <th>  Log-Likelihood:    </th> <td> -1574.1</td>\n",
       "</tr>\n",
       "<tr>\n",
       "  <th>No. Observations:</th>      <td>   753</td>      <th>  AIC:               </th> <td>   3158.</td>\n",
       "</tr>\n",
       "<tr>\n",
       "  <th>Df Residuals:</th>          <td>   748</td>      <th>  BIC:               </th> <td>   3181.</td>\n",
       "</tr>\n",
       "<tr>\n",
       "  <th>Df Model:</th>              <td>     4</td>      <th>                     </th>     <td> </td>   \n",
       "</tr>\n",
       "<tr>\n",
       "  <th>Covariance Type:</th>      <td>nonrobust</td>    <th>                     </th>     <td> </td>   \n",
       "</tr>\n",
       "</table>\n",
       "<table class=\"simpletable\">\n",
       "<tr>\n",
       "      <td></td>         <th>coef</th>     <th>std err</th>      <th>t</th>      <th>P>|t|</th>  <th>[0.025</th>    <th>0.975]</th>  \n",
       "</tr>\n",
       "<tr>\n",
       "  <th>Intercept</th> <td>    8.3667</td> <td>    0.267</td> <td>   31.370</td> <td> 0.000</td> <td>    7.843</td> <td>    8.890</td>\n",
       "</tr>\n",
       "<tr>\n",
       "  <th>exper</th>     <td>    0.0854</td> <td>    0.026</td> <td>    3.342</td> <td> 0.001</td> <td>    0.035</td> <td>    0.136</td>\n",
       "</tr>\n",
       "<tr>\n",
       "  <th>exper2</th>    <td>   -0.0019</td> <td>    0.001</td> <td>   -2.243</td> <td> 0.025</td> <td>   -0.003</td> <td>   -0.000</td>\n",
       "</tr>\n",
       "<tr>\n",
       "  <th>motheduc</th>  <td>    0.1856</td> <td>    0.026</td> <td>    7.143</td> <td> 0.000</td> <td>    0.135</td> <td>    0.237</td>\n",
       "</tr>\n",
       "<tr>\n",
       "  <th>fatheduc</th>  <td>    0.1846</td> <td>    0.024</td> <td>    7.534</td> <td> 0.000</td> <td>    0.136</td> <td>    0.233</td>\n",
       "</tr>\n",
       "</table>\n",
       "<table class=\"simpletable\">\n",
       "<tr>\n",
       "  <th>Omnibus:</th>       <td>15.108</td> <th>  Durbin-Watson:     </th> <td>   2.000</td>\n",
       "</tr>\n",
       "<tr>\n",
       "  <th>Prob(Omnibus):</th> <td> 0.001</td> <th>  Jarque-Bera (JB):  </th> <td>  28.196</td>\n",
       "</tr>\n",
       "<tr>\n",
       "  <th>Skew:</th>          <td> 0.005</td> <th>  Prob(JB):          </th> <td>7.54e-07</td>\n",
       "</tr>\n",
       "<tr>\n",
       "  <th>Kurtosis:</th>      <td> 3.948</td> <th>  Cond. No.          </th> <td>1.15e+03</td>\n",
       "</tr>\n",
       "</table><br/><br/>Notes:<br/>[1] Standard Errors assume that the covariance matrix of the errors is correctly specified.<br/>[2] The condition number is large, 1.15e+03. This might indicate that there are<br/>strong multicollinearity or other numerical problems."
      ],
      "text/plain": [
       "<class 'statsmodels.iolib.summary.Summary'>\n",
       "\"\"\"\n",
       "                            OLS Regression Results                            \n",
       "==============================================================================\n",
       "Dep. Variable:                   educ   R-squared:                       0.262\n",
       "Model:                            OLS   Adj. R-squared:                  0.258\n",
       "Method:                 Least Squares   F-statistic:                     66.52\n",
       "Date:                lun, 19 sep 2022   Prob (F-statistic):           3.67e-48\n",
       "Time:                        20:40:34   Log-Likelihood:                -1574.1\n",
       "No. Observations:                 753   AIC:                             3158.\n",
       "Df Residuals:                     748   BIC:                             3181.\n",
       "Df Model:                           4                                         \n",
       "Covariance Type:            nonrobust                                         \n",
       "==============================================================================\n",
       "                 coef    std err          t      P>|t|      [0.025      0.975]\n",
       "------------------------------------------------------------------------------\n",
       "Intercept      8.3667      0.267     31.370      0.000       7.843       8.890\n",
       "exper          0.0854      0.026      3.342      0.001       0.035       0.136\n",
       "exper2        -0.0019      0.001     -2.243      0.025      -0.003      -0.000\n",
       "motheduc       0.1856      0.026      7.143      0.000       0.135       0.237\n",
       "fatheduc       0.1846      0.024      7.534      0.000       0.136       0.233\n",
       "==============================================================================\n",
       "Omnibus:                       15.108   Durbin-Watson:                   2.000\n",
       "Prob(Omnibus):                  0.001   Jarque-Bera (JB):               28.196\n",
       "Skew:                           0.005   Prob(JB):                     7.54e-07\n",
       "Kurtosis:                       3.948   Cond. No.                     1.15e+03\n",
       "==============================================================================\n",
       "\n",
       "Notes:\n",
       "[1] Standard Errors assume that the covariance matrix of the errors is correctly specified.\n",
       "[2] The condition number is large, 1.15e+03. This might indicate that there are\n",
       "strong multicollinearity or other numerical problems.\n",
       "\"\"\""
      ]
     },
     "execution_count": 9,
     "metadata": {},
     "output_type": "execute_result"
    }
   ],
   "source": [
    "import statsmodels.formula.api as smf       # Permite ajustar modelos estadísticos utilizando fórmulas de estilo R\n",
    "model = smf.ols(formula = \"educ ~ 1 + exper + exper2 + motheduc + fatheduc\", data=mroz).fit()\n",
    "model.summary()"
   ]
  },
  {
   "cell_type": "code",
   "execution_count": 10,
   "id": "7565e4d6",
   "metadata": {},
   "outputs": [
    {
     "data": {
      "text/html": [
       "<table class=\"simpletable\">\n",
       "<caption>IV-2SLS Estimation Summary</caption>\n",
       "<tr>\n",
       "  <th>Dep. Variable:</th>          <td>lwage</td>      <th>  R-squared:         </th> <td>0.1357</td> \n",
       "</tr>\n",
       "<tr>\n",
       "  <th>Estimator:</th>             <td>IV-2SLS</td>     <th>  Adj. R-squared:    </th> <td>0.1296</td> \n",
       "</tr>\n",
       "<tr>\n",
       "  <th>No. Observations:</th>        <td>428</td>       <th>  F-statistic:       </th> <td>18.611</td> \n",
       "</tr>\n",
       "<tr>\n",
       "  <th>Date:</th>             <td>lun, sep 19 2022</td> <th>  P-value (F-stat)   </th> <td>0.0003</td> \n",
       "</tr>\n",
       "<tr>\n",
       "  <th>Time:</th>                 <td>20:40:34</td>     <th>  Distribution:      </th> <td>chi2(3)</td>\n",
       "</tr>\n",
       "<tr>\n",
       "  <th>Cov. Estimator:</th>        <td>robust</td>      <th>                     </th>    <td></td>    \n",
       "</tr>\n",
       "<tr>\n",
       "  <th></th>                          <td></td>         <th>                     </th>    <td></td>    \n",
       "</tr>\n",
       "</table>\n",
       "<table class=\"simpletable\">\n",
       "<caption>Parameter Estimates</caption>\n",
       "<tr>\n",
       "      <td></td>      <th>Parameter</th> <th>Std. Err.</th> <th>T-stat</th>  <th>P-value</th> <th>Lower CI</th>  <th>Upper CI</th> \n",
       "</tr>\n",
       "<tr>\n",
       "  <th>Intercept</th>  <td>0.0481</td>    <td>0.4278</td>   <td>0.1124</td>  <td>0.9105</td>   <td>-0.7903</td>   <td>0.8865</td>  \n",
       "</tr>\n",
       "<tr>\n",
       "  <th>exper</th>      <td>0.0442</td>    <td>0.0155</td>   <td>2.8546</td>  <td>0.0043</td>   <td>0.0138</td>    <td>0.0745</td>  \n",
       "</tr>\n",
       "<tr>\n",
       "  <th>exper2</th>     <td>-0.0009</td>   <td>0.0004</td>   <td>-2.1001</td> <td>0.0357</td>   <td>-0.0017</td> <td>-5.997e-05</td>\n",
       "</tr>\n",
       "<tr>\n",
       "  <th>educ</th>       <td>0.0614</td>    <td>0.0332</td>   <td>1.8503</td>  <td>0.0643</td>   <td>-0.0036</td>   <td>0.1264</td>  \n",
       "</tr>\n",
       "</table><br/><br/>Endogenous: educ<br/>Instruments: fatheduc, motheduc<br/>Robust Covariance (Heteroskedastic)<br/>Debiased: False<br/>id: 0x7f36c269cb80"
      ],
      "text/plain": [
       "                          IV-2SLS Estimation Summary                          \n",
       "==============================================================================\n",
       "Dep. Variable:                  lwage   R-squared:                      0.1357\n",
       "Estimator:                    IV-2SLS   Adj. R-squared:                 0.1296\n",
       "No. Observations:                 428   F-statistic:                    18.611\n",
       "Date:                lun, sep 19 2022   P-value (F-stat)                0.0003\n",
       "Time:                        20:40:34   Distribution:                  chi2(3)\n",
       "Cov. Estimator:                robust                                         \n",
       "                                                                              \n",
       "                             Parameter Estimates                              \n",
       "==============================================================================\n",
       "            Parameter  Std. Err.     T-stat    P-value    Lower CI    Upper CI\n",
       "------------------------------------------------------------------------------\n",
       "Intercept      0.0481     0.4278     0.1124     0.9105     -0.7903      0.8865\n",
       "exper          0.0442     0.0155     2.8546     0.0043      0.0138      0.0745\n",
       "exper2        -0.0009     0.0004    -2.1001     0.0357     -0.0017  -5.997e-05\n",
       "educ           0.0614     0.0332     1.8503     0.0643     -0.0036      0.1264\n",
       "==============================================================================\n",
       "\n",
       "Endogenous: educ\n",
       "Instruments: fatheduc, motheduc\n",
       "Robust Covariance (Heteroskedastic)\n",
       "Debiased: False\n",
       "IVResults, id: 0x7f36c269cb80"
      ]
     },
     "execution_count": 10,
     "metadata": {},
     "output_type": "execute_result"
    }
   ],
   "source": [
    "mroz.dropna(inplace=True)\n",
    "formulaIV = 'lwage ~ 1 + exper + exper2 + [educ ~ motheduc + fatheduc]'\n",
    "model= IV2SLS.from_formula(formulaIV, mroz)\n",
    "model.fit()"
   ]
  },
  {
   "cell_type": "markdown",
   "id": "221678a4",
   "metadata": {},
   "source": [
    "# Reference\n",
    "Wooldridge, J. M. (2015). Introductory econometrics: A modern approach. Cengage learning."
   ]
  }
 ],
 "metadata": {
  "kernelspec": {
   "display_name": "Python 3 (ipykernel)",
   "language": "python",
   "name": "python3"
  },
  "language_info": {
   "codemirror_mode": {
    "name": "ipython",
    "version": 3
   },
   "file_extension": ".py",
   "mimetype": "text/x-python",
   "name": "python",
   "nbconvert_exporter": "python",
   "pygments_lexer": "ipython3",
   "version": "3.10.4"
  }
 },
 "nbformat": 4,
 "nbformat_minor": 5
}
