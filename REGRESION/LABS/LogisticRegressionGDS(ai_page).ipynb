{
  "nbformat": 4,
  "nbformat_minor": 0,
  "metadata": {
    "colab": {
      "provenance": []
    },
    "kernelspec": {
      "name": "python3",
      "display_name": "Python 3"
    },
    "language_info": {
      "name": "python"
    }
  },
  "cells": [
    {
      "cell_type": "code",
      "source": [
        "# Logistic regression from scratch...\n",
        "# Iván Andrés Trujillo Abella\n",
        "# ivantrujillo1229@gmail.com"
      ],
      "metadata": {
        "id": "1zc2YcElRR_N"
      },
      "execution_count": 7,
      "outputs": []
    },
    {
      "cell_type": "code",
      "source": [
        "import numpy as np\n",
        "import math\n",
        "from statsmodels.tools.tools import add_constant\n",
        "import pandas as pd"
      ],
      "metadata": {
        "id": "PNf00TJVb92F"
      },
      "execution_count": 8,
      "outputs": []
    },
    {
      "cell_type": "code",
      "source": [
        "X = np.array([[0,2,5],\n",
        "              [3,1,6],\n",
        "              [7,8, 10],\n",
        "              [9,10, 22],\n",
        "              [12, 33, 22],\n",
        "              [0.8,  14, 41]])\n",
        "Theta  = np.zeros(X.shape[1]+1) # number of features + 1 to model constant.\n",
        "X = add_constant(X)\n",
        "y = np.array([1,0,0,1, 1, 0])\n",
        "\n",
        "def sigmoid(z):\n",
        "  return 1/(  1 +  np.exp(-z))\n",
        "\n",
        "def predict(Theta, X):\n",
        "  return sigmoid(X @ Theta)\n",
        "\n",
        "def gradient(Theta, X, y):\n",
        "  return (1/X.shape[0]) * ( X.T @ (predict(Theta, X) - y))"
      ],
      "metadata": {
        "id": "NN0MJMikXUIl"
      },
      "execution_count": 9,
      "outputs": []
    },
    {
      "cell_type": "code",
      "source": [
        "def GDS(max_iterations, initial_value, gradient,\n",
        "        learning_rate=0.001,\n",
        "        error_max=0.00000001):\n",
        "  iterations = 0\n",
        "  error = np.array([1])\n",
        "  theta_temp = initial_value.copy()\n",
        "  while iterations < max_iterations and (error > error_max).any():\n",
        "    theta_ = theta_temp.copy()\n",
        "    theta_temp = theta_temp - gradient(theta_temp)*learning_rate\n",
        "    error = abs(theta_ - theta_temp)\n",
        "    iterations +=1 # Save the number of iterations\n",
        "  return theta_temp, iterations"
      ],
      "metadata": {
        "id": "8vom0LpIf0Ad"
      },
      "execution_count": 10,
      "outputs": []
    },
    {
      "cell_type": "code",
      "source": [
        "GDS(max_iterations=100000,\n",
        "    initial_value = np.zeros(X.shape[1]),\n",
        "    gradient = lambda theta: gradient(theta, X,y))"
      ],
      "metadata": {
        "colab": {
          "base_uri": "https://localhost:8080/"
        },
        "id": "bgjsUSKLQx7o",
        "outputId": "96c50f5a-8891-4011-ec2b-e6b1359e8dc4"
      },
      "execution_count": 11,
      "outputs": [
        {
          "output_type": "execute_result",
          "data": {
            "text/plain": [
              "(array([-0.17486772,  0.02056657,  0.16158727, -0.08676071]), 100000)"
            ]
          },
          "metadata": {},
          "execution_count": 11
        }
      ]
    },
    {
      "cell_type": "code",
      "source": [
        "import statsmodels.api as sm\n",
        "log_reg = sm.Logit(y, X).fit()\n",
        "print(log_reg.summary())"
      ],
      "metadata": {
        "id": "WhlMgzRIeYIU",
        "outputId": "29f6c6ee-1bc5-4abc-b2a2-b3d9c5d33662",
        "colab": {
          "base_uri": "https://localhost:8080/"
        }
      },
      "execution_count": 12,
      "outputs": [
        {
          "output_type": "stream",
          "name": "stdout",
          "text": [
            "Optimization terminated successfully.\n",
            "         Current function value: 0.554109\n",
            "         Iterations 7\n",
            "                           Logit Regression Results                           \n",
            "==============================================================================\n",
            "Dep. Variable:                      y   No. Observations:                    6\n",
            "Model:                          Logit   Df Residuals:                        2\n",
            "Method:                           MLE   Df Model:                            3\n",
            "Date:                Mon, 19 Aug 2024   Pseudo R-squ.:                  0.2006\n",
            "Time:                        21:57:53   Log-Likelihood:                -3.3247\n",
            "converged:                       True   LL-Null:                       -4.1589\n",
            "Covariance Type:            nonrobust   LLR p-value:                    0.6440\n",
            "==============================================================================\n",
            "                 coef    std err          z      P>|z|      [0.025      0.975]\n",
            "------------------------------------------------------------------------------\n",
            "const         -0.1761      1.829     -0.096      0.923      -3.761       3.408\n",
            "x1             0.0207      0.323      0.064      0.949      -0.612       0.653\n",
            "x2             0.1615      0.278      0.580      0.562      -0.384       0.707\n",
            "x3            -0.0867      0.124     -0.698      0.485      -0.330       0.157\n",
            "==============================================================================\n"
          ]
        }
      ]
    }
  ]
}