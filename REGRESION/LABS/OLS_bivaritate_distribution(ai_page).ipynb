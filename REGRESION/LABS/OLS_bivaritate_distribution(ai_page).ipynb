{
  "nbformat": 4,
  "nbformat_minor": 0,
  "metadata": {
    "colab": {
      "provenance": []
    },
    "kernelspec": {
      "name": "python3",
      "display_name": "Python 3"
    },
    "language_info": {
      "name": "python"
    }
  },
  "cells": [
    {
      "cell_type": "code",
      "execution_count": 68,
      "metadata": {
        "id": "hOu8v75dSEX6"
      },
      "outputs": [],
      "source": [
        "# iván andrés trujillo abella\n",
        "# ivantrujillo1229@gmail.com"
      ]
    },
    {
      "cell_type": "code",
      "source": [
        "# What happend if random not is used...\n",
        "import numpy as np\n",
        "import pandas as pd\n",
        "import matplotlib.pyplot as plt\n",
        "import statsmodels.api as sm"
      ],
      "metadata": {
        "id": "_zuBVotWSNpq"
      },
      "execution_count": 69,
      "outputs": []
    },
    {
      "cell_type": "code",
      "source": [
        "## Simulating statistical properties of variance and expected value\n",
        "b1 = 13.5\n",
        "b0 = 3.4\n",
        "sigma_squared = 12\n",
        "sample = 35\n",
        "X = np.linspace(-5,5, sample)\n",
        "trials = 100000\n",
        "\n",
        "def fit_parameters(x,y):\n",
        "    y_mean = np.mean(y)\n",
        "    x_mean = np.mean(x)\n",
        "    return np.sum((x - x_mean) * (y - y_mean)) /  np.sum((x - x_mean) ** 2)\n",
        "\n",
        "estimations = []\n",
        "for _ in range(trials):\n",
        "    # Generate a new error term for each trial\n",
        "    error = np.random.normal(0, np.sqrt(sigma_squared), sample)\n",
        "    y = b0 + b1 * X + error\n",
        "\n",
        "    # Randomly sample indices and estimate b1\n",
        "    estimations.append(fit_parameters(X, y))\n",
        "sampling_mean = np.mean(estimations)\n",
        "empirical = np.var(estimations, ddof=1)\n",
        "theorical = sigma_squared / np.sum((X - np.mean(X))**2)\n",
        "empirical, theorical\n",
        "print(r'expected value of slope$', sampling_mean,  'difference in varaince theorical and empirical', (abs((empirical - theorical) )/theorical)*100 )"
      ],
      "metadata": {
        "colab": {
          "base_uri": "https://localhost:8080/"
        },
        "id": "g12CWA7ONmz9",
        "outputId": "d21b6276-5cbc-41a6-beef-f947c09342af"
      },
      "execution_count": 70,
      "outputs": [
        {
          "output_type": "stream",
          "name": "stdout",
          "text": [
            "expected value of slope$ 13.49987438091365 difference in varaince theorical and empirical 0.04589726327589579\n"
          ]
        }
      ]
    },
    {
      "cell_type": "code",
      "source": [
        "plt.hist(estimations)\n",
        "plt.title(r\"Sampling distribution of $\\hat{\\beta}_{1} =  $\" + f\"{round(sampling_mean,2)}\")"
      ],
      "metadata": {
        "colab": {
          "base_uri": "https://localhost:8080/",
          "height": 478
        },
        "id": "n3fj66Hejt0h",
        "outputId": "0012ab96-62ba-4cd2-f78a-5ee1c4967e9d"
      },
      "execution_count": 71,
      "outputs": [
        {
          "output_type": "execute_result",
          "data": {
            "text/plain": [
              "Text(0.5, 1.0, 'Sampling distribution of $\\\\hat{\\\\beta}_{1} =  $13.5')"
            ]
          },
          "metadata": {},
          "execution_count": 71
        },
        {
          "output_type": "display_data",
          "data": {
            "text/plain": [
              "<Figure size 640x480 with 1 Axes>"
            ],
            "image/png": "[encoded data removed]"
          },
          "metadata": {}
        }
      ]
    }
  ]
}