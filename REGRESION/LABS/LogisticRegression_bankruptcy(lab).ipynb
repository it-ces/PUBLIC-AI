{
  "nbformat": 4,
  "nbformat_minor": 0,
  "metadata": {
    "colab": {
      "provenance": []
    },
    "kernelspec": {
      "name": "python3",
      "display_name": "Python 3"
    },
    "language_info": {
      "name": "python"
    }
  },
  "cells": [
    {
      "cell_type": "code",
      "source": [
        "## 18-jun-2023\n",
        "## Author: Iván Andrés Trujillo Abella"
      ],
      "metadata": {
        "id": "xeE00Cy2bHJ9"
      },
      "execution_count": 20,
      "outputs": []
    },
    {
      "cell_type": "code",
      "execution_count": 21,
      "metadata": {
        "id": "YXTdc6rk_m5n"
      },
      "outputs": [],
      "source": [
        "import pandas as pd\n",
        "\n",
        "# For processing data\n",
        "from sklearn.preprocessing import OneHotEncoder, OrdinalEncoder\n",
        "import pandas as pd\n",
        "from sklearn.model_selection import train_test_split\n",
        "import os\n",
        "from scipy import stats\n",
        "\n",
        "\n",
        "## To modeling\n",
        "from sklearn import linear_model\n",
        "from sklearn.linear_model import LogisticRegression\n",
        "from sklearn.model_selection import RepeatedStratifiedKFold\n",
        "from sklearn.model_selection import GridSearchCV\n",
        "\n",
        "# Assesment\n",
        "from sklearn.metrics import classification_report, accuracy_score, precision_recall_fscore_support, confusion_matrix, precision_score, recall_score, roc_auc_score\n",
        "\n",
        "\n",
        "def Xy(df,target):\n",
        "    \"\"\"\n",
        "    Split the data in X,y to ML implementations\n",
        "    \"\"\"\n",
        "    X = df.loc[ : , df.columns != target]\n",
        "    y = df[target].astype('int')\n",
        "    return X,y\n",
        "\n",
        "\n",
        "## Models\n",
        "# Grid search hyperparameters for a logistic regression model\n",
        "def grid_lr(X_train, y_train):\n",
        "    model = LogisticRegression(random_state=666, max_iter=1000)\n",
        "    class_weight =  [{0:0.05, 1:0.95}, {0:0.1, 1:0.9}, {0:0.2, 1:0.8}]\n",
        "    solvers = ['liblinear']\n",
        "    penalty = ['l2','l1']\n",
        "    c_values = [ 10, 1.0, 0.1, 0.01, 0.001, ]\n",
        "    grid = dict(solver=solvers,penalty=penalty,C=c_values, class_weight= class_weight)\n",
        "    cv = RepeatedStratifiedKFold(n_splits=10, n_repeats=3, random_state=1)\n",
        "    grid_search = GridSearchCV(estimator=model, param_grid=grid, n_jobs=-1, cv=cv,\n",
        "                           scoring='f1',error_score='raise')\n",
        "    grid_result = grid_search.fit(X_train, y_train)\n",
        "    return  grid_result.best_estimator_"
      ]
    },
    {
      "cell_type": "code",
      "source": [
        "url = \"https://raw.githubusercontent.com/it-ces/Datasets/main/basesuper.csv\""
      ],
      "metadata": {
        "id": "hjAWFkfF_xM3"
      },
      "execution_count": 22,
      "outputs": []
    },
    {
      "cell_type": "code",
      "source": [
        "df  = pd.read_csv(url)"
      ],
      "metadata": {
        "id": "naV0Tb6K_yqh"
      },
      "execution_count": 23,
      "outputs": []
    },
    {
      "cell_type": "code",
      "source": [
        "# Build financial ratios...\n",
        "features = ['Activos corrientes totales', 'Pasivos corrientes totales' , 'Ganancia bruta', 'Patrimonio total', 'Total pasivos', 'Total de patrimonio y pasivos', 'y']\n",
        "df = df[features]\n",
        "df.dropna(inplace=True)\n",
        "df['razon_corriente']=  df['Activos corrientes totales'] / df['Pasivos corrientes totales']\n",
        "df['rentabilidad_patrimonio'] = df['Ganancia bruta'] / df['Patrimonio total']\n",
        "df['endeudamiento'] = df['Total pasivos'] / df[ 'Total de patrimonio y pasivos']\n",
        "df['short_run_apalancamiento'] = df['Pasivos corrientes totales'] / df['Patrimonio total']\n",
        "\n",
        "featuresy = ['razon_corriente', 'rentabilidad_patrimonio', 'endeudamiento' ,'short_run_apalancamiento' ,'y']\n",
        "df = df[featuresy]\n",
        "df.dropna(inplace=True)\n",
        "\n",
        "\n",
        "import pandas as pd\n",
        "import numpy as np\n",
        "\n",
        "def clean(df):\n",
        "    index = ~df.isin([ np.inf, -np.inf]).any(axis=1)\n",
        "    return df[index].astype(np.float64)\n",
        "\n",
        "df = clean(df)"
      ],
      "metadata": {
        "id": "1FMQj07jONsR"
      },
      "execution_count": 24,
      "outputs": []
    },
    {
      "cell_type": "code",
      "source": [
        "X,y = Xy(df, 'y')"
      ],
      "metadata": {
        "id": "vdW7fEmjZKTI"
      },
      "execution_count": 25,
      "outputs": []
    },
    {
      "cell_type": "code",
      "source": [
        "X_train, X_test, y_train, y_test = train_test_split(X, y, test_size=0.2, shuffle = True, random_state = 666, stratify=y)"
      ],
      "metadata": {
        "id": "HZgkWSrjdQpr"
      },
      "execution_count": 26,
      "outputs": []
    },
    {
      "cell_type": "code",
      "source": [
        "## Logistic regression implementation\n",
        "best_model = grid_lr(X_train, y_train) #entreno el modelo con X_train y y_train\n",
        "preds = best_model.predict(X_test)\n",
        "print(classification_report(preds, y_test))  # recall igual a sensibilidad"
      ],
      "metadata": {
        "colab": {
          "base_uri": "https://localhost:8080/"
        },
        "id": "bTlpjQgGhpAm",
        "outputId": "5753c818-3fdd-429b-a280-f9d415c04691"
      },
      "execution_count": 27,
      "outputs": [
        {
          "output_type": "stream",
          "name": "stdout",
          "text": [
            "              precision    recall  f1-score   support\n",
            "\n",
            "           0       0.99      0.99      0.99      2518\n",
            "           1       0.00      0.00      0.00        24\n",
            "\n",
            "    accuracy                           0.98      2542\n",
            "   macro avg       0.50      0.49      0.49      2542\n",
            "weighted avg       0.98      0.98      0.98      2542\n",
            "\n"
          ]
        }
      ]
    },
    {
      "cell_type": "code",
      "source": [
        "! pip install imbalanced-learn"
      ],
      "metadata": {
        "colab": {
          "base_uri": "https://localhost:8080/"
        },
        "id": "HwqwFUq_s-Yc",
        "outputId": "8e962c09-e8dd-42f1-9708-e185b3b1cf2d"
      },
      "execution_count": 28,
      "outputs": [
        {
          "output_type": "stream",
          "name": "stdout",
          "text": [
            "Looking in indexes: https://pypi.org/simple, https://us-python.pkg.dev/colab-wheels/public/simple/\n",
            "Requirement already satisfied: imbalanced-learn in /usr/local/lib/python3.10/dist-packages (0.10.1)\n",
            "Requirement already satisfied: numpy>=1.17.3 in /usr/local/lib/python3.10/dist-packages (from imbalanced-learn) (1.22.4)\n",
            "Requirement already satisfied: scipy>=1.3.2 in /usr/local/lib/python3.10/dist-packages (from imbalanced-learn) (1.10.1)\n",
            "Requirement already satisfied: scikit-learn>=1.0.2 in /usr/local/lib/python3.10/dist-packages (from imbalanced-learn) (1.2.2)\n",
            "Requirement already satisfied: joblib>=1.1.1 in /usr/local/lib/python3.10/dist-packages (from imbalanced-learn) (1.2.0)\n",
            "Requirement already satisfied: threadpoolctl>=2.0.0 in /usr/local/lib/python3.10/dist-packages (from imbalanced-learn) (3.1.0)\n"
          ]
        }
      ]
    },
    {
      "cell_type": "code",
      "source": [
        "# Undersampling\n",
        "from imblearn.under_sampling import RandomUnderSampler\n",
        "rus = RandomUnderSampler(random_state=1234)\n",
        "X_res, y_res = rus.fit_resample(X, y)"
      ],
      "metadata": {
        "id": "j3y98jnEs_Tr"
      },
      "execution_count": 29,
      "outputs": []
    },
    {
      "cell_type": "code",
      "source": [
        "y_res.value_counts()"
      ],
      "metadata": {
        "colab": {
          "base_uri": "https://localhost:8080/"
        },
        "id": "3N6qEliquqO4",
        "outputId": "ef649453-467c-4a76-f6dd-e65f95439ad3"
      },
      "execution_count": 30,
      "outputs": [
        {
          "output_type": "execute_result",
          "data": {
            "text/plain": [
              "0    174\n",
              "1    174\n",
              "Name: y, dtype: int64"
            ]
          },
          "metadata": {},
          "execution_count": 30
        }
      ]
    },
    {
      "cell_type": "code",
      "source": [
        "X_train, X_test, y_train, y_test = train_test_split(X_res, y_res, test_size=0.2, shuffle = True, random_state = 666, stratify=y_res)\n",
        "## Logistic regression implementation\n",
        "best_model = grid_lr(X_train, y_train) #entreno el modelo con X_train y y_train\n",
        "preds = best_model.predict(X_test)\n",
        "print(classification_report(preds, y_test))  # recall igual a sensibilidad"
      ],
      "metadata": {
        "colab": {
          "base_uri": "https://localhost:8080/"
        },
        "id": "JazC0389vKZv",
        "outputId": "5b493157-2c8f-499e-fef2-2bd77038458f"
      },
      "execution_count": 31,
      "outputs": [
        {
          "output_type": "stream",
          "name": "stdout",
          "text": [
            "              precision    recall  f1-score   support\n",
            "\n",
            "           0       0.23      0.80      0.36        10\n",
            "           1       0.94      0.55      0.69        60\n",
            "\n",
            "    accuracy                           0.59        70\n",
            "   macro avg       0.59      0.68      0.53        70\n",
            "weighted avg       0.84      0.59      0.65        70\n",
            "\n"
          ]
        }
      ]
    },
    {
      "cell_type": "markdown",
      "source": [],
      "metadata": {
        "id": "q9_ojOQTOfRh"
      }
    }
  ]
}