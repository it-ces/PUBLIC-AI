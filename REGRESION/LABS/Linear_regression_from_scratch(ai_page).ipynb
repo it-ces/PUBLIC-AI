{
  "nbformat": 4,
  "nbformat_minor": 0,
  "metadata": {
    "colab": {
      "provenance": []
    },
    "kernelspec": {
      "name": "python3",
      "display_name": "Python 3"
    },
    "language_info": {
      "name": "python"
    }
  },
  "cells": [
    {
      "cell_type": "code",
      "source": [
        "# Iván Andrés Trujillo Abella\n",
        "# ivantrujillo1229@gmail.com"
      ],
      "metadata": {
        "id": "xhLhA-sXr__V"
      },
      "execution_count": 9,
      "outputs": []
    },
    {
      "cell_type": "code",
      "execution_count": 1,
      "metadata": {
        "id": "IpYDllJi2DOf"
      },
      "outputs": [],
      "source": [
        "import numpy as np\n",
        "from statsmodels.tools.tools import add_constant"
      ]
    },
    {
      "cell_type": "code",
      "source": [
        "Theta = np.array([1, 0, 3, 2])"
      ],
      "metadata": {
        "id": "TMtWl20C2JE3"
      },
      "execution_count": 2,
      "outputs": []
    },
    {
      "cell_type": "code",
      "source": [
        "X = np.array([[10, 11, 2],\n",
        "             [3, 3, 4],\n",
        "             [4, 1 , 3],\n",
        "             [6,1 ,3 ],\n",
        "             [4,5, 1],\n",
        "              [3, 4.5, 1.1]])\n",
        "y  = np.array([32, 21, 33, 12, 8, 22])\n",
        "X = add_constant(X)"
      ],
      "metadata": {
        "id": "2Fa0Hegf2PGp"
      },
      "execution_count": 3,
      "outputs": []
    },
    {
      "cell_type": "code",
      "source": [
        "def predict(X, Theta):\n",
        "  return X@Theta"
      ],
      "metadata": {
        "id": "3TcO5EAr2ckw"
      },
      "execution_count": 4,
      "outputs": []
    },
    {
      "cell_type": "code",
      "source": [
        "def gradient(X, y, Theta):\n",
        "  N = X.shape[0]\n",
        "  return (1/N) * X.T @ (predict(X,Theta) - y)"
      ],
      "metadata": {
        "id": "niLvcrFP3XfG"
      },
      "execution_count": 5,
      "outputs": []
    },
    {
      "cell_type": "code",
      "source": [
        "def GDS(max_iterations, initial_value, gradient,\n",
        "        learning_rate=0.001,\n",
        "        error_max=0.00000001):\n",
        "  iterations = 0\n",
        "  error = np.array([1])\n",
        "  theta_temp = initial_value.copy()\n",
        "  while iterations < max_iterations and (error > error_max).any():\n",
        "    theta_ = theta_temp.copy()\n",
        "    theta_temp = theta_temp - gradient(theta_temp)*learning_rate\n",
        "    error = abs(theta_ - theta_temp)\n",
        "    iterations +=1 # Save the number of iterations\n",
        "  return theta_temp, iterations"
      ],
      "metadata": {
        "id": "gCKgn5pi34b3"
      },
      "execution_count": 6,
      "outputs": []
    },
    {
      "cell_type": "code",
      "source": [
        "GDS(max_iterations=100000,\n",
        "    initial_value=Theta,\n",
        "    learning_rate= 0.01,\n",
        "    gradient = lambda Theta: gradient(X=X, y = y , Theta = Theta))"
      ],
      "metadata": {
        "colab": {
          "base_uri": "https://localhost:8080/"
        },
        "id": "1_cD0LCt5f_k",
        "outputId": "7bbee37f-4d14-4276-e2f8-9153ca280170"
      },
      "execution_count": 7,
      "outputs": [
        {
          "output_type": "execute_result",
          "data": {
            "text/plain": [
              "(array([6.07273918, 0.10813256, 1.30813935, 3.89801621]), 16520)"
            ]
          },
          "metadata": {},
          "execution_count": 7
        }
      ]
    },
    {
      "cell_type": "code",
      "source": [
        "import numpy as np\n",
        "import statsmodels.api as sm\n",
        "mod = sm.OLS(y, X)\n",
        "res = mod.fit()\n",
        "print(res.summary())"
      ],
      "metadata": {
        "colab": {
          "base_uri": "https://localhost:8080/"
        },
        "id": "vAuAxgE76IBW",
        "outputId": "f6114497-5cff-4d94-f351-c284989c73e0"
      },
      "execution_count": 8,
      "outputs": [
        {
          "output_type": "stream",
          "name": "stdout",
          "text": [
            "                            OLS Regression Results                            \n",
            "==============================================================================\n",
            "Dep. Variable:                      y   R-squared:                       0.258\n",
            "Model:                            OLS   Adj. R-squared:                 -0.855\n",
            "Method:                 Least Squares   F-statistic:                    0.2318\n",
            "Date:                Mon, 19 Aug 2024   Prob (F-statistic):              0.869\n",
            "Time:                        22:03:38   Log-Likelihood:                -20.978\n",
            "No. Observations:                   6   AIC:                             49.96\n",
            "Df Residuals:                       2   BIC:                             49.12\n",
            "Df Model:                           3                                         \n",
            "Covariance Type:            nonrobust                                         \n",
            "==============================================================================\n",
            "                 coef    std err          t      P>|t|      [0.025      0.975]\n",
            "------------------------------------------------------------------------------\n",
            "const          6.0728     19.712      0.308      0.787     -78.740      90.886\n",
            "x1             0.1081      3.506      0.031      0.978     -14.976      15.193\n",
            "x2             1.3081      2.833      0.462      0.690     -10.882      13.498\n",
            "x3             3.8980      6.306      0.618      0.599     -23.233      31.029\n",
            "==============================================================================\n",
            "Omnibus:                          nan   Durbin-Watson:                   2.757\n",
            "Prob(Omnibus):                    nan   Jarque-Bera (JB):                0.535\n",
            "Skew:                           0.439   Prob(JB):                        0.765\n",
            "Kurtosis:                       1.830   Cond. No.                         28.3\n",
            "==============================================================================\n",
            "\n",
            "Notes:\n",
            "[1] Standard Errors assume that the covariance matrix of the errors is correctly specified.\n"
          ]
        },
        {
          "output_type": "stream",
          "name": "stderr",
          "text": [
            "/usr/local/lib/python3.10/dist-packages/statsmodels/stats/stattools.py:74: ValueWarning: omni_normtest is not valid with less than 8 observations; 6 samples were given.\n",
            "  warn(\"omni_normtest is not valid with less than 8 observations; %i \"\n"
          ]
        }
      ]
    }
  ]
}