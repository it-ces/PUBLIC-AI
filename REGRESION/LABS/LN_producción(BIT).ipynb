{
  "nbformat": 4,
  "nbformat_minor": 0,
  "metadata": {
    "colab": {
      "provenance": [],
      "include_colab_link": true
    },
    "kernelspec": {
      "name": "python3",
      "display_name": "Python 3"
    },
    "language_info": {
      "name": "python"
    }
  },
  "cells": [
    {
      "cell_type": "markdown",
      "metadata": {
        "id": "view-in-github",
        "colab_type": "text"
      },
      "source": [
        "<a href=\"https://colab.research.google.com/github/it-ces/PUBLIC-AI/blob/main/REGRESION/LABS/LN_producci%C3%B3n(BIT).ipynb\" target=\"_parent\"><img src=\"https://colab.research.google.com/assets/colab-badge.svg\" alt=\"Open In Colab\"/></a>"
      ]
    },
    {
      "cell_type": "code",
      "execution_count": 7,
      "metadata": {
        "id": "Ox4DaAooOoSj"
      },
      "outputs": [],
      "source": [
        "url = \"https://raw.githubusercontent.com/it-ces/PUBLIC-AI/main/REGRESION/cobb-douglas-firm.csv\""
      ]
    },
    {
      "cell_type": "code",
      "source": [
        "import pandas as pd"
      ],
      "metadata": {
        "id": "hHz4VCD4PAZ0"
      },
      "execution_count": 8,
      "outputs": []
    },
    {
      "cell_type": "code",
      "source": [
        "df = pd.read_csv(url)"
      ],
      "metadata": {
        "id": "wpA1pjkvPB6e"
      },
      "execution_count": 9,
      "outputs": []
    },
    {
      "cell_type": "code",
      "source": [
        "import numpy as np\n",
        "import statsmodels.api as sm\n",
        "X  = df[['K', 'L']]\n",
        "X = sm.add_constant(X, prepend=False)\n",
        "# if the variables are logaritmically then are interpreted as elasticities..\n",
        "mod=sm.OLS(df['y'], X)\n",
        "res = mod.fit()\n",
        "print(res.summary())"
      ],
      "metadata": {
        "colab": {
          "base_uri": "https://localhost:8080/"
        },
        "id": "tyTE6TLNPEKl",
        "outputId": "7b3db76a-2f7c-4e70-c1e2-51ea4a01c189"
      },
      "execution_count": 10,
      "outputs": [
        {
          "output_type": "stream",
          "name": "stdout",
          "text": [
            "                            OLS Regression Results                            \n",
            "==============================================================================\n",
            "Dep. Variable:                      y   R-squared:                       0.592\n",
            "Model:                            OLS   Adj. R-squared:                  0.584\n",
            "Method:                 Least Squares   F-statistic:                     70.37\n",
            "Date:                Wed, 09 Jul 2025   Prob (F-statistic):           1.31e-19\n",
            "Time:                        18:57:28   Log-Likelihood:                -165.05\n",
            "No. Observations:                 100   AIC:                             336.1\n",
            "Df Residuals:                      97   BIC:                             343.9\n",
            "Df Model:                           2                                         \n",
            "Covariance Type:            nonrobust                                         \n",
            "==============================================================================\n",
            "                 coef    std err          t      P>|t|      [0.025      0.975]\n",
            "------------------------------------------------------------------------------\n",
            "K              0.7418      0.130      5.694      0.000       0.483       1.000\n",
            "L              0.4973      0.052      9.575      0.000       0.394       0.600\n",
            "const         -0.4462      1.316     -0.339      0.735      -3.057       2.165\n",
            "==============================================================================\n",
            "Omnibus:                       14.714   Durbin-Watson:                   1.921\n",
            "Prob(Omnibus):                  0.001   Jarque-Bera (JB):               16.287\n",
            "Skew:                           0.949   Prob(JB):                     0.000291\n",
            "Kurtosis:                       3.552   Cond. No.                         113.\n",
            "==============================================================================\n",
            "\n",
            "Notes:\n",
            "[1] Standard Errors assume that the covariance matrix of the errors is correctly specified.\n"
          ]
        }
      ]
    },
    {
      "cell_type": "code",
      "source": [
        "df = df.transform(lambda x: np.log(x))"
      ],
      "metadata": {
        "colab": {
          "base_uri": "https://localhost:8080/"
        },
        "id": "YMrjOb0hPbd9",
        "outputId": "82596ad1-16c3-4234-b7e6-e9deac7b5475"
      },
      "execution_count": 11,
      "outputs": [
        {
          "output_type": "stream",
          "name": "stderr",
          "text": [
            "/usr/local/lib/python3.11/dist-packages/pandas/core/arraylike.py:399: RuntimeWarning: divide by zero encountered in log\n",
            "  result = getattr(ufunc, method)(*inputs, **kwargs)\n"
          ]
        }
      ]
    },
    {
      "cell_type": "code",
      "source": [
        "X  = df[['K', 'L']]\n",
        "X = sm.add_constant(X, prepend=False)\n",
        "# if the variables are logaritmically then are interpreted as elasticities..\n",
        "mod=sm.OLS(df['y'], X)\n",
        "res = mod.fit()\n",
        "print(res.summary())"
      ],
      "metadata": {
        "colab": {
          "base_uri": "https://localhost:8080/"
        },
        "id": "eLO0d0tKR0aO",
        "outputId": "358355be-0dc9-4b9d-d194-83c0f6fc8a63"
      },
      "execution_count": 12,
      "outputs": [
        {
          "output_type": "stream",
          "name": "stdout",
          "text": [
            "                            OLS Regression Results                            \n",
            "==============================================================================\n",
            "Dep. Variable:                      y   R-squared:                       0.653\n",
            "Model:                            OLS   Adj. R-squared:                  0.646\n",
            "Method:                 Least Squares   F-statistic:                     91.47\n",
            "Date:                Wed, 09 Jul 2025   Prob (F-statistic):           4.75e-23\n",
            "Time:                        18:57:28   Log-Likelihood:                 59.170\n",
            "No. Observations:                 100   AIC:                            -112.3\n",
            "Df Residuals:                      97   BIC:                            -104.5\n",
            "Df Model:                           2                                         \n",
            "Covariance Type:            nonrobust                                         \n",
            "==============================================================================\n",
            "                 coef    std err          t      P>|t|      [0.025      0.975]\n",
            "------------------------------------------------------------------------------\n",
            "K              0.7113      0.140      5.094      0.000       0.434       0.988\n",
            "L              0.1805      0.016     11.492      0.000       0.149       0.212\n",
            "const          0.3356      0.321      1.047      0.298      -0.301       0.972\n",
            "==============================================================================\n",
            "Omnibus:                        5.691   Durbin-Watson:                   1.961\n",
            "Prob(Omnibus):                  0.058   Jarque-Bera (JB):                5.827\n",
            "Skew:                           0.579   Prob(JB):                       0.0543\n",
            "Kurtosis:                       2.763   Cond. No.                         71.0\n",
            "==============================================================================\n",
            "\n",
            "Notes:\n",
            "[1] Standard Errors assume that the covariance matrix of the errors is correctly specified.\n"
          ]
        }
      ]
    },
    {
      "cell_type": "code",
      "source": [
        "print(0.7113 + 0.1805)"
      ],
      "metadata": {
        "colab": {
          "base_uri": "https://localhost:8080/"
        },
        "id": "o14_ZPhkSZrt",
        "outputId": "ddfff5bf-2c3c-495b-e3ad-86d73e654957"
      },
      "execution_count": 13,
      "outputs": [
        {
          "output_type": "stream",
          "name": "stdout",
          "text": [
            "0.8918\n"
          ]
        }
      ]
    },
    {
      "cell_type": "code",
      "source": [
        "import statsmodels.formula.api as smf"
      ],
      "metadata": {
        "id": "HvP8Z29AjCso"
      },
      "execution_count": 14,
      "outputs": []
    },
    {
      "cell_type": "code",
      "source": [
        "print(smf.ols(formula='y ~ K + L', data = df).fit().summary())"
      ],
      "metadata": {
        "id": "g-LS_CbPjNPu",
        "outputId": "7612d276-a078-4b0a-d6ce-acc00796466d",
        "colab": {
          "base_uri": "https://localhost:8080/"
        }
      },
      "execution_count": 17,
      "outputs": [
        {
          "output_type": "stream",
          "name": "stdout",
          "text": [
            "                            OLS Regression Results                            \n",
            "==============================================================================\n",
            "Dep. Variable:                      y   R-squared:                       0.653\n",
            "Model:                            OLS   Adj. R-squared:                  0.646\n",
            "Method:                 Least Squares   F-statistic:                     91.47\n",
            "Date:                Wed, 09 Jul 2025   Prob (F-statistic):           4.75e-23\n",
            "Time:                        18:58:11   Log-Likelihood:                 59.170\n",
            "No. Observations:                 100   AIC:                            -112.3\n",
            "Df Residuals:                      97   BIC:                            -104.5\n",
            "Df Model:                           2                                         \n",
            "Covariance Type:            nonrobust                                         \n",
            "==============================================================================\n",
            "                 coef    std err          t      P>|t|      [0.025      0.975]\n",
            "------------------------------------------------------------------------------\n",
            "Intercept      0.3356      0.321      1.047      0.298      -0.301       0.972\n",
            "K              0.7113      0.140      5.094      0.000       0.434       0.988\n",
            "L              0.1805      0.016     11.492      0.000       0.149       0.212\n",
            "==============================================================================\n",
            "Omnibus:                        5.691   Durbin-Watson:                   1.961\n",
            "Prob(Omnibus):                  0.058   Jarque-Bera (JB):                5.827\n",
            "Skew:                           0.579   Prob(JB):                       0.0543\n",
            "Kurtosis:                       2.763   Cond. No.                         71.0\n",
            "==============================================================================\n",
            "\n",
            "Notes:\n",
            "[1] Standard Errors assume that the covariance matrix of the errors is correctly specified.\n"
          ]
        }
      ]
    }
  ]
}