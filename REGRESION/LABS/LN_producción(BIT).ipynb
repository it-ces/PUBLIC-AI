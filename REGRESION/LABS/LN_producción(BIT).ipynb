{
  "nbformat": 4,
  "nbformat_minor": 0,
  "metadata": {
    "colab": {
      "provenance": []
    },
    "kernelspec": {
      "name": "python3",
      "display_name": "Python 3"
    },
    "language_info": {
      "name": "python"
    }
  },
  "cells": [
    {
      "cell_type": "code",
      "execution_count": 1,
      "metadata": {
        "id": "Ox4DaAooOoSj"
      },
      "outputs": [],
      "source": [
        "url = \"https://raw.githubusercontent.com/it-ces/PUBLIC-AI/main/REGRESION/cobb-douglas-firm.csv\""
      ]
    },
    {
      "cell_type": "code",
      "source": [
        "import pandas as pd"
      ],
      "metadata": {
        "id": "hHz4VCD4PAZ0"
      },
      "execution_count": 2,
      "outputs": []
    },
    {
      "cell_type": "code",
      "source": [
        "df = pd.read_csv(url)"
      ],
      "metadata": {
        "id": "wpA1pjkvPB6e"
      },
      "execution_count": 3,
      "outputs": []
    },
    {
      "cell_type": "code",
      "source": [
        "import numpy as np\n",
        "import statsmodels.api as sm\n",
        "X  = df[['K', 'L']]\n",
        "X = sm.add_constant(X, prepend=False)\n",
        "# if the variables are logaritmically then are interpreted as elasticities..\n",
        "mod=sm.OLS(df['y'], X)\n",
        "res = mod.fit()\n",
        "print(res.summary())"
      ],
      "metadata": {
        "colab": {
          "base_uri": "https://localhost:8080/"
        },
        "id": "tyTE6TLNPEKl",
        "outputId": "f4a5e2ca-de2a-42e4-cc59-2522e633e72b"
      },
      "execution_count": 4,
      "outputs": [
        {
          "output_type": "stream",
          "name": "stdout",
          "text": [
            "                            OLS Regression Results                            \n",
            "==============================================================================\n",
            "Dep. Variable:                      y   R-squared:                       0.592\n",
            "Model:                            OLS   Adj. R-squared:                  0.584\n",
            "Method:                 Least Squares   F-statistic:                     70.37\n",
            "Date:                Thu, 20 Jul 2023   Prob (F-statistic):           1.31e-19\n",
            "Time:                        18:05:41   Log-Likelihood:                -165.05\n",
            "No. Observations:                 100   AIC:                             336.1\n",
            "Df Residuals:                      97   BIC:                             343.9\n",
            "Df Model:                           2                                         \n",
            "Covariance Type:            nonrobust                                         \n",
            "==============================================================================\n",
            "                 coef    std err          t      P>|t|      [0.025      0.975]\n",
            "------------------------------------------------------------------------------\n",
            "K              0.7418      0.130      5.694      0.000       0.483       1.000\n",
            "L              0.4973      0.052      9.575      0.000       0.394       0.600\n",
            "const         -0.4462      1.316     -0.339      0.735      -3.057       2.165\n",
            "==============================================================================\n",
            "Omnibus:                       14.714   Durbin-Watson:                   1.921\n",
            "Prob(Omnibus):                  0.001   Jarque-Bera (JB):               16.287\n",
            "Skew:                           0.949   Prob(JB):                     0.000291\n",
            "Kurtosis:                       3.552   Cond. No.                         113.\n",
            "==============================================================================\n",
            "\n",
            "Notes:\n",
            "[1] Standard Errors assume that the covariance matrix of the errors is correctly specified.\n"
          ]
        }
      ]
    },
    {
      "cell_type": "code",
      "source": [
        "df = df.transform(lambda x: np.log(x))"
      ],
      "metadata": {
        "colab": {
          "base_uri": "https://localhost:8080/"
        },
        "id": "YMrjOb0hPbd9",
        "outputId": "40c9d8bc-3df1-4844-c33f-274927caf9b8"
      },
      "execution_count": 5,
      "outputs": [
        {
          "output_type": "stream",
          "name": "stderr",
          "text": [
            "/usr/local/lib/python3.10/dist-packages/pandas/core/arraylike.py:402: RuntimeWarning: divide by zero encountered in log\n",
            "  result = getattr(ufunc, method)(*inputs, **kwargs)\n"
          ]
        }
      ]
    },
    {
      "cell_type": "code",
      "source": [
        "X  = df[['K', 'L']]\n",
        "X = sm.add_constant(X, prepend=False)\n",
        "# if the variables are logaritmically then are interpreted as elasticities..\n",
        "mod=sm.OLS(df['y'], X)\n",
        "res = mod.fit()\n",
        "print(res.summary())"
      ],
      "metadata": {
        "colab": {
          "base_uri": "https://localhost:8080/"
        },
        "id": "eLO0d0tKR0aO",
        "outputId": "c6ba209e-4623-4826-d92d-e4fe57426739"
      },
      "execution_count": 6,
      "outputs": [
        {
          "output_type": "stream",
          "name": "stdout",
          "text": [
            "                            OLS Regression Results                            \n",
            "==============================================================================\n",
            "Dep. Variable:                      y   R-squared:                       0.653\n",
            "Model:                            OLS   Adj. R-squared:                  0.646\n",
            "Method:                 Least Squares   F-statistic:                     91.47\n",
            "Date:                Thu, 20 Jul 2023   Prob (F-statistic):           4.75e-23\n",
            "Time:                        18:05:41   Log-Likelihood:                 59.170\n",
            "No. Observations:                 100   AIC:                            -112.3\n",
            "Df Residuals:                      97   BIC:                            -104.5\n",
            "Df Model:                           2                                         \n",
            "Covariance Type:            nonrobust                                         \n",
            "==============================================================================\n",
            "                 coef    std err          t      P>|t|      [0.025      0.975]\n",
            "------------------------------------------------------------------------------\n",
            "K              0.7113      0.140      5.094      0.000       0.434       0.988\n",
            "L              0.1805      0.016     11.492      0.000       0.149       0.212\n",
            "const          0.3356      0.321      1.047      0.298      -0.301       0.972\n",
            "==============================================================================\n",
            "Omnibus:                        5.691   Durbin-Watson:                   1.961\n",
            "Prob(Omnibus):                  0.058   Jarque-Bera (JB):                5.827\n",
            "Skew:                           0.579   Prob(JB):                       0.0543\n",
            "Kurtosis:                       2.763   Cond. No.                         71.0\n",
            "==============================================================================\n",
            "\n",
            "Notes:\n",
            "[1] Standard Errors assume that the covariance matrix of the errors is correctly specified.\n"
          ]
        }
      ]
    },
    {
      "cell_type": "code",
      "source": [
        "print(0.7113 + 0.1805)"
      ],
      "metadata": {
        "colab": {
          "base_uri": "https://localhost:8080/"
        },
        "id": "o14_ZPhkSZrt",
        "outputId": "649803bd-27cc-41ef-adc8-faa43e03abfb"
      },
      "execution_count": 7,
      "outputs": [
        {
          "output_type": "stream",
          "name": "stdout",
          "text": [
            "0.8918\n"
          ]
        }
      ]
    }
  ]
}