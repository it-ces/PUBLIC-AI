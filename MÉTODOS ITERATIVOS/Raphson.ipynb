{
  "nbformat": 4,
  "nbformat_minor": 0,
  "metadata": {
    "colab": {
      "provenance": []
    },
    "kernelspec": {
      "name": "python3",
      "display_name": "Python 3"
    },
    "language_info": {
      "name": "python"
    }
  },
  "cells": [
    {
      "cell_type": "code",
      "execution_count": 1,
      "metadata": {
        "id": "hz1OIjNDap75"
      },
      "outputs": [],
      "source": [
        "import matplotlib.pyplot as plt"
      ]
    },
    {
      "cell_type": "code",
      "source": [
        "def fquad(a,b,c,x):\n",
        "  return a*x**2 + b*x + c"
      ],
      "metadata": {
        "id": "vslZccy1a0Md"
      },
      "execution_count": 2,
      "outputs": []
    },
    {
      "cell_type": "code",
      "source": [
        "def dfquad(a,b,x):\n",
        "  return 2*a*x +b"
      ],
      "metadata": {
        "id": "FxyCKt48a-VN"
      },
      "execution_count": 3,
      "outputs": []
    },
    {
      "cell_type": "code",
      "source": [
        "a,b,c = 10,-5, 0"
      ],
      "metadata": {
        "id": "6G2nAo3YbKpQ"
      },
      "execution_count": 4,
      "outputs": []
    },
    {
      "cell_type": "code",
      "source": [
        "fquad(a,b,c,10)"
      ],
      "metadata": {
        "colab": {
          "base_uri": "https://localhost:8080/"
        },
        "id": "_vAtSPnGbQZW",
        "outputId": "0845a0f2-fc94-4469-88e2-f2d70df542f9"
      },
      "execution_count": 5,
      "outputs": [
        {
          "output_type": "execute_result",
          "data": {
            "text/plain": [
              "950"
            ]
          },
          "metadata": {},
          "execution_count": 5
        }
      ]
    },
    {
      "cell_type": "code",
      "source": [
        "dfquad(a,b,10)"
      ],
      "metadata": {
        "colab": {
          "base_uri": "https://localhost:8080/"
        },
        "id": "WMpsPo-pbVZP",
        "outputId": "0acd3039-c6d3-4499-c7de-2e43963da611"
      },
      "execution_count": 6,
      "outputs": [
        {
          "output_type": "execute_result",
          "data": {
            "text/plain": [
              "195"
            ]
          },
          "metadata": {},
          "execution_count": 6
        }
      ]
    },
    {
      "cell_type": "code",
      "source": [
        "xi = 100\n",
        "for iterations in range(1000):\n",
        "  xj = xi - (fquad(a,b,c,xi)/dfquad(a,b,xi))\n",
        "  xi = xj\n",
        "  print(xi)"
      ],
      "metadata": {
        "id": "z7IZoN_sbc1Z"
      },
      "execution_count": null,
      "outputs": []
    },
    {
      "cell_type": "code",
      "source": [
        "xj"
      ],
      "metadata": {
        "colab": {
          "base_uri": "https://localhost:8080/"
        },
        "id": "GU15X_zPcS7X",
        "outputId": "836bbb5c-c04a-4e4c-f696-c57eafd1aeed"
      },
      "execution_count": 8,
      "outputs": [
        {
          "output_type": "execute_result",
          "data": {
            "text/plain": [
              "0.5"
            ]
          },
          "metadata": {},
          "execution_count": 8
        }
      ]
    }
  ]
}