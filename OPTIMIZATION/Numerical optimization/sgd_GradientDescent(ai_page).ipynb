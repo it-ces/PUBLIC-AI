{
  "nbformat": 4,
  "nbformat_minor": 0,
  "metadata": {
    "colab": {
      "provenance": []
    },
    "kernelspec": {
      "name": "python3",
      "display_name": "Python 3"
    },
    "language_info": {
      "name": "python"
    }
  },
  "cells": [
    {
      "cell_type": "code",
      "source": [
        "# Iván Andrés Trujillo Abella\n",
        "# ivantrujillo1229@gmail.com"
      ],
      "metadata": {
        "id": "eoeCch1tQJC1"
      },
      "execution_count": null,
      "outputs": []
    },
    {
      "cell_type": "code",
      "execution_count": null,
      "metadata": {
        "id": "jD9xf1-rGMRt"
      },
      "outputs": [],
      "source": [
        "def objective(Theta, alpha, beta):\n",
        "  return (Theta*alpha) + (Theta**2)*beta"
      ]
    },
    {
      "cell_type": "code",
      "source": [
        "def gradient(Theta, alpha, beta):\n",
        "  return alpha + 2*beta*Theta"
      ],
      "metadata": {
        "id": "R7c0pbgMK14J"
      },
      "execution_count": null,
      "outputs": []
    },
    {
      "cell_type": "code",
      "source": [
        "def gradient_logistic(Thetas):\n",
        "  pass"
      ],
      "metadata": {
        "id": "dRDENcZGY0Wd"
      },
      "execution_count": null,
      "outputs": []
    },
    {
      "cell_type": "code",
      "source": [
        "def objective_asol(alpha, beta):\n",
        "  # Analytics solution\n",
        "  return - alpha/(2*beta)"
      ],
      "metadata": {
        "id": "5i3OyEtQLA4g"
      },
      "execution_count": null,
      "outputs": []
    },
    {
      "cell_type": "code",
      "source": [
        "objective_asol(5, 1)"
      ],
      "metadata": {
        "colab": {
          "base_uri": "https://localhost:8080/"
        },
        "id": "uH3aMsYNLJRA",
        "outputId": "f0e2d836-b6e5-421e-daae-79ac75418bb2"
      },
      "execution_count": null,
      "outputs": [
        {
          "output_type": "execute_result",
          "data": {
            "text/plain": [
              "-2.5"
            ]
          },
          "metadata": {},
          "execution_count": 29
        }
      ]
    },
    {
      "cell_type": "code",
      "source": [
        "def GDS(max_iterations, initial_value, gradient,\n",
        "        learning_rate=0.1,\n",
        "        error_max=0.0001):\n",
        "  iterations = 0\n",
        "  error = 1\n",
        "  theta_temp = initial_value\n",
        "  while iterations < max_iterations and error > error_max:\n",
        "    theta_ = theta_temp\n",
        "    theta_temp = theta_temp - gradient(theta_temp)*learning_rate\n",
        "    error = abs(theta_ - theta_temp)\n",
        "    iterations +=1 # Save the number of iterations\n",
        "  return theta_temp, iterations, error"
      ],
      "metadata": {
        "id": "8xEjn0VjQ-c1"
      },
      "execution_count": null,
      "outputs": []
    },
    {
      "cell_type": "code",
      "source": [
        "GDS(max_iterations = 150,\n",
        "    initial_value = 10 ,\n",
        "    learning_rate= 0.1,\n",
        "    gradient = lambda Theta: gradient(Theta, 5 , 1))"
      ],
      "metadata": {
        "colab": {
          "base_uri": "https://localhost:8080/"
        },
        "id": "9ZHyHKELRpl4",
        "outputId": "8d736396-d6e9-457c-8dc8-7dab9d85c8f8"
      },
      "execution_count": null,
      "outputs": [
        {
          "output_type": "execute_result",
          "data": {
            "text/plain": [
              "(-2.499651550856273, 47, 8.711228593183407e-05)"
            ]
          },
          "metadata": {},
          "execution_count": 31
        }
      ]
    }
  ]
}