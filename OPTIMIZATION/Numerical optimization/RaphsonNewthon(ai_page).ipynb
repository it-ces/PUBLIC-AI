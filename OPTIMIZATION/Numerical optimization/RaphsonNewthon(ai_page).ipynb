{
  "nbformat": 4,
  "nbformat_minor": 0,
  "metadata": {
    "colab": {
      "provenance": []
    },
    "kernelspec": {
      "name": "python3",
      "display_name": "Python 3"
    },
    "language_info": {
      "name": "python"
    }
  },
  "cells": [
    {
      "cell_type": "code",
      "execution_count": 21,
      "metadata": {
        "id": "eemi_nyHTBaM"
      },
      "outputs": [],
      "source": [
        "# Iván Andrés Trujillo Abella\n",
        "# ivantrujillo1229@gmail.com"
      ]
    },
    {
      "cell_type": "code",
      "source": [
        "def objective(Theta, alpha, beta):\n",
        "  return (Theta*alpha) + (Theta**2)*beta"
      ],
      "metadata": {
        "id": "K8hfpk1eTVZg"
      },
      "execution_count": 22,
      "outputs": []
    },
    {
      "cell_type": "code",
      "source": [
        "def gradient(Theta, alpha, beta):\n",
        "  return alpha + 2*beta*Theta"
      ],
      "metadata": {
        "id": "z07cim3bUH0E"
      },
      "execution_count": 23,
      "outputs": []
    },
    {
      "cell_type": "code",
      "source": [
        "def gradient2(beta):\n",
        "  return 2*beta"
      ],
      "metadata": {
        "id": "uS9HOFE9UJ2i"
      },
      "execution_count": 24,
      "outputs": []
    },
    {
      "cell_type": "code",
      "source": [
        "def Rewton(max_iterations,\n",
        "           initial_value,\n",
        "           gradient,\n",
        "           gradient2,\n",
        "           initial_value2,\n",
        "        learning_rate=0.1,\n",
        "        error_max=0.0001):\n",
        "  iterations = 0\n",
        "  error = 1\n",
        "  theta_temp = initial_value\n",
        "  beta_temp = initial_value2\n",
        "  while iterations < max_iterations and error > error_max:\n",
        "    theta_ = theta_temp\n",
        "    theta_temp = theta_temp - gradient(theta_temp)/gradient2(beta_temp)\n",
        "    error = abs(theta_ - theta_temp)\n",
        "    iterations +=1 # Save the number of iterations\n",
        "  return theta_temp, iterations, error"
      ],
      "metadata": {
        "id": "1mJQEUhJVnEQ"
      },
      "execution_count": 25,
      "outputs": []
    },
    {
      "cell_type": "code",
      "source": [
        "beta = 1\n",
        "Rewton(max_iterations=10,\n",
        "       initial_value=100,\n",
        "       initial_value2=beta,\n",
        "       gradient = lambda Theta: gradient(Theta, 5 , beta),\n",
        "       gradient2= lambda Beta: gradient2(Beta))"
      ],
      "metadata": {
        "colab": {
          "base_uri": "https://localhost:8080/"
        },
        "id": "W3TZt6LeYDOm",
        "outputId": "0eb39a65-c4ca-4de3-cdda-2077b30e2440"
      },
      "execution_count": 29,
      "outputs": [
        {
          "output_type": "execute_result",
          "data": {
            "text/plain": [
              "(-2.5, 2, 0.0)"
            ]
          },
          "metadata": {},
          "execution_count": 29
        }
      ]
    }
  ]
}