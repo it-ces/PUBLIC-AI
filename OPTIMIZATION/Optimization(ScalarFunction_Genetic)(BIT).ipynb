{
  "nbformat": 4,
  "nbformat_minor": 0,
  "metadata": {
    "colab": {
      "provenance": [],
      "include_colab_link": true
    },
    "kernelspec": {
      "name": "python3",
      "display_name": "Python 3"
    },
    "language_info": {
      "name": "python"
    }
  },
  "cells": [
    {
      "cell_type": "markdown",
      "metadata": {
        "id": "view-in-github",
        "colab_type": "text"
      },
      "source": [
        "<a href=\"https://colab.research.google.com/github/it-ces/PUBLIC-AI/blob/main/OPTIMIZATION/Optimization(ScalarFunction_Genetic)(BIT).ipynb\" target=\"_parent\"><img src=\"https://colab.research.google.com/assets/colab-badge.svg\" alt=\"Open In Colab\"/></a>"
      ]
    },
    {
      "cell_type": "code",
      "execution_count": null,
      "metadata": {
        "id": "ZdmUVQXqWJLY"
      },
      "outputs": [],
      "source": [
        "## Iván Andrés Trujillo Abella\n",
        "## ivantrujillo1229@gmail.com"
      ]
    },
    {
      "cell_type": "markdown",
      "source": [
        "\\begin{equation}\n",
        "f(x)  =  ax + bx^{2}\n",
        "\\end{equation}\n",
        "\n",
        "The analytical solution is:\n",
        "\n",
        "\\begin{equation}\n",
        "x^{*} = \\frac{-a}{2b}\n",
        "\\end{equation}"
      ],
      "metadata": {
        "id": "Ccu5bjfpWO1s"
      }
    },
    {
      "cell_type": "code",
      "source": [
        "def analytical(a,b):\n",
        "  return -a/(2*b)"
      ],
      "metadata": {
        "id": "zWRzHTDkYyho"
      },
      "execution_count": null,
      "outputs": []
    },
    {
      "cell_type": "code",
      "source": [
        "analytical(80,-16)"
      ],
      "metadata": {
        "colab": {
          "base_uri": "https://localhost:8080/"
        },
        "id": "3nkGZu3AY4nr",
        "outputId": "f705b756-0cbe-4fba-bacd-dcb96c1db532"
      },
      "execution_count": null,
      "outputs": [
        {
          "output_type": "execute_result",
          "data": {
            "text/plain": [
              "2.5"
            ]
          },
          "metadata": {},
          "execution_count": 306
        }
      ]
    },
    {
      "cell_type": "code",
      "source": [
        "import numpy as np"
      ],
      "metadata": {
        "id": "KZlZ5NQyWu1l"
      },
      "execution_count": null,
      "outputs": []
    },
    {
      "cell_type": "code",
      "source": [
        "from scipy.optimize import minimize"
      ],
      "metadata": {
        "id": "ByLBPxq0X58F"
      },
      "execution_count": null,
      "outputs": []
    },
    {
      "cell_type": "code",
      "source": [
        "def quadratic(x,a,b, minimize=False):\n",
        "  if minimize == False:\n",
        "    return a*x + b*x**2\n",
        "  else:\n",
        "    return -(a*x + b*x**2)"
      ],
      "metadata": {
        "id": "1IqYzCbTf4ch"
      },
      "execution_count": null,
      "outputs": []
    },
    {
      "cell_type": "code",
      "source": [
        "quadratic(2.5, 80, -16)"
      ],
      "metadata": {
        "colab": {
          "base_uri": "https://localhost:8080/"
        },
        "id": "oyUPUueSf_Rz",
        "outputId": "571d3034-7ce3-4ef3-c12f-67e1a66125ee"
      },
      "execution_count": null,
      "outputs": [
        {
          "output_type": "execute_result",
          "data": {
            "text/plain": [
              "100.0"
            ]
          },
          "metadata": {},
          "execution_count": 310
        }
      ]
    },
    {
      "cell_type": "code",
      "source": [
        "result = minimize(lambda x: quadratic(x, 80, -16, True), x0=23)\n",
        "print(result.x)"
      ],
      "metadata": {
        "colab": {
          "base_uri": "https://localhost:8080/"
        },
        "id": "4x12UHE5cVBl",
        "outputId": "6d414b25-9254-4128-96b9-958a12c4d785"
      },
      "execution_count": null,
      "outputs": [
        {
          "output_type": "stream",
          "name": "stdout",
          "text": [
            "[2.5]\n"
          ]
        }
      ]
    },
    {
      "cell_type": "code",
      "source": [
        "!pip install deap"
      ],
      "metadata": {
        "colab": {
          "base_uri": "https://localhost:8080/"
        },
        "id": "4x4WeotqiPGG",
        "outputId": "f4e22608-4530-4a88-9b6c-28ceb33bc066"
      },
      "execution_count": null,
      "outputs": [
        {
          "output_type": "stream",
          "name": "stdout",
          "text": [
            "Requirement already satisfied: deap in /usr/local/lib/python3.10/dist-packages (1.4.1)\n",
            "Requirement already satisfied: numpy in /usr/local/lib/python3.10/dist-packages (from deap) (1.23.5)\n"
          ]
        }
      ]
    },
    {
      "cell_type": "code",
      "source": [
        "## Using deap\n",
        "import random\n",
        "import math\n",
        "import numpy as np\n",
        "from deap import base\n",
        "from deap import creator\n",
        "from deap import tools\n",
        "from deap import algorithms\n",
        "import matplotlib.pyplot as plt"
      ],
      "metadata": {
        "id": "0mWOZsuAiXfQ"
      },
      "execution_count": null,
      "outputs": []
    },
    {
      "cell_type": "code",
      "source": [
        "# Problem definition weights=(1,0) is maximization, weights=(-1,0) is minimization\n",
        "creator.create(\"FitnessMax\", base.Fitness, weights=(1.0,)) # inherit Fitness from base class\n",
        "\n",
        "#Create a structure to handle individual\n",
        "creator.create(\"Individual\", list, fitness = creator.FitnessMax) # Use a list python structure to code individuals\n",
        "\n",
        "# note here that x is a solution( a chromosomical representation)\n",
        "def listToDecimal(num):\n",
        "    decimal=0\n",
        "    for i in range(len(num)):\n",
        "        decimal+=num[i]*10**(-i)\n",
        "    return decimal\n",
        "\n",
        "def quadratic(x):\n",
        "    x = listToDecimal(x)\n",
        "    return 80*x -16*x**2,   ####### Rememer that this is very important to a correct implementation\n",
        "\n",
        "# Defining toolbox\n",
        "\n",
        "toolbox = base.Toolbox()\n",
        "\n",
        "#Gene definition\n",
        "toolbox.register(\"attr_uniform\", random.randint, -100, 100) # a invocation of random.uniform in min and max\n",
        "\n",
        "#Individual\n",
        "toolbox.register(\"individual\", tools.initRepeat, creator.Individual,\n",
        "                 toolbox.attr_uniform, 3) # Individual composed of two genes!\n",
        "# Population\n",
        "toolbox.register(\"population\", tools.initRepeat,\n",
        "                 list, toolbox.individual, 22) # 12 chromosomes keep in list\n",
        "\n",
        "\n",
        "# Genetic opreators definition\n",
        "# respect the names for genetic operators!\n",
        "toolbox.register(\"evaluate\", quadratic) # change paramters? here or how?\n",
        "toolbox.register(\"mate\", tools.cxOnePoint)\n",
        "toolbox.register(\"mutate\", tools.mutUniformInt, low=-100, up=100, indpb=0.3)\n",
        "toolbox.register(\"select\", tools.selTournament, tournsize=5)\n",
        "\n",
        "# Check the implementation\n",
        "\"\"\"\n",
        "pop = toolbox.population()\n",
        "ind1, ind2  = pop[0], pop[1]\n",
        "print(ind1, ind2)\n",
        "print(toolbox.mate(ind1, ind2))\n",
        "toolbox.evaluate(ind1)\n",
        "\"\"\"\n",
        "\n",
        "\n",
        "def main():\n",
        "    random.seed(42)\n",
        "    CXPB, MUTPB, NGEN = 0.55, 0.08, 35\n",
        "    pop = toolbox.population()\n",
        "    hof = tools.HallOfFame(1)\n",
        "    stats = tools.Statistics(lambda ind: ind.fitness.values)\n",
        "    stats.register(\"avg\", np.mean)\n",
        "    stats.register(\"std\", np.std)\n",
        "    stats.register(\"min\", np.min)\n",
        "    stats.register(\"max\", np.max)\n",
        "    logbook = tools.Logbook()\n",
        "    pop, logbook = algorithms.eaSimple(pop, toolbox, cxpb=CXPB,\n",
        "                                       mutpb=MUTPB, ngen=NGEN, stats=stats,\n",
        "                                       halloffame=hof, verbose=False)\n",
        "    return hof, logbook\n",
        "\n",
        "best, log = main()\n",
        "best[0].fitness\n",
        "print(listToDecimal(best[0]))  # Give me a approximate solution!"
      ],
      "metadata": {
        "colab": {
          "base_uri": "https://localhost:8080/"
        },
        "id": "6ad7DyxKkPwi",
        "outputId": "de07591b-1ffd-453b-8563-0a52159f1795"
      },
      "execution_count": null,
      "outputs": [
        {
          "output_type": "stream",
          "name": "stdout",
          "text": [
            "2.51\n"
          ]
        }
      ]
    }
  ]
}