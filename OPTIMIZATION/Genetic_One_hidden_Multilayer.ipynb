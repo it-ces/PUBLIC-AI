{
  "nbformat": 4,
  "nbformat_minor": 0,
  "metadata": {
    "colab": {
      "provenance": []
    },
    "kernelspec": {
      "name": "python3",
      "display_name": "Python 3"
    },
    "language_info": {
      "name": "python"
    }
  },
  "cells": [
    {
      "cell_type": "code",
      "execution_count": 1,
      "metadata": {
        "id": "2hptl6Wr015x"
      },
      "outputs": [],
      "source": [
        "# Iván Andrés Trujillo Abella\n",
        "# ivantrujillo1229@gmail.com"
      ]
    },
    {
      "cell_type": "code",
      "source": [
        "import pandas as pd"
      ],
      "metadata": {
        "id": "J9fOiTJg30Wa"
      },
      "execution_count": 3,
      "outputs": []
    },
    {
      "cell_type": "markdown",
      "source": [
        "# Solving XOR\n",
        "\n",
        "The following notebook is a simple neural network with one layer.\n",
        "\n",
        "You can find more information avaiable on:\n"
      ],
      "metadata": {
        "id": "ddbUiud8z1MV"
      }
    },
    {
      "cell_type": "code",
      "source": [
        "df = pd.DataFrame([[0,0,0], [0,1,1], [1,0,1], [1,1,0]],\n",
        "                  columns = ['x1', 'x2','y'])"
      ],
      "metadata": {
        "id": "8Qho_lJt1FUM"
      },
      "execution_count": 26,
      "outputs": []
    },
    {
      "cell_type": "code",
      "source": [
        "import numpy as np\n",
        "import pandas as pd\n",
        "from numpy.random import randn\n",
        "from numpy import exp\n",
        "from numpy import array\n",
        "from numpy import vectorize\n",
        "from numpy import append\n",
        "from numpy import log\n",
        "from numpy import clip"
      ],
      "metadata": {
        "id": "3xqnroR35WSn"
      },
      "execution_count": 11,
      "outputs": []
    },
    {
      "cell_type": "code",
      "source": [
        "def sigmoid(x):\n",
        "  return 1 / (1 + exp(-x))\n",
        "sigmoid = vectorize(sigmoid)  ## Acts similar to map (func, iter)"
      ],
      "metadata": {
        "id": "Oa7OrrGg5iAN"
      },
      "execution_count": 16,
      "outputs": []
    },
    {
      "cell_type": "code",
      "source": [
        "## J(w) cost function\n",
        "def BinaryLog(y_true, est_probabilities):\n",
        "  # Pass in bothe vectores in narrays\n",
        "  est_probabilities = clip(est_probabilities, 0.00000000000001, 0.99999999999999) # not defined estimated probs in zero or one\n",
        "  return -((y_true * log(est_probabilities) + (1 - y_true) * log(1-est_probabilities)).sum())/y_true.shape[0]\n",
        "  # log_loss have a better implementation!\n",
        "\n",
        "def extractW(solution, hidden_size, input_size):\n",
        "  w1 = solution[0:hidden_size*input_size].reshape((hidden_size, input_size))\n",
        "  w2 = solution[hidden_size*input_size:]\n",
        "  return w1, w2\n",
        "\n",
        "def joinW(w1,w2):\n",
        "  W = append(w1,w2).reshape(-1)\n",
        "  return W\n",
        "\n",
        "def predict(solution, xi, hidden_size, input_size):\n",
        "    W1,W2 = extractW(solution, hidden_size, input_size)\n",
        "    z1 = sigmoid( W1 @ xi) # The first computation\n",
        "    output = sigmoid(W2 @ z1)\n",
        "    return output\n",
        "\n",
        "def MLP_fitnessFunction(hidden_size,  df, X, target, initial_solution=0, preds=False):\n",
        "  input_size = len(X)\n",
        "  X = df[X].copy()\n",
        "  if len(initial_solution)==0:\n",
        "    P = (hidden_size * input_size) + hidden_size\n",
        "    solution = randn(P)\n",
        "  else:\n",
        "    solution = array(initial_solution) # Consider this to keep list\n",
        "  y_probs = np.zeros(df.shape[0])  # Array to keep the solutions...\n",
        "  for index, xi in enumerate(X.to_numpy()):\n",
        "    y_probs[index] = predict(solution, xi, hidden_size, input_size)\n",
        "  if preds==True:\n",
        "    return y_probs\n",
        "  else:\n",
        "    return BinaryLog(df[target].to_numpy(), y_probs),\n"
      ],
      "metadata": {
        "id": "iLfZQLCA5s3T"
      },
      "execution_count": 19,
      "outputs": []
    },
    {
      "cell_type": "code",
      "source": [
        "## Testing Forward\n",
        "X  = ['x1', 'x2']\n",
        "hidden_size = 3\n",
        "input_size = len(X)\n",
        "P = (hidden_size * input_size) + hidden_size\n",
        "solution = randn(P)\n",
        "solution = list(solution)\n",
        "MLP_fitnessFunction(hidden_size, df=df, X=X, target='y', initial_solution=solution)"
      ],
      "metadata": {
        "colab": {
          "base_uri": "https://localhost:8080/"
        },
        "id": "l9Pkh2Ja5vv6",
        "outputId": "94ce9679-2f6f-4aea-83a6-a1c1f4e00bce"
      },
      "execution_count": 33,
      "outputs": [
        {
          "output_type": "execute_result",
          "data": {
            "text/plain": [
              "(0.684101479545901,)"
            ]
          },
          "metadata": {},
          "execution_count": 33
        }
      ]
    },
    {
      "cell_type": "code",
      "source": [
        "!pip install deap > null"
      ],
      "metadata": {
        "id": "CuQisIBo8kDR"
      },
      "execution_count": 30,
      "outputs": []
    },
    {
      "cell_type": "code",
      "source": [
        "import random\n",
        "from deap import base\n",
        "from deap import creator\n",
        "from deap import tools\n",
        "from deap import algorithms"
      ],
      "metadata": {
        "id": "pGLqEhQ18lOB"
      },
      "execution_count": 31,
      "outputs": []
    },
    {
      "cell_type": "code",
      "source": [
        "hidden_size = 5 # Neurons in hidden layer\n",
        "input_size = len(X)\n",
        "individual_size = (input_size * hidden_size) + hidden_size\n",
        "creator.create(\"FitnessMax\", base.Fitness, weights=(-1.0,))\n",
        "creator.create(\"Individual\", list, fitness=creator.FitnessMax)\n",
        "toolbox = base.Toolbox()\n",
        "# Attribute generator\n",
        "toolbox.register(\"geneNormal\", random.gauss, 0, 10)\n",
        "# Structure initializers\n",
        "toolbox.register(\"individual\", tools.initRepeat, creator.Individual, toolbox.geneNormal, individual_size)\n",
        "toolbox.register(\"population\", tools.initRepeat, list, toolbox.individual)\n",
        "toolbox.register(\"evaluate\", lambda chromosome: MLP_fitnessFunction(hidden_size,\n",
        "                                                                    X=X, target='y', df=df, initial_solution=chromosome ))\n",
        "toolbox.register(\"mate\", tools.cxOnePoint)\n",
        "toolbox.register(\"mutate\", tools.mutGaussian, mu=0, sigma=10 , indpb=0.1)\n",
        "toolbox.register(\"select\", tools.selTournament, tournsize=10)\n",
        "\n",
        "\n",
        "\n",
        "def main():\n",
        "    pop = toolbox.population(n=50)\n",
        "    hof = tools.HallOfFame(1)\n",
        "    stats = tools.Statistics(lambda ind: ind.fitness.values)\n",
        "    stats.register(\"avg\", np.mean)\n",
        "    stats.register(\"std\", np.std)\n",
        "    stats.register(\"min\", np.min)\n",
        "    stats.register(\"max\", np.max)\n",
        "\n",
        "    pop, logBook = algorithms.eaSimple(pop, toolbox, cxpb=0.85, mutpb=0.05, ngen=35,\n",
        "                                   stats=stats, halloffame=hof, verbose=True)\n",
        "    return hof, logBook\n",
        "best, logBook = main()\n",
        "#best[0].fitness"
      ],
      "metadata": {
        "colab": {
          "base_uri": "https://localhost:8080/"
        },
        "id": "6qJE2BUD8nef",
        "outputId": "fca6391c-4c98-4a6f-8e3e-744605932743"
      },
      "execution_count": 38,
      "outputs": [
        {
          "output_type": "stream",
          "name": "stderr",
          "text": [
            "/usr/local/lib/python3.10/dist-packages/deap/creator.py:185: RuntimeWarning: A class named 'FitnessMax' has already been created and it will be overwritten. Consider deleting previous creation of that class or rename it.\n",
            "  warnings.warn(\"A class named '{0}' has already been created and it \"\n",
            "/usr/local/lib/python3.10/dist-packages/deap/creator.py:185: RuntimeWarning: A class named 'Individual' has already been created and it will be overwritten. Consider deleting previous creation of that class or rename it.\n",
            "  warnings.warn(\"A class named '{0}' has already been created and it \"\n"
          ]
        },
        {
          "output_type": "stream",
          "name": "stdout",
          "text": [
            "gen\tnevals\tavg    \tstd    \tmin    \tmax    \n",
            "0  \t50    \t5.69475\t2.94238\t1.20966\t13.3739\n",
            "1  \t46    \t2.8815 \t2.4394 \t0.287041\t12.4619\n",
            "2  \t40    \t0.963417\t0.772775\t0.25256 \t3.60739\n",
            "3  \t42    \t0.335587\t0.181987\t0.25256 \t1.20181\n",
            "4  \t42    \t0.41023 \t0.832933\t0.25256 \t6.16288\n",
            "5  \t44    \t0.293197\t0.257771\t0.250152\t2.08693\n",
            "6  \t41    \t0.403994\t0.707561\t0.250152\t4.79315\n",
            "7  \t44    \t0.255059\t0.0282245\t0.250152\t0.452567\n",
            "8  \t34    \t0.302945\t0.369087 \t0.250152\t2.88655 \n",
            "9  \t48    \t0.250184\t0.000228787\t0.250152\t0.251786\n",
            "10 \t45    \t0.254888\t0.0331556  \t0.250152\t0.486977\n",
            "11 \t40    \t0.369703\t0.836861   \t0.250152\t6.22773 \n",
            "12 \t42    \t0.26808 \t0.125535   \t0.249909\t1.14683 \n",
            "13 \t44    \t0.361518\t0.761257   \t0.249909\t5.68875 \n",
            "14 \t46    \t0.252498\t0.0177046  \t0.249909\t0.376428\n",
            "15 \t41    \t0.319827\t0.294454   \t0.249893\t1.97179 \n",
            "16 \t36    \t0.297052\t0.251646   \t0.249893\t1.92807 \n",
            "17 \t45    \t0.267155\t0.0938125  \t0.249893\t0.884547\n",
            "18 \t43    \t0.304531\t0.382466   \t0.249893\t2.98179 \n",
            "19 \t43    \t0.25899 \t0.0636602  \t0.249893\t0.704612\n",
            "20 \t38    \t0.249893\t0          \t0.249893\t0.249893\n",
            "21 \t42    \t0.321638\t0.518807   \t0.134441\t3.95152 \n",
            "22 \t44    \t0.223691\t0.0477291  \t0.134441\t0.249893\n",
            "23 \t46    \t0.190779\t0.345971   \t0.134441\t2.60497 \n",
            "24 \t43    \t0.135579\t0.00796401 \t0.134441\t0.191327\n",
            "25 \t43    \t0.150375\t0.126721   \t0.0336711\t1.03191 \n",
            "26 \t40    \t0.118589\t0.0368655  \t0.0336711\t0.14798 \n",
            "27 \t40    \t0.047991\t0.0345377  \t0.0336711\t0.134441\n",
            "28 \t42    \t0.0625581\t0.203704   \t0.0232464\t1.48845 \n",
            "29 \t46    \t0.04571  \t0.0776787  \t0.0232464\t0.57806 \n",
            "30 \t46    \t0.0572624\t0.11093    \t0.0231597\t0.57806 \n",
            "31 \t42    \t0.0227844\t0.00304821 \t0.00144877\t0.0232464\n",
            "32 \t36    \t0.020556 \t0.00707718 \t0.00136214\t0.0232464\n",
            "33 \t47    \t0.0243043\t0.132711   \t0.00136214\t0.951439 \n",
            "34 \t41    \t0.0348347\t0.234308   \t0.00136214\t1.67499  \n",
            "35 \t48    \t0.038433 \t0.259563   \t0.000890531\t1.85538  \n"
          ]
        }
      ]
    },
    {
      "cell_type": "code",
      "source": [
        "SOLUTION = best[0]\n",
        "df['GA_preds'] = np.where(MLP_fitnessFunction(hidden_size=hidden_size,  X=X, target='y',\n",
        "                                       df=df,  initial_solution=SOLUTION, preds=True)>0.5,1,0)"
      ],
      "metadata": {
        "id": "-_juB4qj9C_c"
      },
      "execution_count": 43,
      "outputs": []
    },
    {
      "cell_type": "code",
      "source": [
        "df # Solved!"
      ],
      "metadata": {
        "colab": {
          "base_uri": "https://localhost:8080/",
          "height": 175
        },
        "id": "04SKH1rp9KA5",
        "outputId": "35e70331-42d1-44d1-9004-6fa675d77f20"
      },
      "execution_count": 45,
      "outputs": [
        {
          "output_type": "execute_result",
          "data": {
            "text/plain": [
              "   x1  x2  y  GA_preds\n",
              "0   0   0  0         0\n",
              "1   0   1  1         1\n",
              "2   1   0  1         1\n",
              "3   1   1  0         0"
            ],
            "text/html": [
              "\n",
              "  <div id=\"df-dd1c6a86-fd1d-432f-adb8-31a64ee91099\" class=\"colab-df-container\">\n",
              "    <div>\n",
              "<style scoped>\n",
              "    .dataframe tbody tr th:only-of-type {\n",
              "        vertical-align: middle;\n",
              "    }\n",
              "\n",
              "    .dataframe tbody tr th {\n",
              "        vertical-align: top;\n",
              "    }\n",
              "\n",
              "    .dataframe thead th {\n",
              "        text-align: right;\n",
              "    }\n",
              "</style>\n",
              "<table border=\"1\" class=\"dataframe\">\n",
              "  <thead>\n",
              "    <tr style=\"text-align: right;\">\n",
              "      <th></th>\n",
              "      <th>x1</th>\n",
              "      <th>x2</th>\n",
              "      <th>y</th>\n",
              "      <th>GA_preds</th>\n",
              "    </tr>\n",
              "  </thead>\n",
              "  <tbody>\n",
              "    <tr>\n",
              "      <th>0</th>\n",
              "      <td>0</td>\n",
              "      <td>0</td>\n",
              "      <td>0</td>\n",
              "      <td>0</td>\n",
              "    </tr>\n",
              "    <tr>\n",
              "      <th>1</th>\n",
              "      <td>0</td>\n",
              "      <td>1</td>\n",
              "      <td>1</td>\n",
              "      <td>1</td>\n",
              "    </tr>\n",
              "    <tr>\n",
              "      <th>2</th>\n",
              "      <td>1</td>\n",
              "      <td>0</td>\n",
              "      <td>1</td>\n",
              "      <td>1</td>\n",
              "    </tr>\n",
              "    <tr>\n",
              "      <th>3</th>\n",
              "      <td>1</td>\n",
              "      <td>1</td>\n",
              "      <td>0</td>\n",
              "      <td>0</td>\n",
              "    </tr>\n",
              "  </tbody>\n",
              "</table>\n",
              "</div>\n",
              "    <div class=\"colab-df-buttons\">\n",
              "\n",
              "  <div class=\"colab-df-container\">\n",
              "    <button class=\"colab-df-convert\" onclick=\"convertToInteractive('df-dd1c6a86-fd1d-432f-adb8-31a64ee91099')\"\n",
              "            title=\"Convert this dataframe to an interactive table.\"\n",
              "            style=\"display:none;\">\n",
              "\n",
              "  <svg xmlns=\"http://www.w3.org/2000/svg\" height=\"24px\" viewBox=\"0 -960 960 960\">\n",
              "    <path d=\"M120-120v-720h720v720H120Zm60-500h600v-160H180v160Zm220 220h160v-160H400v160Zm0 220h160v-160H400v160ZM180-400h160v-160H180v160Zm440 0h160v-160H620v160ZM180-180h160v-160H180v160Zm440 0h160v-160H620v160Z\"/>\n",
              "  </svg>\n",
              "    </button>\n",
              "\n",
              "  <style>\n",
              "    .colab-df-container {\n",
              "      display:flex;\n",
              "      gap: 12px;\n",
              "    }\n",
              "\n",
              "    .colab-df-convert {\n",
              "      background-color: #E8F0FE;\n",
              "      border: none;\n",
              "      border-radius: 50%;\n",
              "      cursor: pointer;\n",
              "      display: none;\n",
              "      fill: #1967D2;\n",
              "      height: 32px;\n",
              "      padding: 0 0 0 0;\n",
              "      width: 32px;\n",
              "    }\n",
              "\n",
              "    .colab-df-convert:hover {\n",
              "      background-color: #E2EBFA;\n",
              "      box-shadow: 0px 1px 2px rgba(60, 64, 67, 0.3), 0px 1px 3px 1px rgba(60, 64, 67, 0.15);\n",
              "      fill: #174EA6;\n",
              "    }\n",
              "\n",
              "    .colab-df-buttons div {\n",
              "      margin-bottom: 4px;\n",
              "    }\n",
              "\n",
              "    [theme=dark] .colab-df-convert {\n",
              "      background-color: #3B4455;\n",
              "      fill: #D2E3FC;\n",
              "    }\n",
              "\n",
              "    [theme=dark] .colab-df-convert:hover {\n",
              "      background-color: #434B5C;\n",
              "      box-shadow: 0px 1px 3px 1px rgba(0, 0, 0, 0.15);\n",
              "      filter: drop-shadow(0px 1px 2px rgba(0, 0, 0, 0.3));\n",
              "      fill: #FFFFFF;\n",
              "    }\n",
              "  </style>\n",
              "\n",
              "    <script>\n",
              "      const buttonEl =\n",
              "        document.querySelector('#df-dd1c6a86-fd1d-432f-adb8-31a64ee91099 button.colab-df-convert');\n",
              "      buttonEl.style.display =\n",
              "        google.colab.kernel.accessAllowed ? 'block' : 'none';\n",
              "\n",
              "      async function convertToInteractive(key) {\n",
              "        const element = document.querySelector('#df-dd1c6a86-fd1d-432f-adb8-31a64ee91099');\n",
              "        const dataTable =\n",
              "          await google.colab.kernel.invokeFunction('convertToInteractive',\n",
              "                                                    [key], {});\n",
              "        if (!dataTable) return;\n",
              "\n",
              "        const docLinkHtml = 'Like what you see? Visit the ' +\n",
              "          '<a target=\"_blank\" href=https://colab.research.google.com/notebooks/data_table.ipynb>data table notebook</a>'\n",
              "          + ' to learn more about interactive tables.';\n",
              "        element.innerHTML = '';\n",
              "        dataTable['output_type'] = 'display_data';\n",
              "        await google.colab.output.renderOutput(dataTable, element);\n",
              "        const docLink = document.createElement('div');\n",
              "        docLink.innerHTML = docLinkHtml;\n",
              "        element.appendChild(docLink);\n",
              "      }\n",
              "    </script>\n",
              "  </div>\n",
              "\n",
              "\n",
              "<div id=\"df-eb9c6577-5470-487f-835a-22a70dc4dd40\">\n",
              "  <button class=\"colab-df-quickchart\" onclick=\"quickchart('df-eb9c6577-5470-487f-835a-22a70dc4dd40')\"\n",
              "            title=\"Suggest charts\"\n",
              "            style=\"display:none;\">\n",
              "\n",
              "<svg xmlns=\"http://www.w3.org/2000/svg\" height=\"24px\"viewBox=\"0 0 24 24\"\n",
              "     width=\"24px\">\n",
              "    <g>\n",
              "        <path d=\"M19 3H5c-1.1 0-2 .9-2 2v14c0 1.1.9 2 2 2h14c1.1 0 2-.9 2-2V5c0-1.1-.9-2-2-2zM9 17H7v-7h2v7zm4 0h-2V7h2v10zm4 0h-2v-4h2v4z\"/>\n",
              "    </g>\n",
              "</svg>\n",
              "  </button>\n",
              "\n",
              "<style>\n",
              "  .colab-df-quickchart {\n",
              "      --bg-color: #E8F0FE;\n",
              "      --fill-color: #1967D2;\n",
              "      --hover-bg-color: #E2EBFA;\n",
              "      --hover-fill-color: #174EA6;\n",
              "      --disabled-fill-color: #AAA;\n",
              "      --disabled-bg-color: #DDD;\n",
              "  }\n",
              "\n",
              "  [theme=dark] .colab-df-quickchart {\n",
              "      --bg-color: #3B4455;\n",
              "      --fill-color: #D2E3FC;\n",
              "      --hover-bg-color: #434B5C;\n",
              "      --hover-fill-color: #FFFFFF;\n",
              "      --disabled-bg-color: #3B4455;\n",
              "      --disabled-fill-color: #666;\n",
              "  }\n",
              "\n",
              "  .colab-df-quickchart {\n",
              "    background-color: var(--bg-color);\n",
              "    border: none;\n",
              "    border-radius: 50%;\n",
              "    cursor: pointer;\n",
              "    display: none;\n",
              "    fill: var(--fill-color);\n",
              "    height: 32px;\n",
              "    padding: 0;\n",
              "    width: 32px;\n",
              "  }\n",
              "\n",
              "  .colab-df-quickchart:hover {\n",
              "    background-color: var(--hover-bg-color);\n",
              "    box-shadow: 0 1px 2px rgba(60, 64, 67, 0.3), 0 1px 3px 1px rgba(60, 64, 67, 0.15);\n",
              "    fill: var(--button-hover-fill-color);\n",
              "  }\n",
              "\n",
              "  .colab-df-quickchart-complete:disabled,\n",
              "  .colab-df-quickchart-complete:disabled:hover {\n",
              "    background-color: var(--disabled-bg-color);\n",
              "    fill: var(--disabled-fill-color);\n",
              "    box-shadow: none;\n",
              "  }\n",
              "\n",
              "  .colab-df-spinner {\n",
              "    border: 2px solid var(--fill-color);\n",
              "    border-color: transparent;\n",
              "    border-bottom-color: var(--fill-color);\n",
              "    animation:\n",
              "      spin 1s steps(1) infinite;\n",
              "  }\n",
              "\n",
              "  @keyframes spin {\n",
              "    0% {\n",
              "      border-color: transparent;\n",
              "      border-bottom-color: var(--fill-color);\n",
              "      border-left-color: var(--fill-color);\n",
              "    }\n",
              "    20% {\n",
              "      border-color: transparent;\n",
              "      border-left-color: var(--fill-color);\n",
              "      border-top-color: var(--fill-color);\n",
              "    }\n",
              "    30% {\n",
              "      border-color: transparent;\n",
              "      border-left-color: var(--fill-color);\n",
              "      border-top-color: var(--fill-color);\n",
              "      border-right-color: var(--fill-color);\n",
              "    }\n",
              "    40% {\n",
              "      border-color: transparent;\n",
              "      border-right-color: var(--fill-color);\n",
              "      border-top-color: var(--fill-color);\n",
              "    }\n",
              "    60% {\n",
              "      border-color: transparent;\n",
              "      border-right-color: var(--fill-color);\n",
              "    }\n",
              "    80% {\n",
              "      border-color: transparent;\n",
              "      border-right-color: var(--fill-color);\n",
              "      border-bottom-color: var(--fill-color);\n",
              "    }\n",
              "    90% {\n",
              "      border-color: transparent;\n",
              "      border-bottom-color: var(--fill-color);\n",
              "    }\n",
              "  }\n",
              "</style>\n",
              "\n",
              "  <script>\n",
              "    async function quickchart(key) {\n",
              "      const quickchartButtonEl =\n",
              "        document.querySelector('#' + key + ' button');\n",
              "      quickchartButtonEl.disabled = true;  // To prevent multiple clicks.\n",
              "      quickchartButtonEl.classList.add('colab-df-spinner');\n",
              "      try {\n",
              "        const charts = await google.colab.kernel.invokeFunction(\n",
              "            'suggestCharts', [key], {});\n",
              "      } catch (error) {\n",
              "        console.error('Error during call to suggestCharts:', error);\n",
              "      }\n",
              "      quickchartButtonEl.classList.remove('colab-df-spinner');\n",
              "      quickchartButtonEl.classList.add('colab-df-quickchart-complete');\n",
              "    }\n",
              "    (() => {\n",
              "      let quickchartButtonEl =\n",
              "        document.querySelector('#df-eb9c6577-5470-487f-835a-22a70dc4dd40 button');\n",
              "      quickchartButtonEl.style.display =\n",
              "        google.colab.kernel.accessAllowed ? 'block' : 'none';\n",
              "    })();\n",
              "  </script>\n",
              "</div>\n",
              "    </div>\n",
              "  </div>\n"
            ]
          },
          "metadata": {},
          "execution_count": 45
        }
      ]
    }
  ]
}