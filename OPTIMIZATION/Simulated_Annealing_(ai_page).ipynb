{
  "nbformat": 4,
  "nbformat_minor": 0,
  "metadata": {
    "colab": {
      "provenance": []
    },
    "kernelspec": {
      "name": "python3",
      "display_name": "Python 3"
    },
    "language_info": {
      "name": "python"
    }
  },
  "cells": [
    {
      "cell_type": "code",
      "execution_count": 99,
      "metadata": {
        "id": "wBVL4EgMrV1m"
      },
      "outputs": [],
      "source": [
        "# Iván Andrés Trujillo Abella\n",
        "# ivantrujillo1229@gmail.com"
      ]
    },
    {
      "cell_type": "markdown",
      "source": [
        "Solve the following  problem:\n",
        "\n",
        "\\begin{equation}\n",
        "f(x) = 81x - 1.5x^{2} - 1000\n",
        "\\end{equation}\n",
        "\n",
        "\\begin{equation}\n",
        "f'(x) = 81 - 3x\n",
        "\\end{equation}\n",
        "\n",
        "\n",
        "Therefore the analytical solution is:\n",
        "\\begin{equation}\n",
        "x^{*} = 27\n",
        "\\end{equation}\n",
        "\n",
        "\n",
        "\n",
        "We are going to uses **simulated annealing**."
      ],
      "metadata": {
        "id": "YrilPoKhrbtR"
      }
    },
    {
      "cell_type": "code",
      "source": [
        "def fitness(x):\n",
        "  return 81*x[0] - (1.5)*(x[0]**2) - 1000,"
      ],
      "metadata": {
        "id": "GF9TyagTbsT7"
      },
      "execution_count": 100,
      "outputs": []
    },
    {
      "cell_type": "code",
      "source": [
        "fitness([27])"
      ],
      "metadata": {
        "colab": {
          "base_uri": "https://localhost:8080/"
        },
        "id": "DoUluhYFgWLm",
        "outputId": "12870143-2873-4555-b59b-7e4fcc05e11a"
      },
      "execution_count": 101,
      "outputs": [
        {
          "output_type": "execute_result",
          "data": {
            "text/plain": [
              "(93.5,)"
            ]
          },
          "metadata": {},
          "execution_count": 101
        }
      ]
    },
    {
      "cell_type": "code",
      "source": [
        "# Module of Simulated Anealing Fitness Function...\n",
        "\n",
        "import numpy as np\n",
        "import random\n",
        "\n",
        "#####################################\n",
        "# Simulated annealing               #\n",
        "#####################################\n",
        "def search(solution, alpha=0.01):\n",
        "  return solution + np.random.randn(len(solution)) * alpha\n",
        "\n",
        "\n",
        "\n",
        "def boltzmann(deltaE,  T, k=1):\n",
        "  return np.exp(-deltaE/(k*T))\n",
        "\n",
        "\n",
        "def SA(solution, search,\n",
        "         Ti,\n",
        "         Tf,\n",
        "         cooling_rate,\n",
        "         fitnessFunction,\n",
        "         seed=123,\n",
        "         reduce_temp=0.01,\n",
        "         alpha=0.01):\n",
        "  #print('initial  fitness:',fitnessFunction(solution))\n",
        "  record = {}\n",
        "  record['Major'] = (fitnessFunction(solution), solution)\n",
        "  T = Ti\n",
        "  while T>Tf:\n",
        "    for _ in range(cooling_rate):\n",
        "      solution_temp  = search(solution, alpha=alpha)\n",
        "      E0, E1 = fitnessFunction(solution)[0], fitnessFunction(solution_temp)[0]\n",
        "      if E1 > E0 or random.uniform(0,1) < boltzmann(E1-E0, T):\n",
        "        solution = solution_temp\n",
        "      if fitnessFunction(solution)[0] > record['Major'][0][0]:\n",
        "           record['Major'] = (fitnessFunction(solution), solution)\n",
        "    T = T - reduce_temp\n",
        "   # print(fitnessFunction(solution))\n",
        "  return record # dictionary"
      ],
      "metadata": {
        "id": "a2zF6TQKc9jc"
      },
      "execution_count": 102,
      "outputs": []
    },
    {
      "cell_type": "code",
      "source": [
        "SA(solution = [1],\n",
        "   search=search,\n",
        "   Ti =50,\n",
        "   Tf = 0,\n",
        "   cooling_rate=25,\n",
        "   reduce_temp=0.01,\n",
        "   alpha = 0.5,\n",
        "   fitnessFunction = fitness)"
      ],
      "metadata": {
        "colab": {
          "base_uri": "https://localhost:8080/"
        },
        "id": "wIOsZfTBdEu9",
        "outputId": "4b22f3e6-516a-4ac7-a941-21d154adeab0"
      },
      "execution_count": 103,
      "outputs": [
        {
          "output_type": "stream",
          "name": "stderr",
          "text": [
            "<ipython-input-102-bcb9bc9ecf7a>:15: RuntimeWarning: overflow encountered in exp\n",
            "  return np.exp(-deltaE/(k*T))\n"
          ]
        },
        {
          "output_type": "execute_result",
          "data": {
            "text/plain": [
              "{'Major': ((93.49999944465026,), array([27.00060847]))}"
            ]
          },
          "metadata": {},
          "execution_count": 103
        }
      ]
    },
    {
      "cell_type": "code",
      "source": [
        "exp_results = []\n",
        "trials  = 100\n",
        "for trial in range(trials):\n",
        "  results = SA(solution = [1],\n",
        "   search=search,\n",
        "   Ti =20,\n",
        "   Tf = 0,\n",
        "   cooling_rate=25,\n",
        "   reduce_temp=0.01,\n",
        "   alpha = 0.5,\n",
        "   fitnessFunction = fitness)\n",
        "  results\n",
        "  exp_results.append(results['Major'][1][0])\n"
      ],
      "metadata": {
        "colab": {
          "base_uri": "https://localhost:8080/"
        },
        "id": "i8-2fUK8hP1b",
        "outputId": "9aa28559-abb2-48ce-9438-ba66f34fdd61"
      },
      "execution_count": 113,
      "outputs": [
        {
          "output_type": "stream",
          "name": "stderr",
          "text": [
            "<ipython-input-102-bcb9bc9ecf7a>:15: RuntimeWarning: overflow encountered in exp\n",
            "  return np.exp(-deltaE/(k*T))\n"
          ]
        }
      ]
    },
    {
      "cell_type": "code",
      "source": [
        "np.array(exp_results).mean()"
      ],
      "metadata": {
        "colab": {
          "base_uri": "https://localhost:8080/"
        },
        "id": "pbVPW-euv_9P",
        "outputId": "a320dd9c-03ff-4c49-b82b-b010546ae7e6"
      },
      "execution_count": 114,
      "outputs": [
        {
          "output_type": "execute_result",
          "data": {
            "text/plain": [
              "24.746245764989894"
            ]
          },
          "metadata": {},
          "execution_count": 114
        }
      ]
    }
  ]
}