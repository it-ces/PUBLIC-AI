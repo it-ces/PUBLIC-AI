{
  "nbformat": 4,
  "nbformat_minor": 0,
  "metadata": {
    "colab": {
      "provenance": [],
      "include_colab_link": true
    },
    "kernelspec": {
      "name": "python3",
      "display_name": "Python 3"
    },
    "language_info": {
      "name": "python"
    }
  },
  "cells": [
    {
      "cell_type": "markdown",
      "metadata": {
        "id": "view-in-github",
        "colab_type": "text"
      },
      "source": [
        "<a href=\"https://colab.research.google.com/github/it-ces/PUBLIC-AI/blob/main/OPTIMIZATION/knapsack_(complex)(BIT).ipynb\" target=\"_parent\"><img src=\"https://colab.research.google.com/assets/colab-badge.svg\" alt=\"Open In Colab\"/></a>"
      ]
    },
    {
      "cell_type": "code",
      "source": [
        "# Iván Andrés Trujillo Abella\n",
        "# ivantrujillo1229@gmail.com"
      ],
      "metadata": {
        "id": "mNxzWnP3HNKN"
      },
      "execution_count": 1,
      "outputs": []
    },
    {
      "cell_type": "code",
      "source": [
        "import numpy as np"
      ],
      "metadata": {
        "id": "UjNUyS_rIiKG"
      },
      "execution_count": 2,
      "outputs": []
    },
    {
      "cell_type": "code",
      "execution_count": 3,
      "metadata": {
        "id": "EUDGiU0c_gaJ"
      },
      "outputs": [],
      "source": [
        "data = {   # costo - peso\n",
        "    'q1' : [0.3, 1],\n",
        "    'q2' : [5, 2.3],\n",
        "    'q3' : [1.3, 1.3],\n",
        "    'q4' : [10, 30],\n",
        "    'q5' : [12, 15],\n",
        "    'q6' : [8, 23],\n",
        "    'q7' : [1, 0.4]}"
      ]
    },
    {
      "cell_type": "code",
      "source": [
        "def profit(x):\n",
        "  precios = [data[item][1] for item in data] # draw the prices\n",
        "  acum = 0\n",
        "  for i,j in zip(precios,x):\n",
        "    acum = acum + i * j\n",
        "  return acum"
      ],
      "metadata": {
        "id": "C98dVVswAaU8"
      },
      "execution_count": 4,
      "outputs": []
    },
    {
      "cell_type": "code",
      "source": [
        "x = (1,0,0,1,1,0,0)\n",
        "profit(x)"
      ],
      "metadata": {
        "colab": {
          "base_uri": "https://localhost:8080/"
        },
        "id": "_Ufj0lMSBLoJ",
        "outputId": "f5be9978-ec5e-410e-81d3-68aaf7df513b"
      },
      "execution_count": 5,
      "outputs": [
        {
          "output_type": "execute_result",
          "data": {
            "text/plain": [
              "46.0"
            ]
          },
          "metadata": {},
          "execution_count": 5
        }
      ]
    },
    {
      "cell_type": "code",
      "source": [
        "def feasiable(x, constrain):\n",
        "  weights = [data[item][0] for item in data] # draw the prices\n",
        "  acum = 0\n",
        "  for i,j in zip(weights,x):\n",
        "    acum = acum + i * j\n",
        "  return acum<= constrain"
      ],
      "metadata": {
        "id": "BHT16FXSFK6I"
      },
      "execution_count": 6,
      "outputs": []
    },
    {
      "cell_type": "code",
      "source": [
        "x = (1,0,0,0,0,0,0)\n",
        "feasiable(x, 10)"
      ],
      "metadata": {
        "colab": {
          "base_uri": "https://localhost:8080/"
        },
        "id": "aB9aDhtGG8ww",
        "outputId": "13b14eff-9b10-4663-841e-2a7a889d3aea"
      },
      "execution_count": 7,
      "outputs": [
        {
          "output_type": "execute_result",
          "data": {
            "text/plain": [
              "True"
            ]
          },
          "metadata": {},
          "execution_count": 7
        }
      ]
    },
    {
      "cell_type": "code",
      "source": [
        "##Possible combinatios of 0's and 1's in a seven array"
      ],
      "metadata": {
        "id": "HeDXfTtaHMFc"
      },
      "execution_count": 8,
      "outputs": []
    },
    {
      "cell_type": "code",
      "source": [
        "import itertools\n",
        "all_sol = list(itertools.product([0, 1], repeat=7))"
      ],
      "metadata": {
        "id": "oWXLwDNDKK-t"
      },
      "execution_count": 9,
      "outputs": []
    },
    {
      "cell_type": "code",
      "source": [
        "len(all_sol)"
      ],
      "metadata": {
        "colab": {
          "base_uri": "https://localhost:8080/"
        },
        "id": "cX4n3xOZLOrw",
        "outputId": "621474aa-e205-47b7-87ce-1d42b333be65"
      },
      "execution_count": 10,
      "outputs": [
        {
          "output_type": "execute_result",
          "data": {
            "text/plain": [
              "128"
            ]
          },
          "metadata": {},
          "execution_count": 10
        }
      ]
    },
    {
      "cell_type": "code",
      "source": [
        "all_sol[127]"
      ],
      "metadata": {
        "colab": {
          "base_uri": "https://localhost:8080/"
        },
        "id": "hT0HeZK3LThC",
        "outputId": "8e36131c-4c7f-46d7-ff9c-9378a9dfd784"
      },
      "execution_count": 11,
      "outputs": [
        {
          "output_type": "execute_result",
          "data": {
            "text/plain": [
              "(1, 1, 1, 1, 1, 1, 1)"
            ]
          },
          "metadata": {},
          "execution_count": 11
        }
      ]
    },
    {
      "cell_type": "code",
      "source": [
        "feasiable_items = {}\n",
        "for solution in all_sol:\n",
        "  if feasiable(solution,18):\n",
        "    feasiable_items[solution] = profit(solution)\n",
        "optimun = sorted(feasiable_items.items(), key=lambda x:x[1], reverse=True)[1][0]"
      ],
      "metadata": {
        "id": "nSA8jtj4MAoX"
      },
      "execution_count": 12,
      "outputs": []
    },
    {
      "cell_type": "code",
      "source": [
        "print(optimun)"
      ],
      "metadata": {
        "colab": {
          "base_uri": "https://localhost:8080/"
        },
        "id": "8ViGSkvITjr8",
        "outputId": "107eda58-d9c8-415c-fd24-b003924ed07d"
      },
      "execution_count": 13,
      "outputs": [
        {
          "output_type": "stream",
          "name": "stdout",
          "text": [
            "(1, 1, 1, 1, 0, 0, 1)\n"
          ]
        }
      ]
    },
    {
      "cell_type": "code",
      "source": [
        "list(np.array(list(data.keys()))[np.array(optimun, dtype='bool')])"
      ],
      "metadata": {
        "colab": {
          "base_uri": "https://localhost:8080/"
        },
        "id": "b_l5PVcMQ9n3",
        "outputId": "15c376d0-91fa-4018-9cdc-2e2722055ad7"
      },
      "execution_count": 14,
      "outputs": [
        {
          "output_type": "execute_result",
          "data": {
            "text/plain": [
              "['q1', 'q2', 'q3', 'q4', 'q7']"
            ]
          },
          "metadata": {},
          "execution_count": 14
        }
      ]
    }
  ]
}