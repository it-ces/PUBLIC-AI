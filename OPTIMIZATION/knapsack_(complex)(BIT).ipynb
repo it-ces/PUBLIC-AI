{
  "nbformat": 4,
  "nbformat_minor": 0,
  "metadata": {
    "colab": {
      "provenance": []
    },
    "kernelspec": {
      "name": "python3",
      "display_name": "Python 3"
    },
    "language_info": {
      "name": "python"
    }
  },
  "cells": [
    {
      "cell_type": "code",
      "source": [
        "# Iván Andrés Trujillo Abella\n",
        "# ivantrujillo1229@gmail.com"
      ],
      "metadata": {
        "id": "mNxzWnP3HNKN"
      },
      "execution_count": 22,
      "outputs": []
    },
    {
      "cell_type": "code",
      "execution_count": 23,
      "metadata": {
        "id": "EUDGiU0c_gaJ"
      },
      "outputs": [],
      "source": [
        "data = {   # costo - peso\n",
        "    'q1' : [0.3, 1],\n",
        "    'q2' : [5, 2.3],\n",
        "    'q3' : [1.3, 1.3],\n",
        "    'q4' : [10, 30],\n",
        "    'q5' : [12, 15],\n",
        "    'q6' : [8, 23],\n",
        "    'q7' : [1, 0.4]}"
      ]
    },
    {
      "cell_type": "code",
      "source": [
        "def profit(x):\n",
        "  precios = [data[item][1] for item in data] # draw the prices\n",
        "  acum = 0\n",
        "  for i,j in zip(precios,x):\n",
        "    acum = acum + i * j\n",
        "  return acum"
      ],
      "metadata": {
        "id": "C98dVVswAaU8"
      },
      "execution_count": 24,
      "outputs": []
    },
    {
      "cell_type": "code",
      "source": [
        "x = (1,0,0,1,1,0,0)\n",
        "profit(x)"
      ],
      "metadata": {
        "colab": {
          "base_uri": "https://localhost:8080/"
        },
        "id": "_Ufj0lMSBLoJ",
        "outputId": "8c6c23c9-c2ba-4a5f-b9de-95fd1b437cac"
      },
      "execution_count": 25,
      "outputs": [
        {
          "output_type": "execute_result",
          "data": {
            "text/plain": [
              "46.0"
            ]
          },
          "metadata": {},
          "execution_count": 25
        }
      ]
    },
    {
      "cell_type": "code",
      "source": [
        "def feasiable(x, constrain):\n",
        "  weights = [data[item][0] for item in data] # draw the prices\n",
        "  acum = 0\n",
        "  for i,j in zip(weights,x):\n",
        "    acum = acum + i * j\n",
        "  return acum<= constrain"
      ],
      "metadata": {
        "id": "BHT16FXSFK6I"
      },
      "execution_count": 26,
      "outputs": []
    },
    {
      "cell_type": "code",
      "source": [
        "x = (1,0,0,0,0,0,0)\n",
        "feasiable(x, 10)"
      ],
      "metadata": {
        "colab": {
          "base_uri": "https://localhost:8080/"
        },
        "id": "aB9aDhtGG8ww",
        "outputId": "79dd4ed2-81be-40ff-8e66-58695df7a71e"
      },
      "execution_count": 27,
      "outputs": [
        {
          "output_type": "execute_result",
          "data": {
            "text/plain": [
              "True"
            ]
          },
          "metadata": {},
          "execution_count": 27
        }
      ]
    },
    {
      "cell_type": "code",
      "source": [
        "##Possible combinatios of 0's and 1's in a seven array"
      ],
      "metadata": {
        "id": "HeDXfTtaHMFc"
      },
      "execution_count": 28,
      "outputs": []
    },
    {
      "cell_type": "code",
      "source": [
        "import itertools\n",
        "all_sol = list(itertools.product([0, 1], repeat=7))"
      ],
      "metadata": {
        "id": "oWXLwDNDKK-t"
      },
      "execution_count": 29,
      "outputs": []
    },
    {
      "cell_type": "code",
      "source": [
        "len(all_sol)"
      ],
      "metadata": {
        "colab": {
          "base_uri": "https://localhost:8080/"
        },
        "id": "cX4n3xOZLOrw",
        "outputId": "21932928-83cb-4dfd-e4ba-6597e78f6b89"
      },
      "execution_count": 30,
      "outputs": [
        {
          "output_type": "execute_result",
          "data": {
            "text/plain": [
              "128"
            ]
          },
          "metadata": {},
          "execution_count": 30
        }
      ]
    },
    {
      "cell_type": "code",
      "source": [
        "all_sol[127]"
      ],
      "metadata": {
        "colab": {
          "base_uri": "https://localhost:8080/"
        },
        "id": "hT0HeZK3LThC",
        "outputId": "6e8f95fb-13e8-4030-f336-e5b9b3080b0a"
      },
      "execution_count": 31,
      "outputs": [
        {
          "output_type": "execute_result",
          "data": {
            "text/plain": [
              "(1, 1, 1, 1, 1, 1, 1)"
            ]
          },
          "metadata": {},
          "execution_count": 31
        }
      ]
    },
    {
      "cell_type": "code",
      "source": [
        "feasiable_items = {}\n",
        "for solution in all_sol:\n",
        "  if feasiable(solution,18):\n",
        "    feasiable_items[solution] = profit(solution)\n",
        "optimun = sorted(feasiable_items.items(), key=lambda x:x[1], reverse=True)[1][0]"
      ],
      "metadata": {
        "id": "nSA8jtj4MAoX"
      },
      "execution_count": 86,
      "outputs": []
    },
    {
      "cell_type": "code",
      "source": [
        "print(optimun)"
      ],
      "metadata": {
        "colab": {
          "base_uri": "https://localhost:8080/"
        },
        "id": "8ViGSkvITjr8",
        "outputId": "c7365685-6de5-4a21-8fe2-a1f068a6d8eb"
      },
      "execution_count": 94,
      "outputs": [
        {
          "output_type": "stream",
          "name": "stdout",
          "text": [
            "(1, 1, 1, 1, 0, 0, 1)\n"
          ]
        }
      ]
    },
    {
      "cell_type": "code",
      "source": [
        "list(np.array(list(data.keys()))[np.array(optimun, dtype='bool')])"
      ],
      "metadata": {
        "colab": {
          "base_uri": "https://localhost:8080/"
        },
        "id": "b_l5PVcMQ9n3",
        "outputId": "d96a64bf-0f38-4464-8af8-dde735a57c50"
      },
      "execution_count": 93,
      "outputs": [
        {
          "output_type": "execute_result",
          "data": {
            "text/plain": [
              "['q1', 'q2', 'q3', 'q4', 'q7']"
            ]
          },
          "metadata": {},
          "execution_count": 93
        }
      ]
    }
  ]
}