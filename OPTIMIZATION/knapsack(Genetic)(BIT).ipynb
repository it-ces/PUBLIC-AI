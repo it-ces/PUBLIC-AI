{
  "nbformat": 4,
  "nbformat_minor": 0,
  "metadata": {
    "colab": {
      "provenance": []
    },
    "kernelspec": {
      "name": "python3",
      "display_name": "Python 3"
    },
    "language_info": {
      "name": "python"
    }
  },
  "cells": [
    {
      "cell_type": "code",
      "execution_count": 1,
      "metadata": {
        "id": "OTHRJacNmTwU"
      },
      "outputs": [],
      "source": [
        "# Iván Andrés Trujillo Abella\n",
        "# ivantrujillo1229@gmail.com"
      ]
    },
    {
      "cell_type": "code",
      "source": [
        "# The problem is if in the constrained solution i need penalized"
      ],
      "metadata": {
        "id": "qdkalRG-md51"
      },
      "execution_count": 2,
      "outputs": []
    },
    {
      "cell_type": "code",
      "source": [
        "# Representation\n",
        "# Binary chromosome!"
      ],
      "metadata": {
        "id": "V45JkHtltSwW"
      },
      "execution_count": 3,
      "outputs": []
    },
    {
      "cell_type": "code",
      "source": [
        "!pip install deap"
      ],
      "metadata": {
        "colab": {
          "base_uri": "https://localhost:8080/"
        },
        "id": "je-eX1Hm68gt",
        "outputId": "9beb7ff1-88ef-4412-afd9-2bb80dd6901d"
      },
      "execution_count": 4,
      "outputs": [
        {
          "output_type": "stream",
          "name": "stdout",
          "text": [
            "Requirement already satisfied: deap in /usr/local/lib/python3.10/dist-packages (1.4.1)\n",
            "Requirement already satisfied: numpy in /usr/local/lib/python3.10/dist-packages (from deap) (1.23.5)\n"
          ]
        }
      ]
    },
    {
      "cell_type": "markdown",
      "source": [
        "The complexity of this algorithm is\n",
        "\\begin{equation}\n",
        "2^{N}\n",
        "\\end{equation}"
      ],
      "metadata": {
        "id": "xVm5qVbPL5cm"
      }
    },
    {
      "cell_type": "code",
      "source": [
        "data = {   # costo - peso\n",
        "    'q1' : [0.3, 1],\n",
        "    'q2' : [5, 2.3],\n",
        "    'q3' : [1.3, 1.3],\n",
        "    'q4' : [10, 30],\n",
        "    'q5' : [12, 15],\n",
        "    'q6' : [8, 23],\n",
        "    'q7' : [1, 0.4]}"
      ],
      "metadata": {
        "id": "Znzl0HnLLVjI"
      },
      "execution_count": 5,
      "outputs": []
    },
    {
      "cell_type": "code",
      "source": [
        "import random\n",
        "import math\n",
        "from deap import base\n",
        "from deap import creator\n",
        "from deap import tools\n",
        "from deap import algorithms\n",
        "import matplotlib.pyplot as plt\n",
        "\n",
        "# Functions to guide search\n",
        "\n",
        "def profit(x):\n",
        "  precios = [data[item][1] for item in data] # draw the prices\n",
        "  acum = 0\n",
        "  for i,j in zip(precios,x):\n",
        "    acum = acum + i * j\n",
        "  return acum\n",
        "\n",
        "\n",
        "def feasiable(x, constrain):\n",
        "  weights = [data[item][0] for item in data] # draw the prices\n",
        "  acum = 0\n",
        "  for i,j in zip(weights,x):\n",
        "    acum = acum + i * j\n",
        "  return acum<=constrain\n",
        "\n",
        "def objective(x, constrain):\n",
        "  if feasiable(x, constrain):\n",
        "    return profit(x),\n",
        "  else:\n",
        "    return -1,\n",
        "\n",
        "\n",
        "##### Chromosomal lenght\n",
        "\n",
        "chromosomal_size=len(data)\n",
        "\n",
        "### Define the problem\n",
        "creator.create(\"FitnessMax\", base.Fitness, weights=(1.0,))\n",
        "creator.create(\"Individual\", list, fitness=creator.FitnessMax)\n",
        "toolbox = base.Toolbox()\n",
        "toolbox.register(\"binary_gen\", random.randint, 0, 1) # Gene values\n",
        "toolbox.register(\"individual\", tools.initRepeat, creator.Individual, toolbox.binary_gen, chromosomal_size) # The length of chromosome!!\n",
        "toolbox.register(\"population\", tools.initRepeat, list, toolbox.individual, 50)\n",
        "toolbox.register(\"evaluate\", lambda x: objective(x,18)) # Change constrain!\n",
        "toolbox.register(\"mate\", tools.cxOnePoint)\n",
        "toolbox.register(\"mutate\", tools.mutFlipBit, indpb=0.1) # The probablity of flip a gene!\n",
        "toolbox.register(\"select\", tools.selTournament, tournsize=3)\n",
        "pop = toolbox.population()\n",
        "pop, logbok = algorithms.eaSimple(pop, toolbox, cxpb=0.35, mutpb=0.05, ngen=60, verbose=False)\n",
        "print(pop[0])"
      ],
      "metadata": {
        "colab": {
          "base_uri": "https://localhost:8080/"
        },
        "id": "NAGsyekm66IU",
        "outputId": "351ded0e-8c82-4fe8-fe9e-6f19d14efe02"
      },
      "execution_count": 6,
      "outputs": [
        {
          "output_type": "stream",
          "name": "stdout",
          "text": [
            "[1, 1, 1, 1, 0, 0, 1]\n"
          ]
        }
      ]
    },
    {
      "cell_type": "code",
      "source": [
        "import numpy as np\n",
        "np.array(list(data.keys()))[np.array(pop[0], dtype='bool')]"
      ],
      "metadata": {
        "colab": {
          "base_uri": "https://localhost:8080/"
        },
        "id": "mMHC-xTekvGI",
        "outputId": "35699373-550e-490e-c370-130cbb395af3"
      },
      "execution_count": 7,
      "outputs": [
        {
          "output_type": "execute_result",
          "data": {
            "text/plain": [
              "array(['q1', 'q2', 'q3', 'q4', 'q7'], dtype='<U2')"
            ]
          },
          "metadata": {},
          "execution_count": 7
        }
      ]
    },
    {
      "cell_type": "code",
      "source": [
        "feasiable(pop[0], 18)"
      ],
      "metadata": {
        "colab": {
          "base_uri": "https://localhost:8080/"
        },
        "id": "C_mYz8bEmI0u",
        "outputId": "0f65c733-6c1a-4002-86fd-670130c6fdc2"
      },
      "execution_count": 8,
      "outputs": [
        {
          "output_type": "execute_result",
          "data": {
            "text/plain": [
              "True"
            ]
          },
          "metadata": {},
          "execution_count": 8
        }
      ]
    },
    {
      "cell_type": "code",
      "source": [
        "profit(pop[0])"
      ],
      "metadata": {
        "colab": {
          "base_uri": "https://localhost:8080/"
        },
        "id": "wnJ_8MUumMDH",
        "outputId": "90caffda-148a-416b-cd91-e34698b44eeb"
      },
      "execution_count": 9,
      "outputs": [
        {
          "output_type": "execute_result",
          "data": {
            "text/plain": [
              "35.0"
            ]
          },
          "metadata": {},
          "execution_count": 9
        }
      ]
    }
  ]
}