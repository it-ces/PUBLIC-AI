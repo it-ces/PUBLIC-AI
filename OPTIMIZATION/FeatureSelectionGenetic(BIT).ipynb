{
  "nbformat": 4,
  "nbformat_minor": 0,
  "metadata": {
    "colab": {
      "provenance": []
    },
    "kernelspec": {
      "name": "python3",
      "display_name": "Python 3"
    },
    "language_info": {
      "name": "python"
    }
  },
  "cells": [
    {
      "cell_type": "code",
      "source": [
        "# Iván Andrés Trujillo Abella\n",
        "# ivantrujillo1229@gmail.com"
      ],
      "metadata": {
        "id": "20v9yatduLoF"
      },
      "execution_count": 190,
      "outputs": []
    },
    {
      "cell_type": "code",
      "execution_count": 191,
      "metadata": {
        "id": "XdnjEL_orR3_"
      },
      "outputs": [],
      "source": [
        "# First we want\n",
        "import pandas as pd\n",
        "import numpy as np\n",
        "df = pd.read_csv(\"https://raw.githubusercontent.com/it-ces/Datasets/main/basesuper.csv\")"
      ]
    },
    {
      "cell_type": "code",
      "source": [
        "X = ['Ingresos de actividades ordinarias','Costo de ventas',\n",
        "      'Ganancia (pérdida) antes de impuestos',\n",
        "     'Total de activos', 'Total pasivos',\n",
        "      'Patrimonio total', 'Ganancia (pérdida) por actividades de operación',\n",
        "      'Pasivos corrientes totales',  'Ganancia bruta',\n",
        "       'Ganancia (pérdida)', 'Ganancias acumuladas', 'y' ]\n",
        "df  = df[X]"
      ],
      "metadata": {
        "id": "gv0Mcd-ZtcG_"
      },
      "execution_count": 192,
      "outputs": []
    },
    {
      "cell_type": "code",
      "source": [
        "df.dropna(inplace=True)"
      ],
      "metadata": {
        "id": "BX-_KG479Cie"
      },
      "execution_count": 193,
      "outputs": []
    },
    {
      "cell_type": "code",
      "source": [
        "# how many models you can test?\n",
        "2**(df.shape[1]-1)"
      ],
      "metadata": {
        "colab": {
          "base_uri": "https://localhost:8080/"
        },
        "id": "NBFxa5pU4r9y",
        "outputId": "a2e4beeb-f1dd-4251-beac-28d5ef372d31"
      },
      "execution_count": 194,
      "outputs": [
        {
          "output_type": "execute_result",
          "data": {
            "text/plain": [
              "2048"
            ]
          },
          "metadata": {},
          "execution_count": 194
        }
      ]
    },
    {
      "cell_type": "code",
      "source": [
        "def Xy(df_,target):\n",
        "    \"\"\"\n",
        "    Split the data in X,y to ML implementations\n",
        "    \"\"\"\n",
        "    df = df_.copy()\n",
        "    X = df.loc[ : , df.columns != target]\n",
        "    y = df[target]\n",
        "    return X,y"
      ],
      "metadata": {
        "id": "7X4rA5nntQrb"
      },
      "execution_count": 195,
      "outputs": []
    },
    {
      "cell_type": "code",
      "source": [
        "X,y = Xy(df, 'y')\n",
        "from imblearn.under_sampling import RandomUnderSampler\n",
        "rus = RandomUnderSampler(random_state=1234)\n",
        "X, y = rus.fit_resample(X, y)"
      ],
      "metadata": {
        "id": "O78uyYHwtWgK"
      },
      "execution_count": 196,
      "outputs": []
    },
    {
      "cell_type": "code",
      "source": [
        "## Testing\n",
        "from sklearn.model_selection import train_test_split\n",
        "X_train, X_test, y_train, y_test = train_test_split(X, y, test_size=0.30, shuffle = True, random_state = 666, stratify=y)\n",
        "#X_train, X_val, y_train, y_val = train_test_split(X_train, y_train, test_size=0.30, shuffle = True, random_state = 666, stratify=y_train)"
      ],
      "metadata": {
        "id": "D3OJqlS2v707"
      },
      "execution_count": 197,
      "outputs": []
    },
    {
      "cell_type": "code",
      "source": [
        "print(y_train.value_counts())\n",
        "print(y_test.value_counts())\n",
        "print(y_val.value_counts())"
      ],
      "metadata": {
        "colab": {
          "base_uri": "https://localhost:8080/"
        },
        "id": "gZPi4xDp5qpg",
        "outputId": "2e7d7e12-eae0-4423-c74b-91611067e097"
      },
      "execution_count": 198,
      "outputs": [
        {
          "output_type": "stream",
          "name": "stdout",
          "text": [
            "0    109\n",
            "1    109\n",
            "Name: y, dtype: int64\n",
            "0    47\n",
            "1    47\n",
            "Name: y, dtype: int64\n",
            "1    33\n",
            "0    33\n",
            "Name: y, dtype: int64\n"
          ]
        }
      ]
    },
    {
      "cell_type": "code",
      "source": [
        "## Write the guided function\n",
        "from sklearn.linear_model import LogisticRegression\n",
        "from sklearn.metrics import f1_score\n",
        "def score(solution, X_train_, y_train_):\n",
        "  X_train, y_train = X_train_.copy(), y_train_.copy()\n",
        "  X_train, X_val, y_train, y_val = train_test_split(X_train, y_train,\n",
        "                                                    test_size=0.30, shuffle = True,\n",
        "                                                    random_state = 666, stratify=y_train)\n",
        "  solution = np.array(solution, dtype='bool')\n",
        "  X_train = X_train.loc[:, solution].to_numpy()\n",
        "  X_val = X_val.loc[:, solution].to_numpy()\n",
        "  return f1_score(y_val, LogisticRegression().fit(X_train, y_train).predict(X_val)),\n"
      ],
      "metadata": {
        "id": "TjF3gTDI-ar-"
      },
      "execution_count": 199,
      "outputs": []
    },
    {
      "cell_type": "code",
      "source": [
        "sol = [1,1,0,0,1,0,1,1,1,1,0]\n",
        "score(sol, X_train, y_train)"
      ],
      "metadata": {
        "colab": {
          "base_uri": "https://localhost:8080/"
        },
        "id": "xFXDSdHyBTuB",
        "outputId": "f179bacd-b927-4306-f036-c36057674d4e"
      },
      "execution_count": 200,
      "outputs": [
        {
          "output_type": "execute_result",
          "data": {
            "text/plain": [
              "(0.746268656716418,)"
            ]
          },
          "metadata": {},
          "execution_count": 200
        }
      ]
    },
    {
      "cell_type": "code",
      "source": [
        "!pip install deap"
      ],
      "metadata": {
        "colab": {
          "base_uri": "https://localhost:8080/"
        },
        "id": "vx16hYUjNV3n",
        "outputId": "a3fc55b3-aa6f-406e-d961-6ea25fe4c0dc"
      },
      "execution_count": 201,
      "outputs": [
        {
          "output_type": "stream",
          "name": "stdout",
          "text": [
            "Requirement already satisfied: deap in /usr/local/lib/python3.10/dist-packages (1.4.1)\n",
            "Requirement already satisfied: numpy in /usr/local/lib/python3.10/dist-packages (from deap) (1.23.5)\n"
          ]
        }
      ]
    },
    {
      "cell_type": "code",
      "source": [
        "import random\n",
        "from deap import creator\n",
        "from deap import base\n",
        "from deap import tools\n",
        "from deap import algorithms\n",
        "import matplotlib.pyplot as plt"
      ],
      "metadata": {
        "id": "RL0QvF_ENPLv"
      },
      "execution_count": 202,
      "outputs": []
    },
    {
      "cell_type": "code",
      "source": [
        "chromosomal_size = X_train.shape[1]"
      ],
      "metadata": {
        "id": "YcbcdEi0gD-T"
      },
      "execution_count": 203,
      "outputs": []
    },
    {
      "cell_type": "code",
      "source": [
        "creator.create(\"FitnessMax\", base.Fitness, weights=(1.0,))\n",
        "creator.create(\"Individual\", list, fitness=creator.FitnessMax)\n",
        "toolbox = base.Toolbox()\n",
        "toolbox.register(\"binaryGen\", random.randint, 0,1)\n",
        "toolbox.register(\"individual\", tools.initRepeat, creator.Individual, toolbox.binaryGen, chromosomal_size)\n",
        "toolbox.register(\"population\", tools.initRepeat, list, toolbox.individual, 80)\n",
        "toolbox.register(\"evaluate\", lambda x: score(x,X_train, y_train))\n",
        "toolbox.register(\"mate\", tools.cxOnePoint)\n",
        "toolbox.register(\"mutate\", tools.mutFlipBit, indpb=0.05)\n",
        "toolbox.register(\"select\", tools.selTournament, tournsize=3) #change to rolloute wheel\n",
        "pop = toolbox.population()\n",
        "pop, logbok = algorithms.eaSimple(pop, toolbox, cxpb=0.35, mutpb=0.05, ngen=60, verbose=False)\n",
        "print(pop[0])\n",
        "# Could be very useful graph while is running to see the behavior of the algorithm!!!\n",
        "# uses method fit to any model of scikit-learn"
      ],
      "metadata": {
        "colab": {
          "base_uri": "https://localhost:8080/"
        },
        "id": "FfrywIBnN7cz",
        "outputId": "96702778-d57a-4d48-df4c-d80c44e20262"
      },
      "execution_count": 204,
      "outputs": [
        {
          "output_type": "stream",
          "name": "stderr",
          "text": [
            "/usr/local/lib/python3.10/dist-packages/deap/creator.py:185: RuntimeWarning: A class named 'FitnessMax' has already been created and it will be overwritten. Consider deleting previous creation of that class or rename it.\n",
            "  warnings.warn(\"A class named '{0}' has already been created and it \"\n",
            "/usr/local/lib/python3.10/dist-packages/deap/creator.py:185: RuntimeWarning: A class named 'Individual' has already been created and it will be overwritten. Consider deleting previous creation of that class or rename it.\n",
            "  warnings.warn(\"A class named '{0}' has already been created and it \"\n"
          ]
        },
        {
          "output_type": "stream",
          "name": "stdout",
          "text": [
            "[0, 0, 0, 0, 1, 0, 1, 0, 1, 1, 0]\n"
          ]
        }
      ]
    },
    {
      "cell_type": "code",
      "source": [
        "pop[0]"
      ],
      "metadata": {
        "colab": {
          "base_uri": "https://localhost:8080/"
        },
        "id": "Ac8qma0bPTZp",
        "outputId": "d456aa38-6ae2-4cd0-9155-82f8c209a88d"
      },
      "execution_count": 209,
      "outputs": [
        {
          "output_type": "execute_result",
          "data": {
            "text/plain": [
              "[0, 0, 0, 0, 1, 0, 1, 0, 1, 1, 0]"
            ]
          },
          "metadata": {},
          "execution_count": 209
        }
      ]
    },
    {
      "cell_type": "code",
      "source": [
        "toolbox.evaluate(pop[0])"
      ],
      "metadata": {
        "colab": {
          "base_uri": "https://localhost:8080/"
        },
        "id": "r8rY4K6arlZA",
        "outputId": "e1d23aeb-d804-4770-9fa8-31488eba2b3c"
      },
      "execution_count": 208,
      "outputs": [
        {
          "output_type": "execute_result",
          "data": {
            "text/plain": [
              "(0.8,)"
            ]
          },
          "metadata": {},
          "execution_count": 208
        }
      ]
    },
    {
      "cell_type": "code",
      "source": [
        "## Add graph"
      ],
      "metadata": {
        "id": "V_OZea_Bsfpp"
      },
      "execution_count": 207,
      "outputs": []
    },
    {
      "cell_type": "code",
      "source": [
        "X_train.loc[:,np.array(pop[0], dtype='bool')]"
      ],
      "metadata": {
        "colab": {
          "base_uri": "https://localhost:8080/",
          "height": 423
        },
        "id": "8sMOWrw6tfME",
        "outputId": "05c93119-7a00-4673-85b8-693f2ba852e9"
      },
      "execution_count": 213,
      "outputs": [
        {
          "output_type": "execute_result",
          "data": {
            "text/plain": [
              "     Total pasivos  Ganancia (pérdida) por actividades de operación  \\\n",
              "81      52081455.0                                        1433558.0   \n",
              "155      5431759.0                                        3037631.0   \n",
              "221      2462816.0                                         596682.0   \n",
              "222      7054691.0                                       -2266002.0   \n",
              "163     10358025.0                                        -204624.0   \n",
              "..             ...                                              ...   \n",
              "249     12693877.0                                        2416663.0   \n",
              "96       1334277.0                                         -17268.0   \n",
              "7       10672339.0                                        1470879.0   \n",
              "116     14356612.0                                        2322565.0   \n",
              "216      8348300.0                                        -159743.0   \n",
              "\n",
              "     Ganancia bruta  Ganancia (pérdida)  \n",
              "81        1934539.0           1255619.0  \n",
              "155       5302559.0           1950280.0  \n",
              "221       1973692.0            399777.0  \n",
              "222       6106411.0          -2266002.0  \n",
              "163        174359.0           -676806.0  \n",
              "..              ...                 ...  \n",
              "249       7282917.0            596802.0  \n",
              "96              0.0            -82815.0  \n",
              "7         4795260.0            970638.0  \n",
              "116       5694295.0           1166834.0  \n",
              "216        186123.0           -165386.0  \n",
              "\n",
              "[218 rows x 4 columns]"
            ],
            "text/html": [
              "\n",
              "  <div id=\"df-a3a4b3f3-0273-41ad-88ee-67936c49d768\" class=\"colab-df-container\">\n",
              "    <div>\n",
              "<style scoped>\n",
              "    .dataframe tbody tr th:only-of-type {\n",
              "        vertical-align: middle;\n",
              "    }\n",
              "\n",
              "    .dataframe tbody tr th {\n",
              "        vertical-align: top;\n",
              "    }\n",
              "\n",
              "    .dataframe thead th {\n",
              "        text-align: right;\n",
              "    }\n",
              "</style>\n",
              "<table border=\"1\" class=\"dataframe\">\n",
              "  <thead>\n",
              "    <tr style=\"text-align: right;\">\n",
              "      <th></th>\n",
              "      <th>Total pasivos</th>\n",
              "      <th>Ganancia (pérdida) por actividades de operación</th>\n",
              "      <th>Ganancia bruta</th>\n",
              "      <th>Ganancia (pérdida)</th>\n",
              "    </tr>\n",
              "  </thead>\n",
              "  <tbody>\n",
              "    <tr>\n",
              "      <th>81</th>\n",
              "      <td>52081455.0</td>\n",
              "      <td>1433558.0</td>\n",
              "      <td>1934539.0</td>\n",
              "      <td>1255619.0</td>\n",
              "    </tr>\n",
              "    <tr>\n",
              "      <th>155</th>\n",
              "      <td>5431759.0</td>\n",
              "      <td>3037631.0</td>\n",
              "      <td>5302559.0</td>\n",
              "      <td>1950280.0</td>\n",
              "    </tr>\n",
              "    <tr>\n",
              "      <th>221</th>\n",
              "      <td>2462816.0</td>\n",
              "      <td>596682.0</td>\n",
              "      <td>1973692.0</td>\n",
              "      <td>399777.0</td>\n",
              "    </tr>\n",
              "    <tr>\n",
              "      <th>222</th>\n",
              "      <td>7054691.0</td>\n",
              "      <td>-2266002.0</td>\n",
              "      <td>6106411.0</td>\n",
              "      <td>-2266002.0</td>\n",
              "    </tr>\n",
              "    <tr>\n",
              "      <th>163</th>\n",
              "      <td>10358025.0</td>\n",
              "      <td>-204624.0</td>\n",
              "      <td>174359.0</td>\n",
              "      <td>-676806.0</td>\n",
              "    </tr>\n",
              "    <tr>\n",
              "      <th>...</th>\n",
              "      <td>...</td>\n",
              "      <td>...</td>\n",
              "      <td>...</td>\n",
              "      <td>...</td>\n",
              "    </tr>\n",
              "    <tr>\n",
              "      <th>249</th>\n",
              "      <td>12693877.0</td>\n",
              "      <td>2416663.0</td>\n",
              "      <td>7282917.0</td>\n",
              "      <td>596802.0</td>\n",
              "    </tr>\n",
              "    <tr>\n",
              "      <th>96</th>\n",
              "      <td>1334277.0</td>\n",
              "      <td>-17268.0</td>\n",
              "      <td>0.0</td>\n",
              "      <td>-82815.0</td>\n",
              "    </tr>\n",
              "    <tr>\n",
              "      <th>7</th>\n",
              "      <td>10672339.0</td>\n",
              "      <td>1470879.0</td>\n",
              "      <td>4795260.0</td>\n",
              "      <td>970638.0</td>\n",
              "    </tr>\n",
              "    <tr>\n",
              "      <th>116</th>\n",
              "      <td>14356612.0</td>\n",
              "      <td>2322565.0</td>\n",
              "      <td>5694295.0</td>\n",
              "      <td>1166834.0</td>\n",
              "    </tr>\n",
              "    <tr>\n",
              "      <th>216</th>\n",
              "      <td>8348300.0</td>\n",
              "      <td>-159743.0</td>\n",
              "      <td>186123.0</td>\n",
              "      <td>-165386.0</td>\n",
              "    </tr>\n",
              "  </tbody>\n",
              "</table>\n",
              "<p>218 rows × 4 columns</p>\n",
              "</div>\n",
              "    <div class=\"colab-df-buttons\">\n",
              "\n",
              "  <div class=\"colab-df-container\">\n",
              "    <button class=\"colab-df-convert\" onclick=\"convertToInteractive('df-a3a4b3f3-0273-41ad-88ee-67936c49d768')\"\n",
              "            title=\"Convert this dataframe to an interactive table.\"\n",
              "            style=\"display:none;\">\n",
              "\n",
              "  <svg xmlns=\"http://www.w3.org/2000/svg\" height=\"24px\" viewBox=\"0 -960 960 960\">\n",
              "    <path d=\"M120-120v-720h720v720H120Zm60-500h600v-160H180v160Zm220 220h160v-160H400v160Zm0 220h160v-160H400v160ZM180-400h160v-160H180v160Zm440 0h160v-160H620v160ZM180-180h160v-160H180v160Zm440 0h160v-160H620v160Z\"/>\n",
              "  </svg>\n",
              "    </button>\n",
              "\n",
              "  <style>\n",
              "    .colab-df-container {\n",
              "      display:flex;\n",
              "      gap: 12px;\n",
              "    }\n",
              "\n",
              "    .colab-df-convert {\n",
              "      background-color: #E8F0FE;\n",
              "      border: none;\n",
              "      border-radius: 50%;\n",
              "      cursor: pointer;\n",
              "      display: none;\n",
              "      fill: #1967D2;\n",
              "      height: 32px;\n",
              "      padding: 0 0 0 0;\n",
              "      width: 32px;\n",
              "    }\n",
              "\n",
              "    .colab-df-convert:hover {\n",
              "      background-color: #E2EBFA;\n",
              "      box-shadow: 0px 1px 2px rgba(60, 64, 67, 0.3), 0px 1px 3px 1px rgba(60, 64, 67, 0.15);\n",
              "      fill: #174EA6;\n",
              "    }\n",
              "\n",
              "    .colab-df-buttons div {\n",
              "      margin-bottom: 4px;\n",
              "    }\n",
              "\n",
              "    [theme=dark] .colab-df-convert {\n",
              "      background-color: #3B4455;\n",
              "      fill: #D2E3FC;\n",
              "    }\n",
              "\n",
              "    [theme=dark] .colab-df-convert:hover {\n",
              "      background-color: #434B5C;\n",
              "      box-shadow: 0px 1px 3px 1px rgba(0, 0, 0, 0.15);\n",
              "      filter: drop-shadow(0px 1px 2px rgba(0, 0, 0, 0.3));\n",
              "      fill: #FFFFFF;\n",
              "    }\n",
              "  </style>\n",
              "\n",
              "    <script>\n",
              "      const buttonEl =\n",
              "        document.querySelector('#df-a3a4b3f3-0273-41ad-88ee-67936c49d768 button.colab-df-convert');\n",
              "      buttonEl.style.display =\n",
              "        google.colab.kernel.accessAllowed ? 'block' : 'none';\n",
              "\n",
              "      async function convertToInteractive(key) {\n",
              "        const element = document.querySelector('#df-a3a4b3f3-0273-41ad-88ee-67936c49d768');\n",
              "        const dataTable =\n",
              "          await google.colab.kernel.invokeFunction('convertToInteractive',\n",
              "                                                    [key], {});\n",
              "        if (!dataTable) return;\n",
              "\n",
              "        const docLinkHtml = 'Like what you see? Visit the ' +\n",
              "          '<a target=\"_blank\" href=https://colab.research.google.com/notebooks/data_table.ipynb>data table notebook</a>'\n",
              "          + ' to learn more about interactive tables.';\n",
              "        element.innerHTML = '';\n",
              "        dataTable['output_type'] = 'display_data';\n",
              "        await google.colab.output.renderOutput(dataTable, element);\n",
              "        const docLink = document.createElement('div');\n",
              "        docLink.innerHTML = docLinkHtml;\n",
              "        element.appendChild(docLink);\n",
              "      }\n",
              "    </script>\n",
              "  </div>\n",
              "\n",
              "\n",
              "<div id=\"df-621b83a8-8862-4871-9b91-50b5422f752a\">\n",
              "  <button class=\"colab-df-quickchart\" onclick=\"quickchart('df-621b83a8-8862-4871-9b91-50b5422f752a')\"\n",
              "            title=\"Suggest charts.\"\n",
              "            style=\"display:none;\">\n",
              "\n",
              "<svg xmlns=\"http://www.w3.org/2000/svg\" height=\"24px\"viewBox=\"0 0 24 24\"\n",
              "     width=\"24px\">\n",
              "    <g>\n",
              "        <path d=\"M19 3H5c-1.1 0-2 .9-2 2v14c0 1.1.9 2 2 2h14c1.1 0 2-.9 2-2V5c0-1.1-.9-2-2-2zM9 17H7v-7h2v7zm4 0h-2V7h2v10zm4 0h-2v-4h2v4z\"/>\n",
              "    </g>\n",
              "</svg>\n",
              "  </button>\n",
              "\n",
              "<style>\n",
              "  .colab-df-quickchart {\n",
              "    background-color: #E8F0FE;\n",
              "    border: none;\n",
              "    border-radius: 50%;\n",
              "    cursor: pointer;\n",
              "    display: none;\n",
              "    fill: #1967D2;\n",
              "    height: 32px;\n",
              "    padding: 0 0 0 0;\n",
              "    width: 32px;\n",
              "  }\n",
              "\n",
              "  .colab-df-quickchart:hover {\n",
              "    background-color: #E2EBFA;\n",
              "    box-shadow: 0px 1px 2px rgba(60, 64, 67, 0.3), 0px 1px 3px 1px rgba(60, 64, 67, 0.15);\n",
              "    fill: #174EA6;\n",
              "  }\n",
              "\n",
              "  [theme=dark] .colab-df-quickchart {\n",
              "    background-color: #3B4455;\n",
              "    fill: #D2E3FC;\n",
              "  }\n",
              "\n",
              "  [theme=dark] .colab-df-quickchart:hover {\n",
              "    background-color: #434B5C;\n",
              "    box-shadow: 0px 1px 3px 1px rgba(0, 0, 0, 0.15);\n",
              "    filter: drop-shadow(0px 1px 2px rgba(0, 0, 0, 0.3));\n",
              "    fill: #FFFFFF;\n",
              "  }\n",
              "</style>\n",
              "\n",
              "  <script>\n",
              "    async function quickchart(key) {\n",
              "      const charts = await google.colab.kernel.invokeFunction(\n",
              "          'suggestCharts', [key], {});\n",
              "    }\n",
              "    (() => {\n",
              "      let quickchartButtonEl =\n",
              "        document.querySelector('#df-621b83a8-8862-4871-9b91-50b5422f752a button');\n",
              "      quickchartButtonEl.style.display =\n",
              "        google.colab.kernel.accessAllowed ? 'block' : 'none';\n",
              "    })();\n",
              "  </script>\n",
              "</div>\n",
              "    </div>\n",
              "  </div>\n"
            ]
          },
          "metadata": {},
          "execution_count": 213
        }
      ]
    }
  ]
}