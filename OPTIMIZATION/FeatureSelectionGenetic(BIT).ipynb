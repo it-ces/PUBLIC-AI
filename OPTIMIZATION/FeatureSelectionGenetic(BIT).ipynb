{
  "cells": [
    {
      "cell_type": "markdown",
      "metadata": {
        "id": "view-in-github",
        "colab_type": "text"
      },
      "source": [
        "<a href=\"https://colab.research.google.com/github/it-ces/PUBLIC-AI/blob/main/OPTIMIZATION/FeatureSelectionGenetic(BIT).ipynb\" target=\"_parent\"><img src=\"https://colab.research.google.com/assets/colab-badge.svg\" alt=\"Open In Colab\"/></a>"
      ]
    },
    {
      "cell_type": "code",
      "execution_count": null,
      "metadata": {
        "id": "20v9yatduLoF"
      },
      "outputs": [],
      "source": [
        "# Iván Andrés Trujillo Abella\n",
        "# ivantrujillo1229@gmail.com"
      ]
    },
    {
      "cell_type": "code",
      "execution_count": null,
      "metadata": {
        "id": "XdnjEL_orR3_"
      },
      "outputs": [],
      "source": [
        "# First we want\n",
        "import pandas as pd\n",
        "import numpy as np\n",
        "df = pd.read_csv(\"https://raw.githubusercontent.com/it-ces/Datasets/main/basesuper.csv\")"
      ]
    },
    {
      "cell_type": "code",
      "execution_count": null,
      "metadata": {
        "id": "gv0Mcd-ZtcG_"
      },
      "outputs": [],
      "source": [
        "X = ['Ingresos de actividades ordinarias','Costo de ventas',\n",
        "      'Ganancia (pérdida) antes de impuestos',\n",
        "     'Total de activos', 'Total pasivos',\n",
        "      'Patrimonio total', 'Ganancia (pérdida) por actividades de operación',\n",
        "      'Pasivos corrientes totales',  'Ganancia bruta',\n",
        "       'Ganancia (pérdida)', 'Ganancias acumuladas', 'y' ]\n",
        "df  = df[X]"
      ]
    },
    {
      "cell_type": "code",
      "execution_count": null,
      "metadata": {
        "id": "BX-_KG479Cie"
      },
      "outputs": [],
      "source": [
        "df.dropna(inplace=True)"
      ]
    },
    {
      "cell_type": "code",
      "execution_count": null,
      "metadata": {
        "colab": {
          "base_uri": "https://localhost:8080/"
        },
        "id": "NBFxa5pU4r9y",
        "outputId": "a2e4beeb-f1dd-4251-beac-28d5ef372d31"
      },
      "outputs": [
        {
          "data": {
            "text/plain": [
              "2048"
            ]
          },
          "execution_count": 68,
          "metadata": {},
          "output_type": "execute_result"
        }
      ],
      "source": [
        "# how many models you can test?\n",
        "2**(df.shape[1]-1)"
      ]
    },
    {
      "cell_type": "code",
      "execution_count": null,
      "metadata": {
        "id": "7X4rA5nntQrb"
      },
      "outputs": [],
      "source": [
        "def Xy(df_,target):\n",
        "    \"\"\"\n",
        "    Split the data in X,y to ML implementations\n",
        "    \"\"\"\n",
        "    df = df_.copy()\n",
        "    X = df.loc[ : , df.columns != target]\n",
        "    y = df[target]\n",
        "    return X,y"
      ]
    },
    {
      "cell_type": "code",
      "execution_count": null,
      "metadata": {
        "id": "O78uyYHwtWgK"
      },
      "outputs": [],
      "source": [
        "X,y = Xy(df, 'y')\n",
        "from imblearn.under_sampling import RandomUnderSampler\n",
        "rus = RandomUnderSampler(random_state=1234)\n",
        "X, y = rus.fit_resample(X, y)"
      ]
    },
    {
      "cell_type": "code",
      "execution_count": null,
      "metadata": {
        "id": "D3OJqlS2v707"
      },
      "outputs": [],
      "source": [
        "## Testing\n",
        "from sklearn.model_selection import train_test_split\n",
        "X_train, X_test, y_train, y_test = train_test_split(X, y, test_size=0.30, shuffle = True, random_state = 666, stratify=y)"
      ]
    },
    {
      "cell_type": "code",
      "execution_count": null,
      "metadata": {
        "colab": {
          "base_uri": "https://localhost:8080/"
        },
        "id": "gZPi4xDp5qpg",
        "outputId": "2e7d7e12-eae0-4423-c74b-91611067e097"
      },
      "outputs": [
        {
          "name": "stdout",
          "output_type": "stream",
          "text": [
            "y\n",
            "0    109\n",
            "1    109\n",
            "Name: count, dtype: int64\n",
            "y\n",
            "0    47\n",
            "1    47\n",
            "Name: count, dtype: int64\n"
          ]
        }
      ],
      "source": [
        "print(y_train.value_counts())\n",
        "print(y_test.value_counts())\n"
      ]
    },
    {
      "cell_type": "code",
      "execution_count": null,
      "metadata": {
        "id": "TjF3gTDI-ar-"
      },
      "outputs": [],
      "source": [
        "## Write the guided function\n",
        "from sklearn.linear_model import LogisticRegression\n",
        "from sklearn.metrics import f1_score\n",
        "def score(solution, X_train_, y_train_):\n",
        "    X_train, y_train = X_train_.copy(), y_train_.copy()\n",
        "    X_train, X_val, y_train, y_val = train_test_split(X_train, y_train,\n",
        "                                                    test_size=0.30, shuffle = True,\n",
        "                                                    random_state = 666, stratify=y_train)\n",
        "    solution = np.array(solution, dtype='bool')\n",
        "    X_train = X_train.loc[:, solution].to_numpy()\n",
        "    X_val = X_val.loc[:, solution].to_numpy()\n",
        "    return f1_score(y_val, LogisticRegression().fit(X_train, y_train).predict(X_val)),\n"
      ]
    },
    {
      "cell_type": "code",
      "execution_count": null,
      "metadata": {
        "colab": {
          "base_uri": "https://localhost:8080/"
        },
        "id": "xFXDSdHyBTuB",
        "outputId": "f179bacd-b927-4306-f036-c36057674d4e"
      },
      "outputs": [
        {
          "data": {
            "text/plain": [
              "(0.746268656716418,)"
            ]
          },
          "execution_count": 74,
          "metadata": {},
          "output_type": "execute_result"
        }
      ],
      "source": [
        "sol = [1,1,0,0,1,0,1,1,1,1,0]\n",
        "score(sol, X_train, y_train)"
      ]
    },
    {
      "cell_type": "code",
      "execution_count": null,
      "metadata": {
        "colab": {
          "base_uri": "https://localhost:8080/"
        },
        "id": "vx16hYUjNV3n",
        "outputId": "a3fc55b3-aa6f-406e-d961-6ea25fe4c0dc"
      },
      "outputs": [
        {
          "name": "stdout",
          "output_type": "stream",
          "text": [
            "Requirement already satisfied: deap in c:\\users\\iván\\appdata\\local\\programs\\python\\python311\\lib\\site-packages (1.4.1)\n",
            "Requirement already satisfied: numpy in c:\\users\\iván\\appdata\\local\\programs\\python\\python311\\lib\\site-packages (from deap) (1.24.3)\n"
          ]
        }
      ],
      "source": [
        "!pip install deap"
      ]
    },
    {
      "cell_type": "code",
      "execution_count": null,
      "metadata": {
        "id": "RL0QvF_ENPLv"
      },
      "outputs": [],
      "source": [
        "import random\n",
        "from deap import creator\n",
        "from deap import base\n",
        "from deap import tools\n",
        "from deap import algorithms\n",
        "import matplotlib.pyplot as plt"
      ]
    },
    {
      "cell_type": "code",
      "execution_count": null,
      "metadata": {
        "id": "YcbcdEi0gD-T"
      },
      "outputs": [],
      "source": [
        "chromosomal_size = X_train.shape[1]"
      ]
    },
    {
      "cell_type": "code",
      "execution_count": null,
      "metadata": {
        "colab": {
          "base_uri": "https://localhost:8080/"
        },
        "id": "FfrywIBnN7cz",
        "outputId": "96702778-d57a-4d48-df4c-d80c44e20262"
      },
      "outputs": [
        {
          "name": "stderr",
          "output_type": "stream",
          "text": [
            "C:\\Users\\iván\\AppData\\Local\\Programs\\Python\\Python311\\Lib\\site-packages\\deap\\creator.py:185: RuntimeWarning: A class named 'FitnessMax' has already been created and it will be overwritten. Consider deleting previous creation of that class or rename it.\n",
            "  warnings.warn(\"A class named '{0}' has already been created and it \"\n",
            "C:\\Users\\iván\\AppData\\Local\\Programs\\Python\\Python311\\Lib\\site-packages\\deap\\creator.py:185: RuntimeWarning: A class named 'Individual' has already been created and it will be overwritten. Consider deleting previous creation of that class or rename it.\n",
            "  warnings.warn(\"A class named '{0}' has already been created and it \"\n"
          ]
        },
        {
          "name": "stdout",
          "output_type": "stream",
          "text": [
            "[0, 0, 1, 1, 0, 0, 0, 0, 0, 1, 0]\n"
          ]
        }
      ],
      "source": [
        "creator.create(\"FitnessMax\", base.Fitness, weights=(1.0,))\n",
        "creator.create(\"Individual\", list, fitness=creator.FitnessMax)\n",
        "toolbox = base.Toolbox()\n",
        "toolbox.register(\"binaryGen\", random.randint, 0,1)\n",
        "toolbox.register(\"individual\", tools.initRepeat, creator.Individual, toolbox.binaryGen, chromosomal_size)\n",
        "toolbox.register(\"population\", tools.initRepeat, list, toolbox.individual, 80)\n",
        "toolbox.register(\"evaluate\", lambda x: score(x,X_train, y_train))\n",
        "toolbox.register(\"mate\", tools.cxOnePoint)\n",
        "toolbox.register(\"mutate\", tools.mutFlipBit, indpb=0.05)\n",
        "toolbox.register(\"select\", tools.selTournament, tournsize=3) #change to rolloute wheel\n",
        "pop = toolbox.population()\n",
        "pop, logbok = algorithms.eaSimple(pop, toolbox, cxpb=0.35, mutpb=0.05, ngen=60, verbose=False)\n",
        "print(pop[0])\n",
        "# Could be very useful graph while is running to see the behavior of the algorithm!!!\n",
        "# uses method fit to any model of scikit-learn"
      ]
    },
    {
      "cell_type": "code",
      "execution_count": null,
      "metadata": {
        "colab": {
          "base_uri": "https://localhost:8080/"
        },
        "id": "Ac8qma0bPTZp",
        "outputId": "d456aa38-6ae2-4cd0-9155-82f8c209a88d"
      },
      "outputs": [
        {
          "data": {
            "text/plain": [
              "[0, 0, 1, 1, 0, 0, 0, 0, 0, 1, 0]"
            ]
          },
          "execution_count": 79,
          "metadata": {},
          "output_type": "execute_result"
        }
      ],
      "source": [
        "pop[0]"
      ]
    },
    {
      "cell_type": "code",
      "execution_count": null,
      "metadata": {
        "colab": {
          "base_uri": "https://localhost:8080/"
        },
        "id": "r8rY4K6arlZA",
        "outputId": "e1d23aeb-d804-4770-9fa8-31488eba2b3c"
      },
      "outputs": [
        {
          "data": {
            "text/plain": [
              "(0.7692307692307692,)"
            ]
          },
          "execution_count": 80,
          "metadata": {},
          "output_type": "execute_result"
        }
      ],
      "source": [
        "toolbox.evaluate(pop[0])"
      ]
    },
    {
      "cell_type": "code",
      "execution_count": null,
      "metadata": {
        "id": "V_OZea_Bsfpp"
      },
      "outputs": [],
      "source": [
        "## Add graph"
      ]
    },
    {
      "cell_type": "code",
      "execution_count": null,
      "metadata": {
        "colab": {
          "base_uri": "https://localhost:8080/",
          "height": 423
        },
        "id": "8sMOWrw6tfME",
        "outputId": "05c93119-7a00-4673-85b8-693f2ba852e9"
      },
      "outputs": [
        {
          "data": {
            "text/html": [
              "<div>\n",
              "<style scoped>\n",
              "    .dataframe tbody tr th:only-of-type {\n",
              "        vertical-align: middle;\n",
              "    }\n",
              "\n",
              "    .dataframe tbody tr th {\n",
              "        vertical-align: top;\n",
              "    }\n",
              "\n",
              "    .dataframe thead th {\n",
              "        text-align: right;\n",
              "    }\n",
              "</style>\n",
              "<table border=\"1\" class=\"dataframe\">\n",
              "  <thead>\n",
              "    <tr style=\"text-align: right;\">\n",
              "      <th></th>\n",
              "      <th>Ganancia (pérdida) antes de impuestos</th>\n",
              "      <th>Total de activos</th>\n",
              "      <th>Ganancia (pérdida)</th>\n",
              "    </tr>\n",
              "  </thead>\n",
              "  <tbody>\n",
              "    <tr>\n",
              "      <th>11949</th>\n",
              "      <td>1426770.0</td>\n",
              "      <td>62330759.0</td>\n",
              "      <td>1255619.0</td>\n",
              "    </tr>\n",
              "    <tr>\n",
              "      <th>10357</th>\n",
              "      <td>3037631.0</td>\n",
              "      <td>12442440.0</td>\n",
              "      <td>1950280.0</td>\n",
              "    </tr>\n",
              "    <tr>\n",
              "      <th>5093</th>\n",
              "      <td>596682.0</td>\n",
              "      <td>6372988.0</td>\n",
              "      <td>399777.0</td>\n",
              "    </tr>\n",
              "    <tr>\n",
              "      <th>5108</th>\n",
              "      <td>-2266002.0</td>\n",
              "      <td>5413417.0</td>\n",
              "      <td>-2266002.0</td>\n",
              "    </tr>\n",
              "    <tr>\n",
              "      <th>957</th>\n",
              "      <td>-608723.0</td>\n",
              "      <td>13632151.0</td>\n",
              "      <td>-676806.0</td>\n",
              "    </tr>\n",
              "    <tr>\n",
              "      <th>...</th>\n",
              "      <td>...</td>\n",
              "      <td>...</td>\n",
              "      <td>...</td>\n",
              "    </tr>\n",
              "    <tr>\n",
              "      <th>7520</th>\n",
              "      <td>731452.0</td>\n",
              "      <td>21412644.0</td>\n",
              "      <td>596802.0</td>\n",
              "    </tr>\n",
              "    <tr>\n",
              "      <th>10312</th>\n",
              "      <td>-24748.0</td>\n",
              "      <td>14745906.0</td>\n",
              "      <td>-82815.0</td>\n",
              "    </tr>\n",
              "    <tr>\n",
              "      <th>11451</th>\n",
              "      <td>1132983.0</td>\n",
              "      <td>17651867.0</td>\n",
              "      <td>970638.0</td>\n",
              "    </tr>\n",
              "    <tr>\n",
              "      <th>10598</th>\n",
              "      <td>2287994.0</td>\n",
              "      <td>24120741.0</td>\n",
              "      <td>1166834.0</td>\n",
              "    </tr>\n",
              "    <tr>\n",
              "      <th>4603</th>\n",
              "      <td>-165386.0</td>\n",
              "      <td>8087214.0</td>\n",
              "      <td>-165386.0</td>\n",
              "    </tr>\n",
              "  </tbody>\n",
              "</table>\n",
              "<p>218 rows × 3 columns</p>\n",
              "</div>"
            ],
            "text/plain": [
              "       Ganancia (pérdida) antes de impuestos  Total de activos  \\\n",
              "11949                              1426770.0        62330759.0   \n",
              "10357                              3037631.0        12442440.0   \n",
              "5093                                596682.0         6372988.0   \n",
              "5108                              -2266002.0         5413417.0   \n",
              "957                                -608723.0        13632151.0   \n",
              "...                                      ...               ...   \n",
              "7520                                731452.0        21412644.0   \n",
              "10312                               -24748.0        14745906.0   \n",
              "11451                              1132983.0        17651867.0   \n",
              "10598                              2287994.0        24120741.0   \n",
              "4603                               -165386.0         8087214.0   \n",
              "\n",
              "       Ganancia (pérdida)  \n",
              "11949           1255619.0  \n",
              "10357           1950280.0  \n",
              "5093             399777.0  \n",
              "5108           -2266002.0  \n",
              "957             -676806.0  \n",
              "...                   ...  \n",
              "7520             596802.0  \n",
              "10312            -82815.0  \n",
              "11451            970638.0  \n",
              "10598           1166834.0  \n",
              "4603            -165386.0  \n",
              "\n",
              "[218 rows x 3 columns]"
            ]
          },
          "execution_count": 82,
          "metadata": {},
          "output_type": "execute_result"
        }
      ],
      "source": [
        "X_train.loc[:,np.array(pop[0], dtype='bool')]"
      ]
    },
    {
      "cell_type": "markdown",
      "metadata": {
        "id": "ZGpVqp1m2GDr"
      },
      "source": [
        "# Generalize to another models\n",
        "Uses the starndard mehtods of _scikit-learn_"
      ]
    },
    {
      "cell_type": "code",
      "execution_count": null,
      "metadata": {
        "id": "BzMKg3oK2GDs"
      },
      "outputs": [],
      "source": [
        "########################################\n",
        "# Genetic Feature Selection function  ##\n",
        "#########################################\n",
        "\n",
        "def score(solution, classifier, X_train_, y_train_):\n",
        "    \"\"\"\n",
        "    Classifier must have the fit and predict methods (sklearn)\n",
        "    \"\"\"\n",
        "    X_train, y_train = X_train_.copy(), y_train_.copy()\n",
        "    X_train, X_val, y_train, y_val = train_test_split(X_train, y_train,\n",
        "                                                    test_size=0.30, shuffle = True,\n",
        "                                                    random_state = 666, stratify=y_train)\n",
        "    solution = np.array(solution, dtype='bool')\n",
        "    X_train = X_train.loc[:, solution].to_numpy()\n",
        "    X_val = X_val.loc[:, solution].to_numpy()\n",
        "    return f1_score(y_val, classifier.fit(X_train, y_train).predict(X_val)),"
      ]
    },
    {
      "cell_type": "code",
      "execution_count": null,
      "metadata": {
        "id": "A9pwHiQR2GDt"
      },
      "outputs": [],
      "source": [
        "sol = [0,0,0,1,1,1,0,0,0,1,1]\n",
        "classifierLR = LogisticRegression(random_state=123) # Here is explicit to change hyperparamters"
      ]
    },
    {
      "cell_type": "code",
      "execution_count": null,
      "metadata": {
        "id": "4YGcLSMk2GDu",
        "outputId": "22ea43a7-a178-4655-fd5c-554c60ed7426"
      },
      "outputs": [
        {
          "data": {
            "text/plain": [
              "(0.5757575757575758,)"
            ]
          },
          "execution_count": 85,
          "metadata": {},
          "output_type": "execute_result"
        }
      ],
      "source": [
        "score(sol, classifierLR, X_train, y_train)"
      ]
    },
    {
      "cell_type": "code",
      "execution_count": null,
      "metadata": {
        "id": "7179se-k2GDu"
      },
      "outputs": [],
      "source": [
        "from sklearn.tree import DecisionTreeClassifier\n",
        "classifierDT = DecisionTreeClassifier(random_state=123)"
      ]
    },
    {
      "cell_type": "code",
      "execution_count": null,
      "metadata": {
        "id": "96VM4R8C2GDv",
        "outputId": "b5bb0340-154b-42dc-ff3b-6ff9f04e64ef"
      },
      "outputs": [
        {
          "data": {
            "text/plain": [
              "(0.5797101449275361,)"
            ]
          },
          "execution_count": 87,
          "metadata": {},
          "output_type": "execute_result"
        }
      ],
      "source": [
        "score(sol, classifierDT, X_train, y_train)"
      ]
    },
    {
      "cell_type": "code",
      "execution_count": null,
      "metadata": {
        "id": "0zkQHiMx2GDv"
      },
      "outputs": [],
      "source": [
        "from sklearn.neural_network import MLPClassifier\n",
        "classifierMLP = MLPClassifier(random_state=213)"
      ]
    },
    {
      "cell_type": "code",
      "execution_count": null,
      "metadata": {
        "id": "a4Wcc1lC2GDv",
        "outputId": "99aa6ba2-d53c-4eae-8d01-ea6d032f3d25"
      },
      "outputs": [
        {
          "data": {
            "text/plain": [
              "(0.5625,)"
            ]
          },
          "execution_count": 89,
          "metadata": {},
          "output_type": "execute_result"
        }
      ],
      "source": [
        "score(sol, classifierMLP, X_train, y_train)"
      ]
    },
    {
      "cell_type": "code",
      "execution_count": null,
      "metadata": {
        "id": "YPA25LoZ2GDw"
      },
      "outputs": [],
      "source": [
        "def feature_ga(classifier):\n",
        "    random.seed(123)\n",
        "    chromosomal_size = X_train.shape[1]\n",
        "    creator.create(\"FitnessMax\", base.Fitness, weights=(1.0,))\n",
        "    creator.create(\"Individual\", list, fitness=creator.FitnessMax)\n",
        "    toolbox = base.Toolbox()\n",
        "    toolbox.register(\"binaryGen\", random.randint, 0,1)\n",
        "    toolbox.register(\"individual\", tools.initRepeat, creator.Individual, toolbox.binaryGen, chromosomal_size)\n",
        "    toolbox.register(\"population\", tools.initRepeat, list, toolbox.individual, 80)\n",
        "    toolbox.register(\"evaluate\", lambda x: score(x,classifier,X_train, y_train))\n",
        "    toolbox.register(\"mate\", tools.cxOnePoint)\n",
        "    toolbox.register(\"mutate\", tools.mutFlipBit, indpb=0.05)\n",
        "    toolbox.register(\"select\", tools.selTournament, tournsize=3) #change to rolloute wheel\n",
        "    pop = toolbox.population()\n",
        "    pop, logbok = algorithms.eaSimple(pop, toolbox, cxpb=0.35, mutpb=0.05, ngen=60, verbose=False)\n",
        "    return pop[0], toolbox.evaluate(pop[0])\n",
        "# Could be very useful graph while is running to see the behavior of the algorithm!!!\n",
        "# uses method fit to any model of scikit-learn"
      ]
    },
    {
      "cell_type": "code",
      "execution_count": null,
      "metadata": {
        "scrolled": true,
        "id": "YU5SmkaP2GDw",
        "outputId": "57b2afa8-367b-44c7-a650-5e9b59c83b4e"
      },
      "outputs": [
        {
          "name": "stderr",
          "output_type": "stream",
          "text": [
            "C:\\Users\\iván\\AppData\\Local\\Programs\\Python\\Python311\\Lib\\site-packages\\deap\\creator.py:185: RuntimeWarning: A class named 'FitnessMax' has already been created and it will be overwritten. Consider deleting previous creation of that class or rename it.\n",
            "  warnings.warn(\"A class named '{0}' has already been created and it \"\n",
            "C:\\Users\\iván\\AppData\\Local\\Programs\\Python\\Python311\\Lib\\site-packages\\deap\\creator.py:185: RuntimeWarning: A class named 'Individual' has already been created and it will be overwritten. Consider deleting previous creation of that class or rename it.\n",
            "  warnings.warn(\"A class named '{0}' has already been created and it \"\n"
          ]
        },
        {
          "data": {
            "text/plain": [
              "([0, 0, 1, 0, 1, 0, 1, 0, 0, 0, 0], (0.8048780487804877,))"
            ]
          },
          "execution_count": 91,
          "metadata": {},
          "output_type": "execute_result"
        }
      ],
      "source": [
        "feature_ga(classifierLR)"
      ]
    },
    {
      "cell_type": "code",
      "execution_count": null,
      "metadata": {
        "id": "akRNAE-K2GDw",
        "outputId": "a5fff3ff-c47d-4127-e829-31ba1888f234"
      },
      "outputs": [
        {
          "name": "stderr",
          "output_type": "stream",
          "text": [
            "C:\\Users\\iván\\AppData\\Local\\Programs\\Python\\Python311\\Lib\\site-packages\\deap\\creator.py:185: RuntimeWarning: A class named 'FitnessMax' has already been created and it will be overwritten. Consider deleting previous creation of that class or rename it.\n",
            "  warnings.warn(\"A class named '{0}' has already been created and it \"\n",
            "C:\\Users\\iván\\AppData\\Local\\Programs\\Python\\Python311\\Lib\\site-packages\\deap\\creator.py:185: RuntimeWarning: A class named 'Individual' has already been created and it will be overwritten. Consider deleting previous creation of that class or rename it.\n",
            "  warnings.warn(\"A class named '{0}' has already been created and it \"\n"
          ]
        },
        {
          "data": {
            "text/plain": [
              "([1, 1, 0, 0, 1, 0, 1, 1, 1, 1, 1], (0.7631578947368421,))"
            ]
          },
          "execution_count": 92,
          "metadata": {},
          "output_type": "execute_result"
        }
      ],
      "source": [
        "feature_ga(classifierDT)"
      ]
    },
    {
      "cell_type": "code",
      "execution_count": null,
      "metadata": {
        "id": "jxACEMBB2GDx",
        "outputId": "7f862a90-259a-4eb6-f944-0a2cf96a3437"
      },
      "outputs": [
        {
          "name": "stderr",
          "output_type": "stream",
          "text": [
            "C:\\Users\\iván\\AppData\\Local\\Programs\\Python\\Python311\\Lib\\site-packages\\deap\\creator.py:185: RuntimeWarning: A class named 'FitnessMax' has already been created and it will be overwritten. Consider deleting previous creation of that class or rename it.\n",
            "  warnings.warn(\"A class named '{0}' has already been created and it \"\n",
            "C:\\Users\\iván\\AppData\\Local\\Programs\\Python\\Python311\\Lib\\site-packages\\deap\\creator.py:185: RuntimeWarning: A class named 'Individual' has already been created and it will be overwritten. Consider deleting previous creation of that class or rename it.\n",
            "  warnings.warn(\"A class named '{0}' has already been created and it \"\n"
          ]
        },
        {
          "data": {
            "text/plain": [
              "([1, 1, 0, 0, 1, 1, 1, 1, 0, 0, 0], (0.7529411764705882,))"
            ]
          },
          "execution_count": 93,
          "metadata": {},
          "output_type": "execute_result"
        }
      ],
      "source": [
        "feature_ga(classifierMLP)"
      ]
    }
  ],
  "metadata": {
    "colab": {
      "provenance": [],
      "include_colab_link": true
    },
    "kernelspec": {
      "display_name": "Python 3 (ipykernel)",
      "language": "python",
      "name": "python3"
    },
    "language_info": {
      "codemirror_mode": {
        "name": "ipython",
        "version": 3
      },
      "file_extension": ".py",
      "mimetype": "text/x-python",
      "name": "python",
      "nbconvert_exporter": "python",
      "pygments_lexer": "ipython3",
      "version": "3.11.4"
    }
  },
  "nbformat": 4,
  "nbformat_minor": 0
}