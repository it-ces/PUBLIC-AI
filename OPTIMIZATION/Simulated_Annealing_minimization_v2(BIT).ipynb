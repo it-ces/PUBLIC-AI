{
  "nbformat": 4,
  "nbformat_minor": 0,
  "metadata": {
    "colab": {
      "provenance": []
    },
    "kernelspec": {
      "name": "python3",
      "display_name": "Python 3"
    },
    "language_info": {
      "name": "python"
    }
  },
  "cells": [
    {
      "cell_type": "code",
      "source": [
        "# Iván Andrés Trujillo Abella\n",
        "# ivantrujillo1229@gmail.com"
      ],
      "metadata": {
        "id": "gK63BjP7hjh3"
      },
      "execution_count": 86,
      "outputs": []
    },
    {
      "cell_type": "code",
      "execution_count": 87,
      "metadata": {
        "colab": {
          "base_uri": "https://localhost:8080/",
          "height": 448
        },
        "id": "678VOO05gc_q",
        "outputId": "96ced487-0d60-4b43-f780-fba5950a4c59"
      },
      "outputs": [
        {
          "output_type": "execute_result",
          "data": {
            "text/plain": [
              "<matplotlib.lines.Line2D at 0x7f80e35857b0>"
            ]
          },
          "metadata": {},
          "execution_count": 87
        },
        {
          "output_type": "display_data",
          "data": {
            "text/plain": [
              "<Figure size 640x480 with 1 Axes>"
            ],
            "image/png": "[encoded data removed]"
          },
          "metadata": {}
        }
      ],
      "source": [
        "import random\n",
        "import math\n",
        "import numpy as np\n",
        "from numpy import exp\n",
        "import matplotlib.pyplot as plt\n",
        "\n",
        "def quad(a,b,c,x):\n",
        "  return a*(x**2) + b*x + c\n",
        "a,b,c = 1, -15, 400\n",
        "X = np.linspace(-5, 20, 100)\n",
        "y  = [quad(a, b, c , xi) for xi in X]\n",
        "plt.plot(X,y)\n",
        "x_optimun = 15/2\n",
        "# draw a vertical line at the optimal input\n",
        "plt.axvline(x=x_optimun, ls='--', color='red')"
      ]
    },
    {
      "cell_type": "code",
      "source": [
        "## Here we go\n",
        "\n",
        "def search(x, alpha):\n",
        "  return x + random.gauss(0,1) * alpha\n",
        "\n",
        "def fitnessFunction(x):\n",
        "  return x**2 -15*x + 400\n",
        "\n",
        "def boltzmann(deltaE,  T, k=1):\n",
        "  return exp(-deltaE/(k*T))"
      ],
      "metadata": {
        "id": "9CngyFlGhQQ2"
      },
      "execution_count": 88,
      "outputs": []
    },
    {
      "cell_type": "code",
      "source": [
        "random.seed(1)\n",
        "solution = random.gauss(0,1)\n",
        "solution\n",
        "Ti, Tf = 100, 0\n",
        "T = Ti\n",
        "cooling_rate = 100\n",
        "while T>Tf:\n",
        "  for _ in range(cooling_rate):\n",
        "    solution_temp  = search(solution, 0.1)\n",
        "    E0, E1 = fitnessFunction(solution), fitnessFunction(solution_temp)\n",
        "    if E1 < E0:\n",
        "      solution = solution_temp\n",
        "    else:\n",
        "      if random.uniform(0,1) < boltzmann(E1-E0, T):\n",
        "        solution = solution_temp\n",
        "  T = T - 0.01\n",
        "print(solution)"
      ],
      "metadata": {
        "colab": {
          "base_uri": "https://localhost:8080/"
        },
        "id": "Wwbg6O5KiJYr",
        "outputId": "ed67f811-9d37-4372-cc0b-779304b280ff"
      },
      "execution_count": 89,
      "outputs": [
        {
          "output_type": "stream",
          "name": "stdout",
          "text": [
            "7.555987296129486\n"
          ]
        }
      ]
    },
    {
      "cell_type": "markdown",
      "source": [
        "# Two variables\n",
        "\n",
        "\\begin{equation}\n",
        "f(x,y) = x^{2} - 4xy + 5y^{2} - 4y +3\n",
        "\\end{equation}\n",
        "\n",
        "First order conditions\n",
        "\\begin{equation}\n",
        "f_{x} = 2x - 4y = 0 \\\\\n",
        "f_{y} = -4x + 10y - 4 = 0\n",
        "\\end{equation}\n",
        "\n",
        "Therefore $x^{*}=4, y^{*}=2$."
      ],
      "metadata": {
        "id": "krpFDyXnn6F1"
      }
    },
    {
      "cell_type": "code",
      "source": [
        "def search(solution, alpha):\n",
        "  return solution  + randn(len(solution)) * alpha\n",
        "\n",
        "def fitnessFunction(solution):\n",
        "  x, y = solution[0], solution[1]\n",
        "  return x**2 - 4*x*y  + 5*y**2 - 4*y +3"
      ],
      "metadata": {
        "id": "722X4grBjmhn"
      },
      "execution_count": 90,
      "outputs": []
    },
    {
      "cell_type": "code",
      "source": [
        "from numpy.random import randn\n",
        "from numpy import asarray"
      ],
      "metadata": {
        "id": "48E7D9UupJ5u"
      },
      "execution_count": 91,
      "outputs": []
    },
    {
      "cell_type": "code",
      "source": [
        "solution = randn(2) # Number of parameters to estimate"
      ],
      "metadata": {
        "id": "rZKWKRKhpNdX"
      },
      "execution_count": 92,
      "outputs": []
    },
    {
      "cell_type": "code",
      "source": [
        "def SA(solution, search,  Ti, Tf, cooling_rate,  fitnessFunction, seed):\n",
        "  T = Ti\n",
        "  while T>Tf:\n",
        "    for _ in range(cooling_rate):\n",
        "      solution_temp  = search(solution, 0.1)\n",
        "      E0, E1 = fitnessFunction(solution), fitnessFunction(solution_temp)\n",
        "      if E1 < E0:\n",
        "        solution = solution_temp\n",
        "      else:\n",
        "        if random.uniform(0,1) < boltzmann(E1-E0, T):\n",
        "          solution = solution_temp\n",
        "    T = T - 0.01\n",
        "  return solution"
      ],
      "metadata": {
        "id": "0vwkF9hSpbgh"
      },
      "execution_count": 93,
      "outputs": []
    },
    {
      "cell_type": "code",
      "source": [
        "solution  = randn(2) # two variables\n",
        "Ti , Tf = 200, 0\n",
        "cooling_rate = 50"
      ],
      "metadata": {
        "id": "VDON2vUIrgVj"
      },
      "execution_count": 94,
      "outputs": []
    },
    {
      "cell_type": "code",
      "source": [
        "SA(solution, search, Ti, Tf, cooling_rate, fitnessFunction, seed=1 )"
      ],
      "metadata": {
        "colab": {
          "base_uri": "https://localhost:8080/"
        },
        "id": "Y8kEQ-XytIIR",
        "outputId": "de032719-94cf-4d1e-ba57-252bbaf0c2b7"
      },
      "execution_count": 95,
      "outputs": [
        {
          "output_type": "execute_result",
          "data": {
            "text/plain": [
              "array([3.99545805, 1.98598617])"
            ]
          },
          "metadata": {},
          "execution_count": 95
        }
      ]
    }
  ]
}