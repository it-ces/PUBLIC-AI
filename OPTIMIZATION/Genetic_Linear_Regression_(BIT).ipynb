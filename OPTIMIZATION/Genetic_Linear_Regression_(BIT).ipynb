{
  "cells": [
    {
      "cell_type": "markdown",
      "metadata": {
        "id": "view-in-github",
        "colab_type": "text"
      },
      "source": [
        "<a href=\"https://colab.research.google.com/github/it-ces/PUBLIC-AI/blob/main/OPTIMIZATION/Genetic_Linear_Regression_(BIT).ipynb\" target=\"_parent\"><img src=\"https://colab.research.google.com/assets/colab-badge.svg\" alt=\"Open In Colab\"/></a>"
      ]
    },
    {
      "cell_type": "markdown",
      "source": [
        "# Genetic linear regression improved with Simulated annealing!"
      ],
      "metadata": {
        "id": "fr5U7VIDwX0k"
      }
    },
    {
      "cell_type": "code",
      "execution_count": null,
      "metadata": {
        "id": "Aw0YeEJIYDGe"
      },
      "outputs": [],
      "source": [
        "# Iván Andrés Trujillo Abella\n",
        "# ivantrujillo1229@gmail.com"
      ]
    },
    {
      "cell_type": "code",
      "execution_count": null,
      "metadata": {
        "id": "P9Uk2gh_YMKo"
      },
      "outputs": [],
      "source": [
        "import random\n",
        "import numpy as np\n",
        "import pandas as pd\n",
        "import math\n",
        "from numpy import exp\n",
        "import matplotlib.pyplot as plt\n",
        "from numpy.random import randn\n",
        "from numpy import asarray"
      ]
    },
    {
      "cell_type": "code",
      "execution_count": null,
      "metadata": {
        "colab": {
          "base_uri": "https://localhost:8080/"
        },
        "id": "bKggp6jwYQ8u",
        "outputId": "3c929ab8-83e5-4953-add8-ec382cb2fa5e"
      },
      "outputs": [
        {
          "output_type": "execute_result",
          "data": {
            "text/plain": [
              "14"
            ]
          },
          "metadata": {},
          "execution_count": 3
        }
      ],
      "source": [
        "A,b = np.array([1,2,3]) , np.array([4,12,3])\n",
        "A@A"
      ]
    },
    {
      "cell_type": "markdown",
      "metadata": {
        "id": "IREEXirbdrLc"
      },
      "source": [
        "Matrix multiplication:\n",
        "\n",
        "```python\n",
        "A @ A  \n",
        "```\n",
        "is equal to:\n",
        "\n",
        "\\begin{equation}\n",
        "\\sum_{i=1}^{n} a_{i}^{2}\n",
        "\\end{equation}"
      ]
    },
    {
      "cell_type": "code",
      "execution_count": null,
      "metadata": {
        "colab": {
          "base_uri": "https://localhost:8080/"
        },
        "id": "-IpY3DKkdhr6",
        "outputId": "574f84e6-af49-4192-f529-aa26d7b3f545"
      },
      "outputs": [
        {
          "output_type": "execute_result",
          "data": {
            "text/plain": [
              "37"
            ]
          },
          "metadata": {},
          "execution_count": 4
        }
      ],
      "source": [
        "A@b"
      ]
    },
    {
      "cell_type": "code",
      "execution_count": null,
      "metadata": {
        "id": "EnxpCQ6dhXwF"
      },
      "outputs": [],
      "source": [
        "X = np.array([[4,1,0], [6,3,2], [1,1,0]])\n",
        "D = np.array([[1,2,3],  [0,0,1], [2,1,0]])"
      ]
    },
    {
      "cell_type": "markdown",
      "metadata": {
        "id": "0wqZ9kAEhzPn"
      },
      "source": [
        "# Matrix multiplication\n",
        "\n",
        "$$\n",
        "\\begin{pmatrix}\n",
        "4 & 1 & 0 \\\\\n",
        "6 & 3 & 2 \\\\\n",
        "1 & 1 & 0\n",
        "\\end{pmatrix}\n",
        "\\begin{pmatrix}\n",
        "1 & 2 & 3 \\\\\n",
        "0 & 0 & 1 \\\\\n",
        "2 & 1 & 0\n",
        "\\end{pmatrix}\n",
        "=\n",
        "\\begin{pmatrix}\n",
        "4 & 8 & 13 \\\\\n",
        "10 & 14  & 21 \\\\\n",
        "1 & 2 & 4\n",
        "\\end{pmatrix}\n",
        "$$"
      ]
    },
    {
      "cell_type": "code",
      "execution_count": null,
      "metadata": {
        "colab": {
          "base_uri": "https://localhost:8080/"
        },
        "id": "Da9wa-J6he1f",
        "outputId": "7f79b429-604a-4cbe-e96b-b12052d486cf"
      },
      "outputs": [
        {
          "output_type": "execute_result",
          "data": {
            "text/plain": [
              "array([[ 4,  8, 13],\n",
              "       [10, 14, 21],\n",
              "       [ 1,  2,  4]])"
            ]
          },
          "metadata": {},
          "execution_count": 6
        }
      ],
      "source": [
        "X@D"
      ]
    },
    {
      "cell_type": "code",
      "execution_count": null,
      "metadata": {
        "id": "DgoHd32jlB5K"
      },
      "outputs": [],
      "source": [
        "# Create the database with multiplications....\n",
        "def linear(betas, X):\n",
        "  return X@betas"
      ]
    },
    {
      "cell_type": "code",
      "execution_count": null,
      "metadata": {
        "id": "eB22Sg1ul9lx"
      },
      "outputs": [],
      "source": [
        "b1,b2,b3,b4 = 45.5 , 3.5, 7.8, 8.98,"
      ]
    },
    {
      "cell_type": "code",
      "execution_count": null,
      "metadata": {
        "colab": {
          "base_uri": "https://localhost:8080/"
        },
        "id": "kVMLAELHmVRq",
        "outputId": "56f71955-c6e7-4bb1-88f6-0fa613182acf"
      },
      "outputs": [
        {
          "output_type": "execute_result",
          "data": {
            "text/plain": [
              "array([132.1])"
            ]
          },
          "metadata": {},
          "execution_count": 9
        }
      ],
      "source": [
        "data = np.array([[ 1,3,4,5]])\n",
        "betas = np.array([b1,b2,b3,b4])\n",
        "data@betas"
      ]
    },
    {
      "cell_type": "code",
      "execution_count": null,
      "metadata": {
        "id": "djGunfTcmyPW"
      },
      "outputs": [],
      "source": [
        "samples = 341\n",
        "data = [\n",
        "    [random.uniform(14, 88),\n",
        "     random.randint(1,33), random.gauss(10, 3.4),\n",
        "     random.gauss(50,12)] for _ in range(samples)]"
      ]
    },
    {
      "cell_type": "code",
      "execution_count": null,
      "metadata": {
        "id": "pVBDJ3fioG8N"
      },
      "outputs": [],
      "source": [
        "y = []\n",
        "for pattern in data:\n",
        "  y.append((np.array(pattern) @ betas) + random.gauss(0,1.4)) # Here add a normal error with 0, cosntant variance"
      ]
    },
    {
      "cell_type": "code",
      "execution_count": null,
      "metadata": {
        "id": "JjiCeXowohRP"
      },
      "outputs": [],
      "source": [
        "# Stack in database\n",
        "df  =  pd.DataFrame(data, columns=['x1', 'x2', 'x3', 'x4'])\n",
        "df['y'] = y\n",
        "# We need add a columns of 1 to calculate B0\n",
        "df['x0']  = 1"
      ]
    },
    {
      "cell_type": "code",
      "execution_count": null,
      "metadata": {
        "colab": {
          "base_uri": "https://localhost:8080/",
          "height": 424
        },
        "id": "T3wRFI_mqMs3",
        "outputId": "b3d26757-2684-4382-dc00-7adeead33a3c"
      },
      "outputs": [
        {
          "output_type": "execute_result",
          "data": {
            "text/plain": [
              "            x1  x2         x3         x4            y  x0\n",
              "0    15.176279  13   5.743380  49.819760  1226.621678   1\n",
              "1    29.627862  18   3.641718  56.578389  1948.037118   1\n",
              "2    18.627144  27   7.928655  64.322218  1585.372687   1\n",
              "3    52.554207  29  10.846921  49.172270  3020.621257   1\n",
              "4    20.551601   3  12.528378  54.718358  1533.210346   1\n",
              "..         ...  ..        ...        ...          ...  ..\n",
              "336  50.768823   4   8.359166  49.709597  2836.584307   1\n",
              "337  16.843095  16  14.907006  58.258795  1460.005737   1\n",
              "338  42.346361   1   5.092311  65.541362  2560.122142   1\n",
              "339  27.476889  29  12.327338  59.734367  1984.866353   1\n",
              "340  44.458097  28   6.129592  39.505962  2520.730706   1\n",
              "\n",
              "[341 rows x 6 columns]"
            ],
            "text/html": [
              "\n",
              "  <div id=\"df-5ebb01ef-7ec5-440e-93a0-914862cdec34\" class=\"colab-df-container\">\n",
              "    <div>\n",
              "<style scoped>\n",
              "    .dataframe tbody tr th:only-of-type {\n",
              "        vertical-align: middle;\n",
              "    }\n",
              "\n",
              "    .dataframe tbody tr th {\n",
              "        vertical-align: top;\n",
              "    }\n",
              "\n",
              "    .dataframe thead th {\n",
              "        text-align: right;\n",
              "    }\n",
              "</style>\n",
              "<table border=\"1\" class=\"dataframe\">\n",
              "  <thead>\n",
              "    <tr style=\"text-align: right;\">\n",
              "      <th></th>\n",
              "      <th>x1</th>\n",
              "      <th>x2</th>\n",
              "      <th>x3</th>\n",
              "      <th>x4</th>\n",
              "      <th>y</th>\n",
              "      <th>x0</th>\n",
              "    </tr>\n",
              "  </thead>\n",
              "  <tbody>\n",
              "    <tr>\n",
              "      <th>0</th>\n",
              "      <td>15.176279</td>\n",
              "      <td>13</td>\n",
              "      <td>5.743380</td>\n",
              "      <td>49.819760</td>\n",
              "      <td>1226.621678</td>\n",
              "      <td>1</td>\n",
              "    </tr>\n",
              "    <tr>\n",
              "      <th>1</th>\n",
              "      <td>29.627862</td>\n",
              "      <td>18</td>\n",
              "      <td>3.641718</td>\n",
              "      <td>56.578389</td>\n",
              "      <td>1948.037118</td>\n",
              "      <td>1</td>\n",
              "    </tr>\n",
              "    <tr>\n",
              "      <th>2</th>\n",
              "      <td>18.627144</td>\n",
              "      <td>27</td>\n",
              "      <td>7.928655</td>\n",
              "      <td>64.322218</td>\n",
              "      <td>1585.372687</td>\n",
              "      <td>1</td>\n",
              "    </tr>\n",
              "    <tr>\n",
              "      <th>3</th>\n",
              "      <td>52.554207</td>\n",
              "      <td>29</td>\n",
              "      <td>10.846921</td>\n",
              "      <td>49.172270</td>\n",
              "      <td>3020.621257</td>\n",
              "      <td>1</td>\n",
              "    </tr>\n",
              "    <tr>\n",
              "      <th>4</th>\n",
              "      <td>20.551601</td>\n",
              "      <td>3</td>\n",
              "      <td>12.528378</td>\n",
              "      <td>54.718358</td>\n",
              "      <td>1533.210346</td>\n",
              "      <td>1</td>\n",
              "    </tr>\n",
              "    <tr>\n",
              "      <th>...</th>\n",
              "      <td>...</td>\n",
              "      <td>...</td>\n",
              "      <td>...</td>\n",
              "      <td>...</td>\n",
              "      <td>...</td>\n",
              "      <td>...</td>\n",
              "    </tr>\n",
              "    <tr>\n",
              "      <th>336</th>\n",
              "      <td>50.768823</td>\n",
              "      <td>4</td>\n",
              "      <td>8.359166</td>\n",
              "      <td>49.709597</td>\n",
              "      <td>2836.584307</td>\n",
              "      <td>1</td>\n",
              "    </tr>\n",
              "    <tr>\n",
              "      <th>337</th>\n",
              "      <td>16.843095</td>\n",
              "      <td>16</td>\n",
              "      <td>14.907006</td>\n",
              "      <td>58.258795</td>\n",
              "      <td>1460.005737</td>\n",
              "      <td>1</td>\n",
              "    </tr>\n",
              "    <tr>\n",
              "      <th>338</th>\n",
              "      <td>42.346361</td>\n",
              "      <td>1</td>\n",
              "      <td>5.092311</td>\n",
              "      <td>65.541362</td>\n",
              "      <td>2560.122142</td>\n",
              "      <td>1</td>\n",
              "    </tr>\n",
              "    <tr>\n",
              "      <th>339</th>\n",
              "      <td>27.476889</td>\n",
              "      <td>29</td>\n",
              "      <td>12.327338</td>\n",
              "      <td>59.734367</td>\n",
              "      <td>1984.866353</td>\n",
              "      <td>1</td>\n",
              "    </tr>\n",
              "    <tr>\n",
              "      <th>340</th>\n",
              "      <td>44.458097</td>\n",
              "      <td>28</td>\n",
              "      <td>6.129592</td>\n",
              "      <td>39.505962</td>\n",
              "      <td>2520.730706</td>\n",
              "      <td>1</td>\n",
              "    </tr>\n",
              "  </tbody>\n",
              "</table>\n",
              "<p>341 rows × 6 columns</p>\n",
              "</div>\n",
              "    <div class=\"colab-df-buttons\">\n",
              "\n",
              "  <div class=\"colab-df-container\">\n",
              "    <button class=\"colab-df-convert\" onclick=\"convertToInteractive('df-5ebb01ef-7ec5-440e-93a0-914862cdec34')\"\n",
              "            title=\"Convert this dataframe to an interactive table.\"\n",
              "            style=\"display:none;\">\n",
              "\n",
              "  <svg xmlns=\"http://www.w3.org/2000/svg\" height=\"24px\" viewBox=\"0 -960 960 960\">\n",
              "    <path d=\"M120-120v-720h720v720H120Zm60-500h600v-160H180v160Zm220 220h160v-160H400v160Zm0 220h160v-160H400v160ZM180-400h160v-160H180v160Zm440 0h160v-160H620v160ZM180-180h160v-160H180v160Zm440 0h160v-160H620v160Z\"/>\n",
              "  </svg>\n",
              "    </button>\n",
              "\n",
              "  <style>\n",
              "    .colab-df-container {\n",
              "      display:flex;\n",
              "      gap: 12px;\n",
              "    }\n",
              "\n",
              "    .colab-df-convert {\n",
              "      background-color: #E8F0FE;\n",
              "      border: none;\n",
              "      border-radius: 50%;\n",
              "      cursor: pointer;\n",
              "      display: none;\n",
              "      fill: #1967D2;\n",
              "      height: 32px;\n",
              "      padding: 0 0 0 0;\n",
              "      width: 32px;\n",
              "    }\n",
              "\n",
              "    .colab-df-convert:hover {\n",
              "      background-color: #E2EBFA;\n",
              "      box-shadow: 0px 1px 2px rgba(60, 64, 67, 0.3), 0px 1px 3px 1px rgba(60, 64, 67, 0.15);\n",
              "      fill: #174EA6;\n",
              "    }\n",
              "\n",
              "    .colab-df-buttons div {\n",
              "      margin-bottom: 4px;\n",
              "    }\n",
              "\n",
              "    [theme=dark] .colab-df-convert {\n",
              "      background-color: #3B4455;\n",
              "      fill: #D2E3FC;\n",
              "    }\n",
              "\n",
              "    [theme=dark] .colab-df-convert:hover {\n",
              "      background-color: #434B5C;\n",
              "      box-shadow: 0px 1px 3px 1px rgba(0, 0, 0, 0.15);\n",
              "      filter: drop-shadow(0px 1px 2px rgba(0, 0, 0, 0.3));\n",
              "      fill: #FFFFFF;\n",
              "    }\n",
              "  </style>\n",
              "\n",
              "    <script>\n",
              "      const buttonEl =\n",
              "        document.querySelector('#df-5ebb01ef-7ec5-440e-93a0-914862cdec34 button.colab-df-convert');\n",
              "      buttonEl.style.display =\n",
              "        google.colab.kernel.accessAllowed ? 'block' : 'none';\n",
              "\n",
              "      async function convertToInteractive(key) {\n",
              "        const element = document.querySelector('#df-5ebb01ef-7ec5-440e-93a0-914862cdec34');\n",
              "        const dataTable =\n",
              "          await google.colab.kernel.invokeFunction('convertToInteractive',\n",
              "                                                    [key], {});\n",
              "        if (!dataTable) return;\n",
              "\n",
              "        const docLinkHtml = 'Like what you see? Visit the ' +\n",
              "          '<a target=\"_blank\" href=https://colab.research.google.com/notebooks/data_table.ipynb>data table notebook</a>'\n",
              "          + ' to learn more about interactive tables.';\n",
              "        element.innerHTML = '';\n",
              "        dataTable['output_type'] = 'display_data';\n",
              "        await google.colab.output.renderOutput(dataTable, element);\n",
              "        const docLink = document.createElement('div');\n",
              "        docLink.innerHTML = docLinkHtml;\n",
              "        element.appendChild(docLink);\n",
              "      }\n",
              "    </script>\n",
              "  </div>\n",
              "\n",
              "\n",
              "<div id=\"df-fd43771f-7a2a-4650-b193-cdda6fada864\">\n",
              "  <button class=\"colab-df-quickchart\" onclick=\"quickchart('df-fd43771f-7a2a-4650-b193-cdda6fada864')\"\n",
              "            title=\"Suggest charts.\"\n",
              "            style=\"display:none;\">\n",
              "\n",
              "<svg xmlns=\"http://www.w3.org/2000/svg\" height=\"24px\"viewBox=\"0 0 24 24\"\n",
              "     width=\"24px\">\n",
              "    <g>\n",
              "        <path d=\"M19 3H5c-1.1 0-2 .9-2 2v14c0 1.1.9 2 2 2h14c1.1 0 2-.9 2-2V5c0-1.1-.9-2-2-2zM9 17H7v-7h2v7zm4 0h-2V7h2v10zm4 0h-2v-4h2v4z\"/>\n",
              "    </g>\n",
              "</svg>\n",
              "  </button>\n",
              "\n",
              "<style>\n",
              "  .colab-df-quickchart {\n",
              "      --bg-color: #E8F0FE;\n",
              "      --fill-color: #1967D2;\n",
              "      --hover-bg-color: #E2EBFA;\n",
              "      --hover-fill-color: #174EA6;\n",
              "      --disabled-fill-color: #AAA;\n",
              "      --disabled-bg-color: #DDD;\n",
              "  }\n",
              "\n",
              "  [theme=dark] .colab-df-quickchart {\n",
              "      --bg-color: #3B4455;\n",
              "      --fill-color: #D2E3FC;\n",
              "      --hover-bg-color: #434B5C;\n",
              "      --hover-fill-color: #FFFFFF;\n",
              "      --disabled-bg-color: #3B4455;\n",
              "      --disabled-fill-color: #666;\n",
              "  }\n",
              "\n",
              "  .colab-df-quickchart {\n",
              "    background-color: var(--bg-color);\n",
              "    border: none;\n",
              "    border-radius: 50%;\n",
              "    cursor: pointer;\n",
              "    display: none;\n",
              "    fill: var(--fill-color);\n",
              "    height: 32px;\n",
              "    padding: 0;\n",
              "    width: 32px;\n",
              "  }\n",
              "\n",
              "  .colab-df-quickchart:hover {\n",
              "    background-color: var(--hover-bg-color);\n",
              "    box-shadow: 0 1px 2px rgba(60, 64, 67, 0.3), 0 1px 3px 1px rgba(60, 64, 67, 0.15);\n",
              "    fill: var(--button-hover-fill-color);\n",
              "  }\n",
              "\n",
              "  .colab-df-quickchart-complete:disabled,\n",
              "  .colab-df-quickchart-complete:disabled:hover {\n",
              "    background-color: var(--disabled-bg-color);\n",
              "    fill: var(--disabled-fill-color);\n",
              "    box-shadow: none;\n",
              "  }\n",
              "\n",
              "  .colab-df-spinner {\n",
              "    border: 2px solid var(--fill-color);\n",
              "    border-color: transparent;\n",
              "    border-bottom-color: var(--fill-color);\n",
              "    animation:\n",
              "      spin 1s steps(1) infinite;\n",
              "  }\n",
              "\n",
              "  @keyframes spin {\n",
              "    0% {\n",
              "      border-color: transparent;\n",
              "      border-bottom-color: var(--fill-color);\n",
              "      border-left-color: var(--fill-color);\n",
              "    }\n",
              "    20% {\n",
              "      border-color: transparent;\n",
              "      border-left-color: var(--fill-color);\n",
              "      border-top-color: var(--fill-color);\n",
              "    }\n",
              "    30% {\n",
              "      border-color: transparent;\n",
              "      border-left-color: var(--fill-color);\n",
              "      border-top-color: var(--fill-color);\n",
              "      border-right-color: var(--fill-color);\n",
              "    }\n",
              "    40% {\n",
              "      border-color: transparent;\n",
              "      border-right-color: var(--fill-color);\n",
              "      border-top-color: var(--fill-color);\n",
              "    }\n",
              "    60% {\n",
              "      border-color: transparent;\n",
              "      border-right-color: var(--fill-color);\n",
              "    }\n",
              "    80% {\n",
              "      border-color: transparent;\n",
              "      border-right-color: var(--fill-color);\n",
              "      border-bottom-color: var(--fill-color);\n",
              "    }\n",
              "    90% {\n",
              "      border-color: transparent;\n",
              "      border-bottom-color: var(--fill-color);\n",
              "    }\n",
              "  }\n",
              "</style>\n",
              "\n",
              "  <script>\n",
              "    async function quickchart(key) {\n",
              "      const quickchartButtonEl =\n",
              "        document.querySelector('#' + key + ' button');\n",
              "      quickchartButtonEl.disabled = true;  // To prevent multiple clicks.\n",
              "      quickchartButtonEl.classList.add('colab-df-spinner');\n",
              "      try {\n",
              "        const charts = await google.colab.kernel.invokeFunction(\n",
              "            'suggestCharts', [key], {});\n",
              "      } catch (error) {\n",
              "        console.error('Error during call to suggestCharts:', error);\n",
              "      }\n",
              "      quickchartButtonEl.classList.remove('colab-df-spinner');\n",
              "      quickchartButtonEl.classList.add('colab-df-quickchart-complete');\n",
              "    }\n",
              "    (() => {\n",
              "      let quickchartButtonEl =\n",
              "        document.querySelector('#df-fd43771f-7a2a-4650-b193-cdda6fada864 button');\n",
              "      quickchartButtonEl.style.display =\n",
              "        google.colab.kernel.accessAllowed ? 'block' : 'none';\n",
              "    })();\n",
              "  </script>\n",
              "</div>\n",
              "    </div>\n",
              "  </div>\n"
            ]
          },
          "metadata": {},
          "execution_count": 13
        }
      ],
      "source": [
        "df"
      ]
    },
    {
      "cell_type": "code",
      "execution_count": null,
      "metadata": {
        "id": "kzVbdVeuqtKQ"
      },
      "outputs": [],
      "source": [
        "betas_i = [3,4,5,1]"
      ]
    },
    {
      "cell_type": "code",
      "execution_count": null,
      "metadata": {
        "colab": {
          "base_uri": "https://localhost:8080/"
        },
        "id": "f1xLIF-krumg",
        "outputId": "783252b0-3cb0-49e9-b792-002926e5bc9c"
      },
      "outputs": [
        {
          "output_type": "execute_result",
          "data": {
            "text/plain": [
              "0      176.065501\n",
              "1      235.670564\n",
              "2      267.846927\n",
              "3      377.069494\n",
              "4      191.015050\n",
              "          ...    \n",
              "336    259.811899\n",
              "337    247.323110\n",
              "338    222.042001\n",
              "339    319.801723\n",
              "340    315.528212\n",
              "Length: 341, dtype: float64"
            ]
          },
          "metadata": {},
          "execution_count": 15
        }
      ],
      "source": [
        "df.loc[:, ['x1', 'x2', 'x3', 'x4']] @ betas_i"
      ]
    },
    {
      "cell_type": "code",
      "execution_count": null,
      "metadata": {
        "id": "snlTTavzshCL"
      },
      "outputs": [],
      "source": [
        "X = [ 'x1', 'x2', 'x3', 'x4']"
      ]
    },
    {
      "cell_type": "code",
      "execution_count": null,
      "metadata": {
        "colab": {
          "base_uri": "https://localhost:8080/",
          "height": 424
        },
        "id": "gIuY_fN88XS_",
        "outputId": "4be6b156-a75c-445b-bfbd-a1f777107abb"
      },
      "outputs": [
        {
          "output_type": "execute_result",
          "data": {
            "text/plain": [
              "            x1  x2         x3         x4            y  x0\n",
              "0    15.176279  13   5.743380  49.819760  1226.621678   1\n",
              "1    29.627862  18   3.641718  56.578389  1948.037118   1\n",
              "2    18.627144  27   7.928655  64.322218  1585.372687   1\n",
              "3    52.554207  29  10.846921  49.172270  3020.621257   1\n",
              "4    20.551601   3  12.528378  54.718358  1533.210346   1\n",
              "..         ...  ..        ...        ...          ...  ..\n",
              "336  50.768823   4   8.359166  49.709597  2836.584307   1\n",
              "337  16.843095  16  14.907006  58.258795  1460.005737   1\n",
              "338  42.346361   1   5.092311  65.541362  2560.122142   1\n",
              "339  27.476889  29  12.327338  59.734367  1984.866353   1\n",
              "340  44.458097  28   6.129592  39.505962  2520.730706   1\n",
              "\n",
              "[341 rows x 6 columns]"
            ],
            "text/html": [
              "\n",
              "  <div id=\"df-7f640ce4-ee82-4b66-8e81-2422eec4618c\" class=\"colab-df-container\">\n",
              "    <div>\n",
              "<style scoped>\n",
              "    .dataframe tbody tr th:only-of-type {\n",
              "        vertical-align: middle;\n",
              "    }\n",
              "\n",
              "    .dataframe tbody tr th {\n",
              "        vertical-align: top;\n",
              "    }\n",
              "\n",
              "    .dataframe thead th {\n",
              "        text-align: right;\n",
              "    }\n",
              "</style>\n",
              "<table border=\"1\" class=\"dataframe\">\n",
              "  <thead>\n",
              "    <tr style=\"text-align: right;\">\n",
              "      <th></th>\n",
              "      <th>x1</th>\n",
              "      <th>x2</th>\n",
              "      <th>x3</th>\n",
              "      <th>x4</th>\n",
              "      <th>y</th>\n",
              "      <th>x0</th>\n",
              "    </tr>\n",
              "  </thead>\n",
              "  <tbody>\n",
              "    <tr>\n",
              "      <th>0</th>\n",
              "      <td>15.176279</td>\n",
              "      <td>13</td>\n",
              "      <td>5.743380</td>\n",
              "      <td>49.819760</td>\n",
              "      <td>1226.621678</td>\n",
              "      <td>1</td>\n",
              "    </tr>\n",
              "    <tr>\n",
              "      <th>1</th>\n",
              "      <td>29.627862</td>\n",
              "      <td>18</td>\n",
              "      <td>3.641718</td>\n",
              "      <td>56.578389</td>\n",
              "      <td>1948.037118</td>\n",
              "      <td>1</td>\n",
              "    </tr>\n",
              "    <tr>\n",
              "      <th>2</th>\n",
              "      <td>18.627144</td>\n",
              "      <td>27</td>\n",
              "      <td>7.928655</td>\n",
              "      <td>64.322218</td>\n",
              "      <td>1585.372687</td>\n",
              "      <td>1</td>\n",
              "    </tr>\n",
              "    <tr>\n",
              "      <th>3</th>\n",
              "      <td>52.554207</td>\n",
              "      <td>29</td>\n",
              "      <td>10.846921</td>\n",
              "      <td>49.172270</td>\n",
              "      <td>3020.621257</td>\n",
              "      <td>1</td>\n",
              "    </tr>\n",
              "    <tr>\n",
              "      <th>4</th>\n",
              "      <td>20.551601</td>\n",
              "      <td>3</td>\n",
              "      <td>12.528378</td>\n",
              "      <td>54.718358</td>\n",
              "      <td>1533.210346</td>\n",
              "      <td>1</td>\n",
              "    </tr>\n",
              "    <tr>\n",
              "      <th>...</th>\n",
              "      <td>...</td>\n",
              "      <td>...</td>\n",
              "      <td>...</td>\n",
              "      <td>...</td>\n",
              "      <td>...</td>\n",
              "      <td>...</td>\n",
              "    </tr>\n",
              "    <tr>\n",
              "      <th>336</th>\n",
              "      <td>50.768823</td>\n",
              "      <td>4</td>\n",
              "      <td>8.359166</td>\n",
              "      <td>49.709597</td>\n",
              "      <td>2836.584307</td>\n",
              "      <td>1</td>\n",
              "    </tr>\n",
              "    <tr>\n",
              "      <th>337</th>\n",
              "      <td>16.843095</td>\n",
              "      <td>16</td>\n",
              "      <td>14.907006</td>\n",
              "      <td>58.258795</td>\n",
              "      <td>1460.005737</td>\n",
              "      <td>1</td>\n",
              "    </tr>\n",
              "    <tr>\n",
              "      <th>338</th>\n",
              "      <td>42.346361</td>\n",
              "      <td>1</td>\n",
              "      <td>5.092311</td>\n",
              "      <td>65.541362</td>\n",
              "      <td>2560.122142</td>\n",
              "      <td>1</td>\n",
              "    </tr>\n",
              "    <tr>\n",
              "      <th>339</th>\n",
              "      <td>27.476889</td>\n",
              "      <td>29</td>\n",
              "      <td>12.327338</td>\n",
              "      <td>59.734367</td>\n",
              "      <td>1984.866353</td>\n",
              "      <td>1</td>\n",
              "    </tr>\n",
              "    <tr>\n",
              "      <th>340</th>\n",
              "      <td>44.458097</td>\n",
              "      <td>28</td>\n",
              "      <td>6.129592</td>\n",
              "      <td>39.505962</td>\n",
              "      <td>2520.730706</td>\n",
              "      <td>1</td>\n",
              "    </tr>\n",
              "  </tbody>\n",
              "</table>\n",
              "<p>341 rows × 6 columns</p>\n",
              "</div>\n",
              "    <div class=\"colab-df-buttons\">\n",
              "\n",
              "  <div class=\"colab-df-container\">\n",
              "    <button class=\"colab-df-convert\" onclick=\"convertToInteractive('df-7f640ce4-ee82-4b66-8e81-2422eec4618c')\"\n",
              "            title=\"Convert this dataframe to an interactive table.\"\n",
              "            style=\"display:none;\">\n",
              "\n",
              "  <svg xmlns=\"http://www.w3.org/2000/svg\" height=\"24px\" viewBox=\"0 -960 960 960\">\n",
              "    <path d=\"M120-120v-720h720v720H120Zm60-500h600v-160H180v160Zm220 220h160v-160H400v160Zm0 220h160v-160H400v160ZM180-400h160v-160H180v160Zm440 0h160v-160H620v160ZM180-180h160v-160H180v160Zm440 0h160v-160H620v160Z\"/>\n",
              "  </svg>\n",
              "    </button>\n",
              "\n",
              "  <style>\n",
              "    .colab-df-container {\n",
              "      display:flex;\n",
              "      gap: 12px;\n",
              "    }\n",
              "\n",
              "    .colab-df-convert {\n",
              "      background-color: #E8F0FE;\n",
              "      border: none;\n",
              "      border-radius: 50%;\n",
              "      cursor: pointer;\n",
              "      display: none;\n",
              "      fill: #1967D2;\n",
              "      height: 32px;\n",
              "      padding: 0 0 0 0;\n",
              "      width: 32px;\n",
              "    }\n",
              "\n",
              "    .colab-df-convert:hover {\n",
              "      background-color: #E2EBFA;\n",
              "      box-shadow: 0px 1px 2px rgba(60, 64, 67, 0.3), 0px 1px 3px 1px rgba(60, 64, 67, 0.15);\n",
              "      fill: #174EA6;\n",
              "    }\n",
              "\n",
              "    .colab-df-buttons div {\n",
              "      margin-bottom: 4px;\n",
              "    }\n",
              "\n",
              "    [theme=dark] .colab-df-convert {\n",
              "      background-color: #3B4455;\n",
              "      fill: #D2E3FC;\n",
              "    }\n",
              "\n",
              "    [theme=dark] .colab-df-convert:hover {\n",
              "      background-color: #434B5C;\n",
              "      box-shadow: 0px 1px 3px 1px rgba(0, 0, 0, 0.15);\n",
              "      filter: drop-shadow(0px 1px 2px rgba(0, 0, 0, 0.3));\n",
              "      fill: #FFFFFF;\n",
              "    }\n",
              "  </style>\n",
              "\n",
              "    <script>\n",
              "      const buttonEl =\n",
              "        document.querySelector('#df-7f640ce4-ee82-4b66-8e81-2422eec4618c button.colab-df-convert');\n",
              "      buttonEl.style.display =\n",
              "        google.colab.kernel.accessAllowed ? 'block' : 'none';\n",
              "\n",
              "      async function convertToInteractive(key) {\n",
              "        const element = document.querySelector('#df-7f640ce4-ee82-4b66-8e81-2422eec4618c');\n",
              "        const dataTable =\n",
              "          await google.colab.kernel.invokeFunction('convertToInteractive',\n",
              "                                                    [key], {});\n",
              "        if (!dataTable) return;\n",
              "\n",
              "        const docLinkHtml = 'Like what you see? Visit the ' +\n",
              "          '<a target=\"_blank\" href=https://colab.research.google.com/notebooks/data_table.ipynb>data table notebook</a>'\n",
              "          + ' to learn more about interactive tables.';\n",
              "        element.innerHTML = '';\n",
              "        dataTable['output_type'] = 'display_data';\n",
              "        await google.colab.output.renderOutput(dataTable, element);\n",
              "        const docLink = document.createElement('div');\n",
              "        docLink.innerHTML = docLinkHtml;\n",
              "        element.appendChild(docLink);\n",
              "      }\n",
              "    </script>\n",
              "  </div>\n",
              "\n",
              "\n",
              "<div id=\"df-8da94f5c-9ddf-4304-b9f5-009c603ea0cf\">\n",
              "  <button class=\"colab-df-quickchart\" onclick=\"quickchart('df-8da94f5c-9ddf-4304-b9f5-009c603ea0cf')\"\n",
              "            title=\"Suggest charts.\"\n",
              "            style=\"display:none;\">\n",
              "\n",
              "<svg xmlns=\"http://www.w3.org/2000/svg\" height=\"24px\"viewBox=\"0 0 24 24\"\n",
              "     width=\"24px\">\n",
              "    <g>\n",
              "        <path d=\"M19 3H5c-1.1 0-2 .9-2 2v14c0 1.1.9 2 2 2h14c1.1 0 2-.9 2-2V5c0-1.1-.9-2-2-2zM9 17H7v-7h2v7zm4 0h-2V7h2v10zm4 0h-2v-4h2v4z\"/>\n",
              "    </g>\n",
              "</svg>\n",
              "  </button>\n",
              "\n",
              "<style>\n",
              "  .colab-df-quickchart {\n",
              "      --bg-color: #E8F0FE;\n",
              "      --fill-color: #1967D2;\n",
              "      --hover-bg-color: #E2EBFA;\n",
              "      --hover-fill-color: #174EA6;\n",
              "      --disabled-fill-color: #AAA;\n",
              "      --disabled-bg-color: #DDD;\n",
              "  }\n",
              "\n",
              "  [theme=dark] .colab-df-quickchart {\n",
              "      --bg-color: #3B4455;\n",
              "      --fill-color: #D2E3FC;\n",
              "      --hover-bg-color: #434B5C;\n",
              "      --hover-fill-color: #FFFFFF;\n",
              "      --disabled-bg-color: #3B4455;\n",
              "      --disabled-fill-color: #666;\n",
              "  }\n",
              "\n",
              "  .colab-df-quickchart {\n",
              "    background-color: var(--bg-color);\n",
              "    border: none;\n",
              "    border-radius: 50%;\n",
              "    cursor: pointer;\n",
              "    display: none;\n",
              "    fill: var(--fill-color);\n",
              "    height: 32px;\n",
              "    padding: 0;\n",
              "    width: 32px;\n",
              "  }\n",
              "\n",
              "  .colab-df-quickchart:hover {\n",
              "    background-color: var(--hover-bg-color);\n",
              "    box-shadow: 0 1px 2px rgba(60, 64, 67, 0.3), 0 1px 3px 1px rgba(60, 64, 67, 0.15);\n",
              "    fill: var(--button-hover-fill-color);\n",
              "  }\n",
              "\n",
              "  .colab-df-quickchart-complete:disabled,\n",
              "  .colab-df-quickchart-complete:disabled:hover {\n",
              "    background-color: var(--disabled-bg-color);\n",
              "    fill: var(--disabled-fill-color);\n",
              "    box-shadow: none;\n",
              "  }\n",
              "\n",
              "  .colab-df-spinner {\n",
              "    border: 2px solid var(--fill-color);\n",
              "    border-color: transparent;\n",
              "    border-bottom-color: var(--fill-color);\n",
              "    animation:\n",
              "      spin 1s steps(1) infinite;\n",
              "  }\n",
              "\n",
              "  @keyframes spin {\n",
              "    0% {\n",
              "      border-color: transparent;\n",
              "      border-bottom-color: var(--fill-color);\n",
              "      border-left-color: var(--fill-color);\n",
              "    }\n",
              "    20% {\n",
              "      border-color: transparent;\n",
              "      border-left-color: var(--fill-color);\n",
              "      border-top-color: var(--fill-color);\n",
              "    }\n",
              "    30% {\n",
              "      border-color: transparent;\n",
              "      border-left-color: var(--fill-color);\n",
              "      border-top-color: var(--fill-color);\n",
              "      border-right-color: var(--fill-color);\n",
              "    }\n",
              "    40% {\n",
              "      border-color: transparent;\n",
              "      border-right-color: var(--fill-color);\n",
              "      border-top-color: var(--fill-color);\n",
              "    }\n",
              "    60% {\n",
              "      border-color: transparent;\n",
              "      border-right-color: var(--fill-color);\n",
              "    }\n",
              "    80% {\n",
              "      border-color: transparent;\n",
              "      border-right-color: var(--fill-color);\n",
              "      border-bottom-color: var(--fill-color);\n",
              "    }\n",
              "    90% {\n",
              "      border-color: transparent;\n",
              "      border-bottom-color: var(--fill-color);\n",
              "    }\n",
              "  }\n",
              "</style>\n",
              "\n",
              "  <script>\n",
              "    async function quickchart(key) {\n",
              "      const quickchartButtonEl =\n",
              "        document.querySelector('#' + key + ' button');\n",
              "      quickchartButtonEl.disabled = true;  // To prevent multiple clicks.\n",
              "      quickchartButtonEl.classList.add('colab-df-spinner');\n",
              "      try {\n",
              "        const charts = await google.colab.kernel.invokeFunction(\n",
              "            'suggestCharts', [key], {});\n",
              "      } catch (error) {\n",
              "        console.error('Error during call to suggestCharts:', error);\n",
              "      }\n",
              "      quickchartButtonEl.classList.remove('colab-df-spinner');\n",
              "      quickchartButtonEl.classList.add('colab-df-quickchart-complete');\n",
              "    }\n",
              "    (() => {\n",
              "      let quickchartButtonEl =\n",
              "        document.querySelector('#df-8da94f5c-9ddf-4304-b9f5-009c603ea0cf button');\n",
              "      quickchartButtonEl.style.display =\n",
              "        google.colab.kernel.accessAllowed ? 'block' : 'none';\n",
              "    })();\n",
              "  </script>\n",
              "</div>\n",
              "    </div>\n",
              "  </div>\n"
            ]
          },
          "metadata": {},
          "execution_count": 17
        }
      ],
      "source": [
        "df"
      ]
    },
    {
      "cell_type": "markdown",
      "source": [
        "# MSE\n",
        "\n",
        "\\begin{equation}\n",
        "\\frac{1}{n} \\sum_{i=1}^{n} (y_{i} - \\hat{y}_{i})^{2}\n",
        "\\end{equation}\n",
        "\n",
        "\n",
        "\n",
        "\n",
        "\n",
        "\n",
        "# R-square\n",
        "\n",
        "$$\n",
        "SS_{res} = \\sum (y_{i} - \\hat{y})^{2}\n",
        "$$\n",
        "\n",
        "$$\n",
        "SS_{tot} = \\sum (y_{i} - \\bar{y})^{2}\n",
        "$$\n",
        "\n",
        "$$\n",
        "R = 1 - \\frac{SS_{res}}{SS_{tot}}\n",
        "$$\n",
        "\n",
        "\n",
        "\n",
        "\n",
        "\n"
      ],
      "metadata": {
        "id": "OfHicyiE_0ph"
      }
    },
    {
      "cell_type": "code",
      "execution_count": null,
      "metadata": {
        "id": "DBwC4z0HsmGo"
      },
      "outputs": [],
      "source": [
        "def Rsquare(y, ypred):\n",
        "  SSres = (y - ypred) @ (y - ypred)\n",
        "  SStot =  (y - np.mean(y)) @ (y - np.mean(y))\n",
        "  return 1 - (SSres/SStot)\n",
        "\n",
        "def RMSE(y, ypred):\n",
        "  return ((y - ypred) @ (y - ypred))/df.shape[0],\n",
        "\n",
        "def fitnessFun(chromosome, X, target, df, metric='RMS'):\n",
        "  yhat =  df.loc[:,X] @  chromosome\n",
        "  y = df.loc[:,target]\n",
        "  if metric == 'R':\n",
        "    return Rsquare(y, yhat),\n",
        "  else:\n",
        "    return RMSE(y, yhat)"
      ]
    },
    {
      "cell_type": "code",
      "execution_count": null,
      "metadata": {
        "colab": {
          "base_uri": "https://localhost:8080/"
        },
        "id": "et1aVC_9s1qS",
        "outputId": "dd78ebfe-8f7f-437d-9fe9-4d93b0b6b21e"
      },
      "outputs": [
        {
          "output_type": "execute_result",
          "data": {
            "text/plain": [
              "(7617123.683744492,)"
            ]
          },
          "metadata": {},
          "execution_count": 19
        }
      ],
      "source": [
        "fitnessFun(betas_i, X, 'y', df)"
      ]
    },
    {
      "cell_type": "code",
      "execution_count": null,
      "metadata": {
        "id": "IdQJhFIqvzIE"
      },
      "outputs": [],
      "source": [
        "!pip install deap > null"
      ]
    },
    {
      "cell_type": "code",
      "execution_count": null,
      "metadata": {
        "id": "ArR-eSW1b6rN"
      },
      "outputs": [],
      "source": [
        "import random\n",
        "from deap import base\n",
        "from deap import creator\n",
        "from deap import tools\n",
        "from deap import algorithms"
      ]
    },
    {
      "cell_type": "code",
      "execution_count": null,
      "metadata": {
        "id": "evgKazhpcJHA"
      },
      "outputs": [],
      "source": [
        "## See the box a while"
      ]
    },
    {
      "cell_type": "code",
      "execution_count": null,
      "metadata": {
        "colab": {
          "base_uri": "https://localhost:8080/"
        },
        "id": "nUMpUXWIryYL",
        "outputId": "9b3a010d-aaad-4e78-bdd8-d64927fbe796"
      },
      "outputs": [
        {
          "output_type": "stream",
          "name": "stdout",
          "text": [
            "gen\tnevals\tavg        \tstd        \tmin        \tmax        \n",
            "0  \t250   \t1.03103e+07\t4.65741e+06\t1.58522e+06\t2.76143e+07\n",
            "1  \t246   \t4.66674e+06\t2.64481e+06\t503160     \t1.61912e+07\n",
            "2  \t248   \t1.60153e+06\t1.04199e+06\t356172     \t5.35623e+06\n",
            "3  \t250   \t544729     \t267065     \t324084     \t2.38075e+06\n",
            "4  \t247   \t378622     \t84524.7    \t324084     \t1.42104e+06\n",
            "5  \t246   \t354790     \t129854     \t322497     \t2.34528e+06\n",
            "6  \t246   \t340404     \t117800     \t303691     \t1.58134e+06\n",
            "7  \t246   \t326176     \t28637.4    \t238359     \t606987     \n",
            "8  \t250   \t320459     \t99160      \t212651     \t1.77041e+06\n",
            "9  \t244   \t280152     \t35823.5    \t212651     \t525853     \n",
            "10 \t250   \t236926     \t13575.7    \t212651     \t306550     \n",
            "11 \t250   \t224638     \t45695.9    \t211954     \t683963     \n",
            "12 \t249   \t216801     \t50138.4    \t195494     \t976567     \n",
            "13 \t248   \t218938     \t70215.2    \t190553     \t1.11576e+06\n",
            "14 \t246   \t208675     \t43910.9    \t144086     \t879663     \n",
            "15 \t246   \t199225     \t77018.3    \t144086     \t1.32819e+06\n",
            "16 \t249   \t205802     \t95177.1    \t64669.3    \t1.27572e+06\n",
            "17 \t245   \t185250     \t110678     \t55312.7    \t1.24387e+06\n",
            "18 \t241   \t140483     \t50539.9    \t47788.4    \t547052     \n",
            "19 \t248   \t98370.5    \t113176     \t44070      \t1.39059e+06\n",
            "20 \t250   \t61165.5    \t45696.7    \t18956.5    \t572563     \n",
            "21 \t249   \t60212.9    \t78767.4    \t41803.4    \t1.06541e+06\n",
            "22 \t246   \t59823.8    \t155295     \t41765.7    \t2.42618e+06\n",
            "23 \t244   \t58198.3    \t175556     \t41765.7    \t2.67682e+06\n",
            "24 \t250   \t46928.2    \t54555.3    \t41765.7    \t892664     \n",
            "25 \t246   \t49767.4    \t74137.4    \t36920.8    \t1.15253e+06\n",
            "26 \t247   \t46372      \t25519.5    \t36920.8    \t266037     \n",
            "27 \t247   \t48597.8    \t55729.4    \t24963.9    \t797689     \n",
            "28 \t249   \t80179.5    \t342118     \t24963.9    \t5.01595e+06\n",
            "29 \t244   \t55296.1    \t39329      \t24963.9    \t326229     \n",
            "30 \t246   \t55492.8    \t32543.9    \t24963.9    \t148680     \n",
            "31 \t249   \t78064.9    \t111078     \t24963.9    \t1.33231e+06\n",
            "32 \t248   \t65983      \t119593     \t18889.8    \t1.65689e+06\n",
            "33 \t250   \t27639.8    \t17673.1    \t18889.8    \t199892     \n",
            "34 \t247   \t25818.5    \t38834.4    \t15035.9    \t619554     \n",
            "35 \t249   \t21612.6    \t28308.8    \t15035.9    \t391299     \n",
            "36 \t250   \t32753.5    \t112699     \t13265.8    \t1.51532e+06\n",
            "37 \t246   \t37294.5    \t197904     \t12544.3    \t2.39819e+06\n",
            "38 \t245   \t27212.4    \t114371     \t12544.3    \t1.70678e+06\n",
            "39 \t247   \t25463.4    \t103822     \t10801.1    \t1.08867e+06\n",
            "40 \t250   \t23892.6    \t95231.2    \t10801.1    \t1.3061e+06 \n",
            "41 \t249   \t24084.3    \t87425.8    \t10801.1    \t1.09818e+06\n",
            "42 \t250   \t28262.2    \t145130     \t1977.92    \t1.88323e+06\n",
            "43 \t246   \t16464.6    \t40068.7    \t1977.92    \t553436     \n",
            "44 \t244   \t19792.8    \t95106.6    \t1977.92    \t1.45658e+06\n",
            "45 \t246   \t24872.9    \t157732     \t1977.92    \t2.26522e+06\n",
            "46 \t246   \t6001.32    \t26847.9    \t1977.92    \t343306     \n",
            "47 \t247   \t6558.26    \t66579.5    \t1977.92    \t1.05574e+06\n",
            "48 \t248   \t13539.6    \t88865.3    \t1977.92    \t1.25943e+06\n",
            "49 \t243   \t11292.1    \t109577     \t1977.92    \t1.70251e+06\n",
            "50 \t249   \t9889.61    \t62091.9    \t1592.87    \t815988     \n",
            "51 \t247   \t10446.6    \t58487.1    \t1592.87    \t653852     \n",
            "52 \t250   \t5900.88    \t37742.9    \t1556.23    \t549759     \n",
            "53 \t248   \t10678.9    \t67001.9    \t1556.23    \t760778     \n",
            "54 \t248   \t7702.36    \t45913.8    \t1434.11    \t559601     \n",
            "55 \t247   \t13138.4    \t114770     \t1434.11    \t1.76337e+06\n",
            "56 \t250   \t7459.68    \t42419.2    \t1434.11    \t390398     \n",
            "57 \t245   \t6537.55    \t41013.9    \t1397.05    \t599489     \n",
            "58 \t247   \t5381.93    \t28109.1    \t1299.86    \t292248     \n",
            "59 \t248   \t22145.5    \t199495     \t1299.86    \t3.01885e+06\n",
            "60 \t246   \t3211.53    \t15016.4    \t1299.86    \t184310     \n",
            "61 \t247   \t17000.4    \t146704     \t1299.86    \t2.10389e+06\n",
            "62 \t248   \t12596.8    \t76143.4    \t1295.22    \t901523     \n",
            "63 \t248   \t8947.54    \t63646.3    \t975.323    \t756151     \n",
            "64 \t248   \t7768.48    \t40585.2    \t975.323    \t431257     \n",
            "65 \t247   \t7417.69    \t40217.7    \t929.139    \t414875     \n",
            "66 \t248   \t4741.84    \t49614      \t929.139    \t773835     \n",
            "67 \t244   \t1658.56    \t5568.35    \t925.146    \t78157.2    \n",
            "68 \t248   \t10476.6    \t115807     \t925.146    \t1.81433e+06\n",
            "69 \t247   \t8087.47    \t101296     \t925.146    \t1.60184e+06\n",
            "70 \t249   \t6973.65    \t53772.7    \t925.146    \t762014     \n",
            "71 \t245   \t8121.65    \t50402.8    \t925.146    \t582632     \n",
            "72 \t250   \t3546.82    \t15889.2    \t925.146    \t152738     \n",
            "73 \t246   \t18883.7    \t206481     \t918.165    \t3.14955e+06\n",
            "74 \t242   \t5535.32    \t44294.1    \t918.165    \t670151     \n",
            "75 \t249   \t20824.8    \t268679     \t918.165    \t4.21294e+06\n",
            "76 \t250   \t9613.29    \t92968.1    \t918.165    \t1.42832e+06\n",
            "77 \t248   \t3734.16    \t26671.5    \t918.165    \t395637     \n",
            "78 \t248   \t4272.28    \t27602.1    \t918.165    \t336721     \n",
            "79 \t249   \t4077.77    \t29990.9    \t918.165    \t452433     \n",
            "80 \t250   \t13221.9    \t91336.5    \t918.165    \t1.1957e+06 \n",
            "81 \t250   \t9785.57    \t54504.4    \t918.165    \t571217     \n",
            "82 \t249   \t8933.48    \t51353      \t918.165    \t592152     \n",
            "83 \t248   \t13391.6    \t99584.5    \t918.165    \t1.21595e+06\n",
            "84 \t249   \t3455.35    \t32753.9    \t918.165    \t515059     \n",
            "85 \t250   \t10847.6    \t69456.7    \t918.165    \t879773     \n",
            "86 \t248   \t2552.16    \t18637.1    \t918.165    \t288803     \n",
            "87 \t250   \t6391.41    \t43473.8    \t918.165    \t535947     \n",
            "88 \t246   \t25332.9    \t194572     \t918.165    \t2.84831e+06\n",
            "89 \t249   \t6664.64    \t39855.8    \t918.165    \t507236     \n",
            "90 \t248   \t5135.79    \t32575.1    \t918.165    \t453311     \n",
            "91 \t248   \t6475.19    \t56484.5    \t918.165    \t684479     \n",
            "92 \t250   \t13135      \t118820     \t918.165    \t1.69667e+06\n",
            "93 \t244   \t7397.81    \t53748.4    \t909.126    \t763428     \n",
            "94 \t244   \t11912.5    \t89554.1    \t909.126    \t1.13522e+06\n",
            "95 \t247   \t3625.49    \t27622      \t909.126    \t426746     \n",
            "96 \t247   \t9707.49    \t75882.1    \t909.126    \t1.0038e+06 \n",
            "97 \t250   \t12033.2    \t88170.5    \t909.126    \t1.11066e+06\n",
            "98 \t249   \t6536.61    \t46630.5    \t909.126    \t676173     \n",
            "99 \t248   \t7108.48    \t54770.6    \t909.126    \t803530     \n",
            "100\t250   \t22740.1    \t234387     \t909.126    \t3.19307e+06\n",
            "101\t250   \t2218.86    \t10186.9    \t909.126    \t120264     \n",
            "102\t242   \t10322.7    \t78549.8    \t903.489    \t1.03047e+06\n",
            "103\t250   \t8674.88    \t73372.7    \t891.024    \t1.04076e+06\n",
            "104\t243   \t11414.2    \t99569.9    \t658.899    \t1.32662e+06\n",
            "105\t246   \t6391.35    \t49536.1    \t658.899    \t700006     \n",
            "106\t249   \t11691      \t120225     \t658.899    \t1.68408e+06\n",
            "107\t244   \t17435.4    \t147224     \t440.521    \t2.10274e+06\n",
            "108\t245   \t23197.4    \t260706     \t440.521    \t4.09566e+06\n",
            "109\t246   \t15323.3    \t114829     \t440.521    \t1.24086e+06\n",
            "110\t250   \t4659.57    \t37328.3    \t440.363    \t543674     \n",
            "111\t248   \t14994      \t93915.1    \t440.363    \t995005     \n",
            "112\t250   \t10044.4    \t53759.1    \t440.363    \t488692     \n",
            "113\t247   \t10863.9    \t67127.8    \t435.073    \t832767     \n",
            "114\t249   \t10464.8    \t89209.5    \t435.073    \t1.03874e+06\n",
            "115\t248   \t6604.65    \t60633.2    \t434.092    \t789907     \n",
            "116\t250   \t12731      \t104324     \t434.092    \t1.50874e+06\n",
            "117\t250   \t9232.98    \t69628.9    \t434.092    \t787539     \n",
            "118\t250   \t10550.9    \t68662.2    \t434.092    \t808612     \n",
            "119\t248   \t9040.15    \t58817.2    \t434.092    \t643318     \n",
            "120\t247   \t15046.3    \t107757     \t434.092    \t1.1022e+06 \n",
            "121\t248   \t5600.9     \t45856.3    \t433.818    \t547171     \n",
            "122\t248   \t9953.38    \t67800.6    \t433.818    \t781542     \n",
            "123\t247   \t28150.1    \t332922     \t433.818    \t5.2224e+06 \n",
            "124\t248   \t4608.32    \t34859.3    \t433.818    \t471478     \n",
            "125\t250   \t1981.43    \t10455.1    \t433.818    \t107057     \n",
            "126\t247   \t13757.9    \t184832     \t433.818    \t2.91882e+06\n",
            "127\t244   \t5827.05    \t55292      \t433.818    \t827005     \n",
            "128\t247   \t2891.99    \t25231.2    \t433.818    \t307520     \n",
            "129\t246   \t7841.36    \t55262.8    \t433.818    \t708501     \n",
            "130\t245   \t6743.45    \t43482.3    \t433.818    \t601504     \n",
            "131\t250   \t7554.37    \t60346      \t433.818    \t797253     \n",
            "132\t250   \t15562.4    \t121492     \t433.818    \t1.64314e+06\n",
            "133\t250   \t14427.1    \t86680.9    \t348.563    \t1.08493e+06\n",
            "134\t248   \t13602.8    \t96145.2    \t348.563    \t899311     \n",
            "135\t248   \t13984.6    \t110990     \t348.563    \t1.39343e+06\n",
            "136\t247   \t7808.75    \t57587.4    \t348.563    \t779803     \n",
            "137\t250   \t7766.86    \t59394.8    \t290.212    \t634228     \n",
            "138\t250   \t12780.6    \t88632.4    \t290.212    \t1.04475e+06\n",
            "139\t248   \t15240.9    \t177215     \t290.212    \t2.77747e+06\n",
            "140\t250   \t5540.42    \t45561.2    \t289.159    \t617492     \n",
            "141\t249   \t7710.86    \t49868.1    \t289.159    \t479996     \n",
            "142\t248   \t13496.3    \t109344     \t289.159    \t1.28462e+06\n",
            "143\t250   \t8565.66    \t59832.5    \t289.159    \t638836     \n",
            "144\t242   \t10677.1    \t89001.2    \t289.159    \t1.16816e+06\n",
            "145\t248   \t8753.97    \t58908.6    \t289.159    \t622748     \n",
            "146\t250   \t10851.8    \t96138.1    \t289.159    \t1.244e+06  \n",
            "147\t250   \t16683.6    \t110980     \t289.159    \t1.36622e+06\n",
            "148\t247   \t10613.2    \t84742      \t289.159    \t1.15523e+06\n",
            "149\t248   \t7391.46    \t70855.5    \t289.159    \t1.03137e+06\n",
            "150\t248   \t2266.92    \t26469      \t289.159    \t415194     \n",
            "151\t248   \t14382.3    \t85459.3    \t289.159    \t694268     \n",
            "152\t248   \t610.443    \t2285.73    \t289.159    \t24398.3    \n",
            "153\t243   \t8008.21    \t73155.2    \t289.159    \t1.03097e+06\n",
            "154\t247   \t7721.53    \t55358.6    \t285.556    \t612735     \n",
            "155\t250   \t9459.97    \t69372.9    \t285.556    \t798601     \n",
            "156\t249   \t17497      \t123951     \t285.556    \t1.32032e+06\n",
            "157\t248   \t10850.6    \t91005.6    \t285.556    \t1.30854e+06\n",
            "158\t250   \t30365.5    \t232121     \t157.732    \t3.01374e+06\n",
            "159\t246   \t11314.3    \t69621.7    \t157.732    \t630453     \n",
            "160\t250   \t14247.5    \t86112      \t157.732    \t998376     \n",
            "161\t247   \t5015.22    \t48483.5    \t157.732    \t744420     \n",
            "162\t248   \t3174.76    \t32426.9    \t157.732    \t426622     \n",
            "163\t249   \t7706.63    \t63063.4    \t157.732    \t680164     \n",
            "164\t246   \t7687.05    \t71966.4    \t157.732    \t808336     \n",
            "165\t250   \t6730.49    \t43837      \t157.732    \t459154     \n",
            "166\t248   \t6941.68    \t50657.2    \t138.988    \t568971     \n",
            "167\t250   \t2564.55    \t19627.8    \t138.988    \t223588     \n",
            "168\t250   \t13175.9    \t100429     \t138.988    \t1.33006e+06\n",
            "169\t250   \t15458.3    \t125494     \t138.988    \t1.45881e+06\n",
            "170\t250   \t11003.5    \t74635.2    \t102.248    \t890411     \n",
            "171\t250   \t9687.39    \t89122.2    \t102.248    \t1.30392e+06\n",
            "172\t249   \t9570.93    \t65637.5    \t102.248    \t738104     \n",
            "173\t250   \t17247.7    \t131206     \t102.248    \t1.33685e+06\n",
            "174\t249   \t11654.9    \t133300     \t102.248    \t2.06811e+06\n",
            "175\t248   \t7058.65    \t57596.8    \t102.248    \t859086     \n",
            "176\t250   \t18165.8    \t105628     \t102.248    \t1.15398e+06\n",
            "177\t248   \t8427.21    \t45202.9    \t102.248    \t493549     \n",
            "178\t247   \t13807.5    \t129650     \t102.248    \t1.76425e+06\n",
            "179\t244   \t6915.38    \t67588.8    \t102.248    \t966922     \n",
            "180\t249   \t4950.1     \t26263.7    \t102.248    \t221520     \n",
            "181\t248   \t11405.7    \t65305.1    \t102.248    \t623603     \n",
            "182\t246   \t24003      \t271315     \t102.248    \t4.10464e+06\n",
            "183\t248   \t6534.42    \t43161.8    \t102.248    \t508103     \n",
            "184\t247   \t7453.01    \t98552.8    \t102.248    \t1.55115e+06\n",
            "185\t246   \t19309.3    \t158545     \t102.248    \t1.72331e+06\n",
            "186\t250   \t7416.4     \t66729.3    \t102.248    \t994840     \n",
            "187\t249   \t3909.58    \t45900      \t102.248    \t707554     \n",
            "188\t247   \t1086.1     \t11337.5    \t102.248    \t175675     \n",
            "189\t250   \t9896.79    \t78711.1    \t102.248    \t971020     \n",
            "190\t249   \t6218.28    \t45733.7    \t102.248    \t465672     \n",
            "191\t250   \t7783.31    \t83652.4    \t102.248    \t1.29908e+06\n",
            "192\t249   \t33381.9    \t210334     \t102.248    \t2.23995e+06\n",
            "193\t244   \t7818.26    \t61890.9    \t102.248    \t679174     \n",
            "194\t248   \t12743.8    \t85179      \t102.248    \t1.00308e+06\n",
            "195\t249   \t8123       \t67648.2    \t102.248    \t891107     \n",
            "196\t250   \t1188.43    \t7360.06    \t100.014    \t89571.4    \n",
            "197\t250   \t5190.01    \t52134.5    \t100.014    \t691142     \n",
            "198\t250   \t7671.23    \t47231.7    \t100.014    \t516632     \n",
            "199\t246   \t4877.42    \t36512.7    \t100.014    \t403502     \n",
            "200\t246   \t10484.3    \t73310.5    \t100.014    \t778081     \n"
          ]
        },
        {
          "output_type": "execute_result",
          "data": {
            "text/plain": [
              "deap.creator.FitnessMax((100.01361902182661,))"
            ]
          },
          "metadata": {},
          "execution_count": 23
        }
      ],
      "source": [
        "creator.create(\"FitnessMax\", base.Fitness, weights=(-1.0,))\n",
        "creator.create(\"Individual\", list, fitness=creator.FitnessMax)\n",
        "toolbox = base.Toolbox()\n",
        "# Attribute generator\n",
        "toolbox.register(\"geneNormal\", random.gauss, 0, 10)\n",
        "# Structure initializers\n",
        "toolbox.register(\"individual\", tools.initRepeat, creator.Individual, toolbox.geneNormal, len(X))\n",
        "toolbox.register(\"population\", tools.initRepeat, list, toolbox.individual)\n",
        "toolbox.register(\"evaluate\", lambda chromosome: fitnessFun(chromosome=chromosome, X=X, target='y', df=df ))\n",
        "toolbox.register(\"mate\", tools.cxOnePoint)\n",
        "toolbox.register(\"mutate\", tools.mutGaussian, mu=0, sigma=10 , indpb=0.1)\n",
        "toolbox.register(\"select\", tools.selTournament, tournsize=10)\n",
        "\n",
        "\n",
        "def main():\n",
        "    pop = toolbox.population(n=250)\n",
        "    hof = tools.HallOfFame(1)\n",
        "    stats = tools.Statistics(lambda ind: ind.fitness.values)\n",
        "    stats.register(\"avg\", np.mean)\n",
        "    stats.register(\"std\", np.std)\n",
        "    stats.register(\"min\", np.min)\n",
        "    stats.register(\"max\", np.max)\n",
        "\n",
        "    pop, log = algorithms.eaSimple(pop, toolbox, cxpb=0.99, mutpb=0.15, ngen=200,\n",
        "                                   stats=stats, halloffame=hof, verbose=True)\n",
        "    return hof, log\n",
        "best, log = main()\n",
        "best[0].fitness"
      ]
    },
    {
      "cell_type": "code",
      "execution_count": null,
      "metadata": {
        "colab": {
          "base_uri": "https://localhost:8080/"
        },
        "id": "x1NqqVpL-lkH",
        "outputId": "d9aa70d7-2355-4a6c-b3e7-b506916cec3c"
      },
      "outputs": [
        {
          "output_type": "execute_result",
          "data": {
            "text/plain": [
              "[45.24480783450515, 4.12227571819001, 9.389187570878217, 8.686734715183759]"
            ]
          },
          "metadata": {},
          "execution_count": 24
        }
      ],
      "source": [
        "best[0]"
      ]
    },
    {
      "cell_type": "code",
      "source": [
        "betas"
      ],
      "metadata": {
        "colab": {
          "base_uri": "https://localhost:8080/"
        },
        "id": "4PDbF0-Fe5Qd",
        "outputId": "a6b84381-4834-40bd-95d1-71570720a223"
      },
      "execution_count": null,
      "outputs": [
        {
          "output_type": "execute_result",
          "data": {
            "text/plain": [
              "array([45.5 ,  3.5 ,  7.8 ,  8.98])"
            ]
          },
          "metadata": {},
          "execution_count": 25
        }
      ]
    },
    {
      "cell_type": "code",
      "source": [
        "## Improved solution with simulated annealing\n"
      ],
      "metadata": {
        "id": "M93olOnGy6nw"
      },
      "execution_count": null,
      "outputs": []
    },
    {
      "cell_type": "code",
      "source": [
        "def search(solution, alpha=0.1):\n",
        "  return solution  + randn(len(solution)) * alpha\n",
        "\n",
        "\n",
        "def fitnessFun(chromosome, X, target, df, metric='RMS'):\n",
        "  yhat =  df.loc[:,X] @  chromosome\n",
        "  y = df.loc[:,target]\n",
        "  if metric == 'R':\n",
        "    return Rsquare(y, yhat)\n",
        "  else:\n",
        "    return RMSE(y, yhat)\n",
        "\n",
        "\n",
        "def boltzmann(deltaE,  T, k=1):\n",
        "  return exp(-deltaE/(k*T))"
      ],
      "metadata": {
        "id": "D-K95Zfw1q9Y"
      },
      "execution_count": null,
      "outputs": []
    },
    {
      "cell_type": "code",
      "source": [
        "betas_GA= asarray(best[0])"
      ],
      "metadata": {
        "id": "4sm6E4PJ1xOr"
      },
      "execution_count": null,
      "outputs": []
    },
    {
      "cell_type": "code",
      "source": [
        "Ti , Tf = 5, 0\n",
        "cooling_rate = 20\n",
        "\n",
        "def SA(solution, search,  Ti, Tf, cooling_rate,  fitnessFunction, seed):\n",
        "  T = Ti\n",
        "  while T>Tf:\n",
        "    for _ in range(cooling_rate):\n",
        "      solution_temp  = search(solution)\n",
        "      E0, E1 = fitnessFunction(solution)[0], fitnessFunction(solution_temp)[0]\n",
        "      if E1 < E0:\n",
        "        solution = solution_temp\n",
        "      else:\n",
        "        if random.uniform(0,1) < boltzmann(E1-E0, T):\n",
        "          solution = solution_temp\n",
        "    T = T - 0.1\n",
        "  return solution"
      ],
      "metadata": {
        "id": "DFXUzLhb1jzI"
      },
      "execution_count": null,
      "outputs": []
    },
    {
      "cell_type": "code",
      "source": [
        "%%time\n",
        "betas_GANNE = SA(betas_GA,\n",
        "    search,\n",
        "    Ti,\n",
        "    Tf,\n",
        "    cooling_rate,\n",
        "   lambda solution: fitnessFun(solution, X, 'y', df),\n",
        "   1)"
      ],
      "metadata": {
        "colab": {
          "base_uri": "https://localhost:8080/"
        },
        "id": "wFHk3bYn2cGj",
        "outputId": "e12a87f2-606b-4215-8fc6-393947a25fef"
      },
      "execution_count": null,
      "outputs": [
        {
          "output_type": "stream",
          "name": "stdout",
          "text": [
            "CPU times: user 2.68 s, sys: 28.8 ms, total: 2.71 s\n",
            "Wall time: 2.91 s\n"
          ]
        }
      ]
    },
    {
      "cell_type": "code",
      "source": [
        "%%time\n",
        "# Hor woks only SA\n",
        "init_sol = toolbox.individual()\n",
        "betas_SA = SA(init_sol,\n",
        "    search,\n",
        "    Ti,\n",
        "    Tf,\n",
        "    cooling_rate,\n",
        "   lambda solution: fitnessFun(solution, X, 'y', df),\n",
        "   1)"
      ],
      "metadata": {
        "id": "IZirTxQvpfXk"
      },
      "execution_count": null,
      "outputs": []
    },
    {
      "cell_type": "code",
      "source": [
        "import statsmodels.api as sm\n",
        "from statsmodels.formula.api import ols\n",
        "mod = ols(formula=\"y ~ x1 + x2 + x3 + x4 \", data=df)\n",
        "res = mod.fit()\n",
        "print(res.summary())"
      ],
      "metadata": {
        "colab": {
          "base_uri": "https://localhost:8080/"
        },
        "id": "bqot5O5jFIpB",
        "outputId": "6c7c98bb-d19d-4dec-cbeb-6770be9aa9ea"
      },
      "execution_count": null,
      "outputs": [
        {
          "output_type": "stream",
          "name": "stdout",
          "text": [
            "                            OLS Regression Results                            \n",
            "==============================================================================\n",
            "Dep. Variable:                      y   R-squared:                       1.000\n",
            "Model:                            OLS   Adj. R-squared:                  1.000\n",
            "Method:                 Least Squares   F-statistic:                 4.520e+07\n",
            "Date:                Sun, 05 Nov 2023   Prob (F-statistic):               0.00\n",
            "Time:                        22:42:47   Log-Likelihood:                -583.10\n",
            "No. Observations:                 341   AIC:                             1176.\n",
            "Df Residuals:                     336   BIC:                             1195.\n",
            "Df Model:                           4                                         \n",
            "Covariance Type:            nonrobust                                         \n",
            "==============================================================================\n",
            "                 coef    std err          t      P>|t|      [0.025      0.975]\n",
            "------------------------------------------------------------------------------\n",
            "Intercept      0.2124      0.463      0.459      0.647      -0.698       1.123\n",
            "x1            45.4992      0.003   1.34e+04      0.000      45.493      45.506\n",
            "x2             3.4993      0.008    447.238      0.000       3.484       3.515\n",
            "x3             7.7793      0.021    376.608      0.000       7.739       7.820\n",
            "x4             8.9815      0.007   1304.457      0.000       8.968       8.995\n",
            "==============================================================================\n",
            "Omnibus:                        0.908   Durbin-Watson:                   1.859\n",
            "Prob(Omnibus):                  0.635   Jarque-Bera (JB):                0.996\n",
            "Skew:                           0.069   Prob(JB):                        0.608\n",
            "Kurtosis:                       2.775   Cond. No.                         483.\n",
            "==============================================================================\n",
            "\n",
            "Notes:\n",
            "[1] Standard Errors assume that the covariance matrix of the errors is correctly specified.\n"
          ]
        }
      ]
    },
    {
      "cell_type": "code",
      "source": [
        "betas_OLS = res.params.to_numpy()[1:]"
      ],
      "metadata": {
        "id": "hSiJ0o0YfhYr"
      },
      "execution_count": null,
      "outputs": []
    },
    {
      "cell_type": "code",
      "source": [
        "from sklearn.metrics import r2_score\n",
        "y_true = df['y']\n",
        "y_pred = res.predict()\n",
        "r2_score(y_true, y_pred)"
      ],
      "metadata": {
        "colab": {
          "base_uri": "https://localhost:8080/"
        },
        "id": "CBa0F6XQISzL",
        "outputId": "336ffe53-5ea9-4f61-9931-d31e148e613b"
      },
      "execution_count": null,
      "outputs": [
        {
          "output_type": "execute_result",
          "data": {
            "text/plain": [
              "0.9999981417841303"
            ]
          },
          "metadata": {},
          "execution_count": 33
        }
      ]
    },
    {
      "cell_type": "code",
      "source": [
        "Rsquare(df['y'], res.predict())"
      ],
      "metadata": {
        "colab": {
          "base_uri": "https://localhost:8080/"
        },
        "id": "17J3-DacMGUx",
        "outputId": "3ed34d38-bdf1-42ce-d0de-93bdd81ea5e8"
      },
      "execution_count": null,
      "outputs": [
        {
          "output_type": "execute_result",
          "data": {
            "text/plain": [
              "0.9999981417841303"
            ]
          },
          "metadata": {},
          "execution_count": 34
        }
      ]
    },
    {
      "cell_type": "code",
      "source": [
        "print('Real:',betas) # Real\n",
        "print('OLS:',betas_OLS) # Ordinary\n",
        "print('Genetic:',betas_GA) # Genetic\n",
        "print('Annealing Genetic:',betas_GANNE) #  Annealing genetic\n",
        "print('Annealing:',betas_SA) # Annealing"
      ],
      "metadata": {
        "colab": {
          "base_uri": "https://localhost:8080/"
        },
        "id": "39gM0W1DcK64",
        "outputId": "5903851a-b071-4ecb-994f-4e99a6f4e379"
      },
      "execution_count": null,
      "outputs": [
        {
          "output_type": "stream",
          "name": "stdout",
          "text": [
            "Real: [45.5   3.5   7.8   8.98]\n",
            "OLS: [45.49919252  3.49933732  7.77931584  8.98149804]\n",
            "Genetic: [45.24480783  4.12227572  9.38918757  8.68673472]\n",
            "Annealing Genetic: [45.51804623  3.4858137   7.87844025  8.95215162]\n",
            "Annealing: [45.3919297   0.8588221  14.99282474  8.61175189]\n"
          ]
        }
      ]
    }
  ],
  "metadata": {
    "colab": {
      "provenance": [],
      "include_colab_link": true
    },
    "kernelspec": {
      "display_name": "Python 3",
      "name": "python3"
    },
    "language_info": {
      "name": "python"
    }
  },
  "nbformat": 4,
  "nbformat_minor": 0
}