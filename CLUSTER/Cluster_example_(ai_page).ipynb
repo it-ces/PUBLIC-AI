{
  "nbformat": 4,
  "nbformat_minor": 0,
  "metadata": {
    "colab": {
      "provenance": []
    },
    "kernelspec": {
      "name": "python3",
      "display_name": "Python 3"
    },
    "language_info": {
      "name": "python"
    }
  },
  "cells": [
    {
      "cell_type": "code",
      "execution_count": 79,
      "metadata": {
        "id": "pjSVZWZvip83",
        "colab": {
          "base_uri": "https://localhost:8080/"
        },
        "outputId": "5a2357ef-01e7-410b-eccc-cc5a61cb897d"
      },
      "outputs": [
        {
          "output_type": "stream",
          "name": "stderr",
          "text": [
            "/usr/local/lib/python3.10/dist-packages/ipykernel/ipkernel.py:283: DeprecationWarning: `should_run_async` will not call `transform_cell` automatically in the future. Please pass the result to `transformed_cell` argument and any exception that happen during thetransform in `preprocessing_exc_tuple` in IPython 7.17 and above.\n",
            "  and should_run_async(code)\n"
          ]
        }
      ],
      "source": [
        "# Iván Andrés Trujillo Abella\n",
        "# ivantrujillo1229@gmail.com"
      ]
    },
    {
      "cell_type": "code",
      "source": [
        "!pip install ucimlrepo"
      ],
      "metadata": {
        "colab": {
          "base_uri": "https://localhost:8080/"
        },
        "id": "F3aUQoUWirqR",
        "outputId": "dd873413-47d0-4d0d-e4fc-026b86c9fc6b"
      },
      "execution_count": 80,
      "outputs": [
        {
          "output_type": "stream",
          "name": "stderr",
          "text": [
            "/usr/local/lib/python3.10/dist-packages/ipykernel/ipkernel.py:283: DeprecationWarning: `should_run_async` will not call `transform_cell` automatically in the future. Please pass the result to `transformed_cell` argument and any exception that happen during thetransform in `preprocessing_exc_tuple` in IPython 7.17 and above.\n",
            "  and should_run_async(code)\n"
          ]
        },
        {
          "output_type": "stream",
          "name": "stdout",
          "text": [
            "Requirement already satisfied: ucimlrepo in /usr/local/lib/python3.10/dist-packages (0.0.6)\n"
          ]
        }
      ]
    },
    {
      "cell_type": "code",
      "source": [
        "!pip install tableone"
      ],
      "metadata": {
        "colab": {
          "base_uri": "https://localhost:8080/"
        },
        "id": "CNCAARzbqcCv",
        "outputId": "f61db9a2-7902-4555-80a9-203fbb8337f3"
      },
      "execution_count": 81,
      "outputs": [
        {
          "output_type": "stream",
          "name": "stderr",
          "text": [
            "/usr/local/lib/python3.10/dist-packages/ipykernel/ipkernel.py:283: DeprecationWarning: `should_run_async` will not call `transform_cell` automatically in the future. Please pass the result to `transformed_cell` argument and any exception that happen during thetransform in `preprocessing_exc_tuple` in IPython 7.17 and above.\n",
            "  and should_run_async(code)\n"
          ]
        },
        {
          "output_type": "stream",
          "name": "stdout",
          "text": [
            "Requirement already satisfied: tableone in /usr/local/lib/python3.10/dist-packages (0.8.0)\n",
            "Requirement already satisfied: jinja2 in /usr/local/lib/python3.10/dist-packages (from tableone) (3.1.3)\n",
            "Requirement already satisfied: numpy in /usr/local/lib/python3.10/dist-packages (from tableone) (1.25.2)\n",
            "Requirement already satisfied: openpyxl in /usr/local/lib/python3.10/dist-packages (from tableone) (3.1.2)\n",
            "Requirement already satisfied: pandas in /usr/local/lib/python3.10/dist-packages (from tableone) (2.0.3)\n",
            "Requirement already satisfied: scipy in /usr/local/lib/python3.10/dist-packages (from tableone) (1.11.4)\n",
            "Requirement already satisfied: statsmodels in /usr/local/lib/python3.10/dist-packages (from tableone) (0.14.2)\n",
            "Requirement already satisfied: tabulate in /usr/local/lib/python3.10/dist-packages (from tableone) (0.9.0)\n",
            "Requirement already satisfied: MarkupSafe>=2.0 in /usr/local/lib/python3.10/dist-packages (from jinja2->tableone) (2.1.5)\n",
            "Requirement already satisfied: et-xmlfile in /usr/local/lib/python3.10/dist-packages (from openpyxl->tableone) (1.1.0)\n",
            "Requirement already satisfied: python-dateutil>=2.8.2 in /usr/local/lib/python3.10/dist-packages (from pandas->tableone) (2.8.2)\n",
            "Requirement already satisfied: pytz>=2020.1 in /usr/local/lib/python3.10/dist-packages (from pandas->tableone) (2023.4)\n",
            "Requirement already satisfied: tzdata>=2022.1 in /usr/local/lib/python3.10/dist-packages (from pandas->tableone) (2024.1)\n",
            "Requirement already satisfied: patsy>=0.5.6 in /usr/local/lib/python3.10/dist-packages (from statsmodels->tableone) (0.5.6)\n",
            "Requirement already satisfied: packaging>=21.3 in /usr/local/lib/python3.10/dist-packages (from statsmodels->tableone) (24.0)\n",
            "Requirement already satisfied: six in /usr/local/lib/python3.10/dist-packages (from patsy>=0.5.6->statsmodels->tableone) (1.16.0)\n"
          ]
        }
      ]
    },
    {
      "cell_type": "code",
      "source": [
        "import numpy as np\n",
        "import pandas as pd\n",
        "import matplotlib.pyplot as plt\n",
        "from ucimlrepo import fetch_ucirepo\n",
        "from tableone import TableOne\n",
        "from sklearn.cluster import KMeans\n",
        "from matplotlib import cm\n",
        "from sklearn.metrics import silhouette_samples"
      ],
      "metadata": {
        "id": "JLH-KGCvk6hs",
        "colab": {
          "base_uri": "https://localhost:8080/"
        },
        "outputId": "2ffb4bc6-91c8-46ab-9286-2a9e2015cfaf"
      },
      "execution_count": 82,
      "outputs": [
        {
          "output_type": "stream",
          "name": "stderr",
          "text": [
            "/usr/local/lib/python3.10/dist-packages/ipykernel/ipkernel.py:283: DeprecationWarning: `should_run_async` will not call `transform_cell` automatically in the future. Please pass the result to `transformed_cell` argument and any exception that happen during thetransform in `preprocessing_exc_tuple` in IPython 7.17 and above.\n",
            "  and should_run_async(code)\n"
          ]
        }
      ]
    },
    {
      "cell_type": "code",
      "source": [
        "drug_consumption_quantified = fetch_ucirepo(id=373)\n",
        "\n",
        "# data (as pandas dataframes)\n",
        "X = drug_consumption_quantified.data.features\n",
        "y = drug_consumption_quantified.data.targets\n",
        "\n",
        "# metadata\n",
        "print(drug_consumption_quantified.metadata)\n",
        "\n",
        "# variable information\n",
        "print(drug_consumption_quantified.variables)"
      ],
      "metadata": {
        "colab": {
          "base_uri": "https://localhost:8080/"
        },
        "id": "uHHOzOQliy1g",
        "outputId": "101ad3c8-4e1f-4363-f5d1-304ee4879205"
      },
      "execution_count": 83,
      "outputs": [
        {
          "output_type": "stream",
          "name": "stderr",
          "text": [
            "/usr/local/lib/python3.10/dist-packages/ipykernel/ipkernel.py:283: DeprecationWarning: `should_run_async` will not call `transform_cell` automatically in the future. Please pass the result to `transformed_cell` argument and any exception that happen during thetransform in `preprocessing_exc_tuple` in IPython 7.17 and above.\n",
            "  and should_run_async(code)\n"
          ]
        },
        {
          "output_type": "stream",
          "name": "stdout",
          "text": [
            "{'uci_id': 373, 'name': 'Drug Consumption (Quantified)', 'repository_url': 'https://archive.ics.uci.edu/dataset/373/drug+consumption+quantified', 'data_url': 'https://archive.ics.uci.edu/static/public/373/data.csv', 'abstract': 'Classify type of drug consumer by personality data', 'area': 'Social Science', 'tasks': ['Classification'], 'characteristics': ['Multivariate'], 'num_instances': 1885, 'num_features': 12, 'feature_types': ['Real'], 'demographics': ['Age', 'Gender', 'Education Level', 'Nationality', 'Ethnicity'], 'target_col': ['alcohol', 'amphet', 'amyl', 'benzos', 'caff', 'cannabis', 'choc', 'coke', 'crack', 'ecstasy', 'heroin', 'ketamine', 'legalh', 'lsd', 'meth', 'mushrooms', 'nicotine', 'semer', 'vsa'], 'index_col': ['id'], 'has_missing_values': 'no', 'missing_values_symbol': None, 'year_of_dataset_creation': 2015, 'last_updated': 'Fri Mar 08 2024', 'dataset_doi': '10.24432/C5TC7S', 'creators': ['Elaine Fehrman', 'Vincent Egan', 'Evgeny Mirkes'], 'intro_paper': {'title': 'The Five Factor Model of personality and evaluation of drug consumption risk', 'authors': 'E. Fehrman, A. Muhammad, E. Mirkes, Vincent Egan, A. Gorban', 'published_in': 'Data Science', 'year': 2015, 'url': 'https://arxiv.org/abs/1506.06297', 'doi': None}, 'additional_info': {'summary': 'Database contains records for 1885 respondents. For each respondent 12 attributes are known: Personality measurements which include NEO-FFI-R (neuroticism, extraversion, openness to experience, agreeableness, and conscientiousness), BIS-11 (impulsivity), and ImpSS (sensation seeking), level of education, age, gender, country of residence and ethnicity. All input attributes are originally categorical and are quantified. After quantification values of all input features can be considered as real-valued. In addition, participants were questioned concerning their use of 18 legal and illegal drugs (alcohol, amphetamines, amyl nitrite, benzodiazepine, cannabis, chocolate, cocaine, caffeine, crack, ecstasy, heroin, ketamine, legal highs, LSD, methadone, mushrooms, nicotine and volatile substance abuse and one fictitious drug (Semeron) which was introduced to identify over-claimers. For each drug they have to select one of the answers: never used the drug, used it over a decade ago, or in the last decade, year, month, week, or day.\\nDatabase contains 18 classification problems. Each of independent label variables contains seven classes: \"Never Used\", \"Used over a Decade Ago\", \"Used in Last Decade\", \"Used in Last Year\", \"Used in Last Month\", \"Used in Last Week\", and \"Used in Last Day\".\\n\\nProblem which can be solved:\\n* Seven class classifications for each drug separately.\\n* Problem can be transformed to binary classification by union of part of classes into one new class. For example, \"Never Used\", \"Used over a Decade Ago\" form class \"Non-user\" and all other classes form class \"User\".\\n* The best binarization of classes for each attribute.\\n* Evaluation of risk to be drug consumer for each drug.\\n\\nDetailed description of database and process of data quantification are presented in E. Fehrman, A. K. Muhammad, E. M. Mirkes, V. Egan and A. N. Gorban, \"The Five Factor Model of personality and evaluation of drug consumption risk.,\" arXiv https://arxiv.org/abs/1506.06297, 2015\\nPaper above solve binary classification problem for all drugs. For most of drugs sensitivity and specificity are greater than 75%.\\n', 'purpose': None, 'funded_by': None, 'instances_represent': None, 'recommended_data_splits': None, 'sensitive_data': None, 'preprocessing_description': None, 'variable_info': '1. ID is number of record in original database. Cannot be related to participant. It can be used for reference only.\\r\\n\\r\\n2. Age (Real) is age of participant and has one of the values:\\r\\n     Value    Meaning Cases Fraction\\r\\n     -0.95197 18-24   643   34.11%\\r\\n     -0.07854 25-34   481   25.52%\\r\\n      0.49788 35-44   356   18.89%\\r\\n      1.09449 45-54   294   15.60%\\r\\n      1.82213 55-64    93    4.93%\\r\\n      2.59171 65+      18    0.95%\\r\\n     Descriptive statistics\\r\\n     Min      Max     Mean    Std.dev.\\r\\n     -0.95197 2.59171 0.03461 0.87813\\r\\n\\r\\n3. Gender (Real) is gender of participant:\\r\\n     Value    Meaning Cases Fraction\\r\\n      0.48246 Female  942   49.97%\\r\\n     -0.48246 Male    943   50.03%\\r\\n     Descriptive statistics\\r\\n     Min      Max     Mean     Std.dev.\\r\\n     -0.48246 0.48246 -0.00026 0.48246\\r\\n\\r\\n4. Education (Real) is level of education of participant and has one of the values:\\r\\n     Value    Meaning                                              Cases Fraction\\r\\n     -2.43591 Left school before 16 years                           28    1.49%\\r\\n     -1.73790 Left school at 16 years                               99    5.25%\\r\\n     -1.43719 Left school at 17 years                               30    1.59%\\r\\n     -1.22751 Left school at 18 years                              100    5.31%\\r\\n     -0.61113 Some college or university, no certificate or degree 506   26.84%\\r\\n     -0.05921 Professional certificate/ diploma                    270   14.32%\\r\\n      0.45468 University degree                                    480   25.46%\\r\\n      1.16365 Masters degree                                       283   15.01%\\r\\n      1.98437 Doctorate degree                                      89    4.72%\\r\\n     Descriptive statistics\\r\\n     Min      Max     Mean     Std.dev.\\r\\n     -2.43591 1.98437 -0.00379 0.95004\\r\\n\\r\\n5. Country (Real) is country of current residence of participant and has one of the values:\\r\\n     Value    Meaning             Cases Fraction\\r\\n     -0.09765 Australia             54   2.86%\\r\\n      0.24923 Canada                87   4.62%\\r\\n     -0.46841 New Zealand            5   0.27%\\r\\n     -0.28519 Other                118   6.26%\\r\\n      0.21128 Republic of Ireland   20   1.06%\\r\\n      0.96082 UK                  1044  55.38%\\r\\n     -0.57009 USA                  557  29.55%\\r\\n     Descriptive statistics\\r\\n     Min      Max     Mean    Std.dev.\\r\\n     -0.57009 0.96082 0.35554 0.70015\\r\\n\\r\\n6. Ethnicity (Real) is ethnicity of participant and has one of the values:\\r\\n     Value    Meaning           Cases Fraction\\r\\n     -0.50212 Asian               26   1.38%\\r\\n     -1.10702 Black               33   1.75%\\r\\n      1.90725 Mixed-Black/Asian    3   0.16%\\r\\n      0.12600 Mixed-White/Asian   20   1.06%\\r\\n     -0.22166 Mixed-White/Black   20   1.06%\\r\\n      0.11440 Other               63   3.34%\\r\\n     -0.31685 White             1720  91.25%\\r\\n     Descriptive statistics\\r\\n     Min      Max     Mean     Std.dev.\\r\\n     -1.10702 1.90725 -0.30958 0.16618\\r\\n\\r\\n7. Nscore (Real) is NEO-FFI-R Neuroticism. Possible values are presented in table below:\\r\\n     Nscore Cases Value         Nscore Cases Value         Nscore Cases Value\\r\\n     12      1    -3.46436      29     60    -0.67825      46     67    1.02119\\r\\n     13      1    -3.15735      30     61    -0.58016      47     27    1.13281\\r\\n     14      7    -2.75696      31     87    -0.46725      48     49    1.23461\\r\\n     15      4    -2.52197      32     78    -0.34799      49     40    1.37297\\r\\n     16      3    -2.42317      33     68    -0.24649      50     24    1.49158\\r\\n     17      4    -2.34360      34     76    -0.14882      51     27    1.60383\\r\\n     18     10    -2.21844      35     69    -0.05188      52     17    1.72012\\r\\n     19     16    -2.05048      36     73     0.04257      53     20    1.83990\\r\\n     20     24    -1.86962      37     67     0.13606      54     15    1.98437\\r\\n     21     31    -1.69163      38     63     0.22393      55     11    2.12700\\r\\n     22     26    -1.55078      39     66     0.31287      56     10    2.28554\\r\\n     23     29    -1.43907      40     80     0.41667      57      6    2.46262\\r\\n     24     35    -1.32828      41     61     0.52135      58      3    2.61139\\r\\n     25     56    -1.19430      42     77     0.62967      59      5    2.82196\\r\\n     26     57    -1.05308      43     49     0.73545      60      2    3.27393\\r\\n     27     65    -0.92104      44     51     0.82562\\r\\n     28     70    -0.79151      45     37     0.91093\\r\\n     Descriptive statistics\\r\\n     Min      Max     Mean    Std.dev.\\r\\n     -3.46436 3.27393 0.00004 0.99808\\r\\n\\r\\n8. Escore (Real) is NEO-FFI-R Extraversion. Possible values are presented in table below:\\r\\n     Escore Cases Value         Escore Cases Value         Escore Cases Value\\r\\n     16      2    -3.27393      31      55   -1.23177      45     91    0.80523\\r\\n     18      1    -3.00537      32      52   -1.09207      46     69    0.96248\\r\\n     19      6    -2.72827      33      77   -0.94779      47     64    1.11406\\r\\n     20      3    -2.53830      34      68   -0.80615      48     62    1.28610\\r\\n     21      3    -2.44904      35      58   -0.69509      49     37    1.45421\\r\\n     22      8    -2.32338      36      89   -0.57545      50     25    1.58487\\r\\n     23      5    -2.21069      37      90   -0.43999      51     34    1.74091\\r\\n     24      9    -2.11437      38     106   -0.30033      52     21    1.93886\\r\\n     25      4    -2.03972      39     107   -0.15487      53     15    2.12700\\r\\n     26     21    -1.92173      40     130    0.00332      54     10    2.32338\\r\\n     27     23    -1.76250      41     116    0.16767      55      9    2.57309\\r\\n     28     23    -1.63340      42     109    0.32197      56      2    2.85950\\r\\n     29     32    -1.50796      43     105    0.47617      58      1    3.00537\\r\\n     30     38    -1.37639      44     103    0.63779      59      2    3.27393\\r\\n     Descriptive statistics\\r\\n     Min      Max     Mean     Std.dev.\\r\\n     -3.27393 3.27393 -0.00016 0.99745\\r\\n\\r\\n9. Oscore (Real) is NEO-FFI-R Openness to experience. Possible values are presented in table below:\\r\\n     Oscore Cases Value         Oscore Cases Value         Oscore Cases Value\\r\\n     24      2    -3.27393      38      64   -1.11902      50     83    0.58331\\r\\n     26      4    -2.85950      39      60   -0.97631      51     87    0.72330\\r\\n     28      4    -2.63199      40      68   -0.84732      52     87    0.88309\\r\\n     29     11    -2.39883      41      76   -0.71727      53     81    1.06238\\r\\n     30      9    -2.21069      42      87   -0.58331      54     57    1.24033\\r\\n     31      9    -2.09015      43      86   -0.45174      55     63    1.43533\\r\\n     32     13    -1.97495      44     101   -0.31776      56     38    1.65653\\r\\n     33     23    -1.82919      45     103   -0.17779      57     34    1.88511\\r\\n     34     25    -1.68062      46     134   -0.01928      58     19    2.15324\\r\\n     35     26    -1.55521      47     107    0.14143      59     13    2.44904\\r\\n     36     39    -1.42424      48     116    0.29338      60      7    2.90161\\r\\n     37     51    -1.27553      49      98    0.44585\\r\\n     Descriptive statistics\\r\\n     Min      Max     Mean     Std.dev.\\r\\n     -3.27393 2.90161 -0.00053 0.99623\\r\\n\\r\\n10. Ascore (Real) is NEO-FFI-R Agreeableness. Possible values are presented in table below:\\r\\n     Ascore Cases Value         Ascore Cases Value         Ascore Cases Value\\r\\n     12      1    -3.46436      34      42   -1.34289      48     104   0.76096\\r\\n     16      1    -3.15735      35      45   -1.21213      49      85   0.94156\\r\\n     18      1    -3.00537      36      62   -1.07533      50      68   1.11406\\r\\n     23      1    -2.90161      37      83   -0.91699      51      58   1.2861\\r\\n     24      2    -2.78793      38      82   -0.76096      52      39   1.45039\\r\\n     25      1    -2.70172      39     102   -0.60633      53      36   1.61108\\r\\n     26      7    -2.53830      40      98   -0.45321      54      36   1.81866\\r\\n     27      7    -2.35413      41     114   -0.30172      55      16   2.03972\\r\\n     28      8    -2.21844      42     101   -0.15487      56      14   2.23427\\r\\n     29     13    -2.07848      43     105   -0.01729      57       8   2.46262\\r\\n     30     18    -1.92595      44     118    0.13136      58       7   2.75696\\r\\n     31     24    -1.77200      45     112    0.28783      59       1   3.15735\\r\\n     32     30    -1.62090      46     100    0.43852      60       1   3.46436\\r\\n     33     34    -1.47955      47     100    0.59042                  \\r\\n     Descriptive statistics\\r\\n     Min      Max     Mean     Std.dev.\\r\\n     -3.46436 3.46436 -0.00024 0.99744\\r\\n\\r\\n11. Cscore (Real) is NEO-FFI-R Conscientiousness. Possible values are presented in table below:\\r\\n     Cscore Cases Value         Cscore Cases Value         Cscore Cases Value\\r\\n     17      1    -3.46436      32       39  -1.25773      46     113   0.58489\\r\\n     19      1    -3.15735      33       49  -1.13788      47      95   0.7583\\r\\n     20      3    -2.90161      34       55  -1.01450      48      95   0.93949\\r\\n     21      2    -2.72827      35       55  -0.89891      49      76   1.13407\\r\\n     22      5    -2.57309      36       69  -0.78155      50      47   1.30612\\r\\n     23      5    -2.42317      37       81  -0.65253      51      43   1.46191\\r\\n     24      6    -2.30408      38       77  -0.52745      52      34   1.63088\\r\\n     25      9    -2.18109      39       87  -0.40581      53      28   1.81175\\r\\n     26     13    -2.04506      40       97  -0.27607      54      27   2.04506\\r\\n     27     13    -1.92173      41       99  -0.14277      55      13   2.33337\\r\\n     28     25    -1.78169      42      105  -0.00665      56       8   2.63199\\r\\n     29     24    -1.64101      43       90   0.12331      57       3   3.00537\\r\\n     30     29    -1.51840      44      111   0.25953      59       1   3.46436\\r\\n     31     41    -1.38502      45      111   0.41594                  \\r\\n     Descriptive statistics\\r\\n     Min      Max     Mean     Std.dev.\\r\\n     -3.46436 3.46436 -0.00039 0.99752\\r\\n\\r\\n12. Impulsive (Real) is impulsiveness measured by BIS-11. Possible values are presented in table below:\\r\\n     Impulsiveness Cases Fraction\\r\\n     -2.55524       20    1.06%\\r\\n     -1.37983      276   14.64%\\r\\n     -0.71126      307   16.29%\\r\\n     -0.21712      355   18.83%\\r\\n      0.19268      257   13.63%\\r\\n      0.52975      216   11.46%\\r\\n      0.88113      195   10.34%\\r\\n      1.29221      148    7.85%\\r\\n      1.86203      104    5.52%\\r\\n      2.90161        7    0.37%\\r\\n     Descriptive statistics\\r\\n     Min      Max     Mean    Std.dev.\\r\\n     -2.55524 2.90161 0.00721 0.95446\\r\\n\\r\\n13. SS (Real) is sensation seeing measured by ImpSS. Possible values are presented in table below:\\r\\n     SS       Cases Fraction\\r\\n     -2.07848  71    3.77%\\r\\n     -1.54858  87    4.62%\\r\\n     -1.18084 132    7.00%\\r\\n     -0.84637 169    8.97%\\r\\n     -0.52593 211   11.19%\\r\\n     -0.21575 223   11.83%\\r\\n      0.07987 219   11.62%\\r\\n      0.40148 249   13.21%\\r\\n      0.76540 211   11.19%\\r\\n      1.22470 210   11.14%\\r\\n      1.92173 103    5.46%\\r\\n     Descriptive statistics\\r\\n     Min      Max     Mean     Std.dev.\\r\\n     -2.07848 1.92173 -0.00329 0.96370\\r\\n\\r\\n14. Alcohol is class of alcohol consumption. It is output attribute with following distribution of classes.\\r\\n\\r\\n15. Amphet is class of amphetamines consumption. It is output attribute with following distribution of classes.\\r\\n\\r\\n16. Amyl is class of amyl nitrite consumption. It is output attribute with following distribution of classes.\\r\\n\\r\\n17. Benzos is class of benzodiazepine consumption. It is output attribute with following distribution of classes:\\r\\n     Value Class                     Alcohol        Amphet          Amyl          Benzos\\r\\n                                  Cases Fraction Cases Fraction Cases Fraction Cases Fraction\\r\\n     CL0   Never Used              34    1.80%   976   51.78%   1305  69.23%   1000  53.05%\\r\\n     CL1   Used over a Decade Ago  34    1.80%   230   12.20%    210  11.14%    116   6.15%\\r\\n     CL2   Used in Last Decade     68    3.61%   243   12.89%    237  12.57%    234  12.41%\\r\\n     CL3   Used in Last Year      198   10.50%   198   10.50%     92   4.88%    236  12.52%\\r\\n     CL4   Used in Last Month     287   15.23%    75    3.98%     24   1.27%    120   6.37%\\r\\n     CL5   Used in Last Week      759   40.27%    61    3.24%     14   0.74%     84   4.46%\\r\\n     CL6   Used in Last Day       505   26.79%   102    5.41%      3   0.16%     95   5.04%\\r\\n\\r\\n18. Caff is class of caffeine consumption. It is output attribute with following distribution of classes.\\r\\n\\r\\n19. Cannabis is class of cannabis consumption. It is output attribute with following distribution of classes.\\r\\n\\r\\n20. Choc is class of chocolate consumption. It is output attribute with following distribution of classes.\\r\\n\\r\\n21. Coke is class of cocaine consumption. It is output attribute with following distribution of classes:\\r\\n     Value Class                      Caff         Cannabis         Choc           Coke\\r\\n                                  Cases Fraction Cases Fraction Cases Fraction Cases Fraction\\r\\n     CL0   Never Used               27   1.43%   413   21.91%    32    1.70%   1038  55.07%\\r\\n     CL1   Used over a Decade Ago   10   0.53%   207   10.98%     3    0.16%    160   8.49%\\r\\n     CL2   Used in Last Decade      24   1.27%   266   14.11%    10    0.53%    270  14.32%\\r\\n     CL3   Used in Last Year        60   3.18%   211   11.19%    54    2.86%    258  13.69%\\r\\n     CL4   Used in Last Month      106   5.62%   140    7.43%   296   15.70%     99   5.25%\\r\\n     CL5   Used in Last Week       273  14.48%   185    9.81%   683   36.23%     41   2.18%\\r\\n     CL6   Used in Last Day       1385  73.47%   463   24.56%   807   42.81%     19   1.01%\\r\\n\\r\\n22. Crack is class of crack consumption. It is output attribute with following distribution of classes.\\r\\n\\r\\n23. Ecstasy is class of ecstasy consumption. It is output attribute with following distribution of classes.\\r\\n\\r\\n24. Heroin is class of heroin consumption. It is output attribute with following distribution of classes.\\r\\n\\r\\n25. Ketamine is class of ketamine consumption. It is output attribute with following distribution of classes:\\r\\n     Value Class                     Crack         Ecstasy         Heroin        Ketamine\\r\\n                                  Cases Fraction Cases Fraction Cases Fraction Cases Fraction\\r\\n     CL0   Never Used             1627  86.31%   1021  54.16%   1605  85.15%   1490  79.05%\\r\\n     CL1   Used over a Decade Ago   67   3.55%    113   5.99%     68   3.61%     45   2.39%\\r\\n     CL2   Used in Last Decade     112   5.94%    234  12.41%     94   4.99%    142   7.53%\\r\\n     CL3   Used in Last Year        59   3.13%    277  14.69%     65   3.45%    129   6.84%\\r\\n     CL4   Used in Last Month        9   0.48%    156   8.28%     24   1.27%     42   2.23%\\r\\n     CL5   Used in Last Week         9   0.48%     63   3.34%     16   0.85%     33   1.75%\\r\\n     CL6   Used in Last Day          2   0.11%     21   1.11%     13   0.69%      4   0.21%\\r\\n\\r\\n26. Legalh is class of legal highs consumption. It is output attribute with following distribution of classes\\r\\n\\r\\n27. LSD is class of alcohol consumption. It is output attribute with following distribution of classes\\r\\n\\r\\n28. Meth is class of methadone consumption. It is output attribute with following distribution of classes.\\r\\n\\r\\n29. Mushrooms is class of magic mushrooms consumption. It is output attribute with following distribution of classes:\\r\\n     Value Class                     Legalh          LSD            Meth         Mushrooms\\r\\n                                  Cases Fraction Cases Fraction Cases Fraction Cases Fraction\\r\\n     CL0   Never Used             1094  58.04%   1069  56.71%   1429  75.81%   982   52.10%\\r\\n     CL1   Used over a Decade Ago   29   1.54%    259  13.74%     39   2.07%   209   11.09%\\r\\n     CL2   Used in Last Decade     198  10.50%    177   9.39%     97   5.15%   260   13.79%\\r\\n     CL3   Used in Last Year       323  17.14%    214  11.35%    149   7.90%   275   14.59%\\r\\n     CL4   Used in Last Month      110   5.84%     97   5.15%     50   2.65%   115    6.10%\\r\\n     CL5   Used in Last Week        64   3.40%     56   2.97%     48   2.55%    40    2.12%\\r\\n     CL6   Used in Last Day         67   3.55%     13   0.69%     73   3.87%     4    0.21%\\r\\n\\r\\n30. Nicotine is class of nicotine consumption. It is output attribute with following distribution of classes.\\r\\n\\r\\n31. Semer is class of fictitious drug Semeron consumption. It is output attribute with following distribution of classes.\\r\\n\\r\\n32. VSA is class of volatile substance abuse consumption. It is output attribute with following distribution of classes:\\r\\n     Value Class                    Nicotine        Semer           VSA\\r\\n                                  Cases Fraction Cases Fraction Cases Fraction\\r\\n     CL0   Never Used             428   22.71%   1877  99.58%   1455  77.19%\\r\\n     CL1   Used over a Decade Ago 193   10.24%      2   0.11%    200  10.61%\\r\\n     CL2   Used in Last Decade    204   10.82%      3   0.16%    135   7.16%\\r\\n     CL3   Used in Last Year      185    9.81%      2   0.11%     61   3.24%\\r\\n     CL4   Used in Last Month     108    5.73%      1   0.05%     13   0.69%\\r\\n     CL5   Used in Last Week      157    8.33%      0   0.00%     14   0.74%\\r\\n     CL6   Used in Last Day       610   32.36%      0   0.00%      7   0.37%\\r\\n', 'citation': None}}\n",
            "         name     role         type      demographic description units  \\\n",
            "0          id       ID      Integer             None        None  None   \n",
            "1         age  Feature   Continuous              Age        None  None   \n",
            "2      gender  Feature   Continuous           Gender        None  None   \n",
            "3   education  Feature   Continuous  Education Level        None  None   \n",
            "4     country  Feature   Continuous      Nationality        None  None   \n",
            "5   ethnicity  Feature   Continuous        Ethnicity        None  None   \n",
            "6      nscore  Feature   Continuous             None        None  None   \n",
            "7      escore  Feature   Continuous             None        None  None   \n",
            "8      oscore  Feature   Continuous             None        None  None   \n",
            "9      ascore  Feature   Continuous             None        None  None   \n",
            "10     cscore  Feature   Continuous             None        None  None   \n",
            "11  impuslive  Feature   Continuous             None        None  None   \n",
            "12         ss  Feature   Continuous             None        None  None   \n",
            "13    alcohol   Target  Categorical             None        None  None   \n",
            "14     amphet   Target  Categorical             None        None  None   \n",
            "15       amyl   Target  Categorical             None        None  None   \n",
            "16     benzos   Target  Categorical             None        None  None   \n",
            "17       caff   Target  Categorical             None        None  None   \n",
            "18   cannabis   Target  Categorical             None        None  None   \n",
            "19       choc   Target  Categorical             None        None  None   \n",
            "20       coke   Target  Categorical             None        None  None   \n",
            "21      crack   Target  Categorical             None        None  None   \n",
            "22    ecstasy   Target  Categorical             None        None  None   \n",
            "23     heroin   Target  Categorical             None        None  None   \n",
            "24   ketamine   Target  Categorical             None        None  None   \n",
            "25     legalh   Target  Categorical             None        None  None   \n",
            "26        lsd   Target  Categorical             None        None  None   \n",
            "27       meth   Target  Categorical             None        None  None   \n",
            "28  mushrooms   Target  Categorical             None        None  None   \n",
            "29   nicotine   Target  Categorical             None        None  None   \n",
            "30      semer   Target  Categorical             None        None  None   \n",
            "31        vsa   Target  Categorical             None        None  None   \n",
            "\n",
            "   missing_values  \n",
            "0              no  \n",
            "1              no  \n",
            "2              no  \n",
            "3              no  \n",
            "4              no  \n",
            "5              no  \n",
            "6              no  \n",
            "7              no  \n",
            "8              no  \n",
            "9              no  \n",
            "10             no  \n",
            "11             no  \n",
            "12             no  \n",
            "13             no  \n",
            "14             no  \n",
            "15             no  \n",
            "16             no  \n",
            "17             no  \n",
            "18             no  \n",
            "19             no  \n",
            "20             no  \n",
            "21             no  \n",
            "22             no  \n",
            "23             no  \n",
            "24             no  \n",
            "25             no  \n",
            "26             no  \n",
            "27             no  \n",
            "28             no  \n",
            "29             no  \n",
            "30             no  \n",
            "31             no  \n"
          ]
        }
      ]
    },
    {
      "cell_type": "code",
      "source": [
        "X['gender'].unique()"
      ],
      "metadata": {
        "colab": {
          "base_uri": "https://localhost:8080/"
        },
        "id": "pofHzlgckcXo",
        "outputId": "b2ca0ad8-5d17-4aa0-c13c-6abb53df3bbd"
      },
      "execution_count": 84,
      "outputs": [
        {
          "output_type": "stream",
          "name": "stderr",
          "text": [
            "/usr/local/lib/python3.10/dist-packages/ipykernel/ipkernel.py:283: DeprecationWarning: `should_run_async` will not call `transform_cell` automatically in the future. Please pass the result to `transformed_cell` argument and any exception that happen during thetransform in `preprocessing_exc_tuple` in IPython 7.17 and above.\n",
            "  and should_run_async(code)\n"
          ]
        },
        {
          "output_type": "execute_result",
          "data": {
            "text/plain": [
              "array([ 0.48246, -0.48246])"
            ]
          },
          "metadata": {},
          "execution_count": 84
        }
      ]
    },
    {
      "cell_type": "code",
      "source": [
        "X['country'].unique()"
      ],
      "metadata": {
        "colab": {
          "base_uri": "https://localhost:8080/"
        },
        "id": "e1R0O-9ZkoiX",
        "outputId": "2fb65766-d29b-49dc-95ce-4b66ffef61c0"
      },
      "execution_count": 85,
      "outputs": [
        {
          "output_type": "stream",
          "name": "stderr",
          "text": [
            "/usr/local/lib/python3.10/dist-packages/ipykernel/ipkernel.py:283: DeprecationWarning: `should_run_async` will not call `transform_cell` automatically in the future. Please pass the result to `transformed_cell` argument and any exception that happen during thetransform in `preprocessing_exc_tuple` in IPython 7.17 and above.\n",
            "  and should_run_async(code)\n"
          ]
        },
        {
          "output_type": "execute_result",
          "data": {
            "text/plain": [
              "array([ 0.96082,  0.24923, -0.57009, -0.28519, -0.09765,  0.21128,\n",
              "       -0.46841])"
            ]
          },
          "metadata": {},
          "execution_count": 85
        }
      ]
    },
    {
      "cell_type": "code",
      "source": [
        "# Observaciones como se codifica gender?, education and the other variables?"
      ],
      "metadata": {
        "id": "4Zmw_5RQkXCb",
        "colab": {
          "base_uri": "https://localhost:8080/"
        },
        "outputId": "eca098ac-f705-45a3-b342-5d58efc19be2"
      },
      "execution_count": 86,
      "outputs": [
        {
          "output_type": "stream",
          "name": "stderr",
          "text": [
            "/usr/local/lib/python3.10/dist-packages/ipykernel/ipkernel.py:283: DeprecationWarning: `should_run_async` will not call `transform_cell` automatically in the future. Please pass the result to `transformed_cell` argument and any exception that happen during thetransform in `preprocessing_exc_tuple` in IPython 7.17 and above.\n",
            "  and should_run_async(code)\n"
          ]
        }
      ]
    },
    {
      "cell_type": "code",
      "source": [
        "# It is important to know the hyperparemters in library...\n",
        "# n_init (remember that centroids are initially put in a random way) this parameter\n",
        "# indicate the number of differnte initialization to select the better!\n",
        "\n",
        "# init   k-means++ is an initialization algorithm to increase convergence....\n"
      ],
      "metadata": {
        "id": "r7C23ibsj77S",
        "colab": {
          "base_uri": "https://localhost:8080/"
        },
        "outputId": "baec1f0e-1b6a-4022-9d51-a1736761956c"
      },
      "execution_count": 87,
      "outputs": [
        {
          "output_type": "stream",
          "name": "stderr",
          "text": [
            "/usr/local/lib/python3.10/dist-packages/ipykernel/ipkernel.py:283: DeprecationWarning: `should_run_async` will not call `transform_cell` automatically in the future. Please pass the result to `transformed_cell` argument and any exception that happen during thetransform in `preprocessing_exc_tuple` in IPython 7.17 and above.\n",
            "  and should_run_async(code)\n"
          ]
        }
      ]
    },
    {
      "cell_type": "code",
      "source": [
        "distortions = []\n",
        "for i in range(1,22):\n",
        "  km = KMeans(n_clusters=i, init='k-means++', n_init=10, max_iter=300, random_state=0)\n",
        "  km.fit(X)\n",
        "  distortions.append(km.inertia_)\n",
        "plt.plot(range(1,22), distortions, marker='o')"
      ],
      "metadata": {
        "colab": {
          "base_uri": "https://localhost:8080/",
          "height": 503
        },
        "id": "y_OJBdQHkL_v",
        "outputId": "e510dd4c-fb64-479a-86fc-7b4e8328083e"
      },
      "execution_count": 88,
      "outputs": [
        {
          "output_type": "stream",
          "name": "stderr",
          "text": [
            "/usr/local/lib/python3.10/dist-packages/ipykernel/ipkernel.py:283: DeprecationWarning: `should_run_async` will not call `transform_cell` automatically in the future. Please pass the result to `transformed_cell` argument and any exception that happen during thetransform in `preprocessing_exc_tuple` in IPython 7.17 and above.\n",
            "  and should_run_async(code)\n"
          ]
        },
        {
          "output_type": "execute_result",
          "data": {
            "text/plain": [
              "[<matplotlib.lines.Line2D at 0x78cf8a660a60>]"
            ]
          },
          "metadata": {},
          "execution_count": 88
        },
        {
          "output_type": "display_data",
          "data": {
            "text/plain": [
              "<Figure size 640x480 with 1 Axes>"
            ],
            "image/png": "[encoded data removed]"
          },
          "metadata": {}
        }
      ]
    },
    {
      "cell_type": "code",
      "source": [
        "y.columns"
      ],
      "metadata": {
        "colab": {
          "base_uri": "https://localhost:8080/"
        },
        "id": "Z-wtlGUOjCVu",
        "outputId": "647ad607-f9a6-4748-8acc-ab121d4b4bcd"
      },
      "execution_count": 89,
      "outputs": [
        {
          "output_type": "stream",
          "name": "stderr",
          "text": [
            "/usr/local/lib/python3.10/dist-packages/ipykernel/ipkernel.py:283: DeprecationWarning: `should_run_async` will not call `transform_cell` automatically in the future. Please pass the result to `transformed_cell` argument and any exception that happen during thetransform in `preprocessing_exc_tuple` in IPython 7.17 and above.\n",
            "  and should_run_async(code)\n"
          ]
        },
        {
          "output_type": "execute_result",
          "data": {
            "text/plain": [
              "Index(['alcohol', 'amphet', 'amyl', 'benzos', 'caff', 'cannabis', 'choc',\n",
              "       'coke', 'crack', 'ecstasy', 'heroin', 'ketamine', 'legalh', 'lsd',\n",
              "       'meth', 'mushrooms', 'nicotine', 'semer', 'vsa'],\n",
              "      dtype='object')"
            ]
          },
          "metadata": {},
          "execution_count": 89
        }
      ]
    },
    {
      "cell_type": "code",
      "source": [
        "km = KMeans(n_clusters=3, init='k-means++', n_init=10, max_iter=300)\n",
        "y_km = km.fit_predict(X)"
      ],
      "metadata": {
        "id": "zS-3E0zOnmkS",
        "colab": {
          "base_uri": "https://localhost:8080/"
        },
        "outputId": "268d7a36-2f98-412f-a80d-505bfd444309"
      },
      "execution_count": 90,
      "outputs": [
        {
          "output_type": "stream",
          "name": "stderr",
          "text": [
            "/usr/local/lib/python3.10/dist-packages/ipykernel/ipkernel.py:283: DeprecationWarning: `should_run_async` will not call `transform_cell` automatically in the future. Please pass the result to `transformed_cell` argument and any exception that happen during thetransform in `preprocessing_exc_tuple` in IPython 7.17 and above.\n",
            "  and should_run_async(code)\n"
          ]
        }
      ]
    },
    {
      "cell_type": "code",
      "source": [
        "y['Cluster-class'] = y_km"
      ],
      "metadata": {
        "colab": {
          "base_uri": "https://localhost:8080/"
        },
        "id": "zZPQ5psWn3Oa",
        "outputId": "943baebd-a958-40eb-e014-7e91dbb378f2"
      },
      "execution_count": 91,
      "outputs": [
        {
          "output_type": "stream",
          "name": "stderr",
          "text": [
            "/usr/local/lib/python3.10/dist-packages/ipykernel/ipkernel.py:283: DeprecationWarning: `should_run_async` will not call `transform_cell` automatically in the future. Please pass the result to `transformed_cell` argument and any exception that happen during thetransform in `preprocessing_exc_tuple` in IPython 7.17 and above.\n",
            "  and should_run_async(code)\n",
            "<ipython-input-91-9ce24bf6603d>:1: SettingWithCopyWarning: \n",
            "A value is trying to be set on a copy of a slice from a DataFrame.\n",
            "Try using .loc[row_indexer,col_indexer] = value instead\n",
            "\n",
            "See the caveats in the documentation: https://pandas.pydata.org/pandas-docs/stable/user_guide/indexing.html#returning-a-view-versus-a-copy\n",
            "  y['Cluster-class'] = y_km\n"
          ]
        }
      ]
    },
    {
      "cell_type": "code",
      "source": [
        "# Algortihm Table One\n",
        "from tableone  import TableOne, load_dataset\n",
        "from scipy import stats\n",
        "categorial = []\n",
        "nonormal = []\n",
        "normal = []\n",
        "df = y.copy()\n",
        "for t in df.columns:\n",
        "    print(df[t].dtypes, t)\n",
        "    if df[t].dtypes==\"object\" or df[t].dtypes.name=='category':\n",
        "        categorial.append(t)\n",
        "    if df[t].dtypes==\"int64\" or df[t].dtypes==\"float64\":\n",
        "            n,p = stats.shapiro(df[t])\n",
        "            if p<0.05:\n",
        "                nonormal.append(t)\n",
        "            else:\n",
        "                normal.append(t)\n",
        "\n",
        "print(len(df.columns))\n",
        "print(len(normal) + len(nonormal) + len(categorial))\n",
        "mytable = TableOne(df,categorical=categorial, nonnormal=nonormal)\n",
        "mytable\n",
        "mytable.to_excel('tableOne.xlsx')\n",
        "mytable_C = TableOne(df,categorical=categorial, nonnormal=nonormal,  groupby='Cluster-class', pval=True)"
      ],
      "metadata": {
        "colab": {
          "base_uri": "https://localhost:8080/"
        },
        "id": "21jFr0NNpmkf",
        "outputId": "7dcb5872-b119-4baf-9701-6f82147a5c8f"
      },
      "execution_count": 92,
      "outputs": [
        {
          "output_type": "stream",
          "name": "stderr",
          "text": [
            "/usr/local/lib/python3.10/dist-packages/ipykernel/ipkernel.py:283: DeprecationWarning: `should_run_async` will not call `transform_cell` automatically in the future. Please pass the result to `transformed_cell` argument and any exception that happen during thetransform in `preprocessing_exc_tuple` in IPython 7.17 and above.\n",
            "  and should_run_async(code)\n"
          ]
        },
        {
          "output_type": "stream",
          "name": "stdout",
          "text": [
            "object alcohol\n",
            "object amphet\n",
            "object amyl\n",
            "object benzos\n",
            "object caff\n",
            "object cannabis\n",
            "object choc\n",
            "object coke\n",
            "object crack\n",
            "object ecstasy\n",
            "object heroin\n",
            "object ketamine\n",
            "object legalh\n",
            "object lsd\n",
            "object meth\n",
            "object mushrooms\n",
            "object nicotine\n",
            "object semer\n",
            "object vsa\n",
            "int32 Cluster-class\n",
            "20\n",
            "19\n"
          ]
        }
      ]
    },
    {
      "cell_type": "code",
      "source": [
        "mytable_C"
      ],
      "metadata": {
        "colab": {
          "base_uri": "https://localhost:8080/",
          "height": 562
        },
        "id": "kA-ylmAfrI2Q",
        "outputId": "c7504a3d-30a4-411e-b825-2ca2c53d4c04"
      },
      "execution_count": 93,
      "outputs": [
        {
          "output_type": "stream",
          "name": "stderr",
          "text": [
            "/usr/local/lib/python3.10/dist-packages/ipykernel/ipkernel.py:283: DeprecationWarning: `should_run_async` will not call `transform_cell` automatically in the future. Please pass the result to `transformed_cell` argument and any exception that happen during thetransform in `preprocessing_exc_tuple` in IPython 7.17 and above.\n",
            "  and should_run_async(code)\n"
          ]
        },
        {
          "output_type": "execute_result",
          "data": {
            "text/plain": [
              "                     Grouped by Cluster-class                                                         \n",
              "                                      Missing      Overall           0           1           2 P-Value\n",
              "n                                                     1885         557         545         783        \n",
              "alcohol, n (%)   CL0                        0     34 (1.8)     8 (1.4)     6 (1.1)    20 (2.6)  <0.001\n",
              "                 CL1                              34 (1.8)     5 (0.9)     5 (0.9)    24 (3.1)        \n",
              "                 CL2                              68 (3.6)    25 (4.5)    17 (3.1)    26 (3.3)        \n",
              "                 CL3                            198 (10.5)   83 (14.9)    45 (8.3)    70 (8.9)        \n",
              "                 CL4                            287 (15.2)   90 (16.2)   88 (16.1)  109 (13.9)        \n",
              "                 CL5                            759 (40.3)  185 (33.2)  234 (42.9)  340 (43.4)        \n",
              "                 CL6                            505 (26.8)  161 (28.9)  150 (27.5)  194 (24.8)        \n",
              "amphet, n (%)    CL0                        0   976 (51.8)  194 (34.8)  214 (39.3)  568 (72.5)  <0.001\n",
              "                 CL1                            230 (12.2)   63 (11.3)   58 (10.6)  109 (13.9)        \n",
              "                 CL2                            243 (12.9)   88 (15.8)   91 (16.7)    64 (8.2)        \n",
              "                 CL3                            198 (10.5)   90 (16.2)   90 (16.5)    18 (2.3)        \n",
              "                 CL4                              75 (4.0)    39 (7.0)    31 (5.7)     5 (0.6)        \n",
              "                 CL5                              61 (3.2)    31 (5.6)    29 (5.3)     1 (0.1)        \n",
              "                 CL6                             102 (5.4)    52 (9.3)    32 (5.9)    18 (2.3)        \n",
              "amyl, n (%)      CL0                        0  1305 (69.2)  358 (64.3)  351 (64.4)  596 (76.1)  <0.001\n",
              "                 CL1                            210 (11.1)   64 (11.5)    54 (9.9)   92 (11.7)        \n",
              "                 CL2                            237 (12.6)   78 (14.0)   86 (15.8)    73 (9.3)        \n",
              "                 CL3                              92 (4.9)    39 (7.0)    36 (6.6)    17 (2.2)        \n",
              "                 CL4                              24 (1.3)    10 (1.8)    12 (2.2)     2 (0.3)        \n",
              "                 CL5                              14 (0.7)     6 (1.1)     5 (0.9)     3 (0.4)        \n",
              "                 CL6                               3 (0.2)     2 (0.4)     1 (0.2)                    \n",
              "benzos, n (%)    CL0                        0  1000 (53.1)  187 (33.6)  268 (49.2)  545 (69.6)  <0.001\n",
              "                 CL1                             116 (6.2)    28 (5.0)    20 (3.7)    68 (8.7)        \n",
              "                 CL2                            234 (12.4)   76 (13.6)   72 (13.2)   86 (11.0)        \n",
              "                 CL3                            236 (12.5)  101 (18.1)   95 (17.4)    40 (5.1)        \n",
              "                 CL4                             120 (6.4)    52 (9.3)    49 (9.0)    19 (2.4)        \n",
              "                 CL5                              84 (4.5)    45 (8.1)    23 (4.2)    16 (2.0)        \n",
              "                 CL6                              95 (5.0)   68 (12.2)    18 (3.3)     9 (1.1)        \n",
              "caff, n (%)      CL0                        0     27 (1.4)     6 (1.1)     4 (0.7)    17 (2.2)   0.013\n",
              "                 CL1                              10 (0.5)     1 (0.2)                 9 (1.1)        \n",
              "                 CL2                              24 (1.3)     6 (1.1)     5 (0.9)    13 (1.7)        \n",
              "                 CL3                              60 (3.2)    20 (3.6)    16 (2.9)    24 (3.1)        \n",
              "                 CL4                             106 (5.6)    37 (6.6)    33 (6.1)    36 (4.6)        \n",
              "                 CL5                            273 (14.5)   85 (15.3)   92 (16.9)   96 (12.3)        \n",
              "                 CL6                           1385 (73.5)  402 (72.2)  395 (72.5)  588 (75.1)        \n",
              "cannabis, n (%)  CL0                        0   413 (21.9)    38 (6.8)    51 (9.4)  324 (41.4)  <0.001\n",
              "                 CL1                            207 (11.0)    26 (4.7)    29 (5.3)  152 (19.4)        \n",
              "                 CL2                            266 (14.1)   64 (11.5)   58 (10.6)  144 (18.4)        \n",
              "                 CL3                            211 (11.2)   98 (17.6)   57 (10.5)    56 (7.2)        \n",
              "                 CL4                             140 (7.4)   61 (11.0)   62 (11.4)    17 (2.2)        \n",
              "                 CL5                             185 (9.8)   77 (13.8)   82 (15.0)    26 (3.3)        \n",
              "                 CL6                            463 (24.6)  193 (34.6)  206 (37.8)    64 (8.2)        \n",
              "choc, n (%)      CL0                        0     32 (1.7)    13 (2.3)     6 (1.1)    13 (1.7)   0.024\n",
              "                 CL1                               3 (0.2)     1 (0.2)                 2 (0.3)        \n",
              "                 CL2                              10 (0.5)     3 (0.5)     4 (0.7)     3 (0.4)        \n",
              "                 CL3                              54 (2.9)    19 (3.4)    17 (3.1)    18 (2.3)        \n",
              "                 CL4                            296 (15.7)  114 (20.5)   83 (15.2)   99 (12.6)        \n",
              "                 CL5                            683 (36.2)  191 (34.3)  202 (37.1)  290 (37.0)        \n",
              "                 CL6                            807 (42.8)  216 (38.8)  233 (42.8)  358 (45.7)        \n",
              "coke, n (%)      CL0                        0  1038 (55.1)  210 (37.7)  252 (46.2)  576 (73.6)  <0.001\n",
              "                 CL1                             160 (8.5)    53 (9.5)    37 (6.8)    70 (8.9)        \n",
              "                 CL2                            270 (14.3)  107 (19.2)   77 (14.1)   86 (11.0)        \n",
              "                 CL3                            258 (13.7)  117 (21.0)  106 (19.4)    35 (4.5)        \n",
              "                 CL4                              99 (5.3)    42 (7.5)    47 (8.6)    10 (1.3)        \n",
              "                 CL5                              41 (2.2)    18 (3.2)    19 (3.5)     4 (0.5)        \n",
              "                 CL6                              19 (1.0)    10 (1.8)     7 (1.3)     2 (0.3)        \n",
              "crack, n (%)     CL0                        0  1627 (86.3)  429 (77.0)  456 (83.7)  742 (94.8)  <0.001\n",
              "                 CL1                              67 (3.6)    26 (4.7)    23 (4.2)    18 (2.3)        \n",
              "                 CL2                             112 (5.9)    55 (9.9)    39 (7.2)    18 (2.3)        \n",
              "                 CL3                              59 (3.1)    33 (5.9)    21 (3.9)     5 (0.6)        \n",
              "                 CL4                               9 (0.5)     7 (1.3)     2 (0.4)                    \n",
              "                 CL5                               9 (0.5)     5 (0.9)     4 (0.7)                    \n",
              "                 CL6                               2 (0.1)     2 (0.4)                                \n",
              "ecstasy, n (%)   CL0                        0  1021 (54.2)  212 (38.1)  202 (37.1)  607 (77.5)  <0.001\n",
              "                 CL1                             113 (6.0)    34 (6.1)    29 (5.3)    50 (6.4)        \n",
              "                 CL2                            234 (12.4)  103 (18.5)   64 (11.7)    67 (8.6)        \n",
              "                 CL3                            277 (14.7)  125 (22.4)  117 (21.5)    35 (4.5)        \n",
              "                 CL4                             156 (8.3)    53 (9.5)   83 (15.2)    20 (2.6)        \n",
              "                 CL5                              63 (3.3)    21 (3.8)    40 (7.3)     2 (0.3)        \n",
              "                 CL6                              21 (1.1)     9 (1.6)    10 (1.8)     2 (0.3)        \n",
              "heroin, n (%)    CL0                        0  1605 (85.1)  404 (72.5)  457 (83.9)  744 (95.0)  <0.001\n",
              "                 CL1                              68 (3.6)    30 (5.4)    17 (3.1)    21 (2.7)        \n",
              "                 CL2                              94 (5.0)    48 (8.6)    34 (6.2)    12 (1.5)        \n",
              "                 CL3                              65 (3.4)    36 (6.5)    24 (4.4)     5 (0.6)        \n",
              "                 CL4                              24 (1.3)    16 (2.9)     7 (1.3)     1 (0.1)        \n",
              "                 CL5                              16 (0.8)    12 (2.2)     4 (0.7)                    \n",
              "                 CL6                              13 (0.7)    11 (2.0)     2 (0.4)                    \n",
              "ketamine, n (%)  CL0                        0  1490 (79.0)  399 (71.6)  379 (69.5)  712 (90.9)  <0.001\n",
              "                 CL1                              45 (2.4)    15 (2.7)    13 (2.4)    17 (2.2)        \n",
              "                 CL2                             142 (7.5)   59 (10.6)    51 (9.4)    32 (4.1)        \n",
              "                 CL3                             129 (6.8)    49 (8.8)   67 (12.3)    13 (1.7)        \n",
              "                 CL4                              42 (2.2)    16 (2.9)    21 (3.9)     5 (0.6)        \n",
              "                 CL5                              33 (1.8)    18 (3.2)    12 (2.2)     3 (0.4)        \n",
              "                 CL6                               4 (0.2)     1 (0.2)     2 (0.4)     1 (0.1)        \n",
              "legalh, n (%)    CL0                        0  1094 (58.0)  205 (36.8)  217 (39.8)  672 (85.8)  <0.001\n",
              "                 CL1                              29 (1.5)    12 (2.2)    11 (2.0)     6 (0.8)        \n",
              "                 CL2                            198 (10.5)   83 (14.9)   69 (12.7)    46 (5.9)        \n",
              "                 CL3                            323 (17.1)  133 (23.9)  147 (27.0)    43 (5.5)        \n",
              "                 CL4                             110 (5.8)    47 (8.4)   59 (10.8)     4 (0.5)        \n",
              "                 CL5                              64 (3.4)    36 (6.5)    22 (4.0)     6 (0.8)        \n",
              "                 CL6                              67 (3.6)    41 (7.4)    20 (3.7)     6 (0.8)        \n",
              "lsd, n (%)       CL0                        0  1069 (56.7)  220 (39.5)  228 (41.8)  621 (79.3)  <0.001\n",
              "                 CL1                            259 (13.7)   93 (16.7)   62 (11.4)  104 (13.3)        \n",
              "                 CL2                             177 (9.4)   92 (16.5)    53 (9.7)    32 (4.1)        \n",
              "                 CL3                            214 (11.4)   88 (15.8)  107 (19.6)    19 (2.4)        \n",
              "                 CL4                              97 (5.1)    40 (7.2)    52 (9.5)     5 (0.6)        \n",
              "                 CL5                              56 (3.0)    22 (3.9)    32 (5.9)     2 (0.3)        \n",
              "                 CL6                              13 (0.7)     2 (0.4)    11 (2.0)                    \n",
              "meth, n (%)      CL0                        0  1429 (75.8)  327 (58.7)  390 (71.6)  712 (90.9)  <0.001\n",
              "                 CL1                              39 (2.1)    13 (2.3)     7 (1.3)    19 (2.4)        \n",
              "                 CL2                              97 (5.1)    42 (7.5)    35 (6.4)    20 (2.6)        \n",
              "                 CL3                             149 (7.9)   80 (14.4)   58 (10.6)    11 (1.4)        \n",
              "                 CL4                              50 (2.7)    25 (4.5)    19 (3.5)     6 (0.8)        \n",
              "                 CL5                              48 (2.5)    27 (4.8)    16 (2.9)     5 (0.6)        \n",
              "                 CL6                              73 (3.9)    43 (7.7)    20 (3.7)    10 (1.3)        \n",
              "mushrooms, n (%) CL0                        0   982 (52.1)  200 (35.9)  192 (35.2)  590 (75.4)  <0.001\n",
              "                 CL1                            209 (11.1)   69 (12.4)    49 (9.0)   91 (11.6)        \n",
              "                 CL2                            260 (13.8)  104 (18.7)   85 (15.6)    71 (9.1)        \n",
              "                 CL3                            275 (14.6)  122 (21.9)  133 (24.4)    20 (2.6)        \n",
              "                 CL4                             115 (6.1)    48 (8.6)   60 (11.0)     7 (0.9)        \n",
              "                 CL5                              40 (2.1)    13 (2.3)    24 (4.4)     3 (0.4)        \n",
              "                 CL6                               4 (0.2)     1 (0.2)     2 (0.4)     1 (0.1)        \n",
              "nicotine, n (%)  CL0                        0   428 (22.7)   64 (11.5)   92 (16.9)  272 (34.7)  <0.001\n",
              "                 CL1                            193 (10.2)    33 (5.9)    24 (4.4)  136 (17.4)        \n",
              "                 CL2                            204 (10.8)    46 (8.3)    51 (9.4)  107 (13.7)        \n",
              "                 CL3                             185 (9.8)   70 (12.6)   64 (11.7)    51 (6.5)        \n",
              "                 CL4                             108 (5.7)    41 (7.4)    47 (8.6)    20 (2.6)        \n",
              "                 CL5                             157 (8.3)    55 (9.9)   62 (11.4)    40 (5.1)        \n",
              "                 CL6                            610 (32.4)  248 (44.5)  205 (37.6)  157 (20.1)        \n",
              "semer, n (%)     CL0                        0  1877 (99.6)  555 (99.6)  540 (99.1)  782 (99.9)   0.231\n",
              "                 CL2                               3 (0.2)     1 (0.2)     2 (0.4)                    \n",
              "                 CL3                               2 (0.1)     1 (0.2)     1 (0.2)                    \n",
              "                 CL1                               2 (0.1)                 2 (0.4)                    \n",
              "                 CL4                               1 (0.1)                             1 (0.1)        \n",
              "vsa, n (%)       CL0                        0  1455 (77.2)  343 (61.6)  407 (74.7)  705 (90.0)  <0.001\n",
              "                 CL1                            200 (10.6)   84 (15.1)    49 (9.0)    67 (8.6)        \n",
              "                 CL2                             135 (7.2)   80 (14.4)    50 (9.2)     5 (0.6)        \n",
              "                 CL3                              61 (3.2)    34 (6.1)    22 (4.0)     5 (0.6)        \n",
              "                 CL4                              13 (0.7)     7 (1.3)     5 (0.9)     1 (0.1)        \n",
              "                 CL5                              14 (0.7)     5 (0.9)     9 (1.7)                    \n",
              "                 CL6                               7 (0.4)     4 (0.7)     3 (0.6)                    \n",
              "[1] Chi-squared tests for the following variables may be invalid due to the low number of observations: amyl, caff, choc, crack, heroin, ketamine, lsd, mushrooms, semer, vsa."
            ],
            "text/html": [
              "<div>\n",
              "<style scoped>\n",
              "    .dataframe tbody tr th:only-of-type {\n",
              "        vertical-align: middle;\n",
              "    }\n",
              "\n",
              "    .dataframe tbody tr th {\n",
              "        vertical-align: top;\n",
              "    }\n",
              "\n",
              "    .dataframe thead tr th {\n",
              "        text-align: left;\n",
              "    }\n",
              "</style>\n",
              "<table border=\"1\" class=\"dataframe\">\n",
              "  <thead>\n",
              "    <tr>\n",
              "      <th></th>\n",
              "      <th></th>\n",
              "      <th colspan=\"6\" halign=\"left\">Grouped by Cluster-class</th>\n",
              "    </tr>\n",
              "    <tr>\n",
              "      <th></th>\n",
              "      <th></th>\n",
              "      <th>Missing</th>\n",
              "      <th>Overall</th>\n",
              "      <th>0</th>\n",
              "      <th>1</th>\n",
              "      <th>2</th>\n",
              "      <th>P-Value</th>\n",
              "    </tr>\n",
              "  </thead>\n",
              "  <tbody>\n",
              "    <tr>\n",
              "      <th>n</th>\n",
              "      <th></th>\n",
              "      <td></td>\n",
              "      <td>1885</td>\n",
              "      <td>557</td>\n",
              "      <td>545</td>\n",
              "      <td>783</td>\n",
              "      <td></td>\n",
              "    </tr>\n",
              "    <tr>\n",
              "      <th rowspan=\"4\" valign=\"top\">alcohol, n (%)</th>\n",
              "      <th>CL0</th>\n",
              "      <td>0</td>\n",
              "      <td>34 (1.8)</td>\n",
              "      <td>8 (1.4)</td>\n",
              "      <td>6 (1.1)</td>\n",
              "      <td>20 (2.6)</td>\n",
              "      <td>&lt;0.001</td>\n",
              "    </tr>\n",
              "    <tr>\n",
              "      <th>CL1</th>\n",
              "      <td></td>\n",
              "      <td>34 (1.8)</td>\n",
              "      <td>5 (0.9)</td>\n",
              "      <td>5 (0.9)</td>\n",
              "      <td>24 (3.1)</td>\n",
              "      <td></td>\n",
              "    </tr>\n",
              "    <tr>\n",
              "      <th>CL2</th>\n",
              "      <td></td>\n",
              "      <td>68 (3.6)</td>\n",
              "      <td>25 (4.5)</td>\n",
              "      <td>17 (3.1)</td>\n",
              "      <td>26 (3.3)</td>\n",
              "      <td></td>\n",
              "    </tr>\n",
              "    <tr>\n",
              "      <th>CL3</th>\n",
              "      <td></td>\n",
              "      <td>198 (10.5)</td>\n",
              "      <td>83 (14.9)</td>\n",
              "      <td>45 (8.3)</td>\n",
              "      <td>70 (8.9)</td>\n",
              "      <td></td>\n",
              "    </tr>\n",
              "    <tr>\n",
              "      <th>...</th>\n",
              "      <th>...</th>\n",
              "      <td>...</td>\n",
              "      <td>...</td>\n",
              "      <td>...</td>\n",
              "      <td>...</td>\n",
              "      <td>...</td>\n",
              "      <td>...</td>\n",
              "    </tr>\n",
              "    <tr>\n",
              "      <th rowspan=\"5\" valign=\"top\">vsa, n (%)</th>\n",
              "      <th>CL2</th>\n",
              "      <td></td>\n",
              "      <td>135 (7.2)</td>\n",
              "      <td>80 (14.4)</td>\n",
              "      <td>50 (9.2)</td>\n",
              "      <td>5 (0.6)</td>\n",
              "      <td></td>\n",
              "    </tr>\n",
              "    <tr>\n",
              "      <th>CL3</th>\n",
              "      <td></td>\n",
              "      <td>61 (3.2)</td>\n",
              "      <td>34 (6.1)</td>\n",
              "      <td>22 (4.0)</td>\n",
              "      <td>5 (0.6)</td>\n",
              "      <td></td>\n",
              "    </tr>\n",
              "    <tr>\n",
              "      <th>CL4</th>\n",
              "      <td></td>\n",
              "      <td>13 (0.7)</td>\n",
              "      <td>7 (1.3)</td>\n",
              "      <td>5 (0.9)</td>\n",
              "      <td>1 (0.1)</td>\n",
              "      <td></td>\n",
              "    </tr>\n",
              "    <tr>\n",
              "      <th>CL5</th>\n",
              "      <td></td>\n",
              "      <td>14 (0.7)</td>\n",
              "      <td>5 (0.9)</td>\n",
              "      <td>9 (1.7)</td>\n",
              "      <td></td>\n",
              "      <td></td>\n",
              "    </tr>\n",
              "    <tr>\n",
              "      <th>CL6</th>\n",
              "      <td></td>\n",
              "      <td>7 (0.4)</td>\n",
              "      <td>4 (0.7)</td>\n",
              "      <td>3 (0.6)</td>\n",
              "      <td></td>\n",
              "      <td></td>\n",
              "    </tr>\n",
              "  </tbody>\n",
              "</table>\n",
              "<p>132 rows × 6 columns</p>\n",
              "</div><br />[1] Chi-squared tests for the following variables may be invalid due to the low number of observations: amyl, caff, choc, crack, heroin, ketamine, lsd, mushrooms, semer, vsa.<br />"
            ]
          },
          "metadata": {},
          "execution_count": 93
        }
      ]
    },
    {
      "cell_type": "code",
      "source": [
        "mytable_C.to_excel(\"results.xlsx\")"
      ],
      "metadata": {
        "id": "DhJnmrLyzE-W",
        "colab": {
          "base_uri": "https://localhost:8080/"
        },
        "outputId": "523c80f2-d2c9-4677-f91b-69244e3fa581"
      },
      "execution_count": 94,
      "outputs": [
        {
          "output_type": "stream",
          "name": "stderr",
          "text": [
            "/usr/local/lib/python3.10/dist-packages/ipykernel/ipkernel.py:283: DeprecationWarning: `should_run_async` will not call `transform_cell` automatically in the future. Please pass the result to `transformed_cell` argument and any exception that happen during thetransform in `preprocessing_exc_tuple` in IPython 7.17 and above.\n",
            "  and should_run_async(code)\n"
          ]
        }
      ]
    },
    {
      "cell_type": "code",
      "source": [
        "# A silhouette value is calculated by each pattern ....\n",
        "silhouette_vals = silhouette_samples(X,y_km, metric='euclidean')\n",
        "silhouette_vals.shape[0] == X.shape[0]"
      ],
      "metadata": {
        "colab": {
          "base_uri": "https://localhost:8080/"
        },
        "id": "171wUe--8Cb_",
        "outputId": "2efb09dd-1bfb-4b61-9a09-3d1aaadf2d21"
      },
      "execution_count": 95,
      "outputs": [
        {
          "output_type": "stream",
          "name": "stderr",
          "text": [
            "/usr/local/lib/python3.10/dist-packages/ipykernel/ipkernel.py:283: DeprecationWarning: `should_run_async` will not call `transform_cell` automatically in the future. Please pass the result to `transformed_cell` argument and any exception that happen during thetransform in `preprocessing_exc_tuple` in IPython 7.17 and above.\n",
            "  and should_run_async(code)\n"
          ]
        },
        {
          "output_type": "execute_result",
          "data": {
            "text/plain": [
              "True"
            ]
          },
          "metadata": {},
          "execution_count": 95
        }
      ]
    },
    {
      "cell_type": "code",
      "source": [],
      "metadata": {
        "colab": {
          "base_uri": "https://localhost:8080/"
        },
        "id": "aUQLeoZK861p",
        "outputId": "a6c09262-ad5a-4cf2-ba9f-fbafb2787ad0"
      },
      "execution_count": 96,
      "outputs": [
        {
          "output_type": "stream",
          "name": "stderr",
          "text": [
            "/usr/local/lib/python3.10/dist-packages/ipykernel/ipkernel.py:283: DeprecationWarning: `should_run_async` will not call `transform_cell` automatically in the future. Please pass the result to `transformed_cell` argument and any exception that happen during thetransform in `preprocessing_exc_tuple` in IPython 7.17 and above.\n",
            "  and should_run_async(code)\n"
          ]
        }
      ]
    },
    {
      "cell_type": "code",
      "source": [
        "cluster_labels = np.unique(y_km)\n",
        "n_clusters = cluster_labels.shape[0]\n",
        "silhouette_vals = silhouette_samples(X,y_km, metric='euclidean')\n",
        "y_ax_lower, y_ax_upper = 0,0\n",
        "yticks = []\n",
        "for i,c in enumerate(cluster_labels):\n",
        "  c_silhouette_vals = silhouette_vals[y_km==c]\n",
        "  c_silhouette_vals.sort()\n",
        "  y_ax_upper += len(c_silhouette_vals)\n",
        "  color = cm.jet(float(i)/n_clusters)\n",
        "  plt.barh(range(y_ax_lower, y_ax_lower + len(c_silhouette_vals)), c_silhouette_vals, height=1.0, edgecolor='none', color=color)\n",
        "  yticks.append((y_ax_lower + y_ax_upper)/2.0)\n",
        "  y_ax_lower += len(c_silhouette_vals)\n",
        "  silhouette_avg = np.mean(silhouette_vals)\n",
        "plt.axvline(silhouette_avg, color='red')\n",
        "plt.yticks(yticks, cluster_labels+1)\n",
        "plt.ylabel('Cluster')\n",
        "plt.xlabel('silhouette coefficient')\n",
        "print(silhouette_avg)"
      ],
      "metadata": {
        "colab": {
          "base_uri": "https://localhost:8080/",
          "height": 522
        },
        "id": "yX4IO6mtmUmm",
        "outputId": "68fdb8f5-4ed5-4a0b-aa8d-a4aa4bb69033"
      },
      "execution_count": 101,
      "outputs": [
        {
          "output_type": "stream",
          "name": "stderr",
          "text": [
            "/usr/local/lib/python3.10/dist-packages/ipykernel/ipkernel.py:283: DeprecationWarning: `should_run_async` will not call `transform_cell` automatically in the future. Please pass the result to `transformed_cell` argument and any exception that happen during thetransform in `preprocessing_exc_tuple` in IPython 7.17 and above.\n",
            "  and should_run_async(code)\n"
          ]
        },
        {
          "output_type": "stream",
          "name": "stdout",
          "text": [
            "0.14227118666892605\n"
          ]
        },
        {
          "output_type": "display_data",
          "data": {
            "text/plain": [
              "<Figure size 640x480 with 1 Axes>"
            ],
            "image/png": "[encoded data removed]"
          },
          "metadata": {}
        }
      ]
    },
    {
      "cell_type": "code",
      "source": [
        "# Hierarchical.....\n",
        "from scipy.spatial.distance import pdist, squareform\n",
        "from  scipy.cluster.hierarchy import linkage\n",
        "row_dist = pd.DataFrame(squareform(pdist(X, metric='euclidean')))"
      ],
      "metadata": {
        "colab": {
          "base_uri": "https://localhost:8080/"
        },
        "id": "lKzwAUVDgsGc",
        "outputId": "b11dc97b-9e73-4bc5-f0db-0825ebfad1aa"
      },
      "execution_count": 106,
      "outputs": [
        {
          "output_type": "stream",
          "name": "stderr",
          "text": [
            "/usr/local/lib/python3.10/dist-packages/ipykernel/ipkernel.py:283: DeprecationWarning: `should_run_async` will not call `transform_cell` automatically in the future. Please pass the result to `transformed_cell` argument and any exception that happen during thetransform in `preprocessing_exc_tuple` in IPython 7.17 and above.\n",
            "  and should_run_async(code)\n"
          ]
        }
      ]
    },
    {
      "cell_type": "code",
      "source": [
        "row_clusters = linkage(X.values, method='complete', metric='euclidean')\n",
        "pd.DataFrame(row_clusters, columns=['label1', 'label2', 'distance', 'number of items']\n",
        "             , index=['cluster %d' %(i+1) for i in range(row_clusters.shape[0])])"
      ],
      "metadata": {
        "colab": {
          "base_uri": "https://localhost:8080/",
          "height": 479
        },
        "id": "Yd5_XrSfiXNS",
        "outputId": "a9efe6e4-8472-4a01-dbcc-6fae163a0f48"
      },
      "execution_count": 109,
      "outputs": [
        {
          "output_type": "stream",
          "name": "stderr",
          "text": [
            "/usr/local/lib/python3.10/dist-packages/ipykernel/ipkernel.py:283: DeprecationWarning: `should_run_async` will not call `transform_cell` automatically in the future. Please pass the result to `transformed_cell` argument and any exception that happen during thetransform in `preprocessing_exc_tuple` in IPython 7.17 and above.\n",
            "  and should_run_async(code)\n"
          ]
        },
        {
          "output_type": "execute_result",
          "data": {
            "text/plain": [
              "              label1  label2   distance  number of items\n",
              "cluster 1     1200.0  1436.0   0.475052              2.0\n",
              "cluster 2      555.0  1082.0   0.608656              2.0\n",
              "cluster 3     1490.0  1776.0   0.615850              2.0\n",
              "cluster 4      338.0  1245.0   0.636671              2.0\n",
              "cluster 5      273.0   689.0   0.639140              2.0\n",
              "...              ...     ...        ...              ...\n",
              "cluster 1880  3758.0  3759.0   8.358075            568.0\n",
              "cluster 1881  3761.0  3763.0   8.567197            878.0\n",
              "cluster 1882  3760.0  3764.0   9.457577            729.0\n",
              "cluster 1883  3762.0  3765.0   9.462122           1156.0\n",
              "cluster 1884  3766.0  3767.0  10.159316           1885.0\n",
              "\n",
              "[1884 rows x 4 columns]"
            ],
            "text/html": [
              "\n",
              "  <div id=\"df-653408f9-fbc9-4509-9170-541191811e05\" class=\"colab-df-container\">\n",
              "    <div>\n",
              "<style scoped>\n",
              "    .dataframe tbody tr th:only-of-type {\n",
              "        vertical-align: middle;\n",
              "    }\n",
              "\n",
              "    .dataframe tbody tr th {\n",
              "        vertical-align: top;\n",
              "    }\n",
              "\n",
              "    .dataframe thead th {\n",
              "        text-align: right;\n",
              "    }\n",
              "</style>\n",
              "<table border=\"1\" class=\"dataframe\">\n",
              "  <thead>\n",
              "    <tr style=\"text-align: right;\">\n",
              "      <th></th>\n",
              "      <th>label1</th>\n",
              "      <th>label2</th>\n",
              "      <th>distance</th>\n",
              "      <th>number of items</th>\n",
              "    </tr>\n",
              "  </thead>\n",
              "  <tbody>\n",
              "    <tr>\n",
              "      <th>cluster 1</th>\n",
              "      <td>1200.0</td>\n",
              "      <td>1436.0</td>\n",
              "      <td>0.475052</td>\n",
              "      <td>2.0</td>\n",
              "    </tr>\n",
              "    <tr>\n",
              "      <th>cluster 2</th>\n",
              "      <td>555.0</td>\n",
              "      <td>1082.0</td>\n",
              "      <td>0.608656</td>\n",
              "      <td>2.0</td>\n",
              "    </tr>\n",
              "    <tr>\n",
              "      <th>cluster 3</th>\n",
              "      <td>1490.0</td>\n",
              "      <td>1776.0</td>\n",
              "      <td>0.615850</td>\n",
              "      <td>2.0</td>\n",
              "    </tr>\n",
              "    <tr>\n",
              "      <th>cluster 4</th>\n",
              "      <td>338.0</td>\n",
              "      <td>1245.0</td>\n",
              "      <td>0.636671</td>\n",
              "      <td>2.0</td>\n",
              "    </tr>\n",
              "    <tr>\n",
              "      <th>cluster 5</th>\n",
              "      <td>273.0</td>\n",
              "      <td>689.0</td>\n",
              "      <td>0.639140</td>\n",
              "      <td>2.0</td>\n",
              "    </tr>\n",
              "    <tr>\n",
              "      <th>...</th>\n",
              "      <td>...</td>\n",
              "      <td>...</td>\n",
              "      <td>...</td>\n",
              "      <td>...</td>\n",
              "    </tr>\n",
              "    <tr>\n",
              "      <th>cluster 1880</th>\n",
              "      <td>3758.0</td>\n",
              "      <td>3759.0</td>\n",
              "      <td>8.358075</td>\n",
              "      <td>568.0</td>\n",
              "    </tr>\n",
              "    <tr>\n",
              "      <th>cluster 1881</th>\n",
              "      <td>3761.0</td>\n",
              "      <td>3763.0</td>\n",
              "      <td>8.567197</td>\n",
              "      <td>878.0</td>\n",
              "    </tr>\n",
              "    <tr>\n",
              "      <th>cluster 1882</th>\n",
              "      <td>3760.0</td>\n",
              "      <td>3764.0</td>\n",
              "      <td>9.457577</td>\n",
              "      <td>729.0</td>\n",
              "    </tr>\n",
              "    <tr>\n",
              "      <th>cluster 1883</th>\n",
              "      <td>3762.0</td>\n",
              "      <td>3765.0</td>\n",
              "      <td>9.462122</td>\n",
              "      <td>1156.0</td>\n",
              "    </tr>\n",
              "    <tr>\n",
              "      <th>cluster 1884</th>\n",
              "      <td>3766.0</td>\n",
              "      <td>3767.0</td>\n",
              "      <td>10.159316</td>\n",
              "      <td>1885.0</td>\n",
              "    </tr>\n",
              "  </tbody>\n",
              "</table>\n",
              "<p>1884 rows × 4 columns</p>\n",
              "</div>\n",
              "    <div class=\"colab-df-buttons\">\n",
              "\n",
              "  <div class=\"colab-df-container\">\n",
              "    <button class=\"colab-df-convert\" onclick=\"convertToInteractive('df-653408f9-fbc9-4509-9170-541191811e05')\"\n",
              "            title=\"Convert this dataframe to an interactive table.\"\n",
              "            style=\"display:none;\">\n",
              "\n",
              "  <svg xmlns=\"http://www.w3.org/2000/svg\" height=\"24px\" viewBox=\"0 -960 960 960\">\n",
              "    <path d=\"M120-120v-720h720v720H120Zm60-500h600v-160H180v160Zm220 220h160v-160H400v160Zm0 220h160v-160H400v160ZM180-400h160v-160H180v160Zm440 0h160v-160H620v160ZM180-180h160v-160H180v160Zm440 0h160v-160H620v160Z\"/>\n",
              "  </svg>\n",
              "    </button>\n",
              "\n",
              "  <style>\n",
              "    .colab-df-container {\n",
              "      display:flex;\n",
              "      gap: 12px;\n",
              "    }\n",
              "\n",
              "    .colab-df-convert {\n",
              "      background-color: #E8F0FE;\n",
              "      border: none;\n",
              "      border-radius: 50%;\n",
              "      cursor: pointer;\n",
              "      display: none;\n",
              "      fill: #1967D2;\n",
              "      height: 32px;\n",
              "      padding: 0 0 0 0;\n",
              "      width: 32px;\n",
              "    }\n",
              "\n",
              "    .colab-df-convert:hover {\n",
              "      background-color: #E2EBFA;\n",
              "      box-shadow: 0px 1px 2px rgba(60, 64, 67, 0.3), 0px 1px 3px 1px rgba(60, 64, 67, 0.15);\n",
              "      fill: #174EA6;\n",
              "    }\n",
              "\n",
              "    .colab-df-buttons div {\n",
              "      margin-bottom: 4px;\n",
              "    }\n",
              "\n",
              "    [theme=dark] .colab-df-convert {\n",
              "      background-color: #3B4455;\n",
              "      fill: #D2E3FC;\n",
              "    }\n",
              "\n",
              "    [theme=dark] .colab-df-convert:hover {\n",
              "      background-color: #434B5C;\n",
              "      box-shadow: 0px 1px 3px 1px rgba(0, 0, 0, 0.15);\n",
              "      filter: drop-shadow(0px 1px 2px rgba(0, 0, 0, 0.3));\n",
              "      fill: #FFFFFF;\n",
              "    }\n",
              "  </style>\n",
              "\n",
              "    <script>\n",
              "      const buttonEl =\n",
              "        document.querySelector('#df-653408f9-fbc9-4509-9170-541191811e05 button.colab-df-convert');\n",
              "      buttonEl.style.display =\n",
              "        google.colab.kernel.accessAllowed ? 'block' : 'none';\n",
              "\n",
              "      async function convertToInteractive(key) {\n",
              "        const element = document.querySelector('#df-653408f9-fbc9-4509-9170-541191811e05');\n",
              "        const dataTable =\n",
              "          await google.colab.kernel.invokeFunction('convertToInteractive',\n",
              "                                                    [key], {});\n",
              "        if (!dataTable) return;\n",
              "\n",
              "        const docLinkHtml = 'Like what you see? Visit the ' +\n",
              "          '<a target=\"_blank\" href=https://colab.research.google.com/notebooks/data_table.ipynb>data table notebook</a>'\n",
              "          + ' to learn more about interactive tables.';\n",
              "        element.innerHTML = '';\n",
              "        dataTable['output_type'] = 'display_data';\n",
              "        await google.colab.output.renderOutput(dataTable, element);\n",
              "        const docLink = document.createElement('div');\n",
              "        docLink.innerHTML = docLinkHtml;\n",
              "        element.appendChild(docLink);\n",
              "      }\n",
              "    </script>\n",
              "  </div>\n",
              "\n",
              "\n",
              "<div id=\"df-973e46b4-ed0d-4cbd-98db-ee527e17d1dc\">\n",
              "  <button class=\"colab-df-quickchart\" onclick=\"quickchart('df-973e46b4-ed0d-4cbd-98db-ee527e17d1dc')\"\n",
              "            title=\"Suggest charts\"\n",
              "            style=\"display:none;\">\n",
              "\n",
              "<svg xmlns=\"http://www.w3.org/2000/svg\" height=\"24px\"viewBox=\"0 0 24 24\"\n",
              "     width=\"24px\">\n",
              "    <g>\n",
              "        <path d=\"M19 3H5c-1.1 0-2 .9-2 2v14c0 1.1.9 2 2 2h14c1.1 0 2-.9 2-2V5c0-1.1-.9-2-2-2zM9 17H7v-7h2v7zm4 0h-2V7h2v10zm4 0h-2v-4h2v4z\"/>\n",
              "    </g>\n",
              "</svg>\n",
              "  </button>\n",
              "\n",
              "<style>\n",
              "  .colab-df-quickchart {\n",
              "      --bg-color: #E8F0FE;\n",
              "      --fill-color: #1967D2;\n",
              "      --hover-bg-color: #E2EBFA;\n",
              "      --hover-fill-color: #174EA6;\n",
              "      --disabled-fill-color: #AAA;\n",
              "      --disabled-bg-color: #DDD;\n",
              "  }\n",
              "\n",
              "  [theme=dark] .colab-df-quickchart {\n",
              "      --bg-color: #3B4455;\n",
              "      --fill-color: #D2E3FC;\n",
              "      --hover-bg-color: #434B5C;\n",
              "      --hover-fill-color: #FFFFFF;\n",
              "      --disabled-bg-color: #3B4455;\n",
              "      --disabled-fill-color: #666;\n",
              "  }\n",
              "\n",
              "  .colab-df-quickchart {\n",
              "    background-color: var(--bg-color);\n",
              "    border: none;\n",
              "    border-radius: 50%;\n",
              "    cursor: pointer;\n",
              "    display: none;\n",
              "    fill: var(--fill-color);\n",
              "    height: 32px;\n",
              "    padding: 0;\n",
              "    width: 32px;\n",
              "  }\n",
              "\n",
              "  .colab-df-quickchart:hover {\n",
              "    background-color: var(--hover-bg-color);\n",
              "    box-shadow: 0 1px 2px rgba(60, 64, 67, 0.3), 0 1px 3px 1px rgba(60, 64, 67, 0.15);\n",
              "    fill: var(--button-hover-fill-color);\n",
              "  }\n",
              "\n",
              "  .colab-df-quickchart-complete:disabled,\n",
              "  .colab-df-quickchart-complete:disabled:hover {\n",
              "    background-color: var(--disabled-bg-color);\n",
              "    fill: var(--disabled-fill-color);\n",
              "    box-shadow: none;\n",
              "  }\n",
              "\n",
              "  .colab-df-spinner {\n",
              "    border: 2px solid var(--fill-color);\n",
              "    border-color: transparent;\n",
              "    border-bottom-color: var(--fill-color);\n",
              "    animation:\n",
              "      spin 1s steps(1) infinite;\n",
              "  }\n",
              "\n",
              "  @keyframes spin {\n",
              "    0% {\n",
              "      border-color: transparent;\n",
              "      border-bottom-color: var(--fill-color);\n",
              "      border-left-color: var(--fill-color);\n",
              "    }\n",
              "    20% {\n",
              "      border-color: transparent;\n",
              "      border-left-color: var(--fill-color);\n",
              "      border-top-color: var(--fill-color);\n",
              "    }\n",
              "    30% {\n",
              "      border-color: transparent;\n",
              "      border-left-color: var(--fill-color);\n",
              "      border-top-color: var(--fill-color);\n",
              "      border-right-color: var(--fill-color);\n",
              "    }\n",
              "    40% {\n",
              "      border-color: transparent;\n",
              "      border-right-color: var(--fill-color);\n",
              "      border-top-color: var(--fill-color);\n",
              "    }\n",
              "    60% {\n",
              "      border-color: transparent;\n",
              "      border-right-color: var(--fill-color);\n",
              "    }\n",
              "    80% {\n",
              "      border-color: transparent;\n",
              "      border-right-color: var(--fill-color);\n",
              "      border-bottom-color: var(--fill-color);\n",
              "    }\n",
              "    90% {\n",
              "      border-color: transparent;\n",
              "      border-bottom-color: var(--fill-color);\n",
              "    }\n",
              "  }\n",
              "</style>\n",
              "\n",
              "  <script>\n",
              "    async function quickchart(key) {\n",
              "      const quickchartButtonEl =\n",
              "        document.querySelector('#' + key + ' button');\n",
              "      quickchartButtonEl.disabled = true;  // To prevent multiple clicks.\n",
              "      quickchartButtonEl.classList.add('colab-df-spinner');\n",
              "      try {\n",
              "        const charts = await google.colab.kernel.invokeFunction(\n",
              "            'suggestCharts', [key], {});\n",
              "      } catch (error) {\n",
              "        console.error('Error during call to suggestCharts:', error);\n",
              "      }\n",
              "      quickchartButtonEl.classList.remove('colab-df-spinner');\n",
              "      quickchartButtonEl.classList.add('colab-df-quickchart-complete');\n",
              "    }\n",
              "    (() => {\n",
              "      let quickchartButtonEl =\n",
              "        document.querySelector('#df-973e46b4-ed0d-4cbd-98db-ee527e17d1dc button');\n",
              "      quickchartButtonEl.style.display =\n",
              "        google.colab.kernel.accessAllowed ? 'block' : 'none';\n",
              "    })();\n",
              "  </script>\n",
              "</div>\n",
              "\n",
              "    </div>\n",
              "  </div>\n"
            ],
            "application/vnd.google.colaboratory.intrinsic+json": {
              "type": "dataframe",
              "summary": "{\n  \"name\": \"             , index=['cluster %d' %(i+1) for i in range(row_clusters\",\n  \"rows\": 1884,\n  \"fields\": [\n    {\n      \"column\": \"label1\",\n      \"properties\": {\n        \"dtype\": \"number\",\n        \"std\": 1135.706318709874,\n        \"min\": 0.0,\n        \"max\": 3766.0,\n        \"num_unique_values\": 1884,\n        \"samples\": [\n          3247.0,\n          3399.0,\n          814.0\n        ],\n        \"semantic_type\": \"\",\n        \"description\": \"\"\n      }\n    },\n    {\n      \"column\": \"label2\",\n      \"properties\": {\n        \"dtype\": \"number\",\n        \"std\": 946.992012969686,\n        \"min\": 28.0,\n        \"max\": 3767.0,\n        \"num_unique_values\": 1884,\n        \"samples\": [\n          3379.0,\n          3523.0,\n          1100.0\n        ],\n        \"semantic_type\": \"\",\n        \"description\": \"\"\n      }\n    },\n    {\n      \"column\": \"distance\",\n      \"properties\": {\n        \"dtype\": \"number\",\n        \"std\": 1.1602485098458186,\n        \"min\": 0.4750522910164733,\n        \"max\": 10.159315942985533,\n        \"num_unique_values\": 1884,\n        \"samples\": [\n          3.486005636283452,\n          3.501827857448164,\n          1.7906147126336251\n        ],\n        \"semantic_type\": \"\",\n        \"description\": \"\"\n      }\n    },\n    {\n      \"column\": \"number of items\",\n      \"properties\": {\n        \"dtype\": \"number\",\n        \"std\": 65.26407244967388,\n        \"min\": 2.0,\n        \"max\": 1885.0,\n        \"num_unique_values\": 100,\n        \"samples\": [\n          317.0,\n          83.0,\n          156.0\n        ],\n        \"semantic_type\": \"\",\n        \"description\": \"\"\n      }\n    }\n  ]\n}"
            }
          },
          "metadata": {},
          "execution_count": 109
        }
      ]
    },
    {
      "cell_type": "code",
      "source": [
        "from scipy.cluster.hierarchy import dendrogram\n",
        "row_dendr = dendrogram(row_clusters)\n",
        "plt.ylabel('l2 norma')"
      ],
      "metadata": {
        "colab": {
          "base_uri": "https://localhost:8080/",
          "height": 507
        },
        "id": "qXASXVQUiszp",
        "outputId": "0b785aef-9e37-492e-9e2e-c27d573062f0"
      },
      "execution_count": 111,
      "outputs": [
        {
          "output_type": "stream",
          "name": "stderr",
          "text": [
            "/usr/local/lib/python3.10/dist-packages/ipykernel/ipkernel.py:283: DeprecationWarning: `should_run_async` will not call `transform_cell` automatically in the future. Please pass the result to `transformed_cell` argument and any exception that happen during thetransform in `preprocessing_exc_tuple` in IPython 7.17 and above.\n",
            "  and should_run_async(code)\n"
          ]
        },
        {
          "output_type": "execute_result",
          "data": {
            "text/plain": [
              "Text(0, 0.5, 'l2 norma')"
            ]
          },
          "metadata": {},
          "execution_count": 111
        },
        {
          "output_type": "display_data",
          "data": {
            "text/plain": [
              "<Figure size 640x480 with 1 Axes>"
            ],
            "image/png": "[encoded data removed]"
          },
          "metadata": {}
        }
      ]
    }
  ]
}