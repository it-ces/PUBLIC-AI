{
  "nbformat": 4,
  "nbformat_minor": 0,
  "metadata": {
    "colab": {
      "provenance": []
    },
    "kernelspec": {
      "name": "python3",
      "display_name": "Python 3"
    },
    "language_info": {
      "name": "python"
    }
  },
  "cells": [
    {
      "cell_type": "markdown",
      "source": [
        "# Train_test_val split\n",
        "The following notebook allow us undertand how works the funtion\n",
        "\n",
        "* train_test_split()\n",
        "\n",
        "\n",
        "```python\n",
        "from sklearn.model_selection import train_test_split\n",
        "```\n",
        "\n",
        "\n",
        "Parameters:\n",
        "* arrays the order could be X-input features and y-target variable\n",
        "*  test_size(percentage): the proportion of data to be assigned to test split.\n",
        "* random_state to make reproducible the split.\n",
        "\n",
        "* Shuffle ( Boolean) suffle the or not the data before of spliting\n",
        "\n"
      ],
      "metadata": {
        "id": "YEik9yWrHEJv"
      }
    },
    {
      "cell_type": "code",
      "source": [
        "import pandas as pd\n",
        "from sklearn.model_selection import train_test_split\n",
        "data = {'Person':['A','B','C','D','E','F','G','H','I', 'J', 'K', 'L', 'M', 'N', 'P', 'Q', 'R'],\n",
        "       'Income':[10,11,12,15,16,18,22,23,13,2,22,12,12,12,5,31,21],\n",
        "        'target':[1,0,1,1,1,0,0,1,1,1,0,0,1,1,0,1,1]\n",
        "        }\n",
        "data = pd.DataFrame(data)\n",
        "# Separate the data with X(features), y(target)\n",
        "X = data[['Person', 'Income']]\n",
        "y = data['target']"
      ],
      "metadata": {
        "id": "OPxn0NKOI9Pa"
      },
      "execution_count": null,
      "outputs": []
    },
    {
      "cell_type": "code",
      "source": [
        "# Keep the number of rows\n",
        "N = data.shape[0]\n",
        "# We could see the data\n",
        "data"
      ],
      "metadata": {
        "colab": {
          "base_uri": "https://localhost:8080/",
          "height": 582
        },
        "id": "gWJZ5Oo5JMFY",
        "outputId": "5ce619d3-10ae-48d0-b1b3-0adc412ba278"
      },
      "execution_count": null,
      "outputs": [
        {
          "output_type": "execute_result",
          "data": {
            "text/plain": [
              "   Person  Income  target\n",
              "0       A      10       1\n",
              "1       B      11       0\n",
              "2       C      12       1\n",
              "3       D      15       1\n",
              "4       E      16       1\n",
              "5       F      18       0\n",
              "6       G      22       0\n",
              "7       H      23       1\n",
              "8       I      13       1\n",
              "9       J       2       1\n",
              "10      K      22       0\n",
              "11      L      12       0\n",
              "12      M      12       1\n",
              "13      N      12       1\n",
              "14      P       5       0\n",
              "15      Q      31       1\n",
              "16      R      21       1"
            ],
            "text/html": [
              "\n",
              "  <div id=\"df-2e699398-8297-47aa-9769-e72a04625a80\">\n",
              "    <div class=\"colab-df-container\">\n",
              "      <div>\n",
              "<style scoped>\n",
              "    .dataframe tbody tr th:only-of-type {\n",
              "        vertical-align: middle;\n",
              "    }\n",
              "\n",
              "    .dataframe tbody tr th {\n",
              "        vertical-align: top;\n",
              "    }\n",
              "\n",
              "    .dataframe thead th {\n",
              "        text-align: right;\n",
              "    }\n",
              "</style>\n",
              "<table border=\"1\" class=\"dataframe\">\n",
              "  <thead>\n",
              "    <tr style=\"text-align: right;\">\n",
              "      <th></th>\n",
              "      <th>Person</th>\n",
              "      <th>Income</th>\n",
              "      <th>target</th>\n",
              "    </tr>\n",
              "  </thead>\n",
              "  <tbody>\n",
              "    <tr>\n",
              "      <th>0</th>\n",
              "      <td>A</td>\n",
              "      <td>10</td>\n",
              "      <td>1</td>\n",
              "    </tr>\n",
              "    <tr>\n",
              "      <th>1</th>\n",
              "      <td>B</td>\n",
              "      <td>11</td>\n",
              "      <td>0</td>\n",
              "    </tr>\n",
              "    <tr>\n",
              "      <th>2</th>\n",
              "      <td>C</td>\n",
              "      <td>12</td>\n",
              "      <td>1</td>\n",
              "    </tr>\n",
              "    <tr>\n",
              "      <th>3</th>\n",
              "      <td>D</td>\n",
              "      <td>15</td>\n",
              "      <td>1</td>\n",
              "    </tr>\n",
              "    <tr>\n",
              "      <th>4</th>\n",
              "      <td>E</td>\n",
              "      <td>16</td>\n",
              "      <td>1</td>\n",
              "    </tr>\n",
              "    <tr>\n",
              "      <th>5</th>\n",
              "      <td>F</td>\n",
              "      <td>18</td>\n",
              "      <td>0</td>\n",
              "    </tr>\n",
              "    <tr>\n",
              "      <th>6</th>\n",
              "      <td>G</td>\n",
              "      <td>22</td>\n",
              "      <td>0</td>\n",
              "    </tr>\n",
              "    <tr>\n",
              "      <th>7</th>\n",
              "      <td>H</td>\n",
              "      <td>23</td>\n",
              "      <td>1</td>\n",
              "    </tr>\n",
              "    <tr>\n",
              "      <th>8</th>\n",
              "      <td>I</td>\n",
              "      <td>13</td>\n",
              "      <td>1</td>\n",
              "    </tr>\n",
              "    <tr>\n",
              "      <th>9</th>\n",
              "      <td>J</td>\n",
              "      <td>2</td>\n",
              "      <td>1</td>\n",
              "    </tr>\n",
              "    <tr>\n",
              "      <th>10</th>\n",
              "      <td>K</td>\n",
              "      <td>22</td>\n",
              "      <td>0</td>\n",
              "    </tr>\n",
              "    <tr>\n",
              "      <th>11</th>\n",
              "      <td>L</td>\n",
              "      <td>12</td>\n",
              "      <td>0</td>\n",
              "    </tr>\n",
              "    <tr>\n",
              "      <th>12</th>\n",
              "      <td>M</td>\n",
              "      <td>12</td>\n",
              "      <td>1</td>\n",
              "    </tr>\n",
              "    <tr>\n",
              "      <th>13</th>\n",
              "      <td>N</td>\n",
              "      <td>12</td>\n",
              "      <td>1</td>\n",
              "    </tr>\n",
              "    <tr>\n",
              "      <th>14</th>\n",
              "      <td>P</td>\n",
              "      <td>5</td>\n",
              "      <td>0</td>\n",
              "    </tr>\n",
              "    <tr>\n",
              "      <th>15</th>\n",
              "      <td>Q</td>\n",
              "      <td>31</td>\n",
              "      <td>1</td>\n",
              "    </tr>\n",
              "    <tr>\n",
              "      <th>16</th>\n",
              "      <td>R</td>\n",
              "      <td>21</td>\n",
              "      <td>1</td>\n",
              "    </tr>\n",
              "  </tbody>\n",
              "</table>\n",
              "</div>\n",
              "      <button class=\"colab-df-convert\" onclick=\"convertToInteractive('df-2e699398-8297-47aa-9769-e72a04625a80')\"\n",
              "              title=\"Convert this dataframe to an interactive table.\"\n",
              "              style=\"display:none;\">\n",
              "        \n",
              "  <svg xmlns=\"http://www.w3.org/2000/svg\" height=\"24px\"viewBox=\"0 0 24 24\"\n",
              "       width=\"24px\">\n",
              "    <path d=\"M0 0h24v24H0V0z\" fill=\"none\"/>\n",
              "    <path d=\"M18.56 5.44l.94 2.06.94-2.06 2.06-.94-2.06-.94-.94-2.06-.94 2.06-2.06.94zm-11 1L8.5 8.5l.94-2.06 2.06-.94-2.06-.94L8.5 2.5l-.94 2.06-2.06.94zm10 10l.94 2.06.94-2.06 2.06-.94-2.06-.94-.94-2.06-.94 2.06-2.06.94z\"/><path d=\"M17.41 7.96l-1.37-1.37c-.4-.4-.92-.59-1.43-.59-.52 0-1.04.2-1.43.59L10.3 9.45l-7.72 7.72c-.78.78-.78 2.05 0 2.83L4 21.41c.39.39.9.59 1.41.59.51 0 1.02-.2 1.41-.59l7.78-7.78 2.81-2.81c.8-.78.8-2.07 0-2.86zM5.41 20L4 18.59l7.72-7.72 1.47 1.35L5.41 20z\"/>\n",
              "  </svg>\n",
              "      </button>\n",
              "      \n",
              "  <style>\n",
              "    .colab-df-container {\n",
              "      display:flex;\n",
              "      flex-wrap:wrap;\n",
              "      gap: 12px;\n",
              "    }\n",
              "\n",
              "    .colab-df-convert {\n",
              "      background-color: #E8F0FE;\n",
              "      border: none;\n",
              "      border-radius: 50%;\n",
              "      cursor: pointer;\n",
              "      display: none;\n",
              "      fill: #1967D2;\n",
              "      height: 32px;\n",
              "      padding: 0 0 0 0;\n",
              "      width: 32px;\n",
              "    }\n",
              "\n",
              "    .colab-df-convert:hover {\n",
              "      background-color: #E2EBFA;\n",
              "      box-shadow: 0px 1px 2px rgba(60, 64, 67, 0.3), 0px 1px 3px 1px rgba(60, 64, 67, 0.15);\n",
              "      fill: #174EA6;\n",
              "    }\n",
              "\n",
              "    [theme=dark] .colab-df-convert {\n",
              "      background-color: #3B4455;\n",
              "      fill: #D2E3FC;\n",
              "    }\n",
              "\n",
              "    [theme=dark] .colab-df-convert:hover {\n",
              "      background-color: #434B5C;\n",
              "      box-shadow: 0px 1px 3px 1px rgba(0, 0, 0, 0.15);\n",
              "      filter: drop-shadow(0px 1px 2px rgba(0, 0, 0, 0.3));\n",
              "      fill: #FFFFFF;\n",
              "    }\n",
              "  </style>\n",
              "\n",
              "      <script>\n",
              "        const buttonEl =\n",
              "          document.querySelector('#df-2e699398-8297-47aa-9769-e72a04625a80 button.colab-df-convert');\n",
              "        buttonEl.style.display =\n",
              "          google.colab.kernel.accessAllowed ? 'block' : 'none';\n",
              "\n",
              "        async function convertToInteractive(key) {\n",
              "          const element = document.querySelector('#df-2e699398-8297-47aa-9769-e72a04625a80');\n",
              "          const dataTable =\n",
              "            await google.colab.kernel.invokeFunction('convertToInteractive',\n",
              "                                                     [key], {});\n",
              "          if (!dataTable) return;\n",
              "\n",
              "          const docLinkHtml = 'Like what you see? Visit the ' +\n",
              "            '<a target=\"_blank\" href=https://colab.research.google.com/notebooks/data_table.ipynb>data table notebook</a>'\n",
              "            + ' to learn more about interactive tables.';\n",
              "          element.innerHTML = '';\n",
              "          dataTable['output_type'] = 'display_data';\n",
              "          await google.colab.output.renderOutput(dataTable, element);\n",
              "          const docLink = document.createElement('div');\n",
              "          docLink.innerHTML = docLinkHtml;\n",
              "          element.appendChild(docLink);\n",
              "        }\n",
              "      </script>\n",
              "    </div>\n",
              "  </div>\n",
              "  "
            ]
          },
          "metadata": {},
          "execution_count": 105
        }
      ]
    },
    {
      "cell_type": "markdown",
      "source": [
        "you also could make a 80%- 20% training and test respectively.\n"
      ],
      "metadata": {
        "id": "dXeq64qFLdmF"
      }
    },
    {
      "cell_type": "code",
      "execution_count": null,
      "metadata": {
        "id": "wUfvODDkG-KC"
      },
      "outputs": [],
      "source": [
        "# With\n",
        "X_train, X_test, y_train, y_test = train_test_split(X, y, test_size=0.2, shuffle = True, random_state = 8)"
      ]
    },
    {
      "cell_type": "code",
      "source": [
        "# Split for X (features)\n",
        "print('percentage of data in X_train', X_train.shape[0]/N)\n",
        "print('percentage of data in X_test', X_test.shape[0]/N)"
      ],
      "metadata": {
        "colab": {
          "base_uri": "https://localhost:8080/"
        },
        "id": "oeitLx1wJyfu",
        "outputId": "6290c8e8-8458-4b97-a9de-b907002844f8"
      },
      "execution_count": null,
      "outputs": [
        {
          "output_type": "stream",
          "name": "stdout",
          "text": [
            "percentage of data in X_train 0.7647058823529411\n",
            "percentage of data in X_test 0.23529411764705882\n"
          ]
        }
      ]
    },
    {
      "cell_type": "code",
      "source": [
        "# Split for y(target)\n",
        "print('percentage of data in y_train', y_train.shape[0]/N)\n",
        "print('percentage of data in y_test', y_test.shape[0]/N)"
      ],
      "metadata": {
        "colab": {
          "base_uri": "https://localhost:8080/"
        },
        "id": "dym4lGO_LKbJ",
        "outputId": "fa4c7a18-6290-4163-e019-4aa31be01b5e"
      },
      "execution_count": null,
      "outputs": [
        {
          "output_type": "stream",
          "name": "stdout",
          "text": [
            "percentage of data in y_train 0.7647058823529411\n",
            "percentage of data in y_test 0.23529411764705882\n"
          ]
        }
      ]
    },
    {
      "cell_type": "markdown",
      "source": [
        "# Crate Validation set (Dataset of validation)\n",
        "\n",
        "\n",
        "we could to divide de data in train, split and validation..*for  What ?*\n",
        "\n",
        "\n",
        "* Validation set to adjust hyperparameters\n",
        "\n",
        "\n",
        "* Test set to test how it is the performance\n",
        "\n",
        "Is better this or cross-validation?\n",
        "\n",
        "We are going to create X_val(X_validation) from X_train."
      ],
      "metadata": {
        "id": "5YszZ5uLLvFS"
      }
    },
    {
      "cell_type": "code",
      "source": [
        "X_train, X_val, y_train, y_val = train_test_split(X_train, y_train,test_size=0.25, random_state= 8)\n",
        "# Test stratified"
      ],
      "metadata": {
        "id": "3PTmjdJwLUCF"
      },
      "execution_count": null,
      "outputs": []
    },
    {
      "cell_type": "code",
      "source": [
        "print(X_val)"
      ],
      "metadata": {
        "colab": {
          "base_uri": "https://localhost:8080/"
        },
        "id": "oYoMF1zmNQcO",
        "outputId": "d4076d93-479f-4fbf-fc47-a1309871c7e9"
      },
      "execution_count": null,
      "outputs": [
        {
          "output_type": "stream",
          "name": "stdout",
          "text": [
            "   Person  Income\n",
            "10      K      22\n",
            "1       B      11\n",
            "4       E      16\n",
            "5       F      18\n"
          ]
        }
      ]
    },
    {
      "cell_type": "markdown",
      "source": [],
      "metadata": {
        "id": "kHOZnIHj4e6K"
      }
    },
    {
      "cell_type": "markdown",
      "source": [
        "# balanced data in train and test?\n",
        "\n",
        "We have training  and testing the models with equal proportion of classes in each one, for instance from 100 observation(80 belonging to class 1 and 20 belonging to class 0), and in test could appear only class 1, therefore you could no asses the performance for class 0.\n",
        "\n",
        "\n",
        "Remember that our goal is see how to be perform in new data.\n",
        "\n",
        "With proportional classes, with have a better contrafacutal of the simulation in real cases.\n",
        "\n",
        "\n",
        "we need add to the function (train_test_split) the argument\n",
        "```python\n",
        "stratify = y\n",
        "```\n",
        "\n",
        "Also we could uses\n",
        "\n",
        "```python\n",
        "from sklearn.model_selection import StratifiedShuffleSplit\n",
        "```\n",
        "\n",
        "StratifiedShuffleSplit also of stratified has a suffle therefore\n",
        "\n",
        "*'contrary to other cross-validation strategies, random splits do not guarantee that all folds will be different, although this is still very likely for sizeable datasets'*(See documentation)\n",
        "\n",
        "We are seeking a more realistic estimation of the performance of my model.\n",
        "\n",
        "StratifiedShuffleSplit give us the indices to make split in train and test, with proportionally of classes and making a shuffle."
      ],
      "metadata": {
        "id": "6ab_D9A84sIM"
      }
    },
    {
      "cell_type": "code",
      "source": [
        "# Notice the distribuciton of classes...\n",
        "print(data['target'].value_counts())\n",
        "print(11/6)\n",
        "\n",
        "\n",
        "X_train, X_test, y_train, y_test = train_test_split(X, y, test_size=0.2, shuffle = True, random_state = 0)\n",
        "\n",
        "# with 8  equal and two times more\n",
        "print(y_train.value_counts())\n",
        "print(9/4)\n",
        "\n",
        "\n",
        "print(y_test.value_counts())\n",
        "print(2/2)\n",
        "\n",
        "# is three times! more in test than in train"
      ],
      "metadata": {
        "colab": {
          "base_uri": "https://localhost:8080/"
        },
        "id": "plt46apB9JtF",
        "outputId": "2948c551-3bd8-4bb7-bd64-8d3ef8be8c86"
      },
      "execution_count": null,
      "outputs": [
        {
          "output_type": "stream",
          "name": "stdout",
          "text": [
            "1    11\n",
            "0     6\n",
            "Name: target, dtype: int64\n",
            "1.8333333333333333\n",
            "1    9\n",
            "0    4\n",
            "Name: target, dtype: int64\n",
            "2.25\n",
            "0    2\n",
            "1    2\n",
            "Name: target, dtype: int64\n",
            "1.0\n"
          ]
        }
      ]
    },
    {
      "cell_type": "code",
      "source": [
        "X_train, X_test, y_train, y_test = train_test_split(X, y, test_size=0.2, shuffle = True, stratify = y)"
      ],
      "metadata": {
        "id": "TocENtEo9PRN"
      },
      "execution_count": null,
      "outputs": []
    },
    {
      "cell_type": "code",
      "source": [
        "# with 8  equal and two times more\n",
        "print(y_train.value_counts())\n",
        "print(8/5)\n",
        "print(y_test.value_counts())\n",
        "print(3/1)"
      ],
      "metadata": {
        "colab": {
          "base_uri": "https://localhost:8080/"
        },
        "id": "9-Y7lkBpAaca",
        "outputId": "f78c7cd6-fed5-47dc-f1f0-b7f8f6289ced"
      },
      "execution_count": null,
      "outputs": [
        {
          "output_type": "stream",
          "name": "stdout",
          "text": [
            "1    8\n",
            "0    5\n",
            "Name: target, dtype: int64\n",
            "1.6\n",
            "1    3\n",
            "0    1\n",
            "Name: target, dtype: int64\n",
            "3.0\n"
          ]
        }
      ]
    },
    {
      "cell_type": "code",
      "source": [],
      "metadata": {
        "id": "jqFYakDlDf55"
      },
      "execution_count": null,
      "outputs": []
    }
  ]
}