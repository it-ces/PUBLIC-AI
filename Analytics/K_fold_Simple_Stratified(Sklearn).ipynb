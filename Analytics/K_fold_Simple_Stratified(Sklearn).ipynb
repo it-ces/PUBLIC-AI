{
 "cells": [
  {
   "cell_type": "code",
   "execution_count": 6,
   "metadata": {},
   "outputs": [],
   "source": [
    "## Iván Andrés Trujillo Abella\n",
    "## ivantrujillo1229@gmail.com"
   ]
  },
  {
   "cell_type": "code",
   "execution_count": 7,
   "metadata": {
    "colab": {
     "base_uri": "https://localhost:8080/"
    },
    "id": "47FmGgFiO3Mk",
    "outputId": "7c6dd90c-8249-49b8-fdf8-77915e85e460"
   },
   "outputs": [
    {
     "name": "stdout",
     "output_type": "stream",
     "text": [
      "train index [ 4  5  6  7  8  9 10 11]\n",
      "test index [0 1 2 3]\n",
      "DATA\n",
      "['e' 'o' 'p' 'q' 'r' 's' 't' 'w'] [0 0 0 1 1 0 1 1] Percentage of one 0.5\n",
      "['a' 'b' 'c' 'd'] [1 1 1 1] Percentage of one 1.0\n",
      "train index [ 0  1  2  3  8  9 10 11]\n",
      "test index [4 5 6 7]\n",
      "DATA\n",
      "['a' 'b' 'c' 'd' 'r' 's' 't' 'w'] [1 1 1 1 1 0 1 1] Percentage of one 0.875\n",
      "['e' 'o' 'p' 'q'] [0 0 0 1] Percentage of one 0.25\n",
      "train index [0 1 2 3 4 5 6 7]\n",
      "test index [ 8  9 10 11]\n",
      "DATA\n",
      "['a' 'b' 'c' 'd' 'e' 'o' 'p' 'q'] [1 1 1 1 0 0 0 1] Percentage of one 0.625\n",
      "['r' 's' 't' 'w'] [1 0 1 1] Percentage of one 0.75\n"
     ]
    }
   ],
   "source": [
    "import numpy as np\n",
    "from sklearn.model_selection import KFold\n",
    "from sklearn.model_selection import RepeatedStratifiedKFold\n",
    "X = np.array(('a','b','c','d','e','o','p','q','r','s','t','w'))\n",
    "y = np.array((1,1,1,1,0,0,0,1,1,0,1,1))\n",
    "Kfold = KFold(n_splits=3)\n",
    "for itrain, itest in Kfold.split(X):\n",
    "    print('train index', itrain)\n",
    "    print('test index', itest)\n",
    "    print('DATA')\n",
    "# This return the indices we can attach to the index the X and the Y \n",
    "    print(X[itrain], y[itrain], 'Percentage of one',y[itrain][y[itrain]==1].sum() / y[itrain].shape[0])\n",
    "    print(X[itest], y[itest] , 'Percentage of one',y[itest][y[itest]==1].sum() / y[itest].shape[0])"
   ]
  },
  {
   "cell_type": "code",
   "execution_count": 8,
   "metadata": {
    "colab": {
     "base_uri": "https://localhost:8080/"
    },
    "id": "rKV39w1cZPj3",
    "outputId": "95dde61b-5685-4847-8623-1934457a2a72"
   },
   "outputs": [
    {
     "name": "stdout",
     "output_type": "stream",
     "text": [
      "train index [ 0  3  4  5  8 11]\n",
      "test index [ 1  2  6  7  9 10]\n",
      "DATA\n",
      "['a' 'd' 'e' 'o' 'r' 'w'] [1 1 0 0 1 1] Percentage of one 0.6666666666666666\n",
      "['b' 'c' 'p' 'q' 's' 't'] [1 1 0 1 0 1] Percentage of one 0.6666666666666666\n",
      "train index [ 1  2  6  7  9 10]\n",
      "test index [ 0  3  4  5  8 11]\n",
      "DATA\n",
      "['b' 'c' 'p' 'q' 's' 't'] [1 1 0 1 0 1] Percentage of one 0.6666666666666666\n",
      "['a' 'd' 'e' 'o' 'r' 'w'] [1 1 0 0 1 1] Percentage of one 0.6666666666666666\n",
      "train index [ 2  4  6  7  8 10]\n",
      "test index [ 0  1  3  5  9 11]\n",
      "DATA\n",
      "['c' 'e' 'p' 'q' 'r' 't'] [1 0 0 1 1 1] Percentage of one 0.6666666666666666\n",
      "['a' 'b' 'd' 'o' 's' 'w'] [1 1 1 0 0 1] Percentage of one 0.6666666666666666\n",
      "train index [ 0  1  3  5  9 11]\n",
      "test index [ 2  4  6  7  8 10]\n",
      "DATA\n",
      "['a' 'b' 'd' 'o' 's' 'w'] [1 1 1 0 0 1] Percentage of one 0.6666666666666666\n",
      "['c' 'e' 'p' 'q' 'r' 't'] [1 0 0 1 1 1] Percentage of one 0.6666666666666666\n"
     ]
    }
   ],
   "source": [
    " # Now we need consider each target class because we need that in each \n",
    " # fold the classes are balanced (equall proportions)\n",
    "X = np.array(('a','b','c','d','e','o','p','q','r','s','t','w'))\n",
    "y = np.array((1,1,1,1,0,0,0,1,1,0,1,1))\n",
    "rskf = RepeatedStratifiedKFold(n_splits=2, n_repeats=2,random_state=1)\n",
    "for itrain, itest in rskf.split(X,y):\n",
    "    print('train index', itrain)\n",
    "    print('test index', itest)\n",
    "    print('DATA')\n",
    "# This return the indices we can attach to the index the X and the Y \n",
    "    print(X[itrain], y[itrain], 'Percentage of one',y[itrain][y[itrain]==1].sum() / y[itrain].shape[0])\n",
    "    print(X[itest], y[itest] , 'Percentage of one',y[itest][y[itest]==1].sum() / y[itest].shape[0])"
   ]
  }
 ],
 "metadata": {
  "colab": {
   "provenance": []
  },
  "kernelspec": {
   "display_name": "Python 3 (ipykernel)",
   "language": "python",
   "name": "python3"
  },
  "language_info": {
   "codemirror_mode": {
    "name": "ipython",
    "version": 3
   },
   "file_extension": ".py",
   "mimetype": "text/x-python",
   "name": "python",
   "nbconvert_exporter": "python",
   "pygments_lexer": "ipython3",
   "version": "3.11.2"
  }
 },
 "nbformat": 4,
 "nbformat_minor": 1
}
