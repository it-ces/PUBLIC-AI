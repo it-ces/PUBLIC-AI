{
  "nbformat": 4,
  "nbformat_minor": 0,
  "metadata": {
    "colab": {
      "provenance": []
    },
    "kernelspec": {
      "name": "python3",
      "display_name": "Python 3"
    },
    "language_info": {
      "name": "python"
    }
  },
  "cells": [
    {
      "cell_type": "code",
      "execution_count": null,
      "metadata": {
        "colab": {
          "base_uri": "https://localhost:8080/"
        },
        "id": "eMqtw6EsxNnq",
        "outputId": "7a07a9f3-c3ad-4e25-aea3-bf561a35eb21"
      },
      "outputs": [
        {
          "output_type": "stream",
          "name": "stdout",
          "text": [
            "1\n"
          ]
        }
      ],
      "source": [
        "def count_vowels(iterable):\n",
        "  vowel=0\n",
        "  for i in iterable:\n",
        "    if i in ['a','e','i','o','u']:\n",
        "      vowel += 1\n",
        "  return vowel\n",
        "print(count_vowels('abcdd'))"
      ]
    },
    {
      "cell_type": "code",
      "source": [],
      "metadata": {
        "colab": {
          "base_uri": "https://localhost:8080/",
          "height": 35
        },
        "id": "9Zzsf9-cyoqC",
        "outputId": "4b7015b5-b9b3-4527-b69b-e3adb48c0a69"
      },
      "execution_count": null,
      "outputs": [
        {
          "output_type": "execute_result",
          "data": {
            "application/vnd.google.colaboratory.intrinsic+json": {
              "type": "string"
            },
            "text/plain": [
              "'primo'"
            ]
          },
          "metadata": {},
          "execution_count": 9
        }
      ]
    },
    {
      "cell_type": "code",
      "source": [],
      "metadata": {
        "id": "fNwDkaEayrfT"
      },
      "execution_count": null,
      "outputs": []
    }
  ]
}