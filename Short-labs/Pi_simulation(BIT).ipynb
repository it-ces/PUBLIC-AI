{
  "nbformat": 4,
  "nbformat_minor": 0,
  "metadata": {
    "colab": {
      "provenance": [],
      "include_colab_link": true
    },
    "kernelspec": {
      "name": "python3",
      "display_name": "Python 3"
    },
    "language_info": {
      "name": "python"
    }
  },
  "cells": [
    {
      "cell_type": "markdown",
      "metadata": {
        "id": "view-in-github",
        "colab_type": "text"
      },
      "source": [
        "<a href=\"https://colab.research.google.com/github/it-ces/PUBLIC-AI/blob/main/Short-labs/Pi_simulation(BIT).ipynb\" target=\"_parent\"><img src=\"https://colab.research.google.com/assets/colab-badge.svg\" alt=\"Open In Colab\"/></a>"
      ]
    },
    {
      "cell_type": "code",
      "source": [
        "## Iván Andrés Trujillo Abella"
      ],
      "metadata": {
        "id": "zIM44AARkyO-"
      },
      "execution_count": null,
      "outputs": []
    },
    {
      "cell_type": "code",
      "source": [
        "import random\n",
        "import numpy\n",
        "import math\n",
        "import statistics\n",
        "import matplotlib.pyplot as plt\n",
        "drops = 77890\n",
        "square, circle = [],[]\n",
        "counter = 0\n",
        "for _ in range(drops):\n",
        "  x = random.uniform(-1,1)  # select randomly  X\n",
        "  y = random.uniform(-1,1)   # select randomly Y\n",
        "  if (x**2 + y**2)**0.5 <1:  # condition\n",
        "    counter+=1\n",
        "    circle.append((x,y))\n",
        "  else: square.append((x,y))\n",
        "PI = (counter/drops)*4\n",
        "print(PI)\n",
        "plt.scatter(*zip(*circle))\n",
        "plt.scatter(*zip(*square))"
      ],
      "metadata": {
        "colab": {
          "base_uri": "https://localhost:8080/",
          "height": 300
        },
        "id": "BE0m3ul2ccGJ",
        "outputId": "87122029-4381-4248-aa0f-f19c616644f7"
      },
      "execution_count": null,
      "outputs": [
        {
          "output_type": "stream",
          "name": "stdout",
          "text": [
            "3.1423802798818845\n"
          ]
        },
        {
          "output_type": "execute_result",
          "data": {
            "text/plain": [
              "<matplotlib.collections.PathCollection at 0x7ffb27077fa0>"
            ]
          },
          "metadata": {},
          "execution_count": 1
        },
        {
          "output_type": "display_data",
          "data": {
            "text/plain": [
              "<Figure size 432x288 with 1 Axes>"
            ],
            "image/png": "[encoded data removed]"
          },
          "metadata": {
            "needs_background": "light"
          }
        }
      ]
    },
    {
      "cell_type": "code",
      "source": [
        "# una función que le pasemos la lluvia y el nos de PI!"
      ],
      "metadata": {
        "id": "QJ7CVRa2oRd6"
      },
      "execution_count": null,
      "outputs": []
    },
    {
      "cell_type": "code",
      "source": [
        "def Pi(drops):\n",
        "  counter = 0\n",
        "  for _ in range(drops):\n",
        "    x = random.uniform(-1,1)  # select randomly  X\n",
        "    y = random.uniform(-1,1)   # select randomly Y\n",
        "    if (x**2 + y**2)**0.5 <1:  # condition\n",
        "      counter+=1\n",
        "  return (counter/drops)*4  # Pi approximation"
      ],
      "metadata": {
        "id": "EYVOCw9ho6eY"
      },
      "execution_count": null,
      "outputs": []
    },
    {
      "cell_type": "code",
      "source": [
        "Pi(40000)  # random variable...."
      ],
      "metadata": {
        "colab": {
          "base_uri": "https://localhost:8080/"
        },
        "id": "6rP6Di0ipSTv",
        "outputId": "e748c37d-181e-426e-8449-c680d697949d"
      },
      "execution_count": null,
      "outputs": [
        {
          "output_type": "execute_result",
          "data": {
            "text/plain": [
              "3.1432"
            ]
          },
          "metadata": {},
          "execution_count": 4
        }
      ]
    },
    {
      "cell_type": "code",
      "source": [
        "trials = 123512\n",
        "Pi_ = [Pi(400) for _ in range(trials)]"
      ],
      "metadata": {
        "id": "n1F2RZEYpn8y"
      },
      "execution_count": null,
      "outputs": []
    },
    {
      "cell_type": "code",
      "source": [
        "plt.hist(Pi_)"
      ],
      "metadata": {
        "colab": {
          "base_uri": "https://localhost:8080/",
          "height": 352
        },
        "id": "cvgQeLseqEex",
        "outputId": "f4590b02-7e72-4a86-fae9-83bf9d51e529"
      },
      "execution_count": null,
      "outputs": [
        {
          "output_type": "execute_result",
          "data": {
            "text/plain": [
              "(array([1.3000e+01, 2.8400e+02, 3.4000e+03, 1.4301e+04, 3.9515e+04,\n",
              "        4.2936e+04, 1.8432e+04, 4.3520e+03, 2.7200e+02, 7.0000e+00]),\n",
              " array([2.75 , 2.827, 2.904, 2.981, 3.058, 3.135, 3.212, 3.289, 3.366,\n",
              "        3.443, 3.52 ]),\n",
              " <a list of 10 Patch objects>)"
            ]
          },
          "metadata": {},
          "execution_count": 6
        },
        {
          "output_type": "display_data",
          "data": {
            "text/plain": [
              "<Figure size 432x288 with 1 Axes>"
            ],
            "image/png": "[encoded data removed]"
          },
          "metadata": {
            "needs_background": "light"
          }
        }
      ]
    },
    {
      "cell_type": "code",
      "source": [
        "statistics.mean(Pi_)"
      ],
      "metadata": {
        "colab": {
          "base_uri": "https://localhost:8080/"
        },
        "id": "EBJF9ItUqWI5",
        "outputId": "905fd64a-c405-4879-bbbf-d16cb0b4ff72"
      },
      "execution_count": null,
      "outputs": [
        {
          "output_type": "execute_result",
          "data": {
            "text/plain": [
              "3.1414413174428395"
            ]
          },
          "metadata": {},
          "execution_count": 7
        }
      ]
    },
    {
      "cell_type": "code",
      "source": [
        "statistics.stdev(Pi_)"
      ],
      "metadata": {
        "colab": {
          "base_uri": "https://localhost:8080/"
        },
        "id": "tIHrA5rBqnH4",
        "outputId": "9a79462d-2168-4f71-b7fe-427c94130593"
      },
      "execution_count": null,
      "outputs": [
        {
          "output_type": "execute_result",
          "data": {
            "text/plain": [
              "0.08197938369529524"
            ]
          },
          "metadata": {},
          "execution_count": 8
        }
      ]
    }
  ]
}