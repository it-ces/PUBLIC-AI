{
  "nbformat": 4,
  "nbformat_minor": 0,
  "metadata": {
    "colab": {
      "provenance": []
    },
    "kernelspec": {
      "name": "python3",
      "display_name": "Python 3"
    },
    "language_info": {
      "name": "python"
    }
  },
  "cells": [
    {
      "cell_type": "code",
      "source": [
        "## Iván Andrés Trujillo Abella\n",
        "## ivantrujillo1229@gmail.com"
      ],
      "metadata": {
        "id": "atJ-rBHkQHaH"
      },
      "execution_count": 5,
      "outputs": []
    },
    {
      "cell_type": "code",
      "source": [
        "datos = [0,10,5,4,5]"
      ],
      "metadata": {
        "id": "cTiPa3WZw-Ar"
      },
      "execution_count": 6,
      "outputs": []
    },
    {
      "cell_type": "code",
      "source": [
        "acum = 0\n",
        "n = 0\n",
        "for val in datos:\n",
        "  acum = acum + val\n",
        "  n = n + 1\n",
        "print(acum)"
      ],
      "metadata": {
        "colab": {
          "base_uri": "https://localhost:8080/"
        },
        "id": "sYRTahNuxBrO",
        "outputId": "1aa20e50-04bd-406b-9d78-a5caafc59cf7"
      },
      "execution_count": 7,
      "outputs": [
        {
          "output_type": "stream",
          "name": "stdout",
          "text": [
            "24\n"
          ]
        }
      ]
    },
    {
      "cell_type": "code",
      "source": [
        "def media(datos):\n",
        "  acum= 0\n",
        "  n = 0\n",
        "  for val in datos:\n",
        "    acum = acum + val\n",
        "    n = n + 1\n",
        "  return acum/n\n",
        "\n",
        "def variance(datos):\n",
        "  mean = media(datos)\n",
        "  acum = 0\n",
        "  n = 0\n",
        "  for val in datos:\n",
        "      error = (val-mean)**2\n",
        "      acum = acum + error\n",
        "    n = n + 1\n",
        "  return acum/(n-1)"
      ],
      "metadata": {
        "id": "9BYAPG4sxy5W"
      },
      "execution_count": 9,
      "outputs": []
    }
  ]
}