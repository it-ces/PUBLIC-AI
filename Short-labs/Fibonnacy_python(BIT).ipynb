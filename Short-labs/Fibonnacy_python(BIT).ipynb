{
  "nbformat": 4,
  "nbformat_minor": 0,
  "metadata": {
    "colab": {
      "provenance": []
    },
    "kernelspec": {
      "name": "python3",
      "display_name": "Python 3"
    }
  },
  "cells": [
    {
      "cell_type": "markdown",
      "metadata": {
        "id": "MmEonn6qWvLC"
      },
      "source": [
        "# Iván Andrés Trujillo abella\n",
        "### ivantrujillo1229@gmail.com\n",
        "\n",
        "\n"
      ]
    },
    {
      "cell_type": "code",
      "metadata": {
        "colab": {
          "base_uri": "https://localhost:8080/"
        },
        "id": "7KohLk8qRUf5",
        "outputId": "37ea601c-54ed-4451-f069-b9895d5c2e88"
      },
      "source": [
        "def mc(n):\n",
        "  output = []\n",
        "  f0 = 1\n",
        "  f1 = 0\n",
        "  for x in range(n):\n",
        "    fibo = f0 + f1\n",
        "    f0 = f1\n",
        "    f1 = fibo\n",
        "    output.append(fibo)\n",
        "  return output\n",
        "mc(10)"
      ],
      "execution_count": null,
      "outputs": [
        {
          "output_type": "execute_result",
          "data": {
            "text/plain": [
              "[1, 1, 2, 3, 5, 8, 13, 21, 34, 55]"
            ]
          },
          "metadata": {},
          "execution_count": 3
        }
      ]
    }
  ]
}