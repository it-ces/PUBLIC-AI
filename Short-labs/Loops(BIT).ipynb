{
  "nbformat": 4,
  "nbformat_minor": 0,
  "metadata": {
    "colab": {
      "provenance": []
    },
    "kernelspec": {
      "name": "python3",
      "display_name": "Python 3"
    },
    "language_info": {
      "name": "python"
    }
  },
  "cells": [
    {
      "cell_type": "code",
      "execution_count": null,
      "metadata": {
        "id": "uYURuyIjTW07"
      },
      "outputs": [],
      "source": [
        "## Iván Andrés Trujillo Abella\n",
        "## ivantrujillo1229@gmail.com\n",
        "\n",
        "\n",
        "# Variables\n",
        "# Condicionales\n",
        "# bucles....\n"
      ]
    },
    {
      "cell_type": "code",
      "source": [
        "variable = True"
      ],
      "metadata": {
        "id": "aZJ9941WVm-t"
      },
      "execution_count": null,
      "outputs": []
    },
    {
      "cell_type": "code",
      "source": [
        "variable == True"
      ],
      "metadata": {
        "colab": {
          "base_uri": "https://localhost:8080/"
        },
        "id": "Tv_CsP7SVvug",
        "outputId": "3d220688-1e28-49e0-f196-4388290eb528"
      },
      "execution_count": null,
      "outputs": [
        {
          "output_type": "execute_result",
          "data": {
            "text/plain": [
              "True"
            ]
          },
          "metadata": {},
          "execution_count": 6
        }
      ]
    },
    {
      "cell_type": "code",
      "source": [
        "## Reccorer un iterable\n",
        "datos = [10,11,12,44,55]  # lista"
      ],
      "metadata": {
        "id": "_2uvFqtrWNV_"
      },
      "execution_count": null,
      "outputs": []
    },
    {
      "cell_type": "code",
      "source": [
        "for element in datos:\n",
        "  print(element)"
      ],
      "metadata": {
        "colab": {
          "base_uri": "https://localhost:8080/"
        },
        "id": "7MySNuXqWSlf",
        "outputId": "1afdfb24-1e0c-4c68-ae5f-bdac81671e3f"
      },
      "execution_count": null,
      "outputs": [
        {
          "output_type": "stream",
          "name": "stdout",
          "text": [
            "10\n",
            "11\n",
            "12\n",
            "44\n",
            "55\n"
          ]
        }
      ]
    },
    {
      "cell_type": "code",
      "source": [
        "# for cuando yo puedo voy a aplicar una cantidad conocidad veces\n",
        "# una sentencia!"
      ],
      "metadata": {
        "id": "2F08iwSaXyT8"
      },
      "execution_count": null,
      "outputs": []
    },
    {
      "cell_type": "code",
      "source": [
        "for _ in range(2):\n",
        "  print('hello world')"
      ],
      "metadata": {
        "colab": {
          "base_uri": "https://localhost:8080/"
        },
        "id": "28f-pqXkX3Gr",
        "outputId": "dc47a3e0-2f51-4b0e-aec3-c2fef9729c6b"
      },
      "execution_count": null,
      "outputs": [
        {
          "output_type": "stream",
          "name": "stdout",
          "text": [
            "hello world\n",
            "hello world\n"
          ]
        }
      ]
    },
    {
      "cell_type": "code",
      "source": [
        "acum = 0  # init\n",
        "acum = acum  + 1   # primero se eval la parte derecha y ese resultado se asigna a acum\n",
        "acum = acum  + 1\n",
        "acum = acum + 1\n",
        "acum = acum  + 1\n",
        "acum"
      ],
      "metadata": {
        "colab": {
          "base_uri": "https://localhost:8080/"
        },
        "id": "gzBHKjZEYYaq",
        "outputId": "05827ea5-d49f-47a3-b8f1-520c02af7722"
      },
      "execution_count": null,
      "outputs": [
        {
          "output_type": "execute_result",
          "data": {
            "text/plain": [
              "4"
            ]
          },
          "metadata": {},
          "execution_count": 29
        }
      ]
    },
    {
      "cell_type": "code",
      "source": [
        "# for para lo anterior\n",
        "acum = 0\n",
        "for _ in range(4):\n",
        "  acum = acum + 1"
      ],
      "metadata": {
        "id": "XF-IR11FZKgk"
      },
      "execution_count": null,
      "outputs": []
    },
    {
      "cell_type": "code",
      "source": [
        "acum"
      ],
      "metadata": {
        "colab": {
          "base_uri": "https://localhost:8080/"
        },
        "id": "42szbfFTaKD2",
        "outputId": "db992efe-c532-445d-ebd8-0c08450c62b1"
      },
      "execution_count": null,
      "outputs": [
        {
          "output_type": "execute_result",
          "data": {
            "text/plain": [
              "4"
            ]
          },
          "metadata": {},
          "execution_count": 30
        }
      ]
    },
    {
      "cell_type": "code",
      "source": [
        "acum = 4\n",
        "for _ in range(4):\n",
        "  acum = acum + 1\n",
        "print(acum)"
      ],
      "metadata": {
        "colab": {
          "base_uri": "https://localhost:8080/"
        },
        "id": "v3ndeTiIcBgi",
        "outputId": "5abd42ba-5dca-4b36-c987-02c426fec884"
      },
      "execution_count": null,
      "outputs": [
        {
          "output_type": "stream",
          "name": "stdout",
          "text": [
            "8\n"
          ]
        }
      ]
    },
    {
      "cell_type": "code",
      "source": [
        "# mi objetivo llegar a 100\n",
        "acum = 0\n",
        "for _ in range(5):\n",
        "  acum = acum + 20  # indentación\n",
        "print(acum)"
      ],
      "metadata": {
        "colab": {
          "base_uri": "https://localhost:8080/"
        },
        "id": "FSiL7QCFcE9f",
        "outputId": "1a8355b0-0a64-4856-90eb-9533bd0cae8f"
      },
      "execution_count": null,
      "outputs": [
        {
          "output_type": "stream",
          "name": "stdout",
          "text": [
            "100\n"
          ]
        }
      ]
    },
    {
      "cell_type": "code",
      "source": [
        "## While....\n",
        "acum = 0\n",
        "while acum <= 4:\n",
        "  print(acum**2)\n",
        "  acum = acum + 1"
      ],
      "metadata": {
        "colab": {
          "base_uri": "https://localhost:8080/"
        },
        "id": "UkMsDPymgZd2",
        "outputId": "a6f274da-90c4-4f78-ac03-f83e31fe1a9c"
      },
      "execution_count": null,
      "outputs": [
        {
          "output_type": "stream",
          "name": "stdout",
          "text": [
            "0\n",
            "1\n",
            "4\n",
            "9\n",
            "16\n"
          ]
        }
      ]
    },
    {
      "cell_type": "code",
      "source": [
        "# llegar hasta 100\n",
        "## WHILE\n",
        "aux = 0\n",
        "n = 0\n",
        "delta = 1  # incremento\n",
        "while aux < 100:\n",
        "  aux = aux + delta\n",
        "  n = n + 1\n",
        "print(aux, n)\n",
        "\n",
        "# mi objetivo llegar a 100\n",
        "acum = 0\n",
        "delta = 1\n",
        "for _ in range(4): # require knowledge\n",
        "  acum = acum + delta  # indentación\n",
        "print(acum)"
      ],
      "metadata": {
        "colab": {
          "base_uri": "https://localhost:8080/"
        },
        "id": "_s957jJMpPaK",
        "outputId": "657a3c11-13fc-4b86-9efb-22130ecd779b"
      },
      "execution_count": null,
      "outputs": [
        {
          "output_type": "stream",
          "name": "stdout",
          "text": [
            "100 100\n",
            "4\n"
          ]
        }
      ]
    },
    {
      "cell_type": "code",
      "source": [
        "aux = 0\n",
        "while aux < 6:\n",
        "  aux = aux + 2 # todo lo que esté indentado se va ejecutar si la condición es True\n",
        "  print(aux) # en cada ejecución me está mostrando cual es el valor de aux en memoria\n",
        "\n",
        "###########\n",
        "aux = 0\n",
        "while aux < 6:\n",
        "  aux = aux + 2\n",
        "print(aux) ## al final del bucle cual fue el valor con el cual termino aux en memoria"
      ],
      "metadata": {
        "colab": {
          "base_uri": "https://localhost:8080/"
        },
        "id": "Cnol3nUOsOdf",
        "outputId": "403ce856-d52b-4257-b242-0f872dfc87e4"
      },
      "execution_count": null,
      "outputs": [
        {
          "output_type": "stream",
          "name": "stdout",
          "text": [
            "2\n",
            "4\n",
            "6\n"
          ]
        }
      ]
    },
    {
      "cell_type": "markdown",
      "source": [
        "while {\n",
        "  sentencia\n",
        "}"
      ],
      "metadata": {
        "id": "qNM-TAkMtLUJ"
      }
    }
  ]
}