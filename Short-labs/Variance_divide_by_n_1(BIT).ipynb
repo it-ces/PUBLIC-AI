{
  "nbformat": 4,
  "nbformat_minor": 0,
  "metadata": {
    "colab": {
      "provenance": []
    },
    "kernelspec": {
      "name": "python3",
      "display_name": "Python 3"
    },
    "language_info": {
      "name": "python"
    }
  },
  "cells": [
    {
      "cell_type": "code",
      "execution_count": null,
      "metadata": {
        "colab": {
          "base_uri": "https://localhost:8080/"
        },
        "id": "_t-9IgCWZnQp",
        "outputId": "131fd621-e8f4-46b6-8d07-da081e8c48b7"
      },
      "outputs": [
        {
          "output_type": "stream",
          "name": "stdout",
          "text": [
            "population: 21.5 161.25\n",
            "n: 24.928571428571427 228.49489795918365\n",
            "n-1: 24.928571428571427 246.07142857142856\n"
          ]
        }
      ],
      "source": [
        "#Iván Andrés Trujillo Abella\n",
        "#ivantrujillo1229@gmail.com\n",
        "import random\n",
        "import statistics as sts\n",
        "import matplotlib.pyplot as plt\n",
        "\n",
        "population = [10,22,12,33,41,22,12,22,12,33,11,10,3,4,22,12,33,44,11,39,43,22]\n",
        "\n",
        "N = 14\n",
        "samples = [population[random.randint(0, len(population)-1)] for _ in range(N)]\n",
        "\n",
        "def mean(array):\n",
        "  acum = 0\n",
        "  for value in array:\n",
        "    acum  += value\n",
        "  return acum / len(array)\n",
        "\n",
        "\n",
        "def variance(array, sample=True):\n",
        "  acum = 0\n",
        "  for value in array:\n",
        "    sqrt = (value - mean(array))**2\n",
        "    acum += sqrt\n",
        "  if sample==True:\n",
        "    return acum/(len(array)-1)\n",
        "  else:\n",
        "    return acum/len(array)\n",
        "\n",
        "print('population:', mean(population), variance(population, sample=False))\n",
        "print('n:',mean(samples), variance(samples, sample=False))\n",
        "print('n-1:',mean(samples), variance(samples, sample=True))"
      ]
    },
    {
      "cell_type": "code",
      "source": [
        "# Define population variance and sample variance\n",
        "# debemos sacar dos listas con varianzas con n y varianzas con n-1\n",
        "# posteriormente sacar la media de ambas para ver cual es mejor"
      ],
      "metadata": {
        "id": "ycUmAauKdtuv"
      },
      "execution_count": null,
      "outputs": []
    },
    {
      "cell_type": "code",
      "source": [
        "sizes = 12\n",
        "times = 5000\n",
        "variance_n1 = []\n",
        "variance_n = []\n",
        "for _ in range(times):\n",
        " variance_n1.append(variance([population[random.randint(0, len(population)-1)] for _ in range(N)]))\n",
        " variance_n.append(variance([population[random.randint(0, len(population)-1)] for _ in range(N)], sample=False))\n",
        "print(mean(variance_n1))\n",
        "print('n-1:',mean(variance_n1))\n",
        "print('n:',mean(variance_n))"
      ],
      "metadata": {
        "colab": {
          "base_uri": "https://localhost:8080/"
        },
        "id": "hIcNSpZTj8CZ",
        "outputId": "30ebf70e-01df-416d-afab-472706ca1082"
      },
      "execution_count": null,
      "outputs": [
        {
          "output_type": "stream",
          "name": "stdout",
          "text": [
            "161.03430329670337\n",
            "n-1: 161.03430329670337\n",
            "n: 150.1909530612239\n"
          ]
        }
      ]
    }
  ]
}