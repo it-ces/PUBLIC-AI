{
  "nbformat": 4,
  "nbformat_minor": 0,
  "metadata": {
    "colab": {
      "provenance": []
    },
    "kernelspec": {
      "name": "python3",
      "display_name": "Python 3"
    },
    "language_info": {
      "name": "python"
    }
  },
  "cells": [
    {
      "cell_type": "code",
      "metadata": {
        "id": "oqvf5PG57lbW"
      },
      "source": [
        "# growth\n",
        "import numpy as np\n",
        "def timf(F,N,rate):\n",
        "  \"\"\"\n",
        "  F is final value\n",
        "  N is the initial value\n",
        "  rate is the velocity \"\"\"\n",
        "  num = np.log(F) - np.log(N)\n",
        "  return num/np.log(rate)"
      ],
      "execution_count": null,
      "outputs": []
    },
    {
      "cell_type": "code",
      "metadata": {
        "colab": {
          "base_uri": "https://localhost:8080/"
        },
        "id": "bzUrgx0R9_9S",
        "outputId": "826e7961-0f39-47e0-cd42-9d7431d56233"
      },
      "source": [
        "timf(12.5,100,0.5)"
      ],
      "execution_count": null,
      "outputs": [
        {
          "output_type": "execute_result",
          "data": {
            "text/plain": [
              "3.0000000000000004"
            ]
          },
          "metadata": {},
          "execution_count": 10
        }
      ]
    }
  ]
}