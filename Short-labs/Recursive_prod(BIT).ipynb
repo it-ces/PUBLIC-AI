{
  "nbformat": 4,
  "nbformat_minor": 0,
  "metadata": {
    "colab": {
      "provenance": []
    },
    "kernelspec": {
      "name": "python3",
      "display_name": "Python 3"
    },
    "language_info": {
      "name": "python"
    }
  },
  "cells": [
    {
      "cell_type": "code",
      "metadata": {
        "id": "A3Bvbr_DQfHm"
      },
      "source": [
        "#Iván Andrés Trujillo Abella\n",
        "#ivantrujillo1229@gmail.com\n",
        "def recursivo(a,b):\n",
        "  if b==1:\n",
        "    return a\n",
        "  else:\n",
        "    return a + recursivo(a,b-1)"
      ],
      "execution_count": null,
      "outputs": []
    },
    {
      "cell_type": "code",
      "metadata": {
        "id": "UjeThSCHQnjh"
      },
      "source": [
        "def prod(a,b):\n",
        "  counter = 0\n",
        "  for x in range(b):\n",
        "    counter +=a\n",
        "  return counter"
      ],
      "execution_count": null,
      "outputs": []
    },
    {
      "cell_type": "code",
      "metadata": {
        "colab": {
          "base_uri": "https://localhost:8080/"
        },
        "id": "L5GBmGiKQzlY",
        "outputId": "a40ec9ae-7ae3-4040-a002-ba6d302fab2d"
      },
      "source": [
        "recursivo(10,10)\n",
        "prod(10,10)"
      ],
      "execution_count": null,
      "outputs": [
        {
          "output_type": "execute_result",
          "data": {
            "text/plain": [
              "100"
            ]
          },
          "metadata": {},
          "execution_count": 28
        }
      ]
    },
    {
      "cell_type": "code",
      "metadata": {
        "colab": {
          "base_uri": "https://localhost:8080/"
        },
        "id": "drkbnxG_Q9JE",
        "outputId": "31205157-0cc7-4e78-d6cd-43e1398bf06f"
      },
      "source": [
        "%time prod(90000,10000)"
      ],
      "execution_count": null,
      "outputs": [
        {
          "output_type": "stream",
          "name": "stdout",
          "text": [
            "CPU times: user 822 µs, sys: 0 ns, total: 822 µs\n",
            "Wall time: 829 µs\n"
          ]
        },
        {
          "output_type": "execute_result",
          "data": {
            "text/plain": [
              "900000000"
            ]
          },
          "metadata": {},
          "execution_count": 36
        }
      ]
    }
  ]
}