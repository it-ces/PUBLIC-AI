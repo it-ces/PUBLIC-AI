{
  "nbformat": 4,
  "nbformat_minor": 0,
  "metadata": {
    "colab": {
      "provenance": []
    },
    "kernelspec": {
      "name": "python3",
      "display_name": "Python 3"
    },
    "language_info": {
      "name": "python"
    }
  },
  "cells": [
    {
      "cell_type": "code",
      "execution_count": null,
      "metadata": {
        "colab": {
          "base_uri": "https://localhost:8080/"
        },
        "id": "RwUyf0o-LHlt",
        "outputId": "a65d0c74-4bf5-4a9a-b425-49ee7fb9f774"
      },
      "outputs": [
        {
          "output_type": "execute_result",
          "data": {
            "text/plain": [
              "[[' ', ' ', ' ', ' ', 'x'],\n",
              " [' ', ' ', ' ', 'x', 'x'],\n",
              " [' ', ' ', 'x', 'x', 'x'],\n",
              " [' ', 'x', 'x', 'x', 'x'],\n",
              " ['x', 'x', 'x', 'x', 'x']]"
            ]
          },
          "metadata": {},
          "execution_count": 112
        }
      ],
      "source": [
        "def vector(cols):\n",
        "  \"\"\"\n",
        "  Retorna una lista con cols espacios vacios\n",
        "  \"\"\"\n",
        "  lista = []\n",
        "  for i in range(cols):\n",
        "      lista.append(\" \")\n",
        "  return lista\n",
        "\n",
        "\n",
        "def matrix(cols):   ##DIAGONAL INFERIOR IZQUIERDA\n",
        "  mat = []\n",
        "  for x in range(cols):\n",
        "      mat.append(vector(cols))\n",
        "  for i in range(cols):\n",
        "    for j in range(i+1):\n",
        "      if cols >= i:\n",
        "        mat[i][j]=\"x\"\n",
        "      else:\n",
        "        mat[i][j]=\" \"\n",
        "  return mat\n",
        "matrix(5)\n",
        "def matrix(cols):   ##DIAGONAL SUPERIOR\n",
        "  mat = []\n",
        "  for x in range(cols):\n",
        "      mat.append(vector(cols))\n",
        "  for j in range(cols):\n",
        "    for i in range(j+1):\n",
        "      if cols >= j-i:\n",
        "        mat[i][j]=\"X\"\n",
        "      else:\n",
        "        mat[i][j]=\" \"\n",
        "  return mat\n",
        "matrix(5)\n",
        "def matrix(cols):   ##DIAGONAL SUPERIOR IZQUIERDA\n",
        "  mat = []\n",
        "  for x in range(cols):\n",
        "      mat.append(vector(cols))\n",
        "  for j in range(cols):\n",
        "    for i in range(cols-j):\n",
        "      if cols >= j-i:\n",
        "        mat[i][j]=\"X\"\n",
        "      else:\n",
        "        mat[i][j]=\" \"\n",
        "  return mat\n",
        "matrix(5)\n",
        "def matrix(cols):   ##DIAGONAL INFERIOR DERECHA\n",
        "  mat = []\n",
        "  for x in range(cols):\n",
        "      mat.append(vector(cols))\n",
        "  for i in range(cols):\n",
        "    for j in range(cols):\n",
        "      if cols-i <= j+1:\n",
        "        mat[i][j]=\"x\"\n",
        "      else:\n",
        "        mat[i][j]=\" \"\n",
        "  return mat\n",
        "matrix(5)"
      ]
    },
    {
      "cell_type": "code",
      "source": [
        "def vector(a,b, side='right'):\n",
        "  vacio = []\n",
        "  if side == 'right':\n",
        "    for aux in range(a):\n",
        "      if aux < b:\n",
        "        vacio.append('x')\n",
        "      else:\n",
        "        vacio.append(\" \")\n",
        "    return vacio\n",
        "  else:\n",
        "    ...\n",
        "\n",
        "# generalicemos\n",
        "\n",
        "def DiagonalDerecha(filas):\n",
        "  mat = []\n",
        "  for x in range(1,filas+1):\n",
        "    mat.append(vector(filas,x))\n",
        "  return mat\n",
        "DiagonalDerecha(5)\n",
        "\n",
        "\n",
        "def DiagonalIzquierda(filas):\n",
        "  mat = []\n",
        "  for fila in range(filas):\n",
        "    mat.append(vector(filas,filas-fila-1))\n",
        "  return mat\n",
        "DiagonalIzquierda(5)"
      ],
      "metadata": {
        "colab": {
          "base_uri": "https://localhost:8080/"
        },
        "id": "Ji7ketBsTmGr",
        "outputId": "d3d1b9d0-1517-4fca-af3a-f775dd85c0a3"
      },
      "execution_count": null,
      "outputs": [
        {
          "output_type": "execute_result",
          "data": {
            "text/plain": [
              "[['x', 'x', 'x', 'x', ' '],\n",
              " ['x', 'x', 'x', ' ', ' '],\n",
              " ['x', 'x', ' ', ' ', ' '],\n",
              " ['x', ' ', ' ', ' ', ' '],\n",
              " [' ', ' ', ' ', ' ', ' ']]"
            ]
          },
          "metadata": {},
          "execution_count": 176
        }
      ]
    },
    {
      "cell_type": "code",
      "source": [
        "vector(10,5)"
      ],
      "metadata": {
        "colab": {
          "base_uri": "https://localhost:8080/"
        },
        "id": "XQJZVn5adtjX",
        "outputId": "c7295299-0606-43f2-99d6-8555c05ca396"
      },
      "execution_count": null,
      "outputs": [
        {
          "output_type": "execute_result",
          "data": {
            "text/plain": [
              "['x', 'x', 'x', 'x', 'x', ' ', ' ', ' ', ' ', ' ']"
            ]
          },
          "metadata": {},
          "execution_count": 183
        }
      ]
    }
  ]
}