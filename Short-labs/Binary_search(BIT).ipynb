{
  "nbformat": 4,
  "nbformat_minor": 0,
  "metadata": {
    "colab": {
      "provenance": []
    },
    "kernelspec": {
      "name": "python3",
      "display_name": "Python 3"
    },
    "language_info": {
      "name": "python"
    }
  },
  "cells": [
    {
      "cell_type": "code",
      "source": [
        "# Iván Andrés Trujillo Abella\n",
        "# ivantrujillo1229@gmail.com"
      ],
      "metadata": {
        "id": "APZwsWR86-a4"
      },
      "execution_count": null,
      "outputs": []
    },
    {
      "cell_type": "code",
      "metadata": {
        "id": "0SJ3zB1JeuhO"
      },
      "source": [
        "# Binary search\n",
        "def binary_search(k,l):\n",
        "  initial = 0\n",
        "  flag = False\n",
        "  counter = 0\n",
        "  initial = 0\n",
        "  last = len(lista)-1\n",
        "  while  initial <= last and flag==False:\n",
        "    mid =  int((initial + last)/2)\n",
        "    print(initial,last)\n",
        "    if k == lista[mid]:\n",
        "      flag = True\n",
        "    if k > lista[mid]:\n",
        "      initial = mid+1\n",
        "    if k < lista[mid]:\n",
        "      last = mid-1\n",
        "    counter += 1\n",
        "  return flag,counter"
      ],
      "execution_count": null,
      "outputs": []
    },
    {
      "cell_type": "code",
      "metadata": {
        "colab": {
          "base_uri": "https://localhost:8080/"
        },
        "id": "qZUPd3Y8fG1q",
        "outputId": "df997c2d-03a3-4d67-8828-4bece1488ab4"
      },
      "source": [
        "lista = [1,2,3,43,89,99,288]\n",
        "binary_search(288,lista)"
      ],
      "execution_count": null,
      "outputs": [
        {
          "output_type": "stream",
          "name": "stdout",
          "text": [
            "0 6\n",
            "4 6\n",
            "6 6\n"
          ]
        },
        {
          "output_type": "execute_result",
          "data": {
            "text/plain": [
              "(True, 3)"
            ]
          },
          "metadata": {},
          "execution_count": 149
        }
      ]
    },
    {
      "cell_type": "markdown",
      "metadata": {
        "id": "8FgetQINfhfJ"
      },
      "source": [
        "# The complexity of binary search\n",
        "You have a $|l| = n$ then if the first iteration this will be reduced to $n/2$,\n",
        "in the second iteration $n/4$, ... and until reach $1$.  Therefore we have,\n",
        "$n/2^{i}$ where the $i$ iteration.\n",
        "\n",
        "the worst case is where the element not is in the list, therefore the algorithm reach\n",
        "$ 1 = n/2^{i}$ and $ i = log(n)$"
      ]
    }
  ]
}