{
  "nbformat": 4,
  "nbformat_minor": 0,
  "metadata": {
    "colab": {
      "provenance": []
    },
    "kernelspec": {
      "name": "python3",
      "display_name": "Python 3"
    },
    "language_info": {
      "name": "python"
    }
  },
  "cells": [
    {
      "cell_type": "code",
      "execution_count": null,
      "metadata": {
        "id": "En2NUoRcuSOx"
      },
      "outputs": [],
      "source": [
        "# DADO\n",
        "P = [1/6 for x in range(6)]\n",
        "X = [x for x in range(1,7)]\n",
        "def esperanza(P,X):\n",
        "  acum = 0\n",
        "  for x,p in zip(X,P):\n",
        "    acum = acum + x*p\n",
        "  return acum"
      ]
    },
    {
      "cell_type": "code",
      "source": [
        "def esperanzaD(P,X):\n",
        "  pairs = []\n",
        "  for x,p in zip(X,P):\n",
        "    pairs.append(x*p)\n",
        "  return sum(pairs)"
      ],
      "metadata": {
        "id": "vIva__gwuqFQ"
      },
      "execution_count": null,
      "outputs": []
    },
    {
      "cell_type": "code",
      "source": [
        "esperanzaD(P,X)"
      ],
      "metadata": {
        "colab": {
          "base_uri": "https://localhost:8080/"
        },
        "id": "PCTNn1pMv7qn",
        "outputId": "28c82463-4b3c-4447-bf87-ec97dc4addc8"
      },
      "execution_count": null,
      "outputs": [
        {
          "output_type": "execute_result",
          "data": {
            "text/plain": [
              "3.5"
            ]
          },
          "metadata": {},
          "execution_count": 18
        }
      ]
    },
    {
      "cell_type": "code",
      "source": [
        "esperanza(P,X)"
      ],
      "metadata": {
        "colab": {
          "base_uri": "https://localhost:8080/"
        },
        "id": "3PQ0tdVQzeBt",
        "outputId": "48be03a5-a70e-4840-dce1-06c413b4611e"
      },
      "execution_count": null,
      "outputs": [
        {
          "output_type": "execute_result",
          "data": {
            "text/plain": [
              "3.5"
            ]
          },
          "metadata": {},
          "execution_count": 19
        }
      ]
    },
    {
      "cell_type": "code",
      "source": [
        "# Problema 2.C"
      ],
      "metadata": {
        "id": "18WrvfvCzo0X"
      },
      "execution_count": null,
      "outputs": []
    },
    {
      "cell_type": "code",
      "source": [
        "P  = [0.55, 0.2, 0.1, 0.05, 0.05,0.05]"
      ],
      "metadata": {
        "id": "sD8i-8X-zsdS"
      },
      "execution_count": null,
      "outputs": []
    },
    {
      "cell_type": "code",
      "source": [
        "esperanzaD(P,X)"
      ],
      "metadata": {
        "colab": {
          "base_uri": "https://localhost:8080/"
        },
        "id": "RAzj2Gc7z1SN",
        "outputId": "c5158b6b-e9f9-4831-ca12-6beaf0c03920"
      },
      "execution_count": null,
      "outputs": [
        {
          "output_type": "execute_result",
          "data": {
            "text/plain": [
              "2.0"
            ]
          },
          "metadata": {},
          "execution_count": 21
        }
      ]
    },
    {
      "cell_type": "code",
      "source": [
        "def variance(P,X):\n",
        "  mu = esperanzaD(P,X)\n",
        "  acum = 0\n",
        "  for p,x in zip(P,X):\n",
        "    acum = acum + ((x-mu)**2) * p\n",
        "  return acum"
      ],
      "metadata": {
        "id": "AkwUL6vj3cWH"
      },
      "execution_count": null,
      "outputs": []
    },
    {
      "cell_type": "code",
      "source": [
        "X = [x for x in range(1,4)]\n",
        "P = [0.3, 0.4, 0.3]\n",
        "variance(P,X)"
      ],
      "metadata": {
        "colab": {
          "base_uri": "https://localhost:8080/"
        },
        "id": "Qr6Y2OhR3305",
        "outputId": "bb9a95ee-5036-4751-e455-892cfde44308"
      },
      "execution_count": null,
      "outputs": [
        {
          "output_type": "execute_result",
          "data": {
            "text/plain": [
              "0.6"
            ]
          },
          "metadata": {},
          "execution_count": 25
        }
      ]
    }
  ]
}