{
  "cells": [
    {
      "cell_type": "markdown",
      "metadata": {
        "id": "tIANqRR03k_k"
      },
      "source": [
        "### List comprehension\n",
        "\n",
        "this is a way of get the above example of loop but how its name indicate is a simpler way and more intuive for create the list.\n",
        "`list1=[(x**2) for x in range(12) if x < 12]`\n",
        "in a general way we can take the following sintax for list comprehension:\n",
        "\n",
        "`list(to create or modify) = [  mapping(x) for x in (iterable_object) if expression]`"
      ]
    },
    {
      "cell_type": "code",
      "execution_count": null,
      "metadata": {
        "id": "JW0A5MLj3k_t"
      },
      "outputs": [],
      "source": [
        "lista=[99,98,97,96]\n",
        "listaX=[]\n",
        "for a in lista:\n",
        "    listaX.append(str(a)+ \"x\")\n",
        "print(listaX)\n",
        "\n",
        "lista2=[99,98,97,96]\n",
        "listaX2=[(str(x) + \"x\") for x in lista2]\n",
        "print(listaX2)\n"
      ]
    },
    {
      "cell_type": "markdown",
      "metadata": {
        "id": "MesEwbPs3k_x"
      },
      "source": [
        "now we can create plot mathematical or statistical functions in easy way, for now dont we can not use **Matplotlib** but in a intutive this be can reached typing for instance:\n",
        "\n",
        "`square_function=[(x,x**2) for x in range(12)]`"
      ]
    },
    {
      "cell_type": "markdown",
      "metadata": {
        "id": "e_5-ExMo3k_y"
      },
      "source": [
        "the following functions could be very useful to make data cleaning,`str.lsdigit`and `str.lsaplha()` , `str.lower()` and `str.upper()` this is very particular because for cleaning in mortality studies we can used word[0:3].\n"
      ]
    },
    {
      "cell_type": "markdown",
      "metadata": {
        "id": "97nGdHVk3k_z"
      },
      "source": [
        "# Lambda, map, and zip.\n",
        "In some data process, three built-in functions that dont be leave out of the toolbox to handling and visualite data:\n",
        "Lambda is it is important due allow us defined a instantaneuos functions, map allo us apply any kind of function, and zip to joint iterators."
      ]
    },
    {
      "cell_type": "markdown",
      "metadata": {
        "id": "-0ww4IgG3k_1"
      },
      "source": [
        "# lambda function\n",
        "We can create a function to get rise one to another, thus:"
      ]
    },
    {
      "cell_type": "code",
      "execution_count": null,
      "metadata": {
        "id": "URRrcDco3k_2",
        "outputId": "c77bfbf9-ae71-45e0-e3b3-20295d88bddf"
      },
      "outputs": [
        {
          "name": "stdout",
          "output_type": "stream",
          "text": [
            "8\n"
          ]
        }
      ],
      "source": [
        "def power(x,y):\n",
        "    res= x**y\n",
        "    return res\n",
        "print(power(2,3))"
      ]
    },
    {
      "cell_type": "markdown",
      "metadata": {
        "id": "DR7K0fMo3k_4"
      },
      "source": [
        "now the function\n",
        "```python\n",
        "power(x,y)\n",
        "```\n",
        "occupy the zone of defintion of variables and joint to another easy but short and powerful  functions, nonestading, this function are used jointly anothers, or only once time, and they is where appear lambda, due the simplicity of the actions allow us embeded all in only single line.\n",
        "\n"
      ]
    },
    {
      "cell_type": "code",
      "execution_count": null,
      "metadata": {
        "id": "pam39KWv3k_6",
        "outputId": "8bad7197-e124-45a2-8b0b-4a228bdbcd19"
      },
      "outputs": [
        {
          "name": "stdout",
          "output_type": "stream",
          "text": [
            "8\n"
          ]
        }
      ],
      "source": [
        "rise = lambda x,y: x**y\n",
        "print(rise(2,3))"
      ]
    },
    {
      "cell_type": "markdown",
      "metadata": {
        "id": "ZvXzs01M3k_8"
      },
      "source": [
        "Lambda function or anonymus, take a lot of parameters buy only one expression.\n",
        "we could understand expression(*exp*) as a arithmetic or mathematical statement, that could involve several parameters, it also similiar to a $f(x_{1},x_{2},...,x_{n})$.\n",
        "```python\n",
        "lambda x1,x2,x3,...,xn : f()\n",
        "```"
      ]
    },
    {
      "cell_type": "markdown",
      "metadata": {
        "id": "4ydkol3M3k_9"
      },
      "source": [
        "lambda will be very useful to a lot of cases,"
      ]
    },
    {
      "cell_type": "markdown",
      "metadata": {
        "id": "PPYperZ43k_-"
      },
      "source": [
        "# MAP\n",
        "map it is useful function due its nane its mechanism it is the evaluation of a funciton in each elements of a list for isntance we need plot a exponetial function, or a mapping in mathematics.\n",
        "we need mapping $x \\to x^{2}$ to all elements of a list we can carry out in the following way:"
      ]
    },
    {
      "cell_type": "code",
      "execution_count": null,
      "metadata": {
        "id": "PCR5XAju3k__",
        "outputId": "09dedda2-c41d-49fc-97f5-f8e499a260bb"
      },
      "outputs": [
        {
          "name": "stdout",
          "output_type": "stream",
          "text": [
            "[0, 1, 4, 9, 16, 25, 36, 49, 64, 81]\n"
          ]
        }
      ],
      "source": [
        "x=[x for x in range(10)]\n",
        "x_l=[]\n",
        "for t in x:\n",
        "    current_value = t**2\n",
        "    x_l.append(current_value)\n",
        "print(x_l)"
      ]
    },
    {
      "cell_type": "markdown",
      "metadata": {
        "id": "94VKE1uv3lAA"
      },
      "source": [
        "even this is very intuitevely and *mechanics* this is very long a can be bit confusing to other persons that try undesrtand our code."
      ]
    },
    {
      "cell_type": "code",
      "execution_count": null,
      "metadata": {
        "id": "S9jlPKAE3lAB",
        "outputId": "b6d64dc4-3d69-4fda-bb67-dfc46dcab56b"
      },
      "outputs": [
        {
          "name": "stdout",
          "output_type": "stream",
          "text": [
            "[0, 1, 4, 9, 16, 25, 36, 49, 64, 81]\n"
          ]
        }
      ],
      "source": [
        "rise_two= lambda x: x**2\n",
        "x_lambda=map(rise_two, x)\n",
        "print(list(x_lambda))"
      ]
    },
    {
      "cell_type": "markdown",
      "metadata": {
        "id": "KGKGBMGQ3lAC"
      },
      "source": [
        "this could be reduce to only two lines in the following way:"
      ]
    },
    {
      "cell_type": "code",
      "execution_count": null,
      "metadata": {
        "id": "J4xeyBro3lAD",
        "outputId": "e917bb45-e578-43b9-9443-80e6d730e1d5"
      },
      "outputs": [
        {
          "name": "stdout",
          "output_type": "stream",
          "text": [
            "[0, 1, 4, 9, 16, 25, 36, 49, 64, 81]\n"
          ]
        }
      ],
      "source": [
        "x_lambda=map(lambda x : x**2 , x)\n",
        "print(list(x_lambda))"
      ]
    },
    {
      "cell_type": "markdown",
      "metadata": {
        "id": "nGVD1W5P3lAD"
      },
      "source": [
        "Notice the genearl syntax of **map()**\n",
        "```python\n",
        "map(function , iterable_object)\n",
        "```\n",
        "This return a map iterator, therefore we make a list of this.\n",
        "\n",
        "\n"
      ]
    },
    {
      "cell_type": "markdown",
      "metadata": {
        "id": "-4ZH23xz3lAE"
      },
      "source": [
        "### Problem 1.\n",
        "given a list master of 5 consecutive numbers, add to another three list with the same length the master."
      ]
    },
    {
      "cell_type": "code",
      "execution_count": null,
      "metadata": {
        "id": "UM9NEy3b3lAF",
        "outputId": "db24ceb8-b526-456e-e360-078c9139af63"
      },
      "outputs": [
        {
          "name": "stdout",
          "output_type": "stream",
          "text": [
            "[11, 12, 13, 14, 16]\n",
            "[10, 11, 12, 13, 16]\n",
            "[11, 11, 12, 13, 15]\n"
          ]
        }
      ],
      "source": [
        "x=[10,11,12,13,15]   ## Master list\n",
        "y1=[1,1,1,1,1]\n",
        "y2=[0,0,0,0,1]\n",
        "y3=[1,0,0,0,0]\n",
        "usings=[y1,y2,y3]\n",
        "for k in usings:\n",
        "    k_m=map(lambda x,y: x+y, x,k)\n",
        "    print(list(k_m))"
      ]
    },
    {
      "cell_type": "markdown",
      "metadata": {
        "id": "RiqQVL_-3lAG"
      },
      "source": [
        "### Problem 2.\n",
        "from a list of 4 words drop the first and the last words."
      ]
    },
    {
      "cell_type": "code",
      "execution_count": null,
      "metadata": {
        "id": "WlJcXcGV3lAG",
        "outputId": "fa00634b-06c7-4010-84b6-583144306502"
      },
      "outputs": [
        {
          "name": "stdout",
          "output_type": "stream",
          "text": [
            "als\n",
            "['umber', 'olor', 'hing', 'rro']\n"
          ]
        }
      ],
      "source": [
        "listW=[\"Numbers\",\"Colors\",\"Things\",\"Error\"]\n",
        "a=[\"Salsa\"]\n",
        "print(a[0][1:-1])\n",
        "listN=list(map(lambda x: x[1:-1],listW))\n",
        "print(listN)"
      ]
    },
    {
      "cell_type": "markdown",
      "metadata": {
        "id": "Budkrv4z3lAH"
      },
      "source": [
        "### Problem 3.\n",
        "Given a set a list of string remove a particular character.\n",
        "\n",
        "As proposed problem the reader could convert each lower case to upper case in a list of strings.\n"
      ]
    },
    {
      "cell_type": "code",
      "execution_count": null,
      "metadata": {
        "id": "33RMeypL3lAI"
      },
      "outputs": [],
      "source": [
        "j=[]"
      ]
    },
    {
      "cell_type": "markdown",
      "metadata": {
        "id": "M3YKpl_z3lAJ"
      },
      "source": [
        "## ZIP\n",
        "zip have the capacity of joint or disjoint iterators, this could be expressed with a example."
      ]
    },
    {
      "cell_type": "code",
      "execution_count": null,
      "metadata": {
        "id": "Q-AfxmNg3lAJ",
        "outputId": "5a9e5b4a-35fa-4f65-c666-25ad229aabb8"
      },
      "outputs": [
        {
          "name": "stdout",
          "output_type": "stream",
          "text": [
            "[(12, 'one'), (3, 'two'), (4, 'three')]\n",
            "(12, 3, 4) ('one', 'two', 'three')\n"
          ]
        }
      ],
      "source": [
        "list1=[12,3,4]\n",
        "lists1=['one','two','three']\n",
        "lista_m=list(zip(list1,lists1))\n",
        "print(lista_m)\n",
        "## Two unzip\n",
        "one, ones = zip(*lista1)\n",
        "##\n",
        "print(one,ones)"
      ]
    },
    {
      "cell_type": "code",
      "execution_count": null,
      "metadata": {
        "id": "x1rRnDiY3lAK",
        "outputId": "cf2ac491-f222-4baf-85e0-723e2d668033"
      },
      "outputs": [
        {
          "data": {
            "text/plain": [
              "[<matplotlib.lines.Line2D at 0x7fe642515d90>]"
            ]
          },
          "execution_count": 134,
          "metadata": {},
          "output_type": "execute_result"
        },
        {
          "data": {
            "image/png": "[encoded data removed]",
            "text/plain": [
              "<Figure size 432x288 with 1 Axes>"
            ]
          },
          "metadata": {
            "needs_background": "light"
          },
          "output_type": "display_data"
        }
      ],
      "source": [
        "data=[(x,x**2) for x in range(20) ]\n",
        "import matplotlib.pyplot as plt\n",
        "plt.plot(*zip(*data))"
      ]
    },
    {
      "cell_type": "markdown",
      "metadata": {
        "id": "cjnGOvAc3lAL"
      },
      "source": [
        "## Keyword arguments\n",
        "It is important due can also give us insights about what is its mean in C language programmming.\n"
      ]
    },
    {
      "cell_type": "code",
      "execution_count": null,
      "metadata": {
        "id": "IzsyIKVK3lAL"
      },
      "outputs": [],
      "source": [
        "\n",
        "see this\n",
        "https://www.youtube.com/watch?v=nykOeWgQcHM&list=PLUl4u3cNGP63WbdFxL8giv4yhgdMGaZNA\n",
        "\n",
        "\n",
        "https://www.youtube.com/watch?v=WPSeyjX1-4s"
      ]
    },
    {
      "cell_type": "markdown",
      "metadata": {
        "id": "hUqiqZlg3lAM"
      },
      "source": [
        "# Type of objects in python\n",
        "* list   -> Mutables objects []\n",
        "* tuples  -> inmutables objects ()\n",
        "* dictionaries\n",
        "\n",
        "\n",
        "\n",
        "Notes: return only has the ability to one return, however with tuples we have we can made a lot of them. this is very important.\n"
      ]
    },
    {
      "cell_type": "code",
      "execution_count": null,
      "metadata": {
        "id": "asXpSX2H3lAM",
        "outputId": "9bf8f398-43dc-42b4-82d7-822d4eddadcb"
      },
      "outputs": [
        {
          "name": "stdout",
          "output_type": "stream",
          "text": [
            "Methods avaliables for list\n",
            "['__add__', '__class__', '__contains__', '__delattr__', '__delitem__', '__dir__', '__doc__', '__eq__', '__format__', '__ge__', '__getattribute__', '__getitem__', '__gt__', '__hash__', '__iadd__', '__imul__', '__init__', '__init_subclass__', '__iter__', '__le__', '__len__', '__lt__', '__mul__', '__ne__', '__new__', '__reduce__', '__reduce_ex__', '__repr__', '__reversed__', '__rmul__', '__setattr__', '__setitem__', '__sizeof__', '__str__', '__subclasshook__', 'append', 'clear', 'copy', 'count', 'extend', 'index', 'insert', 'pop', 'remove', 'reverse', 'sort']\n",
            "\n",
            " Methods avaliables for tuples\n",
            "['__abs__', '__add__', '__and__', '__bool__', '__ceil__', '__class__', '__delattr__', '__dir__', '__divmod__', '__doc__', '__eq__', '__float__', '__floor__', '__floordiv__', '__format__', '__ge__', '__getattribute__', '__getnewargs__', '__gt__', '__hash__', '__index__', '__init__', '__init_subclass__', '__int__', '__invert__', '__le__', '__lshift__', '__lt__', '__mod__', '__mul__', '__ne__', '__neg__', '__new__', '__or__', '__pos__', '__pow__', '__radd__', '__rand__', '__rdivmod__', '__reduce__', '__reduce_ex__', '__repr__', '__rfloordiv__', '__rlshift__', '__rmod__', '__rmul__', '__ror__', '__round__', '__rpow__', '__rrshift__', '__rshift__', '__rsub__', '__rtruediv__', '__rxor__', '__setattr__', '__sizeof__', '__str__', '__sub__', '__subclasshook__', '__truediv__', '__trunc__', '__xor__', 'as_integer_ratio', 'bit_length', 'conjugate', 'denominator', 'from_bytes', 'imag', 'numerator', 'real', 'to_bytes']\n",
            "64\n",
            "28\n",
            "0.5285842779999257\n",
            "0.06657786300002044\n"
          ]
        }
      ],
      "source": [
        "a=[1]\n",
        "b=(1)\n",
        "print(\"Methods avaliables for list\")\n",
        "print(dir(a))\n",
        "print(\"\\n Methods avaliables for tuples\")\n",
        "print(dir(b))\n",
        "\n",
        "import sys\n",
        "dir(sys)\n",
        "print( sys.getsizeof(a))\n",
        "print(sys.getsizeof(b))\n",
        "\n",
        "import timeit\n",
        "print(timeit.timeit(stmt=\"[1,2,3,3,4,]\", number=9999999))\n",
        "print(timeit.timeit(stmt=\"(1,2,3,3,4,)\", number=9999999))\n",
        "\n",
        "## Usually in list we can acces[0] or with indices however with tuples we can mkae\n",
        "data=(\"Information\",\"999\",999)\n",
        "info, snumber, number=data\n",
        "# Unpacking the information.\n",
        "\n",
        "\"\"\"\n",
        "for this reason it is neccesary put the , in tupple. to assign correctly.\n",
        "list comprehension to the problem of the movies,\n",
        "\n",
        "data=[(\"one\",1), (\"two\",2), (\"three\",3), (\"four\",4), (\"five\",5)]\n",
        "\"\"\"\n"
      ]
    },
    {
      "cell_type": "code",
      "execution_count": null,
      "metadata": {
        "id": "ldUrkdXH3lAN",
        "outputId": "6edf8e7c-f517-457b-8e9e-32aa43b8eb7b"
      },
      "outputs": [
        {
          "name": "stdout",
          "output_type": "stream",
          "text": [
            "[('one', 1), ('two', 2), ('three', 3), ('four', 4), ('five', 5)]\n"
          ]
        }
      ],
      "source": [
        "data=[(\"one\",1), (\"two\",2), (\"three\",3), (\"four\",4), (\"five\",5)]\n",
        "print(data)"
      ]
    },
    {
      "cell_type": "code",
      "execution_count": null,
      "metadata": {
        "id": "JKAEL_Kh3lAO",
        "outputId": "d82b05c7-3459-4944-e888-03a375b700e1"
      },
      "outputs": [
        {
          "name": "stdout",
          "output_type": "stream",
          "text": [
            "['one', 'two', 'three', 'four', 'five']\n"
          ]
        },
        {
          "data": {
            "text/plain": [
              "'\\nyou can build a product cartersian with the option of for x for c\\n'"
            ]
          },
          "execution_count": 32,
          "metadata": {},
          "output_type": "execute_result"
        }
      ],
      "source": [
        "#this very useful to extract.\n",
        "dat=[first for (first,two) in data]\n",
        "print(dat)\n",
        "\"\"\"\n",
        "you can build a product cartersian with the option of for x for c in list comprehension.\n",
        "\"\"\""
      ]
    },
    {
      "cell_type": "markdown",
      "metadata": {
        "id": "0mncJ52t3lAP"
      },
      "source": [
        "### Introduction to *arg and **kwargs\n",
        "\n",
        "note you use help(method or class) then we need, you put in class \"\"\"\"\".\n",
        "*kwards receive inputs as dictionary.\n",
        "when you are defining a variable ussually specify the number of parameters insed of it.\n",
        "but with *args a indefinite number of arguments.\n",
        "\n",
        "the mechanism it is the following the parameters are stored in a tuple.\n",
        "\n",
        "```python\n",
        "def product(a,b,c):\n",
        "    prod= a*b*c\n",
        "    return prod\n",
        "```\n",
        "Notice that we arise a error if try probe product(1,2,3,4), to solve this we could use\n",
        "```python\n",
        "import numpy as np\n",
        "def prod(*args):\n",
        "    prod=1\n",
        "    for k in args:\n",
        "        prod= prod * k\n",
        "    return prod\n",
        "```\n",
        "\n",
        "\n",
        "now *kwargs, pass a number special the parameters with name.\n",
        "this parameter receiver the arguments by a dictionary.\n",
        "the order of paramter does not matter.\n",
        "```python\n",
        "data=[(x,x**2) for x in range(10)]\n",
        "for h,t in data:\n",
        "    print(\"The number\", h)\n",
        "    print(\"To 2 is\", t)\n",
        "```\n",
        "\n",
        "\n",
        "\n",
        "\n",
        "\n",
        "\n",
        "\n",
        "\n",
        "\n",
        "\n",
        "\n",
        "\n"
      ]
    },
    {
      "cell_type": "markdown",
      "metadata": {
        "id": "4Uf4Iv8m3lAP"
      },
      "source": [
        "dictionaries:\n",
        "key and value are two concetps to this data type object.\n"
      ]
    }
  ],
  "metadata": {
    "hide_input": false,
    "kernelspec": {
      "display_name": "Python 3",
      "language": "python",
      "name": "python3"
    },
    "language_info": {
      "codemirror_mode": {
        "name": "ipython",
        "version": 3
      },
      "file_extension": ".py",
      "mimetype": "text/x-python",
      "name": "python",
      "nbconvert_exporter": "python",
      "pygments_lexer": "ipython3",
      "version": "3.8.10"
    },
    "latex_envs": {
      "LaTeX_envs_menu_present": true,
      "autoclose": false,
      "autocomplete": true,
      "bibliofile": "biblio.bib",
      "cite_by": "apalike",
      "current_citInitial": 1,
      "eqLabelWithNumbers": true,
      "eqNumInitial": 1,
      "hotkeys": {
        "equation": "Ctrl-E",
        "itemize": "Ctrl-I"
      },
      "labels_anchors": false,
      "latex_user_defs": false,
      "report_style_numbering": false,
      "user_envs_cfg": false
    },
    "varInspector": {
      "cols": {
        "lenName": 16,
        "lenType": 16,
        "lenVar": 40
      },
      "kernels_config": {
        "python": {
          "delete_cmd_postfix": "",
          "delete_cmd_prefix": "del ",
          "library": "var_list.py",
          "varRefreshCmd": "print(var_dic_list())"
        },
        "r": {
          "delete_cmd_postfix": ") ",
          "delete_cmd_prefix": "rm(",
          "library": "var_list.r",
          "varRefreshCmd": "cat(var_dic_list()) "
        }
      },
      "types_to_exclude": [
        "module",
        "function",
        "builtin_function_or_method",
        "instance",
        "_Feature"
      ],
      "window_display": false
    },
    "colab": {
      "provenance": []
    }
  },
  "nbformat": 4,
  "nbformat_minor": 0
}