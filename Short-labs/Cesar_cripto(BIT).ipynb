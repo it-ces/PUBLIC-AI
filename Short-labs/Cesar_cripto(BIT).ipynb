{
  "nbformat": 4,
  "nbformat_minor": 0,
  "metadata": {
    "colab": {
      "provenance": []
    },
    "kernelspec": {
      "name": "python3",
      "display_name": "Python 3"
    },
    "language_info": {
      "name": "python"
    }
  },
  "cells": [
    {
      "cell_type": "code",
      "execution_count": 8,
      "metadata": {
        "id": "H0ZFG1NHMwdF"
      },
      "outputs": [],
      "source": [
        "def decifre(text,constant):\n",
        "  result = \"\"\n",
        "  for code in text:\n",
        "    decode = chr(int(code)-constant)\n",
        "    result = result + decode\n",
        "  return result"
      ]
    },
    {
      "cell_type": "code",
      "source": [
        "def cripto(text,constant):\n",
        "  result = \"\"\n",
        "  aux = ''\n",
        "  for letter in text:\n",
        "    if letter :\n",
        "      letter_coded = str(ord(letter)+ constant) + \"-\"\n",
        "      result = result + letter_coded\n",
        "  result = result[0:-1]\n",
        "  return result"
      ],
      "metadata": {
        "id": "Dn8F9A_UM1Ws"
      },
      "execution_count": 9,
      "outputs": []
    },
    {
      "cell_type": "code",
      "source": [
        "cripto('Hello world',0)"
      ],
      "metadata": {
        "colab": {
          "base_uri": "https://localhost:8080/",
          "height": 35
        },
        "id": "wYwccYMaM95h",
        "outputId": "6d683d20-529b-45aa-f4db-b98d5baea246"
      },
      "execution_count": 10,
      "outputs": [
        {
          "output_type": "execute_result",
          "data": {
            "text/plain": [
              "'72-101-108-108-111-32-119-111-114-108-100'"
            ],
            "application/vnd.google.colaboratory.intrinsic+json": {
              "type": "string"
            }
          },
          "metadata": {},
          "execution_count": 10
        }
      ]
    },
    {
      "cell_type": "code",
      "source": [
        "mensaje = \"72-101-108-108-111-32-119-111-114-108-100-\"\n",
        "aux = ''\n",
        "for elemento in mensaje:\n",
        "  if elemento =='-':\n",
        "    print(chr(int(aux)))\n",
        "    aux = ''\n",
        "  else:\n",
        "    aux = aux + elemento\n",
        "    print(aux)"
      ],
      "metadata": {
        "colab": {
          "base_uri": "https://localhost:8080/"
        },
        "id": "z2ZG6eXeNPFn",
        "outputId": "d77d98a8-0f77-4ef0-d44d-6d0ba6794d02"
      },
      "execution_count": 11,
      "outputs": [
        {
          "output_type": "stream",
          "name": "stdout",
          "text": [
            "7\n",
            "72\n",
            "H\n",
            "1\n",
            "10\n",
            "101\n",
            "e\n",
            "1\n",
            "10\n",
            "108\n",
            "l\n",
            "1\n",
            "10\n",
            "108\n",
            "l\n",
            "1\n",
            "11\n",
            "111\n",
            "o\n",
            "3\n",
            "32\n",
            " \n",
            "1\n",
            "11\n",
            "119\n",
            "w\n",
            "1\n",
            "11\n",
            "111\n",
            "o\n",
            "1\n",
            "11\n",
            "114\n",
            "r\n",
            "1\n",
            "10\n",
            "108\n",
            "l\n",
            "1\n",
            "10\n",
            "100\n",
            "d\n"
          ]
        }
      ]
    }
  ]
}