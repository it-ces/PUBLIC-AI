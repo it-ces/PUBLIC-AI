{
  "cells": [
    {
      "cell_type": "code",
      "execution_count": 1,
      "metadata": {
        "id": "bgCrmnUOku8D"
      },
      "outputs": [],
      "source": [
        "# Iván Andrés Trujillo Abella\n",
        "# ivantrujillo1229@gmail.com"
      ]
    },
    {
      "cell_type": "code",
      "execution_count": 2,
      "metadata": {
        "colab": {
          "base_uri": "https://localhost:8080/"
        },
        "id": "7xD1qsQ1lWt7",
        "outputId": "72706e28-006d-4e88-ae98-8fa2bbda1a8c"
      },
      "outputs": [
        {
          "name": "stdout",
          "output_type": "stream",
          "text": [
            "20\n",
            "20\n",
            "2.5\n",
            "8\n",
            "0\n"
          ]
        }
      ],
      "source": [
        "# Python as calculator\n",
        "print(10 + 10)\n",
        "print(2*10)\n",
        "print(5/2)\n",
        "print(2**3)\n",
        "print(10%2)"
      ]
    },
    {
      "cell_type": "code",
      "execution_count": 3,
      "metadata": {
        "colab": {
          "base_uri": "https://localhost:8080/"
        },
        "id": "x2yqr-XBlfV1",
        "outputId": "435e5375-7fe5-4fbd-ba05-21b788c58b7a"
      },
      "outputs": [
        {
          "name": "stdout",
          "output_type": "stream",
          "text": [
            "Income is: 100\n"
          ]
        }
      ],
      "source": [
        "# Using variables\n",
        "p = 10\n",
        "print(\"Income is:\", p* 10)"
      ]
    },
    {
      "cell_type": "code",
      "execution_count": 4,
      "metadata": {
        "colab": {
          "base_uri": "https://localhost:8080/"
        },
        "id": "cw9GWSa_ldn-",
        "outputId": "8c67ef06-c9e9-4dbb-a350-a559c2d0250e"
      },
      "outputs": [
        {
          "name": "stdout",
          "output_type": "stream",
          "text": [
            "65\n",
            "The profit is therefore: 26\n"
          ]
        }
      ],
      "source": [
        "# Profit\n",
        "p = 5 # price\n",
        "q = 13 # quantities\n",
        "print(p*q) # total income\n",
        "uc = 3 # unitary cost\n",
        "print(\"The profit is therefore:\", q*(p-uc))"
      ]
    },
    {
      "cell_type": "code",
      "execution_count": 5,
      "metadata": {
        "id": "zxvYPjPUn1_T"
      },
      "outputs": [],
      "source": [
        "# We can make the computation of profit in a easier way\n",
        "# explain mathematical functions and the relaton with informatics"
      ]
    },
    {
      "cell_type": "code",
      "execution_count": 6,
      "metadata": {
        "id": "Lh5J7JXmobpm"
      },
      "outputs": [],
      "source": [
        "def profit(price, unitaryCost, quantities):\n",
        "  return quantities*(price - unitaryCost)"
      ]
    },
    {
      "cell_type": "code",
      "execution_count": 7,
      "metadata": {
        "colab": {
          "base_uri": "https://localhost:8080/"
        },
        "id": "an5-2-8VnEl4",
        "outputId": "276bd75b-dddb-4d83-9a0a-3b34fd5a2874"
      },
      "outputs": [
        {
          "data": {
            "text/plain": [
              "50"
            ]
          },
          "execution_count": 7,
          "metadata": {},
          "output_type": "execute_result"
        }
      ],
      "source": [
        "# computing\n",
        "profit(2, 1, 50)"
      ]
    },
    {
      "cell_type": "code",
      "execution_count": 8,
      "metadata": {
        "id": "MD1Sxq3RpFb5"
      },
      "outputs": [],
      "source": [
        "# you can answer the following question:\n",
        "# How many time periods must one wait to double their income at an interest rate (r)?"
      ]
    },
    {
      "cell_type": "markdown",
      "metadata": {
        "id": "rxO5Eunhpab0"
      },
      "source": [
        "suppose that you have 1 um, then in one period this person give back a total  money of\n",
        "$$ 1 (1 + r) $$\n",
        "by the second period:\n",
        "$$ 1 ( 1 + r) (1+r) $$\n",
        "then for n periods of time:\n",
        " $$ fv = pv (1 + r)^{n}$$"
      ]
    },
    {
      "cell_type": "code",
      "execution_count": 9,
      "metadata": {
        "id": "5S1wvC2-lamm"
      },
      "outputs": [],
      "source": [
        "def fv(pv, r, n):\n",
        "  return pv*((1+r)**n)"
      ]
    },
    {
      "cell_type": "code",
      "execution_count": 10,
      "metadata": {
        "colab": {
          "base_uri": "https://localhost:8080/"
        },
        "id": "FsGeM890qOw3",
        "outputId": "26730109-83e9-4c00-e3bd-a7dd4a486052"
      },
      "outputs": [
        {
          "data": {
            "text/plain": [
              "2"
            ]
          },
          "execution_count": 10,
          "metadata": {},
          "output_type": "execute_result"
        }
      ],
      "source": [
        "fv(1,1,1) # check the  function."
      ]
    },
    {
      "cell_type": "code",
      "execution_count": 11,
      "metadata": {
        "id": "dA13yr8iq9Jj"
      },
      "outputs": [],
      "source": [
        "# Explain the properties of logarithms, will be useful to answer the main question."
      ]
    },
    {
      "cell_type": "code",
      "execution_count": 12,
      "metadata": {
        "colab": {
          "base_uri": "https://localhost:8080/"
        },
        "id": "uGtq4mPHsa6z",
        "outputId": "b5e45fc2-4739-4e9e-9aa3-91685a9beb10"
      },
      "outputs": [
        {
          "data": {
            "text/plain": [
              "0.999896315728952"
            ]
          },
          "execution_count": 12,
          "metadata": {},
          "output_type": "execute_result"
        }
      ],
      "source": [
        "import math\n",
        "math.log(1)\n",
        "math.log(2.718)"
      ]
    },
    {
      "cell_type": "markdown",
      "metadata": {
        "id": "_9QuUSEXsAWb"
      },
      "source": [
        "$$ n = \\frac{\\log(\\lambda)}{\\log(1+r)} $$\n",
        "\n",
        "For this function take in mind that **lambda** is a key word."
      ]
    },
    {
      "cell_type": "code",
      "execution_count": 13,
      "metadata": {
        "id": "BPuhkWKurq4z"
      },
      "outputs": [],
      "source": [
        "def time(LAMBDA, r):\n",
        "  return math.log(LAMBDA)/math.log((1+r))"
      ]
    },
    {
      "cell_type": "code",
      "execution_count": 14,
      "metadata": {
        "colab": {
          "base_uri": "https://localhost:8080/"
        },
        "id": "LPjjn3JEtwKW",
        "outputId": "0584839f-0fa7-45c6-866c-a450efd9b9de"
      },
      "outputs": [
        {
          "data": {
            "text/plain": [
              "1.0"
            ]
          },
          "execution_count": 14,
          "metadata": {},
          "output_type": "execute_result"
        }
      ],
      "source": [
        "# Check the function\n",
        "time(2, 1)"
      ]
    },
    {
      "cell_type": "code",
      "execution_count": 15,
      "metadata": {
        "colab": {
          "base_uri": "https://localhost:8080/"
        },
        "id": "CuiU7dcyvlIf",
        "outputId": "99da6bdf-916d-40b9-f744-ad2e308dab9d"
      },
      "outputs": [
        {
          "data": {
            "text/plain": [
              "True"
            ]
          },
          "execution_count": 15,
          "metadata": {},
          "output_type": "execute_result"
        }
      ],
      "source": [
        "time(2,1) == 1 # chek this condition return a boolean"
      ]
    },
    {
      "cell_type": "code",
      "execution_count": 16,
      "metadata": {
        "colab": {
          "base_uri": "https://localhost:8080/"
        },
        "id": "Es4IKN7Gu0Xs",
        "outputId": "fbd4e9f1-d714-4664-8f07-feff197d8c17"
      },
      "outputs": [
        {
          "name": "stdout",
          "output_type": "stream",
          "text": [
            "8\n",
            "4\n",
            "aaa\n",
            "ab\n"
          ]
        }
      ],
      "source": [
        "# Explain polymorphism and the importance of the function type!\n",
        "print(2*4)\n",
        "print(2+2)\n",
        "print(\"a\"*3)\n",
        "print('a' + 'b')"
      ]
    },
    {
      "cell_type": "code",
      "execution_count": 17,
      "metadata": {
        "colab": {
          "base_uri": "https://localhost:8080/"
        },
        "id": "zb6ba25IwX_l",
        "outputId": "ca8cc1e8-fc77-491f-8af9-1f3109243bcb"
      },
      "outputs": [
        {
          "name": "stdout",
          "output_type": "stream",
          "text": [
            "This operation is not defined\n"
          ]
        }
      ],
      "source": [
        "# Expraint try-except\n",
        "try:\n",
        "  print(2+'a')\n",
        "except:\n",
        "  print('This operation is not defined')"
      ]
    },
    {
      "cell_type": "code",
      "execution_count": 18,
      "metadata": {
        "colab": {
          "base_uri": "https://localhost:8080/"
        },
        "id": "UImLfRdMukWK",
        "outputId": "097e88a2-bead-409e-e7dc-84a445557dd3"
      },
      "outputs": [
        {
          "name": "stdout",
          "output_type": "stream",
          "text": [
            "We need wait more than one year\n"
          ]
        }
      ],
      "source": [
        "# Flow control\n",
        "if time(3, 0.1) > 1:\n",
        "  print('We need wait more than one year')"
      ]
    },
    {
      "cell_type": "code",
      "execution_count": 19,
      "metadata": {
        "colab": {
          "base_uri": "https://localhost:8080/"
        },
        "id": "DNU3lh1KvJ-k",
        "outputId": "17fce15e-26f3-4a15-f53a-ba388bd4b9ea"
      },
      "outputs": [
        {
          "data": {
            "text/plain": [
              "3.265090456496962"
            ]
          },
          "execution_count": 19,
          "metadata": {},
          "output_type": "execute_result"
        }
      ],
      "source": [
        "time(3,0.4)"
      ]
    },
    {
      "cell_type": "code",
      "execution_count": 20,
      "metadata": {
        "colab": {
          "base_uri": "https://localhost:8080/"
        },
        "id": "IJ8kfKxquzBz",
        "outputId": "1471d537-460d-46d3-ea80-a2aae5fa8fe4"
      },
      "outputs": [
        {
          "name": "stdout",
          "output_type": "stream",
          "text": [
            "....\n"
          ]
        }
      ],
      "source": [
        "# else\n",
        "if time(1.5, 0.5 )> 1:\n",
        "  print(\"We need wait more than one year\")\n",
        "else:\n",
        "  print(\"....\")"
      ]
    }
  ],
  "metadata": {
    "colab": {
      "provenance": []
    },
    "kernelspec": {
      "display_name": "Python 3",
      "name": "python3"
    },
    "language_info": {
      "codemirror_mode": {
        "name": "ipython",
        "version": 3
      },
      "file_extension": ".py",
      "mimetype": "text/x-python",
      "name": "python",
      "nbconvert_exporter": "python",
      "pygments_lexer": "ipython3",
      "version": "3.9.6"
    }
  },
  "nbformat": 4,
  "nbformat_minor": 0
}
