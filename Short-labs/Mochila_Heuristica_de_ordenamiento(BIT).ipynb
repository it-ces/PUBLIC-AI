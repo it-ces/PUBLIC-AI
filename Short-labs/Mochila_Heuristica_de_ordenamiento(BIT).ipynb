{
  "nbformat": 4,
  "nbformat_minor": 0,
  "metadata": {
    "colab": {
      "provenance": []
    },
    "kernelspec": {
      "name": "python3",
      "display_name": "Python 3"
    },
    "language_info": {
      "name": "python"
    }
  },
  "cells": [
    {
      "cell_type": "code",
      "source": [
        "# Estrategia\n",
        "\"\"\"\n",
        "Problema de asignación:\n",
        "  tenemos un conjunto de items con unos precios y unos pesos asociados.\n",
        "  queremos transportar un conjunto de items que nos maximicen la ganancia.No obstante,\n",
        "  tenemos una restricción de peso para poder llevar ese conjunto de items.\n",
        "\n",
        "  # Determinar la solución óptima tendriamos que realizar 2**N pruebas de diferentes vectores de items\n",
        "  por ejemplo (1,1,0,0) llevamos el primero y el segundo pero el tercero y cuarto no.\n",
        "\n",
        "  # Una posible estrategia utilizando información del indiviudo cercano sería ordenar los\n",
        "  elementos de acuerdo a su contribución es decir ganancia por unidad de volumen  y explorar cada uno de los items\n",
        "  hasta que la restricción impuesta se cumpla. Notese que este algoritmo puede quedarse en un optimo local dado\n",
        "  que utiliza información de su vecino próximo y el promedio de contribuciones de k-elementos posteriores podría ser superior\n",
        "  por el total de volumen de dichos elementos, es por esto que es necesario encontrar algorimos que nos\n",
        "  permitan sobreponer los óptimos locales.\n",
        "\"\"\"\n",
        "prices = [6,6,6,10,10]\n",
        "weights = [6,6,3,4,2]\n",
        "constraint = 10\n",
        "i = 0\n",
        "var=1\n",
        "data={}\n",
        "for p,w in zip(prices, weights):\n",
        "  data['x'+str(var)] = [p/w, p, w]  #  ratio , prices and weigths  index ; 0,1,2\n",
        "  var +=1\n",
        "# Order according to the priority of ratio, those elements that offer more price by unit of weigth\n",
        "ratios_order = []\n",
        "for var in data.keys():\n",
        "  ratios_order.append((data[var][0], var))\n",
        "ratios_order.sort(reverse=True, key = lambda x:x[0])#ordenamos la lista de ratios de forma descendente para tener en cuenta la prioiridad\n",
        "print(ratios_order)\n",
        "profit = 0\n",
        "solution = []\n",
        "for elemento in ratios_order:\n",
        "  if data[elemento[1]][2]<= constraint:# Si el peso del item i es menor o igual lo que queda de la V(restricción) en la k-ésima iteración\n",
        "    solution.append(elemento[1])\n",
        "    profit = profit + data[elemento[1]][1]   # Agregue el valor del item que voy a  adicionar a la ganancia\n",
        "    constraint = constraint - data[elemento[1]][2]\n",
        "  else:\n",
        "    continue\n",
        "print(profit, solution)"
      ],
      "metadata": {
        "colab": {
          "base_uri": "https://localhost:8080/"
        },
        "id": "p2jgWONB2lE-",
        "outputId": "d7435dac-3e3a-4786-e762-6e36de13718e"
      },
      "execution_count": null,
      "outputs": [
        {
          "output_type": "stream",
          "name": "stdout",
          "text": [
            "[(5.0, 'x5'), (2.5, 'x4'), (2.0, 'x3'), (1.0, 'x1'), (1.0, 'x2')]\n",
            "26 ['x5', 'x4', 'x3']\n"
          ]
        }
      ]
    },
    {
      "cell_type": "code",
      "source": [
        "# Comparation with AMPL"
      ],
      "metadata": {
        "id": "567fpUgiOMGJ"
      },
      "execution_count": null,
      "outputs": []
    },
    {
      "cell_type": "markdown",
      "source": [
        " # AMPL solution?\n",
        "\n"
      ],
      "metadata": {
        "id": "w1PSh0fPPT61"
      }
    },
    {
      "cell_type": "code",
      "source": [
        "%%bash\n",
        "cat > mochila.txt <<EOF\n",
        "var x1 binary;\n",
        "var x2 binary;\n",
        "var x3 binary;\n",
        "var x4 binary;\n",
        "var x5 binary;\n",
        "maximize z : 6*x1 + 6*x2  + 6*x3 + 10*x4 + 10*x5 ;\n",
        "subject to restriction : 6*x1 + 6*x2 +3*x3 +4*x4 + 2*x5 <=10;\n",
        "EOF"
      ],
      "metadata": {
        "id": "toezO2HYx2wa"
      },
      "execution_count": null,
      "outputs": []
    },
    {
      "cell_type": "code",
      "source": [
        "%%capture\n",
        "!sudo apt-get install glpk-utils\n",
        "!glpsol -m mochila.txt -o 1.sol"
      ],
      "metadata": {
        "id": "F88l4zkKwxW9"
      },
      "execution_count": null,
      "outputs": []
    },
    {
      "cell_type": "code",
      "source": [
        "!cat 1.sol"
      ],
      "metadata": {
        "colab": {
          "base_uri": "https://localhost:8080/"
        },
        "id": "Qg6p30ZhzOyP",
        "outputId": "ec5eea69-08fc-4668-bee6-b1d3b7dbb5e1"
      },
      "execution_count": null,
      "outputs": [
        {
          "output_type": "stream",
          "name": "stdout",
          "text": [
            "Problem:    mochila\n",
            "Rows:       2\n",
            "Columns:    5 (5 integer, 5 binary)\n",
            "Non-zeros:  10\n",
            "Status:     INTEGER OPTIMAL\n",
            "Objective:  z = 26 (MAXimum)\n",
            "\n",
            "   No.   Row name        Activity     Lower bound   Upper bound\n",
            "------ ------------    ------------- ------------- -------------\n",
            "     1 z                          26                             \n",
            "     2 restriction                 9                          10 \n",
            "\n",
            "   No. Column name       Activity     Lower bound   Upper bound\n",
            "------ ------------    ------------- ------------- -------------\n",
            "     1 x1           *              0             0             1 \n",
            "     2 x2           *              0             0             1 \n",
            "     3 x3           *              1             0             1 \n",
            "     4 x4           *              1             0             1 \n",
            "     5 x5           *              1             0             1 \n",
            "\n",
            "Integer feasibility conditions:\n",
            "\n",
            "KKT.PE: max.abs.err = 0.00e+00 on row 0\n",
            "        max.rel.err = 0.00e+00 on row 0\n",
            "        High quality\n",
            "\n",
            "KKT.PB: max.abs.err = 0.00e+00 on row 0\n",
            "        max.rel.err = 0.00e+00 on row 0\n",
            "        High quality\n",
            "\n",
            "End of output\n"
          ]
        }
      ]
    }
  ]
}