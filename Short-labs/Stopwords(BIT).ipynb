{
  "nbformat": 4,
  "nbformat_minor": 0,
  "metadata": {
    "colab": {
      "provenance": []
    },
    "kernelspec": {
      "name": "python3",
      "display_name": "Python 3"
    },
    "language_info": {
      "name": "python"
    }
  },
  "cells": [
    {
      "cell_type": "code",
      "source": [
        "#Iván Andrés Trujillo Abella\n",
        "#ivantrujillo1229@gmail.com\n",
        "\n",
        "def remove_stopwords(tweet, words):\n",
        "  clean_tweet = []\n",
        "  for word in tweet.split():\n",
        "    if word not in words:\n",
        "      clean_tweet.append(word)\n",
        "  return ' '.join(clean_tweet)"
      ],
      "metadata": {
        "id": "sJMG-tOkdBqi"
      },
      "execution_count": null,
      "outputs": []
    },
    {
      "cell_type": "code",
      "execution_count": null,
      "metadata": {
        "id": "R1R3HkPwau11"
      },
      "outputs": [],
      "source": [
        "tweet1 = ['la aplicacación se encuentra caída']\n",
        "tweet2 = ['el app está fuera de servicio']\n",
        "tweet3 = ['hahahaha el servicio es pésimo']\n",
        "tweet4 = ['esto no es lo que esperabamos jajaaj']\n",
        "tweet5 = ['ajajaja esto es muy importante']"
      ]
    },
    {
      "cell_type": "code",
      "source": [
        "data = [tweet1, tweet2, tweet3, tweet4, tweet5]"
      ],
      "metadata": {
        "id": "HuFy_66WbDft"
      },
      "execution_count": null,
      "outputs": []
    },
    {
      "cell_type": "code",
      "source": [
        "new_data = []\n",
        "for tweet in data:\n",
        "  new_data.append(tweet[0])"
      ],
      "metadata": {
        "id": "hmWJVeZlbOiQ"
      },
      "execution_count": null,
      "outputs": []
    },
    {
      "cell_type": "code",
      "source": [
        "# Tarea usar lambda y usar map con argumentos...."
      ],
      "metadata": {
        "id": "fQVUWVaddd6M"
      },
      "execution_count": null,
      "outputs": []
    },
    {
      "cell_type": "code",
      "source": [
        "words = ['la', 'los', 'de', 'es', 'más', 'el', 'en', 'se', 'o', 'lo' , 'ajajaja', 'hahahaha', 'jajaaj']\n",
        "new_data = [remove_stopwords(tweet, words) for tweet in new_data] # Tarea que es list comprehension!"
      ],
      "metadata": {
        "id": "FdNqkWvQchq0"
      },
      "execution_count": null,
      "outputs": []
    },
    {
      "cell_type": "code",
      "source": [
        "unique = []\n",
        "for tweet in new_data:\n",
        "  for word in tweet.split():\n",
        "    if word not in unique:\n",
        "      unique.append(word)"
      ],
      "metadata": {
        "id": "xApR4N8LhaPG"
      },
      "execution_count": null,
      "outputs": []
    },
    {
      "cell_type": "code",
      "source": [
        "# Naive...\n",
        "count =  {}\n",
        "for word in unique:\n",
        "  count[word] = 0\n",
        "  for element in ' '.join(new_data).split(' '):\n",
        "    if word == element:\n",
        "      count[word] = count[word] + 1"
      ],
      "metadata": {
        "id": "KRzvYbFLjV1R"
      },
      "execution_count": null,
      "outputs": []
    },
    {
      "cell_type": "code",
      "source": [
        "count"
      ],
      "metadata": {
        "colab": {
          "base_uri": "https://localhost:8080/"
        },
        "id": "JW8oGBUUlmaq",
        "outputId": "a865a309-0da1-4a9a-c7a2-1417cf20c44c"
      },
      "execution_count": null,
      "outputs": [
        {
          "output_type": "execute_result",
          "data": {
            "text/plain": [
              "{'aplicacación': 1,\n",
              " 'encuentra': 1,\n",
              " 'caída': 1,\n",
              " 'app': 1,\n",
              " 'está': 1,\n",
              " 'fuera': 1,\n",
              " 'servicio': 2,\n",
              " 'pésimo': 1,\n",
              " 'esto': 2,\n",
              " 'no': 1,\n",
              " 'que': 1,\n",
              " 'esperabamos': 1,\n",
              " 'muy': 1,\n",
              " 'importante': 1}"
            ]
          },
          "metadata": {},
          "execution_count": 11
        }
      ]
    }
  ]
}