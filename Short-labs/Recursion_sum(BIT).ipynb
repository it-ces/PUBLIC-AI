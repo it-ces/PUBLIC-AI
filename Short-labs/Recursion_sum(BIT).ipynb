{
  "nbformat": 4,
  "nbformat_minor": 0,
  "metadata": {
    "colab": {
      "provenance": []
    },
    "kernelspec": {
      "name": "python3",
      "display_name": "Python 3"
    },
    "language_info": {
      "name": "python"
    }
  },
  "cells": [
    {
      "cell_type": "code",
      "metadata": {
        "id": "wO-d_MwYvSqj"
      },
      "source": [
        "# Iván Andrés Trujillo Abella\n",
        "# ivantrujillo1229@gmail.com\n",
        "# Numbers\n",
        "def sum_to_n(n):\n",
        "  sum = 0\n",
        "  for x in range(1,n+1):\n",
        "    sum = sum + x\n",
        "  return sum\n",
        "\n",
        "def Sum_n(n):\n",
        "  return n*(n+1)/2\n",
        "\n",
        "def Sum_n_recursion(n):\n",
        "  if n == 1:\n",
        "    return 1\n",
        "  else:\n",
        "    return n + Sum_n_recursion(n-1)"
      ],
      "execution_count": null,
      "outputs": []
    },
    {
      "cell_type": "code",
      "metadata": {
        "colab": {
          "base_uri": "https://localhost:8080/"
        },
        "id": "s9LwevOyvTlH",
        "outputId": "0c7fec00-1fa1-43ef-c128-09b305ab18ed"
      },
      "source": [
        "print(sum_to_n(190), Sum_n(190), Sum_n_recursion(190))"
      ],
      "execution_count": null,
      "outputs": [
        {
          "output_type": "stream",
          "name": "stdout",
          "text": [
            "18145 18145.0 18145\n"
          ]
        }
      ]
    },
    {
      "cell_type": "code",
      "metadata": {
        "colab": {
          "base_uri": "https://localhost:8080/"
        },
        "id": "3WZchHHiwRhc",
        "outputId": "11b8e234-b73a-41c1-f86e-7c36f369945d"
      },
      "source": [
        "lista = [1,2,3,4,5,6,7,8,9,10]\n",
        "lista[1:]"
      ],
      "execution_count": null,
      "outputs": [
        {
          "output_type": "execute_result",
          "data": {
            "text/plain": [
              "[2, 3, 4, 5, 6, 7, 8, 9, 10]"
            ]
          },
          "metadata": {},
          "execution_count": 9
        }
      ]
    },
    {
      "cell_type": "code",
      "metadata": {
        "id": "7nbB4YNBz8N9"
      },
      "source": [
        "def sum_rlis(lista):\n",
        "  if len(lista)==0:\n",
        "    return 0\n",
        "  else:\n",
        "    return lista[0] + lista[1:]"
      ],
      "execution_count": null,
      "outputs": []
    },
    {
      "cell_type": "code",
      "metadata": {
        "id": "2VlL_q3ovU_B"
      },
      "source": [
        "sum_rlis(lista)"
      ],
      "execution_count": null,
      "outputs": []
    }
  ]
}