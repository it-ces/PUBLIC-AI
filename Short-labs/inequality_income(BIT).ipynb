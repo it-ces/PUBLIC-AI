{
  "nbformat": 4,
  "nbformat_minor": 0,
  "metadata": {
    "colab": {
      "provenance": []
    },
    "kernelspec": {
      "name": "python3",
      "display_name": "Python 3"
    },
    "language_info": {
      "name": "python"
    }
  },
  "cells": [
    {
      "cell_type": "code",
      "execution_count": null,
      "metadata": {
        "id": "ApQahc9LFa3Z"
      },
      "outputs": [],
      "source": [
        "import pandas as pd\n",
        "import matplotlib.pyplot as plt"
      ]
    },
    {
      "cell_type": "code",
      "source": [
        "df  = pd.read_csv(\"https://raw.githubusercontent.com/it-ces/Datasets/main/clusterdata.csv\")"
      ],
      "metadata": {
        "id": "FgkmpmbVF2Fn"
      },
      "execution_count": null,
      "outputs": []
    },
    {
      "cell_type": "code",
      "source": [
        "!ls # linux shell -> verificar los archivos..."
      ],
      "metadata": {
        "colab": {
          "base_uri": "https://localhost:8080/"
        },
        "id": "XPikiulIF-WS",
        "outputId": "7fe28b4e-30d7-425a-9dae-839daef86df4"
      },
      "execution_count": null,
      "outputs": [
        {
          "output_type": "stream",
          "name": "stdout",
          "text": [
            "anexo-2021-preliminar-PIB-total-por-departamento.xlsx  sample_data\n"
          ]
        }
      ]
    },
    {
      "cell_type": "code",
      "source": [
        "df = pd.read_excel(\"anexo-2021-preliminar-PIB-total-por-departamento.xlsx\",sheet_name='Cuadro 2', skiprows=9, nrows=34, usecols='A:S')"
      ],
      "metadata": {
        "id": "D6LCCWpAFi-m"
      },
      "execution_count": null,
      "outputs": []
    },
    {
      "cell_type": "code",
      "source": [
        "new_names = []\n",
        "for col in df.columns:\n",
        "  print(type(col))\n",
        "  if type(col) == int:\n",
        "    new_names.append('pib'+str(col))\n",
        "  else:\n",
        "    new_names.append(col)\n",
        "df.columns = new_names"
      ],
      "metadata": {
        "colab": {
          "base_uri": "https://localhost:8080/"
        },
        "id": "ogVMfN53G8Li",
        "outputId": "c0c4d712-8938-4f3c-a944-810d73bce8e3"
      },
      "execution_count": null,
      "outputs": [
        {
          "output_type": "stream",
          "name": "stdout",
          "text": [
            "<class 'str'>\n",
            "<class 'str'>\n",
            "<class 'int'>\n",
            "<class 'int'>\n",
            "<class 'int'>\n",
            "<class 'int'>\n",
            "<class 'int'>\n",
            "<class 'int'>\n",
            "<class 'int'>\n",
            "<class 'int'>\n",
            "<class 'int'>\n",
            "<class 'int'>\n",
            "<class 'int'>\n",
            "<class 'int'>\n",
            "<class 'int'>\n",
            "<class 'int'>\n",
            "<class 'int'>\n",
            "<class 'str'>\n",
            "<class 'str'>\n"
          ]
        }
      ]
    },
    {
      "cell_type": "code",
      "source": [
        "df.loc[0,'pib2005']"
      ],
      "metadata": {
        "colab": {
          "base_uri": "https://localhost:8080/"
        },
        "id": "cWez0_xeIFqe",
        "outputId": "fba08619-c53a-419f-ee3f-58928aab4b02"
      },
      "execution_count": null,
      "outputs": [
        {
          "output_type": "execute_result",
          "data": {
            "text/plain": [
              "514853.0"
            ]
          },
          "metadata": {},
          "execution_count": 61
        }
      ]
    },
    {
      "cell_type": "code",
      "source": [
        "df.columns"
      ],
      "metadata": {
        "colab": {
          "base_uri": "https://localhost:8080/"
        },
        "id": "kC4PuBJiHBes",
        "outputId": "56da46c8-f0c4-4caf-b0a0-7fb44ab7e9ef"
      },
      "execution_count": null,
      "outputs": [
        {
          "output_type": "execute_result",
          "data": {
            "text/plain": [
              "Index(['Código Departamento (DIVIPOLA)', 'DEPARTAMENTOS', '2005', '2006',\n",
              "       '2007', '2008', '2009', '2010', '2011', '2012', '2013', '2014', '2015',\n",
              "       '2016', '2017', '2018', '2019', '2020p', '2021pr'],\n",
              "      dtype='object')"
            ]
          },
          "metadata": {},
          "execution_count": 25
        }
      ]
    },
    {
      "cell_type": "code",
      "source": [
        "def epsilon(df, year):\n",
        "  return (df[year].max()- df[year].min()) / df[year].mean()"
      ],
      "metadata": {
        "id": "Vg_ewXCSGFc4"
      },
      "execution_count": null,
      "outputs": []
    },
    {
      "cell_type": "code",
      "source": [
        "epsilon(df,'pib2005')\n",
        "# SI yo quiera utilizar este indicador para comparar    # está acotado o no?"
      ],
      "metadata": {
        "colab": {
          "base_uri": "https://localhost:8080/"
        },
        "id": "AzMxXmoWG61M",
        "outputId": "dc2eb613-4bbf-47bd-c767-65704b9d4c7e"
      },
      "execution_count": null,
      "outputs": [
        {
          "output_type": "execute_result",
          "data": {
            "text/plain": [
              "16.94633367674745"
            ]
          },
          "metadata": {},
          "execution_count": 67
        }
      ]
    },
    {
      "cell_type": "code",
      "source": [
        "inequalities = [epsilon(df,'pib'+str(year)) for year in range(2005,2019)]\n",
        "plt.plot(range(2005,2019),inequalities)  # sigue presentandose una brecha entre el más rico y el más pobre....b"
      ],
      "metadata": {
        "colab": {
          "base_uri": "https://localhost:8080/",
          "height": 282
        },
        "id": "fKwwidaiOc3e",
        "outputId": "8909dc99-a00b-4b6f-89c7-2b906cea04be"
      },
      "execution_count": null,
      "outputs": [
        {
          "output_type": "execute_result",
          "data": {
            "text/plain": [
              "[<matplotlib.lines.Line2D at 0x7f8b1b05d750>]"
            ]
          },
          "metadata": {},
          "execution_count": 83
        },
        {
          "output_type": "display_data",
          "data": {
            "text/plain": [
              "<Figure size 432x288 with 1 Axes>"
            ],
            "image/png": "[encoded data removed]"
          },
          "metadata": {
            "needs_background": "light"
          }
        }
      ]
    },
    {
      "cell_type": "code",
      "source": [
        "def cv(df,year):\n",
        "  return df[year].std() / df[year].mean()"
      ],
      "metadata": {
        "id": "mpmVqYPcQ1fi"
      },
      "execution_count": null,
      "outputs": []
    },
    {
      "cell_type": "code",
      "source": [
        "cvs = [cv(df,'pib'+str(year)) for year in range(2005,2019)]  # list comprenhison\n",
        "plt.plot(range(2005,2019), cvs)"
      ],
      "metadata": {
        "colab": {
          "base_uri": "https://localhost:8080/",
          "height": 282
        },
        "id": "uSmVH7bUSupi",
        "outputId": "b616e60a-5ec8-49ce-d58c-70116dcf60e5"
      },
      "execution_count": null,
      "outputs": [
        {
          "output_type": "execute_result",
          "data": {
            "text/plain": [
              "[<matplotlib.lines.Line2D at 0x7f8b1afc5850>]"
            ]
          },
          "metadata": {},
          "execution_count": 86
        },
        {
          "output_type": "display_data",
          "data": {
            "text/plain": [
              "<Figure size 432x288 with 1 Axes>"
            ],
            "image/png": "[encoded data removed]"
          },
          "metadata": {
            "needs_background": "light"
          }
        }
      ]
    },
    {
      "cell_type": "code",
      "source": [],
      "metadata": {
        "id": "GUX7Qe6bXZWa"
      },
      "execution_count": null,
      "outputs": []
    },
    {
      "cell_type": "code",
      "source": [],
      "metadata": {
        "id": "0o-ReVvBXZsx"
      },
      "execution_count": null,
      "outputs": []
    },
    {
      "cell_type": "code",
      "source": [],
      "metadata": {
        "id": "Lf4VNMBVXZ0f"
      },
      "execution_count": null,
      "outputs": []
    },
    {
      "cell_type": "code",
      "source": [],
      "metadata": {
        "id": "8GAttP0mXZ6F"
      },
      "execution_count": null,
      "outputs": []
    },
    {
      "cell_type": "code",
      "source": [],
      "metadata": {
        "id": "bTt5KWgrXaAY"
      },
      "execution_count": null,
      "outputs": []
    },
    {
      "cell_type": "code",
      "source": [
        "import numpy as np\n",
        "income = np.array([10,11,22,99,120,340,800])"
      ],
      "metadata": {
        "id": "IK5D7a9RXaH4"
      },
      "execution_count": null,
      "outputs": []
    },
    {
      "cell_type": "code",
      "source": [
        "income.cumsum()"
      ],
      "metadata": {
        "id": "Y5VO7V5SYSQT",
        "outputId": "049102c4-9fb3-410d-cb6d-7336c73bdd22",
        "colab": {
          "base_uri": "https://localhost:8080/"
        }
      },
      "execution_count": null,
      "outputs": [
        {
          "output_type": "execute_result",
          "data": {
            "text/plain": [
              "array([  10,   21,   43,  142,  262,  602, 1402])"
            ]
          },
          "metadata": {},
          "execution_count": 98
        }
      ]
    },
    {
      "cell_type": "code",
      "source": [
        "# estoy sumando acumulativamente es decir que estoy diciendo que en la i-th posición estan los ingresos y1+y2+y3...+yi"
      ],
      "metadata": {
        "id": "vOHXNh_xYGI-"
      },
      "execution_count": null,
      "outputs": []
    }
  ]
}