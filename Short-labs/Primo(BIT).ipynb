{
  "nbformat": 4,
  "nbformat_minor": 0,
  "metadata": {
    "colab": {
      "provenance": []
    },
    "kernelspec": {
      "name": "python3",
      "display_name": "Python 3"
    },
    "language_info": {
      "name": "python"
    }
  },
  "cells": [
    {
      "cell_type": "code",
      "source": [
        "# Iván Andrés Trujillo Abella\n",
        "# ivantrujillo1229@gmail.com"
      ],
      "metadata": {
        "id": "MDcCSfSdMMwK"
      },
      "execution_count": null,
      "outputs": []
    },
    {
      "cell_type": "markdown",
      "source": [
        "# que es un número primo?\n",
        "\n",
        "\n",
        "aquellos números que solamente son divisible por el uno y ellos mismos..."
      ],
      "metadata": {
        "id": "72QdXVC276YI"
      }
    },
    {
      "cell_type": "code",
      "source": [
        "N = 745\n",
        "counter = 0\n",
        "flag = True\n",
        "f = 2\n",
        "while flag==True and f<N:\n",
        "  if N%f==0:\n",
        "    flag = False\n",
        "  f = f + 1\n",
        "  counter = counter + 1\n",
        "print(flag, counter)"
      ],
      "metadata": {
        "colab": {
          "base_uri": "https://localhost:8080/"
        },
        "id": "9YozyGA68EtY",
        "outputId": "dda33478-f883-44ac-9ac1-300aaefeaf95"
      },
      "execution_count": 5,
      "outputs": [
        {
          "output_type": "stream",
          "name": "stdout",
          "text": [
            "False 4\n"
          ]
        }
      ]
    },
    {
      "cell_type": "code",
      "source": [
        "N = 745\n",
        "counter = 0\n",
        "flag = True\n",
        "for f in range(2,745):\n",
        "  if N%f==0:\n",
        "    flag = False\n",
        "  counter = counter + 1\n",
        "print(counter,flag)"
      ],
      "metadata": {
        "colab": {
          "base_uri": "https://localhost:8080/"
        },
        "id": "S1AteIJGAdVh",
        "outputId": "49c22c17-45cc-4fee-ae23-1a5f659c573e"
      },
      "execution_count": 4,
      "outputs": [
        {
          "output_type": "stream",
          "name": "stdout",
          "text": [
            "743 False\n"
          ]
        }
      ]
    }
  ]
}