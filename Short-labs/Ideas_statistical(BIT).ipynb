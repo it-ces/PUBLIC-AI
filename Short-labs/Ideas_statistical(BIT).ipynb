{
  "nbformat": 4,
  "nbformat_minor": 0,
  "metadata": {
    "colab": {
      "provenance": []
    },
    "kernelspec": {
      "name": "python3",
      "display_name": "Python 3"
    },
    "language_info": {
      "name": "python"
    }
  },
  "cells": [
    {
      "cell_type": "code",
      "execution_count": null,
      "metadata": {
        "id": "_S6Pab2w0Rhz"
      },
      "outputs": [],
      "source": [
        "import pandas as pd\n",
        "import numpy as np\n",
        "import matplotlib.pyplot as plt\n",
        "from scipy.stats import norm"
      ]
    },
    {
      "cell_type": "code",
      "source": [
        "population = [1,2,3,4,5,6]\n",
        "df = pd.DataFrame(population)\n",
        "trials=2200 #the number of times realized the experiments\n",
        "n = 2\n",
        "lista=[df[0].sample(n=n, replace=True).sum() for x in range(trials)]\n",
        "df=pd.DataFrame(lista)\n",
        "print(df[0].value_counts()/trials)\n",
        "tab = df[0].value_counts()/trials\n",
        "tab = tab.sort_index()\n",
        "tab.plot(kind='bar', color='grey')"
      ],
      "metadata": {
        "colab": {
          "base_uri": "https://localhost:8080/",
          "height": 494
        },
        "id": "Ab8-y0vd1aJi",
        "outputId": "85cb3227-de58-4106-cc46-21a436bbfb35"
      },
      "execution_count": null,
      "outputs": [
        {
          "output_type": "stream",
          "name": "stdout",
          "text": [
            "7     0.172273\n",
            "8     0.138636\n",
            "6     0.133636\n",
            "9     0.119091\n",
            "5     0.105455\n",
            "4     0.083182\n",
            "10    0.080455\n",
            "3     0.053182\n",
            "11    0.050455\n",
            "12    0.032727\n",
            "2     0.030909\n",
            "Name: 0, dtype: float64\n"
          ]
        },
        {
          "output_type": "execute_result",
          "data": {
            "text/plain": [
              "<matplotlib.axes._subplots.AxesSubplot at 0x7fd71dabfd50>"
            ]
          },
          "metadata": {},
          "execution_count": 2
        },
        {
          "output_type": "display_data",
          "data": {
            "text/plain": [
              "<Figure size 432x288 with 1 Axes>"
            ],
            "image/png": "[encoded data removed]"
          },
          "metadata": {
            "needs_background": "light"
          }
        }
      ]
    },
    {
      "cell_type": "code",
      "source": [
        "pop = [0,1]\n",
        "pop = pd.DataFrame(pop)\n",
        "regular = []\n",
        "n = 1200\n",
        "results = [pop[0].sample(n=n, replace=True).sum()/n for _ in range(900)]\n",
        "plt.hist(results)"
      ],
      "metadata": {
        "colab": {
          "base_uri": "https://localhost:8080/",
          "height": 352
        },
        "id": "DeEIAIrg7KKp",
        "outputId": "d243b6d1-d5e0-4257-e4cf-74f4d0c91f83"
      },
      "execution_count": null,
      "outputs": [
        {
          "output_type": "execute_result",
          "data": {
            "text/plain": [
              "(array([  4.,  18.,  52., 166., 211., 196., 151.,  78.,  23.,   1.]),\n",
              " array([0.45333333, 0.46275   , 0.47216667, 0.48158333, 0.491     ,\n",
              "        0.50041667, 0.50983333, 0.51925   , 0.52866667, 0.53808333,\n",
              "        0.5475    ]),\n",
              " <a list of 10 Patch objects>)"
            ]
          },
          "metadata": {},
          "execution_count": 70
        },
        {
          "output_type": "display_data",
          "data": {
            "text/plain": [
              "<Figure size 432x288 with 1 Axes>"
            ],
            "image/png": "[encoded data removed]"
          },
          "metadata": {
            "needs_background": "light"
          }
        }
      ]
    },
    {
      "cell_type": "markdown",
      "source": [
        "  # TAREA: AVERIGUAR SOBRE LA DISTRIBUCIÓN MUESTRAL DE LA MEDIA................................\n",
        "  "
      ],
      "metadata": {
        "id": "mOezrQKNE5Oa"
      }
    },
    {
      "cell_type": "code",
      "source": [
        "def shebysev(k):\n",
        "  return 1 - (1/k**2)"
      ],
      "metadata": {
        "id": "H0MOxS1GFGab"
      },
      "execution_count": null,
      "outputs": []
    },
    {
      "cell_type": "code",
      "source": [
        "probs = [shebysev(k) for k in  range(1,12)]\n",
        "\n",
        "# Metodología\n",
        "# Valores atípcios y datos faltantes\n",
        "# Para eliminar posibles atipicos utilizamos el teorema de shebyshev cuando k.\n",
        "# y para los valores se inputó o se eliminó..................."
      ],
      "metadata": {
        "id": "3HdO--NDRQPV"
      },
      "execution_count": null,
      "outputs": []
    },
    {
      "cell_type": "code",
      "source": [
        "print(np.arange(1,100,15))\n",
        "\n",
        "print(np.linspace(1,100,15))"
      ],
      "metadata": {
        "colab": {
          "base_uri": "https://localhost:8080/"
        },
        "id": "4lKK4QpaTHFi",
        "outputId": "3110346b-d450-4c50-853d-7729bef55381"
      },
      "execution_count": null,
      "outputs": [
        {
          "output_type": "stream",
          "name": "stdout",
          "text": [
            "[ 1 16 31 46 61 76 91]\n",
            "[  1.           8.07142857  15.14285714  22.21428571  29.28571429\n",
            "  36.35714286  43.42857143  50.5         57.57142857  64.64285714\n",
            "  71.71428571  78.78571429  85.85714286  92.92857143 100.        ]\n"
          ]
        }
      ]
    },
    {
      "cell_type": "code",
      "source": [
        "data=np.arange(-5,5,0.01)  ## Create the sequence."
      ],
      "metadata": {
        "id": "vTcgNLSVTnBj"
      },
      "execution_count": null,
      "outputs": []
    },
    {
      "cell_type": "code",
      "source": [
        "df=pd.DataFrame(data,columns=[\"x\"])"
      ],
      "metadata": {
        "id": "H9EUnAbbUZgE"
      },
      "execution_count": null,
      "outputs": []
    },
    {
      "cell_type": "code",
      "source": [
        "mean=0\n",
        "sd=1"
      ],
      "metadata": {
        "id": "SP1QPII9Ur_5"
      },
      "execution_count": null,
      "outputs": []
    },
    {
      "cell_type": "code",
      "source": [
        "df[\"pdf\"]=norm.pdf(df[\"x\"],mean,sd)\n",
        "df[\"cdf\"]=norm.cdf(df[\"x\"],mean,sd)"
      ],
      "metadata": {
        "id": "6f4G0tfuUyyN"
      },
      "execution_count": null,
      "outputs": []
    },
    {
      "cell_type": "code",
      "source": [
        "df"
      ],
      "metadata": {
        "colab": {
          "base_uri": "https://localhost:8080/",
          "height": 424
        },
        "id": "-rO-05bAU5By",
        "outputId": "d2f71468-ede1-4a05-86c5-deab90f19a8f"
      },
      "execution_count": null,
      "outputs": [
        {
          "output_type": "execute_result",
          "data": {
            "text/plain": [
              "        x       pdf           cdf\n",
              "0   -5.00  0.000001  2.866516e-07\n",
              "1   -4.99  0.000002  3.018965e-07\n",
              "2   -4.98  0.000002  3.179214e-07\n",
              "3   -4.97  0.000002  3.347645e-07\n",
              "4   -4.96  0.000002  3.524659e-07\n",
              "..    ...       ...           ...\n",
              "995  4.95  0.000002  9.999996e-01\n",
              "996  4.96  0.000002  9.999996e-01\n",
              "997  4.97  0.000002  9.999997e-01\n",
              "998  4.98  0.000002  9.999997e-01\n",
              "999  4.99  0.000002  9.999997e-01\n",
              "\n",
              "[1000 rows x 3 columns]"
            ],
            "text/html": [
              "\n",
              "  <div id=\"df-e898bebf-0e3d-4430-a812-f1f994fa9009\">\n",
              "    <div class=\"colab-df-container\">\n",
              "      <div>\n",
              "<style scoped>\n",
              "    .dataframe tbody tr th:only-of-type {\n",
              "        vertical-align: middle;\n",
              "    }\n",
              "\n",
              "    .dataframe tbody tr th {\n",
              "        vertical-align: top;\n",
              "    }\n",
              "\n",
              "    .dataframe thead th {\n",
              "        text-align: right;\n",
              "    }\n",
              "</style>\n",
              "<table border=\"1\" class=\"dataframe\">\n",
              "  <thead>\n",
              "    <tr style=\"text-align: right;\">\n",
              "      <th></th>\n",
              "      <th>x</th>\n",
              "      <th>pdf</th>\n",
              "      <th>cdf</th>\n",
              "    </tr>\n",
              "  </thead>\n",
              "  <tbody>\n",
              "    <tr>\n",
              "      <th>0</th>\n",
              "      <td>-5.00</td>\n",
              "      <td>0.000001</td>\n",
              "      <td>2.866516e-07</td>\n",
              "    </tr>\n",
              "    <tr>\n",
              "      <th>1</th>\n",
              "      <td>-4.99</td>\n",
              "      <td>0.000002</td>\n",
              "      <td>3.018965e-07</td>\n",
              "    </tr>\n",
              "    <tr>\n",
              "      <th>2</th>\n",
              "      <td>-4.98</td>\n",
              "      <td>0.000002</td>\n",
              "      <td>3.179214e-07</td>\n",
              "    </tr>\n",
              "    <tr>\n",
              "      <th>3</th>\n",
              "      <td>-4.97</td>\n",
              "      <td>0.000002</td>\n",
              "      <td>3.347645e-07</td>\n",
              "    </tr>\n",
              "    <tr>\n",
              "      <th>4</th>\n",
              "      <td>-4.96</td>\n",
              "      <td>0.000002</td>\n",
              "      <td>3.524659e-07</td>\n",
              "    </tr>\n",
              "    <tr>\n",
              "      <th>...</th>\n",
              "      <td>...</td>\n",
              "      <td>...</td>\n",
              "      <td>...</td>\n",
              "    </tr>\n",
              "    <tr>\n",
              "      <th>995</th>\n",
              "      <td>4.95</td>\n",
              "      <td>0.000002</td>\n",
              "      <td>9.999996e-01</td>\n",
              "    </tr>\n",
              "    <tr>\n",
              "      <th>996</th>\n",
              "      <td>4.96</td>\n",
              "      <td>0.000002</td>\n",
              "      <td>9.999996e-01</td>\n",
              "    </tr>\n",
              "    <tr>\n",
              "      <th>997</th>\n",
              "      <td>4.97</td>\n",
              "      <td>0.000002</td>\n",
              "      <td>9.999997e-01</td>\n",
              "    </tr>\n",
              "    <tr>\n",
              "      <th>998</th>\n",
              "      <td>4.98</td>\n",
              "      <td>0.000002</td>\n",
              "      <td>9.999997e-01</td>\n",
              "    </tr>\n",
              "    <tr>\n",
              "      <th>999</th>\n",
              "      <td>4.99</td>\n",
              "      <td>0.000002</td>\n",
              "      <td>9.999997e-01</td>\n",
              "    </tr>\n",
              "  </tbody>\n",
              "</table>\n",
              "<p>1000 rows × 3 columns</p>\n",
              "</div>\n",
              "      <button class=\"colab-df-convert\" onclick=\"convertToInteractive('df-e898bebf-0e3d-4430-a812-f1f994fa9009')\"\n",
              "              title=\"Convert this dataframe to an interactive table.\"\n",
              "              style=\"display:none;\">\n",
              "        \n",
              "  <svg xmlns=\"http://www.w3.org/2000/svg\" height=\"24px\"viewBox=\"0 0 24 24\"\n",
              "       width=\"24px\">\n",
              "    <path d=\"M0 0h24v24H0V0z\" fill=\"none\"/>\n",
              "    <path d=\"M18.56 5.44l.94 2.06.94-2.06 2.06-.94-2.06-.94-.94-2.06-.94 2.06-2.06.94zm-11 1L8.5 8.5l.94-2.06 2.06-.94-2.06-.94L8.5 2.5l-.94 2.06-2.06.94zm10 10l.94 2.06.94-2.06 2.06-.94-2.06-.94-.94-2.06-.94 2.06-2.06.94z\"/><path d=\"M17.41 7.96l-1.37-1.37c-.4-.4-.92-.59-1.43-.59-.52 0-1.04.2-1.43.59L10.3 9.45l-7.72 7.72c-.78.78-.78 2.05 0 2.83L4 21.41c.39.39.9.59 1.41.59.51 0 1.02-.2 1.41-.59l7.78-7.78 2.81-2.81c.8-.78.8-2.07 0-2.86zM5.41 20L4 18.59l7.72-7.72 1.47 1.35L5.41 20z\"/>\n",
              "  </svg>\n",
              "      </button>\n",
              "      \n",
              "  <style>\n",
              "    .colab-df-container {\n",
              "      display:flex;\n",
              "      flex-wrap:wrap;\n",
              "      gap: 12px;\n",
              "    }\n",
              "\n",
              "    .colab-df-convert {\n",
              "      background-color: #E8F0FE;\n",
              "      border: none;\n",
              "      border-radius: 50%;\n",
              "      cursor: pointer;\n",
              "      display: none;\n",
              "      fill: #1967D2;\n",
              "      height: 32px;\n",
              "      padding: 0 0 0 0;\n",
              "      width: 32px;\n",
              "    }\n",
              "\n",
              "    .colab-df-convert:hover {\n",
              "      background-color: #E2EBFA;\n",
              "      box-shadow: 0px 1px 2px rgba(60, 64, 67, 0.3), 0px 1px 3px 1px rgba(60, 64, 67, 0.15);\n",
              "      fill: #174EA6;\n",
              "    }\n",
              "\n",
              "    [theme=dark] .colab-df-convert {\n",
              "      background-color: #3B4455;\n",
              "      fill: #D2E3FC;\n",
              "    }\n",
              "\n",
              "    [theme=dark] .colab-df-convert:hover {\n",
              "      background-color: #434B5C;\n",
              "      box-shadow: 0px 1px 3px 1px rgba(0, 0, 0, 0.15);\n",
              "      filter: drop-shadow(0px 1px 2px rgba(0, 0, 0, 0.3));\n",
              "      fill: #FFFFFF;\n",
              "    }\n",
              "  </style>\n",
              "\n",
              "      <script>\n",
              "        const buttonEl =\n",
              "          document.querySelector('#df-e898bebf-0e3d-4430-a812-f1f994fa9009 button.colab-df-convert');\n",
              "        buttonEl.style.display =\n",
              "          google.colab.kernel.accessAllowed ? 'block' : 'none';\n",
              "\n",
              "        async function convertToInteractive(key) {\n",
              "          const element = document.querySelector('#df-e898bebf-0e3d-4430-a812-f1f994fa9009');\n",
              "          const dataTable =\n",
              "            await google.colab.kernel.invokeFunction('convertToInteractive',\n",
              "                                                     [key], {});\n",
              "          if (!dataTable) return;\n",
              "\n",
              "          const docLinkHtml = 'Like what you see? Visit the ' +\n",
              "            '<a target=\"_blank\" href=https://colab.research.google.com/notebooks/data_table.ipynb>data table notebook</a>'\n",
              "            + ' to learn more about interactive tables.';\n",
              "          element.innerHTML = '';\n",
              "          dataTable['output_type'] = 'display_data';\n",
              "          await google.colab.output.renderOutput(dataTable, element);\n",
              "          const docLink = document.createElement('div');\n",
              "          docLink.innerHTML = docLinkHtml;\n",
              "          element.appendChild(docLink);\n",
              "        }\n",
              "      </script>\n",
              "    </div>\n",
              "  </div>\n",
              "  "
            ]
          },
          "metadata": {},
          "execution_count": 100
        }
      ]
    },
    {
      "cell_type": "code",
      "source": [
        "plt.plot(\"x\", \"pdf\", data=df) ## observe the order (x,y) it is normal in math.\n"
      ],
      "metadata": {
        "colab": {
          "base_uri": "https://localhost:8080/",
          "height": 282
        },
        "id": "CCeiPjyeU8IG",
        "outputId": "132544b9-a6d0-4333-a648-40687f48ab89"
      },
      "execution_count": null,
      "outputs": [
        {
          "output_type": "execute_result",
          "data": {
            "text/plain": [
              "[<matplotlib.lines.Line2D at 0x7fd71812a3d0>]"
            ]
          },
          "metadata": {},
          "execution_count": 101
        },
        {
          "output_type": "display_data",
          "data": {
            "text/plain": [
              "<Figure size 432x288 with 1 Axes>"
            ],
            "image/png": "[encoded data removed]"
          },
          "metadata": {
            "needs_background": "light"
          }
        }
      ]
    },
    {
      "cell_type": "code",
      "source": [
        "plt.plot('x','cdf', data=df)"
      ],
      "metadata": {
        "colab": {
          "base_uri": "https://localhost:8080/",
          "height": 282
        },
        "id": "lh3wB8lPVA3Y",
        "outputId": "ba4da077-a511-4f93-b570-d9ce7b4c6bb7"
      },
      "execution_count": null,
      "outputs": [
        {
          "output_type": "execute_result",
          "data": {
            "text/plain": [
              "[<matplotlib.lines.Line2D at 0x7fd717c442d0>]"
            ]
          },
          "metadata": {},
          "execution_count": 103
        },
        {
          "output_type": "display_data",
          "data": {
            "text/plain": [
              "<Figure size 432x288 with 1 Axes>"
            ],
            "image/png": "[encoded data removed]"
          },
          "metadata": {
            "needs_background": "light"
          }
        }
      ]
    }
  ]
}