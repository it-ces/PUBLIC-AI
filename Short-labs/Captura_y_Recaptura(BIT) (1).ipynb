{
  "nbformat": 4,
  "nbformat_minor": 0,
  "metadata": {
    "colab": {
      "provenance": []
    },
    "kernelspec": {
      "name": "python3",
      "display_name": "Python 3"
    },
    "language_info": {
      "name": "python"
    }
  },
  "cells": [
    {
      "cell_type": "code",
      "source": [
        "# Iván Andrés Trujillo Abella\n",
        "# ivantrujillo1229@gmail.com"
      ],
      "metadata": {
        "id": "fD4KMWB6TXea"
      },
      "execution_count": null,
      "outputs": []
    },
    {
      "cell_type": "markdown",
      "source": [
        "\\begin{equation}\n",
        "\\frac{n}{N} = \\frac{counter}{k}\n",
        "\\end{equation}\n",
        "\n",
        "\n",
        "\\begin{equation}\n",
        "N = \\frac{k * n}{counter}\n",
        "\\end{equation}\n",
        "\n",
        "where $counter$ is individuales recaptured that has been captured previously.\n",
        "$n$ are the captured, and $k$ the recaptured.\n",
        "the estimation of $N$ is therefore\n",
        "\n"
      ],
      "metadata": {
        "id": "jNbKLooHJ_a2"
      }
    },
    {
      "cell_type": "code",
      "source": [
        "import numpy as np\n",
        "# n capturaed\n",
        "# k recaptured\n",
        "def N_estimation(n,k):\n",
        "  # N inside  = 1000\n",
        "  N = 1239\n",
        "  population = [x for x in range(N)]\n",
        "  sample_size = n\n",
        "  captured = np.random.choice(population, size = n)\n",
        "  recaptured = np.random.choice(population, size = k)\n",
        "  counter = 0\n",
        "  for x in recaptured:\n",
        "    if x in captured:\n",
        "      counter +=1\n",
        "  N_hat = (n*k) / counter\n",
        "  return N_hat"
      ],
      "metadata": {
        "id": "YL1wo8nYe-Gv"
      },
      "execution_count": null,
      "outputs": []
    },
    {
      "cell_type": "code",
      "source": [
        "print('real N = ',1239)\n",
        "N_estimation(250,250)"
      ],
      "metadata": {
        "colab": {
          "base_uri": "https://localhost:8080/"
        },
        "id": "eJ6KvX4JHQdj",
        "outputId": "ea158eec-bd2a-47b1-c69a-f98be880b708"
      },
      "execution_count": null,
      "outputs": [
        {
          "output_type": "stream",
          "name": "stdout",
          "text": [
            "real N =  1239\n"
          ]
        },
        {
          "output_type": "execute_result",
          "data": {
            "text/plain": [
              "1275.5102040816328"
            ]
          },
          "metadata": {},
          "execution_count": 3
        }
      ]
    },
    {
      "cell_type": "markdown",
      "source": [
        "\\begin{equation}\n",
        "N = \\frac{\n",
        "( primera visita * segunda visita ) }{ capturados en la primera visita que volvieron a ser capturados en la segunda}\n",
        "\\end{equation}"
      ],
      "metadata": {
        "id": "m6e_zaskKl4r"
      }
    },
    {
      "cell_type": "code",
      "source": [
        "N_samples = [N_estimation(250,250) for _ in range(8000)]"
      ],
      "metadata": {
        "id": "NqHjZDjeeysZ"
      },
      "execution_count": null,
      "outputs": []
    },
    {
      "cell_type": "code",
      "source": [
        "N_estimation(120,120)"
      ],
      "metadata": {
        "colab": {
          "base_uri": "https://localhost:8080/"
        },
        "id": "pth9UQbgcbs-",
        "outputId": "e327c85b-c5fa-484f-84d4-20aa2b7166c6"
      },
      "execution_count": null,
      "outputs": [
        {
          "output_type": "execute_result",
          "data": {
            "text/plain": [
              "1309.090909090909"
            ]
          },
          "metadata": {},
          "execution_count": 42
        }
      ]
    },
    {
      "cell_type": "code",
      "source": [
        "import matplotlib.pyplot as plt"
      ],
      "metadata": {
        "id": "6d8MRmZ_e9ol"
      },
      "execution_count": null,
      "outputs": []
    },
    {
      "cell_type": "code",
      "source": [
        "plt.hist(N_samples)\n",
        "sum(N_samples)/len(N_samples)"
      ],
      "metadata": {
        "colab": {
          "base_uri": "https://localhost:8080/",
          "height": 283
        },
        "id": "XzhIHR9mfMSJ",
        "outputId": "fa8e9685-f5a2-4d48-93c9-fea193fcddaa"
      },
      "execution_count": null,
      "outputs": [
        {
          "output_type": "execute_result",
          "data": {
            "text/plain": [
              "1397.9749298916856"
            ]
          },
          "metadata": {},
          "execution_count": 20
        },
        {
          "output_type": "display_data",
          "data": {
            "text/plain": [
              "<Figure size 432x288 with 1 Axes>"
            ],
            "image/png": "[encoded data removed]"
          },
          "metadata": {
            "needs_background": "light"
          }
        }
      ]
    },
    {
      "cell_type": "code",
      "source": [],
      "metadata": {
        "id": "09NHvEAjfg85"
      },
      "execution_count": null,
      "outputs": []
    }
  ]
}