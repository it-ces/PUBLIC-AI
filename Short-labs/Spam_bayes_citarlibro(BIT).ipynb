{
  "nbformat": 4,
  "nbformat_minor": 0,
  "metadata": {
    "colab": {
      "provenance": []
    },
    "kernelspec": {
      "name": "python3",
      "display_name": "Python 3"
    },
    "language_info": {
      "name": "python"
    }
  },
  "cells": [
    {
      "cell_type": "code",
      "execution_count": null,
      "metadata": {
        "id": "-8GYRCsficmO"
      },
      "outputs": [],
      "source": [
        "def lista_palabras(texto):\n",
        "  palabras = []\n",
        "  palabras_temp = texto.lower().split()\n",
        "  for p in palabras_temp:\n",
        "    if p not in palabras and len(p)>2:\n",
        "      palabras.append(p)\n",
        "  return palabras\n",
        "\n",
        "def entrenar(textos):\n",
        "  c_palabras = {}\n",
        "  c_categorias = {}\n",
        "  c_textos = 0\n",
        "  c_tot_palabras = 0\n",
        "  # add dict to categories\n",
        "  for t in textos:\n",
        "    c_textos +=1\n",
        "    if t[1] not in c_categorias:\n",
        "      c_categorias[t[1]]=1\n",
        "    else:\n",
        "      c_categorias[t[1]]+=1\n",
        "  for t in textos:\n",
        "    palabras = lista_palabras(t[0])\n",
        "    for p in palabras:\n",
        "      if p not in c_palabras:\n",
        "        c_tot_palabras = c_tot_palabras + 1\n",
        "        c_palabras[p]={}\n",
        "        for c in c_categorias:\n",
        "          c_palabras[p][c]=0\n",
        "    c_palabras[p][t[1]] +=1\n",
        "\n",
        "  return(c_palabras,c_categorias, c_textos, c_tot_palabras)\n",
        "\n",
        "def clasificar(texto,c_palabras, c_categorias, c_textos, c_tot_palabras):\n",
        "  categoria =\"\"\n",
        "  prob_categoria = 0\n",
        "  for c in c_categorias:\n",
        "    #Prob of c\n",
        "    prob_c = float(c_categorias[c])/float(c_textos)\n",
        "    palabras = lista_palabras(texto)\n",
        "    prob_total_c = prob_c\n",
        "    for p in palabras:\n",
        "      #Prob of word\n",
        "      prob_p = float(c_palabras[p][c])/float(c_tot_palabras)\n",
        "      # conditional prob p(c|word)\n",
        "      prob_cond = prob_p / prob_c\n",
        "      # conditional prob(word|c)\n",
        "      prob = (prob_cond*prob_p)/prob_c\n",
        "      prob_total_c = prob_total_c*prob\n",
        "\n",
        "    if prob_categoria < prob_total_c:\n",
        "      categoria = c\n",
        "      prob_categoria = prob_total_c\n",
        "  return (categoria,prob_categoria)"
      ]
    },
    {
      "cell_type": "code",
      "source": [
        "if __name__ == \"__main__\":\n",
        "  textos = [\n",
        "      [\"viagra a buen precio\", \"spam\"],\n",
        "      [\"Quedamos mañana lunes para ir al cine\",\"ham\"],\n",
        "      [\"Replicas de relojes y online viagra a precios de risa\",\"spam\"],\n",
        "      [\"Disponga de sus prodcutos farmaceuticos en 24 horas\",\"ham\"]]\n",
        "  p,c,t,tp = entrenar(textos)\n",
        "  print(clasificar(\"viagra online\", p,c,t,tp))"
      ],
      "metadata": {
        "colab": {
          "base_uri": "https://localhost:8080/"
        },
        "id": "LyWtunVdsdhS",
        "outputId": "c6d92873-cb83-4504-a3fc-8e8adc684770"
      },
      "execution_count": null,
      "outputs": [
        {
          "output_type": "stream",
          "name": "stdout",
          "text": [
            "('', 0)\n"
          ]
        }
      ]
    }
  ]
}