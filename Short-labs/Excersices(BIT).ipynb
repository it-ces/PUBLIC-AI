{
  "nbformat": 4,
  "nbformat_minor": 0,
  "metadata": {
    "colab": {
      "provenance": []
    },
    "kernelspec": {
      "name": "python3",
      "display_name": "Python 3"
    },
    "language_info": {
      "name": "python"
    }
  },
  "cells": [
    {
      "cell_type": "code",
      "execution_count": null,
      "metadata": {
        "colab": {
          "base_uri": "https://localhost:8080/"
        },
        "id": "bunmGjysYuhE",
        "outputId": "7c582679-3502-47bd-dc43-763141eb46f2"
      },
      "outputs": [
        {
          "output_type": "stream",
          "name": "stdout",
          "text": [
            "1 1\n",
            "2 4\n",
            "3 9\n",
            "4 16\n",
            "5 25\n",
            "6 36\n",
            "7 49\n",
            "8 64\n",
            "9 81\n",
            "10 100\n"
          ]
        }
      ],
      "source": [
        "# Punto 1\n",
        "for x in range(1,11):\n",
        "  print(x,x**2)"
      ]
    },
    {
      "cell_type": "code",
      "source": [
        "# Punto 2\n",
        "for x in range(3):\n",
        "  for y in range(3):\n",
        "    print(x,y)"
      ],
      "metadata": {
        "colab": {
          "base_uri": "https://localhost:8080/"
        },
        "id": "lCGZzzt3ZOz1",
        "outputId": "79dd94e8-142e-44a4-c6da-56fd1fe85f49"
      },
      "execution_count": null,
      "outputs": [
        {
          "output_type": "stream",
          "name": "stdout",
          "text": [
            "0 0\n",
            "0 1\n",
            "0 2\n",
            "1 0\n",
            "1 1\n",
            "1 2\n",
            "2 0\n",
            "2 1\n",
            "2 2\n"
          ]
        }
      ]
    },
    {
      "cell_type": "code",
      "source": [
        "# Punto 3..\n",
        "base = {'names':['Ernesto','Arley', 'Carlos'],'last_name':['Pérez','Rodríguez','Castaño']}\n",
        "for i in range(len(base['names'])):\n",
        "  string  = ''\n",
        "  for j in base:\n",
        "    string += (base[j][i]) + ' '\n",
        "  print(string)"
      ],
      "metadata": {
        "colab": {
          "base_uri": "https://localhost:8080/"
        },
        "id": "DS4RePrjZ0W7",
        "outputId": "e2fb6a5b-e689-428b-c72c-4248001f88c5"
      },
      "execution_count": null,
      "outputs": [
        {
          "output_type": "stream",
          "name": "stdout",
          "text": [
            "Ernesto Pérez \n",
            "Arley Rodríguez \n",
            "Carlos Castaño \n"
          ]
        }
      ]
    },
    {
      "cell_type": "code",
      "source": [
        "# Punto 4\n",
        "nombres = ['Mario', 'Mariana', 'Gustavo', 'Francisco']\n",
        "for item in nombres:\n",
        "  letters = 0\n",
        "  for words in item:\n",
        "    letters +=1\n",
        "  print('el nombere',item, 'tiene',letters, 'caracteres')"
      ],
      "metadata": {
        "colab": {
          "base_uri": "https://localhost:8080/"
        },
        "id": "gN-BGtzYb_Pt",
        "outputId": "8807ab51-b697-437a-f112-efd4ef884d02"
      },
      "execution_count": null,
      "outputs": [
        {
          "output_type": "stream",
          "name": "stdout",
          "text": [
            "el nombere Mario tiene 5 caracteres\n",
            "el nombere Mariana tiene 7 caracteres\n",
            "el nombere Gustavo tiene 7 caracteres\n",
            "el nombere Francisco tiene 9 caracteres\n"
          ]
        }
      ]
    },
    {
      "cell_type": "code",
      "source": [
        "# Punto 5\n",
        "all = 'Somos lo que hacemos de forma repetida. La excelencia, entonces, no es un acto, sino un hábito'\n",
        "word = ''\n",
        "symbol = [' ','.']\n",
        "palabra = []\n",
        "for x in all:\n",
        "  if x in symbol and len(word)>1:\n",
        "    palabra.append(word)\n",
        "    word = ''\n",
        "  else:\n",
        "    word = word + x\n",
        "palabra.append(word)\n",
        "for j in range(len(palabra)):\n",
        "  print(\"la palabra\", '<',palabra[j],'>', 'se encuentra en la posición', j)"
      ],
      "metadata": {
        "colab": {
          "base_uri": "https://localhost:8080/"
        },
        "id": "B_vt2iy7lCz3",
        "outputId": "ecd55b6d-db6b-4b8a-f382-a8f1d7d8c5d7"
      },
      "execution_count": null,
      "outputs": [
        {
          "output_type": "stream",
          "name": "stdout",
          "text": [
            "la palabra < Somos > se encuentra en la posición 0\n",
            "la palabra < lo > se encuentra en la posición 1\n",
            "la palabra < que > se encuentra en la posición 2\n",
            "la palabra < hacemos > se encuentra en la posición 3\n",
            "la palabra < de > se encuentra en la posición 4\n",
            "la palabra < forma > se encuentra en la posición 5\n",
            "la palabra < repetida > se encuentra en la posición 6\n",
            "la palabra <  La > se encuentra en la posición 7\n",
            "la palabra < excelencia, > se encuentra en la posición 8\n",
            "la palabra < entonces, > se encuentra en la posición 9\n",
            "la palabra < no > se encuentra en la posición 10\n",
            "la palabra < es > se encuentra en la posición 11\n",
            "la palabra < un > se encuentra en la posición 12\n",
            "la palabra < acto, > se encuentra en la posición 13\n",
            "la palabra < sino > se encuentra en la posición 14\n",
            "la palabra < un > se encuentra en la posición 15\n",
            "la palabra < hábito > se encuentra en la posición 16\n"
          ]
        }
      ]
    },
    {
      "cell_type": "code",
      "source": [
        "#PUNTO 6\n",
        "dic = {'0':'pitalito','1':'Huila'}\n",
        "word = ''\n",
        "for j in dic:\n",
        "  word = word +  dic[j] + '-'\n",
        "print(word[:-1])\n",
        "word[:-1].upper()"
      ],
      "metadata": {
        "colab": {
          "base_uri": "https://localhost:8080/",
          "height": 53
        },
        "id": "Irzcx2E3oa5g",
        "outputId": "2e832025-2c2e-4e04-c07f-e46df5400845"
      },
      "execution_count": null,
      "outputs": [
        {
          "output_type": "stream",
          "name": "stdout",
          "text": [
            "pitalito-Huila\n"
          ]
        },
        {
          "output_type": "execute_result",
          "data": {
            "text/plain": [
              "'PITALITO-HUILA'"
            ],
            "application/vnd.google.colaboratory.intrinsic+json": {
              "type": "string"
            }
          },
          "metadata": {},
          "execution_count": 2
        }
      ]
    },
    {
      "cell_type": "code",
      "source": [
        "# Punto 7\n",
        "lista = ['A', 'B','C','D']\n",
        "list(reversed(lista))"
      ],
      "metadata": {
        "colab": {
          "base_uri": "https://localhost:8080/"
        },
        "id": "Lwf_l_KqpOv6",
        "outputId": "84fcd4b6-e74b-4731-f6b2-f72d0ec56685"
      },
      "execution_count": null,
      "outputs": [
        {
          "output_type": "execute_result",
          "data": {
            "text/plain": [
              "['D', 'C', 'B', 'A']"
            ]
          },
          "metadata": {},
          "execution_count": 101
        }
      ]
    },
    {
      "cell_type": "code",
      "source": [
        "# Punto 8\n",
        "def promedio(lista):\n",
        "  acum  = 0\n",
        "  for x in lista:\n",
        "    acum = acum + x\n",
        "  return acum/len(lista)\n",
        "promedio([1,2,6])"
      ],
      "metadata": {
        "colab": {
          "base_uri": "https://localhost:8080/"
        },
        "id": "iVetotqoqBn0",
        "outputId": "63e57e7d-9d59-4021-aa4f-22ebc22f1979"
      },
      "execution_count": null,
      "outputs": [
        {
          "output_type": "execute_result",
          "data": {
            "text/plain": [
              "3.0"
            ]
          },
          "metadata": {},
          "execution_count": 105
        }
      ]
    }
  ]
}