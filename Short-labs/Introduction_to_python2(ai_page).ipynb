{
  "nbformat": 4,
  "nbformat_minor": 0,
  "metadata": {
    "colab": {
      "provenance": []
    },
    "kernelspec": {
      "name": "python3",
      "display_name": "Python 3"
    },
    "language_info": {
      "name": "python"
    }
  },
  "cells": [
    {
      "cell_type": "code",
      "execution_count": 53,
      "metadata": {
        "id": "gRFuQ11Nw2q9"
      },
      "outputs": [],
      "source": [
        "# Iván Andrés Trujillo Abella\n",
        "# ivantrujillo1229@gmail.com"
      ]
    },
    {
      "cell_type": "code",
      "source": [
        "# Store and manipulate a set of numbers!"
      ],
      "metadata": {
        "id": "NRcTH48bw_TW"
      },
      "execution_count": 54,
      "outputs": []
    },
    {
      "cell_type": "code",
      "source": [
        "data = [1, 4, 6, 1] # storing incomes"
      ],
      "metadata": {
        "id": "Nz_f4CLJxEeX"
      },
      "execution_count": 55,
      "outputs": []
    },
    {
      "cell_type": "code",
      "source": [
        "sum(data)/len(data) # The avarage"
      ],
      "metadata": {
        "colab": {
          "base_uri": "https://localhost:8080/"
        },
        "id": "OqH8Xh70xLAe",
        "outputId": "8e4c2816-1c6a-4ac8-94cb-9b5701496c15"
      },
      "execution_count": 56,
      "outputs": [
        {
          "output_type": "execute_result",
          "data": {
            "text/plain": [
              "3.0"
            ]
          },
          "metadata": {},
          "execution_count": 56
        }
      ]
    },
    {
      "cell_type": "code",
      "source": [
        "# Explain what is variance and write a function that calculate variance\n",
        "# before explain for loop!"
      ],
      "metadata": {
        "id": "UTKIWx6JxQDI"
      },
      "execution_count": 57,
      "outputs": []
    },
    {
      "cell_type": "code",
      "source": [
        "mean = sum(data)/len(data)\n",
        "print(mean)"
      ],
      "metadata": {
        "colab": {
          "base_uri": "https://localhost:8080/"
        },
        "id": "HRNhgbupxb3-",
        "outputId": "ba1deea6-39f2-4d1f-c614-751ae3cc0446"
      },
      "execution_count": 58,
      "outputs": [
        {
          "output_type": "stream",
          "name": "stdout",
          "text": [
            "3.0\n"
          ]
        }
      ]
    },
    {
      "cell_type": "code",
      "source": [
        "for value in data:\n",
        "  if value > mean:\n",
        "    print(value, 'higher than mean')\n",
        "  else:\n",
        "    print(value, 'lower or equal than mean')"
      ],
      "metadata": {
        "colab": {
          "base_uri": "https://localhost:8080/"
        },
        "id": "oLoU3t_Dx94r",
        "outputId": "f5d8fd9c-2ee2-49c2-b15d-290e296cce6a"
      },
      "execution_count": 59,
      "outputs": [
        {
          "output_type": "stream",
          "name": "stdout",
          "text": [
            "1 lower or equal than mean\n",
            "4 higher than mean\n",
            "6 higher than mean\n",
            "1 lower or equal than mean\n"
          ]
        }
      ]
    },
    {
      "cell_type": "code",
      "source": [
        "import statistics as sts"
      ],
      "metadata": {
        "id": "tcnz-QEYypDI"
      },
      "execution_count": 60,
      "outputs": []
    },
    {
      "cell_type": "code",
      "source": [
        "acum = 0\n",
        "for value in data:\n",
        "  acum = acum + (value - mean)**2\n",
        "print(acum/(len(data)-1)) # why minuis one?\n",
        "# See simulation and explain in a practical case whats means!"
      ],
      "metadata": {
        "colab": {
          "base_uri": "https://localhost:8080/"
        },
        "id": "nI4g6LjZyTf0",
        "outputId": "bf584630-e0e6-4566-fe4a-46fa22091a19"
      },
      "execution_count": 63,
      "outputs": [
        {
          "output_type": "stream",
          "name": "stdout",
          "text": [
            "6.0\n"
          ]
        }
      ]
    },
    {
      "cell_type": "code",
      "source": [
        "# Excercise explain and write a function that comput the covariance"
      ],
      "metadata": {
        "id": "6yoOj8KLzlEd"
      },
      "execution_count": 64,
      "outputs": []
    }
  ]
}