{
  "nbformat": 4,
  "nbformat_minor": 0,
  "metadata": {
    "colab": {
      "provenance": []
    },
    "kernelspec": {
      "name": "python3",
      "display_name": "Python 3"
    },
    "language_info": {
      "name": "python"
    }
  },
  "cells": [
    {
      "cell_type": "code",
      "source": [
        "# Iván Andrés Trujillo Abella\n",
        "# ivantrujillo1229@gmail.com"
      ],
      "metadata": {
        "id": "WK2dmhVUIRU7"
      },
      "execution_count": 3,
      "outputs": []
    },
    {
      "cell_type": "code",
      "source": [
        "k = 12\n",
        "acum = 1\n",
        "for x in range(1,k+1):\n",
        "  acum = acum * x\n",
        "print(acum)"
      ],
      "metadata": {
        "colab": {
          "base_uri": "https://localhost:8080/"
        },
        "id": "Rk1dATWDJPy-",
        "outputId": "07bf2589-863f-425b-a403-8f3933e3662d"
      },
      "execution_count": 4,
      "outputs": [
        {
          "output_type": "stream",
          "name": "stdout",
          "text": [
            "479001600\n"
          ]
        }
      ]
    },
    {
      "cell_type": "code",
      "source": [
        "def factorial(n):\n",
        "  acum = 1\n",
        "  for x in range(1,n+1):\n",
        "    acum = acum * x\n",
        "  return acum"
      ],
      "metadata": {
        "id": "s0K2SYFNJjeo"
      },
      "execution_count": 5,
      "outputs": []
    },
    {
      "cell_type": "code",
      "source": [
        "# ayudenme a definir una función que me\n",
        "# permita calcula n C k"
      ],
      "metadata": {
        "id": "PnkOhU4vK6a_"
      },
      "execution_count": 6,
      "outputs": []
    },
    {
      "cell_type": "code",
      "source": [
        "def permutation(n,k):\n",
        "  return factorial(n)/factorial(n-k)\n",
        "def combinatory(n,k):\n",
        "  return permutation(n,k)/factorial(k)"
      ],
      "metadata": {
        "id": "RvzDa9ZWLWn6"
      },
      "execution_count": 10,
      "outputs": []
    },
    {
      "cell_type": "code",
      "source": [
        "permutation(10,4)"
      ],
      "metadata": {
        "colab": {
          "base_uri": "https://localhost:8080/"
        },
        "id": "NSbspCFOLlHB",
        "outputId": "6ab6382b-aef1-43fa-971b-116e2ee59145"
      },
      "execution_count": 8,
      "outputs": [
        {
          "output_type": "execute_result",
          "data": {
            "text/plain": [
              "5040.0"
            ]
          },
          "metadata": {},
          "execution_count": 8
        }
      ]
    },
    {
      "cell_type": "code",
      "source": [
        "combinatory(10,1)  # which it is the value ?"
      ],
      "metadata": {
        "colab": {
          "base_uri": "https://localhost:8080/"
        },
        "id": "FSfyVKgCMOqd",
        "outputId": "3eaebc06-3902-4c7e-9b1b-a168055116c8"
      },
      "execution_count": 9,
      "outputs": [
        {
          "output_type": "execute_result",
          "data": {
            "text/plain": [
              "10.0"
            ]
          },
          "metadata": {},
          "execution_count": 9
        }
      ]
    }
  ]
}