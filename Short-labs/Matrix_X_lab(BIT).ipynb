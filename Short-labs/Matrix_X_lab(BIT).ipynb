{
  "nbformat": 4,
  "nbformat_minor": 0,
  "metadata": {
    "colab": {
      "provenance": []
    },
    "kernelspec": {
      "name": "python3",
      "display_name": "Python 3"
    },
    "language_info": {
      "name": "python"
    }
  },
  "cells": [
    {
      "cell_type": "code",
      "source": [
        "## Iván Andrés Trujillo Abella\n",
        "## ivantrujillo1229@gmail.com"
      ],
      "metadata": {
        "id": "BPnWe_gNxX95"
      },
      "execution_count": null,
      "outputs": []
    },
    {
      "cell_type": "code",
      "source": [
        "def vector(cols: list)-> list:\n",
        "  lista = []\n",
        "  for _ in range(cols):\n",
        "    lista.append('x')\n",
        "  return lista\n",
        "\n",
        "def matrix(rows,cols):\n",
        "  mat = []\n",
        "  for _ in range(rows):\n",
        "    mat.append(vector(cols))\n",
        "  return mat\n",
        "matrix(9,4)\n"
      ],
      "metadata": {
        "colab": {
          "base_uri": "https://localhost:8080/"
        },
        "id": "8dQhaEt6aZhU",
        "outputId": "d9a02a3e-91ea-4ec8-de97-d2ff651233ac"
      },
      "execution_count": 4,
      "outputs": [
        {
          "output_type": "execute_result",
          "data": {
            "text/plain": [
              "[['x', 'x', 'x', 'x'],\n",
              " ['x', 'x', 'x', 'x'],\n",
              " ['x', 'x', 'x', 'x'],\n",
              " ['x', 'x', 'x', 'x'],\n",
              " ['x', 'x', 'x', 'x'],\n",
              " ['x', 'x', 'x', 'x'],\n",
              " ['x', 'x', 'x', 'x'],\n",
              " ['x', 'x', 'x', 'x'],\n",
              " ['x', 'x', 'x', 'x']]"
            ]
          },
          "metadata": {},
          "execution_count": 4
        }
      ]
    }
  ]
}