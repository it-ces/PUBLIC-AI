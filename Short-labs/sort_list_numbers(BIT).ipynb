{
  "nbformat": 4,
  "nbformat_minor": 0,
  "metadata": {
    "colab": {
      "provenance": []
    },
    "kernelspec": {
      "name": "python3",
      "display_name": "Python 3"
    },
    "language_info": {
      "name": "python"
    }
  },
  "cells": [
    {
      "cell_type": "code",
      "metadata": {
        "id": "h6Lte-6wWcsf",
        "colab": {
          "base_uri": "https://localhost:8080/"
        },
        "outputId": "aedcffd5-d693-45b4-ab0e-5f2db7f3e9b8"
      },
      "source": [
        "data = [11,103,22,34,985,11,123,44,123,999]\n",
        "iter = len(data)\n",
        "while iter >0:\n",
        "  for i in range(0,iter-1):\n",
        "    if data[i]> data[i+1]:\n",
        "      data[i+1], data[i] = data[i], data[i+1]\n",
        "  iter = iter -1\n",
        "print(data)\n",
        "\n",
        "data = [11,103,22,34,985,11,123,44,123,999]\n",
        "\n",
        "iter = len(data)\n",
        "for i in range(0,iter-1):\n",
        "  for i in range(0,iter-1):\n",
        "    if data[i]> data[i+1]:\n",
        "      data[i+1], data[i] = data[i], data[i+1]\n",
        "print(data)"
      ],
      "execution_count": null,
      "outputs": [
        {
          "output_type": "stream",
          "name": "stdout",
          "text": [
            "[11, 11, 22, 34, 44, 103, 123, 123, 985, 999]\n",
            "[11, 11, 22, 34, 44, 103, 123, 123, 985, 999]\n"
          ]
        }
      ]
    }
  ]
}