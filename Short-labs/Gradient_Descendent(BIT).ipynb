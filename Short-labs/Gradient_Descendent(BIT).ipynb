{
  "nbformat": 4,
  "nbformat_minor": 0,
  "metadata": {
    "colab": {
      "provenance": []
    },
    "kernelspec": {
      "name": "python3",
      "display_name": "Python 3"
    },
    "language_info": {
      "name": "python"
    }
  },
  "cells": [
    {
      "cell_type": "code",
      "execution_count": null,
      "metadata": {
        "id": "WkrycimGAGpO",
        "colab": {
          "base_uri": "https://localhost:8080/",
          "height": 300
        },
        "outputId": "d3030911-ef99-453b-ec04-d272ce71e886"
      },
      "outputs": [
        {
          "output_type": "stream",
          "name": "stdout",
          "text": [
            "0.75\n"
          ]
        },
        {
          "output_type": "execute_result",
          "data": {
            "text/plain": [
              "[<matplotlib.lines.Line2D at 0x7f5a69edc4d0>]"
            ]
          },
          "metadata": {},
          "execution_count": 2
        },
        {
          "output_type": "display_data",
          "data": {
            "text/plain": [
              "<Figure size 432x288 with 1 Axes>"
            ],
            "image/png": "[encoded data removed]"
          },
          "metadata": {
            "needs_background": "light"
          }
        }
      ],
      "source": [
        "import numpy as np\n",
        "import matplotlib.pyplot as plt\n",
        "def quadratic(a,b,c,x ):\n",
        "  return a*x**2 + b*x + c\n",
        "def Dxquadratic(a,b,x):\n",
        "  return 2*a*x + b\n",
        "def Dxxquadratic(a,x):\n",
        "  return a*x\n",
        "def dx0quadratic(a,b):\n",
        "  return (-b)/(2*a)  # take in mind the left ritgh precedence\n",
        "def evaldx0(a,b,c):\n",
        "  point = dx0quadratic(a,b)\n",
        "  return quadratic(a,b,c,point)\n",
        "\n",
        "\n",
        "# Quadratic4\n",
        "#2x^2 -3x -5\n",
        "a = 2\n",
        "b = -3\n",
        "c = 5\n",
        "yx = [(quadratic(a,b,c,x),x) for x in np.linspace(-10,10,20)]\n",
        "x = [x[0] for x in yx]\n",
        "y = [x[1] for x in yx]\n",
        "print(dx0quadratic(a,b))\n",
        "evaldx0(a,b,c)\n",
        "\n",
        "\n",
        "plt.plot(y,x)"
      ]
    },
    {
      "cell_type": "code",
      "source": [
        "  # GDS   #DELTA X = learning_rate that is how the changes in X\n",
        "  # it is very similar in structure to\n",
        "  def GDS_Quadratic( x0, learning_rate=0.40, iterations_max=8900, error_max = 0.00000000000000001, a=2,b=-3):\n",
        "    gradient = Dxquadratic   # We defined previously\n",
        "    xi = x0\n",
        "    iters = 0\n",
        "    error = 100\n",
        "    while (iters < iterations_max) and (error > error_max):\n",
        "      xj = xi - learning_rate * gradient(a,b, xi)\n",
        "      error = abs(xi-xj)\n",
        "      xi = xj\n",
        "      iters += 1\n",
        "    return xj,iters\n",
        "  GDS_Quadratic(100, learning_rate=0.2)"
      ],
      "metadata": {
        "id": "VSbkykuetGZQ",
        "colab": {
          "base_uri": "https://localhost:8080/"
        },
        "outputId": "daaa2964-27fc-402e-b3a0-f2e50f59a211"
      },
      "execution_count": null,
      "outputs": [
        {
          "output_type": "execute_result",
          "data": {
            "text/plain": [
              "(0.75, 28)"
            ]
          },
          "metadata": {},
          "execution_count": 18
        }
      ]
    },
    {
      "cell_type": "code",
      "source": [
        "# Show how works in 3D data, or a function with two arguments"
      ],
      "metadata": {
        "id": "nAJZCjQ1DxKB"
      },
      "execution_count": null,
      "outputs": []
    }
  ]
}